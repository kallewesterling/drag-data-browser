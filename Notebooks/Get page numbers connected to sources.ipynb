{
 "cells": [
  {
   "cell_type": "code",
   "execution_count": 1,
   "metadata": {},
   "outputs": [],
   "source": [
    "# Connect it all up"
   ]
  },
  {
   "cell_type": "code",
   "execution_count": 124,
   "metadata": {},
   "outputs": [],
   "source": [
    "import json\n",
    "from pathlib import Path\n",
    "\n",
    "def get_current_variables():\n",
    "    try:\n",
    "        return json.loads(Path('data.json').read_text())\n",
    "    except FileNotFoundError:\n",
    "        print('could not load JSON so returning empty')\n",
    "        return {\n",
    "            'not_found': [],\n",
    "            'firstpage_urls': {},\n",
    "            'newspaper_urls': {},\n",
    "            'page_urls': {},\n",
    "            'ambiguous': []\n",
    "        }\n",
    "\n",
    "def get_current_data():\n",
    "    try:\n",
    "        json_data = json.loads(Path('billboard-data.json').read_text())\n",
    "        return {k: v for k, v in json_data.items() if not k == '_investigate'}\n",
    "    except FileNotFoundError:\n",
    "        return {\n",
    "            '_investigate': []\n",
    "        }\n"
   ]
  },
  {
   "cell_type": "code",
   "execution_count": 82,
   "metadata": {},
   "outputs": [],
   "source": [
    "def get_latest_sources():\n",
    "    import pandas as pd\n",
    "    import re\n",
    "\n",
    "    ID_NUMBERS = re.compile(r'\\d{6,10}')\n",
    "    DATES = re.compile(r'(January|February|March|April|May|June|July|August|September|October|November|December) (\\d{1,2}), (\\d{4})')\n",
    "    ENDS_WITH_PAGE = re.compile(r', (\\d{1,2})$')\n",
    "\n",
    "    df = pd.read_csv('https://docs.google.com/spreadsheets/d/e/2PACX-1vT0E0Y7txIa2pfBuusA1cd8X5OVhQ_D0qZC8D40KhTU3xB7McsPR2kuB7GH6ncmNT3nfjEYGbscOPp0/pub?gid=254069133&single=true&output=csv')\n",
    "    sources = [x for x in df['Source clean']]\n",
    "    sources = sorted([x for x in sources if not ID_NUMBERS.search(x) and DATES.search(x) and ENDS_WITH_PAGE.search(x)])\n",
    "    return sources"
   ]
  },
  {
   "cell_type": "code",
   "execution_count": 164,
   "metadata": {},
   "outputs": [
    {
     "name": "stdout",
     "output_type": "stream",
     "text": [
      "Cincinnati Enquirer, December 30, 1937, 6 \t 99598407\n",
      "Cincinnati Enquirer, December 30, 1937, 8 \t 103410794\n"
     ]
    }
   ],
   "source": [
    "page_urls = get_current_variables()['page_urls']\n",
    "billboard = get_current_data()\n",
    "\n",
    "for line in get_latest_sources():\n",
    "    line = str(line)\n",
    "    if DATES.search(line) and ENDS_WITH_PAGE.search(line):\n",
    "        found = None\n",
    "        paper = DATES.split(line)[0][:-2]\n",
    "        paper = re.sub(' [A-Z][A-Z] ', ' ', paper)\n",
    "        date = DATES.search(line).groups()\n",
    "        page = ENDS_WITH_PAGE.search(line).groups()[0]\n",
    "        if paper.lower() == 'billboard':\n",
    "            found = billboard.get(date[2], {}).get(date[0], {}).get(date[1], {}).get(page, None)\n",
    "            \n",
    "            if found:\n",
    "                found = [x for x in found.split('/') if x and re.search('^[0-9]*$', x)][0]\n",
    "        else:\n",
    "            if page_urls.get(paper):\n",
    "                date_as_string = f'{date[2]}-{date[0]}-{date[1]}'\n",
    "\n",
    "                if date_as_string in page_urls[paper]:\n",
    "                    if page_urls[paper][date_as_string].get(page):\n",
    "                        found = [x for x in page_urls.get(paper).get(date_as_string).get(page).split('/') if x][-1]\n",
    "\n",
    "        if found:\n",
    "            print(line, '\\t', found)"
   ]
  },
  {
   "cell_type": "code",
   "execution_count": null,
   "metadata": {},
   "outputs": [],
   "source": []
  },
  {
   "cell_type": "code",
   "execution_count": null,
   "metadata": {},
   "outputs": [],
   "source": []
  },
  {
   "cell_type": "code",
   "execution_count": null,
   "metadata": {},
   "outputs": [],
   "source": []
  },
  {
   "cell_type": "code",
   "execution_count": null,
   "metadata": {},
   "outputs": [],
   "source": []
  },
  {
   "cell_type": "code",
   "execution_count": null,
   "metadata": {},
   "outputs": [],
   "source": []
  },
  {
   "cell_type": "code",
   "execution_count": null,
   "metadata": {},
   "outputs": [],
   "source": []
  },
  {
   "cell_type": "code",
   "execution_count": null,
   "metadata": {},
   "outputs": [],
   "source": []
  },
  {
   "cell_type": "code",
   "execution_count": null,
   "metadata": {},
   "outputs": [],
   "source": []
  },
  {
   "cell_type": "code",
   "execution_count": null,
   "metadata": {},
   "outputs": [],
   "source": []
  },
  {
   "cell_type": "code",
   "execution_count": null,
   "metadata": {},
   "outputs": [],
   "source": []
  },
  {
   "cell_type": "code",
   "execution_count": null,
   "metadata": {},
   "outputs": [],
   "source": []
  }
 ],
 "metadata": {
  "hide_input": false,
  "kernelspec": {
   "display_name": "Python 3",
   "language": "python",
   "name": "python3"
  },
  "language_info": {
   "codemirror_mode": {
    "name": "ipython",
    "version": 3
   },
   "file_extension": ".py",
   "mimetype": "text/x-python",
   "name": "python",
   "nbconvert_exporter": "python",
   "pygments_lexer": "ipython3",
   "version": "3.8.5"
  },
  "toc": {
   "base_numbering": 1,
   "nav_menu": {},
   "number_sections": true,
   "sideBar": true,
   "skip_h1_title": false,
   "title_cell": "Table of Contents",
   "title_sidebar": "Contents",
   "toc_cell": false,
   "toc_position": {},
   "toc_section_display": true,
   "toc_window_display": false
  }
 },
 "nbformat": 4,
 "nbformat_minor": 4
}
