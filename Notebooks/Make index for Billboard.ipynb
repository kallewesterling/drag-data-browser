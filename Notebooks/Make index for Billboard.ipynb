{
 "cells": [
  {
   "cell_type": "code",
   "execution_count": 1,
   "metadata": {},
   "outputs": [],
   "source": [
    "from selenium import webdriver\n",
    "from selenium.webdriver.support.ui import Select\n",
    "import json, time\n",
    "from slugify import slugify\n",
    "from pathlib import Path"
   ]
  },
  {
   "cell_type": "code",
   "execution_count": null,
   "metadata": {},
   "outputs": [],
   "source": []
  },
  {
   "cell_type": "code",
   "execution_count": 2,
   "metadata": {},
   "outputs": [],
   "source": [
    "class Issue():\n",
    "    year = 0\n",
    "    month = ''\n",
    "    issue = ''\n",
    "    pages = {}\n",
    "    \n",
    "    def __init__(self, year, month, issue, pages):\n",
    "        self.year = year\n",
    "        self.month = month\n",
    "        self.issue = issue\n",
    "        self.pages = pages\n",
    "    \n",
    "    def as_dict(self):\n",
    "        return {\n",
    "            'year': self.year,\n",
    "            'month': self.month,\n",
    "            'issue': self.issue,\n",
    "            'pages': self.pages\n",
    "        }\n",
    "    \n",
    "    def get_slug(self):\n",
    "        return slugify(issue)\n",
    "    \n",
    "    def get_path(self):\n",
    "        return Path(f'billboards/{self.year}/{self.month}/{self.get_slug()}.json')\n",
    "    \n",
    "    def save(self):\n",
    "        data = self.as_dict()\n",
    "        json_data = json.dumps(data)\n",
    "        if not Path(self.get_path()).parent.exists():\n",
    "            Path(self.get_path()).parent.mkdir(parents=True)\n",
    "        Path(self.get_path()).write_text(json_data)\n",
    "        \n",
    "    def read(self):\n",
    "        return json.loads(Path(self.get_path()).read_text())\n",
    "    \n",
    "    def exists(self):\n",
    "        return self.get_path().exists()"
   ]
  },
  {
   "cell_type": "code",
   "execution_count": null,
   "metadata": {},
   "outputs": [],
   "source": []
  },
  {
   "cell_type": "code",
   "execution_count": null,
   "metadata": {},
   "outputs": [],
   "source": []
  },
  {
   "cell_type": "code",
   "execution_count": null,
   "metadata": {},
   "outputs": [],
   "source": []
  },
  {
   "cell_type": "code",
   "execution_count": 3,
   "metadata": {},
   "outputs": [],
   "source": [
    "try:\n",
    "    b\n",
    "except:\n",
    "    b = webdriver.Firefox()"
   ]
  },
  {
   "cell_type": "code",
   "execution_count": null,
   "metadata": {},
   "outputs": [],
   "source": []
  },
  {
   "cell_type": "code",
   "execution_count": 4,
   "metadata": {},
   "outputs": [],
   "source": [
    "b.get('https://www-proquest-com.proxy.library.nyu.edu/eima/publication/686483?decadeSelected=1980%20-%201989&yearSelected=1933&monthSelected=06&issueNameSelected=01933Y06Y24%2423Jun%2B24%2C%2B1933%243b%2B%2BVol.%2B45%2B%242825%2429')"
   ]
  },
  {
   "cell_type": "code",
   "execution_count": 5,
   "metadata": {},
   "outputs": [
    {
     "name": "stdout",
     "output_type": "stream",
     "text": [
      "login please\n"
     ]
    },
    {
     "data": {
      "text/plain": [
       "''"
      ]
     },
     "execution_count": 5,
     "metadata": {},
     "output_type": "execute_result"
    }
   ],
   "source": [
    "input('login please')"
   ]
  },
  {
   "cell_type": "code",
   "execution_count": null,
   "metadata": {},
   "outputs": [],
   "source": []
  },
  {
   "cell_type": "code",
   "execution_count": null,
   "metadata": {},
   "outputs": [],
   "source": []
  },
  {
   "cell_type": "code",
   "execution_count": null,
   "metadata": {},
   "outputs": [],
   "source": []
  },
  {
   "cell_type": "code",
   "execution_count": 10,
   "metadata": {},
   "outputs": [],
   "source": [
    "b.get('https://www-proquest-com.proxy.library.nyu.edu/eima/publication/686483?decadeSelected=1980%20-%201989&yearSelected=1933&monthSelected=06&issueNameSelected=01933Y06Y24%2423Jun%2B24%2C%2B1933%243b%2B%2BVol.%2B45%2B%242825%2429')"
   ]
  },
  {
   "cell_type": "code",
   "execution_count": null,
   "metadata": {},
   "outputs": [
    {
     "name": "stdout",
     "output_type": "stream",
     "text": [
      "\n",
      "--> January 1934 - Jan 6, 1934; Vol. 46 (1)\n",
      "------> already exists\n",
      "\n",
      "--> January 1934 - Jan 13, 1934; Vol. 46 (2)\n",
      "------> already exists\n",
      "\n",
      "--> January 1934 - Jan 20, 1934; Vol. 46 (3)\n",
      "------> already exists\n",
      "\n",
      "--> January 1934 - Jan 27, 1934; Vol. 46 (4)\n",
      "------> already exists\n",
      "\n",
      "--> February 1934 - Feb 10, 1934; Vol. 46 (6)\n",
      "------> already exists\n",
      "\n",
      "--> February 1934 - Feb 24, 1934; Vol. 46 (8)\n",
      "------> already exists\n",
      "\n",
      "--> March 1934 - Mar 3, 1934; Vol. 46 (9)\n",
      "------> already exists\n",
      "\n",
      "--> March 1934 - Mar 10, 1934; Vol. 46 (10)\n",
      "------> already exists\n",
      "\n",
      "--> March 1934 - Mar 17, 1934; Vol. 46 (11)\n",
      "------> already exists\n",
      "\n",
      "--> April 1934 - Apr 7, 1934; Vol. 46 (14)\n",
      "------> already exists\n",
      "\n",
      "--> April 1934 - Apr 14, 1934; Vol. 46 (15)\n",
      "------> already exists\n",
      "\n",
      "--> April 1934 - Apr 21, 1934; Vol. 46 (16)\n",
      "------> already exists\n",
      "\n",
      "--> May 1934 - May 12, 1934; Vol. 46 (19)\n",
      "------> already exists\n",
      "\n",
      "--> June 1934 - Jun 16, 1934; Vol. 46 (24)\n",
      "------> already exists\n",
      "\n",
      "--> June 1934 - Jun 23, 1934; Vol. 46 (25)\n",
      "------> already exists\n",
      "\n",
      "--> June 1934 - Jun 30, 1934; Vol. 46 (26)\n",
      "------> already exists\n",
      "\n",
      "--> July 1934 - Jul 14, 1934; Vol. 46 (28)\n",
      "------> already exists\n",
      "\n",
      "--> July 1934 - Jul 21, 1934; Vol. 46 (29)\n",
      "------> already exists\n",
      "\n",
      "--> July 1934 - Jul 28, 1934; Vol. 46 (30)\n",
      "------> already exists\n",
      "\n",
      "--> August 1934 - Aug 4, 1934; Vol. 46 (31)\n",
      "------> already exists\n",
      "\n",
      "--> August 1934 - Aug 11, 1934; Vol. 46 (32)\n",
      "------> already exists\n",
      "\n",
      "--> August 1934 - Aug 18, 1934; Vol. 46 (33)\n",
      "------> already exists\n",
      "\n",
      "--> August 1934 - Aug 25, 1934; Vol. 46 (34)\n",
      "------> already exists\n",
      "\n",
      "--> September 1934 - Sep 1, 1934; Vol. 46 (35)\n",
      "------> already exists\n",
      "\n",
      "--> September 1934 - Sep 15, 1934; Vol. 46 (37)\n",
      "------> already exists\n",
      "\n",
      "--> September 1934 - Sep 22, 1934; Vol. 46 (38)\n",
      "------> saved\n",
      "\n",
      "--> October 1934 - Oct 6, 1934; Vol. 46 (40)\n",
      "------> already exists\n",
      "\n",
      "--> October 1934 - Oct 13, 1934; Vol. 46 (41)\n",
      "------> already exists\n",
      "\n",
      "--> October 1934 - Oct 20, 1934; Vol. 46 (42)\n",
      "------> already exists\n",
      "\n",
      "--> October 1934 - Oct 27, 1934; Vol. 46 (43)\n",
      "------> already exists\n",
      "\n",
      "--> November 1934 - Nov 3, 1934; Vol. 46 (44)\n",
      "------> already exists\n",
      "\n",
      "--> November 1934 - Nov 17, 1934; Vol. 46 (46)\n",
      "------> already exists\n",
      "\n",
      "--> November 1934 - Nov 24, 1934; Vol. 49 (47)\n",
      "------> already exists\n",
      "\n",
      "--> December 1934 - Dec 1, 1934; Vol. 44 (48)\n",
      "------> error occurred, issue not saved\n",
      "\n",
      "--> December 1934 - Dec 15, 1934; Vol. 46 (50)\n",
      "------> already exists\n",
      "\n",
      "--> December 1934 - Dec 22, 1934; Vol. 46 (51)\n",
      "------> already exists\n",
      "\n",
      "--> December 1934 - Dec 29, 1934; Vol. 46 (52)\n",
      "------> already exists\n",
      "\n",
      "--> January 1935 - Jan 5, 1935; Vol. 47 (1)\n",
      "------> already exists\n",
      "\n",
      "--> January 1935 - Jan 12, 1935; Vol. 47 (2)\n"
     ]
    }
   ],
   "source": [
    "for year in [1934, 1935, 1936, 1937, 1938, 1939, 1930, 1931, 1932, 1933, 1940]:\n",
    "    year_select = Select(b.find_element_by_id('yearSelected'))\n",
    "    year_elements = {int(x.text): x for x in year_select.options if int(x.text) >= 1930 and int(x.text) <= 1940}\n",
    "    year_select.select_by_visible_text(year_elements[year].text)\n",
    "    time.sleep(2)\n",
    "    \n",
    "    for month in ['January', 'February', 'March', 'April', 'May', 'June', 'July', 'August', 'September', 'October', 'November', 'December']:\n",
    "        month_select = Select(b.find_element_by_id('monthSelected'))\n",
    "        month_options = [x for x in month_select.options]\n",
    "        month_options.reverse()\n",
    "        month_elements = {x.text: x for x in month_options}\n",
    "\n",
    "        month_select.select_by_visible_text(month_elements[month].text)\n",
    "        time.sleep(2)\n",
    "        \n",
    "        issue_select = Select(b.find_element_by_id('issueSelected'))\n",
    "        issue_options = [x for x in issue_select.options]\n",
    "        issue_options.reverse()\n",
    "        issue_elements = {x.text: x for x in issue_options}\n",
    "        \n",
    "        year_url = b.current_url\n",
    "        for issue in issue_elements:\n",
    "            print()\n",
    "            print(f'--> {month} {year} - {issue}')\n",
    "            issue_data = Issue(year=year, month=month, issue=issue, pages={})\n",
    "            \n",
    "            if issue_data.exists():\n",
    "                print(f'------> already exists')\n",
    "                continue\n",
    "            \n",
    "            issue_select = Select(b.find_element_by_id('issueSelected'))\n",
    "            issue_select.select_by_visible_text(issue)\n",
    "            time.sleep(3)\n",
    "            b.find_element_by_css_selector('input[value=\"View issue\"]').click()\n",
    "            time.sleep(5)\n",
    "            \n",
    "            try:\n",
    "                b.find_element_by_css_selector('a[title=\"First page\"]').click()\n",
    "                time.sleep(5)\n",
    "            except:\n",
    "                time.sleep(3)\n",
    "                try:\n",
    "                    b.find_element_by_css_selector('a[title=\"First page\"]').click()\n",
    "                    time.sleep(5)\n",
    "                except:\n",
    "                    pass\n",
    "\n",
    "            has_next = True\n",
    "\n",
    "            page_info = {}\n",
    "\n",
    "            while has_next:\n",
    "                # get results\n",
    "                all_results = b.find_elements_by_class_name('resultHeader')\n",
    "                unique_pages = {x.find_element_by_class_name('titleAuthorETC').text: x.find_element_by_tag_name('a').get_attribute('href') for x in all_results}\n",
    "\n",
    "                page_info = {**page_info, **unique_pages}\n",
    "\n",
    "                try:\n",
    "                    if b.find_element_by_css_selector('a[title=\"Next page\"]'):\n",
    "                        has_next = True\n",
    "                    else:\n",
    "                        has_next = False\n",
    "                except:\n",
    "                    has_next = False\n",
    "\n",
    "                if has_next:\n",
    "                    b.find_element_by_css_selector('a[title=\"Next page\"]').click()\n",
    "                    time.sleep(10)\n",
    "                    \n",
    "            issue_data.pages = page_info\n",
    "            if issue_data.pages:\n",
    "                issue_data.save()\n",
    "                print(f'------> saved')\n",
    "            else:\n",
    "                print(f'------> error occurred, issue not saved')\n",
    "            time.sleep(4)"
   ]
  },
  {
   "cell_type": "code",
   "execution_count": null,
   "metadata": {},
   "outputs": [],
   "source": []
  },
  {
   "cell_type": "code",
   "execution_count": null,
   "metadata": {},
   "outputs": [],
   "source": []
  },
  {
   "cell_type": "code",
   "execution_count": null,
   "metadata": {},
   "outputs": [],
   "source": []
  },
  {
   "cell_type": "code",
   "execution_count": null,
   "metadata": {},
   "outputs": [],
   "source": []
  },
  {
   "cell_type": "code",
   "execution_count": null,
   "metadata": {},
   "outputs": [],
   "source": []
  },
  {
   "cell_type": "code",
   "execution_count": null,
   "metadata": {},
   "outputs": [],
   "source": []
  },
  {
   "cell_type": "code",
   "execution_count": null,
   "metadata": {},
   "outputs": [],
   "source": []
  },
  {
   "cell_type": "code",
   "execution_count": null,
   "metadata": {},
   "outputs": [],
   "source": []
  },
  {
   "cell_type": "code",
   "execution_count": null,
   "metadata": {},
   "outputs": [],
   "source": []
  },
  {
   "cell_type": "code",
   "execution_count": null,
   "metadata": {},
   "outputs": [],
   "source": []
  }
 ],
 "metadata": {
  "hide_input": false,
  "kernelspec": {
   "display_name": "Python 3",
   "language": "python",
   "name": "python3"
  },
  "language_info": {
   "codemirror_mode": {
    "name": "ipython",
    "version": 3
   },
   "file_extension": ".py",
   "mimetype": "text/x-python",
   "name": "python",
   "nbconvert_exporter": "python",
   "pygments_lexer": "ipython3",
   "version": "3.8.5"
  },
  "toc": {
   "base_numbering": 1,
   "nav_menu": {},
   "number_sections": true,
   "sideBar": true,
   "skip_h1_title": false,
   "title_cell": "Table of Contents",
   "title_sidebar": "Contents",
   "toc_cell": false,
   "toc_position": {},
   "toc_section_display": true,
   "toc_window_display": false
  }
 },
 "nbformat": 4,
 "nbformat_minor": 4
}
