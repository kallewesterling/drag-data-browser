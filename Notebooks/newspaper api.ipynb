{
 "cells": [
  {
   "cell_type": "code",
   "execution_count": 4,
   "metadata": {},
   "outputs": [],
   "source": [
    "import requests\n",
    "from tqdm.notebook import tqdm"
   ]
  },
  {
   "cell_type": "code",
   "execution_count": 5,
   "metadata": {},
   "outputs": [],
   "source": [
    "headers = {\n",
    "    'user-agent': 'Mozilla/5.0 (Macintosh; Intel Mac OS X 10_15_7) AppleWebKit/537.36 (KHTML, like Gecko) Chrome/93.0.4577.63 Safari/537.36'\n",
    "}"
   ]
  },
  {
   "cell_type": "code",
   "execution_count": 6,
   "metadata": {},
   "outputs": [],
   "source": [
    "#from selenium import webdriver"
   ]
  },
  {
   "cell_type": "code",
   "execution_count": 7,
   "metadata": {},
   "outputs": [],
   "source": [
    "#d = webdriver.Firefox()"
   ]
  },
  {
   "cell_type": "code",
   "execution_count": 8,
   "metadata": {},
   "outputs": [],
   "source": [
    "#d.get('https://www.newspapers.com/api/browse/1//us/new-york/brooklyn/times-union_18390/1931/01/18/main-edition')"
   ]
  },
  {
   "cell_type": "code",
   "execution_count": 16,
   "metadata": {},
   "outputs": [],
   "source": [
    "#d.get_cookies()"
   ]
  },
  {
   "cell_type": "code",
   "execution_count": 17,
   "metadata": {},
   "outputs": [],
   "source": [
    "api_root = 'https://www.newspapers.com/api/browse/1/us/'"
   ]
  },
  {
   "cell_type": "code",
   "execution_count": 18,
   "metadata": {},
   "outputs": [],
   "source": [
    "import json\n",
    "from pathlib import Path"
   ]
  },
  {
   "cell_type": "code",
   "execution_count": 19,
   "metadata": {},
   "outputs": [],
   "source": [
    "if not Path('newspapers-api/root.json').exists():\n",
    "    r = requests.get(f'{api_root}', headers=headers)\n",
    "    root_json = json.loads(r.text)\n",
    "    if not Path('newspapers-api').exists():\n",
    "        Path('newspapers-api').mkdir(parents=True)\n",
    "\n",
    "    Path('newspapers-api/root.json').write_text(r.text)\n",
    "    \n",
    "root_json = json.loads(Path('newspapers-api/root.json').read_text())\n"
   ]
  },
  {
   "cell_type": "code",
   "execution_count": null,
   "metadata": {},
   "outputs": [],
   "source": []
  },
  {
   "cell_type": "code",
   "execution_count": 21,
   "metadata": {},
   "outputs": [
    {
     "name": "stdout",
     "output_type": "stream",
     "text": [
      "---> downloading puerto-rico\n",
      "---> downloading rhode-island\n",
      "---> downloading south-carolina\n",
      "---> downloading south-dakota\n",
      "---> downloading tennessee\n",
      "---> downloading texas\n",
      "---> downloading utah\n",
      "---> downloading vermont\n",
      "---> downloading virginia\n",
      "---> downloading washington\n",
      "---> downloading west-virginia\n",
      "---> downloading wisconsin\n",
      "---> downloading wyoming\n"
     ]
    }
   ],
   "source": [
    "# download all states\n",
    "\n",
    "states = [x.get('name') for x in root_json.get('children')]\n",
    "for state in states:\n",
    "    if not Path(f'newspapers-api/{state}').exists():\n",
    "        Path(f'newspapers-api/{state}').mkdir(parents=True)\n",
    "        \n",
    "    if not Path(f'newspapers-api/{state}/root.json').exists():\n",
    "        print(f'---> downloading {state}')\n",
    "        if r.status_code == 200:\n",
    "            r = requests.get(f'{api_root}{state}/', headers=headers)\n",
    "        else:\n",
    "            exit()\n",
    "        Path(f'newspapers-api/{state}/root.json').write_text(r.text)"
   ]
  },
  {
   "cell_type": "code",
   "execution_count": 33,
   "metadata": {},
   "outputs": [],
   "source": [
    "states = [\n",
    "    'new-york',\n",
    "    'new-jersey',\n",
    "    'california',\n",
    "    'michigan',\n",
    "    'indiana',\n",
    "    'ohio',\n",
    "    'pennsylvania',\n",
    "    'massachusetts',\n",
    "    'kansas',\n",
    "    'texas',\n",
    "    'kentucky'\n",
    "]"
   ]
  },
  {
   "cell_type": "code",
   "execution_count": 34,
   "metadata": {},
   "outputs": [
    {
     "data": {
      "application/vnd.jupyter.widget-view+json": {
       "model_id": "c7343e1cce114eae945ddb39898e1378",
       "version_major": 2,
       "version_minor": 0
      },
      "text/plain": [
       "HBox(children=(HTML(value='new-york'), FloatProgress(value=0.0, max=49.0), HTML(value='')))"
      ]
     },
     "metadata": {},
     "output_type": "display_data"
    },
    {
     "name": "stdout",
     "output_type": "stream",
     "text": [
      "\n"
     ]
    },
    {
     "data": {
      "application/vnd.jupyter.widget-view+json": {
       "model_id": "0ba5b757158542519987e3d55a27f2ee",
       "version_major": 2,
       "version_minor": 0
      },
      "text/plain": [
       "HBox(children=(HTML(value='new-jersey'), FloatProgress(value=0.0, max=86.0), HTML(value='')))"
      ]
     },
     "metadata": {},
     "output_type": "display_data"
    },
    {
     "name": "stdout",
     "output_type": "stream",
     "text": [
      "\n"
     ]
    },
    {
     "data": {
      "application/vnd.jupyter.widget-view+json": {
       "model_id": "da3aabbe49c14075a098af632cb0bc23",
       "version_major": 2,
       "version_minor": 0
      },
      "text/plain": [
       "HBox(children=(HTML(value='california'), FloatProgress(value=0.0, max=173.0), HTML(value='')))"
      ]
     },
     "metadata": {},
     "output_type": "display_data"
    },
    {
     "name": "stdout",
     "output_type": "stream",
     "text": [
      "\n"
     ]
    },
    {
     "data": {
      "application/vnd.jupyter.widget-view+json": {
       "model_id": "d513642c9d0a47fe9ca3c73e11e98bba",
       "version_major": 2,
       "version_minor": 0
      },
      "text/plain": [
       "HBox(children=(HTML(value='michigan'), FloatProgress(value=0.0, max=55.0), HTML(value='')))"
      ]
     },
     "metadata": {},
     "output_type": "display_data"
    },
    {
     "name": "stdout",
     "output_type": "stream",
     "text": [
      "\n"
     ]
    },
    {
     "data": {
      "application/vnd.jupyter.widget-view+json": {
       "model_id": "ee22917bdc8c4f58bc90f327a232c569",
       "version_major": 2,
       "version_minor": 0
      },
      "text/plain": [
       "HBox(children=(HTML(value='indiana'), FloatProgress(value=0.0, max=72.0), HTML(value='')))"
      ]
     },
     "metadata": {},
     "output_type": "display_data"
    },
    {
     "name": "stdout",
     "output_type": "stream",
     "text": [
      "\n"
     ]
    },
    {
     "data": {
      "application/vnd.jupyter.widget-view+json": {
       "model_id": "f93c0c062a194f8c8ce181131fdeb667",
       "version_major": 2,
       "version_minor": 0
      },
      "text/plain": [
       "HBox(children=(HTML(value='ohio'), FloatProgress(value=0.0, max=103.0), HTML(value='')))"
      ]
     },
     "metadata": {},
     "output_type": "display_data"
    },
    {
     "name": "stdout",
     "output_type": "stream",
     "text": [
      "\n"
     ]
    },
    {
     "data": {
      "application/vnd.jupyter.widget-view+json": {
       "model_id": "dd8d92ab91f34b33b04c4a48548c66e3",
       "version_major": 2,
       "version_minor": 0
      },
      "text/plain": [
       "HBox(children=(HTML(value='pennsylvania'), FloatProgress(value=0.0, max=147.0), HTML(value='')))"
      ]
     },
     "metadata": {},
     "output_type": "display_data"
    },
    {
     "name": "stdout",
     "output_type": "stream",
     "text": [
      "\n"
     ]
    },
    {
     "data": {
      "application/vnd.jupyter.widget-view+json": {
       "model_id": "5d3ab8302b784934b0d5beee3b529945",
       "version_major": 2,
       "version_minor": 0
      },
      "text/plain": [
       "HBox(children=(HTML(value='massachusetts'), FloatProgress(value=0.0, max=7.0), HTML(value='')))"
      ]
     },
     "metadata": {},
     "output_type": "display_data"
    },
    {
     "name": "stdout",
     "output_type": "stream",
     "text": [
      "\n"
     ]
    },
    {
     "data": {
      "application/vnd.jupyter.widget-view+json": {
       "model_id": "4e8956a89fd7456fb2df33fa3f386b56",
       "version_major": 2,
       "version_minor": 0
      },
      "text/plain": [
       "HBox(children=(HTML(value='kansas'), FloatProgress(value=0.0, max=816.0), HTML(value='')))"
      ]
     },
     "metadata": {},
     "output_type": "display_data"
    },
    {
     "name": "stdout",
     "output_type": "stream",
     "text": [
      "\n"
     ]
    },
    {
     "data": {
      "application/vnd.jupyter.widget-view+json": {
       "model_id": "7303127722ef4888908d86cc827a3fdd",
       "version_major": 2,
       "version_minor": 0
      },
      "text/plain": [
       "HBox(children=(HTML(value='texas'), FloatProgress(value=0.0, max=104.0), HTML(value='')))"
      ]
     },
     "metadata": {},
     "output_type": "display_data"
    },
    {
     "name": "stdout",
     "output_type": "stream",
     "text": [
      "\n"
     ]
    },
    {
     "data": {
      "application/vnd.jupyter.widget-view+json": {
       "model_id": "ca4fe4591c7b4a96854a845a5c567934",
       "version_major": 2,
       "version_minor": 0
      },
      "text/plain": [
       "HBox(children=(HTML(value='kentucky'), FloatProgress(value=0.0, max=66.0), HTML(value='')))"
      ]
     },
     "metadata": {},
     "output_type": "display_data"
    },
    {
     "name": "stdout",
     "output_type": "stream",
     "text": [
      "\n"
     ]
    },
    {
     "data": {
      "application/vnd.jupyter.widget-view+json": {
       "model_id": "63a7e4e9def1474caf4ab5f4f8125257",
       "version_major": 2,
       "version_minor": 0
      },
      "text/plain": [
       "HBox(children=(HTML(value='hello'), FloatProgress(value=0.0, max=11.0), HTML(value='')))"
      ]
     },
     "metadata": {},
     "output_type": "display_data"
    },
    {
     "data": {
      "application/vnd.jupyter.widget-view+json": {
       "model_id": "",
       "version_major": 2,
       "version_minor": 0
      },
      "text/plain": [
       "HBox(children=(HTML(value=''), FloatProgress(value=0.0, max=49.0), HTML(value='')))"
      ]
     },
     "metadata": {},
     "output_type": "display_data"
    },
    {
     "data": {
      "application/vnd.jupyter.widget-view+json": {
       "model_id": "",
       "version_major": 2,
       "version_minor": 0
      },
      "text/plain": [
       "HBox(children=(HTML(value=''), FloatProgress(value=0.0, max=1.0), HTML(value='')))"
      ]
     },
     "metadata": {},
     "output_type": "display_data"
    },
    {
     "data": {
      "application/vnd.jupyter.widget-view+json": {
       "model_id": "",
       "version_major": 2,
       "version_minor": 0
      },
      "text/plain": [
       "HBox(children=(HTML(value=''), FloatProgress(value=0.0, max=2.0), HTML(value='')))"
      ]
     },
     "metadata": {},
     "output_type": "display_data"
    },
    {
     "data": {
      "application/vnd.jupyter.widget-view+json": {
       "model_id": "",
       "version_major": 2,
       "version_minor": 0
      },
      "text/plain": [
       "HBox(children=(HTML(value=''), FloatProgress(value=0.0, max=1.0), HTML(value='')))"
      ]
     },
     "metadata": {},
     "output_type": "display_data"
    },
    {
     "data": {
      "application/vnd.jupyter.widget-view+json": {
       "model_id": "",
       "version_major": 2,
       "version_minor": 0
      },
      "text/plain": [
       "HBox(children=(HTML(value=''), FloatProgress(value=0.0, max=1.0), HTML(value='')))"
      ]
     },
     "metadata": {},
     "output_type": "display_data"
    },
    {
     "data": {
      "application/vnd.jupyter.widget-view+json": {
       "model_id": "",
       "version_major": 2,
       "version_minor": 0
      },
      "text/plain": [
       "HBox(children=(HTML(value=''), FloatProgress(value=0.0, max=5.0), HTML(value='')))"
      ]
     },
     "metadata": {},
     "output_type": "display_data"
    },
    {
     "data": {
      "application/vnd.jupyter.widget-view+json": {
       "model_id": "",
       "version_major": 2,
       "version_minor": 0
      },
      "text/plain": [
       "HBox(children=(HTML(value=''), FloatProgress(value=0.0, max=42.0), HTML(value='')))"
      ]
     },
     "metadata": {},
     "output_type": "display_data"
    },
    {
     "data": {
      "application/vnd.jupyter.widget-view+json": {
       "model_id": "",
       "version_major": 2,
       "version_minor": 0
      },
      "text/plain": [
       "HBox(children=(HTML(value=''), FloatProgress(value=0.0, max=51.0), HTML(value='')))"
      ]
     },
     "metadata": {},
     "output_type": "display_data"
    },
    {
     "data": {
      "application/vnd.jupyter.widget-view+json": {
       "model_id": "",
       "version_major": 2,
       "version_minor": 0
      },
      "text/plain": [
       "HBox(children=(HTML(value=''), FloatProgress(value=0.0, max=1.0), HTML(value='')))"
      ]
     },
     "metadata": {},
     "output_type": "display_data"
    },
    {
     "data": {
      "application/vnd.jupyter.widget-view+json": {
       "model_id": "",
       "version_major": 2,
       "version_minor": 0
      },
      "text/plain": [
       "HBox(children=(HTML(value=''), FloatProgress(value=0.0, max=1.0), HTML(value='')))"
      ]
     },
     "metadata": {},
     "output_type": "display_data"
    },
    {
     "data": {
      "application/vnd.jupyter.widget-view+json": {
       "model_id": "",
       "version_major": 2,
       "version_minor": 0
      },
      "text/plain": [
       "HBox(children=(HTML(value=''), FloatProgress(value=0.0, max=1.0), HTML(value='')))"
      ]
     },
     "metadata": {},
     "output_type": "display_data"
    },
    {
     "data": {
      "application/vnd.jupyter.widget-view+json": {
       "model_id": "",
       "version_major": 2,
       "version_minor": 0
      },
      "text/plain": [
       "HBox(children=(HTML(value=''), FloatProgress(value=0.0, max=2.0), HTML(value='')))"
      ]
     },
     "metadata": {},
     "output_type": "display_data"
    },
    {
     "data": {
      "application/vnd.jupyter.widget-view+json": {
       "model_id": "",
       "version_major": 2,
       "version_minor": 0
      },
      "text/plain": [
       "HBox(children=(HTML(value=''), FloatProgress(value=0.0, max=2.0), HTML(value='')))"
      ]
     },
     "metadata": {},
     "output_type": "display_data"
    },
    {
     "data": {
      "application/vnd.jupyter.widget-view+json": {
       "model_id": "",
       "version_major": 2,
       "version_minor": 0
      },
      "text/plain": [
       "HBox(children=(HTML(value=''), FloatProgress(value=0.0, max=3.0), HTML(value='')))"
      ]
     },
     "metadata": {},
     "output_type": "display_data"
    },
    {
     "data": {
      "application/vnd.jupyter.widget-view+json": {
       "model_id": "",
       "version_major": 2,
       "version_minor": 0
      },
      "text/plain": [
       "HBox(children=(HTML(value=''), FloatProgress(value=0.0, max=2.0), HTML(value='')))"
      ]
     },
     "metadata": {},
     "output_type": "display_data"
    },
    {
     "data": {
      "application/vnd.jupyter.widget-view+json": {
       "model_id": "",
       "version_major": 2,
       "version_minor": 0
      },
      "text/plain": [
       "HBox(children=(HTML(value=''), FloatProgress(value=0.0, max=1.0), HTML(value='')))"
      ]
     },
     "metadata": {},
     "output_type": "display_data"
    },
    {
     "data": {
      "application/vnd.jupyter.widget-view+json": {
       "model_id": "",
       "version_major": 2,
       "version_minor": 0
      },
      "text/plain": [
       "HBox(children=(HTML(value=''), FloatProgress(value=0.0, max=1.0), HTML(value='')))"
      ]
     },
     "metadata": {},
     "output_type": "display_data"
    },
    {
     "data": {
      "application/vnd.jupyter.widget-view+json": {
       "model_id": "",
       "version_major": 2,
       "version_minor": 0
      },
      "text/plain": [
       "HBox(children=(HTML(value=''), FloatProgress(value=0.0, max=1.0), HTML(value='')))"
      ]
     },
     "metadata": {},
     "output_type": "display_data"
    },
    {
     "data": {
      "application/vnd.jupyter.widget-view+json": {
       "model_id": "",
       "version_major": 2,
       "version_minor": 0
      },
      "text/plain": [
       "HBox(children=(HTML(value=''), FloatProgress(value=0.0, max=1.0), HTML(value='')))"
      ]
     },
     "metadata": {},
     "output_type": "display_data"
    },
    {
     "data": {
      "application/vnd.jupyter.widget-view+json": {
       "model_id": "",
       "version_major": 2,
       "version_minor": 0
      },
      "text/plain": [
       "HBox(children=(HTML(value=''), FloatProgress(value=0.0, max=2.0), HTML(value='')))"
      ]
     },
     "metadata": {},
     "output_type": "display_data"
    },
    {
     "data": {
      "application/vnd.jupyter.widget-view+json": {
       "model_id": "",
       "version_major": 2,
       "version_minor": 0
      },
      "text/plain": [
       "HBox(children=(HTML(value=''), FloatProgress(value=0.0, max=1.0), HTML(value='')))"
      ]
     },
     "metadata": {},
     "output_type": "display_data"
    },
    {
     "data": {
      "application/vnd.jupyter.widget-view+json": {
       "model_id": "",
       "version_major": 2,
       "version_minor": 0
      },
      "text/plain": [
       "HBox(children=(HTML(value=''), FloatProgress(value=0.0, max=2.0), HTML(value='')))"
      ]
     },
     "metadata": {},
     "output_type": "display_data"
    },
    {
     "data": {
      "application/vnd.jupyter.widget-view+json": {
       "model_id": "",
       "version_major": 2,
       "version_minor": 0
      },
      "text/plain": [
       "HBox(children=(HTML(value=''), FloatProgress(value=0.0, max=2.0), HTML(value='')))"
      ]
     },
     "metadata": {},
     "output_type": "display_data"
    },
    {
     "data": {
      "application/vnd.jupyter.widget-view+json": {
       "model_id": "",
       "version_major": 2,
       "version_minor": 0
      },
      "text/plain": [
       "HBox(children=(HTML(value=''), FloatProgress(value=0.0, max=1.0), HTML(value='')))"
      ]
     },
     "metadata": {},
     "output_type": "display_data"
    },
    {
     "data": {
      "application/vnd.jupyter.widget-view+json": {
       "model_id": "",
       "version_major": 2,
       "version_minor": 0
      },
      "text/plain": [
       "HBox(children=(HTML(value=''), FloatProgress(value=0.0, max=1.0), HTML(value='')))"
      ]
     },
     "metadata": {},
     "output_type": "display_data"
    },
    {
     "data": {
      "application/vnd.jupyter.widget-view+json": {
       "model_id": "",
       "version_major": 2,
       "version_minor": 0
      },
      "text/plain": [
       "HBox(children=(HTML(value=''), FloatProgress(value=0.0, max=3.0), HTML(value='')))"
      ]
     },
     "metadata": {},
     "output_type": "display_data"
    },
    {
     "data": {
      "application/vnd.jupyter.widget-view+json": {
       "model_id": "",
       "version_major": 2,
       "version_minor": 0
      },
      "text/plain": [
       "HBox(children=(HTML(value=''), FloatProgress(value=0.0, max=1.0), HTML(value='')))"
      ]
     },
     "metadata": {},
     "output_type": "display_data"
    },
    {
     "data": {
      "application/vnd.jupyter.widget-view+json": {
       "model_id": "",
       "version_major": 2,
       "version_minor": 0
      },
      "text/plain": [
       "HBox(children=(HTML(value=''), FloatProgress(value=0.0, max=5.0), HTML(value='')))"
      ]
     },
     "metadata": {},
     "output_type": "display_data"
    },
    {
     "data": {
      "application/vnd.jupyter.widget-view+json": {
       "model_id": "",
       "version_major": 2,
       "version_minor": 0
      },
      "text/plain": [
       "HBox(children=(HTML(value=''), FloatProgress(value=0.0, max=1.0), HTML(value='')))"
      ]
     },
     "metadata": {},
     "output_type": "display_data"
    },
    {
     "data": {
      "application/vnd.jupyter.widget-view+json": {
       "model_id": "",
       "version_major": 2,
       "version_minor": 0
      },
      "text/plain": [
       "HBox(children=(HTML(value=''), FloatProgress(value=0.0, max=25.0), HTML(value='')))"
      ]
     },
     "metadata": {},
     "output_type": "display_data"
    },
    {
     "data": {
      "application/vnd.jupyter.widget-view+json": {
       "model_id": "",
       "version_major": 2,
       "version_minor": 0
      },
      "text/plain": [
       "HBox(children=(HTML(value=''), FloatProgress(value=0.0, max=1.0), HTML(value='')))"
      ]
     },
     "metadata": {},
     "output_type": "display_data"
    },
    {
     "data": {
      "application/vnd.jupyter.widget-view+json": {
       "model_id": "",
       "version_major": 2,
       "version_minor": 0
      },
      "text/plain": [
       "HBox(children=(HTML(value=''), FloatProgress(value=0.0, max=2.0), HTML(value='')))"
      ]
     },
     "metadata": {},
     "output_type": "display_data"
    },
    {
     "data": {
      "application/vnd.jupyter.widget-view+json": {
       "model_id": "",
       "version_major": 2,
       "version_minor": 0
      },
      "text/plain": [
       "HBox(children=(HTML(value=''), FloatProgress(value=0.0, max=1.0), HTML(value='')))"
      ]
     },
     "metadata": {},
     "output_type": "display_data"
    },
    {
     "data": {
      "application/vnd.jupyter.widget-view+json": {
       "model_id": "",
       "version_major": 2,
       "version_minor": 0
      },
      "text/plain": [
       "HBox(children=(HTML(value=''), FloatProgress(value=0.0, max=1.0), HTML(value='')))"
      ]
     },
     "metadata": {},
     "output_type": "display_data"
    },
    {
     "data": {
      "application/vnd.jupyter.widget-view+json": {
       "model_id": "",
       "version_major": 2,
       "version_minor": 0
      },
      "text/plain": [
       "HBox(children=(HTML(value=''), FloatProgress(value=0.0, max=1.0), HTML(value='')))"
      ]
     },
     "metadata": {},
     "output_type": "display_data"
    },
    {
     "data": {
      "application/vnd.jupyter.widget-view+json": {
       "model_id": "",
       "version_major": 2,
       "version_minor": 0
      },
      "text/plain": [
       "HBox(children=(HTML(value=''), FloatProgress(value=0.0, max=2.0), HTML(value='')))"
      ]
     },
     "metadata": {},
     "output_type": "display_data"
    },
    {
     "data": {
      "application/vnd.jupyter.widget-view+json": {
       "model_id": "",
       "version_major": 2,
       "version_minor": 0
      },
      "text/plain": [
       "HBox(children=(HTML(value=''), FloatProgress(value=0.0, max=2.0), HTML(value='')))"
      ]
     },
     "metadata": {},
     "output_type": "display_data"
    },
    {
     "data": {
      "application/vnd.jupyter.widget-view+json": {
       "model_id": "",
       "version_major": 2,
       "version_minor": 0
      },
      "text/plain": [
       "HBox(children=(HTML(value=''), FloatProgress(value=0.0, max=2.0), HTML(value='')))"
      ]
     },
     "metadata": {},
     "output_type": "display_data"
    },
    {
     "data": {
      "application/vnd.jupyter.widget-view+json": {
       "model_id": "",
       "version_major": 2,
       "version_minor": 0
      },
      "text/plain": [
       "HBox(children=(HTML(value=''), FloatProgress(value=0.0, max=2.0), HTML(value='')))"
      ]
     },
     "metadata": {},
     "output_type": "display_data"
    },
    {
     "data": {
      "application/vnd.jupyter.widget-view+json": {
       "model_id": "",
       "version_major": 2,
       "version_minor": 0
      },
      "text/plain": [
       "HBox(children=(HTML(value=''), FloatProgress(value=0.0, max=1.0), HTML(value='')))"
      ]
     },
     "metadata": {},
     "output_type": "display_data"
    },
    {
     "data": {
      "application/vnd.jupyter.widget-view+json": {
       "model_id": "",
       "version_major": 2,
       "version_minor": 0
      },
      "text/plain": [
       "HBox(children=(HTML(value=''), FloatProgress(value=0.0, max=1.0), HTML(value='')))"
      ]
     },
     "metadata": {},
     "output_type": "display_data"
    },
    {
     "data": {
      "application/vnd.jupyter.widget-view+json": {
       "model_id": "",
       "version_major": 2,
       "version_minor": 0
      },
      "text/plain": [
       "HBox(children=(HTML(value=''), FloatProgress(value=0.0, max=2.0), HTML(value='')))"
      ]
     },
     "metadata": {},
     "output_type": "display_data"
    },
    {
     "data": {
      "application/vnd.jupyter.widget-view+json": {
       "model_id": "",
       "version_major": 2,
       "version_minor": 0
      },
      "text/plain": [
       "HBox(children=(HTML(value=''), FloatProgress(value=0.0, max=6.0), HTML(value='')))"
      ]
     },
     "metadata": {},
     "output_type": "display_data"
    },
    {
     "data": {
      "application/vnd.jupyter.widget-view+json": {
       "model_id": "",
       "version_major": 2,
       "version_minor": 0
      },
      "text/plain": [
       "HBox(children=(HTML(value=''), FloatProgress(value=0.0, max=2.0), HTML(value='')))"
      ]
     },
     "metadata": {},
     "output_type": "display_data"
    },
    {
     "data": {
      "application/vnd.jupyter.widget-view+json": {
       "model_id": "",
       "version_major": 2,
       "version_minor": 0
      },
      "text/plain": [
       "HBox(children=(HTML(value=''), FloatProgress(value=0.0, max=1.0), HTML(value='')))"
      ]
     },
     "metadata": {},
     "output_type": "display_data"
    },
    {
     "data": {
      "application/vnd.jupyter.widget-view+json": {
       "model_id": "",
       "version_major": 2,
       "version_minor": 0
      },
      "text/plain": [
       "HBox(children=(HTML(value=''), FloatProgress(value=0.0, max=1.0), HTML(value='')))"
      ]
     },
     "metadata": {},
     "output_type": "display_data"
    },
    {
     "data": {
      "application/vnd.jupyter.widget-view+json": {
       "model_id": "",
       "version_major": 2,
       "version_minor": 0
      },
      "text/plain": [
       "HBox(children=(HTML(value=''), FloatProgress(value=0.0, max=1.0), HTML(value='')))"
      ]
     },
     "metadata": {},
     "output_type": "display_data"
    },
    {
     "data": {
      "application/vnd.jupyter.widget-view+json": {
       "model_id": "",
       "version_major": 2,
       "version_minor": 0
      },
      "text/plain": [
       "HBox(children=(HTML(value=''), FloatProgress(value=0.0, max=1.0), HTML(value='')))"
      ]
     },
     "metadata": {},
     "output_type": "display_data"
    },
    {
     "data": {
      "application/vnd.jupyter.widget-view+json": {
       "model_id": "",
       "version_major": 2,
       "version_minor": 0
      },
      "text/plain": [
       "HBox(children=(HTML(value=''), FloatProgress(value=0.0, max=1.0), HTML(value='')))"
      ]
     },
     "metadata": {},
     "output_type": "display_data"
    },
    {
     "data": {
      "application/vnd.jupyter.widget-view+json": {
       "model_id": "",
       "version_major": 2,
       "version_minor": 0
      },
      "text/plain": [
       "HBox(children=(HTML(value=''), FloatProgress(value=0.0, max=7.0), HTML(value='')))"
      ]
     },
     "metadata": {},
     "output_type": "display_data"
    },
    {
     "data": {
      "application/vnd.jupyter.widget-view+json": {
       "model_id": "",
       "version_major": 2,
       "version_minor": 0
      },
      "text/plain": [
       "HBox(children=(HTML(value=''), FloatProgress(value=0.0, max=86.0), HTML(value='')))"
      ]
     },
     "metadata": {},
     "output_type": "display_data"
    },
    {
     "data": {
      "application/vnd.jupyter.widget-view+json": {
       "model_id": "",
       "version_major": 2,
       "version_minor": 0
      },
      "text/plain": [
       "HBox(children=(HTML(value=''), FloatProgress(value=0.0, max=5.0), HTML(value='')))"
      ]
     },
     "metadata": {},
     "output_type": "display_data"
    },
    {
     "data": {
      "application/vnd.jupyter.widget-view+json": {
       "model_id": "",
       "version_major": 2,
       "version_minor": 0
      },
      "text/plain": [
       "HBox(children=(HTML(value=''), FloatProgress(value=0.0, max=4.0), HTML(value='')))"
      ]
     },
     "metadata": {},
     "output_type": "display_data"
    },
    {
     "data": {
      "application/vnd.jupyter.widget-view+json": {
       "model_id": "",
       "version_major": 2,
       "version_minor": 0
      },
      "text/plain": [
       "HBox(children=(HTML(value=''), FloatProgress(value=0.0, max=3.0), HTML(value='')))"
      ]
     },
     "metadata": {},
     "output_type": "display_data"
    },
    {
     "data": {
      "application/vnd.jupyter.widget-view+json": {
       "model_id": "",
       "version_major": 2,
       "version_minor": 0
      },
      "text/plain": [
       "HBox(children=(HTML(value=''), FloatProgress(value=0.0, max=1.0), HTML(value='')))"
      ]
     },
     "metadata": {},
     "output_type": "display_data"
    },
    {
     "data": {
      "application/vnd.jupyter.widget-view+json": {
       "model_id": "",
       "version_major": 2,
       "version_minor": 0
      },
      "text/plain": [
       "HBox(children=(HTML(value=''), FloatProgress(value=0.0, max=1.0), HTML(value='')))"
      ]
     },
     "metadata": {},
     "output_type": "display_data"
    },
    {
     "data": {
      "application/vnd.jupyter.widget-view+json": {
       "model_id": "",
       "version_major": 2,
       "version_minor": 0
      },
      "text/plain": [
       "HBox(children=(HTML(value=''), FloatProgress(value=0.0, max=1.0), HTML(value='')))"
      ]
     },
     "metadata": {},
     "output_type": "display_data"
    },
    {
     "data": {
      "application/vnd.jupyter.widget-view+json": {
       "model_id": "",
       "version_major": 2,
       "version_minor": 0
      },
      "text/plain": [
       "HBox(children=(HTML(value=''), FloatProgress(value=0.0, max=1.0), HTML(value='')))"
      ]
     },
     "metadata": {},
     "output_type": "display_data"
    },
    {
     "data": {
      "application/vnd.jupyter.widget-view+json": {
       "model_id": "",
       "version_major": 2,
       "version_minor": 0
      },
      "text/plain": [
       "HBox(children=(HTML(value=''), FloatProgress(value=0.0, max=1.0), HTML(value='')))"
      ]
     },
     "metadata": {},
     "output_type": "display_data"
    },
    {
     "data": {
      "application/vnd.jupyter.widget-view+json": {
       "model_id": "",
       "version_major": 2,
       "version_minor": 0
      },
      "text/plain": [
       "HBox(children=(HTML(value=''), FloatProgress(value=0.0, max=1.0), HTML(value='')))"
      ]
     },
     "metadata": {},
     "output_type": "display_data"
    },
    {
     "data": {
      "application/vnd.jupyter.widget-view+json": {
       "model_id": "",
       "version_major": 2,
       "version_minor": 0
      },
      "text/plain": [
       "HBox(children=(HTML(value=''), FloatProgress(value=0.0, max=1.0), HTML(value='')))"
      ]
     },
     "metadata": {},
     "output_type": "display_data"
    },
    {
     "data": {
      "application/vnd.jupyter.widget-view+json": {
       "model_id": "",
       "version_major": 2,
       "version_minor": 0
      },
      "text/plain": [
       "HBox(children=(HTML(value=''), FloatProgress(value=0.0, max=1.0), HTML(value='')))"
      ]
     },
     "metadata": {},
     "output_type": "display_data"
    },
    {
     "data": {
      "application/vnd.jupyter.widget-view+json": {
       "model_id": "",
       "version_major": 2,
       "version_minor": 0
      },
      "text/plain": [
       "HBox(children=(HTML(value=''), FloatProgress(value=0.0, max=1.0), HTML(value='')))"
      ]
     },
     "metadata": {},
     "output_type": "display_data"
    },
    {
     "data": {
      "application/vnd.jupyter.widget-view+json": {
       "model_id": "",
       "version_major": 2,
       "version_minor": 0
      },
      "text/plain": [
       "HBox(children=(HTML(value=''), FloatProgress(value=0.0, max=3.0), HTML(value='')))"
      ]
     },
     "metadata": {},
     "output_type": "display_data"
    },
    {
     "data": {
      "application/vnd.jupyter.widget-view+json": {
       "model_id": "",
       "version_major": 2,
       "version_minor": 0
      },
      "text/plain": [
       "HBox(children=(HTML(value=''), FloatProgress(value=0.0, max=5.0), HTML(value='')))"
      ]
     },
     "metadata": {},
     "output_type": "display_data"
    },
    {
     "data": {
      "application/vnd.jupyter.widget-view+json": {
       "model_id": "",
       "version_major": 2,
       "version_minor": 0
      },
      "text/plain": [
       "HBox(children=(HTML(value=''), FloatProgress(value=0.0, max=1.0), HTML(value='')))"
      ]
     },
     "metadata": {},
     "output_type": "display_data"
    },
    {
     "data": {
      "application/vnd.jupyter.widget-view+json": {
       "model_id": "",
       "version_major": 2,
       "version_minor": 0
      },
      "text/plain": [
       "HBox(children=(HTML(value=''), FloatProgress(value=0.0, max=1.0), HTML(value='')))"
      ]
     },
     "metadata": {},
     "output_type": "display_data"
    },
    {
     "data": {
      "application/vnd.jupyter.widget-view+json": {
       "model_id": "",
       "version_major": 2,
       "version_minor": 0
      },
      "text/plain": [
       "HBox(children=(HTML(value=''), FloatProgress(value=0.0, max=1.0), HTML(value='')))"
      ]
     },
     "metadata": {},
     "output_type": "display_data"
    },
    {
     "data": {
      "application/vnd.jupyter.widget-view+json": {
       "model_id": "",
       "version_major": 2,
       "version_minor": 0
      },
      "text/plain": [
       "HBox(children=(HTML(value=''), FloatProgress(value=0.0, max=1.0), HTML(value='')))"
      ]
     },
     "metadata": {},
     "output_type": "display_data"
    },
    {
     "data": {
      "application/vnd.jupyter.widget-view+json": {
       "model_id": "",
       "version_major": 2,
       "version_minor": 0
      },
      "text/plain": [
       "HBox(children=(HTML(value=''), FloatProgress(value=0.0, max=1.0), HTML(value='')))"
      ]
     },
     "metadata": {},
     "output_type": "display_data"
    },
    {
     "data": {
      "application/vnd.jupyter.widget-view+json": {
       "model_id": "",
       "version_major": 2,
       "version_minor": 0
      },
      "text/plain": [
       "HBox(children=(HTML(value=''), FloatProgress(value=0.0, max=1.0), HTML(value='')))"
      ]
     },
     "metadata": {},
     "output_type": "display_data"
    },
    {
     "data": {
      "application/vnd.jupyter.widget-view+json": {
       "model_id": "",
       "version_major": 2,
       "version_minor": 0
      },
      "text/plain": [
       "HBox(children=(HTML(value=''), FloatProgress(value=0.0, max=1.0), HTML(value='')))"
      ]
     },
     "metadata": {},
     "output_type": "display_data"
    },
    {
     "data": {
      "application/vnd.jupyter.widget-view+json": {
       "model_id": "",
       "version_major": 2,
       "version_minor": 0
      },
      "text/plain": [
       "HBox(children=(HTML(value=''), FloatProgress(value=0.0, max=1.0), HTML(value='')))"
      ]
     },
     "metadata": {},
     "output_type": "display_data"
    },
    {
     "data": {
      "application/vnd.jupyter.widget-view+json": {
       "model_id": "",
       "version_major": 2,
       "version_minor": 0
      },
      "text/plain": [
       "HBox(children=(HTML(value=''), FloatProgress(value=0.0, max=1.0), HTML(value='')))"
      ]
     },
     "metadata": {},
     "output_type": "display_data"
    },
    {
     "data": {
      "application/vnd.jupyter.widget-view+json": {
       "model_id": "",
       "version_major": 2,
       "version_minor": 0
      },
      "text/plain": [
       "HBox(children=(HTML(value=''), FloatProgress(value=0.0, max=1.0), HTML(value='')))"
      ]
     },
     "metadata": {},
     "output_type": "display_data"
    },
    {
     "data": {
      "application/vnd.jupyter.widget-view+json": {
       "model_id": "",
       "version_major": 2,
       "version_minor": 0
      },
      "text/plain": [
       "HBox(children=(HTML(value=''), FloatProgress(value=0.0, max=4.0), HTML(value='')))"
      ]
     },
     "metadata": {},
     "output_type": "display_data"
    },
    {
     "data": {
      "application/vnd.jupyter.widget-view+json": {
       "model_id": "",
       "version_major": 2,
       "version_minor": 0
      },
      "text/plain": [
       "HBox(children=(HTML(value=''), FloatProgress(value=0.0, max=1.0), HTML(value='')))"
      ]
     },
     "metadata": {},
     "output_type": "display_data"
    },
    {
     "data": {
      "application/vnd.jupyter.widget-view+json": {
       "model_id": "",
       "version_major": 2,
       "version_minor": 0
      },
      "text/plain": [
       "HBox(children=(HTML(value=''), FloatProgress(value=0.0, max=2.0), HTML(value='')))"
      ]
     },
     "metadata": {},
     "output_type": "display_data"
    },
    {
     "data": {
      "application/vnd.jupyter.widget-view+json": {
       "model_id": "",
       "version_major": 2,
       "version_minor": 0
      },
      "text/plain": [
       "HBox(children=(HTML(value=''), FloatProgress(value=0.0, max=2.0), HTML(value='')))"
      ]
     },
     "metadata": {},
     "output_type": "display_data"
    },
    {
     "data": {
      "application/vnd.jupyter.widget-view+json": {
       "model_id": "",
       "version_major": 2,
       "version_minor": 0
      },
      "text/plain": [
       "HBox(children=(HTML(value=''), FloatProgress(value=0.0, max=7.0), HTML(value='')))"
      ]
     },
     "metadata": {},
     "output_type": "display_data"
    },
    {
     "data": {
      "application/vnd.jupyter.widget-view+json": {
       "model_id": "",
       "version_major": 2,
       "version_minor": 0
      },
      "text/plain": [
       "HBox(children=(HTML(value=''), FloatProgress(value=0.0, max=2.0), HTML(value='')))"
      ]
     },
     "metadata": {},
     "output_type": "display_data"
    },
    {
     "data": {
      "application/vnd.jupyter.widget-view+json": {
       "model_id": "",
       "version_major": 2,
       "version_minor": 0
      },
      "text/plain": [
       "HBox(children=(HTML(value=''), FloatProgress(value=0.0, max=1.0), HTML(value='')))"
      ]
     },
     "metadata": {},
     "output_type": "display_data"
    },
    {
     "data": {
      "application/vnd.jupyter.widget-view+json": {
       "model_id": "",
       "version_major": 2,
       "version_minor": 0
      },
      "text/plain": [
       "HBox(children=(HTML(value=''), FloatProgress(value=0.0, max=1.0), HTML(value='')))"
      ]
     },
     "metadata": {},
     "output_type": "display_data"
    },
    {
     "data": {
      "application/vnd.jupyter.widget-view+json": {
       "model_id": "",
       "version_major": 2,
       "version_minor": 0
      },
      "text/plain": [
       "HBox(children=(HTML(value=''), FloatProgress(value=0.0, max=2.0), HTML(value='')))"
      ]
     },
     "metadata": {},
     "output_type": "display_data"
    },
    {
     "data": {
      "application/vnd.jupyter.widget-view+json": {
       "model_id": "",
       "version_major": 2,
       "version_minor": 0
      },
      "text/plain": [
       "HBox(children=(HTML(value=''), FloatProgress(value=0.0, max=1.0), HTML(value='')))"
      ]
     },
     "metadata": {},
     "output_type": "display_data"
    },
    {
     "data": {
      "application/vnd.jupyter.widget-view+json": {
       "model_id": "",
       "version_major": 2,
       "version_minor": 0
      },
      "text/plain": [
       "HBox(children=(HTML(value=''), FloatProgress(value=0.0, max=1.0), HTML(value='')))"
      ]
     },
     "metadata": {},
     "output_type": "display_data"
    },
    {
     "data": {
      "application/vnd.jupyter.widget-view+json": {
       "model_id": "",
       "version_major": 2,
       "version_minor": 0
      },
      "text/plain": [
       "HBox(children=(HTML(value=''), FloatProgress(value=0.0, max=1.0), HTML(value='')))"
      ]
     },
     "metadata": {},
     "output_type": "display_data"
    },
    {
     "data": {
      "application/vnd.jupyter.widget-view+json": {
       "model_id": "",
       "version_major": 2,
       "version_minor": 0
      },
      "text/plain": [
       "HBox(children=(HTML(value=''), FloatProgress(value=0.0, max=1.0), HTML(value='')))"
      ]
     },
     "metadata": {},
     "output_type": "display_data"
    },
    {
     "data": {
      "application/vnd.jupyter.widget-view+json": {
       "model_id": "",
       "version_major": 2,
       "version_minor": 0
      },
      "text/plain": [
       "HBox(children=(HTML(value=''), FloatProgress(value=0.0, max=5.0), HTML(value='')))"
      ]
     },
     "metadata": {},
     "output_type": "display_data"
    },
    {
     "data": {
      "application/vnd.jupyter.widget-view+json": {
       "model_id": "",
       "version_major": 2,
       "version_minor": 0
      },
      "text/plain": [
       "HBox(children=(HTML(value=''), FloatProgress(value=0.0, max=1.0), HTML(value='')))"
      ]
     },
     "metadata": {},
     "output_type": "display_data"
    },
    {
     "data": {
      "application/vnd.jupyter.widget-view+json": {
       "model_id": "",
       "version_major": 2,
       "version_minor": 0
      },
      "text/plain": [
       "HBox(children=(HTML(value=''), FloatProgress(value=0.0, max=1.0), HTML(value='')))"
      ]
     },
     "metadata": {},
     "output_type": "display_data"
    },
    {
     "data": {
      "application/vnd.jupyter.widget-view+json": {
       "model_id": "",
       "version_major": 2,
       "version_minor": 0
      },
      "text/plain": [
       "HBox(children=(HTML(value=''), FloatProgress(value=0.0, max=1.0), HTML(value='')))"
      ]
     },
     "metadata": {},
     "output_type": "display_data"
    },
    {
     "data": {
      "application/vnd.jupyter.widget-view+json": {
       "model_id": "",
       "version_major": 2,
       "version_minor": 0
      },
      "text/plain": [
       "HBox(children=(HTML(value=''), FloatProgress(value=0.0, max=1.0), HTML(value='')))"
      ]
     },
     "metadata": {},
     "output_type": "display_data"
    },
    {
     "data": {
      "application/vnd.jupyter.widget-view+json": {
       "model_id": "",
       "version_major": 2,
       "version_minor": 0
      },
      "text/plain": [
       "HBox(children=(HTML(value=''), FloatProgress(value=0.0, max=2.0), HTML(value='')))"
      ]
     },
     "metadata": {},
     "output_type": "display_data"
    },
    {
     "data": {
      "application/vnd.jupyter.widget-view+json": {
       "model_id": "",
       "version_major": 2,
       "version_minor": 0
      },
      "text/plain": [
       "HBox(children=(HTML(value=''), FloatProgress(value=0.0, max=3.0), HTML(value='')))"
      ]
     },
     "metadata": {},
     "output_type": "display_data"
    },
    {
     "data": {
      "application/vnd.jupyter.widget-view+json": {
       "model_id": "",
       "version_major": 2,
       "version_minor": 0
      },
      "text/plain": [
       "HBox(children=(HTML(value=''), FloatProgress(value=0.0, max=1.0), HTML(value='')))"
      ]
     },
     "metadata": {},
     "output_type": "display_data"
    },
    {
     "data": {
      "application/vnd.jupyter.widget-view+json": {
       "model_id": "",
       "version_major": 2,
       "version_minor": 0
      },
      "text/plain": [
       "HBox(children=(HTML(value=''), FloatProgress(value=0.0, max=1.0), HTML(value='')))"
      ]
     },
     "metadata": {},
     "output_type": "display_data"
    },
    {
     "data": {
      "application/vnd.jupyter.widget-view+json": {
       "model_id": "",
       "version_major": 2,
       "version_minor": 0
      },
      "text/plain": [
       "HBox(children=(HTML(value=''), FloatProgress(value=0.0, max=1.0), HTML(value='')))"
      ]
     },
     "metadata": {},
     "output_type": "display_data"
    },
    {
     "data": {
      "application/vnd.jupyter.widget-view+json": {
       "model_id": "",
       "version_major": 2,
       "version_minor": 0
      },
      "text/plain": [
       "HBox(children=(HTML(value=''), FloatProgress(value=0.0, max=1.0), HTML(value='')))"
      ]
     },
     "metadata": {},
     "output_type": "display_data"
    },
    {
     "data": {
      "application/vnd.jupyter.widget-view+json": {
       "model_id": "",
       "version_major": 2,
       "version_minor": 0
      },
      "text/plain": [
       "HBox(children=(HTML(value=''), FloatProgress(value=0.0, max=1.0), HTML(value='')))"
      ]
     },
     "metadata": {},
     "output_type": "display_data"
    },
    {
     "data": {
      "application/vnd.jupyter.widget-view+json": {
       "model_id": "",
       "version_major": 2,
       "version_minor": 0
      },
      "text/plain": [
       "HBox(children=(HTML(value=''), FloatProgress(value=0.0, max=1.0), HTML(value='')))"
      ]
     },
     "metadata": {},
     "output_type": "display_data"
    },
    {
     "data": {
      "application/vnd.jupyter.widget-view+json": {
       "model_id": "",
       "version_major": 2,
       "version_minor": 0
      },
      "text/plain": [
       "HBox(children=(HTML(value=''), FloatProgress(value=0.0, max=1.0), HTML(value='')))"
      ]
     },
     "metadata": {},
     "output_type": "display_data"
    },
    {
     "data": {
      "application/vnd.jupyter.widget-view+json": {
       "model_id": "",
       "version_major": 2,
       "version_minor": 0
      },
      "text/plain": [
       "HBox(children=(HTML(value=''), FloatProgress(value=0.0, max=1.0), HTML(value='')))"
      ]
     },
     "metadata": {},
     "output_type": "display_data"
    },
    {
     "data": {
      "application/vnd.jupyter.widget-view+json": {
       "model_id": "",
       "version_major": 2,
       "version_minor": 0
      },
      "text/plain": [
       "HBox(children=(HTML(value=''), FloatProgress(value=0.0, max=2.0), HTML(value='')))"
      ]
     },
     "metadata": {},
     "output_type": "display_data"
    },
    {
     "data": {
      "application/vnd.jupyter.widget-view+json": {
       "model_id": "",
       "version_major": 2,
       "version_minor": 0
      },
      "text/plain": [
       "HBox(children=(HTML(value=''), FloatProgress(value=0.0, max=1.0), HTML(value='')))"
      ]
     },
     "metadata": {},
     "output_type": "display_data"
    },
    {
     "data": {
      "application/vnd.jupyter.widget-view+json": {
       "model_id": "",
       "version_major": 2,
       "version_minor": 0
      },
      "text/plain": [
       "HBox(children=(HTML(value=''), FloatProgress(value=0.0, max=1.0), HTML(value='')))"
      ]
     },
     "metadata": {},
     "output_type": "display_data"
    },
    {
     "data": {
      "application/vnd.jupyter.widget-view+json": {
       "model_id": "",
       "version_major": 2,
       "version_minor": 0
      },
      "text/plain": [
       "HBox(children=(HTML(value=''), FloatProgress(value=0.0, max=1.0), HTML(value='')))"
      ]
     },
     "metadata": {},
     "output_type": "display_data"
    },
    {
     "data": {
      "application/vnd.jupyter.widget-view+json": {
       "model_id": "",
       "version_major": 2,
       "version_minor": 0
      },
      "text/plain": [
       "HBox(children=(HTML(value=''), FloatProgress(value=0.0, max=4.0), HTML(value='')))"
      ]
     },
     "metadata": {},
     "output_type": "display_data"
    },
    {
     "data": {
      "application/vnd.jupyter.widget-view+json": {
       "model_id": "",
       "version_major": 2,
       "version_minor": 0
      },
      "text/plain": [
       "HBox(children=(HTML(value=''), FloatProgress(value=0.0, max=1.0), HTML(value='')))"
      ]
     },
     "metadata": {},
     "output_type": "display_data"
    },
    {
     "data": {
      "application/vnd.jupyter.widget-view+json": {
       "model_id": "",
       "version_major": 2,
       "version_minor": 0
      },
      "text/plain": [
       "HBox(children=(HTML(value=''), FloatProgress(value=0.0, max=2.0), HTML(value='')))"
      ]
     },
     "metadata": {},
     "output_type": "display_data"
    },
    {
     "data": {
      "application/vnd.jupyter.widget-view+json": {
       "model_id": "",
       "version_major": 2,
       "version_minor": 0
      },
      "text/plain": [
       "HBox(children=(HTML(value=''), FloatProgress(value=0.0, max=4.0), HTML(value='')))"
      ]
     },
     "metadata": {},
     "output_type": "display_data"
    },
    {
     "data": {
      "application/vnd.jupyter.widget-view+json": {
       "model_id": "",
       "version_major": 2,
       "version_minor": 0
      },
      "text/plain": [
       "HBox(children=(HTML(value=''), FloatProgress(value=0.0, max=1.0), HTML(value='')))"
      ]
     },
     "metadata": {},
     "output_type": "display_data"
    },
    {
     "data": {
      "application/vnd.jupyter.widget-view+json": {
       "model_id": "",
       "version_major": 2,
       "version_minor": 0
      },
      "text/plain": [
       "HBox(children=(HTML(value=''), FloatProgress(value=0.0, max=7.0), HTML(value='')))"
      ]
     },
     "metadata": {},
     "output_type": "display_data"
    },
    {
     "data": {
      "application/vnd.jupyter.widget-view+json": {
       "model_id": "",
       "version_major": 2,
       "version_minor": 0
      },
      "text/plain": [
       "HBox(children=(HTML(value=''), FloatProgress(value=0.0, max=4.0), HTML(value='')))"
      ]
     },
     "metadata": {},
     "output_type": "display_data"
    },
    {
     "data": {
      "application/vnd.jupyter.widget-view+json": {
       "model_id": "",
       "version_major": 2,
       "version_minor": 0
      },
      "text/plain": [
       "HBox(children=(HTML(value=''), FloatProgress(value=0.0, max=1.0), HTML(value='')))"
      ]
     },
     "metadata": {},
     "output_type": "display_data"
    },
    {
     "data": {
      "application/vnd.jupyter.widget-view+json": {
       "model_id": "",
       "version_major": 2,
       "version_minor": 0
      },
      "text/plain": [
       "HBox(children=(HTML(value=''), FloatProgress(value=0.0, max=1.0), HTML(value='')))"
      ]
     },
     "metadata": {},
     "output_type": "display_data"
    },
    {
     "data": {
      "application/vnd.jupyter.widget-view+json": {
       "model_id": "",
       "version_major": 2,
       "version_minor": 0
      },
      "text/plain": [
       "HBox(children=(HTML(value=''), FloatProgress(value=0.0, max=1.0), HTML(value='')))"
      ]
     },
     "metadata": {},
     "output_type": "display_data"
    },
    {
     "data": {
      "application/vnd.jupyter.widget-view+json": {
       "model_id": "",
       "version_major": 2,
       "version_minor": 0
      },
      "text/plain": [
       "HBox(children=(HTML(value=''), FloatProgress(value=0.0, max=1.0), HTML(value='')))"
      ]
     },
     "metadata": {},
     "output_type": "display_data"
    },
    {
     "data": {
      "application/vnd.jupyter.widget-view+json": {
       "model_id": "",
       "version_major": 2,
       "version_minor": 0
      },
      "text/plain": [
       "HBox(children=(HTML(value=''), FloatProgress(value=0.0, max=1.0), HTML(value='')))"
      ]
     },
     "metadata": {},
     "output_type": "display_data"
    },
    {
     "data": {
      "application/vnd.jupyter.widget-view+json": {
       "model_id": "",
       "version_major": 2,
       "version_minor": 0
      },
      "text/plain": [
       "HBox(children=(HTML(value=''), FloatProgress(value=0.0, max=2.0), HTML(value='')))"
      ]
     },
     "metadata": {},
     "output_type": "display_data"
    },
    {
     "data": {
      "application/vnd.jupyter.widget-view+json": {
       "model_id": "",
       "version_major": 2,
       "version_minor": 0
      },
      "text/plain": [
       "HBox(children=(HTML(value=''), FloatProgress(value=0.0, max=1.0), HTML(value='')))"
      ]
     },
     "metadata": {},
     "output_type": "display_data"
    },
    {
     "data": {
      "application/vnd.jupyter.widget-view+json": {
       "model_id": "",
       "version_major": 2,
       "version_minor": 0
      },
      "text/plain": [
       "HBox(children=(HTML(value=''), FloatProgress(value=0.0, max=5.0), HTML(value='')))"
      ]
     },
     "metadata": {},
     "output_type": "display_data"
    },
    {
     "data": {
      "application/vnd.jupyter.widget-view+json": {
       "model_id": "",
       "version_major": 2,
       "version_minor": 0
      },
      "text/plain": [
       "HBox(children=(HTML(value=''), FloatProgress(value=0.0, max=1.0), HTML(value='')))"
      ]
     },
     "metadata": {},
     "output_type": "display_data"
    },
    {
     "data": {
      "application/vnd.jupyter.widget-view+json": {
       "model_id": "",
       "version_major": 2,
       "version_minor": 0
      },
      "text/plain": [
       "HBox(children=(HTML(value=''), FloatProgress(value=0.0, max=1.0), HTML(value='')))"
      ]
     },
     "metadata": {},
     "output_type": "display_data"
    },
    {
     "data": {
      "application/vnd.jupyter.widget-view+json": {
       "model_id": "",
       "version_major": 2,
       "version_minor": 0
      },
      "text/plain": [
       "HBox(children=(HTML(value=''), FloatProgress(value=0.0, max=1.0), HTML(value='')))"
      ]
     },
     "metadata": {},
     "output_type": "display_data"
    },
    {
     "data": {
      "application/vnd.jupyter.widget-view+json": {
       "model_id": "",
       "version_major": 2,
       "version_minor": 0
      },
      "text/plain": [
       "HBox(children=(HTML(value=''), FloatProgress(value=0.0, max=2.0), HTML(value='')))"
      ]
     },
     "metadata": {},
     "output_type": "display_data"
    },
    {
     "data": {
      "application/vnd.jupyter.widget-view+json": {
       "model_id": "",
       "version_major": 2,
       "version_minor": 0
      },
      "text/plain": [
       "HBox(children=(HTML(value=''), FloatProgress(value=0.0, max=1.0), HTML(value='')))"
      ]
     },
     "metadata": {},
     "output_type": "display_data"
    },
    {
     "data": {
      "application/vnd.jupyter.widget-view+json": {
       "model_id": "",
       "version_major": 2,
       "version_minor": 0
      },
      "text/plain": [
       "HBox(children=(HTML(value=''), FloatProgress(value=0.0, max=1.0), HTML(value='')))"
      ]
     },
     "metadata": {},
     "output_type": "display_data"
    },
    {
     "data": {
      "application/vnd.jupyter.widget-view+json": {
       "model_id": "",
       "version_major": 2,
       "version_minor": 0
      },
      "text/plain": [
       "HBox(children=(HTML(value=''), FloatProgress(value=0.0, max=2.0), HTML(value='')))"
      ]
     },
     "metadata": {},
     "output_type": "display_data"
    },
    {
     "data": {
      "application/vnd.jupyter.widget-view+json": {
       "model_id": "",
       "version_major": 2,
       "version_minor": 0
      },
      "text/plain": [
       "HBox(children=(HTML(value=''), FloatProgress(value=0.0, max=1.0), HTML(value='')))"
      ]
     },
     "metadata": {},
     "output_type": "display_data"
    },
    {
     "data": {
      "application/vnd.jupyter.widget-view+json": {
       "model_id": "",
       "version_major": 2,
       "version_minor": 0
      },
      "text/plain": [
       "HBox(children=(HTML(value=''), FloatProgress(value=0.0, max=2.0), HTML(value='')))"
      ]
     },
     "metadata": {},
     "output_type": "display_data"
    },
    {
     "data": {
      "application/vnd.jupyter.widget-view+json": {
       "model_id": "",
       "version_major": 2,
       "version_minor": 0
      },
      "text/plain": [
       "HBox(children=(HTML(value=''), FloatProgress(value=0.0, max=1.0), HTML(value='')))"
      ]
     },
     "metadata": {},
     "output_type": "display_data"
    },
    {
     "data": {
      "application/vnd.jupyter.widget-view+json": {
       "model_id": "",
       "version_major": 2,
       "version_minor": 0
      },
      "text/plain": [
       "HBox(children=(HTML(value=''), FloatProgress(value=0.0, max=1.0), HTML(value='')))"
      ]
     },
     "metadata": {},
     "output_type": "display_data"
    },
    {
     "data": {
      "application/vnd.jupyter.widget-view+json": {
       "model_id": "",
       "version_major": 2,
       "version_minor": 0
      },
      "text/plain": [
       "HBox(children=(HTML(value=''), FloatProgress(value=0.0, max=1.0), HTML(value='')))"
      ]
     },
     "metadata": {},
     "output_type": "display_data"
    },
    {
     "data": {
      "application/vnd.jupyter.widget-view+json": {
       "model_id": "",
       "version_major": 2,
       "version_minor": 0
      },
      "text/plain": [
       "HBox(children=(HTML(value=''), FloatProgress(value=0.0, max=1.0), HTML(value='')))"
      ]
     },
     "metadata": {},
     "output_type": "display_data"
    },
    {
     "data": {
      "application/vnd.jupyter.widget-view+json": {
       "model_id": "",
       "version_major": 2,
       "version_minor": 0
      },
      "text/plain": [
       "HBox(children=(HTML(value=''), FloatProgress(value=0.0, max=1.0), HTML(value='')))"
      ]
     },
     "metadata": {},
     "output_type": "display_data"
    },
    {
     "data": {
      "application/vnd.jupyter.widget-view+json": {
       "model_id": "",
       "version_major": 2,
       "version_minor": 0
      },
      "text/plain": [
       "HBox(children=(HTML(value=''), FloatProgress(value=0.0, max=2.0), HTML(value='')))"
      ]
     },
     "metadata": {},
     "output_type": "display_data"
    },
    {
     "data": {
      "application/vnd.jupyter.widget-view+json": {
       "model_id": "",
       "version_major": 2,
       "version_minor": 0
      },
      "text/plain": [
       "HBox(children=(HTML(value=''), FloatProgress(value=0.0, max=173.0), HTML(value='')))"
      ]
     },
     "metadata": {},
     "output_type": "display_data"
    },
    {
     "data": {
      "application/vnd.jupyter.widget-view+json": {
       "model_id": "",
       "version_major": 2,
       "version_minor": 0
      },
      "text/plain": [
       "HBox(children=(HTML(value=''), FloatProgress(value=0.0, max=1.0), HTML(value='')))"
      ]
     },
     "metadata": {},
     "output_type": "display_data"
    },
    {
     "data": {
      "application/vnd.jupyter.widget-view+json": {
       "model_id": "",
       "version_major": 2,
       "version_minor": 0
      },
      "text/plain": [
       "HBox(children=(HTML(value=''), FloatProgress(value=0.0, max=8.0), HTML(value='')))"
      ]
     },
     "metadata": {},
     "output_type": "display_data"
    },
    {
     "data": {
      "application/vnd.jupyter.widget-view+json": {
       "model_id": "",
       "version_major": 2,
       "version_minor": 0
      },
      "text/plain": [
       "HBox(children=(HTML(value=''), FloatProgress(value=0.0, max=4.0), HTML(value='')))"
      ]
     },
     "metadata": {},
     "output_type": "display_data"
    },
    {
     "data": {
      "application/vnd.jupyter.widget-view+json": {
       "model_id": "",
       "version_major": 2,
       "version_minor": 0
      },
      "text/plain": [
       "HBox(children=(HTML(value=''), FloatProgress(value=0.0, max=1.0), HTML(value='')))"
      ]
     },
     "metadata": {},
     "output_type": "display_data"
    },
    {
     "data": {
      "application/vnd.jupyter.widget-view+json": {
       "model_id": "",
       "version_major": 2,
       "version_minor": 0
      },
      "text/plain": [
       "HBox(children=(HTML(value=''), FloatProgress(value=0.0, max=7.0), HTML(value='')))"
      ]
     },
     "metadata": {},
     "output_type": "display_data"
    },
    {
     "data": {
      "application/vnd.jupyter.widget-view+json": {
       "model_id": "",
       "version_major": 2,
       "version_minor": 0
      },
      "text/plain": [
       "HBox(children=(HTML(value=''), FloatProgress(value=0.0, max=1.0), HTML(value='')))"
      ]
     },
     "metadata": {},
     "output_type": "display_data"
    },
    {
     "data": {
      "application/vnd.jupyter.widget-view+json": {
       "model_id": "",
       "version_major": 2,
       "version_minor": 0
      },
      "text/plain": [
       "HBox(children=(HTML(value=''), FloatProgress(value=0.0, max=1.0), HTML(value='')))"
      ]
     },
     "metadata": {},
     "output_type": "display_data"
    },
    {
     "data": {
      "application/vnd.jupyter.widget-view+json": {
       "model_id": "",
       "version_major": 2,
       "version_minor": 0
      },
      "text/plain": [
       "HBox(children=(HTML(value=''), FloatProgress(value=0.0, max=1.0), HTML(value='')))"
      ]
     },
     "metadata": {},
     "output_type": "display_data"
    },
    {
     "data": {
      "application/vnd.jupyter.widget-view+json": {
       "model_id": "",
       "version_major": 2,
       "version_minor": 0
      },
      "text/plain": [
       "HBox(children=(HTML(value=''), FloatProgress(value=0.0, max=2.0), HTML(value='')))"
      ]
     },
     "metadata": {},
     "output_type": "display_data"
    },
    {
     "data": {
      "application/vnd.jupyter.widget-view+json": {
       "model_id": "",
       "version_major": 2,
       "version_minor": 0
      },
      "text/plain": [
       "HBox(children=(HTML(value=''), FloatProgress(value=0.0, max=4.0), HTML(value='')))"
      ]
     },
     "metadata": {},
     "output_type": "display_data"
    },
    {
     "data": {
      "application/vnd.jupyter.widget-view+json": {
       "model_id": "",
       "version_major": 2,
       "version_minor": 0
      },
      "text/plain": [
       "HBox(children=(HTML(value=''), FloatProgress(value=0.0, max=2.0), HTML(value='')))"
      ]
     },
     "metadata": {},
     "output_type": "display_data"
    },
    {
     "data": {
      "application/vnd.jupyter.widget-view+json": {
       "model_id": "",
       "version_major": 2,
       "version_minor": 0
      },
      "text/plain": [
       "HBox(children=(HTML(value=''), FloatProgress(value=0.0, max=1.0), HTML(value='')))"
      ]
     },
     "metadata": {},
     "output_type": "display_data"
    },
    {
     "data": {
      "application/vnd.jupyter.widget-view+json": {
       "model_id": "",
       "version_major": 2,
       "version_minor": 0
      },
      "text/plain": [
       "HBox(children=(HTML(value=''), FloatProgress(value=0.0, max=1.0), HTML(value='')))"
      ]
     },
     "metadata": {},
     "output_type": "display_data"
    },
    {
     "data": {
      "application/vnd.jupyter.widget-view+json": {
       "model_id": "",
       "version_major": 2,
       "version_minor": 0
      },
      "text/plain": [
       "HBox(children=(HTML(value=''), FloatProgress(value=0.0, max=2.0), HTML(value='')))"
      ]
     },
     "metadata": {},
     "output_type": "display_data"
    },
    {
     "data": {
      "application/vnd.jupyter.widget-view+json": {
       "model_id": "",
       "version_major": 2,
       "version_minor": 0
      },
      "text/plain": [
       "HBox(children=(HTML(value=''), FloatProgress(value=0.0, max=4.0), HTML(value='')))"
      ]
     },
     "metadata": {},
     "output_type": "display_data"
    },
    {
     "data": {
      "application/vnd.jupyter.widget-view+json": {
       "model_id": "",
       "version_major": 2,
       "version_minor": 0
      },
      "text/plain": [
       "HBox(children=(HTML(value=''), FloatProgress(value=0.0, max=7.0), HTML(value='')))"
      ]
     },
     "metadata": {},
     "output_type": "display_data"
    },
    {
     "data": {
      "application/vnd.jupyter.widget-view+json": {
       "model_id": "",
       "version_major": 2,
       "version_minor": 0
      },
      "text/plain": [
       "HBox(children=(HTML(value=''), FloatProgress(value=0.0, max=3.0), HTML(value='')))"
      ]
     },
     "metadata": {},
     "output_type": "display_data"
    },
    {
     "data": {
      "application/vnd.jupyter.widget-view+json": {
       "model_id": "",
       "version_major": 2,
       "version_minor": 0
      },
      "text/plain": [
       "HBox(children=(HTML(value=''), FloatProgress(value=0.0, max=1.0), HTML(value='')))"
      ]
     },
     "metadata": {},
     "output_type": "display_data"
    },
    {
     "data": {
      "application/vnd.jupyter.widget-view+json": {
       "model_id": "",
       "version_major": 2,
       "version_minor": 0
      },
      "text/plain": [
       "HBox(children=(HTML(value=''), FloatProgress(value=0.0, max=1.0), HTML(value='')))"
      ]
     },
     "metadata": {},
     "output_type": "display_data"
    },
    {
     "data": {
      "application/vnd.jupyter.widget-view+json": {
       "model_id": "",
       "version_major": 2,
       "version_minor": 0
      },
      "text/plain": [
       "HBox(children=(HTML(value=''), FloatProgress(value=0.0, max=1.0), HTML(value='')))"
      ]
     },
     "metadata": {},
     "output_type": "display_data"
    },
    {
     "data": {
      "application/vnd.jupyter.widget-view+json": {
       "model_id": "",
       "version_major": 2,
       "version_minor": 0
      },
      "text/plain": [
       "HBox(children=(HTML(value=''), FloatProgress(value=0.0, max=11.0), HTML(value='')))"
      ]
     },
     "metadata": {},
     "output_type": "display_data"
    },
    {
     "data": {
      "application/vnd.jupyter.widget-view+json": {
       "model_id": "",
       "version_major": 2,
       "version_minor": 0
      },
      "text/plain": [
       "HBox(children=(HTML(value=''), FloatProgress(value=0.0, max=5.0), HTML(value='')))"
      ]
     },
     "metadata": {},
     "output_type": "display_data"
    },
    {
     "data": {
      "application/vnd.jupyter.widget-view+json": {
       "model_id": "",
       "version_major": 2,
       "version_minor": 0
      },
      "text/plain": [
       "HBox(children=(HTML(value=''), FloatProgress(value=0.0, max=5.0), HTML(value='')))"
      ]
     },
     "metadata": {},
     "output_type": "display_data"
    },
    {
     "data": {
      "application/vnd.jupyter.widget-view+json": {
       "model_id": "",
       "version_major": 2,
       "version_minor": 0
      },
      "text/plain": [
       "HBox(children=(HTML(value=''), FloatProgress(value=0.0, max=4.0), HTML(value='')))"
      ]
     },
     "metadata": {},
     "output_type": "display_data"
    },
    {
     "data": {
      "application/vnd.jupyter.widget-view+json": {
       "model_id": "",
       "version_major": 2,
       "version_minor": 0
      },
      "text/plain": [
       "HBox(children=(HTML(value=''), FloatProgress(value=0.0, max=2.0), HTML(value='')))"
      ]
     },
     "metadata": {},
     "output_type": "display_data"
    },
    {
     "data": {
      "application/vnd.jupyter.widget-view+json": {
       "model_id": "",
       "version_major": 2,
       "version_minor": 0
      },
      "text/plain": [
       "HBox(children=(HTML(value=''), FloatProgress(value=0.0, max=4.0), HTML(value='')))"
      ]
     },
     "metadata": {},
     "output_type": "display_data"
    },
    {
     "data": {
      "application/vnd.jupyter.widget-view+json": {
       "model_id": "",
       "version_major": 2,
       "version_minor": 0
      },
      "text/plain": [
       "HBox(children=(HTML(value=''), FloatProgress(value=0.0, max=1.0), HTML(value='')))"
      ]
     },
     "metadata": {},
     "output_type": "display_data"
    },
    {
     "data": {
      "application/vnd.jupyter.widget-view+json": {
       "model_id": "",
       "version_major": 2,
       "version_minor": 0
      },
      "text/plain": [
       "HBox(children=(HTML(value=''), FloatProgress(value=0.0, max=1.0), HTML(value='')))"
      ]
     },
     "metadata": {},
     "output_type": "display_data"
    },
    {
     "data": {
      "application/vnd.jupyter.widget-view+json": {
       "model_id": "",
       "version_major": 2,
       "version_minor": 0
      },
      "text/plain": [
       "HBox(children=(HTML(value=''), FloatProgress(value=0.0, max=1.0), HTML(value='')))"
      ]
     },
     "metadata": {},
     "output_type": "display_data"
    },
    {
     "data": {
      "application/vnd.jupyter.widget-view+json": {
       "model_id": "",
       "version_major": 2,
       "version_minor": 0
      },
      "text/plain": [
       "HBox(children=(HTML(value=''), FloatProgress(value=0.0, max=1.0), HTML(value='')))"
      ]
     },
     "metadata": {},
     "output_type": "display_data"
    },
    {
     "data": {
      "application/vnd.jupyter.widget-view+json": {
       "model_id": "",
       "version_major": 2,
       "version_minor": 0
      },
      "text/plain": [
       "HBox(children=(HTML(value=''), FloatProgress(value=0.0, max=1.0), HTML(value='')))"
      ]
     },
     "metadata": {},
     "output_type": "display_data"
    },
    {
     "data": {
      "application/vnd.jupyter.widget-view+json": {
       "model_id": "",
       "version_major": 2,
       "version_minor": 0
      },
      "text/plain": [
       "HBox(children=(HTML(value=''), FloatProgress(value=0.0, max=1.0), HTML(value='')))"
      ]
     },
     "metadata": {},
     "output_type": "display_data"
    },
    {
     "data": {
      "application/vnd.jupyter.widget-view+json": {
       "model_id": "",
       "version_major": 2,
       "version_minor": 0
      },
      "text/plain": [
       "HBox(children=(HTML(value=''), FloatProgress(value=0.0, max=1.0), HTML(value='')))"
      ]
     },
     "metadata": {},
     "output_type": "display_data"
    },
    {
     "data": {
      "application/vnd.jupyter.widget-view+json": {
       "model_id": "",
       "version_major": 2,
       "version_minor": 0
      },
      "text/plain": [
       "HBox(children=(HTML(value=''), FloatProgress(value=0.0, max=1.0), HTML(value='')))"
      ]
     },
     "metadata": {},
     "output_type": "display_data"
    },
    {
     "data": {
      "application/vnd.jupyter.widget-view+json": {
       "model_id": "",
       "version_major": 2,
       "version_minor": 0
      },
      "text/plain": [
       "HBox(children=(HTML(value=''), FloatProgress(value=0.0, max=1.0), HTML(value='')))"
      ]
     },
     "metadata": {},
     "output_type": "display_data"
    },
    {
     "data": {
      "application/vnd.jupyter.widget-view+json": {
       "model_id": "",
       "version_major": 2,
       "version_minor": 0
      },
      "text/plain": [
       "HBox(children=(HTML(value=''), FloatProgress(value=0.0, max=5.0), HTML(value='')))"
      ]
     },
     "metadata": {},
     "output_type": "display_data"
    },
    {
     "data": {
      "application/vnd.jupyter.widget-view+json": {
       "model_id": "",
       "version_major": 2,
       "version_minor": 0
      },
      "text/plain": [
       "HBox(children=(HTML(value=''), FloatProgress(value=0.0, max=2.0), HTML(value='')))"
      ]
     },
     "metadata": {},
     "output_type": "display_data"
    },
    {
     "data": {
      "application/vnd.jupyter.widget-view+json": {
       "model_id": "",
       "version_major": 2,
       "version_minor": 0
      },
      "text/plain": [
       "HBox(children=(HTML(value=''), FloatProgress(value=0.0, max=1.0), HTML(value='')))"
      ]
     },
     "metadata": {},
     "output_type": "display_data"
    },
    {
     "data": {
      "application/vnd.jupyter.widget-view+json": {
       "model_id": "",
       "version_major": 2,
       "version_minor": 0
      },
      "text/plain": [
       "HBox(children=(HTML(value=''), FloatProgress(value=0.0, max=1.0), HTML(value='')))"
      ]
     },
     "metadata": {},
     "output_type": "display_data"
    },
    {
     "data": {
      "application/vnd.jupyter.widget-view+json": {
       "model_id": "",
       "version_major": 2,
       "version_minor": 0
      },
      "text/plain": [
       "HBox(children=(HTML(value=''), FloatProgress(value=0.0, max=1.0), HTML(value='')))"
      ]
     },
     "metadata": {},
     "output_type": "display_data"
    },
    {
     "data": {
      "application/vnd.jupyter.widget-view+json": {
       "model_id": "",
       "version_major": 2,
       "version_minor": 0
      },
      "text/plain": [
       "HBox(children=(HTML(value=''), FloatProgress(value=0.0, max=3.0), HTML(value='')))"
      ]
     },
     "metadata": {},
     "output_type": "display_data"
    },
    {
     "data": {
      "application/vnd.jupyter.widget-view+json": {
       "model_id": "",
       "version_major": 2,
       "version_minor": 0
      },
      "text/plain": [
       "HBox(children=(HTML(value=''), FloatProgress(value=0.0, max=1.0), HTML(value='')))"
      ]
     },
     "metadata": {},
     "output_type": "display_data"
    },
    {
     "data": {
      "application/vnd.jupyter.widget-view+json": {
       "model_id": "",
       "version_major": 2,
       "version_minor": 0
      },
      "text/plain": [
       "HBox(children=(HTML(value=''), FloatProgress(value=0.0, max=1.0), HTML(value='')))"
      ]
     },
     "metadata": {},
     "output_type": "display_data"
    },
    {
     "data": {
      "application/vnd.jupyter.widget-view+json": {
       "model_id": "",
       "version_major": 2,
       "version_minor": 0
      },
      "text/plain": [
       "HBox(children=(HTML(value=''), FloatProgress(value=0.0, max=1.0), HTML(value='')))"
      ]
     },
     "metadata": {},
     "output_type": "display_data"
    },
    {
     "data": {
      "application/vnd.jupyter.widget-view+json": {
       "model_id": "",
       "version_major": 2,
       "version_minor": 0
      },
      "text/plain": [
       "HBox(children=(HTML(value=''), FloatProgress(value=0.0, max=1.0), HTML(value='')))"
      ]
     },
     "metadata": {},
     "output_type": "display_data"
    },
    {
     "data": {
      "application/vnd.jupyter.widget-view+json": {
       "model_id": "",
       "version_major": 2,
       "version_minor": 0
      },
      "text/plain": [
       "HBox(children=(HTML(value=''), FloatProgress(value=0.0, max=6.0), HTML(value='')))"
      ]
     },
     "metadata": {},
     "output_type": "display_data"
    },
    {
     "data": {
      "application/vnd.jupyter.widget-view+json": {
       "model_id": "",
       "version_major": 2,
       "version_minor": 0
      },
      "text/plain": [
       "HBox(children=(HTML(value=''), FloatProgress(value=0.0, max=1.0), HTML(value='')))"
      ]
     },
     "metadata": {},
     "output_type": "display_data"
    },
    {
     "data": {
      "application/vnd.jupyter.widget-view+json": {
       "model_id": "",
       "version_major": 2,
       "version_minor": 0
      },
      "text/plain": [
       "HBox(children=(HTML(value=''), FloatProgress(value=0.0, max=1.0), HTML(value='')))"
      ]
     },
     "metadata": {},
     "output_type": "display_data"
    },
    {
     "data": {
      "application/vnd.jupyter.widget-view+json": {
       "model_id": "",
       "version_major": 2,
       "version_minor": 0
      },
      "text/plain": [
       "HBox(children=(HTML(value=''), FloatProgress(value=0.0, max=1.0), HTML(value='')))"
      ]
     },
     "metadata": {},
     "output_type": "display_data"
    },
    {
     "data": {
      "application/vnd.jupyter.widget-view+json": {
       "model_id": "",
       "version_major": 2,
       "version_minor": 0
      },
      "text/plain": [
       "HBox(children=(HTML(value=''), FloatProgress(value=0.0, max=1.0), HTML(value='')))"
      ]
     },
     "metadata": {},
     "output_type": "display_data"
    },
    {
     "data": {
      "application/vnd.jupyter.widget-view+json": {
       "model_id": "",
       "version_major": 2,
       "version_minor": 0
      },
      "text/plain": [
       "HBox(children=(HTML(value=''), FloatProgress(value=0.0, max=3.0), HTML(value='')))"
      ]
     },
     "metadata": {},
     "output_type": "display_data"
    },
    {
     "data": {
      "application/vnd.jupyter.widget-view+json": {
       "model_id": "",
       "version_major": 2,
       "version_minor": 0
      },
      "text/plain": [
       "HBox(children=(HTML(value=''), FloatProgress(value=0.0, max=1.0), HTML(value='')))"
      ]
     },
     "metadata": {},
     "output_type": "display_data"
    },
    {
     "data": {
      "application/vnd.jupyter.widget-view+json": {
       "model_id": "",
       "version_major": 2,
       "version_minor": 0
      },
      "text/plain": [
       "HBox(children=(HTML(value=''), FloatProgress(value=0.0, max=1.0), HTML(value='')))"
      ]
     },
     "metadata": {},
     "output_type": "display_data"
    },
    {
     "data": {
      "application/vnd.jupyter.widget-view+json": {
       "model_id": "",
       "version_major": 2,
       "version_minor": 0
      },
      "text/plain": [
       "HBox(children=(HTML(value=''), FloatProgress(value=0.0, max=3.0), HTML(value='')))"
      ]
     },
     "metadata": {},
     "output_type": "display_data"
    },
    {
     "data": {
      "application/vnd.jupyter.widget-view+json": {
       "model_id": "",
       "version_major": 2,
       "version_minor": 0
      },
      "text/plain": [
       "HBox(children=(HTML(value=''), FloatProgress(value=0.0, max=1.0), HTML(value='')))"
      ]
     },
     "metadata": {},
     "output_type": "display_data"
    },
    {
     "data": {
      "application/vnd.jupyter.widget-view+json": {
       "model_id": "",
       "version_major": 2,
       "version_minor": 0
      },
      "text/plain": [
       "HBox(children=(HTML(value=''), FloatProgress(value=0.0, max=5.0), HTML(value='')))"
      ]
     },
     "metadata": {},
     "output_type": "display_data"
    },
    {
     "data": {
      "application/vnd.jupyter.widget-view+json": {
       "model_id": "",
       "version_major": 2,
       "version_minor": 0
      },
      "text/plain": [
       "HBox(children=(HTML(value=''), FloatProgress(value=0.0, max=2.0), HTML(value='')))"
      ]
     },
     "metadata": {},
     "output_type": "display_data"
    },
    {
     "data": {
      "application/vnd.jupyter.widget-view+json": {
       "model_id": "",
       "version_major": 2,
       "version_minor": 0
      },
      "text/plain": [
       "HBox(children=(HTML(value=''), FloatProgress(value=0.0, max=1.0), HTML(value='')))"
      ]
     },
     "metadata": {},
     "output_type": "display_data"
    },
    {
     "data": {
      "application/vnd.jupyter.widget-view+json": {
       "model_id": "",
       "version_major": 2,
       "version_minor": 0
      },
      "text/plain": [
       "HBox(children=(HTML(value=''), FloatProgress(value=0.0, max=5.0), HTML(value='')))"
      ]
     },
     "metadata": {},
     "output_type": "display_data"
    },
    {
     "data": {
      "application/vnd.jupyter.widget-view+json": {
       "model_id": "",
       "version_major": 2,
       "version_minor": 0
      },
      "text/plain": [
       "HBox(children=(HTML(value=''), FloatProgress(value=0.0, max=3.0), HTML(value='')))"
      ]
     },
     "metadata": {},
     "output_type": "display_data"
    },
    {
     "data": {
      "application/vnd.jupyter.widget-view+json": {
       "model_id": "",
       "version_major": 2,
       "version_minor": 0
      },
      "text/plain": [
       "HBox(children=(HTML(value=''), FloatProgress(value=0.0, max=1.0), HTML(value='')))"
      ]
     },
     "metadata": {},
     "output_type": "display_data"
    },
    {
     "data": {
      "application/vnd.jupyter.widget-view+json": {
       "model_id": "",
       "version_major": 2,
       "version_minor": 0
      },
      "text/plain": [
       "HBox(children=(HTML(value=''), FloatProgress(value=0.0, max=3.0), HTML(value='')))"
      ]
     },
     "metadata": {},
     "output_type": "display_data"
    },
    {
     "data": {
      "application/vnd.jupyter.widget-view+json": {
       "model_id": "",
       "version_major": 2,
       "version_minor": 0
      },
      "text/plain": [
       "HBox(children=(HTML(value=''), FloatProgress(value=0.0, max=1.0), HTML(value='')))"
      ]
     },
     "metadata": {},
     "output_type": "display_data"
    },
    {
     "data": {
      "application/vnd.jupyter.widget-view+json": {
       "model_id": "",
       "version_major": 2,
       "version_minor": 0
      },
      "text/plain": [
       "HBox(children=(HTML(value=''), FloatProgress(value=0.0, max=1.0), HTML(value='')))"
      ]
     },
     "metadata": {},
     "output_type": "display_data"
    },
    {
     "data": {
      "application/vnd.jupyter.widget-view+json": {
       "model_id": "",
       "version_major": 2,
       "version_minor": 0
      },
      "text/plain": [
       "HBox(children=(HTML(value=''), FloatProgress(value=0.0, max=1.0), HTML(value='')))"
      ]
     },
     "metadata": {},
     "output_type": "display_data"
    },
    {
     "data": {
      "application/vnd.jupyter.widget-view+json": {
       "model_id": "",
       "version_major": 2,
       "version_minor": 0
      },
      "text/plain": [
       "HBox(children=(HTML(value=''), FloatProgress(value=0.0, max=1.0), HTML(value='')))"
      ]
     },
     "metadata": {},
     "output_type": "display_data"
    },
    {
     "data": {
      "application/vnd.jupyter.widget-view+json": {
       "model_id": "",
       "version_major": 2,
       "version_minor": 0
      },
      "text/plain": [
       "HBox(children=(HTML(value=''), FloatProgress(value=0.0, max=1.0), HTML(value='')))"
      ]
     },
     "metadata": {},
     "output_type": "display_data"
    },
    {
     "data": {
      "application/vnd.jupyter.widget-view+json": {
       "model_id": "",
       "version_major": 2,
       "version_minor": 0
      },
      "text/plain": [
       "HBox(children=(HTML(value=''), FloatProgress(value=0.0, max=1.0), HTML(value='')))"
      ]
     },
     "metadata": {},
     "output_type": "display_data"
    },
    {
     "data": {
      "application/vnd.jupyter.widget-view+json": {
       "model_id": "",
       "version_major": 2,
       "version_minor": 0
      },
      "text/plain": [
       "HBox(children=(HTML(value=''), FloatProgress(value=0.0, max=3.0), HTML(value='')))"
      ]
     },
     "metadata": {},
     "output_type": "display_data"
    },
    {
     "data": {
      "application/vnd.jupyter.widget-view+json": {
       "model_id": "",
       "version_major": 2,
       "version_minor": 0
      },
      "text/plain": [
       "HBox(children=(HTML(value=''), FloatProgress(value=0.0, max=1.0), HTML(value='')))"
      ]
     },
     "metadata": {},
     "output_type": "display_data"
    },
    {
     "data": {
      "application/vnd.jupyter.widget-view+json": {
       "model_id": "",
       "version_major": 2,
       "version_minor": 0
      },
      "text/plain": [
       "HBox(children=(HTML(value=''), FloatProgress(value=0.0, max=1.0), HTML(value='')))"
      ]
     },
     "metadata": {},
     "output_type": "display_data"
    },
    {
     "data": {
      "application/vnd.jupyter.widget-view+json": {
       "model_id": "",
       "version_major": 2,
       "version_minor": 0
      },
      "text/plain": [
       "HBox(children=(HTML(value=''), FloatProgress(value=0.0, max=1.0), HTML(value='')))"
      ]
     },
     "metadata": {},
     "output_type": "display_data"
    },
    {
     "data": {
      "application/vnd.jupyter.widget-view+json": {
       "model_id": "",
       "version_major": 2,
       "version_minor": 0
      },
      "text/plain": [
       "HBox(children=(HTML(value=''), FloatProgress(value=0.0, max=1.0), HTML(value='')))"
      ]
     },
     "metadata": {},
     "output_type": "display_data"
    },
    {
     "data": {
      "application/vnd.jupyter.widget-view+json": {
       "model_id": "",
       "version_major": 2,
       "version_minor": 0
      },
      "text/plain": [
       "HBox(children=(HTML(value=''), FloatProgress(value=0.0, max=8.0), HTML(value='')))"
      ]
     },
     "metadata": {},
     "output_type": "display_data"
    },
    {
     "data": {
      "application/vnd.jupyter.widget-view+json": {
       "model_id": "",
       "version_major": 2,
       "version_minor": 0
      },
      "text/plain": [
       "HBox(children=(HTML(value=''), FloatProgress(value=0.0, max=47.0), HTML(value='')))"
      ]
     },
     "metadata": {},
     "output_type": "display_data"
    },
    {
     "data": {
      "application/vnd.jupyter.widget-view+json": {
       "model_id": "",
       "version_major": 2,
       "version_minor": 0
      },
      "text/plain": [
       "HBox(children=(HTML(value=''), FloatProgress(value=0.0, max=4.0), HTML(value='')))"
      ]
     },
     "metadata": {},
     "output_type": "display_data"
    },
    {
     "data": {
      "application/vnd.jupyter.widget-view+json": {
       "model_id": "",
       "version_major": 2,
       "version_minor": 0
      },
      "text/plain": [
       "HBox(children=(HTML(value=''), FloatProgress(value=0.0, max=1.0), HTML(value='')))"
      ]
     },
     "metadata": {},
     "output_type": "display_data"
    },
    {
     "data": {
      "application/vnd.jupyter.widget-view+json": {
       "model_id": "",
       "version_major": 2,
       "version_minor": 0
      },
      "text/plain": [
       "HBox(children=(HTML(value=''), FloatProgress(value=0.0, max=3.0), HTML(value='')))"
      ]
     },
     "metadata": {},
     "output_type": "display_data"
    },
    {
     "data": {
      "application/vnd.jupyter.widget-view+json": {
       "model_id": "",
       "version_major": 2,
       "version_minor": 0
      },
      "text/plain": [
       "HBox(children=(HTML(value=''), FloatProgress(value=0.0, max=6.0), HTML(value='')))"
      ]
     },
     "metadata": {},
     "output_type": "display_data"
    },
    {
     "data": {
      "application/vnd.jupyter.widget-view+json": {
       "model_id": "",
       "version_major": 2,
       "version_minor": 0
      },
      "text/plain": [
       "HBox(children=(HTML(value=''), FloatProgress(value=0.0, max=1.0), HTML(value='')))"
      ]
     },
     "metadata": {},
     "output_type": "display_data"
    },
    {
     "data": {
      "application/vnd.jupyter.widget-view+json": {
       "model_id": "",
       "version_major": 2,
       "version_minor": 0
      },
      "text/plain": [
       "HBox(children=(HTML(value=''), FloatProgress(value=0.0, max=3.0), HTML(value='')))"
      ]
     },
     "metadata": {},
     "output_type": "display_data"
    },
    {
     "data": {
      "application/vnd.jupyter.widget-view+json": {
       "model_id": "",
       "version_major": 2,
       "version_minor": 0
      },
      "text/plain": [
       "HBox(children=(HTML(value=''), FloatProgress(value=0.0, max=5.0), HTML(value='')))"
      ]
     },
     "metadata": {},
     "output_type": "display_data"
    },
    {
     "data": {
      "application/vnd.jupyter.widget-view+json": {
       "model_id": "",
       "version_major": 2,
       "version_minor": 0
      },
      "text/plain": [
       "HBox(children=(HTML(value=''), FloatProgress(value=0.0, max=8.0), HTML(value='')))"
      ]
     },
     "metadata": {},
     "output_type": "display_data"
    },
    {
     "data": {
      "application/vnd.jupyter.widget-view+json": {
       "model_id": "",
       "version_major": 2,
       "version_minor": 0
      },
      "text/plain": [
       "HBox(children=(HTML(value=''), FloatProgress(value=0.0, max=1.0), HTML(value='')))"
      ]
     },
     "metadata": {},
     "output_type": "display_data"
    },
    {
     "data": {
      "application/vnd.jupyter.widget-view+json": {
       "model_id": "",
       "version_major": 2,
       "version_minor": 0
      },
      "text/plain": [
       "HBox(children=(HTML(value=''), FloatProgress(value=0.0, max=3.0), HTML(value='')))"
      ]
     },
     "metadata": {},
     "output_type": "display_data"
    },
    {
     "data": {
      "application/vnd.jupyter.widget-view+json": {
       "model_id": "",
       "version_major": 2,
       "version_minor": 0
      },
      "text/plain": [
       "HBox(children=(HTML(value=''), FloatProgress(value=0.0, max=7.0), HTML(value='')))"
      ]
     },
     "metadata": {},
     "output_type": "display_data"
    },
    {
     "data": {
      "application/vnd.jupyter.widget-view+json": {
       "model_id": "",
       "version_major": 2,
       "version_minor": 0
      },
      "text/plain": [
       "HBox(children=(HTML(value=''), FloatProgress(value=0.0, max=2.0), HTML(value='')))"
      ]
     },
     "metadata": {},
     "output_type": "display_data"
    },
    {
     "data": {
      "application/vnd.jupyter.widget-view+json": {
       "model_id": "",
       "version_major": 2,
       "version_minor": 0
      },
      "text/plain": [
       "HBox(children=(HTML(value=''), FloatProgress(value=0.0, max=3.0), HTML(value='')))"
      ]
     },
     "metadata": {},
     "output_type": "display_data"
    },
    {
     "data": {
      "application/vnd.jupyter.widget-view+json": {
       "model_id": "",
       "version_major": 2,
       "version_minor": 0
      },
      "text/plain": [
       "HBox(children=(HTML(value=''), FloatProgress(value=0.0, max=1.0), HTML(value='')))"
      ]
     },
     "metadata": {},
     "output_type": "display_data"
    },
    {
     "data": {
      "application/vnd.jupyter.widget-view+json": {
       "model_id": "",
       "version_major": 2,
       "version_minor": 0
      },
      "text/plain": [
       "HBox(children=(HTML(value=''), FloatProgress(value=0.0, max=3.0), HTML(value='')))"
      ]
     },
     "metadata": {},
     "output_type": "display_data"
    },
    {
     "data": {
      "application/vnd.jupyter.widget-view+json": {
       "model_id": "",
       "version_major": 2,
       "version_minor": 0
      },
      "text/plain": [
       "HBox(children=(HTML(value=''), FloatProgress(value=0.0, max=5.0), HTML(value='')))"
      ]
     },
     "metadata": {},
     "output_type": "display_data"
    },
    {
     "data": {
      "application/vnd.jupyter.widget-view+json": {
       "model_id": "",
       "version_major": 2,
       "version_minor": 0
      },
      "text/plain": [
       "HBox(children=(HTML(value=''), FloatProgress(value=0.0, max=2.0), HTML(value='')))"
      ]
     },
     "metadata": {},
     "output_type": "display_data"
    },
    {
     "data": {
      "application/vnd.jupyter.widget-view+json": {
       "model_id": "",
       "version_major": 2,
       "version_minor": 0
      },
      "text/plain": [
       "HBox(children=(HTML(value=''), FloatProgress(value=0.0, max=1.0), HTML(value='')))"
      ]
     },
     "metadata": {},
     "output_type": "display_data"
    },
    {
     "data": {
      "application/vnd.jupyter.widget-view+json": {
       "model_id": "",
       "version_major": 2,
       "version_minor": 0
      },
      "text/plain": [
       "HBox(children=(HTML(value=''), FloatProgress(value=0.0, max=1.0), HTML(value='')))"
      ]
     },
     "metadata": {},
     "output_type": "display_data"
    },
    {
     "data": {
      "application/vnd.jupyter.widget-view+json": {
       "model_id": "",
       "version_major": 2,
       "version_minor": 0
      },
      "text/plain": [
       "HBox(children=(HTML(value=''), FloatProgress(value=0.0, max=12.0), HTML(value='')))"
      ]
     },
     "metadata": {},
     "output_type": "display_data"
    },
    {
     "data": {
      "application/vnd.jupyter.widget-view+json": {
       "model_id": "",
       "version_major": 2,
       "version_minor": 0
      },
      "text/plain": [
       "HBox(children=(HTML(value=''), FloatProgress(value=0.0, max=3.0), HTML(value='')))"
      ]
     },
     "metadata": {},
     "output_type": "display_data"
    },
    {
     "data": {
      "application/vnd.jupyter.widget-view+json": {
       "model_id": "",
       "version_major": 2,
       "version_minor": 0
      },
      "text/plain": [
       "HBox(children=(HTML(value=''), FloatProgress(value=0.0, max=1.0), HTML(value='')))"
      ]
     },
     "metadata": {},
     "output_type": "display_data"
    },
    {
     "data": {
      "application/vnd.jupyter.widget-view+json": {
       "model_id": "",
       "version_major": 2,
       "version_minor": 0
      },
      "text/plain": [
       "HBox(children=(HTML(value=''), FloatProgress(value=0.0, max=1.0), HTML(value='')))"
      ]
     },
     "metadata": {},
     "output_type": "display_data"
    },
    {
     "data": {
      "application/vnd.jupyter.widget-view+json": {
       "model_id": "",
       "version_major": 2,
       "version_minor": 0
      },
      "text/plain": [
       "HBox(children=(HTML(value=''), FloatProgress(value=0.0, max=3.0), HTML(value='')))"
      ]
     },
     "metadata": {},
     "output_type": "display_data"
    },
    {
     "data": {
      "application/vnd.jupyter.widget-view+json": {
       "model_id": "",
       "version_major": 2,
       "version_minor": 0
      },
      "text/plain": [
       "HBox(children=(HTML(value=''), FloatProgress(value=0.0, max=1.0), HTML(value='')))"
      ]
     },
     "metadata": {},
     "output_type": "display_data"
    },
    {
     "data": {
      "application/vnd.jupyter.widget-view+json": {
       "model_id": "",
       "version_major": 2,
       "version_minor": 0
      },
      "text/plain": [
       "HBox(children=(HTML(value=''), FloatProgress(value=0.0, max=2.0), HTML(value='')))"
      ]
     },
     "metadata": {},
     "output_type": "display_data"
    },
    {
     "data": {
      "application/vnd.jupyter.widget-view+json": {
       "model_id": "",
       "version_major": 2,
       "version_minor": 0
      },
      "text/plain": [
       "HBox(children=(HTML(value=''), FloatProgress(value=0.0, max=6.0), HTML(value='')))"
      ]
     },
     "metadata": {},
     "output_type": "display_data"
    },
    {
     "data": {
      "application/vnd.jupyter.widget-view+json": {
       "model_id": "",
       "version_major": 2,
       "version_minor": 0
      },
      "text/plain": [
       "HBox(children=(HTML(value=''), FloatProgress(value=0.0, max=8.0), HTML(value='')))"
      ]
     },
     "metadata": {},
     "output_type": "display_data"
    },
    {
     "data": {
      "application/vnd.jupyter.widget-view+json": {
       "model_id": "",
       "version_major": 2,
       "version_minor": 0
      },
      "text/plain": [
       "HBox(children=(HTML(value=''), FloatProgress(value=0.0, max=1.0), HTML(value='')))"
      ]
     },
     "metadata": {},
     "output_type": "display_data"
    },
    {
     "data": {
      "application/vnd.jupyter.widget-view+json": {
       "model_id": "",
       "version_major": 2,
       "version_minor": 0
      },
      "text/plain": [
       "HBox(children=(HTML(value=''), FloatProgress(value=0.0, max=4.0), HTML(value='')))"
      ]
     },
     "metadata": {},
     "output_type": "display_data"
    },
    {
     "data": {
      "application/vnd.jupyter.widget-view+json": {
       "model_id": "",
       "version_major": 2,
       "version_minor": 0
      },
      "text/plain": [
       "HBox(children=(HTML(value=''), FloatProgress(value=0.0, max=1.0), HTML(value='')))"
      ]
     },
     "metadata": {},
     "output_type": "display_data"
    },
    {
     "data": {
      "application/vnd.jupyter.widget-view+json": {
       "model_id": "",
       "version_major": 2,
       "version_minor": 0
      },
      "text/plain": [
       "HBox(children=(HTML(value=''), FloatProgress(value=0.0, max=8.0), HTML(value='')))"
      ]
     },
     "metadata": {},
     "output_type": "display_data"
    },
    {
     "data": {
      "application/vnd.jupyter.widget-view+json": {
       "model_id": "",
       "version_major": 2,
       "version_minor": 0
      },
      "text/plain": [
       "HBox(children=(HTML(value=''), FloatProgress(value=0.0, max=3.0), HTML(value='')))"
      ]
     },
     "metadata": {},
     "output_type": "display_data"
    },
    {
     "data": {
      "application/vnd.jupyter.widget-view+json": {
       "model_id": "",
       "version_major": 2,
       "version_minor": 0
      },
      "text/plain": [
       "HBox(children=(HTML(value=''), FloatProgress(value=0.0, max=2.0), HTML(value='')))"
      ]
     },
     "metadata": {},
     "output_type": "display_data"
    },
    {
     "data": {
      "application/vnd.jupyter.widget-view+json": {
       "model_id": "",
       "version_major": 2,
       "version_minor": 0
      },
      "text/plain": [
       "HBox(children=(HTML(value=''), FloatProgress(value=0.0, max=4.0), HTML(value='')))"
      ]
     },
     "metadata": {},
     "output_type": "display_data"
    },
    {
     "data": {
      "application/vnd.jupyter.widget-view+json": {
       "model_id": "",
       "version_major": 2,
       "version_minor": 0
      },
      "text/plain": [
       "HBox(children=(HTML(value=''), FloatProgress(value=0.0, max=16.0), HTML(value='')))"
      ]
     },
     "metadata": {},
     "output_type": "display_data"
    },
    {
     "data": {
      "application/vnd.jupyter.widget-view+json": {
       "model_id": "",
       "version_major": 2,
       "version_minor": 0
      },
      "text/plain": [
       "HBox(children=(HTML(value=''), FloatProgress(value=0.0, max=6.0), HTML(value='')))"
      ]
     },
     "metadata": {},
     "output_type": "display_data"
    },
    {
     "data": {
      "application/vnd.jupyter.widget-view+json": {
       "model_id": "",
       "version_major": 2,
       "version_minor": 0
      },
      "text/plain": [
       "HBox(children=(HTML(value=''), FloatProgress(value=0.0, max=1.0), HTML(value='')))"
      ]
     },
     "metadata": {},
     "output_type": "display_data"
    },
    {
     "data": {
      "application/vnd.jupyter.widget-view+json": {
       "model_id": "",
       "version_major": 2,
       "version_minor": 0
      },
      "text/plain": [
       "HBox(children=(HTML(value=''), FloatProgress(value=0.0, max=1.0), HTML(value='')))"
      ]
     },
     "metadata": {},
     "output_type": "display_data"
    },
    {
     "data": {
      "application/vnd.jupyter.widget-view+json": {
       "model_id": "",
       "version_major": 2,
       "version_minor": 0
      },
      "text/plain": [
       "HBox(children=(HTML(value=''), FloatProgress(value=0.0, max=2.0), HTML(value='')))"
      ]
     },
     "metadata": {},
     "output_type": "display_data"
    },
    {
     "data": {
      "application/vnd.jupyter.widget-view+json": {
       "model_id": "",
       "version_major": 2,
       "version_minor": 0
      },
      "text/plain": [
       "HBox(children=(HTML(value=''), FloatProgress(value=0.0, max=2.0), HTML(value='')))"
      ]
     },
     "metadata": {},
     "output_type": "display_data"
    },
    {
     "data": {
      "application/vnd.jupyter.widget-view+json": {
       "model_id": "",
       "version_major": 2,
       "version_minor": 0
      },
      "text/plain": [
       "HBox(children=(HTML(value=''), FloatProgress(value=0.0, max=1.0), HTML(value='')))"
      ]
     },
     "metadata": {},
     "output_type": "display_data"
    },
    {
     "data": {
      "application/vnd.jupyter.widget-view+json": {
       "model_id": "",
       "version_major": 2,
       "version_minor": 0
      },
      "text/plain": [
       "HBox(children=(HTML(value=''), FloatProgress(value=0.0, max=3.0), HTML(value='')))"
      ]
     },
     "metadata": {},
     "output_type": "display_data"
    },
    {
     "data": {
      "application/vnd.jupyter.widget-view+json": {
       "model_id": "",
       "version_major": 2,
       "version_minor": 0
      },
      "text/plain": [
       "HBox(children=(HTML(value=''), FloatProgress(value=0.0, max=4.0), HTML(value='')))"
      ]
     },
     "metadata": {},
     "output_type": "display_data"
    },
    {
     "data": {
      "application/vnd.jupyter.widget-view+json": {
       "model_id": "",
       "version_major": 2,
       "version_minor": 0
      },
      "text/plain": [
       "HBox(children=(HTML(value=''), FloatProgress(value=0.0, max=2.0), HTML(value='')))"
      ]
     },
     "metadata": {},
     "output_type": "display_data"
    },
    {
     "data": {
      "application/vnd.jupyter.widget-view+json": {
       "model_id": "",
       "version_major": 2,
       "version_minor": 0
      },
      "text/plain": [
       "HBox(children=(HTML(value=''), FloatProgress(value=0.0, max=1.0), HTML(value='')))"
      ]
     },
     "metadata": {},
     "output_type": "display_data"
    },
    {
     "data": {
      "application/vnd.jupyter.widget-view+json": {
       "model_id": "",
       "version_major": 2,
       "version_minor": 0
      },
      "text/plain": [
       "HBox(children=(HTML(value=''), FloatProgress(value=0.0, max=15.0), HTML(value='')))"
      ]
     },
     "metadata": {},
     "output_type": "display_data"
    },
    {
     "data": {
      "application/vnd.jupyter.widget-view+json": {
       "model_id": "",
       "version_major": 2,
       "version_minor": 0
      },
      "text/plain": [
       "HBox(children=(HTML(value=''), FloatProgress(value=0.0, max=2.0), HTML(value='')))"
      ]
     },
     "metadata": {},
     "output_type": "display_data"
    },
    {
     "data": {
      "application/vnd.jupyter.widget-view+json": {
       "model_id": "",
       "version_major": 2,
       "version_minor": 0
      },
      "text/plain": [
       "HBox(children=(HTML(value=''), FloatProgress(value=0.0, max=1.0), HTML(value='')))"
      ]
     },
     "metadata": {},
     "output_type": "display_data"
    },
    {
     "data": {
      "application/vnd.jupyter.widget-view+json": {
       "model_id": "",
       "version_major": 2,
       "version_minor": 0
      },
      "text/plain": [
       "HBox(children=(HTML(value=''), FloatProgress(value=0.0, max=8.0), HTML(value='')))"
      ]
     },
     "metadata": {},
     "output_type": "display_data"
    },
    {
     "data": {
      "application/vnd.jupyter.widget-view+json": {
       "model_id": "",
       "version_major": 2,
       "version_minor": 0
      },
      "text/plain": [
       "HBox(children=(HTML(value=''), FloatProgress(value=0.0, max=1.0), HTML(value='')))"
      ]
     },
     "metadata": {},
     "output_type": "display_data"
    },
    {
     "data": {
      "application/vnd.jupyter.widget-view+json": {
       "model_id": "",
       "version_major": 2,
       "version_minor": 0
      },
      "text/plain": [
       "HBox(children=(HTML(value=''), FloatProgress(value=0.0, max=2.0), HTML(value='')))"
      ]
     },
     "metadata": {},
     "output_type": "display_data"
    },
    {
     "data": {
      "application/vnd.jupyter.widget-view+json": {
       "model_id": "",
       "version_major": 2,
       "version_minor": 0
      },
      "text/plain": [
       "HBox(children=(HTML(value=''), FloatProgress(value=0.0, max=2.0), HTML(value='')))"
      ]
     },
     "metadata": {},
     "output_type": "display_data"
    },
    {
     "data": {
      "application/vnd.jupyter.widget-view+json": {
       "model_id": "",
       "version_major": 2,
       "version_minor": 0
      },
      "text/plain": [
       "HBox(children=(HTML(value=''), FloatProgress(value=0.0, max=1.0), HTML(value='')))"
      ]
     },
     "metadata": {},
     "output_type": "display_data"
    },
    {
     "data": {
      "application/vnd.jupyter.widget-view+json": {
       "model_id": "",
       "version_major": 2,
       "version_minor": 0
      },
      "text/plain": [
       "HBox(children=(HTML(value=''), FloatProgress(value=0.0, max=1.0), HTML(value='')))"
      ]
     },
     "metadata": {},
     "output_type": "display_data"
    },
    {
     "data": {
      "application/vnd.jupyter.widget-view+json": {
       "model_id": "",
       "version_major": 2,
       "version_minor": 0
      },
      "text/plain": [
       "HBox(children=(HTML(value=''), FloatProgress(value=0.0, max=1.0), HTML(value='')))"
      ]
     },
     "metadata": {},
     "output_type": "display_data"
    },
    {
     "data": {
      "application/vnd.jupyter.widget-view+json": {
       "model_id": "",
       "version_major": 2,
       "version_minor": 0
      },
      "text/plain": [
       "HBox(children=(HTML(value=''), FloatProgress(value=0.0, max=4.0), HTML(value='')))"
      ]
     },
     "metadata": {},
     "output_type": "display_data"
    },
    {
     "data": {
      "application/vnd.jupyter.widget-view+json": {
       "model_id": "",
       "version_major": 2,
       "version_minor": 0
      },
      "text/plain": [
       "HBox(children=(HTML(value=''), FloatProgress(value=0.0, max=1.0), HTML(value='')))"
      ]
     },
     "metadata": {},
     "output_type": "display_data"
    },
    {
     "data": {
      "application/vnd.jupyter.widget-view+json": {
       "model_id": "",
       "version_major": 2,
       "version_minor": 0
      },
      "text/plain": [
       "HBox(children=(HTML(value=''), FloatProgress(value=0.0, max=6.0), HTML(value='')))"
      ]
     },
     "metadata": {},
     "output_type": "display_data"
    },
    {
     "data": {
      "application/vnd.jupyter.widget-view+json": {
       "model_id": "",
       "version_major": 2,
       "version_minor": 0
      },
      "text/plain": [
       "HBox(children=(HTML(value=''), FloatProgress(value=0.0, max=2.0), HTML(value='')))"
      ]
     },
     "metadata": {},
     "output_type": "display_data"
    },
    {
     "data": {
      "application/vnd.jupyter.widget-view+json": {
       "model_id": "",
       "version_major": 2,
       "version_minor": 0
      },
      "text/plain": [
       "HBox(children=(HTML(value=''), FloatProgress(value=0.0, max=5.0), HTML(value='')))"
      ]
     },
     "metadata": {},
     "output_type": "display_data"
    },
    {
     "data": {
      "application/vnd.jupyter.widget-view+json": {
       "model_id": "",
       "version_major": 2,
       "version_minor": 0
      },
      "text/plain": [
       "HBox(children=(HTML(value=''), FloatProgress(value=0.0, max=3.0), HTML(value='')))"
      ]
     },
     "metadata": {},
     "output_type": "display_data"
    },
    {
     "data": {
      "application/vnd.jupyter.widget-view+json": {
       "model_id": "",
       "version_major": 2,
       "version_minor": 0
      },
      "text/plain": [
       "HBox(children=(HTML(value=''), FloatProgress(value=0.0, max=1.0), HTML(value='')))"
      ]
     },
     "metadata": {},
     "output_type": "display_data"
    },
    {
     "data": {
      "application/vnd.jupyter.widget-view+json": {
       "model_id": "",
       "version_major": 2,
       "version_minor": 0
      },
      "text/plain": [
       "HBox(children=(HTML(value=''), FloatProgress(value=0.0, max=1.0), HTML(value='')))"
      ]
     },
     "metadata": {},
     "output_type": "display_data"
    },
    {
     "data": {
      "application/vnd.jupyter.widget-view+json": {
       "model_id": "",
       "version_major": 2,
       "version_minor": 0
      },
      "text/plain": [
       "HBox(children=(HTML(value=''), FloatProgress(value=0.0, max=2.0), HTML(value='')))"
      ]
     },
     "metadata": {},
     "output_type": "display_data"
    },
    {
     "data": {
      "application/vnd.jupyter.widget-view+json": {
       "model_id": "",
       "version_major": 2,
       "version_minor": 0
      },
      "text/plain": [
       "HBox(children=(HTML(value=''), FloatProgress(value=0.0, max=1.0), HTML(value='')))"
      ]
     },
     "metadata": {},
     "output_type": "display_data"
    },
    {
     "data": {
      "application/vnd.jupyter.widget-view+json": {
       "model_id": "",
       "version_major": 2,
       "version_minor": 0
      },
      "text/plain": [
       "HBox(children=(HTML(value=''), FloatProgress(value=0.0, max=1.0), HTML(value='')))"
      ]
     },
     "metadata": {},
     "output_type": "display_data"
    },
    {
     "data": {
      "application/vnd.jupyter.widget-view+json": {
       "model_id": "",
       "version_major": 2,
       "version_minor": 0
      },
      "text/plain": [
       "HBox(children=(HTML(value=''), FloatProgress(value=0.0, max=1.0), HTML(value='')))"
      ]
     },
     "metadata": {},
     "output_type": "display_data"
    },
    {
     "data": {
      "application/vnd.jupyter.widget-view+json": {
       "model_id": "",
       "version_major": 2,
       "version_minor": 0
      },
      "text/plain": [
       "HBox(children=(HTML(value=''), FloatProgress(value=0.0, max=11.0), HTML(value='')))"
      ]
     },
     "metadata": {},
     "output_type": "display_data"
    },
    {
     "data": {
      "application/vnd.jupyter.widget-view+json": {
       "model_id": "",
       "version_major": 2,
       "version_minor": 0
      },
      "text/plain": [
       "HBox(children=(HTML(value=''), FloatProgress(value=0.0, max=4.0), HTML(value='')))"
      ]
     },
     "metadata": {},
     "output_type": "display_data"
    },
    {
     "data": {
      "application/vnd.jupyter.widget-view+json": {
       "model_id": "",
       "version_major": 2,
       "version_minor": 0
      },
      "text/plain": [
       "HBox(children=(HTML(value=''), FloatProgress(value=0.0, max=1.0), HTML(value='')))"
      ]
     },
     "metadata": {},
     "output_type": "display_data"
    },
    {
     "data": {
      "application/vnd.jupyter.widget-view+json": {
       "model_id": "",
       "version_major": 2,
       "version_minor": 0
      },
      "text/plain": [
       "HBox(children=(HTML(value=''), FloatProgress(value=0.0, max=8.0), HTML(value='')))"
      ]
     },
     "metadata": {},
     "output_type": "display_data"
    },
    {
     "data": {
      "application/vnd.jupyter.widget-view+json": {
       "model_id": "",
       "version_major": 2,
       "version_minor": 0
      },
      "text/plain": [
       "HBox(children=(HTML(value=''), FloatProgress(value=0.0, max=1.0), HTML(value='')))"
      ]
     },
     "metadata": {},
     "output_type": "display_data"
    },
    {
     "data": {
      "application/vnd.jupyter.widget-view+json": {
       "model_id": "",
       "version_major": 2,
       "version_minor": 0
      },
      "text/plain": [
       "HBox(children=(HTML(value=''), FloatProgress(value=0.0, max=1.0), HTML(value='')))"
      ]
     },
     "metadata": {},
     "output_type": "display_data"
    },
    {
     "data": {
      "application/vnd.jupyter.widget-view+json": {
       "model_id": "",
       "version_major": 2,
       "version_minor": 0
      },
      "text/plain": [
       "HBox(children=(HTML(value=''), FloatProgress(value=0.0, max=1.0), HTML(value='')))"
      ]
     },
     "metadata": {},
     "output_type": "display_data"
    },
    {
     "data": {
      "application/vnd.jupyter.widget-view+json": {
       "model_id": "",
       "version_major": 2,
       "version_minor": 0
      },
      "text/plain": [
       "HBox(children=(HTML(value=''), FloatProgress(value=0.0, max=2.0), HTML(value='')))"
      ]
     },
     "metadata": {},
     "output_type": "display_data"
    },
    {
     "data": {
      "application/vnd.jupyter.widget-view+json": {
       "model_id": "",
       "version_major": 2,
       "version_minor": 0
      },
      "text/plain": [
       "HBox(children=(HTML(value=''), FloatProgress(value=0.0, max=2.0), HTML(value='')))"
      ]
     },
     "metadata": {},
     "output_type": "display_data"
    },
    {
     "data": {
      "application/vnd.jupyter.widget-view+json": {
       "model_id": "",
       "version_major": 2,
       "version_minor": 0
      },
      "text/plain": [
       "HBox(children=(HTML(value=''), FloatProgress(value=0.0, max=1.0), HTML(value='')))"
      ]
     },
     "metadata": {},
     "output_type": "display_data"
    },
    {
     "data": {
      "application/vnd.jupyter.widget-view+json": {
       "model_id": "",
       "version_major": 2,
       "version_minor": 0
      },
      "text/plain": [
       "HBox(children=(HTML(value=''), FloatProgress(value=0.0, max=2.0), HTML(value='')))"
      ]
     },
     "metadata": {},
     "output_type": "display_data"
    },
    {
     "data": {
      "application/vnd.jupyter.widget-view+json": {
       "model_id": "",
       "version_major": 2,
       "version_minor": 0
      },
      "text/plain": [
       "HBox(children=(HTML(value=''), FloatProgress(value=0.0, max=9.0), HTML(value='')))"
      ]
     },
     "metadata": {},
     "output_type": "display_data"
    },
    {
     "data": {
      "application/vnd.jupyter.widget-view+json": {
       "model_id": "",
       "version_major": 2,
       "version_minor": 0
      },
      "text/plain": [
       "HBox(children=(HTML(value=''), FloatProgress(value=0.0, max=1.0), HTML(value='')))"
      ]
     },
     "metadata": {},
     "output_type": "display_data"
    },
    {
     "data": {
      "application/vnd.jupyter.widget-view+json": {
       "model_id": "",
       "version_major": 2,
       "version_minor": 0
      },
      "text/plain": [
       "HBox(children=(HTML(value=''), FloatProgress(value=0.0, max=1.0), HTML(value='')))"
      ]
     },
     "metadata": {},
     "output_type": "display_data"
    },
    {
     "data": {
      "application/vnd.jupyter.widget-view+json": {
       "model_id": "",
       "version_major": 2,
       "version_minor": 0
      },
      "text/plain": [
       "HBox(children=(HTML(value=''), FloatProgress(value=0.0, max=4.0), HTML(value='')))"
      ]
     },
     "metadata": {},
     "output_type": "display_data"
    },
    {
     "data": {
      "application/vnd.jupyter.widget-view+json": {
       "model_id": "",
       "version_major": 2,
       "version_minor": 0
      },
      "text/plain": [
       "HBox(children=(HTML(value=''), FloatProgress(value=0.0, max=1.0), HTML(value='')))"
      ]
     },
     "metadata": {},
     "output_type": "display_data"
    },
    {
     "data": {
      "application/vnd.jupyter.widget-view+json": {
       "model_id": "",
       "version_major": 2,
       "version_minor": 0
      },
      "text/plain": [
       "HBox(children=(HTML(value=''), FloatProgress(value=0.0, max=6.0), HTML(value='')))"
      ]
     },
     "metadata": {},
     "output_type": "display_data"
    },
    {
     "data": {
      "application/vnd.jupyter.widget-view+json": {
       "model_id": "",
       "version_major": 2,
       "version_minor": 0
      },
      "text/plain": [
       "HBox(children=(HTML(value=''), FloatProgress(value=0.0, max=4.0), HTML(value='')))"
      ]
     },
     "metadata": {},
     "output_type": "display_data"
    },
    {
     "data": {
      "application/vnd.jupyter.widget-view+json": {
       "model_id": "",
       "version_major": 2,
       "version_minor": 0
      },
      "text/plain": [
       "HBox(children=(HTML(value=''), FloatProgress(value=0.0, max=6.0), HTML(value='')))"
      ]
     },
     "metadata": {},
     "output_type": "display_data"
    },
    {
     "data": {
      "application/vnd.jupyter.widget-view+json": {
       "model_id": "",
       "version_major": 2,
       "version_minor": 0
      },
      "text/plain": [
       "HBox(children=(HTML(value=''), FloatProgress(value=0.0, max=2.0), HTML(value='')))"
      ]
     },
     "metadata": {},
     "output_type": "display_data"
    },
    {
     "data": {
      "application/vnd.jupyter.widget-view+json": {
       "model_id": "",
       "version_major": 2,
       "version_minor": 0
      },
      "text/plain": [
       "HBox(children=(HTML(value=''), FloatProgress(value=0.0, max=1.0), HTML(value='')))"
      ]
     },
     "metadata": {},
     "output_type": "display_data"
    },
    {
     "data": {
      "application/vnd.jupyter.widget-view+json": {
       "model_id": "",
       "version_major": 2,
       "version_minor": 0
      },
      "text/plain": [
       "HBox(children=(HTML(value=''), FloatProgress(value=0.0, max=1.0), HTML(value='')))"
      ]
     },
     "metadata": {},
     "output_type": "display_data"
    },
    {
     "data": {
      "application/vnd.jupyter.widget-view+json": {
       "model_id": "",
       "version_major": 2,
       "version_minor": 0
      },
      "text/plain": [
       "HBox(children=(HTML(value=''), FloatProgress(value=0.0, max=1.0), HTML(value='')))"
      ]
     },
     "metadata": {},
     "output_type": "display_data"
    },
    {
     "data": {
      "application/vnd.jupyter.widget-view+json": {
       "model_id": "",
       "version_major": 2,
       "version_minor": 0
      },
      "text/plain": [
       "HBox(children=(HTML(value=''), FloatProgress(value=0.0, max=1.0), HTML(value='')))"
      ]
     },
     "metadata": {},
     "output_type": "display_data"
    },
    {
     "data": {
      "application/vnd.jupyter.widget-view+json": {
       "model_id": "",
       "version_major": 2,
       "version_minor": 0
      },
      "text/plain": [
       "HBox(children=(HTML(value=''), FloatProgress(value=0.0, max=12.0), HTML(value='')))"
      ]
     },
     "metadata": {},
     "output_type": "display_data"
    },
    {
     "data": {
      "application/vnd.jupyter.widget-view+json": {
       "model_id": "",
       "version_major": 2,
       "version_minor": 0
      },
      "text/plain": [
       "HBox(children=(HTML(value=''), FloatProgress(value=0.0, max=1.0), HTML(value='')))"
      ]
     },
     "metadata": {},
     "output_type": "display_data"
    },
    {
     "data": {
      "application/vnd.jupyter.widget-view+json": {
       "model_id": "",
       "version_major": 2,
       "version_minor": 0
      },
      "text/plain": [
       "HBox(children=(HTML(value=''), FloatProgress(value=0.0, max=1.0), HTML(value='')))"
      ]
     },
     "metadata": {},
     "output_type": "display_data"
    },
    {
     "data": {
      "application/vnd.jupyter.widget-view+json": {
       "model_id": "",
       "version_major": 2,
       "version_minor": 0
      },
      "text/plain": [
       "HBox(children=(HTML(value=''), FloatProgress(value=0.0, max=1.0), HTML(value='')))"
      ]
     },
     "metadata": {},
     "output_type": "display_data"
    },
    {
     "data": {
      "application/vnd.jupyter.widget-view+json": {
       "model_id": "",
       "version_major": 2,
       "version_minor": 0
      },
      "text/plain": [
       "HBox(children=(HTML(value=''), FloatProgress(value=0.0, max=2.0), HTML(value='')))"
      ]
     },
     "metadata": {},
     "output_type": "display_data"
    },
    {
     "data": {
      "application/vnd.jupyter.widget-view+json": {
       "model_id": "",
       "version_major": 2,
       "version_minor": 0
      },
      "text/plain": [
       "HBox(children=(HTML(value=''), FloatProgress(value=0.0, max=1.0), HTML(value='')))"
      ]
     },
     "metadata": {},
     "output_type": "display_data"
    },
    {
     "data": {
      "application/vnd.jupyter.widget-view+json": {
       "model_id": "",
       "version_major": 2,
       "version_minor": 0
      },
      "text/plain": [
       "HBox(children=(HTML(value=''), FloatProgress(value=0.0, max=55.0), HTML(value='')))"
      ]
     },
     "metadata": {},
     "output_type": "display_data"
    },
    {
     "data": {
      "application/vnd.jupyter.widget-view+json": {
       "model_id": "",
       "version_major": 2,
       "version_minor": 0
      },
      "text/plain": [
       "HBox(children=(HTML(value=''), FloatProgress(value=0.0, max=1.0), HTML(value='')))"
      ]
     },
     "metadata": {},
     "output_type": "display_data"
    },
    {
     "data": {
      "application/vnd.jupyter.widget-view+json": {
       "model_id": "",
       "version_major": 2,
       "version_minor": 0
      },
      "text/plain": [
       "HBox(children=(HTML(value=''), FloatProgress(value=0.0, max=1.0), HTML(value='')))"
      ]
     },
     "metadata": {},
     "output_type": "display_data"
    },
    {
     "data": {
      "application/vnd.jupyter.widget-view+json": {
       "model_id": "",
       "version_major": 2,
       "version_minor": 0
      },
      "text/plain": [
       "HBox(children=(HTML(value=''), FloatProgress(value=0.0, max=1.0), HTML(value='')))"
      ]
     },
     "metadata": {},
     "output_type": "display_data"
    },
    {
     "data": {
      "application/vnd.jupyter.widget-view+json": {
       "model_id": "",
       "version_major": 2,
       "version_minor": 0
      },
      "text/plain": [
       "HBox(children=(HTML(value=''), FloatProgress(value=0.0, max=1.0), HTML(value='')))"
      ]
     },
     "metadata": {},
     "output_type": "display_data"
    },
    {
     "data": {
      "application/vnd.jupyter.widget-view+json": {
       "model_id": "",
       "version_major": 2,
       "version_minor": 0
      },
      "text/plain": [
       "HBox(children=(HTML(value=''), FloatProgress(value=0.0, max=2.0), HTML(value='')))"
      ]
     },
     "metadata": {},
     "output_type": "display_data"
    },
    {
     "data": {
      "application/vnd.jupyter.widget-view+json": {
       "model_id": "",
       "version_major": 2,
       "version_minor": 0
      },
      "text/plain": [
       "HBox(children=(HTML(value=''), FloatProgress(value=0.0, max=1.0), HTML(value='')))"
      ]
     },
     "metadata": {},
     "output_type": "display_data"
    },
    {
     "data": {
      "application/vnd.jupyter.widget-view+json": {
       "model_id": "",
       "version_major": 2,
       "version_minor": 0
      },
      "text/plain": [
       "HBox(children=(HTML(value=''), FloatProgress(value=0.0, max=3.0), HTML(value='')))"
      ]
     },
     "metadata": {},
     "output_type": "display_data"
    },
    {
     "data": {
      "application/vnd.jupyter.widget-view+json": {
       "model_id": "",
       "version_major": 2,
       "version_minor": 0
      },
      "text/plain": [
       "HBox(children=(HTML(value=''), FloatProgress(value=0.0, max=3.0), HTML(value='')))"
      ]
     },
     "metadata": {},
     "output_type": "display_data"
    },
    {
     "data": {
      "application/vnd.jupyter.widget-view+json": {
       "model_id": "",
       "version_major": 2,
       "version_minor": 0
      },
      "text/plain": [
       "HBox(children=(HTML(value=''), FloatProgress(value=0.0, max=1.0), HTML(value='')))"
      ]
     },
     "metadata": {},
     "output_type": "display_data"
    },
    {
     "data": {
      "application/vnd.jupyter.widget-view+json": {
       "model_id": "",
       "version_major": 2,
       "version_minor": 0
      },
      "text/plain": [
       "HBox(children=(HTML(value=''), FloatProgress(value=0.0, max=1.0), HTML(value='')))"
      ]
     },
     "metadata": {},
     "output_type": "display_data"
    },
    {
     "data": {
      "application/vnd.jupyter.widget-view+json": {
       "model_id": "",
       "version_major": 2,
       "version_minor": 0
      },
      "text/plain": [
       "HBox(children=(HTML(value=''), FloatProgress(value=0.0, max=1.0), HTML(value='')))"
      ]
     },
     "metadata": {},
     "output_type": "display_data"
    },
    {
     "data": {
      "application/vnd.jupyter.widget-view+json": {
       "model_id": "",
       "version_major": 2,
       "version_minor": 0
      },
      "text/plain": [
       "HBox(children=(HTML(value=''), FloatProgress(value=0.0, max=1.0), HTML(value='')))"
      ]
     },
     "metadata": {},
     "output_type": "display_data"
    },
    {
     "data": {
      "application/vnd.jupyter.widget-view+json": {
       "model_id": "",
       "version_major": 2,
       "version_minor": 0
      },
      "text/plain": [
       "HBox(children=(HTML(value=''), FloatProgress(value=0.0, max=1.0), HTML(value='')))"
      ]
     },
     "metadata": {},
     "output_type": "display_data"
    },
    {
     "data": {
      "application/vnd.jupyter.widget-view+json": {
       "model_id": "",
       "version_major": 2,
       "version_minor": 0
      },
      "text/plain": [
       "HBox(children=(HTML(value=''), FloatProgress(value=0.0, max=1.0), HTML(value='')))"
      ]
     },
     "metadata": {},
     "output_type": "display_data"
    },
    {
     "data": {
      "application/vnd.jupyter.widget-view+json": {
       "model_id": "",
       "version_major": 2,
       "version_minor": 0
      },
      "text/plain": [
       "HBox(children=(HTML(value=''), FloatProgress(value=0.0, max=1.0), HTML(value='')))"
      ]
     },
     "metadata": {},
     "output_type": "display_data"
    },
    {
     "data": {
      "application/vnd.jupyter.widget-view+json": {
       "model_id": "",
       "version_major": 2,
       "version_minor": 0
      },
      "text/plain": [
       "HBox(children=(HTML(value=''), FloatProgress(value=0.0, max=1.0), HTML(value='')))"
      ]
     },
     "metadata": {},
     "output_type": "display_data"
    },
    {
     "data": {
      "application/vnd.jupyter.widget-view+json": {
       "model_id": "",
       "version_major": 2,
       "version_minor": 0
      },
      "text/plain": [
       "HBox(children=(HTML(value=''), FloatProgress(value=0.0, max=1.0), HTML(value='')))"
      ]
     },
     "metadata": {},
     "output_type": "display_data"
    },
    {
     "data": {
      "application/vnd.jupyter.widget-view+json": {
       "model_id": "",
       "version_major": 2,
       "version_minor": 0
      },
      "text/plain": [
       "HBox(children=(HTML(value=''), FloatProgress(value=0.0, max=9.0), HTML(value='')))"
      ]
     },
     "metadata": {},
     "output_type": "display_data"
    },
    {
     "data": {
      "application/vnd.jupyter.widget-view+json": {
       "model_id": "",
       "version_major": 2,
       "version_minor": 0
      },
      "text/plain": [
       "HBox(children=(HTML(value=''), FloatProgress(value=0.0, max=1.0), HTML(value='')))"
      ]
     },
     "metadata": {},
     "output_type": "display_data"
    },
    {
     "data": {
      "application/vnd.jupyter.widget-view+json": {
       "model_id": "",
       "version_major": 2,
       "version_minor": 0
      },
      "text/plain": [
       "HBox(children=(HTML(value=''), FloatProgress(value=0.0, max=1.0), HTML(value='')))"
      ]
     },
     "metadata": {},
     "output_type": "display_data"
    },
    {
     "data": {
      "application/vnd.jupyter.widget-view+json": {
       "model_id": "",
       "version_major": 2,
       "version_minor": 0
      },
      "text/plain": [
       "HBox(children=(HTML(value=''), FloatProgress(value=0.0, max=1.0), HTML(value='')))"
      ]
     },
     "metadata": {},
     "output_type": "display_data"
    },
    {
     "data": {
      "application/vnd.jupyter.widget-view+json": {
       "model_id": "",
       "version_major": 2,
       "version_minor": 0
      },
      "text/plain": [
       "HBox(children=(HTML(value=''), FloatProgress(value=0.0, max=1.0), HTML(value='')))"
      ]
     },
     "metadata": {},
     "output_type": "display_data"
    },
    {
     "data": {
      "application/vnd.jupyter.widget-view+json": {
       "model_id": "",
       "version_major": 2,
       "version_minor": 0
      },
      "text/plain": [
       "HBox(children=(HTML(value=''), FloatProgress(value=0.0, max=3.0), HTML(value='')))"
      ]
     },
     "metadata": {},
     "output_type": "display_data"
    },
    {
     "data": {
      "application/vnd.jupyter.widget-view+json": {
       "model_id": "",
       "version_major": 2,
       "version_minor": 0
      },
      "text/plain": [
       "HBox(children=(HTML(value=''), FloatProgress(value=0.0, max=1.0), HTML(value='')))"
      ]
     },
     "metadata": {},
     "output_type": "display_data"
    },
    {
     "data": {
      "application/vnd.jupyter.widget-view+json": {
       "model_id": "",
       "version_major": 2,
       "version_minor": 0
      },
      "text/plain": [
       "HBox(children=(HTML(value=''), FloatProgress(value=0.0, max=2.0), HTML(value='')))"
      ]
     },
     "metadata": {},
     "output_type": "display_data"
    },
    {
     "data": {
      "application/vnd.jupyter.widget-view+json": {
       "model_id": "",
       "version_major": 2,
       "version_minor": 0
      },
      "text/plain": [
       "HBox(children=(HTML(value=''), FloatProgress(value=0.0, max=1.0), HTML(value='')))"
      ]
     },
     "metadata": {},
     "output_type": "display_data"
    },
    {
     "data": {
      "application/vnd.jupyter.widget-view+json": {
       "model_id": "",
       "version_major": 2,
       "version_minor": 0
      },
      "text/plain": [
       "HBox(children=(HTML(value=''), FloatProgress(value=0.0, max=2.0), HTML(value='')))"
      ]
     },
     "metadata": {},
     "output_type": "display_data"
    },
    {
     "data": {
      "application/vnd.jupyter.widget-view+json": {
       "model_id": "",
       "version_major": 2,
       "version_minor": 0
      },
      "text/plain": [
       "HBox(children=(HTML(value=''), FloatProgress(value=0.0, max=2.0), HTML(value='')))"
      ]
     },
     "metadata": {},
     "output_type": "display_data"
    },
    {
     "data": {
      "application/vnd.jupyter.widget-view+json": {
       "model_id": "",
       "version_major": 2,
       "version_minor": 0
      },
      "text/plain": [
       "HBox(children=(HTML(value=''), FloatProgress(value=0.0, max=1.0), HTML(value='')))"
      ]
     },
     "metadata": {},
     "output_type": "display_data"
    },
    {
     "data": {
      "application/vnd.jupyter.widget-view+json": {
       "model_id": "",
       "version_major": 2,
       "version_minor": 0
      },
      "text/plain": [
       "HBox(children=(HTML(value=''), FloatProgress(value=0.0, max=1.0), HTML(value='')))"
      ]
     },
     "metadata": {},
     "output_type": "display_data"
    },
    {
     "data": {
      "application/vnd.jupyter.widget-view+json": {
       "model_id": "",
       "version_major": 2,
       "version_minor": 0
      },
      "text/plain": [
       "HBox(children=(HTML(value=''), FloatProgress(value=0.0, max=3.0), HTML(value='')))"
      ]
     },
     "metadata": {},
     "output_type": "display_data"
    },
    {
     "data": {
      "application/vnd.jupyter.widget-view+json": {
       "model_id": "",
       "version_major": 2,
       "version_minor": 0
      },
      "text/plain": [
       "HBox(children=(HTML(value=''), FloatProgress(value=0.0, max=11.0), HTML(value='')))"
      ]
     },
     "metadata": {},
     "output_type": "display_data"
    },
    {
     "data": {
      "application/vnd.jupyter.widget-view+json": {
       "model_id": "",
       "version_major": 2,
       "version_minor": 0
      },
      "text/plain": [
       "HBox(children=(HTML(value=''), FloatProgress(value=0.0, max=1.0), HTML(value='')))"
      ]
     },
     "metadata": {},
     "output_type": "display_data"
    },
    {
     "data": {
      "application/vnd.jupyter.widget-view+json": {
       "model_id": "",
       "version_major": 2,
       "version_minor": 0
      },
      "text/plain": [
       "HBox(children=(HTML(value=''), FloatProgress(value=0.0, max=2.0), HTML(value='')))"
      ]
     },
     "metadata": {},
     "output_type": "display_data"
    },
    {
     "data": {
      "application/vnd.jupyter.widget-view+json": {
       "model_id": "",
       "version_major": 2,
       "version_minor": 0
      },
      "text/plain": [
       "HBox(children=(HTML(value=''), FloatProgress(value=0.0, max=1.0), HTML(value='')))"
      ]
     },
     "metadata": {},
     "output_type": "display_data"
    },
    {
     "data": {
      "application/vnd.jupyter.widget-view+json": {
       "model_id": "",
       "version_major": 2,
       "version_minor": 0
      },
      "text/plain": [
       "HBox(children=(HTML(value=''), FloatProgress(value=0.0, max=5.0), HTML(value='')))"
      ]
     },
     "metadata": {},
     "output_type": "display_data"
    },
    {
     "data": {
      "application/vnd.jupyter.widget-view+json": {
       "model_id": "",
       "version_major": 2,
       "version_minor": 0
      },
      "text/plain": [
       "HBox(children=(HTML(value=''), FloatProgress(value=0.0, max=1.0), HTML(value='')))"
      ]
     },
     "metadata": {},
     "output_type": "display_data"
    },
    {
     "data": {
      "application/vnd.jupyter.widget-view+json": {
       "model_id": "",
       "version_major": 2,
       "version_minor": 0
      },
      "text/plain": [
       "HBox(children=(HTML(value=''), FloatProgress(value=0.0, max=1.0), HTML(value='')))"
      ]
     },
     "metadata": {},
     "output_type": "display_data"
    },
    {
     "data": {
      "application/vnd.jupyter.widget-view+json": {
       "model_id": "",
       "version_major": 2,
       "version_minor": 0
      },
      "text/plain": [
       "HBox(children=(HTML(value=''), FloatProgress(value=0.0, max=1.0), HTML(value='')))"
      ]
     },
     "metadata": {},
     "output_type": "display_data"
    },
    {
     "data": {
      "application/vnd.jupyter.widget-view+json": {
       "model_id": "",
       "version_major": 2,
       "version_minor": 0
      },
      "text/plain": [
       "HBox(children=(HTML(value=''), FloatProgress(value=0.0, max=1.0), HTML(value='')))"
      ]
     },
     "metadata": {},
     "output_type": "display_data"
    },
    {
     "data": {
      "application/vnd.jupyter.widget-view+json": {
       "model_id": "",
       "version_major": 2,
       "version_minor": 0
      },
      "text/plain": [
       "HBox(children=(HTML(value=''), FloatProgress(value=0.0, max=2.0), HTML(value='')))"
      ]
     },
     "metadata": {},
     "output_type": "display_data"
    },
    {
     "data": {
      "application/vnd.jupyter.widget-view+json": {
       "model_id": "",
       "version_major": 2,
       "version_minor": 0
      },
      "text/plain": [
       "HBox(children=(HTML(value=''), FloatProgress(value=0.0, max=1.0), HTML(value='')))"
      ]
     },
     "metadata": {},
     "output_type": "display_data"
    },
    {
     "data": {
      "application/vnd.jupyter.widget-view+json": {
       "model_id": "",
       "version_major": 2,
       "version_minor": 0
      },
      "text/plain": [
       "HBox(children=(HTML(value=''), FloatProgress(value=0.0, max=3.0), HTML(value='')))"
      ]
     },
     "metadata": {},
     "output_type": "display_data"
    },
    {
     "data": {
      "application/vnd.jupyter.widget-view+json": {
       "model_id": "",
       "version_major": 2,
       "version_minor": 0
      },
      "text/plain": [
       "HBox(children=(HTML(value=''), FloatProgress(value=0.0, max=1.0), HTML(value='')))"
      ]
     },
     "metadata": {},
     "output_type": "display_data"
    },
    {
     "data": {
      "application/vnd.jupyter.widget-view+json": {
       "model_id": "",
       "version_major": 2,
       "version_minor": 0
      },
      "text/plain": [
       "HBox(children=(HTML(value=''), FloatProgress(value=0.0, max=7.0), HTML(value='')))"
      ]
     },
     "metadata": {},
     "output_type": "display_data"
    },
    {
     "data": {
      "application/vnd.jupyter.widget-view+json": {
       "model_id": "",
       "version_major": 2,
       "version_minor": 0
      },
      "text/plain": [
       "HBox(children=(HTML(value=''), FloatProgress(value=0.0, max=1.0), HTML(value='')))"
      ]
     },
     "metadata": {},
     "output_type": "display_data"
    },
    {
     "data": {
      "application/vnd.jupyter.widget-view+json": {
       "model_id": "",
       "version_major": 2,
       "version_minor": 0
      },
      "text/plain": [
       "HBox(children=(HTML(value=''), FloatProgress(value=0.0, max=2.0), HTML(value='')))"
      ]
     },
     "metadata": {},
     "output_type": "display_data"
    },
    {
     "data": {
      "application/vnd.jupyter.widget-view+json": {
       "model_id": "",
       "version_major": 2,
       "version_minor": 0
      },
      "text/plain": [
       "HBox(children=(HTML(value=''), FloatProgress(value=0.0, max=1.0), HTML(value='')))"
      ]
     },
     "metadata": {},
     "output_type": "display_data"
    },
    {
     "data": {
      "application/vnd.jupyter.widget-view+json": {
       "model_id": "",
       "version_major": 2,
       "version_minor": 0
      },
      "text/plain": [
       "HBox(children=(HTML(value=''), FloatProgress(value=0.0, max=1.0), HTML(value='')))"
      ]
     },
     "metadata": {},
     "output_type": "display_data"
    },
    {
     "data": {
      "application/vnd.jupyter.widget-view+json": {
       "model_id": "",
       "version_major": 2,
       "version_minor": 0
      },
      "text/plain": [
       "HBox(children=(HTML(value=''), FloatProgress(value=0.0, max=1.0), HTML(value='')))"
      ]
     },
     "metadata": {},
     "output_type": "display_data"
    },
    {
     "data": {
      "application/vnd.jupyter.widget-view+json": {
       "model_id": "",
       "version_major": 2,
       "version_minor": 0
      },
      "text/plain": [
       "HBox(children=(HTML(value=''), FloatProgress(value=0.0, max=1.0), HTML(value='')))"
      ]
     },
     "metadata": {},
     "output_type": "display_data"
    },
    {
     "data": {
      "application/vnd.jupyter.widget-view+json": {
       "model_id": "",
       "version_major": 2,
       "version_minor": 0
      },
      "text/plain": [
       "HBox(children=(HTML(value=''), FloatProgress(value=0.0, max=1.0), HTML(value='')))"
      ]
     },
     "metadata": {},
     "output_type": "display_data"
    },
    {
     "data": {
      "application/vnd.jupyter.widget-view+json": {
       "model_id": "",
       "version_major": 2,
       "version_minor": 0
      },
      "text/plain": [
       "HBox(children=(HTML(value=''), FloatProgress(value=0.0, max=1.0), HTML(value='')))"
      ]
     },
     "metadata": {},
     "output_type": "display_data"
    },
    {
     "data": {
      "application/vnd.jupyter.widget-view+json": {
       "model_id": "",
       "version_major": 2,
       "version_minor": 0
      },
      "text/plain": [
       "HBox(children=(HTML(value=''), FloatProgress(value=0.0, max=1.0), HTML(value='')))"
      ]
     },
     "metadata": {},
     "output_type": "display_data"
    },
    {
     "data": {
      "application/vnd.jupyter.widget-view+json": {
       "model_id": "",
       "version_major": 2,
       "version_minor": 0
      },
      "text/plain": [
       "HBox(children=(HTML(value=''), FloatProgress(value=0.0, max=1.0), HTML(value='')))"
      ]
     },
     "metadata": {},
     "output_type": "display_data"
    },
    {
     "data": {
      "application/vnd.jupyter.widget-view+json": {
       "model_id": "",
       "version_major": 2,
       "version_minor": 0
      },
      "text/plain": [
       "HBox(children=(HTML(value=''), FloatProgress(value=0.0, max=72.0), HTML(value='')))"
      ]
     },
     "metadata": {},
     "output_type": "display_data"
    },
    {
     "data": {
      "application/vnd.jupyter.widget-view+json": {
       "model_id": "",
       "version_major": 2,
       "version_minor": 0
      },
      "text/plain": [
       "HBox(children=(HTML(value=''), FloatProgress(value=0.0, max=1.0), HTML(value='')))"
      ]
     },
     "metadata": {},
     "output_type": "display_data"
    },
    {
     "data": {
      "application/vnd.jupyter.widget-view+json": {
       "model_id": "",
       "version_major": 2,
       "version_minor": 0
      },
      "text/plain": [
       "HBox(children=(HTML(value=''), FloatProgress(value=0.0, max=2.0), HTML(value='')))"
      ]
     },
     "metadata": {},
     "output_type": "display_data"
    },
    {
     "data": {
      "application/vnd.jupyter.widget-view+json": {
       "model_id": "",
       "version_major": 2,
       "version_minor": 0
      },
      "text/plain": [
       "HBox(children=(HTML(value=''), FloatProgress(value=0.0, max=2.0), HTML(value='')))"
      ]
     },
     "metadata": {},
     "output_type": "display_data"
    },
    {
     "data": {
      "application/vnd.jupyter.widget-view+json": {
       "model_id": "",
       "version_major": 2,
       "version_minor": 0
      },
      "text/plain": [
       "HBox(children=(HTML(value=''), FloatProgress(value=0.0, max=1.0), HTML(value='')))"
      ]
     },
     "metadata": {},
     "output_type": "display_data"
    },
    {
     "data": {
      "application/vnd.jupyter.widget-view+json": {
       "model_id": "",
       "version_major": 2,
       "version_minor": 0
      },
      "text/plain": [
       "HBox(children=(HTML(value=''), FloatProgress(value=0.0, max=29.0), HTML(value='')))"
      ]
     },
     "metadata": {},
     "output_type": "display_data"
    },
    {
     "data": {
      "application/vnd.jupyter.widget-view+json": {
       "model_id": "",
       "version_major": 2,
       "version_minor": 0
      },
      "text/plain": [
       "HBox(children=(HTML(value=''), FloatProgress(value=0.0, max=2.0), HTML(value='')))"
      ]
     },
     "metadata": {},
     "output_type": "display_data"
    },
    {
     "data": {
      "application/vnd.jupyter.widget-view+json": {
       "model_id": "",
       "version_major": 2,
       "version_minor": 0
      },
      "text/plain": [
       "HBox(children=(HTML(value=''), FloatProgress(value=0.0, max=5.0), HTML(value='')))"
      ]
     },
     "metadata": {},
     "output_type": "display_data"
    },
    {
     "data": {
      "application/vnd.jupyter.widget-view+json": {
       "model_id": "",
       "version_major": 2,
       "version_minor": 0
      },
      "text/plain": [
       "HBox(children=(HTML(value=''), FloatProgress(value=0.0, max=1.0), HTML(value='')))"
      ]
     },
     "metadata": {},
     "output_type": "display_data"
    },
    {
     "data": {
      "application/vnd.jupyter.widget-view+json": {
       "model_id": "",
       "version_major": 2,
       "version_minor": 0
      },
      "text/plain": [
       "HBox(children=(HTML(value=''), FloatProgress(value=0.0, max=2.0), HTML(value='')))"
      ]
     },
     "metadata": {},
     "output_type": "display_data"
    },
    {
     "data": {
      "application/vnd.jupyter.widget-view+json": {
       "model_id": "",
       "version_major": 2,
       "version_minor": 0
      },
      "text/plain": [
       "HBox(children=(HTML(value=''), FloatProgress(value=0.0, max=1.0), HTML(value='')))"
      ]
     },
     "metadata": {},
     "output_type": "display_data"
    },
    {
     "data": {
      "application/vnd.jupyter.widget-view+json": {
       "model_id": "",
       "version_major": 2,
       "version_minor": 0
      },
      "text/plain": [
       "HBox(children=(HTML(value=''), FloatProgress(value=0.0, max=1.0), HTML(value='')))"
      ]
     },
     "metadata": {},
     "output_type": "display_data"
    },
    {
     "data": {
      "application/vnd.jupyter.widget-view+json": {
       "model_id": "",
       "version_major": 2,
       "version_minor": 0
      },
      "text/plain": [
       "HBox(children=(HTML(value=''), FloatProgress(value=0.0, max=4.0), HTML(value='')))"
      ]
     },
     "metadata": {},
     "output_type": "display_data"
    },
    {
     "data": {
      "application/vnd.jupyter.widget-view+json": {
       "model_id": "",
       "version_major": 2,
       "version_minor": 0
      },
      "text/plain": [
       "HBox(children=(HTML(value=''), FloatProgress(value=0.0, max=2.0), HTML(value='')))"
      ]
     },
     "metadata": {},
     "output_type": "display_data"
    },
    {
     "data": {
      "application/vnd.jupyter.widget-view+json": {
       "model_id": "",
       "version_major": 2,
       "version_minor": 0
      },
      "text/plain": [
       "HBox(children=(HTML(value=''), FloatProgress(value=0.0, max=2.0), HTML(value='')))"
      ]
     },
     "metadata": {},
     "output_type": "display_data"
    },
    {
     "data": {
      "application/vnd.jupyter.widget-view+json": {
       "model_id": "",
       "version_major": 2,
       "version_minor": 0
      },
      "text/plain": [
       "HBox(children=(HTML(value=''), FloatProgress(value=0.0, max=1.0), HTML(value='')))"
      ]
     },
     "metadata": {},
     "output_type": "display_data"
    },
    {
     "data": {
      "application/vnd.jupyter.widget-view+json": {
       "model_id": "",
       "version_major": 2,
       "version_minor": 0
      },
      "text/plain": [
       "HBox(children=(HTML(value=''), FloatProgress(value=0.0, max=1.0), HTML(value='')))"
      ]
     },
     "metadata": {},
     "output_type": "display_data"
    },
    {
     "data": {
      "application/vnd.jupyter.widget-view+json": {
       "model_id": "",
       "version_major": 2,
       "version_minor": 0
      },
      "text/plain": [
       "HBox(children=(HTML(value=''), FloatProgress(value=0.0, max=1.0), HTML(value='')))"
      ]
     },
     "metadata": {},
     "output_type": "display_data"
    },
    {
     "data": {
      "application/vnd.jupyter.widget-view+json": {
       "model_id": "",
       "version_major": 2,
       "version_minor": 0
      },
      "text/plain": [
       "HBox(children=(HTML(value=''), FloatProgress(value=0.0, max=3.0), HTML(value='')))"
      ]
     },
     "metadata": {},
     "output_type": "display_data"
    },
    {
     "data": {
      "application/vnd.jupyter.widget-view+json": {
       "model_id": "",
       "version_major": 2,
       "version_minor": 0
      },
      "text/plain": [
       "HBox(children=(HTML(value=''), FloatProgress(value=0.0, max=1.0), HTML(value='')))"
      ]
     },
     "metadata": {},
     "output_type": "display_data"
    },
    {
     "data": {
      "application/vnd.jupyter.widget-view+json": {
       "model_id": "",
       "version_major": 2,
       "version_minor": 0
      },
      "text/plain": [
       "HBox(children=(HTML(value=''), FloatProgress(value=0.0, max=1.0), HTML(value='')))"
      ]
     },
     "metadata": {},
     "output_type": "display_data"
    },
    {
     "data": {
      "application/vnd.jupyter.widget-view+json": {
       "model_id": "",
       "version_major": 2,
       "version_minor": 0
      },
      "text/plain": [
       "HBox(children=(HTML(value=''), FloatProgress(value=0.0, max=1.0), HTML(value='')))"
      ]
     },
     "metadata": {},
     "output_type": "display_data"
    },
    {
     "data": {
      "application/vnd.jupyter.widget-view+json": {
       "model_id": "",
       "version_major": 2,
       "version_minor": 0
      },
      "text/plain": [
       "HBox(children=(HTML(value=''), FloatProgress(value=0.0, max=6.0), HTML(value='')))"
      ]
     },
     "metadata": {},
     "output_type": "display_data"
    },
    {
     "data": {
      "application/vnd.jupyter.widget-view+json": {
       "model_id": "",
       "version_major": 2,
       "version_minor": 0
      },
      "text/plain": [
       "HBox(children=(HTML(value=''), FloatProgress(value=0.0, max=5.0), HTML(value='')))"
      ]
     },
     "metadata": {},
     "output_type": "display_data"
    },
    {
     "data": {
      "application/vnd.jupyter.widget-view+json": {
       "model_id": "",
       "version_major": 2,
       "version_minor": 0
      },
      "text/plain": [
       "HBox(children=(HTML(value=''), FloatProgress(value=0.0, max=1.0), HTML(value='')))"
      ]
     },
     "metadata": {},
     "output_type": "display_data"
    },
    {
     "data": {
      "application/vnd.jupyter.widget-view+json": {
       "model_id": "",
       "version_major": 2,
       "version_minor": 0
      },
      "text/plain": [
       "HBox(children=(HTML(value=''), FloatProgress(value=0.0, max=14.0), HTML(value='')))"
      ]
     },
     "metadata": {},
     "output_type": "display_data"
    },
    {
     "data": {
      "application/vnd.jupyter.widget-view+json": {
       "model_id": "",
       "version_major": 2,
       "version_minor": 0
      },
      "text/plain": [
       "HBox(children=(HTML(value=''), FloatProgress(value=0.0, max=1.0), HTML(value='')))"
      ]
     },
     "metadata": {},
     "output_type": "display_data"
    },
    {
     "data": {
      "application/vnd.jupyter.widget-view+json": {
       "model_id": "",
       "version_major": 2,
       "version_minor": 0
      },
      "text/plain": [
       "HBox(children=(HTML(value=''), FloatProgress(value=0.0, max=3.0), HTML(value='')))"
      ]
     },
     "metadata": {},
     "output_type": "display_data"
    },
    {
     "data": {
      "application/vnd.jupyter.widget-view+json": {
       "model_id": "",
       "version_major": 2,
       "version_minor": 0
      },
      "text/plain": [
       "HBox(children=(HTML(value=''), FloatProgress(value=0.0, max=2.0), HTML(value='')))"
      ]
     },
     "metadata": {},
     "output_type": "display_data"
    },
    {
     "data": {
      "application/vnd.jupyter.widget-view+json": {
       "model_id": "",
       "version_major": 2,
       "version_minor": 0
      },
      "text/plain": [
       "HBox(children=(HTML(value=''), FloatProgress(value=0.0, max=3.0), HTML(value='')))"
      ]
     },
     "metadata": {},
     "output_type": "display_data"
    },
    {
     "data": {
      "application/vnd.jupyter.widget-view+json": {
       "model_id": "",
       "version_major": 2,
       "version_minor": 0
      },
      "text/plain": [
       "HBox(children=(HTML(value=''), FloatProgress(value=0.0, max=1.0), HTML(value='')))"
      ]
     },
     "metadata": {},
     "output_type": "display_data"
    },
    {
     "data": {
      "application/vnd.jupyter.widget-view+json": {
       "model_id": "",
       "version_major": 2,
       "version_minor": 0
      },
      "text/plain": [
       "HBox(children=(HTML(value=''), FloatProgress(value=0.0, max=1.0), HTML(value='')))"
      ]
     },
     "metadata": {},
     "output_type": "display_data"
    },
    {
     "data": {
      "application/vnd.jupyter.widget-view+json": {
       "model_id": "",
       "version_major": 2,
       "version_minor": 0
      },
      "text/plain": [
       "HBox(children=(HTML(value=''), FloatProgress(value=0.0, max=1.0), HTML(value='')))"
      ]
     },
     "metadata": {},
     "output_type": "display_data"
    },
    {
     "data": {
      "application/vnd.jupyter.widget-view+json": {
       "model_id": "",
       "version_major": 2,
       "version_minor": 0
      },
      "text/plain": [
       "HBox(children=(HTML(value=''), FloatProgress(value=0.0, max=1.0), HTML(value='')))"
      ]
     },
     "metadata": {},
     "output_type": "display_data"
    },
    {
     "data": {
      "application/vnd.jupyter.widget-view+json": {
       "model_id": "",
       "version_major": 2,
       "version_minor": 0
      },
      "text/plain": [
       "HBox(children=(HTML(value=''), FloatProgress(value=0.0, max=7.0), HTML(value='')))"
      ]
     },
     "metadata": {},
     "output_type": "display_data"
    },
    {
     "data": {
      "application/vnd.jupyter.widget-view+json": {
       "model_id": "",
       "version_major": 2,
       "version_minor": 0
      },
      "text/plain": [
       "HBox(children=(HTML(value=''), FloatProgress(value=0.0, max=10.0), HTML(value='')))"
      ]
     },
     "metadata": {},
     "output_type": "display_data"
    },
    {
     "data": {
      "application/vnd.jupyter.widget-view+json": {
       "model_id": "",
       "version_major": 2,
       "version_minor": 0
      },
      "text/plain": [
       "HBox(children=(HTML(value=''), FloatProgress(value=0.0, max=2.0), HTML(value='')))"
      ]
     },
     "metadata": {},
     "output_type": "display_data"
    },
    {
     "data": {
      "application/vnd.jupyter.widget-view+json": {
       "model_id": "",
       "version_major": 2,
       "version_minor": 0
      },
      "text/plain": [
       "HBox(children=(HTML(value=''), FloatProgress(value=0.0, max=1.0), HTML(value='')))"
      ]
     },
     "metadata": {},
     "output_type": "display_data"
    },
    {
     "data": {
      "application/vnd.jupyter.widget-view+json": {
       "model_id": "",
       "version_major": 2,
       "version_minor": 0
      },
      "text/plain": [
       "HBox(children=(HTML(value=''), FloatProgress(value=0.0, max=1.0), HTML(value='')))"
      ]
     },
     "metadata": {},
     "output_type": "display_data"
    },
    {
     "data": {
      "application/vnd.jupyter.widget-view+json": {
       "model_id": "",
       "version_major": 2,
       "version_minor": 0
      },
      "text/plain": [
       "HBox(children=(HTML(value=''), FloatProgress(value=0.0, max=5.0), HTML(value='')))"
      ]
     },
     "metadata": {},
     "output_type": "display_data"
    },
    {
     "data": {
      "application/vnd.jupyter.widget-view+json": {
       "model_id": "",
       "version_major": 2,
       "version_minor": 0
      },
      "text/plain": [
       "HBox(children=(HTML(value=''), FloatProgress(value=0.0, max=1.0), HTML(value='')))"
      ]
     },
     "metadata": {},
     "output_type": "display_data"
    },
    {
     "data": {
      "application/vnd.jupyter.widget-view+json": {
       "model_id": "",
       "version_major": 2,
       "version_minor": 0
      },
      "text/plain": [
       "HBox(children=(HTML(value=''), FloatProgress(value=0.0, max=2.0), HTML(value='')))"
      ]
     },
     "metadata": {},
     "output_type": "display_data"
    },
    {
     "data": {
      "application/vnd.jupyter.widget-view+json": {
       "model_id": "",
       "version_major": 2,
       "version_minor": 0
      },
      "text/plain": [
       "HBox(children=(HTML(value=''), FloatProgress(value=0.0, max=1.0), HTML(value='')))"
      ]
     },
     "metadata": {},
     "output_type": "display_data"
    },
    {
     "data": {
      "application/vnd.jupyter.widget-view+json": {
       "model_id": "",
       "version_major": 2,
       "version_minor": 0
      },
      "text/plain": [
       "HBox(children=(HTML(value=''), FloatProgress(value=0.0, max=5.0), HTML(value='')))"
      ]
     },
     "metadata": {},
     "output_type": "display_data"
    },
    {
     "data": {
      "application/vnd.jupyter.widget-view+json": {
       "model_id": "",
       "version_major": 2,
       "version_minor": 0
      },
      "text/plain": [
       "HBox(children=(HTML(value=''), FloatProgress(value=0.0, max=3.0), HTML(value='')))"
      ]
     },
     "metadata": {},
     "output_type": "display_data"
    },
    {
     "data": {
      "application/vnd.jupyter.widget-view+json": {
       "model_id": "",
       "version_major": 2,
       "version_minor": 0
      },
      "text/plain": [
       "HBox(children=(HTML(value=''), FloatProgress(value=0.0, max=1.0), HTML(value='')))"
      ]
     },
     "metadata": {},
     "output_type": "display_data"
    },
    {
     "data": {
      "application/vnd.jupyter.widget-view+json": {
       "model_id": "",
       "version_major": 2,
       "version_minor": 0
      },
      "text/plain": [
       "HBox(children=(HTML(value=''), FloatProgress(value=0.0, max=5.0), HTML(value='')))"
      ]
     },
     "metadata": {},
     "output_type": "display_data"
    },
    {
     "data": {
      "application/vnd.jupyter.widget-view+json": {
       "model_id": "",
       "version_major": 2,
       "version_minor": 0
      },
      "text/plain": [
       "HBox(children=(HTML(value=''), FloatProgress(value=0.0, max=1.0), HTML(value='')))"
      ]
     },
     "metadata": {},
     "output_type": "display_data"
    },
    {
     "data": {
      "application/vnd.jupyter.widget-view+json": {
       "model_id": "",
       "version_major": 2,
       "version_minor": 0
      },
      "text/plain": [
       "HBox(children=(HTML(value=''), FloatProgress(value=0.0, max=1.0), HTML(value='')))"
      ]
     },
     "metadata": {},
     "output_type": "display_data"
    },
    {
     "data": {
      "application/vnd.jupyter.widget-view+json": {
       "model_id": "",
       "version_major": 2,
       "version_minor": 0
      },
      "text/plain": [
       "HBox(children=(HTML(value=''), FloatProgress(value=0.0, max=5.0), HTML(value='')))"
      ]
     },
     "metadata": {},
     "output_type": "display_data"
    },
    {
     "data": {
      "application/vnd.jupyter.widget-view+json": {
       "model_id": "",
       "version_major": 2,
       "version_minor": 0
      },
      "text/plain": [
       "HBox(children=(HTML(value=''), FloatProgress(value=0.0, max=1.0), HTML(value='')))"
      ]
     },
     "metadata": {},
     "output_type": "display_data"
    },
    {
     "data": {
      "application/vnd.jupyter.widget-view+json": {
       "model_id": "",
       "version_major": 2,
       "version_minor": 0
      },
      "text/plain": [
       "HBox(children=(HTML(value=''), FloatProgress(value=0.0, max=1.0), HTML(value='')))"
      ]
     },
     "metadata": {},
     "output_type": "display_data"
    },
    {
     "data": {
      "application/vnd.jupyter.widget-view+json": {
       "model_id": "",
       "version_major": 2,
       "version_minor": 0
      },
      "text/plain": [
       "HBox(children=(HTML(value=''), FloatProgress(value=0.0, max=5.0), HTML(value='')))"
      ]
     },
     "metadata": {},
     "output_type": "display_data"
    },
    {
     "data": {
      "application/vnd.jupyter.widget-view+json": {
       "model_id": "",
       "version_major": 2,
       "version_minor": 0
      },
      "text/plain": [
       "HBox(children=(HTML(value=''), FloatProgress(value=0.0, max=15.0), HTML(value='')))"
      ]
     },
     "metadata": {},
     "output_type": "display_data"
    },
    {
     "data": {
      "application/vnd.jupyter.widget-view+json": {
       "model_id": "",
       "version_major": 2,
       "version_minor": 0
      },
      "text/plain": [
       "HBox(children=(HTML(value=''), FloatProgress(value=0.0, max=1.0), HTML(value='')))"
      ]
     },
     "metadata": {},
     "output_type": "display_data"
    },
    {
     "data": {
      "application/vnd.jupyter.widget-view+json": {
       "model_id": "",
       "version_major": 2,
       "version_minor": 0
      },
      "text/plain": [
       "HBox(children=(HTML(value=''), FloatProgress(value=0.0, max=5.0), HTML(value='')))"
      ]
     },
     "metadata": {},
     "output_type": "display_data"
    },
    {
     "data": {
      "application/vnd.jupyter.widget-view+json": {
       "model_id": "",
       "version_major": 2,
       "version_minor": 0
      },
      "text/plain": [
       "HBox(children=(HTML(value=''), FloatProgress(value=0.0, max=2.0), HTML(value='')))"
      ]
     },
     "metadata": {},
     "output_type": "display_data"
    },
    {
     "data": {
      "application/vnd.jupyter.widget-view+json": {
       "model_id": "",
       "version_major": 2,
       "version_minor": 0
      },
      "text/plain": [
       "HBox(children=(HTML(value=''), FloatProgress(value=0.0, max=3.0), HTML(value='')))"
      ]
     },
     "metadata": {},
     "output_type": "display_data"
    },
    {
     "data": {
      "application/vnd.jupyter.widget-view+json": {
       "model_id": "",
       "version_major": 2,
       "version_minor": 0
      },
      "text/plain": [
       "HBox(children=(HTML(value=''), FloatProgress(value=0.0, max=6.0), HTML(value='')))"
      ]
     },
     "metadata": {},
     "output_type": "display_data"
    },
    {
     "data": {
      "application/vnd.jupyter.widget-view+json": {
       "model_id": "",
       "version_major": 2,
       "version_minor": 0
      },
      "text/plain": [
       "HBox(children=(HTML(value=''), FloatProgress(value=0.0, max=1.0), HTML(value='')))"
      ]
     },
     "metadata": {},
     "output_type": "display_data"
    },
    {
     "data": {
      "application/vnd.jupyter.widget-view+json": {
       "model_id": "",
       "version_major": 2,
       "version_minor": 0
      },
      "text/plain": [
       "HBox(children=(HTML(value=''), FloatProgress(value=0.0, max=2.0), HTML(value='')))"
      ]
     },
     "metadata": {},
     "output_type": "display_data"
    },
    {
     "data": {
      "application/vnd.jupyter.widget-view+json": {
       "model_id": "",
       "version_major": 2,
       "version_minor": 0
      },
      "text/plain": [
       "HBox(children=(HTML(value=''), FloatProgress(value=0.0, max=5.0), HTML(value='')))"
      ]
     },
     "metadata": {},
     "output_type": "display_data"
    },
    {
     "data": {
      "application/vnd.jupyter.widget-view+json": {
       "model_id": "",
       "version_major": 2,
       "version_minor": 0
      },
      "text/plain": [
       "HBox(children=(HTML(value=''), FloatProgress(value=0.0, max=3.0), HTML(value='')))"
      ]
     },
     "metadata": {},
     "output_type": "display_data"
    },
    {
     "data": {
      "application/vnd.jupyter.widget-view+json": {
       "model_id": "",
       "version_major": 2,
       "version_minor": 0
      },
      "text/plain": [
       "HBox(children=(HTML(value=''), FloatProgress(value=0.0, max=3.0), HTML(value='')))"
      ]
     },
     "metadata": {},
     "output_type": "display_data"
    },
    {
     "data": {
      "application/vnd.jupyter.widget-view+json": {
       "model_id": "",
       "version_major": 2,
       "version_minor": 0
      },
      "text/plain": [
       "HBox(children=(HTML(value=''), FloatProgress(value=0.0, max=4.0), HTML(value='')))"
      ]
     },
     "metadata": {},
     "output_type": "display_data"
    },
    {
     "data": {
      "application/vnd.jupyter.widget-view+json": {
       "model_id": "",
       "version_major": 2,
       "version_minor": 0
      },
      "text/plain": [
       "HBox(children=(HTML(value=''), FloatProgress(value=0.0, max=17.0), HTML(value='')))"
      ]
     },
     "metadata": {},
     "output_type": "display_data"
    },
    {
     "data": {
      "application/vnd.jupyter.widget-view+json": {
       "model_id": "",
       "version_major": 2,
       "version_minor": 0
      },
      "text/plain": [
       "HBox(children=(HTML(value=''), FloatProgress(value=0.0, max=1.0), HTML(value='')))"
      ]
     },
     "metadata": {},
     "output_type": "display_data"
    },
    {
     "data": {
      "application/vnd.jupyter.widget-view+json": {
       "model_id": "",
       "version_major": 2,
       "version_minor": 0
      },
      "text/plain": [
       "HBox(children=(HTML(value=''), FloatProgress(value=0.0, max=2.0), HTML(value='')))"
      ]
     },
     "metadata": {},
     "output_type": "display_data"
    },
    {
     "data": {
      "application/vnd.jupyter.widget-view+json": {
       "model_id": "",
       "version_major": 2,
       "version_minor": 0
      },
      "text/plain": [
       "HBox(children=(HTML(value=''), FloatProgress(value=0.0, max=1.0), HTML(value='')))"
      ]
     },
     "metadata": {},
     "output_type": "display_data"
    },
    {
     "data": {
      "application/vnd.jupyter.widget-view+json": {
       "model_id": "",
       "version_major": 2,
       "version_minor": 0
      },
      "text/plain": [
       "HBox(children=(HTML(value=''), FloatProgress(value=0.0, max=1.0), HTML(value='')))"
      ]
     },
     "metadata": {},
     "output_type": "display_data"
    },
    {
     "data": {
      "application/vnd.jupyter.widget-view+json": {
       "model_id": "",
       "version_major": 2,
       "version_minor": 0
      },
      "text/plain": [
       "HBox(children=(HTML(value=''), FloatProgress(value=0.0, max=1.0), HTML(value='')))"
      ]
     },
     "metadata": {},
     "output_type": "display_data"
    },
    {
     "data": {
      "application/vnd.jupyter.widget-view+json": {
       "model_id": "",
       "version_major": 2,
       "version_minor": 0
      },
      "text/plain": [
       "HBox(children=(HTML(value=''), FloatProgress(value=0.0, max=2.0), HTML(value='')))"
      ]
     },
     "metadata": {},
     "output_type": "display_data"
    },
    {
     "data": {
      "application/vnd.jupyter.widget-view+json": {
       "model_id": "",
       "version_major": 2,
       "version_minor": 0
      },
      "text/plain": [
       "HBox(children=(HTML(value=''), FloatProgress(value=0.0, max=4.0), HTML(value='')))"
      ]
     },
     "metadata": {},
     "output_type": "display_data"
    },
    {
     "data": {
      "application/vnd.jupyter.widget-view+json": {
       "model_id": "",
       "version_major": 2,
       "version_minor": 0
      },
      "text/plain": [
       "HBox(children=(HTML(value=''), FloatProgress(value=0.0, max=103.0), HTML(value='')))"
      ]
     },
     "metadata": {},
     "output_type": "display_data"
    },
    {
     "data": {
      "application/vnd.jupyter.widget-view+json": {
       "model_id": "",
       "version_major": 2,
       "version_minor": 0
      },
      "text/plain": [
       "HBox(children=(HTML(value=''), FloatProgress(value=0.0, max=6.0), HTML(value='')))"
      ]
     },
     "metadata": {},
     "output_type": "display_data"
    },
    {
     "data": {
      "application/vnd.jupyter.widget-view+json": {
       "model_id": "",
       "version_major": 2,
       "version_minor": 0
      },
      "text/plain": [
       "HBox(children=(HTML(value=''), FloatProgress(value=0.0, max=3.0), HTML(value='')))"
      ]
     },
     "metadata": {},
     "output_type": "display_data"
    },
    {
     "data": {
      "application/vnd.jupyter.widget-view+json": {
       "model_id": "",
       "version_major": 2,
       "version_minor": 0
      },
      "text/plain": [
       "HBox(children=(HTML(value=''), FloatProgress(value=0.0, max=1.0), HTML(value='')))"
      ]
     },
     "metadata": {},
     "output_type": "display_data"
    },
    {
     "data": {
      "application/vnd.jupyter.widget-view+json": {
       "model_id": "",
       "version_major": 2,
       "version_minor": 0
      },
      "text/plain": [
       "HBox(children=(HTML(value=''), FloatProgress(value=0.0, max=1.0), HTML(value='')))"
      ]
     },
     "metadata": {},
     "output_type": "display_data"
    },
    {
     "data": {
      "application/vnd.jupyter.widget-view+json": {
       "model_id": "",
       "version_major": 2,
       "version_minor": 0
      },
      "text/plain": [
       "HBox(children=(HTML(value=''), FloatProgress(value=0.0, max=1.0), HTML(value='')))"
      ]
     },
     "metadata": {},
     "output_type": "display_data"
    },
    {
     "data": {
      "application/vnd.jupyter.widget-view+json": {
       "model_id": "",
       "version_major": 2,
       "version_minor": 0
      },
      "text/plain": [
       "HBox(children=(HTML(value=''), FloatProgress(value=0.0, max=1.0), HTML(value='')))"
      ]
     },
     "metadata": {},
     "output_type": "display_data"
    },
    {
     "data": {
      "application/vnd.jupyter.widget-view+json": {
       "model_id": "",
       "version_major": 2,
       "version_minor": 0
      },
      "text/plain": [
       "HBox(children=(HTML(value=''), FloatProgress(value=0.0, max=6.0), HTML(value='')))"
      ]
     },
     "metadata": {},
     "output_type": "display_data"
    },
    {
     "data": {
      "application/vnd.jupyter.widget-view+json": {
       "model_id": "",
       "version_major": 2,
       "version_minor": 0
      },
      "text/plain": [
       "HBox(children=(HTML(value=''), FloatProgress(value=0.0, max=1.0), HTML(value='')))"
      ]
     },
     "metadata": {},
     "output_type": "display_data"
    },
    {
     "data": {
      "application/vnd.jupyter.widget-view+json": {
       "model_id": "",
       "version_major": 2,
       "version_minor": 0
      },
      "text/plain": [
       "HBox(children=(HTML(value=''), FloatProgress(value=0.0, max=2.0), HTML(value='')))"
      ]
     },
     "metadata": {},
     "output_type": "display_data"
    },
    {
     "data": {
      "application/vnd.jupyter.widget-view+json": {
       "model_id": "",
       "version_major": 2,
       "version_minor": 0
      },
      "text/plain": [
       "HBox(children=(HTML(value=''), FloatProgress(value=0.0, max=1.0), HTML(value='')))"
      ]
     },
     "metadata": {},
     "output_type": "display_data"
    },
    {
     "data": {
      "application/vnd.jupyter.widget-view+json": {
       "model_id": "",
       "version_major": 2,
       "version_minor": 0
      },
      "text/plain": [
       "HBox(children=(HTML(value=''), FloatProgress(value=0.0, max=1.0), HTML(value='')))"
      ]
     },
     "metadata": {},
     "output_type": "display_data"
    },
    {
     "data": {
      "application/vnd.jupyter.widget-view+json": {
       "model_id": "",
       "version_major": 2,
       "version_minor": 0
      },
      "text/plain": [
       "HBox(children=(HTML(value=''), FloatProgress(value=0.0, max=4.0), HTML(value='')))"
      ]
     },
     "metadata": {},
     "output_type": "display_data"
    },
    {
     "data": {
      "application/vnd.jupyter.widget-view+json": {
       "model_id": "",
       "version_major": 2,
       "version_minor": 0
      },
      "text/plain": [
       "HBox(children=(HTML(value=''), FloatProgress(value=0.0, max=1.0), HTML(value='')))"
      ]
     },
     "metadata": {},
     "output_type": "display_data"
    },
    {
     "data": {
      "application/vnd.jupyter.widget-view+json": {
       "model_id": "",
       "version_major": 2,
       "version_minor": 0
      },
      "text/plain": [
       "HBox(children=(HTML(value=''), FloatProgress(value=0.0, max=1.0), HTML(value='')))"
      ]
     },
     "metadata": {},
     "output_type": "display_data"
    },
    {
     "data": {
      "application/vnd.jupyter.widget-view+json": {
       "model_id": "",
       "version_major": 2,
       "version_minor": 0
      },
      "text/plain": [
       "HBox(children=(HTML(value=''), FloatProgress(value=0.0, max=1.0), HTML(value='')))"
      ]
     },
     "metadata": {},
     "output_type": "display_data"
    },
    {
     "data": {
      "application/vnd.jupyter.widget-view+json": {
       "model_id": "",
       "version_major": 2,
       "version_minor": 0
      },
      "text/plain": [
       "HBox(children=(HTML(value=''), FloatProgress(value=0.0, max=21.0), HTML(value='')))"
      ]
     },
     "metadata": {},
     "output_type": "display_data"
    },
    {
     "data": {
      "application/vnd.jupyter.widget-view+json": {
       "model_id": "",
       "version_major": 2,
       "version_minor": 0
      },
      "text/plain": [
       "HBox(children=(HTML(value=''), FloatProgress(value=0.0, max=1.0), HTML(value='')))"
      ]
     },
     "metadata": {},
     "output_type": "display_data"
    },
    {
     "data": {
      "application/vnd.jupyter.widget-view+json": {
       "model_id": "",
       "version_major": 2,
       "version_minor": 0
      },
      "text/plain": [
       "HBox(children=(HTML(value=''), FloatProgress(value=0.0, max=8.0), HTML(value='')))"
      ]
     },
     "metadata": {},
     "output_type": "display_data"
    },
    {
     "data": {
      "application/vnd.jupyter.widget-view+json": {
       "model_id": "",
       "version_major": 2,
       "version_minor": 0
      },
      "text/plain": [
       "HBox(children=(HTML(value=''), FloatProgress(value=0.0, max=1.0), HTML(value='')))"
      ]
     },
     "metadata": {},
     "output_type": "display_data"
    },
    {
     "data": {
      "application/vnd.jupyter.widget-view+json": {
       "model_id": "",
       "version_major": 2,
       "version_minor": 0
      },
      "text/plain": [
       "HBox(children=(HTML(value=''), FloatProgress(value=0.0, max=2.0), HTML(value='')))"
      ]
     },
     "metadata": {},
     "output_type": "display_data"
    },
    {
     "data": {
      "application/vnd.jupyter.widget-view+json": {
       "model_id": "",
       "version_major": 2,
       "version_minor": 0
      },
      "text/plain": [
       "HBox(children=(HTML(value=''), FloatProgress(value=0.0, max=13.0), HTML(value='')))"
      ]
     },
     "metadata": {},
     "output_type": "display_data"
    },
    {
     "data": {
      "application/vnd.jupyter.widget-view+json": {
       "model_id": "",
       "version_major": 2,
       "version_minor": 0
      },
      "text/plain": [
       "HBox(children=(HTML(value=''), FloatProgress(value=0.0, max=5.0), HTML(value='')))"
      ]
     },
     "metadata": {},
     "output_type": "display_data"
    },
    {
     "data": {
      "application/vnd.jupyter.widget-view+json": {
       "model_id": "",
       "version_major": 2,
       "version_minor": 0
      },
      "text/plain": [
       "HBox(children=(HTML(value=''), FloatProgress(value=0.0, max=1.0), HTML(value='')))"
      ]
     },
     "metadata": {},
     "output_type": "display_data"
    },
    {
     "data": {
      "application/vnd.jupyter.widget-view+json": {
       "model_id": "",
       "version_major": 2,
       "version_minor": 0
      },
      "text/plain": [
       "HBox(children=(HTML(value=''), FloatProgress(value=0.0, max=1.0), HTML(value='')))"
      ]
     },
     "metadata": {},
     "output_type": "display_data"
    },
    {
     "data": {
      "application/vnd.jupyter.widget-view+json": {
       "model_id": "",
       "version_major": 2,
       "version_minor": 0
      },
      "text/plain": [
       "HBox(children=(HTML(value=''), FloatProgress(value=0.0, max=3.0), HTML(value='')))"
      ]
     },
     "metadata": {},
     "output_type": "display_data"
    },
    {
     "data": {
      "application/vnd.jupyter.widget-view+json": {
       "model_id": "",
       "version_major": 2,
       "version_minor": 0
      },
      "text/plain": [
       "HBox(children=(HTML(value=''), FloatProgress(value=0.0, max=2.0), HTML(value='')))"
      ]
     },
     "metadata": {},
     "output_type": "display_data"
    },
    {
     "data": {
      "application/vnd.jupyter.widget-view+json": {
       "model_id": "",
       "version_major": 2,
       "version_minor": 0
      },
      "text/plain": [
       "HBox(children=(HTML(value=''), FloatProgress(value=0.0, max=3.0), HTML(value='')))"
      ]
     },
     "metadata": {},
     "output_type": "display_data"
    },
    {
     "data": {
      "application/vnd.jupyter.widget-view+json": {
       "model_id": "",
       "version_major": 2,
       "version_minor": 0
      },
      "text/plain": [
       "HBox(children=(HTML(value=''), FloatProgress(value=0.0, max=3.0), HTML(value='')))"
      ]
     },
     "metadata": {},
     "output_type": "display_data"
    },
    {
     "data": {
      "application/vnd.jupyter.widget-view+json": {
       "model_id": "",
       "version_major": 2,
       "version_minor": 0
      },
      "text/plain": [
       "HBox(children=(HTML(value=''), FloatProgress(value=0.0, max=12.0), HTML(value='')))"
      ]
     },
     "metadata": {},
     "output_type": "display_data"
    },
    {
     "data": {
      "application/vnd.jupyter.widget-view+json": {
       "model_id": "",
       "version_major": 2,
       "version_minor": 0
      },
      "text/plain": [
       "HBox(children=(HTML(value=''), FloatProgress(value=0.0, max=3.0), HTML(value='')))"
      ]
     },
     "metadata": {},
     "output_type": "display_data"
    },
    {
     "data": {
      "application/vnd.jupyter.widget-view+json": {
       "model_id": "",
       "version_major": 2,
       "version_minor": 0
      },
      "text/plain": [
       "HBox(children=(HTML(value=''), FloatProgress(value=0.0, max=5.0), HTML(value='')))"
      ]
     },
     "metadata": {},
     "output_type": "display_data"
    },
    {
     "data": {
      "application/vnd.jupyter.widget-view+json": {
       "model_id": "",
       "version_major": 2,
       "version_minor": 0
      },
      "text/plain": [
       "HBox(children=(HTML(value=''), FloatProgress(value=0.0, max=1.0), HTML(value='')))"
      ]
     },
     "metadata": {},
     "output_type": "display_data"
    },
    {
     "data": {
      "application/vnd.jupyter.widget-view+json": {
       "model_id": "",
       "version_major": 2,
       "version_minor": 0
      },
      "text/plain": [
       "HBox(children=(HTML(value=''), FloatProgress(value=0.0, max=1.0), HTML(value='')))"
      ]
     },
     "metadata": {},
     "output_type": "display_data"
    },
    {
     "data": {
      "application/vnd.jupyter.widget-view+json": {
       "model_id": "",
       "version_major": 2,
       "version_minor": 0
      },
      "text/plain": [
       "HBox(children=(HTML(value=''), FloatProgress(value=0.0, max=15.0), HTML(value='')))"
      ]
     },
     "metadata": {},
     "output_type": "display_data"
    },
    {
     "data": {
      "application/vnd.jupyter.widget-view+json": {
       "model_id": "",
       "version_major": 2,
       "version_minor": 0
      },
      "text/plain": [
       "HBox(children=(HTML(value=''), FloatProgress(value=0.0, max=7.0), HTML(value='')))"
      ]
     },
     "metadata": {},
     "output_type": "display_data"
    },
    {
     "data": {
      "application/vnd.jupyter.widget-view+json": {
       "model_id": "",
       "version_major": 2,
       "version_minor": 0
      },
      "text/plain": [
       "HBox(children=(HTML(value=''), FloatProgress(value=0.0, max=2.0), HTML(value='')))"
      ]
     },
     "metadata": {},
     "output_type": "display_data"
    },
    {
     "data": {
      "application/vnd.jupyter.widget-view+json": {
       "model_id": "",
       "version_major": 2,
       "version_minor": 0
      },
      "text/plain": [
       "HBox(children=(HTML(value=''), FloatProgress(value=0.0, max=3.0), HTML(value='')))"
      ]
     },
     "metadata": {},
     "output_type": "display_data"
    },
    {
     "data": {
      "application/vnd.jupyter.widget-view+json": {
       "model_id": "",
       "version_major": 2,
       "version_minor": 0
      },
      "text/plain": [
       "HBox(children=(HTML(value=''), FloatProgress(value=0.0, max=1.0), HTML(value='')))"
      ]
     },
     "metadata": {},
     "output_type": "display_data"
    },
    {
     "data": {
      "application/vnd.jupyter.widget-view+json": {
       "model_id": "",
       "version_major": 2,
       "version_minor": 0
      },
      "text/plain": [
       "HBox(children=(HTML(value=''), FloatProgress(value=0.0, max=1.0), HTML(value='')))"
      ]
     },
     "metadata": {},
     "output_type": "display_data"
    },
    {
     "data": {
      "application/vnd.jupyter.widget-view+json": {
       "model_id": "",
       "version_major": 2,
       "version_minor": 0
      },
      "text/plain": [
       "HBox(children=(HTML(value=''), FloatProgress(value=0.0, max=1.0), HTML(value='')))"
      ]
     },
     "metadata": {},
     "output_type": "display_data"
    },
    {
     "data": {
      "application/vnd.jupyter.widget-view+json": {
       "model_id": "",
       "version_major": 2,
       "version_minor": 0
      },
      "text/plain": [
       "HBox(children=(HTML(value=''), FloatProgress(value=0.0, max=2.0), HTML(value='')))"
      ]
     },
     "metadata": {},
     "output_type": "display_data"
    },
    {
     "data": {
      "application/vnd.jupyter.widget-view+json": {
       "model_id": "",
       "version_major": 2,
       "version_minor": 0
      },
      "text/plain": [
       "HBox(children=(HTML(value=''), FloatProgress(value=0.0, max=1.0), HTML(value='')))"
      ]
     },
     "metadata": {},
     "output_type": "display_data"
    },
    {
     "data": {
      "application/vnd.jupyter.widget-view+json": {
       "model_id": "",
       "version_major": 2,
       "version_minor": 0
      },
      "text/plain": [
       "HBox(children=(HTML(value=''), FloatProgress(value=0.0, max=2.0), HTML(value='')))"
      ]
     },
     "metadata": {},
     "output_type": "display_data"
    },
    {
     "data": {
      "application/vnd.jupyter.widget-view+json": {
       "model_id": "",
       "version_major": 2,
       "version_minor": 0
      },
      "text/plain": [
       "HBox(children=(HTML(value=''), FloatProgress(value=0.0, max=18.0), HTML(value='')))"
      ]
     },
     "metadata": {},
     "output_type": "display_data"
    },
    {
     "data": {
      "application/vnd.jupyter.widget-view+json": {
       "model_id": "",
       "version_major": 2,
       "version_minor": 0
      },
      "text/plain": [
       "HBox(children=(HTML(value=''), FloatProgress(value=0.0, max=1.0), HTML(value='')))"
      ]
     },
     "metadata": {},
     "output_type": "display_data"
    },
    {
     "data": {
      "application/vnd.jupyter.widget-view+json": {
       "model_id": "",
       "version_major": 2,
       "version_minor": 0
      },
      "text/plain": [
       "HBox(children=(HTML(value=''), FloatProgress(value=0.0, max=4.0), HTML(value='')))"
      ]
     },
     "metadata": {},
     "output_type": "display_data"
    },
    {
     "data": {
      "application/vnd.jupyter.widget-view+json": {
       "model_id": "",
       "version_major": 2,
       "version_minor": 0
      },
      "text/plain": [
       "HBox(children=(HTML(value=''), FloatProgress(value=0.0, max=1.0), HTML(value='')))"
      ]
     },
     "metadata": {},
     "output_type": "display_data"
    },
    {
     "data": {
      "application/vnd.jupyter.widget-view+json": {
       "model_id": "",
       "version_major": 2,
       "version_minor": 0
      },
      "text/plain": [
       "HBox(children=(HTML(value=''), FloatProgress(value=0.0, max=2.0), HTML(value='')))"
      ]
     },
     "metadata": {},
     "output_type": "display_data"
    },
    {
     "data": {
      "application/vnd.jupyter.widget-view+json": {
       "model_id": "",
       "version_major": 2,
       "version_minor": 0
      },
      "text/plain": [
       "HBox(children=(HTML(value=''), FloatProgress(value=0.0, max=4.0), HTML(value='')))"
      ]
     },
     "metadata": {},
     "output_type": "display_data"
    },
    {
     "data": {
      "application/vnd.jupyter.widget-view+json": {
       "model_id": "",
       "version_major": 2,
       "version_minor": 0
      },
      "text/plain": [
       "HBox(children=(HTML(value=''), FloatProgress(value=0.0, max=1.0), HTML(value='')))"
      ]
     },
     "metadata": {},
     "output_type": "display_data"
    },
    {
     "data": {
      "application/vnd.jupyter.widget-view+json": {
       "model_id": "",
       "version_major": 2,
       "version_minor": 0
      },
      "text/plain": [
       "HBox(children=(HTML(value=''), FloatProgress(value=0.0, max=1.0), HTML(value='')))"
      ]
     },
     "metadata": {},
     "output_type": "display_data"
    },
    {
     "data": {
      "application/vnd.jupyter.widget-view+json": {
       "model_id": "",
       "version_major": 2,
       "version_minor": 0
      },
      "text/plain": [
       "HBox(children=(HTML(value=''), FloatProgress(value=0.0, max=3.0), HTML(value='')))"
      ]
     },
     "metadata": {},
     "output_type": "display_data"
    },
    {
     "data": {
      "application/vnd.jupyter.widget-view+json": {
       "model_id": "",
       "version_major": 2,
       "version_minor": 0
      },
      "text/plain": [
       "HBox(children=(HTML(value=''), FloatProgress(value=0.0, max=4.0), HTML(value='')))"
      ]
     },
     "metadata": {},
     "output_type": "display_data"
    },
    {
     "data": {
      "application/vnd.jupyter.widget-view+json": {
       "model_id": "",
       "version_major": 2,
       "version_minor": 0
      },
      "text/plain": [
       "HBox(children=(HTML(value=''), FloatProgress(value=0.0, max=3.0), HTML(value='')))"
      ]
     },
     "metadata": {},
     "output_type": "display_data"
    },
    {
     "data": {
      "application/vnd.jupyter.widget-view+json": {
       "model_id": "",
       "version_major": 2,
       "version_minor": 0
      },
      "text/plain": [
       "HBox(children=(HTML(value=''), FloatProgress(value=0.0, max=1.0), HTML(value='')))"
      ]
     },
     "metadata": {},
     "output_type": "display_data"
    },
    {
     "data": {
      "application/vnd.jupyter.widget-view+json": {
       "model_id": "",
       "version_major": 2,
       "version_minor": 0
      },
      "text/plain": [
       "HBox(children=(HTML(value=''), FloatProgress(value=0.0, max=3.0), HTML(value='')))"
      ]
     },
     "metadata": {},
     "output_type": "display_data"
    },
    {
     "data": {
      "application/vnd.jupyter.widget-view+json": {
       "model_id": "",
       "version_major": 2,
       "version_minor": 0
      },
      "text/plain": [
       "HBox(children=(HTML(value=''), FloatProgress(value=0.0, max=2.0), HTML(value='')))"
      ]
     },
     "metadata": {},
     "output_type": "display_data"
    },
    {
     "data": {
      "application/vnd.jupyter.widget-view+json": {
       "model_id": "",
       "version_major": 2,
       "version_minor": 0
      },
      "text/plain": [
       "HBox(children=(HTML(value=''), FloatProgress(value=0.0, max=2.0), HTML(value='')))"
      ]
     },
     "metadata": {},
     "output_type": "display_data"
    },
    {
     "data": {
      "application/vnd.jupyter.widget-view+json": {
       "model_id": "",
       "version_major": 2,
       "version_minor": 0
      },
      "text/plain": [
       "HBox(children=(HTML(value=''), FloatProgress(value=0.0, max=1.0), HTML(value='')))"
      ]
     },
     "metadata": {},
     "output_type": "display_data"
    },
    {
     "data": {
      "application/vnd.jupyter.widget-view+json": {
       "model_id": "",
       "version_major": 2,
       "version_minor": 0
      },
      "text/plain": [
       "HBox(children=(HTML(value=''), FloatProgress(value=0.0, max=1.0), HTML(value='')))"
      ]
     },
     "metadata": {},
     "output_type": "display_data"
    },
    {
     "data": {
      "application/vnd.jupyter.widget-view+json": {
       "model_id": "",
       "version_major": 2,
       "version_minor": 0
      },
      "text/plain": [
       "HBox(children=(HTML(value=''), FloatProgress(value=0.0, max=3.0), HTML(value='')))"
      ]
     },
     "metadata": {},
     "output_type": "display_data"
    },
    {
     "data": {
      "application/vnd.jupyter.widget-view+json": {
       "model_id": "",
       "version_major": 2,
       "version_minor": 0
      },
      "text/plain": [
       "HBox(children=(HTML(value=''), FloatProgress(value=0.0, max=1.0), HTML(value='')))"
      ]
     },
     "metadata": {},
     "output_type": "display_data"
    },
    {
     "data": {
      "application/vnd.jupyter.widget-view+json": {
       "model_id": "",
       "version_major": 2,
       "version_minor": 0
      },
      "text/plain": [
       "HBox(children=(HTML(value=''), FloatProgress(value=0.0, max=1.0), HTML(value='')))"
      ]
     },
     "metadata": {},
     "output_type": "display_data"
    },
    {
     "data": {
      "application/vnd.jupyter.widget-view+json": {
       "model_id": "",
       "version_major": 2,
       "version_minor": 0
      },
      "text/plain": [
       "HBox(children=(HTML(value=''), FloatProgress(value=0.0, max=1.0), HTML(value='')))"
      ]
     },
     "metadata": {},
     "output_type": "display_data"
    },
    {
     "data": {
      "application/vnd.jupyter.widget-view+json": {
       "model_id": "",
       "version_major": 2,
       "version_minor": 0
      },
      "text/plain": [
       "HBox(children=(HTML(value=''), FloatProgress(value=0.0, max=1.0), HTML(value='')))"
      ]
     },
     "metadata": {},
     "output_type": "display_data"
    },
    {
     "data": {
      "application/vnd.jupyter.widget-view+json": {
       "model_id": "",
       "version_major": 2,
       "version_minor": 0
      },
      "text/plain": [
       "HBox(children=(HTML(value=''), FloatProgress(value=0.0, max=1.0), HTML(value='')))"
      ]
     },
     "metadata": {},
     "output_type": "display_data"
    },
    {
     "data": {
      "application/vnd.jupyter.widget-view+json": {
       "model_id": "",
       "version_major": 2,
       "version_minor": 0
      },
      "text/plain": [
       "HBox(children=(HTML(value=''), FloatProgress(value=0.0, max=3.0), HTML(value='')))"
      ]
     },
     "metadata": {},
     "output_type": "display_data"
    },
    {
     "data": {
      "application/vnd.jupyter.widget-view+json": {
       "model_id": "",
       "version_major": 2,
       "version_minor": 0
      },
      "text/plain": [
       "HBox(children=(HTML(value=''), FloatProgress(value=0.0, max=1.0), HTML(value='')))"
      ]
     },
     "metadata": {},
     "output_type": "display_data"
    },
    {
     "data": {
      "application/vnd.jupyter.widget-view+json": {
       "model_id": "",
       "version_major": 2,
       "version_minor": 0
      },
      "text/plain": [
       "HBox(children=(HTML(value=''), FloatProgress(value=0.0, max=1.0), HTML(value='')))"
      ]
     },
     "metadata": {},
     "output_type": "display_data"
    },
    {
     "data": {
      "application/vnd.jupyter.widget-view+json": {
       "model_id": "",
       "version_major": 2,
       "version_minor": 0
      },
      "text/plain": [
       "HBox(children=(HTML(value=''), FloatProgress(value=0.0, max=1.0), HTML(value='')))"
      ]
     },
     "metadata": {},
     "output_type": "display_data"
    },
    {
     "data": {
      "application/vnd.jupyter.widget-view+json": {
       "model_id": "",
       "version_major": 2,
       "version_minor": 0
      },
      "text/plain": [
       "HBox(children=(HTML(value=''), FloatProgress(value=0.0, max=3.0), HTML(value='')))"
      ]
     },
     "metadata": {},
     "output_type": "display_data"
    },
    {
     "data": {
      "application/vnd.jupyter.widget-view+json": {
       "model_id": "",
       "version_major": 2,
       "version_minor": 0
      },
      "text/plain": [
       "HBox(children=(HTML(value=''), FloatProgress(value=0.0, max=1.0), HTML(value='')))"
      ]
     },
     "metadata": {},
     "output_type": "display_data"
    },
    {
     "data": {
      "application/vnd.jupyter.widget-view+json": {
       "model_id": "",
       "version_major": 2,
       "version_minor": 0
      },
      "text/plain": [
       "HBox(children=(HTML(value=''), FloatProgress(value=0.0, max=3.0), HTML(value='')))"
      ]
     },
     "metadata": {},
     "output_type": "display_data"
    },
    {
     "data": {
      "application/vnd.jupyter.widget-view+json": {
       "model_id": "",
       "version_major": 2,
       "version_minor": 0
      },
      "text/plain": [
       "HBox(children=(HTML(value=''), FloatProgress(value=0.0, max=7.0), HTML(value='')))"
      ]
     },
     "metadata": {},
     "output_type": "display_data"
    },
    {
     "data": {
      "application/vnd.jupyter.widget-view+json": {
       "model_id": "",
       "version_major": 2,
       "version_minor": 0
      },
      "text/plain": [
       "HBox(children=(HTML(value=''), FloatProgress(value=0.0, max=2.0), HTML(value='')))"
      ]
     },
     "metadata": {},
     "output_type": "display_data"
    },
    {
     "data": {
      "application/vnd.jupyter.widget-view+json": {
       "model_id": "",
       "version_major": 2,
       "version_minor": 0
      },
      "text/plain": [
       "HBox(children=(HTML(value=''), FloatProgress(value=0.0, max=5.0), HTML(value='')))"
      ]
     },
     "metadata": {},
     "output_type": "display_data"
    },
    {
     "data": {
      "application/vnd.jupyter.widget-view+json": {
       "model_id": "",
       "version_major": 2,
       "version_minor": 0
      },
      "text/plain": [
       "HBox(children=(HTML(value=''), FloatProgress(value=0.0, max=2.0), HTML(value='')))"
      ]
     },
     "metadata": {},
     "output_type": "display_data"
    },
    {
     "data": {
      "application/vnd.jupyter.widget-view+json": {
       "model_id": "",
       "version_major": 2,
       "version_minor": 0
      },
      "text/plain": [
       "HBox(children=(HTML(value=''), FloatProgress(value=0.0, max=1.0), HTML(value='')))"
      ]
     },
     "metadata": {},
     "output_type": "display_data"
    },
    {
     "data": {
      "application/vnd.jupyter.widget-view+json": {
       "model_id": "",
       "version_major": 2,
       "version_minor": 0
      },
      "text/plain": [
       "HBox(children=(HTML(value=''), FloatProgress(value=0.0, max=1.0), HTML(value='')))"
      ]
     },
     "metadata": {},
     "output_type": "display_data"
    },
    {
     "data": {
      "application/vnd.jupyter.widget-view+json": {
       "model_id": "",
       "version_major": 2,
       "version_minor": 0
      },
      "text/plain": [
       "HBox(children=(HTML(value=''), FloatProgress(value=0.0, max=2.0), HTML(value='')))"
      ]
     },
     "metadata": {},
     "output_type": "display_data"
    },
    {
     "data": {
      "application/vnd.jupyter.widget-view+json": {
       "model_id": "",
       "version_major": 2,
       "version_minor": 0
      },
      "text/plain": [
       "HBox(children=(HTML(value=''), FloatProgress(value=0.0, max=3.0), HTML(value='')))"
      ]
     },
     "metadata": {},
     "output_type": "display_data"
    },
    {
     "data": {
      "application/vnd.jupyter.widget-view+json": {
       "model_id": "",
       "version_major": 2,
       "version_minor": 0
      },
      "text/plain": [
       "HBox(children=(HTML(value=''), FloatProgress(value=0.0, max=1.0), HTML(value='')))"
      ]
     },
     "metadata": {},
     "output_type": "display_data"
    },
    {
     "data": {
      "application/vnd.jupyter.widget-view+json": {
       "model_id": "",
       "version_major": 2,
       "version_minor": 0
      },
      "text/plain": [
       "HBox(children=(HTML(value=''), FloatProgress(value=0.0, max=1.0), HTML(value='')))"
      ]
     },
     "metadata": {},
     "output_type": "display_data"
    },
    {
     "data": {
      "application/vnd.jupyter.widget-view+json": {
       "model_id": "",
       "version_major": 2,
       "version_minor": 0
      },
      "text/plain": [
       "HBox(children=(HTML(value=''), FloatProgress(value=0.0, max=3.0), HTML(value='')))"
      ]
     },
     "metadata": {},
     "output_type": "display_data"
    },
    {
     "data": {
      "application/vnd.jupyter.widget-view+json": {
       "model_id": "",
       "version_major": 2,
       "version_minor": 0
      },
      "text/plain": [
       "HBox(children=(HTML(value=''), FloatProgress(value=0.0, max=2.0), HTML(value='')))"
      ]
     },
     "metadata": {},
     "output_type": "display_data"
    },
    {
     "data": {
      "application/vnd.jupyter.widget-view+json": {
       "model_id": "",
       "version_major": 2,
       "version_minor": 0
      },
      "text/plain": [
       "HBox(children=(HTML(value=''), FloatProgress(value=0.0, max=1.0), HTML(value='')))"
      ]
     },
     "metadata": {},
     "output_type": "display_data"
    },
    {
     "data": {
      "application/vnd.jupyter.widget-view+json": {
       "model_id": "",
       "version_major": 2,
       "version_minor": 0
      },
      "text/plain": [
       "HBox(children=(HTML(value=''), FloatProgress(value=0.0, max=1.0), HTML(value='')))"
      ]
     },
     "metadata": {},
     "output_type": "display_data"
    },
    {
     "data": {
      "application/vnd.jupyter.widget-view+json": {
       "model_id": "",
       "version_major": 2,
       "version_minor": 0
      },
      "text/plain": [
       "HBox(children=(HTML(value=''), FloatProgress(value=0.0, max=1.0), HTML(value='')))"
      ]
     },
     "metadata": {},
     "output_type": "display_data"
    },
    {
     "data": {
      "application/vnd.jupyter.widget-view+json": {
       "model_id": "",
       "version_major": 2,
       "version_minor": 0
      },
      "text/plain": [
       "HBox(children=(HTML(value=''), FloatProgress(value=0.0, max=1.0), HTML(value='')))"
      ]
     },
     "metadata": {},
     "output_type": "display_data"
    },
    {
     "data": {
      "application/vnd.jupyter.widget-view+json": {
       "model_id": "",
       "version_major": 2,
       "version_minor": 0
      },
      "text/plain": [
       "HBox(children=(HTML(value=''), FloatProgress(value=0.0, max=2.0), HTML(value='')))"
      ]
     },
     "metadata": {},
     "output_type": "display_data"
    },
    {
     "data": {
      "application/vnd.jupyter.widget-view+json": {
       "model_id": "",
       "version_major": 2,
       "version_minor": 0
      },
      "text/plain": [
       "HBox(children=(HTML(value=''), FloatProgress(value=0.0, max=1.0), HTML(value='')))"
      ]
     },
     "metadata": {},
     "output_type": "display_data"
    },
    {
     "data": {
      "application/vnd.jupyter.widget-view+json": {
       "model_id": "",
       "version_major": 2,
       "version_minor": 0
      },
      "text/plain": [
       "HBox(children=(HTML(value=''), FloatProgress(value=0.0, max=1.0), HTML(value='')))"
      ]
     },
     "metadata": {},
     "output_type": "display_data"
    },
    {
     "data": {
      "application/vnd.jupyter.widget-view+json": {
       "model_id": "",
       "version_major": 2,
       "version_minor": 0
      },
      "text/plain": [
       "HBox(children=(HTML(value=''), FloatProgress(value=0.0, max=1.0), HTML(value='')))"
      ]
     },
     "metadata": {},
     "output_type": "display_data"
    },
    {
     "data": {
      "application/vnd.jupyter.widget-view+json": {
       "model_id": "",
       "version_major": 2,
       "version_minor": 0
      },
      "text/plain": [
       "HBox(children=(HTML(value=''), FloatProgress(value=0.0, max=2.0), HTML(value='')))"
      ]
     },
     "metadata": {},
     "output_type": "display_data"
    },
    {
     "data": {
      "application/vnd.jupyter.widget-view+json": {
       "model_id": "",
       "version_major": 2,
       "version_minor": 0
      },
      "text/plain": [
       "HBox(children=(HTML(value=''), FloatProgress(value=0.0, max=1.0), HTML(value='')))"
      ]
     },
     "metadata": {},
     "output_type": "display_data"
    },
    {
     "data": {
      "application/vnd.jupyter.widget-view+json": {
       "model_id": "",
       "version_major": 2,
       "version_minor": 0
      },
      "text/plain": [
       "HBox(children=(HTML(value=''), FloatProgress(value=0.0, max=1.0), HTML(value='')))"
      ]
     },
     "metadata": {},
     "output_type": "display_data"
    },
    {
     "data": {
      "application/vnd.jupyter.widget-view+json": {
       "model_id": "",
       "version_major": 2,
       "version_minor": 0
      },
      "text/plain": [
       "HBox(children=(HTML(value=''), FloatProgress(value=0.0, max=1.0), HTML(value='')))"
      ]
     },
     "metadata": {},
     "output_type": "display_data"
    },
    {
     "data": {
      "application/vnd.jupyter.widget-view+json": {
       "model_id": "",
       "version_major": 2,
       "version_minor": 0
      },
      "text/plain": [
       "HBox(children=(HTML(value=''), FloatProgress(value=0.0, max=1.0), HTML(value='')))"
      ]
     },
     "metadata": {},
     "output_type": "display_data"
    },
    {
     "data": {
      "application/vnd.jupyter.widget-view+json": {
       "model_id": "",
       "version_major": 2,
       "version_minor": 0
      },
      "text/plain": [
       "HBox(children=(HTML(value=''), FloatProgress(value=0.0, max=6.0), HTML(value='')))"
      ]
     },
     "metadata": {},
     "output_type": "display_data"
    },
    {
     "data": {
      "application/vnd.jupyter.widget-view+json": {
       "model_id": "",
       "version_major": 2,
       "version_minor": 0
      },
      "text/plain": [
       "HBox(children=(HTML(value=''), FloatProgress(value=0.0, max=1.0), HTML(value='')))"
      ]
     },
     "metadata": {},
     "output_type": "display_data"
    },
    {
     "data": {
      "application/vnd.jupyter.widget-view+json": {
       "model_id": "",
       "version_major": 2,
       "version_minor": 0
      },
      "text/plain": [
       "HBox(children=(HTML(value=''), FloatProgress(value=0.0, max=2.0), HTML(value='')))"
      ]
     },
     "metadata": {},
     "output_type": "display_data"
    },
    {
     "data": {
      "application/vnd.jupyter.widget-view+json": {
       "model_id": "",
       "version_major": 2,
       "version_minor": 0
      },
      "text/plain": [
       "HBox(children=(HTML(value=''), FloatProgress(value=0.0, max=2.0), HTML(value='')))"
      ]
     },
     "metadata": {},
     "output_type": "display_data"
    },
    {
     "data": {
      "application/vnd.jupyter.widget-view+json": {
       "model_id": "",
       "version_major": 2,
       "version_minor": 0
      },
      "text/plain": [
       "HBox(children=(HTML(value=''), FloatProgress(value=0.0, max=10.0), HTML(value='')))"
      ]
     },
     "metadata": {},
     "output_type": "display_data"
    },
    {
     "data": {
      "application/vnd.jupyter.widget-view+json": {
       "model_id": "",
       "version_major": 2,
       "version_minor": 0
      },
      "text/plain": [
       "HBox(children=(HTML(value=''), FloatProgress(value=0.0, max=147.0), HTML(value='')))"
      ]
     },
     "metadata": {},
     "output_type": "display_data"
    },
    {
     "data": {
      "application/vnd.jupyter.widget-view+json": {
       "model_id": "",
       "version_major": 2,
       "version_minor": 0
      },
      "text/plain": [
       "HBox(children=(HTML(value=''), FloatProgress(value=0.0, max=1.0), HTML(value='')))"
      ]
     },
     "metadata": {},
     "output_type": "display_data"
    },
    {
     "data": {
      "application/vnd.jupyter.widget-view+json": {
       "model_id": "",
       "version_major": 2,
       "version_minor": 0
      },
      "text/plain": [
       "HBox(children=(HTML(value=''), FloatProgress(value=0.0, max=5.0), HTML(value='')))"
      ]
     },
     "metadata": {},
     "output_type": "display_data"
    },
    {
     "data": {
      "application/vnd.jupyter.widget-view+json": {
       "model_id": "",
       "version_major": 2,
       "version_minor": 0
      },
      "text/plain": [
       "HBox(children=(HTML(value=''), FloatProgress(value=0.0, max=4.0), HTML(value='')))"
      ]
     },
     "metadata": {},
     "output_type": "display_data"
    },
    {
     "data": {
      "application/vnd.jupyter.widget-view+json": {
       "model_id": "",
       "version_major": 2,
       "version_minor": 0
      },
      "text/plain": [
       "HBox(children=(HTML(value=''), FloatProgress(value=0.0, max=2.0), HTML(value='')))"
      ]
     },
     "metadata": {},
     "output_type": "display_data"
    },
    {
     "data": {
      "application/vnd.jupyter.widget-view+json": {
       "model_id": "",
       "version_major": 2,
       "version_minor": 0
      },
      "text/plain": [
       "HBox(children=(HTML(value=''), FloatProgress(value=0.0, max=3.0), HTML(value='')))"
      ]
     },
     "metadata": {},
     "output_type": "display_data"
    },
    {
     "data": {
      "application/vnd.jupyter.widget-view+json": {
       "model_id": "",
       "version_major": 2,
       "version_minor": 0
      },
      "text/plain": [
       "HBox(children=(HTML(value=''), FloatProgress(value=0.0, max=3.0), HTML(value='')))"
      ]
     },
     "metadata": {},
     "output_type": "display_data"
    },
    {
     "data": {
      "application/vnd.jupyter.widget-view+json": {
       "model_id": "",
       "version_major": 2,
       "version_minor": 0
      },
      "text/plain": [
       "HBox(children=(HTML(value=''), FloatProgress(value=0.0, max=1.0), HTML(value='')))"
      ]
     },
     "metadata": {},
     "output_type": "display_data"
    },
    {
     "data": {
      "application/vnd.jupyter.widget-view+json": {
       "model_id": "",
       "version_major": 2,
       "version_minor": 0
      },
      "text/plain": [
       "HBox(children=(HTML(value=''), FloatProgress(value=0.0, max=1.0), HTML(value='')))"
      ]
     },
     "metadata": {},
     "output_type": "display_data"
    },
    {
     "data": {
      "application/vnd.jupyter.widget-view+json": {
       "model_id": "",
       "version_major": 2,
       "version_minor": 0
      },
      "text/plain": [
       "HBox(children=(HTML(value=''), FloatProgress(value=0.0, max=1.0), HTML(value='')))"
      ]
     },
     "metadata": {},
     "output_type": "display_data"
    },
    {
     "data": {
      "application/vnd.jupyter.widget-view+json": {
       "model_id": "",
       "version_major": 2,
       "version_minor": 0
      },
      "text/plain": [
       "HBox(children=(HTML(value=''), FloatProgress(value=0.0, max=1.0), HTML(value='')))"
      ]
     },
     "metadata": {},
     "output_type": "display_data"
    },
    {
     "data": {
      "application/vnd.jupyter.widget-view+json": {
       "model_id": "",
       "version_major": 2,
       "version_minor": 0
      },
      "text/plain": [
       "HBox(children=(HTML(value=''), FloatProgress(value=0.0, max=1.0), HTML(value='')))"
      ]
     },
     "metadata": {},
     "output_type": "display_data"
    },
    {
     "data": {
      "application/vnd.jupyter.widget-view+json": {
       "model_id": "",
       "version_major": 2,
       "version_minor": 0
      },
      "text/plain": [
       "HBox(children=(HTML(value=''), FloatProgress(value=0.0, max=7.0), HTML(value='')))"
      ]
     },
     "metadata": {},
     "output_type": "display_data"
    },
    {
     "data": {
      "application/vnd.jupyter.widget-view+json": {
       "model_id": "",
       "version_major": 2,
       "version_minor": 0
      },
      "text/plain": [
       "HBox(children=(HTML(value=''), FloatProgress(value=0.0, max=1.0), HTML(value='')))"
      ]
     },
     "metadata": {},
     "output_type": "display_data"
    },
    {
     "data": {
      "application/vnd.jupyter.widget-view+json": {
       "model_id": "",
       "version_major": 2,
       "version_minor": 0
      },
      "text/plain": [
       "HBox(children=(HTML(value=''), FloatProgress(value=0.0, max=2.0), HTML(value='')))"
      ]
     },
     "metadata": {},
     "output_type": "display_data"
    },
    {
     "data": {
      "application/vnd.jupyter.widget-view+json": {
       "model_id": "",
       "version_major": 2,
       "version_minor": 0
      },
      "text/plain": [
       "HBox(children=(HTML(value=''), FloatProgress(value=0.0, max=2.0), HTML(value='')))"
      ]
     },
     "metadata": {},
     "output_type": "display_data"
    },
    {
     "data": {
      "application/vnd.jupyter.widget-view+json": {
       "model_id": "",
       "version_major": 2,
       "version_minor": 0
      },
      "text/plain": [
       "HBox(children=(HTML(value=''), FloatProgress(value=0.0, max=1.0), HTML(value='')))"
      ]
     },
     "metadata": {},
     "output_type": "display_data"
    },
    {
     "data": {
      "application/vnd.jupyter.widget-view+json": {
       "model_id": "",
       "version_major": 2,
       "version_minor": 0
      },
      "text/plain": [
       "HBox(children=(HTML(value=''), FloatProgress(value=0.0, max=5.0), HTML(value='')))"
      ]
     },
     "metadata": {},
     "output_type": "display_data"
    },
    {
     "data": {
      "application/vnd.jupyter.widget-view+json": {
       "model_id": "",
       "version_major": 2,
       "version_minor": 0
      },
      "text/plain": [
       "HBox(children=(HTML(value=''), FloatProgress(value=0.0, max=2.0), HTML(value='')))"
      ]
     },
     "metadata": {},
     "output_type": "display_data"
    },
    {
     "data": {
      "application/vnd.jupyter.widget-view+json": {
       "model_id": "",
       "version_major": 2,
       "version_minor": 0
      },
      "text/plain": [
       "HBox(children=(HTML(value=''), FloatProgress(value=0.0, max=2.0), HTML(value='')))"
      ]
     },
     "metadata": {},
     "output_type": "display_data"
    },
    {
     "data": {
      "application/vnd.jupyter.widget-view+json": {
       "model_id": "",
       "version_major": 2,
       "version_minor": 0
      },
      "text/plain": [
       "HBox(children=(HTML(value=''), FloatProgress(value=0.0, max=1.0), HTML(value='')))"
      ]
     },
     "metadata": {},
     "output_type": "display_data"
    },
    {
     "data": {
      "application/vnd.jupyter.widget-view+json": {
       "model_id": "",
       "version_major": 2,
       "version_minor": 0
      },
      "text/plain": [
       "HBox(children=(HTML(value=''), FloatProgress(value=0.0, max=12.0), HTML(value='')))"
      ]
     },
     "metadata": {},
     "output_type": "display_data"
    },
    {
     "data": {
      "application/vnd.jupyter.widget-view+json": {
       "model_id": "",
       "version_major": 2,
       "version_minor": 0
      },
      "text/plain": [
       "HBox(children=(HTML(value=''), FloatProgress(value=0.0, max=5.0), HTML(value='')))"
      ]
     },
     "metadata": {},
     "output_type": "display_data"
    },
    {
     "data": {
      "application/vnd.jupyter.widget-view+json": {
       "model_id": "",
       "version_major": 2,
       "version_minor": 0
      },
      "text/plain": [
       "HBox(children=(HTML(value=''), FloatProgress(value=0.0, max=1.0), HTML(value='')))"
      ]
     },
     "metadata": {},
     "output_type": "display_data"
    },
    {
     "data": {
      "application/vnd.jupyter.widget-view+json": {
       "model_id": "",
       "version_major": 2,
       "version_minor": 0
      },
      "text/plain": [
       "HBox(children=(HTML(value=''), FloatProgress(value=0.0, max=8.0), HTML(value='')))"
      ]
     },
     "metadata": {},
     "output_type": "display_data"
    },
    {
     "data": {
      "application/vnd.jupyter.widget-view+json": {
       "model_id": "",
       "version_major": 2,
       "version_minor": 0
      },
      "text/plain": [
       "HBox(children=(HTML(value=''), FloatProgress(value=0.0, max=1.0), HTML(value='')))"
      ]
     },
     "metadata": {},
     "output_type": "display_data"
    },
    {
     "data": {
      "application/vnd.jupyter.widget-view+json": {
       "model_id": "",
       "version_major": 2,
       "version_minor": 0
      },
      "text/plain": [
       "HBox(children=(HTML(value=''), FloatProgress(value=0.0, max=2.0), HTML(value='')))"
      ]
     },
     "metadata": {},
     "output_type": "display_data"
    },
    {
     "data": {
      "application/vnd.jupyter.widget-view+json": {
       "model_id": "",
       "version_major": 2,
       "version_minor": 0
      },
      "text/plain": [
       "HBox(children=(HTML(value=''), FloatProgress(value=0.0, max=1.0), HTML(value='')))"
      ]
     },
     "metadata": {},
     "output_type": "display_data"
    },
    {
     "data": {
      "application/vnd.jupyter.widget-view+json": {
       "model_id": "",
       "version_major": 2,
       "version_minor": 0
      },
      "text/plain": [
       "HBox(children=(HTML(value=''), FloatProgress(value=0.0, max=3.0), HTML(value='')))"
      ]
     },
     "metadata": {},
     "output_type": "display_data"
    },
    {
     "data": {
      "application/vnd.jupyter.widget-view+json": {
       "model_id": "",
       "version_major": 2,
       "version_minor": 0
      },
      "text/plain": [
       "HBox(children=(HTML(value=''), FloatProgress(value=0.0, max=1.0), HTML(value='')))"
      ]
     },
     "metadata": {},
     "output_type": "display_data"
    },
    {
     "data": {
      "application/vnd.jupyter.widget-view+json": {
       "model_id": "",
       "version_major": 2,
       "version_minor": 0
      },
      "text/plain": [
       "HBox(children=(HTML(value=''), FloatProgress(value=0.0, max=1.0), HTML(value='')))"
      ]
     },
     "metadata": {},
     "output_type": "display_data"
    },
    {
     "data": {
      "application/vnd.jupyter.widget-view+json": {
       "model_id": "",
       "version_major": 2,
       "version_minor": 0
      },
      "text/plain": [
       "HBox(children=(HTML(value=''), FloatProgress(value=0.0, max=2.0), HTML(value='')))"
      ]
     },
     "metadata": {},
     "output_type": "display_data"
    },
    {
     "data": {
      "application/vnd.jupyter.widget-view+json": {
       "model_id": "",
       "version_major": 2,
       "version_minor": 0
      },
      "text/plain": [
       "HBox(children=(HTML(value=''), FloatProgress(value=0.0, max=1.0), HTML(value='')))"
      ]
     },
     "metadata": {},
     "output_type": "display_data"
    },
    {
     "data": {
      "application/vnd.jupyter.widget-view+json": {
       "model_id": "",
       "version_major": 2,
       "version_minor": 0
      },
      "text/plain": [
       "HBox(children=(HTML(value=''), FloatProgress(value=0.0, max=2.0), HTML(value='')))"
      ]
     },
     "metadata": {},
     "output_type": "display_data"
    },
    {
     "data": {
      "application/vnd.jupyter.widget-view+json": {
       "model_id": "",
       "version_major": 2,
       "version_minor": 0
      },
      "text/plain": [
       "HBox(children=(HTML(value=''), FloatProgress(value=0.0, max=2.0), HTML(value='')))"
      ]
     },
     "metadata": {},
     "output_type": "display_data"
    },
    {
     "data": {
      "application/vnd.jupyter.widget-view+json": {
       "model_id": "",
       "version_major": 2,
       "version_minor": 0
      },
      "text/plain": [
       "HBox(children=(HTML(value=''), FloatProgress(value=0.0, max=5.0), HTML(value='')))"
      ]
     },
     "metadata": {},
     "output_type": "display_data"
    },
    {
     "data": {
      "application/vnd.jupyter.widget-view+json": {
       "model_id": "",
       "version_major": 2,
       "version_minor": 0
      },
      "text/plain": [
       "HBox(children=(HTML(value=''), FloatProgress(value=0.0, max=2.0), HTML(value='')))"
      ]
     },
     "metadata": {},
     "output_type": "display_data"
    },
    {
     "data": {
      "application/vnd.jupyter.widget-view+json": {
       "model_id": "",
       "version_major": 2,
       "version_minor": 0
      },
      "text/plain": [
       "HBox(children=(HTML(value=''), FloatProgress(value=0.0, max=1.0), HTML(value='')))"
      ]
     },
     "metadata": {},
     "output_type": "display_data"
    },
    {
     "data": {
      "application/vnd.jupyter.widget-view+json": {
       "model_id": "",
       "version_major": 2,
       "version_minor": 0
      },
      "text/plain": [
       "HBox(children=(HTML(value=''), FloatProgress(value=0.0, max=3.0), HTML(value='')))"
      ]
     },
     "metadata": {},
     "output_type": "display_data"
    },
    {
     "data": {
      "application/vnd.jupyter.widget-view+json": {
       "model_id": "",
       "version_major": 2,
       "version_minor": 0
      },
      "text/plain": [
       "HBox(children=(HTML(value=''), FloatProgress(value=0.0, max=1.0), HTML(value='')))"
      ]
     },
     "metadata": {},
     "output_type": "display_data"
    },
    {
     "data": {
      "application/vnd.jupyter.widget-view+json": {
       "model_id": "",
       "version_major": 2,
       "version_minor": 0
      },
      "text/plain": [
       "HBox(children=(HTML(value=''), FloatProgress(value=0.0, max=2.0), HTML(value='')))"
      ]
     },
     "metadata": {},
     "output_type": "display_data"
    },
    {
     "data": {
      "application/vnd.jupyter.widget-view+json": {
       "model_id": "",
       "version_major": 2,
       "version_minor": 0
      },
      "text/plain": [
       "HBox(children=(HTML(value=''), FloatProgress(value=0.0, max=1.0), HTML(value='')))"
      ]
     },
     "metadata": {},
     "output_type": "display_data"
    },
    {
     "data": {
      "application/vnd.jupyter.widget-view+json": {
       "model_id": "",
       "version_major": 2,
       "version_minor": 0
      },
      "text/plain": [
       "HBox(children=(HTML(value=''), FloatProgress(value=0.0, max=4.0), HTML(value='')))"
      ]
     },
     "metadata": {},
     "output_type": "display_data"
    },
    {
     "data": {
      "application/vnd.jupyter.widget-view+json": {
       "model_id": "",
       "version_major": 2,
       "version_minor": 0
      },
      "text/plain": [
       "HBox(children=(HTML(value=''), FloatProgress(value=0.0, max=1.0), HTML(value='')))"
      ]
     },
     "metadata": {},
     "output_type": "display_data"
    },
    {
     "data": {
      "application/vnd.jupyter.widget-view+json": {
       "model_id": "",
       "version_major": 2,
       "version_minor": 0
      },
      "text/plain": [
       "HBox(children=(HTML(value=''), FloatProgress(value=0.0, max=1.0), HTML(value='')))"
      ]
     },
     "metadata": {},
     "output_type": "display_data"
    },
    {
     "data": {
      "application/vnd.jupyter.widget-view+json": {
       "model_id": "",
       "version_major": 2,
       "version_minor": 0
      },
      "text/plain": [
       "HBox(children=(HTML(value=''), FloatProgress(value=0.0, max=3.0), HTML(value='')))"
      ]
     },
     "metadata": {},
     "output_type": "display_data"
    },
    {
     "data": {
      "application/vnd.jupyter.widget-view+json": {
       "model_id": "",
       "version_major": 2,
       "version_minor": 0
      },
      "text/plain": [
       "HBox(children=(HTML(value=''), FloatProgress(value=0.0, max=1.0), HTML(value='')))"
      ]
     },
     "metadata": {},
     "output_type": "display_data"
    },
    {
     "data": {
      "application/vnd.jupyter.widget-view+json": {
       "model_id": "",
       "version_major": 2,
       "version_minor": 0
      },
      "text/plain": [
       "HBox(children=(HTML(value=''), FloatProgress(value=0.0, max=2.0), HTML(value='')))"
      ]
     },
     "metadata": {},
     "output_type": "display_data"
    },
    {
     "data": {
      "application/vnd.jupyter.widget-view+json": {
       "model_id": "",
       "version_major": 2,
       "version_minor": 0
      },
      "text/plain": [
       "HBox(children=(HTML(value=''), FloatProgress(value=0.0, max=2.0), HTML(value='')))"
      ]
     },
     "metadata": {},
     "output_type": "display_data"
    },
    {
     "data": {
      "application/vnd.jupyter.widget-view+json": {
       "model_id": "",
       "version_major": 2,
       "version_minor": 0
      },
      "text/plain": [
       "HBox(children=(HTML(value=''), FloatProgress(value=0.0, max=2.0), HTML(value='')))"
      ]
     },
     "metadata": {},
     "output_type": "display_data"
    },
    {
     "data": {
      "application/vnd.jupyter.widget-view+json": {
       "model_id": "",
       "version_major": 2,
       "version_minor": 0
      },
      "text/plain": [
       "HBox(children=(HTML(value=''), FloatProgress(value=0.0, max=1.0), HTML(value='')))"
      ]
     },
     "metadata": {},
     "output_type": "display_data"
    },
    {
     "data": {
      "application/vnd.jupyter.widget-view+json": {
       "model_id": "",
       "version_major": 2,
       "version_minor": 0
      },
      "text/plain": [
       "HBox(children=(HTML(value=''), FloatProgress(value=0.0, max=9.0), HTML(value='')))"
      ]
     },
     "metadata": {},
     "output_type": "display_data"
    },
    {
     "data": {
      "application/vnd.jupyter.widget-view+json": {
       "model_id": "",
       "version_major": 2,
       "version_minor": 0
      },
      "text/plain": [
       "HBox(children=(HTML(value=''), FloatProgress(value=0.0, max=2.0), HTML(value='')))"
      ]
     },
     "metadata": {},
     "output_type": "display_data"
    },
    {
     "data": {
      "application/vnd.jupyter.widget-view+json": {
       "model_id": "",
       "version_major": 2,
       "version_minor": 0
      },
      "text/plain": [
       "HBox(children=(HTML(value=''), FloatProgress(value=0.0, max=1.0), HTML(value='')))"
      ]
     },
     "metadata": {},
     "output_type": "display_data"
    },
    {
     "data": {
      "application/vnd.jupyter.widget-view+json": {
       "model_id": "",
       "version_major": 2,
       "version_minor": 0
      },
      "text/plain": [
       "HBox(children=(HTML(value=''), FloatProgress(value=0.0, max=11.0), HTML(value='')))"
      ]
     },
     "metadata": {},
     "output_type": "display_data"
    },
    {
     "data": {
      "application/vnd.jupyter.widget-view+json": {
       "model_id": "",
       "version_major": 2,
       "version_minor": 0
      },
      "text/plain": [
       "HBox(children=(HTML(value=''), FloatProgress(value=0.0, max=3.0), HTML(value='')))"
      ]
     },
     "metadata": {},
     "output_type": "display_data"
    },
    {
     "data": {
      "application/vnd.jupyter.widget-view+json": {
       "model_id": "",
       "version_major": 2,
       "version_minor": 0
      },
      "text/plain": [
       "HBox(children=(HTML(value=''), FloatProgress(value=0.0, max=3.0), HTML(value='')))"
      ]
     },
     "metadata": {},
     "output_type": "display_data"
    },
    {
     "data": {
      "application/vnd.jupyter.widget-view+json": {
       "model_id": "",
       "version_major": 2,
       "version_minor": 0
      },
      "text/plain": [
       "HBox(children=(HTML(value=''), FloatProgress(value=0.0, max=1.0), HTML(value='')))"
      ]
     },
     "metadata": {},
     "output_type": "display_data"
    },
    {
     "data": {
      "application/vnd.jupyter.widget-view+json": {
       "model_id": "",
       "version_major": 2,
       "version_minor": 0
      },
      "text/plain": [
       "HBox(children=(HTML(value=''), FloatProgress(value=0.0, max=7.0), HTML(value='')))"
      ]
     },
     "metadata": {},
     "output_type": "display_data"
    },
    {
     "data": {
      "application/vnd.jupyter.widget-view+json": {
       "model_id": "",
       "version_major": 2,
       "version_minor": 0
      },
      "text/plain": [
       "HBox(children=(HTML(value=''), FloatProgress(value=0.0, max=1.0), HTML(value='')))"
      ]
     },
     "metadata": {},
     "output_type": "display_data"
    },
    {
     "data": {
      "application/vnd.jupyter.widget-view+json": {
       "model_id": "",
       "version_major": 2,
       "version_minor": 0
      },
      "text/plain": [
       "HBox(children=(HTML(value=''), FloatProgress(value=0.0, max=1.0), HTML(value='')))"
      ]
     },
     "metadata": {},
     "output_type": "display_data"
    },
    {
     "data": {
      "application/vnd.jupyter.widget-view+json": {
       "model_id": "",
       "version_major": 2,
       "version_minor": 0
      },
      "text/plain": [
       "HBox(children=(HTML(value=''), FloatProgress(value=0.0, max=3.0), HTML(value='')))"
      ]
     },
     "metadata": {},
     "output_type": "display_data"
    },
    {
     "data": {
      "application/vnd.jupyter.widget-view+json": {
       "model_id": "",
       "version_major": 2,
       "version_minor": 0
      },
      "text/plain": [
       "HBox(children=(HTML(value=''), FloatProgress(value=0.0, max=2.0), HTML(value='')))"
      ]
     },
     "metadata": {},
     "output_type": "display_data"
    },
    {
     "data": {
      "application/vnd.jupyter.widget-view+json": {
       "model_id": "",
       "version_major": 2,
       "version_minor": 0
      },
      "text/plain": [
       "HBox(children=(HTML(value=''), FloatProgress(value=0.0, max=1.0), HTML(value='')))"
      ]
     },
     "metadata": {},
     "output_type": "display_data"
    },
    {
     "data": {
      "application/vnd.jupyter.widget-view+json": {
       "model_id": "",
       "version_major": 2,
       "version_minor": 0
      },
      "text/plain": [
       "HBox(children=(HTML(value=''), FloatProgress(value=0.0, max=23.0), HTML(value='')))"
      ]
     },
     "metadata": {},
     "output_type": "display_data"
    },
    {
     "data": {
      "application/vnd.jupyter.widget-view+json": {
       "model_id": "",
       "version_major": 2,
       "version_minor": 0
      },
      "text/plain": [
       "HBox(children=(HTML(value=''), FloatProgress(value=0.0, max=1.0), HTML(value='')))"
      ]
     },
     "metadata": {},
     "output_type": "display_data"
    },
    {
     "data": {
      "application/vnd.jupyter.widget-view+json": {
       "model_id": "",
       "version_major": 2,
       "version_minor": 0
      },
      "text/plain": [
       "HBox(children=(HTML(value=''), FloatProgress(value=0.0, max=2.0), HTML(value='')))"
      ]
     },
     "metadata": {},
     "output_type": "display_data"
    },
    {
     "data": {
      "application/vnd.jupyter.widget-view+json": {
       "model_id": "",
       "version_major": 2,
       "version_minor": 0
      },
      "text/plain": [
       "HBox(children=(HTML(value=''), FloatProgress(value=0.0, max=2.0), HTML(value='')))"
      ]
     },
     "metadata": {},
     "output_type": "display_data"
    },
    {
     "data": {
      "application/vnd.jupyter.widget-view+json": {
       "model_id": "",
       "version_major": 2,
       "version_minor": 0
      },
      "text/plain": [
       "HBox(children=(HTML(value=''), FloatProgress(value=0.0, max=6.0), HTML(value='')))"
      ]
     },
     "metadata": {},
     "output_type": "display_data"
    },
    {
     "data": {
      "application/vnd.jupyter.widget-view+json": {
       "model_id": "",
       "version_major": 2,
       "version_minor": 0
      },
      "text/plain": [
       "HBox(children=(HTML(value=''), FloatProgress(value=0.0, max=1.0), HTML(value='')))"
      ]
     },
     "metadata": {},
     "output_type": "display_data"
    },
    {
     "data": {
      "application/vnd.jupyter.widget-view+json": {
       "model_id": "",
       "version_major": 2,
       "version_minor": 0
      },
      "text/plain": [
       "HBox(children=(HTML(value=''), FloatProgress(value=0.0, max=3.0), HTML(value='')))"
      ]
     },
     "metadata": {},
     "output_type": "display_data"
    },
    {
     "data": {
      "application/vnd.jupyter.widget-view+json": {
       "model_id": "",
       "version_major": 2,
       "version_minor": 0
      },
      "text/plain": [
       "HBox(children=(HTML(value=''), FloatProgress(value=0.0, max=3.0), HTML(value='')))"
      ]
     },
     "metadata": {},
     "output_type": "display_data"
    },
    {
     "data": {
      "application/vnd.jupyter.widget-view+json": {
       "model_id": "",
       "version_major": 2,
       "version_minor": 0
      },
      "text/plain": [
       "HBox(children=(HTML(value=''), FloatProgress(value=0.0, max=1.0), HTML(value='')))"
      ]
     },
     "metadata": {},
     "output_type": "display_data"
    },
    {
     "data": {
      "application/vnd.jupyter.widget-view+json": {
       "model_id": "",
       "version_major": 2,
       "version_minor": 0
      },
      "text/plain": [
       "HBox(children=(HTML(value=''), FloatProgress(value=0.0, max=1.0), HTML(value='')))"
      ]
     },
     "metadata": {},
     "output_type": "display_data"
    },
    {
     "data": {
      "application/vnd.jupyter.widget-view+json": {
       "model_id": "",
       "version_major": 2,
       "version_minor": 0
      },
      "text/plain": [
       "HBox(children=(HTML(value=''), FloatProgress(value=0.0, max=1.0), HTML(value='')))"
      ]
     },
     "metadata": {},
     "output_type": "display_data"
    },
    {
     "data": {
      "application/vnd.jupyter.widget-view+json": {
       "model_id": "",
       "version_major": 2,
       "version_minor": 0
      },
      "text/plain": [
       "HBox(children=(HTML(value=''), FloatProgress(value=0.0, max=1.0), HTML(value='')))"
      ]
     },
     "metadata": {},
     "output_type": "display_data"
    },
    {
     "data": {
      "application/vnd.jupyter.widget-view+json": {
       "model_id": "",
       "version_major": 2,
       "version_minor": 0
      },
      "text/plain": [
       "HBox(children=(HTML(value=''), FloatProgress(value=0.0, max=2.0), HTML(value='')))"
      ]
     },
     "metadata": {},
     "output_type": "display_data"
    },
    {
     "data": {
      "application/vnd.jupyter.widget-view+json": {
       "model_id": "",
       "version_major": 2,
       "version_minor": 0
      },
      "text/plain": [
       "HBox(children=(HTML(value=''), FloatProgress(value=0.0, max=1.0), HTML(value='')))"
      ]
     },
     "metadata": {},
     "output_type": "display_data"
    },
    {
     "data": {
      "application/vnd.jupyter.widget-view+json": {
       "model_id": "",
       "version_major": 2,
       "version_minor": 0
      },
      "text/plain": [
       "HBox(children=(HTML(value=''), FloatProgress(value=0.0, max=3.0), HTML(value='')))"
      ]
     },
     "metadata": {},
     "output_type": "display_data"
    },
    {
     "data": {
      "application/vnd.jupyter.widget-view+json": {
       "model_id": "",
       "version_major": 2,
       "version_minor": 0
      },
      "text/plain": [
       "HBox(children=(HTML(value=''), FloatProgress(value=0.0, max=2.0), HTML(value='')))"
      ]
     },
     "metadata": {},
     "output_type": "display_data"
    },
    {
     "data": {
      "application/vnd.jupyter.widget-view+json": {
       "model_id": "",
       "version_major": 2,
       "version_minor": 0
      },
      "text/plain": [
       "HBox(children=(HTML(value=''), FloatProgress(value=0.0, max=2.0), HTML(value='')))"
      ]
     },
     "metadata": {},
     "output_type": "display_data"
    },
    {
     "data": {
      "application/vnd.jupyter.widget-view+json": {
       "model_id": "",
       "version_major": 2,
       "version_minor": 0
      },
      "text/plain": [
       "HBox(children=(HTML(value=''), FloatProgress(value=0.0, max=1.0), HTML(value='')))"
      ]
     },
     "metadata": {},
     "output_type": "display_data"
    },
    {
     "data": {
      "application/vnd.jupyter.widget-view+json": {
       "model_id": "",
       "version_major": 2,
       "version_minor": 0
      },
      "text/plain": [
       "HBox(children=(HTML(value=''), FloatProgress(value=0.0, max=1.0), HTML(value='')))"
      ]
     },
     "metadata": {},
     "output_type": "display_data"
    },
    {
     "data": {
      "application/vnd.jupyter.widget-view+json": {
       "model_id": "",
       "version_major": 2,
       "version_minor": 0
      },
      "text/plain": [
       "HBox(children=(HTML(value=''), FloatProgress(value=0.0, max=1.0), HTML(value='')))"
      ]
     },
     "metadata": {},
     "output_type": "display_data"
    },
    {
     "data": {
      "application/vnd.jupyter.widget-view+json": {
       "model_id": "",
       "version_major": 2,
       "version_minor": 0
      },
      "text/plain": [
       "HBox(children=(HTML(value=''), FloatProgress(value=0.0, max=2.0), HTML(value='')))"
      ]
     },
     "metadata": {},
     "output_type": "display_data"
    },
    {
     "data": {
      "application/vnd.jupyter.widget-view+json": {
       "model_id": "",
       "version_major": 2,
       "version_minor": 0
      },
      "text/plain": [
       "HBox(children=(HTML(value=''), FloatProgress(value=0.0, max=2.0), HTML(value='')))"
      ]
     },
     "metadata": {},
     "output_type": "display_data"
    },
    {
     "data": {
      "application/vnd.jupyter.widget-view+json": {
       "model_id": "",
       "version_major": 2,
       "version_minor": 0
      },
      "text/plain": [
       "HBox(children=(HTML(value=''), FloatProgress(value=0.0, max=2.0), HTML(value='')))"
      ]
     },
     "metadata": {},
     "output_type": "display_data"
    },
    {
     "data": {
      "application/vnd.jupyter.widget-view+json": {
       "model_id": "",
       "version_major": 2,
       "version_minor": 0
      },
      "text/plain": [
       "HBox(children=(HTML(value=''), FloatProgress(value=0.0, max=1.0), HTML(value='')))"
      ]
     },
     "metadata": {},
     "output_type": "display_data"
    },
    {
     "data": {
      "application/vnd.jupyter.widget-view+json": {
       "model_id": "",
       "version_major": 2,
       "version_minor": 0
      },
      "text/plain": [
       "HBox(children=(HTML(value=''), FloatProgress(value=0.0, max=1.0), HTML(value='')))"
      ]
     },
     "metadata": {},
     "output_type": "display_data"
    },
    {
     "data": {
      "application/vnd.jupyter.widget-view+json": {
       "model_id": "",
       "version_major": 2,
       "version_minor": 0
      },
      "text/plain": [
       "HBox(children=(HTML(value=''), FloatProgress(value=0.0, max=3.0), HTML(value='')))"
      ]
     },
     "metadata": {},
     "output_type": "display_data"
    },
    {
     "data": {
      "application/vnd.jupyter.widget-view+json": {
       "model_id": "",
       "version_major": 2,
       "version_minor": 0
      },
      "text/plain": [
       "HBox(children=(HTML(value=''), FloatProgress(value=0.0, max=3.0), HTML(value='')))"
      ]
     },
     "metadata": {},
     "output_type": "display_data"
    },
    {
     "data": {
      "application/vnd.jupyter.widget-view+json": {
       "model_id": "",
       "version_major": 2,
       "version_minor": 0
      },
      "text/plain": [
       "HBox(children=(HTML(value=''), FloatProgress(value=0.0, max=2.0), HTML(value='')))"
      ]
     },
     "metadata": {},
     "output_type": "display_data"
    },
    {
     "data": {
      "application/vnd.jupyter.widget-view+json": {
       "model_id": "",
       "version_major": 2,
       "version_minor": 0
      },
      "text/plain": [
       "HBox(children=(HTML(value=''), FloatProgress(value=0.0, max=2.0), HTML(value='')))"
      ]
     },
     "metadata": {},
     "output_type": "display_data"
    },
    {
     "data": {
      "application/vnd.jupyter.widget-view+json": {
       "model_id": "",
       "version_major": 2,
       "version_minor": 0
      },
      "text/plain": [
       "HBox(children=(HTML(value=''), FloatProgress(value=0.0, max=1.0), HTML(value='')))"
      ]
     },
     "metadata": {},
     "output_type": "display_data"
    },
    {
     "data": {
      "application/vnd.jupyter.widget-view+json": {
       "model_id": "",
       "version_major": 2,
       "version_minor": 0
      },
      "text/plain": [
       "HBox(children=(HTML(value=''), FloatProgress(value=0.0, max=1.0), HTML(value='')))"
      ]
     },
     "metadata": {},
     "output_type": "display_data"
    },
    {
     "data": {
      "application/vnd.jupyter.widget-view+json": {
       "model_id": "",
       "version_major": 2,
       "version_minor": 0
      },
      "text/plain": [
       "HBox(children=(HTML(value=''), FloatProgress(value=0.0, max=1.0), HTML(value='')))"
      ]
     },
     "metadata": {},
     "output_type": "display_data"
    },
    {
     "data": {
      "application/vnd.jupyter.widget-view+json": {
       "model_id": "",
       "version_major": 2,
       "version_minor": 0
      },
      "text/plain": [
       "HBox(children=(HTML(value=''), FloatProgress(value=0.0, max=2.0), HTML(value='')))"
      ]
     },
     "metadata": {},
     "output_type": "display_data"
    },
    {
     "data": {
      "application/vnd.jupyter.widget-view+json": {
       "model_id": "",
       "version_major": 2,
       "version_minor": 0
      },
      "text/plain": [
       "HBox(children=(HTML(value=''), FloatProgress(value=0.0, max=6.0), HTML(value='')))"
      ]
     },
     "metadata": {},
     "output_type": "display_data"
    },
    {
     "data": {
      "application/vnd.jupyter.widget-view+json": {
       "model_id": "",
       "version_major": 2,
       "version_minor": 0
      },
      "text/plain": [
       "HBox(children=(HTML(value=''), FloatProgress(value=0.0, max=1.0), HTML(value='')))"
      ]
     },
     "metadata": {},
     "output_type": "display_data"
    },
    {
     "data": {
      "application/vnd.jupyter.widget-view+json": {
       "model_id": "",
       "version_major": 2,
       "version_minor": 0
      },
      "text/plain": [
       "HBox(children=(HTML(value=''), FloatProgress(value=0.0, max=3.0), HTML(value='')))"
      ]
     },
     "metadata": {},
     "output_type": "display_data"
    },
    {
     "data": {
      "application/vnd.jupyter.widget-view+json": {
       "model_id": "",
       "version_major": 2,
       "version_minor": 0
      },
      "text/plain": [
       "HBox(children=(HTML(value=''), FloatProgress(value=0.0, max=2.0), HTML(value='')))"
      ]
     },
     "metadata": {},
     "output_type": "display_data"
    },
    {
     "data": {
      "application/vnd.jupyter.widget-view+json": {
       "model_id": "",
       "version_major": 2,
       "version_minor": 0
      },
      "text/plain": [
       "HBox(children=(HTML(value=''), FloatProgress(value=0.0, max=2.0), HTML(value='')))"
      ]
     },
     "metadata": {},
     "output_type": "display_data"
    },
    {
     "data": {
      "application/vnd.jupyter.widget-view+json": {
       "model_id": "",
       "version_major": 2,
       "version_minor": 0
      },
      "text/plain": [
       "HBox(children=(HTML(value=''), FloatProgress(value=0.0, max=2.0), HTML(value='')))"
      ]
     },
     "metadata": {},
     "output_type": "display_data"
    },
    {
     "data": {
      "application/vnd.jupyter.widget-view+json": {
       "model_id": "",
       "version_major": 2,
       "version_minor": 0
      },
      "text/plain": [
       "HBox(children=(HTML(value=''), FloatProgress(value=0.0, max=2.0), HTML(value='')))"
      ]
     },
     "metadata": {},
     "output_type": "display_data"
    },
    {
     "data": {
      "application/vnd.jupyter.widget-view+json": {
       "model_id": "",
       "version_major": 2,
       "version_minor": 0
      },
      "text/plain": [
       "HBox(children=(HTML(value=''), FloatProgress(value=0.0, max=1.0), HTML(value='')))"
      ]
     },
     "metadata": {},
     "output_type": "display_data"
    },
    {
     "data": {
      "application/vnd.jupyter.widget-view+json": {
       "model_id": "",
       "version_major": 2,
       "version_minor": 0
      },
      "text/plain": [
       "HBox(children=(HTML(value=''), FloatProgress(value=0.0, max=3.0), HTML(value='')))"
      ]
     },
     "metadata": {},
     "output_type": "display_data"
    },
    {
     "data": {
      "application/vnd.jupyter.widget-view+json": {
       "model_id": "",
       "version_major": 2,
       "version_minor": 0
      },
      "text/plain": [
       "HBox(children=(HTML(value=''), FloatProgress(value=0.0, max=23.0), HTML(value='')))"
      ]
     },
     "metadata": {},
     "output_type": "display_data"
    },
    {
     "data": {
      "application/vnd.jupyter.widget-view+json": {
       "model_id": "",
       "version_major": 2,
       "version_minor": 0
      },
      "text/plain": [
       "HBox(children=(HTML(value=''), FloatProgress(value=0.0, max=1.0), HTML(value='')))"
      ]
     },
     "metadata": {},
     "output_type": "display_data"
    },
    {
     "data": {
      "application/vnd.jupyter.widget-view+json": {
       "model_id": "",
       "version_major": 2,
       "version_minor": 0
      },
      "text/plain": [
       "HBox(children=(HTML(value=''), FloatProgress(value=0.0, max=13.0), HTML(value='')))"
      ]
     },
     "metadata": {},
     "output_type": "display_data"
    },
    {
     "data": {
      "application/vnd.jupyter.widget-view+json": {
       "model_id": "",
       "version_major": 2,
       "version_minor": 0
      },
      "text/plain": [
       "HBox(children=(HTML(value=''), FloatProgress(value=0.0, max=4.0), HTML(value='')))"
      ]
     },
     "metadata": {},
     "output_type": "display_data"
    },
    {
     "data": {
      "application/vnd.jupyter.widget-view+json": {
       "model_id": "",
       "version_major": 2,
       "version_minor": 0
      },
      "text/plain": [
       "HBox(children=(HTML(value=''), FloatProgress(value=0.0, max=2.0), HTML(value='')))"
      ]
     },
     "metadata": {},
     "output_type": "display_data"
    },
    {
     "data": {
      "application/vnd.jupyter.widget-view+json": {
       "model_id": "",
       "version_major": 2,
       "version_minor": 0
      },
      "text/plain": [
       "HBox(children=(HTML(value=''), FloatProgress(value=0.0, max=1.0), HTML(value='')))"
      ]
     },
     "metadata": {},
     "output_type": "display_data"
    },
    {
     "data": {
      "application/vnd.jupyter.widget-view+json": {
       "model_id": "",
       "version_major": 2,
       "version_minor": 0
      },
      "text/plain": [
       "HBox(children=(HTML(value=''), FloatProgress(value=0.0, max=3.0), HTML(value='')))"
      ]
     },
     "metadata": {},
     "output_type": "display_data"
    },
    {
     "data": {
      "application/vnd.jupyter.widget-view+json": {
       "model_id": "",
       "version_major": 2,
       "version_minor": 0
      },
      "text/plain": [
       "HBox(children=(HTML(value=''), FloatProgress(value=0.0, max=1.0), HTML(value='')))"
      ]
     },
     "metadata": {},
     "output_type": "display_data"
    },
    {
     "data": {
      "application/vnd.jupyter.widget-view+json": {
       "model_id": "",
       "version_major": 2,
       "version_minor": 0
      },
      "text/plain": [
       "HBox(children=(HTML(value=''), FloatProgress(value=0.0, max=3.0), HTML(value='')))"
      ]
     },
     "metadata": {},
     "output_type": "display_data"
    },
    {
     "data": {
      "application/vnd.jupyter.widget-view+json": {
       "model_id": "",
       "version_major": 2,
       "version_minor": 0
      },
      "text/plain": [
       "HBox(children=(HTML(value=''), FloatProgress(value=0.0, max=1.0), HTML(value='')))"
      ]
     },
     "metadata": {},
     "output_type": "display_data"
    },
    {
     "data": {
      "application/vnd.jupyter.widget-view+json": {
       "model_id": "",
       "version_major": 2,
       "version_minor": 0
      },
      "text/plain": [
       "HBox(children=(HTML(value=''), FloatProgress(value=0.0, max=1.0), HTML(value='')))"
      ]
     },
     "metadata": {},
     "output_type": "display_data"
    },
    {
     "data": {
      "application/vnd.jupyter.widget-view+json": {
       "model_id": "",
       "version_major": 2,
       "version_minor": 0
      },
      "text/plain": [
       "HBox(children=(HTML(value=''), FloatProgress(value=0.0, max=1.0), HTML(value='')))"
      ]
     },
     "metadata": {},
     "output_type": "display_data"
    },
    {
     "data": {
      "application/vnd.jupyter.widget-view+json": {
       "model_id": "",
       "version_major": 2,
       "version_minor": 0
      },
      "text/plain": [
       "HBox(children=(HTML(value=''), FloatProgress(value=0.0, max=1.0), HTML(value='')))"
      ]
     },
     "metadata": {},
     "output_type": "display_data"
    },
    {
     "data": {
      "application/vnd.jupyter.widget-view+json": {
       "model_id": "",
       "version_major": 2,
       "version_minor": 0
      },
      "text/plain": [
       "HBox(children=(HTML(value=''), FloatProgress(value=0.0, max=11.0), HTML(value='')))"
      ]
     },
     "metadata": {},
     "output_type": "display_data"
    },
    {
     "data": {
      "application/vnd.jupyter.widget-view+json": {
       "model_id": "",
       "version_major": 2,
       "version_minor": 0
      },
      "text/plain": [
       "HBox(children=(HTML(value=''), FloatProgress(value=0.0, max=1.0), HTML(value='')))"
      ]
     },
     "metadata": {},
     "output_type": "display_data"
    },
    {
     "data": {
      "application/vnd.jupyter.widget-view+json": {
       "model_id": "",
       "version_major": 2,
       "version_minor": 0
      },
      "text/plain": [
       "HBox(children=(HTML(value=''), FloatProgress(value=0.0, max=3.0), HTML(value='')))"
      ]
     },
     "metadata": {},
     "output_type": "display_data"
    },
    {
     "data": {
      "application/vnd.jupyter.widget-view+json": {
       "model_id": "",
       "version_major": 2,
       "version_minor": 0
      },
      "text/plain": [
       "HBox(children=(HTML(value=''), FloatProgress(value=0.0, max=2.0), HTML(value='')))"
      ]
     },
     "metadata": {},
     "output_type": "display_data"
    },
    {
     "data": {
      "application/vnd.jupyter.widget-view+json": {
       "model_id": "",
       "version_major": 2,
       "version_minor": 0
      },
      "text/plain": [
       "HBox(children=(HTML(value=''), FloatProgress(value=0.0, max=1.0), HTML(value='')))"
      ]
     },
     "metadata": {},
     "output_type": "display_data"
    },
    {
     "data": {
      "application/vnd.jupyter.widget-view+json": {
       "model_id": "",
       "version_major": 2,
       "version_minor": 0
      },
      "text/plain": [
       "HBox(children=(HTML(value=''), FloatProgress(value=0.0, max=7.0), HTML(value='')))"
      ]
     },
     "metadata": {},
     "output_type": "display_data"
    },
    {
     "data": {
      "application/vnd.jupyter.widget-view+json": {
       "model_id": "",
       "version_major": 2,
       "version_minor": 0
      },
      "text/plain": [
       "HBox(children=(HTML(value=''), FloatProgress(value=0.0, max=2.0), HTML(value='')))"
      ]
     },
     "metadata": {},
     "output_type": "display_data"
    },
    {
     "data": {
      "application/vnd.jupyter.widget-view+json": {
       "model_id": "",
       "version_major": 2,
       "version_minor": 0
      },
      "text/plain": [
       "HBox(children=(HTML(value=''), FloatProgress(value=0.0, max=4.0), HTML(value='')))"
      ]
     },
     "metadata": {},
     "output_type": "display_data"
    },
    {
     "data": {
      "application/vnd.jupyter.widget-view+json": {
       "model_id": "",
       "version_major": 2,
       "version_minor": 0
      },
      "text/plain": [
       "HBox(children=(HTML(value=''), FloatProgress(value=0.0, max=1.0), HTML(value='')))"
      ]
     },
     "metadata": {},
     "output_type": "display_data"
    },
    {
     "data": {
      "application/vnd.jupyter.widget-view+json": {
       "model_id": "",
       "version_major": 2,
       "version_minor": 0
      },
      "text/plain": [
       "HBox(children=(HTML(value=''), FloatProgress(value=0.0, max=2.0), HTML(value='')))"
      ]
     },
     "metadata": {},
     "output_type": "display_data"
    },
    {
     "data": {
      "application/vnd.jupyter.widget-view+json": {
       "model_id": "",
       "version_major": 2,
       "version_minor": 0
      },
      "text/plain": [
       "HBox(children=(HTML(value=''), FloatProgress(value=0.0, max=8.0), HTML(value='')))"
      ]
     },
     "metadata": {},
     "output_type": "display_data"
    },
    {
     "data": {
      "application/vnd.jupyter.widget-view+json": {
       "model_id": "",
       "version_major": 2,
       "version_minor": 0
      },
      "text/plain": [
       "HBox(children=(HTML(value=''), FloatProgress(value=0.0, max=1.0), HTML(value='')))"
      ]
     },
     "metadata": {},
     "output_type": "display_data"
    },
    {
     "data": {
      "application/vnd.jupyter.widget-view+json": {
       "model_id": "",
       "version_major": 2,
       "version_minor": 0
      },
      "text/plain": [
       "HBox(children=(HTML(value=''), FloatProgress(value=0.0, max=1.0), HTML(value='')))"
      ]
     },
     "metadata": {},
     "output_type": "display_data"
    },
    {
     "data": {
      "application/vnd.jupyter.widget-view+json": {
       "model_id": "",
       "version_major": 2,
       "version_minor": 0
      },
      "text/plain": [
       "HBox(children=(HTML(value=''), FloatProgress(value=0.0, max=6.0), HTML(value='')))"
      ]
     },
     "metadata": {},
     "output_type": "display_data"
    },
    {
     "data": {
      "application/vnd.jupyter.widget-view+json": {
       "model_id": "",
       "version_major": 2,
       "version_minor": 0
      },
      "text/plain": [
       "HBox(children=(HTML(value=''), FloatProgress(value=0.0, max=1.0), HTML(value='')))"
      ]
     },
     "metadata": {},
     "output_type": "display_data"
    },
    {
     "data": {
      "application/vnd.jupyter.widget-view+json": {
       "model_id": "",
       "version_major": 2,
       "version_minor": 0
      },
      "text/plain": [
       "HBox(children=(HTML(value=''), FloatProgress(value=0.0, max=1.0), HTML(value='')))"
      ]
     },
     "metadata": {},
     "output_type": "display_data"
    },
    {
     "data": {
      "application/vnd.jupyter.widget-view+json": {
       "model_id": "",
       "version_major": 2,
       "version_minor": 0
      },
      "text/plain": [
       "HBox(children=(HTML(value=''), FloatProgress(value=0.0, max=1.0), HTML(value='')))"
      ]
     },
     "metadata": {},
     "output_type": "display_data"
    },
    {
     "data": {
      "application/vnd.jupyter.widget-view+json": {
       "model_id": "",
       "version_major": 2,
       "version_minor": 0
      },
      "text/plain": [
       "HBox(children=(HTML(value=''), FloatProgress(value=0.0, max=3.0), HTML(value='')))"
      ]
     },
     "metadata": {},
     "output_type": "display_data"
    },
    {
     "data": {
      "application/vnd.jupyter.widget-view+json": {
       "model_id": "",
       "version_major": 2,
       "version_minor": 0
      },
      "text/plain": [
       "HBox(children=(HTML(value=''), FloatProgress(value=0.0, max=2.0), HTML(value='')))"
      ]
     },
     "metadata": {},
     "output_type": "display_data"
    },
    {
     "data": {
      "application/vnd.jupyter.widget-view+json": {
       "model_id": "",
       "version_major": 2,
       "version_minor": 0
      },
      "text/plain": [
       "HBox(children=(HTML(value=''), FloatProgress(value=0.0, max=1.0), HTML(value='')))"
      ]
     },
     "metadata": {},
     "output_type": "display_data"
    },
    {
     "data": {
      "application/vnd.jupyter.widget-view+json": {
       "model_id": "",
       "version_major": 2,
       "version_minor": 0
      },
      "text/plain": [
       "HBox(children=(HTML(value=''), FloatProgress(value=0.0, max=4.0), HTML(value='')))"
      ]
     },
     "metadata": {},
     "output_type": "display_data"
    },
    {
     "data": {
      "application/vnd.jupyter.widget-view+json": {
       "model_id": "",
       "version_major": 2,
       "version_minor": 0
      },
      "text/plain": [
       "HBox(children=(HTML(value=''), FloatProgress(value=0.0, max=6.0), HTML(value='')))"
      ]
     },
     "metadata": {},
     "output_type": "display_data"
    },
    {
     "data": {
      "application/vnd.jupyter.widget-view+json": {
       "model_id": "",
       "version_major": 2,
       "version_minor": 0
      },
      "text/plain": [
       "HBox(children=(HTML(value=''), FloatProgress(value=0.0, max=1.0), HTML(value='')))"
      ]
     },
     "metadata": {},
     "output_type": "display_data"
    },
    {
     "data": {
      "application/vnd.jupyter.widget-view+json": {
       "model_id": "",
       "version_major": 2,
       "version_minor": 0
      },
      "text/plain": [
       "HBox(children=(HTML(value=''), FloatProgress(value=0.0, max=1.0), HTML(value='')))"
      ]
     },
     "metadata": {},
     "output_type": "display_data"
    },
    {
     "data": {
      "application/vnd.jupyter.widget-view+json": {
       "model_id": "",
       "version_major": 2,
       "version_minor": 0
      },
      "text/plain": [
       "HBox(children=(HTML(value=''), FloatProgress(value=0.0, max=2.0), HTML(value='')))"
      ]
     },
     "metadata": {},
     "output_type": "display_data"
    },
    {
     "data": {
      "application/vnd.jupyter.widget-view+json": {
       "model_id": "",
       "version_major": 2,
       "version_minor": 0
      },
      "text/plain": [
       "HBox(children=(HTML(value=''), FloatProgress(value=0.0, max=37.0), HTML(value='')))"
      ]
     },
     "metadata": {},
     "output_type": "display_data"
    },
    {
     "data": {
      "application/vnd.jupyter.widget-view+json": {
       "model_id": "",
       "version_major": 2,
       "version_minor": 0
      },
      "text/plain": [
       "HBox(children=(HTML(value=''), FloatProgress(value=0.0, max=3.0), HTML(value='')))"
      ]
     },
     "metadata": {},
     "output_type": "display_data"
    },
    {
     "data": {
      "application/vnd.jupyter.widget-view+json": {
       "model_id": "",
       "version_major": 2,
       "version_minor": 0
      },
      "text/plain": [
       "HBox(children=(HTML(value=''), FloatProgress(value=0.0, max=1.0), HTML(value='')))"
      ]
     },
     "metadata": {},
     "output_type": "display_data"
    },
    {
     "data": {
      "application/vnd.jupyter.widget-view+json": {
       "model_id": "",
       "version_major": 2,
       "version_minor": 0
      },
      "text/plain": [
       "HBox(children=(HTML(value=''), FloatProgress(value=0.0, max=15.0), HTML(value='')))"
      ]
     },
     "metadata": {},
     "output_type": "display_data"
    },
    {
     "data": {
      "application/vnd.jupyter.widget-view+json": {
       "model_id": "",
       "version_major": 2,
       "version_minor": 0
      },
      "text/plain": [
       "HBox(children=(HTML(value=''), FloatProgress(value=0.0, max=7.0), HTML(value='')))"
      ]
     },
     "metadata": {},
     "output_type": "display_data"
    },
    {
     "data": {
      "application/vnd.jupyter.widget-view+json": {
       "model_id": "",
       "version_major": 2,
       "version_minor": 0
      },
      "text/plain": [
       "HBox(children=(HTML(value=''), FloatProgress(value=0.0, max=8.0), HTML(value='')))"
      ]
     },
     "metadata": {},
     "output_type": "display_data"
    },
    {
     "data": {
      "application/vnd.jupyter.widget-view+json": {
       "model_id": "",
       "version_major": 2,
       "version_minor": 0
      },
      "text/plain": [
       "HBox(children=(HTML(value=''), FloatProgress(value=0.0, max=7.0), HTML(value='')))"
      ]
     },
     "metadata": {},
     "output_type": "display_data"
    },
    {
     "data": {
      "application/vnd.jupyter.widget-view+json": {
       "model_id": "",
       "version_major": 2,
       "version_minor": 0
      },
      "text/plain": [
       "HBox(children=(HTML(value=''), FloatProgress(value=0.0, max=3.0), HTML(value='')))"
      ]
     },
     "metadata": {},
     "output_type": "display_data"
    },
    {
     "data": {
      "application/vnd.jupyter.widget-view+json": {
       "model_id": "",
       "version_major": 2,
       "version_minor": 0
      },
      "text/plain": [
       "HBox(children=(HTML(value=''), FloatProgress(value=0.0, max=1.0), HTML(value='')))"
      ]
     },
     "metadata": {},
     "output_type": "display_data"
    },
    {
     "data": {
      "application/vnd.jupyter.widget-view+json": {
       "model_id": "",
       "version_major": 2,
       "version_minor": 0
      },
      "text/plain": [
       "HBox(children=(HTML(value=''), FloatProgress(value=0.0, max=2.0), HTML(value='')))"
      ]
     },
     "metadata": {},
     "output_type": "display_data"
    },
    {
     "data": {
      "application/vnd.jupyter.widget-view+json": {
       "model_id": "",
       "version_major": 2,
       "version_minor": 0
      },
      "text/plain": [
       "HBox(children=(HTML(value=''), FloatProgress(value=0.0, max=4.0), HTML(value='')))"
      ]
     },
     "metadata": {},
     "output_type": "display_data"
    },
    {
     "data": {
      "application/vnd.jupyter.widget-view+json": {
       "model_id": "",
       "version_major": 2,
       "version_minor": 0
      },
      "text/plain": [
       "HBox(children=(HTML(value=''), FloatProgress(value=0.0, max=1.0), HTML(value='')))"
      ]
     },
     "metadata": {},
     "output_type": "display_data"
    },
    {
     "data": {
      "application/vnd.jupyter.widget-view+json": {
       "model_id": "c1befa91647e4b19a1d964c9378a5148",
       "version_major": 2,
       "version_minor": 0
      },
      "text/plain": [
       "HBox(children=(HTML(value=''), FloatProgress(value=0.0, max=816.0), HTML(value='')))"
      ]
     },
     "metadata": {},
     "output_type": "display_data"
    },
    {
     "data": {
      "application/vnd.jupyter.widget-view+json": {
       "model_id": "",
       "version_major": 2,
       "version_minor": 0
      },
      "text/plain": [
       "HBox(children=(HTML(value=''), FloatProgress(value=0.0, max=2.0), HTML(value='')))"
      ]
     },
     "metadata": {},
     "output_type": "display_data"
    },
    {
     "data": {
      "application/vnd.jupyter.widget-view+json": {
       "model_id": "",
       "version_major": 2,
       "version_minor": 0
      },
      "text/plain": [
       "HBox(children=(HTML(value=''), FloatProgress(value=0.0, max=22.0), HTML(value='')))"
      ]
     },
     "metadata": {},
     "output_type": "display_data"
    },
    {
     "data": {
      "application/vnd.jupyter.widget-view+json": {
       "model_id": "",
       "version_major": 2,
       "version_minor": 0
      },
      "text/plain": [
       "HBox(children=(HTML(value=''), FloatProgress(value=0.0, max=1.0), HTML(value='')))"
      ]
     },
     "metadata": {},
     "output_type": "display_data"
    },
    {
     "data": {
      "application/vnd.jupyter.widget-view+json": {
       "model_id": "",
       "version_major": 2,
       "version_minor": 0
      },
      "text/plain": [
       "HBox(children=(HTML(value=''), FloatProgress(value=0.0, max=7.0), HTML(value='')))"
      ]
     },
     "metadata": {},
     "output_type": "display_data"
    },
    {
     "data": {
      "application/vnd.jupyter.widget-view+json": {
       "model_id": "",
       "version_major": 2,
       "version_minor": 0
      },
      "text/plain": [
       "HBox(children=(HTML(value=''), FloatProgress(value=0.0, max=1.0), HTML(value='')))"
      ]
     },
     "metadata": {},
     "output_type": "display_data"
    },
    {
     "data": {
      "application/vnd.jupyter.widget-view+json": {
       "model_id": "",
       "version_major": 2,
       "version_minor": 0
      },
      "text/plain": [
       "HBox(children=(HTML(value=''), FloatProgress(value=0.0, max=5.0), HTML(value='')))"
      ]
     },
     "metadata": {},
     "output_type": "display_data"
    },
    {
     "data": {
      "application/vnd.jupyter.widget-view+json": {
       "model_id": "",
       "version_major": 2,
       "version_minor": 0
      },
      "text/plain": [
       "HBox(children=(HTML(value=''), FloatProgress(value=0.0, max=1.0), HTML(value='')))"
      ]
     },
     "metadata": {},
     "output_type": "display_data"
    },
    {
     "data": {
      "application/vnd.jupyter.widget-view+json": {
       "model_id": "",
       "version_major": 2,
       "version_minor": 0
      },
      "text/plain": [
       "HBox(children=(HTML(value=''), FloatProgress(value=0.0, max=4.0), HTML(value='')))"
      ]
     },
     "metadata": {},
     "output_type": "display_data"
    },
    {
     "data": {
      "application/vnd.jupyter.widget-view+json": {
       "model_id": "",
       "version_major": 2,
       "version_minor": 0
      },
      "text/plain": [
       "HBox(children=(HTML(value=''), FloatProgress(value=0.0, max=3.0), HTML(value='')))"
      ]
     },
     "metadata": {},
     "output_type": "display_data"
    },
    {
     "data": {
      "application/vnd.jupyter.widget-view+json": {
       "model_id": "",
       "version_major": 2,
       "version_minor": 0
      },
      "text/plain": [
       "HBox(children=(HTML(value=''), FloatProgress(value=0.0, max=1.0), HTML(value='')))"
      ]
     },
     "metadata": {},
     "output_type": "display_data"
    },
    {
     "data": {
      "application/vnd.jupyter.widget-view+json": {
       "model_id": "",
       "version_major": 2,
       "version_minor": 0
      },
      "text/plain": [
       "HBox(children=(HTML(value=''), FloatProgress(value=0.0, max=4.0), HTML(value='')))"
      ]
     },
     "metadata": {},
     "output_type": "display_data"
    },
    {
     "data": {
      "application/vnd.jupyter.widget-view+json": {
       "model_id": "",
       "version_major": 2,
       "version_minor": 0
      },
      "text/plain": [
       "HBox(children=(HTML(value=''), FloatProgress(value=0.0, max=1.0), HTML(value='')))"
      ]
     },
     "metadata": {},
     "output_type": "display_data"
    },
    {
     "data": {
      "application/vnd.jupyter.widget-view+json": {
       "model_id": "",
       "version_major": 2,
       "version_minor": 0
      },
      "text/plain": [
       "HBox(children=(HTML(value=''), FloatProgress(value=0.0, max=1.0), HTML(value='')))"
      ]
     },
     "metadata": {},
     "output_type": "display_data"
    },
    {
     "data": {
      "application/vnd.jupyter.widget-view+json": {
       "model_id": "",
       "version_major": 2,
       "version_minor": 0
      },
      "text/plain": [
       "HBox(children=(HTML(value=''), FloatProgress(value=0.0, max=5.0), HTML(value='')))"
      ]
     },
     "metadata": {},
     "output_type": "display_data"
    },
    {
     "data": {
      "application/vnd.jupyter.widget-view+json": {
       "model_id": "",
       "version_major": 2,
       "version_minor": 0
      },
      "text/plain": [
       "HBox(children=(HTML(value=''), FloatProgress(value=0.0, max=1.0), HTML(value='')))"
      ]
     },
     "metadata": {},
     "output_type": "display_data"
    },
    {
     "data": {
      "application/vnd.jupyter.widget-view+json": {
       "model_id": "",
       "version_major": 2,
       "version_minor": 0
      },
      "text/plain": [
       "HBox(children=(HTML(value=''), FloatProgress(value=0.0, max=5.0), HTML(value='')))"
      ]
     },
     "metadata": {},
     "output_type": "display_data"
    },
    {
     "data": {
      "application/vnd.jupyter.widget-view+json": {
       "model_id": "",
       "version_major": 2,
       "version_minor": 0
      },
      "text/plain": [
       "HBox(children=(HTML(value=''), FloatProgress(value=0.0, max=5.0), HTML(value='')))"
      ]
     },
     "metadata": {},
     "output_type": "display_data"
    },
    {
     "data": {
      "application/vnd.jupyter.widget-view+json": {
       "model_id": "",
       "version_major": 2,
       "version_minor": 0
      },
      "text/plain": [
       "HBox(children=(HTML(value=''), FloatProgress(value=0.0, max=3.0), HTML(value='')))"
      ]
     },
     "metadata": {},
     "output_type": "display_data"
    },
    {
     "data": {
      "application/vnd.jupyter.widget-view+json": {
       "model_id": "",
       "version_major": 2,
       "version_minor": 0
      },
      "text/plain": [
       "HBox(children=(HTML(value=''), FloatProgress(value=0.0, max=2.0), HTML(value='')))"
      ]
     },
     "metadata": {},
     "output_type": "display_data"
    },
    {
     "data": {
      "application/vnd.jupyter.widget-view+json": {
       "model_id": "",
       "version_major": 2,
       "version_minor": 0
      },
      "text/plain": [
       "HBox(children=(HTML(value=''), FloatProgress(value=0.0, max=11.0), HTML(value='')))"
      ]
     },
     "metadata": {},
     "output_type": "display_data"
    },
    {
     "data": {
      "application/vnd.jupyter.widget-view+json": {
       "model_id": "",
       "version_major": 2,
       "version_minor": 0
      },
      "text/plain": [
       "HBox(children=(HTML(value=''), FloatProgress(value=0.0, max=1.0), HTML(value='')))"
      ]
     },
     "metadata": {},
     "output_type": "display_data"
    },
    {
     "data": {
      "application/vnd.jupyter.widget-view+json": {
       "model_id": "",
       "version_major": 2,
       "version_minor": 0
      },
      "text/plain": [
       "HBox(children=(HTML(value=''), FloatProgress(value=0.0, max=9.0), HTML(value='')))"
      ]
     },
     "metadata": {},
     "output_type": "display_data"
    },
    {
     "data": {
      "application/vnd.jupyter.widget-view+json": {
       "model_id": "",
       "version_major": 2,
       "version_minor": 0
      },
      "text/plain": [
       "HBox(children=(HTML(value=''), FloatProgress(value=0.0, max=7.0), HTML(value='')))"
      ]
     },
     "metadata": {},
     "output_type": "display_data"
    },
    {
     "data": {
      "application/vnd.jupyter.widget-view+json": {
       "model_id": "",
       "version_major": 2,
       "version_minor": 0
      },
      "text/plain": [
       "HBox(children=(HTML(value=''), FloatProgress(value=0.0, max=2.0), HTML(value='')))"
      ]
     },
     "metadata": {},
     "output_type": "display_data"
    },
    {
     "data": {
      "application/vnd.jupyter.widget-view+json": {
       "model_id": "",
       "version_major": 2,
       "version_minor": 0
      },
      "text/plain": [
       "HBox(children=(HTML(value=''), FloatProgress(value=0.0, max=1.0), HTML(value='')))"
      ]
     },
     "metadata": {},
     "output_type": "display_data"
    },
    {
     "data": {
      "application/vnd.jupyter.widget-view+json": {
       "model_id": "",
       "version_major": 2,
       "version_minor": 0
      },
      "text/plain": [
       "HBox(children=(HTML(value=''), FloatProgress(value=0.0, max=27.0), HTML(value='')))"
      ]
     },
     "metadata": {},
     "output_type": "display_data"
    },
    {
     "data": {
      "application/vnd.jupyter.widget-view+json": {
       "model_id": "",
       "version_major": 2,
       "version_minor": 0
      },
      "text/plain": [
       "HBox(children=(HTML(value=''), FloatProgress(value=0.0, max=1.0), HTML(value='')))"
      ]
     },
     "metadata": {},
     "output_type": "display_data"
    },
    {
     "data": {
      "application/vnd.jupyter.widget-view+json": {
       "model_id": "",
       "version_major": 2,
       "version_minor": 0
      },
      "text/plain": [
       "HBox(children=(HTML(value=''), FloatProgress(value=0.0, max=1.0), HTML(value='')))"
      ]
     },
     "metadata": {},
     "output_type": "display_data"
    },
    {
     "data": {
      "application/vnd.jupyter.widget-view+json": {
       "model_id": "",
       "version_major": 2,
       "version_minor": 0
      },
      "text/plain": [
       "HBox(children=(HTML(value=''), FloatProgress(value=0.0, max=2.0), HTML(value='')))"
      ]
     },
     "metadata": {},
     "output_type": "display_data"
    },
    {
     "data": {
      "application/vnd.jupyter.widget-view+json": {
       "model_id": "",
       "version_major": 2,
       "version_minor": 0
      },
      "text/plain": [
       "HBox(children=(HTML(value=''), FloatProgress(value=0.0, max=1.0), HTML(value='')))"
      ]
     },
     "metadata": {},
     "output_type": "display_data"
    },
    {
     "data": {
      "application/vnd.jupyter.widget-view+json": {
       "model_id": "",
       "version_major": 2,
       "version_minor": 0
      },
      "text/plain": [
       "HBox(children=(HTML(value=''), FloatProgress(value=0.0, max=2.0), HTML(value='')))"
      ]
     },
     "metadata": {},
     "output_type": "display_data"
    },
    {
     "data": {
      "application/vnd.jupyter.widget-view+json": {
       "model_id": "",
       "version_major": 2,
       "version_minor": 0
      },
      "text/plain": [
       "HBox(children=(HTML(value=''), FloatProgress(value=0.0, max=7.0), HTML(value='')))"
      ]
     },
     "metadata": {},
     "output_type": "display_data"
    },
    {
     "data": {
      "application/vnd.jupyter.widget-view+json": {
       "model_id": "",
       "version_major": 2,
       "version_minor": 0
      },
      "text/plain": [
       "HBox(children=(HTML(value=''), FloatProgress(value=0.0, max=2.0), HTML(value='')))"
      ]
     },
     "metadata": {},
     "output_type": "display_data"
    },
    {
     "data": {
      "application/vnd.jupyter.widget-view+json": {
       "model_id": "",
       "version_major": 2,
       "version_minor": 0
      },
      "text/plain": [
       "HBox(children=(HTML(value=''), FloatProgress(value=0.0, max=59.0), HTML(value='')))"
      ]
     },
     "metadata": {},
     "output_type": "display_data"
    },
    {
     "data": {
      "application/vnd.jupyter.widget-view+json": {
       "model_id": "",
       "version_major": 2,
       "version_minor": 0
      },
      "text/plain": [
       "HBox(children=(HTML(value=''), FloatProgress(value=0.0, max=3.0), HTML(value='')))"
      ]
     },
     "metadata": {},
     "output_type": "display_data"
    },
    {
     "data": {
      "application/vnd.jupyter.widget-view+json": {
       "model_id": "",
       "version_major": 2,
       "version_minor": 0
      },
      "text/plain": [
       "HBox(children=(HTML(value=''), FloatProgress(value=0.0, max=8.0), HTML(value='')))"
      ]
     },
     "metadata": {},
     "output_type": "display_data"
    },
    {
     "data": {
      "application/vnd.jupyter.widget-view+json": {
       "model_id": "",
       "version_major": 2,
       "version_minor": 0
      },
      "text/plain": [
       "HBox(children=(HTML(value=''), FloatProgress(value=0.0, max=7.0), HTML(value='')))"
      ]
     },
     "metadata": {},
     "output_type": "display_data"
    },
    {
     "data": {
      "application/vnd.jupyter.widget-view+json": {
       "model_id": "",
       "version_major": 2,
       "version_minor": 0
      },
      "text/plain": [
       "HBox(children=(HTML(value=''), FloatProgress(value=0.0, max=8.0), HTML(value='')))"
      ]
     },
     "metadata": {},
     "output_type": "display_data"
    },
    {
     "data": {
      "application/vnd.jupyter.widget-view+json": {
       "model_id": "",
       "version_major": 2,
       "version_minor": 0
      },
      "text/plain": [
       "HBox(children=(HTML(value=''), FloatProgress(value=0.0, max=1.0), HTML(value='')))"
      ]
     },
     "metadata": {},
     "output_type": "display_data"
    },
    {
     "data": {
      "application/vnd.jupyter.widget-view+json": {
       "model_id": "",
       "version_major": 2,
       "version_minor": 0
      },
      "text/plain": [
       "HBox(children=(HTML(value=''), FloatProgress(value=0.0, max=14.0), HTML(value='')))"
      ]
     },
     "metadata": {},
     "output_type": "display_data"
    },
    {
     "data": {
      "application/vnd.jupyter.widget-view+json": {
       "model_id": "",
       "version_major": 2,
       "version_minor": 0
      },
      "text/plain": [
       "HBox(children=(HTML(value=''), FloatProgress(value=0.0, max=1.0), HTML(value='')))"
      ]
     },
     "metadata": {},
     "output_type": "display_data"
    },
    {
     "data": {
      "application/vnd.jupyter.widget-view+json": {
       "model_id": "",
       "version_major": 2,
       "version_minor": 0
      },
      "text/plain": [
       "HBox(children=(HTML(value=''), FloatProgress(value=0.0, max=3.0), HTML(value='')))"
      ]
     },
     "metadata": {},
     "output_type": "display_data"
    },
    {
     "data": {
      "application/vnd.jupyter.widget-view+json": {
       "model_id": "",
       "version_major": 2,
       "version_minor": 0
      },
      "text/plain": [
       "HBox(children=(HTML(value=''), FloatProgress(value=0.0, max=2.0), HTML(value='')))"
      ]
     },
     "metadata": {},
     "output_type": "display_data"
    },
    {
     "data": {
      "application/vnd.jupyter.widget-view+json": {
       "model_id": "",
       "version_major": 2,
       "version_minor": 0
      },
      "text/plain": [
       "HBox(children=(HTML(value=''), FloatProgress(value=0.0, max=3.0), HTML(value='')))"
      ]
     },
     "metadata": {},
     "output_type": "display_data"
    },
    {
     "data": {
      "application/vnd.jupyter.widget-view+json": {
       "model_id": "",
       "version_major": 2,
       "version_minor": 0
      },
      "text/plain": [
       "HBox(children=(HTML(value=''), FloatProgress(value=0.0, max=1.0), HTML(value='')))"
      ]
     },
     "metadata": {},
     "output_type": "display_data"
    },
    {
     "data": {
      "application/vnd.jupyter.widget-view+json": {
       "model_id": "",
       "version_major": 2,
       "version_minor": 0
      },
      "text/plain": [
       "HBox(children=(HTML(value=''), FloatProgress(value=0.0, max=12.0), HTML(value='')))"
      ]
     },
     "metadata": {},
     "output_type": "display_data"
    },
    {
     "data": {
      "application/vnd.jupyter.widget-view+json": {
       "model_id": "",
       "version_major": 2,
       "version_minor": 0
      },
      "text/plain": [
       "HBox(children=(HTML(value=''), FloatProgress(value=0.0, max=1.0), HTML(value='')))"
      ]
     },
     "metadata": {},
     "output_type": "display_data"
    },
    {
     "data": {
      "application/vnd.jupyter.widget-view+json": {
       "model_id": "",
       "version_major": 2,
       "version_minor": 0
      },
      "text/plain": [
       "HBox(children=(HTML(value=''), FloatProgress(value=0.0, max=1.0), HTML(value='')))"
      ]
     },
     "metadata": {},
     "output_type": "display_data"
    },
    {
     "data": {
      "application/vnd.jupyter.widget-view+json": {
       "model_id": "",
       "version_major": 2,
       "version_minor": 0
      },
      "text/plain": [
       "HBox(children=(HTML(value=''), FloatProgress(value=0.0, max=1.0), HTML(value='')))"
      ]
     },
     "metadata": {},
     "output_type": "display_data"
    },
    {
     "data": {
      "application/vnd.jupyter.widget-view+json": {
       "model_id": "",
       "version_major": 2,
       "version_minor": 0
      },
      "text/plain": [
       "HBox(children=(HTML(value=''), FloatProgress(value=0.0, max=1.0), HTML(value='')))"
      ]
     },
     "metadata": {},
     "output_type": "display_data"
    },
    {
     "data": {
      "application/vnd.jupyter.widget-view+json": {
       "model_id": "",
       "version_major": 2,
       "version_minor": 0
      },
      "text/plain": [
       "HBox(children=(HTML(value=''), FloatProgress(value=0.0, max=2.0), HTML(value='')))"
      ]
     },
     "metadata": {},
     "output_type": "display_data"
    },
    {
     "data": {
      "application/vnd.jupyter.widget-view+json": {
       "model_id": "",
       "version_major": 2,
       "version_minor": 0
      },
      "text/plain": [
       "HBox(children=(HTML(value=''), FloatProgress(value=0.0, max=2.0), HTML(value='')))"
      ]
     },
     "metadata": {},
     "output_type": "display_data"
    },
    {
     "data": {
      "application/vnd.jupyter.widget-view+json": {
       "model_id": "",
       "version_major": 2,
       "version_minor": 0
      },
      "text/plain": [
       "HBox(children=(HTML(value=''), FloatProgress(value=0.0, max=2.0), HTML(value='')))"
      ]
     },
     "metadata": {},
     "output_type": "display_data"
    },
    {
     "data": {
      "application/vnd.jupyter.widget-view+json": {
       "model_id": "",
       "version_major": 2,
       "version_minor": 0
      },
      "text/plain": [
       "HBox(children=(HTML(value=''), FloatProgress(value=0.0, max=20.0), HTML(value='')))"
      ]
     },
     "metadata": {},
     "output_type": "display_data"
    },
    {
     "data": {
      "application/vnd.jupyter.widget-view+json": {
       "model_id": "",
       "version_major": 2,
       "version_minor": 0
      },
      "text/plain": [
       "HBox(children=(HTML(value=''), FloatProgress(value=0.0, max=1.0), HTML(value='')))"
      ]
     },
     "metadata": {},
     "output_type": "display_data"
    },
    {
     "data": {
      "application/vnd.jupyter.widget-view+json": {
       "model_id": "",
       "version_major": 2,
       "version_minor": 0
      },
      "text/plain": [
       "HBox(children=(HTML(value=''), FloatProgress(value=0.0, max=7.0), HTML(value='')))"
      ]
     },
     "metadata": {},
     "output_type": "display_data"
    },
    {
     "data": {
      "application/vnd.jupyter.widget-view+json": {
       "model_id": "",
       "version_major": 2,
       "version_minor": 0
      },
      "text/plain": [
       "HBox(children=(HTML(value=''), FloatProgress(value=0.0, max=1.0), HTML(value='')))"
      ]
     },
     "metadata": {},
     "output_type": "display_data"
    },
    {
     "data": {
      "application/vnd.jupyter.widget-view+json": {
       "model_id": "",
       "version_major": 2,
       "version_minor": 0
      },
      "text/plain": [
       "HBox(children=(HTML(value=''), FloatProgress(value=0.0, max=6.0), HTML(value='')))"
      ]
     },
     "metadata": {},
     "output_type": "display_data"
    },
    {
     "data": {
      "application/vnd.jupyter.widget-view+json": {
       "model_id": "",
       "version_major": 2,
       "version_minor": 0
      },
      "text/plain": [
       "HBox(children=(HTML(value=''), FloatProgress(value=0.0, max=18.0), HTML(value='')))"
      ]
     },
     "metadata": {},
     "output_type": "display_data"
    },
    {
     "data": {
      "application/vnd.jupyter.widget-view+json": {
       "model_id": "",
       "version_major": 2,
       "version_minor": 0
      },
      "text/plain": [
       "HBox(children=(HTML(value=''), FloatProgress(value=0.0, max=21.0), HTML(value='')))"
      ]
     },
     "metadata": {},
     "output_type": "display_data"
    },
    {
     "data": {
      "application/vnd.jupyter.widget-view+json": {
       "model_id": "",
       "version_major": 2,
       "version_minor": 0
      },
      "text/plain": [
       "HBox(children=(HTML(value=''), FloatProgress(value=0.0, max=1.0), HTML(value='')))"
      ]
     },
     "metadata": {},
     "output_type": "display_data"
    },
    {
     "data": {
      "application/vnd.jupyter.widget-view+json": {
       "model_id": "",
       "version_major": 2,
       "version_minor": 0
      },
      "text/plain": [
       "HBox(children=(HTML(value=''), FloatProgress(value=0.0, max=2.0), HTML(value='')))"
      ]
     },
     "metadata": {},
     "output_type": "display_data"
    },
    {
     "data": {
      "application/vnd.jupyter.widget-view+json": {
       "model_id": "",
       "version_major": 2,
       "version_minor": 0
      },
      "text/plain": [
       "HBox(children=(HTML(value=''), FloatProgress(value=0.0, max=1.0), HTML(value='')))"
      ]
     },
     "metadata": {},
     "output_type": "display_data"
    },
    {
     "data": {
      "application/vnd.jupyter.widget-view+json": {
       "model_id": "",
       "version_major": 2,
       "version_minor": 0
      },
      "text/plain": [
       "HBox(children=(HTML(value=''), FloatProgress(value=0.0, max=2.0), HTML(value='')))"
      ]
     },
     "metadata": {},
     "output_type": "display_data"
    },
    {
     "data": {
      "application/vnd.jupyter.widget-view+json": {
       "model_id": "",
       "version_major": 2,
       "version_minor": 0
      },
      "text/plain": [
       "HBox(children=(HTML(value=''), FloatProgress(value=0.0, max=3.0), HTML(value='')))"
      ]
     },
     "metadata": {},
     "output_type": "display_data"
    },
    {
     "data": {
      "application/vnd.jupyter.widget-view+json": {
       "model_id": "",
       "version_major": 2,
       "version_minor": 0
      },
      "text/plain": [
       "HBox(children=(HTML(value=''), FloatProgress(value=0.0, max=1.0), HTML(value='')))"
      ]
     },
     "metadata": {},
     "output_type": "display_data"
    },
    {
     "data": {
      "application/vnd.jupyter.widget-view+json": {
       "model_id": "",
       "version_major": 2,
       "version_minor": 0
      },
      "text/plain": [
       "HBox(children=(HTML(value=''), FloatProgress(value=0.0, max=5.0), HTML(value='')))"
      ]
     },
     "metadata": {},
     "output_type": "display_data"
    },
    {
     "data": {
      "application/vnd.jupyter.widget-view+json": {
       "model_id": "",
       "version_major": 2,
       "version_minor": 0
      },
      "text/plain": [
       "HBox(children=(HTML(value=''), FloatProgress(value=0.0, max=2.0), HTML(value='')))"
      ]
     },
     "metadata": {},
     "output_type": "display_data"
    },
    {
     "data": {
      "application/vnd.jupyter.widget-view+json": {
       "model_id": "",
       "version_major": 2,
       "version_minor": 0
      },
      "text/plain": [
       "HBox(children=(HTML(value=''), FloatProgress(value=0.0, max=1.0), HTML(value='')))"
      ]
     },
     "metadata": {},
     "output_type": "display_data"
    },
    {
     "data": {
      "application/vnd.jupyter.widget-view+json": {
       "model_id": "",
       "version_major": 2,
       "version_minor": 0
      },
      "text/plain": [
       "HBox(children=(HTML(value=''), FloatProgress(value=0.0, max=3.0), HTML(value='')))"
      ]
     },
     "metadata": {},
     "output_type": "display_data"
    },
    {
     "data": {
      "application/vnd.jupyter.widget-view+json": {
       "model_id": "",
       "version_major": 2,
       "version_minor": 0
      },
      "text/plain": [
       "HBox(children=(HTML(value=''), FloatProgress(value=0.0, max=1.0), HTML(value='')))"
      ]
     },
     "metadata": {},
     "output_type": "display_data"
    },
    {
     "data": {
      "application/vnd.jupyter.widget-view+json": {
       "model_id": "",
       "version_major": 2,
       "version_minor": 0
      },
      "text/plain": [
       "HBox(children=(HTML(value=''), FloatProgress(value=0.0, max=3.0), HTML(value='')))"
      ]
     },
     "metadata": {},
     "output_type": "display_data"
    },
    {
     "data": {
      "application/vnd.jupyter.widget-view+json": {
       "model_id": "",
       "version_major": 2,
       "version_minor": 0
      },
      "text/plain": [
       "HBox(children=(HTML(value=''), FloatProgress(value=0.0, max=1.0), HTML(value='')))"
      ]
     },
     "metadata": {},
     "output_type": "display_data"
    },
    {
     "data": {
      "application/vnd.jupyter.widget-view+json": {
       "model_id": "",
       "version_major": 2,
       "version_minor": 0
      },
      "text/plain": [
       "HBox(children=(HTML(value=''), FloatProgress(value=0.0, max=2.0), HTML(value='')))"
      ]
     },
     "metadata": {},
     "output_type": "display_data"
    },
    {
     "data": {
      "application/vnd.jupyter.widget-view+json": {
       "model_id": "",
       "version_major": 2,
       "version_minor": 0
      },
      "text/plain": [
       "HBox(children=(HTML(value=''), FloatProgress(value=0.0, max=2.0), HTML(value='')))"
      ]
     },
     "metadata": {},
     "output_type": "display_data"
    },
    {
     "data": {
      "application/vnd.jupyter.widget-view+json": {
       "model_id": "",
       "version_major": 2,
       "version_minor": 0
      },
      "text/plain": [
       "HBox(children=(HTML(value=''), FloatProgress(value=0.0, max=1.0), HTML(value='')))"
      ]
     },
     "metadata": {},
     "output_type": "display_data"
    },
    {
     "data": {
      "application/vnd.jupyter.widget-view+json": {
       "model_id": "",
       "version_major": 2,
       "version_minor": 0
      },
      "text/plain": [
       "HBox(children=(HTML(value=''), FloatProgress(value=0.0, max=2.0), HTML(value='')))"
      ]
     },
     "metadata": {},
     "output_type": "display_data"
    },
    {
     "data": {
      "application/vnd.jupyter.widget-view+json": {
       "model_id": "",
       "version_major": 2,
       "version_minor": 0
      },
      "text/plain": [
       "HBox(children=(HTML(value=''), FloatProgress(value=0.0, max=4.0), HTML(value='')))"
      ]
     },
     "metadata": {},
     "output_type": "display_data"
    },
    {
     "data": {
      "application/vnd.jupyter.widget-view+json": {
       "model_id": "",
       "version_major": 2,
       "version_minor": 0
      },
      "text/plain": [
       "HBox(children=(HTML(value=''), FloatProgress(value=0.0, max=5.0), HTML(value='')))"
      ]
     },
     "metadata": {},
     "output_type": "display_data"
    },
    {
     "data": {
      "application/vnd.jupyter.widget-view+json": {
       "model_id": "",
       "version_major": 2,
       "version_minor": 0
      },
      "text/plain": [
       "HBox(children=(HTML(value=''), FloatProgress(value=0.0, max=5.0), HTML(value='')))"
      ]
     },
     "metadata": {},
     "output_type": "display_data"
    },
    {
     "data": {
      "application/vnd.jupyter.widget-view+json": {
       "model_id": "",
       "version_major": 2,
       "version_minor": 0
      },
      "text/plain": [
       "HBox(children=(HTML(value=''), FloatProgress(value=0.0, max=1.0), HTML(value='')))"
      ]
     },
     "metadata": {},
     "output_type": "display_data"
    },
    {
     "data": {
      "application/vnd.jupyter.widget-view+json": {
       "model_id": "",
       "version_major": 2,
       "version_minor": 0
      },
      "text/plain": [
       "HBox(children=(HTML(value=''), FloatProgress(value=0.0, max=3.0), HTML(value='')))"
      ]
     },
     "metadata": {},
     "output_type": "display_data"
    },
    {
     "data": {
      "application/vnd.jupyter.widget-view+json": {
       "model_id": "",
       "version_major": 2,
       "version_minor": 0
      },
      "text/plain": [
       "HBox(children=(HTML(value=''), FloatProgress(value=0.0, max=1.0), HTML(value='')))"
      ]
     },
     "metadata": {},
     "output_type": "display_data"
    },
    {
     "data": {
      "application/vnd.jupyter.widget-view+json": {
       "model_id": "",
       "version_major": 2,
       "version_minor": 0
      },
      "text/plain": [
       "HBox(children=(HTML(value=''), FloatProgress(value=0.0, max=3.0), HTML(value='')))"
      ]
     },
     "metadata": {},
     "output_type": "display_data"
    },
    {
     "data": {
      "application/vnd.jupyter.widget-view+json": {
       "model_id": "",
       "version_major": 2,
       "version_minor": 0
      },
      "text/plain": [
       "HBox(children=(HTML(value=''), FloatProgress(value=0.0, max=2.0), HTML(value='')))"
      ]
     },
     "metadata": {},
     "output_type": "display_data"
    },
    {
     "data": {
      "application/vnd.jupyter.widget-view+json": {
       "model_id": "",
       "version_major": 2,
       "version_minor": 0
      },
      "text/plain": [
       "HBox(children=(HTML(value=''), FloatProgress(value=0.0, max=6.0), HTML(value='')))"
      ]
     },
     "metadata": {},
     "output_type": "display_data"
    },
    {
     "data": {
      "application/vnd.jupyter.widget-view+json": {
       "model_id": "",
       "version_major": 2,
       "version_minor": 0
      },
      "text/plain": [
       "HBox(children=(HTML(value=''), FloatProgress(value=0.0, max=1.0), HTML(value='')))"
      ]
     },
     "metadata": {},
     "output_type": "display_data"
    },
    {
     "data": {
      "application/vnd.jupyter.widget-view+json": {
       "model_id": "",
       "version_major": 2,
       "version_minor": 0
      },
      "text/plain": [
       "HBox(children=(HTML(value=''), FloatProgress(value=0.0, max=7.0), HTML(value='')))"
      ]
     },
     "metadata": {},
     "output_type": "display_data"
    },
    {
     "data": {
      "application/vnd.jupyter.widget-view+json": {
       "model_id": "",
       "version_major": 2,
       "version_minor": 0
      },
      "text/plain": [
       "HBox(children=(HTML(value=''), FloatProgress(value=0.0, max=1.0), HTML(value='')))"
      ]
     },
     "metadata": {},
     "output_type": "display_data"
    },
    {
     "data": {
      "application/vnd.jupyter.widget-view+json": {
       "model_id": "",
       "version_major": 2,
       "version_minor": 0
      },
      "text/plain": [
       "HBox(children=(HTML(value=''), FloatProgress(value=0.0, max=3.0), HTML(value='')))"
      ]
     },
     "metadata": {},
     "output_type": "display_data"
    },
    {
     "data": {
      "application/vnd.jupyter.widget-view+json": {
       "model_id": "",
       "version_major": 2,
       "version_minor": 0
      },
      "text/plain": [
       "HBox(children=(HTML(value=''), FloatProgress(value=0.0, max=2.0), HTML(value='')))"
      ]
     },
     "metadata": {},
     "output_type": "display_data"
    },
    {
     "data": {
      "application/vnd.jupyter.widget-view+json": {
       "model_id": "",
       "version_major": 2,
       "version_minor": 0
      },
      "text/plain": [
       "HBox(children=(HTML(value=''), FloatProgress(value=0.0, max=2.0), HTML(value='')))"
      ]
     },
     "metadata": {},
     "output_type": "display_data"
    },
    {
     "data": {
      "application/vnd.jupyter.widget-view+json": {
       "model_id": "",
       "version_major": 2,
       "version_minor": 0
      },
      "text/plain": [
       "HBox(children=(HTML(value=''), FloatProgress(value=0.0, max=1.0), HTML(value='')))"
      ]
     },
     "metadata": {},
     "output_type": "display_data"
    },
    {
     "data": {
      "application/vnd.jupyter.widget-view+json": {
       "model_id": "",
       "version_major": 2,
       "version_minor": 0
      },
      "text/plain": [
       "HBox(children=(HTML(value=''), FloatProgress(value=0.0, max=5.0), HTML(value='')))"
      ]
     },
     "metadata": {},
     "output_type": "display_data"
    },
    {
     "data": {
      "application/vnd.jupyter.widget-view+json": {
       "model_id": "",
       "version_major": 2,
       "version_minor": 0
      },
      "text/plain": [
       "HBox(children=(HTML(value=''), FloatProgress(value=0.0, max=6.0), HTML(value='')))"
      ]
     },
     "metadata": {},
     "output_type": "display_data"
    },
    {
     "data": {
      "application/vnd.jupyter.widget-view+json": {
       "model_id": "",
       "version_major": 2,
       "version_minor": 0
      },
      "text/plain": [
       "HBox(children=(HTML(value=''), FloatProgress(value=0.0, max=1.0), HTML(value='')))"
      ]
     },
     "metadata": {},
     "output_type": "display_data"
    },
    {
     "data": {
      "application/vnd.jupyter.widget-view+json": {
       "model_id": "",
       "version_major": 2,
       "version_minor": 0
      },
      "text/plain": [
       "HBox(children=(HTML(value=''), FloatProgress(value=0.0, max=1.0), HTML(value='')))"
      ]
     },
     "metadata": {},
     "output_type": "display_data"
    },
    {
     "data": {
      "application/vnd.jupyter.widget-view+json": {
       "model_id": "",
       "version_major": 2,
       "version_minor": 0
      },
      "text/plain": [
       "HBox(children=(HTML(value=''), FloatProgress(value=0.0, max=19.0), HTML(value='')))"
      ]
     },
     "metadata": {},
     "output_type": "display_data"
    },
    {
     "data": {
      "application/vnd.jupyter.widget-view+json": {
       "model_id": "",
       "version_major": 2,
       "version_minor": 0
      },
      "text/plain": [
       "HBox(children=(HTML(value=''), FloatProgress(value=0.0, max=22.0), HTML(value='')))"
      ]
     },
     "metadata": {},
     "output_type": "display_data"
    },
    {
     "data": {
      "application/vnd.jupyter.widget-view+json": {
       "model_id": "",
       "version_major": 2,
       "version_minor": 0
      },
      "text/plain": [
       "HBox(children=(HTML(value=''), FloatProgress(value=0.0, max=2.0), HTML(value='')))"
      ]
     },
     "metadata": {},
     "output_type": "display_data"
    },
    {
     "data": {
      "application/vnd.jupyter.widget-view+json": {
       "model_id": "",
       "version_major": 2,
       "version_minor": 0
      },
      "text/plain": [
       "HBox(children=(HTML(value=''), FloatProgress(value=0.0, max=4.0), HTML(value='')))"
      ]
     },
     "metadata": {},
     "output_type": "display_data"
    },
    {
     "data": {
      "application/vnd.jupyter.widget-view+json": {
       "model_id": "",
       "version_major": 2,
       "version_minor": 0
      },
      "text/plain": [
       "HBox(children=(HTML(value=''), FloatProgress(value=0.0, max=8.0), HTML(value='')))"
      ]
     },
     "metadata": {},
     "output_type": "display_data"
    },
    {
     "data": {
      "application/vnd.jupyter.widget-view+json": {
       "model_id": "",
       "version_major": 2,
       "version_minor": 0
      },
      "text/plain": [
       "HBox(children=(HTML(value=''), FloatProgress(value=0.0, max=1.0), HTML(value='')))"
      ]
     },
     "metadata": {},
     "output_type": "display_data"
    },
    {
     "data": {
      "application/vnd.jupyter.widget-view+json": {
       "model_id": "",
       "version_major": 2,
       "version_minor": 0
      },
      "text/plain": [
       "HBox(children=(HTML(value=''), FloatProgress(value=0.0, max=2.0), HTML(value='')))"
      ]
     },
     "metadata": {},
     "output_type": "display_data"
    },
    {
     "data": {
      "application/vnd.jupyter.widget-view+json": {
       "model_id": "",
       "version_major": 2,
       "version_minor": 0
      },
      "text/plain": [
       "HBox(children=(HTML(value=''), FloatProgress(value=0.0, max=1.0), HTML(value='')))"
      ]
     },
     "metadata": {},
     "output_type": "display_data"
    },
    {
     "data": {
      "application/vnd.jupyter.widget-view+json": {
       "model_id": "",
       "version_major": 2,
       "version_minor": 0
      },
      "text/plain": [
       "HBox(children=(HTML(value=''), FloatProgress(value=0.0, max=4.0), HTML(value='')))"
      ]
     },
     "metadata": {},
     "output_type": "display_data"
    },
    {
     "data": {
      "application/vnd.jupyter.widget-view+json": {
       "model_id": "",
       "version_major": 2,
       "version_minor": 0
      },
      "text/plain": [
       "HBox(children=(HTML(value=''), FloatProgress(value=0.0, max=10.0), HTML(value='')))"
      ]
     },
     "metadata": {},
     "output_type": "display_data"
    },
    {
     "data": {
      "application/vnd.jupyter.widget-view+json": {
       "model_id": "",
       "version_major": 2,
       "version_minor": 0
      },
      "text/plain": [
       "HBox(children=(HTML(value=''), FloatProgress(value=0.0, max=1.0), HTML(value='')))"
      ]
     },
     "metadata": {},
     "output_type": "display_data"
    },
    {
     "data": {
      "application/vnd.jupyter.widget-view+json": {
       "model_id": "",
       "version_major": 2,
       "version_minor": 0
      },
      "text/plain": [
       "HBox(children=(HTML(value=''), FloatProgress(value=0.0, max=2.0), HTML(value='')))"
      ]
     },
     "metadata": {},
     "output_type": "display_data"
    },
    {
     "data": {
      "application/vnd.jupyter.widget-view+json": {
       "model_id": "",
       "version_major": 2,
       "version_minor": 0
      },
      "text/plain": [
       "HBox(children=(HTML(value=''), FloatProgress(value=0.0, max=1.0), HTML(value='')))"
      ]
     },
     "metadata": {},
     "output_type": "display_data"
    },
    {
     "data": {
      "application/vnd.jupyter.widget-view+json": {
       "model_id": "",
       "version_major": 2,
       "version_minor": 0
      },
      "text/plain": [
       "HBox(children=(HTML(value=''), FloatProgress(value=0.0, max=10.0), HTML(value='')))"
      ]
     },
     "metadata": {},
     "output_type": "display_data"
    },
    {
     "data": {
      "application/vnd.jupyter.widget-view+json": {
       "model_id": "",
       "version_major": 2,
       "version_minor": 0
      },
      "text/plain": [
       "HBox(children=(HTML(value=''), FloatProgress(value=0.0, max=9.0), HTML(value='')))"
      ]
     },
     "metadata": {},
     "output_type": "display_data"
    },
    {
     "data": {
      "application/vnd.jupyter.widget-view+json": {
       "model_id": "",
       "version_major": 2,
       "version_minor": 0
      },
      "text/plain": [
       "HBox(children=(HTML(value=''), FloatProgress(value=0.0, max=11.0), HTML(value='')))"
      ]
     },
     "metadata": {},
     "output_type": "display_data"
    },
    {
     "data": {
      "application/vnd.jupyter.widget-view+json": {
       "model_id": "",
       "version_major": 2,
       "version_minor": 0
      },
      "text/plain": [
       "HBox(children=(HTML(value=''), FloatProgress(value=0.0, max=2.0), HTML(value='')))"
      ]
     },
     "metadata": {},
     "output_type": "display_data"
    },
    {
     "data": {
      "application/vnd.jupyter.widget-view+json": {
       "model_id": "",
       "version_major": 2,
       "version_minor": 0
      },
      "text/plain": [
       "HBox(children=(HTML(value=''), FloatProgress(value=0.0, max=1.0), HTML(value='')))"
      ]
     },
     "metadata": {},
     "output_type": "display_data"
    },
    {
     "data": {
      "application/vnd.jupyter.widget-view+json": {
       "model_id": "",
       "version_major": 2,
       "version_minor": 0
      },
      "text/plain": [
       "HBox(children=(HTML(value=''), FloatProgress(value=0.0, max=1.0), HTML(value='')))"
      ]
     },
     "metadata": {},
     "output_type": "display_data"
    },
    {
     "data": {
      "application/vnd.jupyter.widget-view+json": {
       "model_id": "",
       "version_major": 2,
       "version_minor": 0
      },
      "text/plain": [
       "HBox(children=(HTML(value=''), FloatProgress(value=0.0, max=9.0), HTML(value='')))"
      ]
     },
     "metadata": {},
     "output_type": "display_data"
    },
    {
     "data": {
      "application/vnd.jupyter.widget-view+json": {
       "model_id": "",
       "version_major": 2,
       "version_minor": 0
      },
      "text/plain": [
       "HBox(children=(HTML(value=''), FloatProgress(value=0.0, max=1.0), HTML(value='')))"
      ]
     },
     "metadata": {},
     "output_type": "display_data"
    },
    {
     "data": {
      "application/vnd.jupyter.widget-view+json": {
       "model_id": "",
       "version_major": 2,
       "version_minor": 0
      },
      "text/plain": [
       "HBox(children=(HTML(value=''), FloatProgress(value=0.0, max=1.0), HTML(value='')))"
      ]
     },
     "metadata": {},
     "output_type": "display_data"
    },
    {
     "data": {
      "application/vnd.jupyter.widget-view+json": {
       "model_id": "",
       "version_major": 2,
       "version_minor": 0
      },
      "text/plain": [
       "HBox(children=(HTML(value=''), FloatProgress(value=0.0, max=4.0), HTML(value='')))"
      ]
     },
     "metadata": {},
     "output_type": "display_data"
    },
    {
     "data": {
      "application/vnd.jupyter.widget-view+json": {
       "model_id": "",
       "version_major": 2,
       "version_minor": 0
      },
      "text/plain": [
       "HBox(children=(HTML(value=''), FloatProgress(value=0.0, max=5.0), HTML(value='')))"
      ]
     },
     "metadata": {},
     "output_type": "display_data"
    },
    {
     "data": {
      "application/vnd.jupyter.widget-view+json": {
       "model_id": "",
       "version_major": 2,
       "version_minor": 0
      },
      "text/plain": [
       "HBox(children=(HTML(value=''), FloatProgress(value=0.0, max=1.0), HTML(value='')))"
      ]
     },
     "metadata": {},
     "output_type": "display_data"
    },
    {
     "data": {
      "application/vnd.jupyter.widget-view+json": {
       "model_id": "",
       "version_major": 2,
       "version_minor": 0
      },
      "text/plain": [
       "HBox(children=(HTML(value=''), FloatProgress(value=0.0, max=2.0), HTML(value='')))"
      ]
     },
     "metadata": {},
     "output_type": "display_data"
    },
    {
     "data": {
      "application/vnd.jupyter.widget-view+json": {
       "model_id": "",
       "version_major": 2,
       "version_minor": 0
      },
      "text/plain": [
       "HBox(children=(HTML(value=''), FloatProgress(value=0.0, max=3.0), HTML(value='')))"
      ]
     },
     "metadata": {},
     "output_type": "display_data"
    },
    {
     "data": {
      "application/vnd.jupyter.widget-view+json": {
       "model_id": "",
       "version_major": 2,
       "version_minor": 0
      },
      "text/plain": [
       "HBox(children=(HTML(value=''), FloatProgress(value=0.0, max=1.0), HTML(value='')))"
      ]
     },
     "metadata": {},
     "output_type": "display_data"
    },
    {
     "data": {
      "application/vnd.jupyter.widget-view+json": {
       "model_id": "",
       "version_major": 2,
       "version_minor": 0
      },
      "text/plain": [
       "HBox(children=(HTML(value=''), FloatProgress(value=0.0, max=1.0), HTML(value='')))"
      ]
     },
     "metadata": {},
     "output_type": "display_data"
    },
    {
     "data": {
      "application/vnd.jupyter.widget-view+json": {
       "model_id": "",
       "version_major": 2,
       "version_minor": 0
      },
      "text/plain": [
       "HBox(children=(HTML(value=''), FloatProgress(value=0.0, max=19.0), HTML(value='')))"
      ]
     },
     "metadata": {},
     "output_type": "display_data"
    },
    {
     "data": {
      "application/vnd.jupyter.widget-view+json": {
       "model_id": "",
       "version_major": 2,
       "version_minor": 0
      },
      "text/plain": [
       "HBox(children=(HTML(value=''), FloatProgress(value=0.0, max=11.0), HTML(value='')))"
      ]
     },
     "metadata": {},
     "output_type": "display_data"
    },
    {
     "data": {
      "application/vnd.jupyter.widget-view+json": {
       "model_id": "",
       "version_major": 2,
       "version_minor": 0
      },
      "text/plain": [
       "HBox(children=(HTML(value=''), FloatProgress(value=0.0, max=5.0), HTML(value='')))"
      ]
     },
     "metadata": {},
     "output_type": "display_data"
    },
    {
     "data": {
      "application/vnd.jupyter.widget-view+json": {
       "model_id": "",
       "version_major": 2,
       "version_minor": 0
      },
      "text/plain": [
       "HBox(children=(HTML(value=''), FloatProgress(value=0.0, max=5.0), HTML(value='')))"
      ]
     },
     "metadata": {},
     "output_type": "display_data"
    },
    {
     "data": {
      "application/vnd.jupyter.widget-view+json": {
       "model_id": "",
       "version_major": 2,
       "version_minor": 0
      },
      "text/plain": [
       "HBox(children=(HTML(value=''), FloatProgress(value=0.0, max=3.0), HTML(value='')))"
      ]
     },
     "metadata": {},
     "output_type": "display_data"
    },
    {
     "data": {
      "application/vnd.jupyter.widget-view+json": {
       "model_id": "",
       "version_major": 2,
       "version_minor": 0
      },
      "text/plain": [
       "HBox(children=(HTML(value=''), FloatProgress(value=0.0, max=9.0), HTML(value='')))"
      ]
     },
     "metadata": {},
     "output_type": "display_data"
    },
    {
     "data": {
      "application/vnd.jupyter.widget-view+json": {
       "model_id": "",
       "version_major": 2,
       "version_minor": 0
      },
      "text/plain": [
       "HBox(children=(HTML(value=''), FloatProgress(value=0.0, max=34.0), HTML(value='')))"
      ]
     },
     "metadata": {},
     "output_type": "display_data"
    },
    {
     "data": {
      "application/vnd.jupyter.widget-view+json": {
       "model_id": "",
       "version_major": 2,
       "version_minor": 0
      },
      "text/plain": [
       "HBox(children=(HTML(value=''), FloatProgress(value=0.0, max=5.0), HTML(value='')))"
      ]
     },
     "metadata": {},
     "output_type": "display_data"
    },
    {
     "data": {
      "application/vnd.jupyter.widget-view+json": {
       "model_id": "",
       "version_major": 2,
       "version_minor": 0
      },
      "text/plain": [
       "HBox(children=(HTML(value=''), FloatProgress(value=0.0, max=10.0), HTML(value='')))"
      ]
     },
     "metadata": {},
     "output_type": "display_data"
    },
    {
     "data": {
      "application/vnd.jupyter.widget-view+json": {
       "model_id": "",
       "version_major": 2,
       "version_minor": 0
      },
      "text/plain": [
       "HBox(children=(HTML(value=''), FloatProgress(value=0.0, max=2.0), HTML(value='')))"
      ]
     },
     "metadata": {},
     "output_type": "display_data"
    },
    {
     "data": {
      "application/vnd.jupyter.widget-view+json": {
       "model_id": "",
       "version_major": 2,
       "version_minor": 0
      },
      "text/plain": [
       "HBox(children=(HTML(value=''), FloatProgress(value=0.0, max=3.0), HTML(value='')))"
      ]
     },
     "metadata": {},
     "output_type": "display_data"
    },
    {
     "data": {
      "application/vnd.jupyter.widget-view+json": {
       "model_id": "",
       "version_major": 2,
       "version_minor": 0
      },
      "text/plain": [
       "HBox(children=(HTML(value=''), FloatProgress(value=0.0, max=4.0), HTML(value='')))"
      ]
     },
     "metadata": {},
     "output_type": "display_data"
    },
    {
     "data": {
      "application/vnd.jupyter.widget-view+json": {
       "model_id": "",
       "version_major": 2,
       "version_minor": 0
      },
      "text/plain": [
       "HBox(children=(HTML(value=''), FloatProgress(value=0.0, max=35.0), HTML(value='')))"
      ]
     },
     "metadata": {},
     "output_type": "display_data"
    },
    {
     "data": {
      "application/vnd.jupyter.widget-view+json": {
       "model_id": "",
       "version_major": 2,
       "version_minor": 0
      },
      "text/plain": [
       "HBox(children=(HTML(value=''), FloatProgress(value=0.0, max=1.0), HTML(value='')))"
      ]
     },
     "metadata": {},
     "output_type": "display_data"
    },
    {
     "data": {
      "application/vnd.jupyter.widget-view+json": {
       "model_id": "",
       "version_major": 2,
       "version_minor": 0
      },
      "text/plain": [
       "HBox(children=(HTML(value=''), FloatProgress(value=0.0, max=8.0), HTML(value='')))"
      ]
     },
     "metadata": {},
     "output_type": "display_data"
    },
    {
     "data": {
      "application/vnd.jupyter.widget-view+json": {
       "model_id": "",
       "version_major": 2,
       "version_minor": 0
      },
      "text/plain": [
       "HBox(children=(HTML(value=''), FloatProgress(value=0.0, max=1.0), HTML(value='')))"
      ]
     },
     "metadata": {},
     "output_type": "display_data"
    },
    {
     "data": {
      "application/vnd.jupyter.widget-view+json": {
       "model_id": "",
       "version_major": 2,
       "version_minor": 0
      },
      "text/plain": [
       "HBox(children=(HTML(value=''), FloatProgress(value=0.0, max=1.0), HTML(value='')))"
      ]
     },
     "metadata": {},
     "output_type": "display_data"
    },
    {
     "data": {
      "application/vnd.jupyter.widget-view+json": {
       "model_id": "",
       "version_major": 2,
       "version_minor": 0
      },
      "text/plain": [
       "HBox(children=(HTML(value=''), FloatProgress(value=0.0, max=6.0), HTML(value='')))"
      ]
     },
     "metadata": {},
     "output_type": "display_data"
    },
    {
     "data": {
      "application/vnd.jupyter.widget-view+json": {
       "model_id": "",
       "version_major": 2,
       "version_minor": 0
      },
      "text/plain": [
       "HBox(children=(HTML(value=''), FloatProgress(value=0.0, max=13.0), HTML(value='')))"
      ]
     },
     "metadata": {},
     "output_type": "display_data"
    },
    {
     "data": {
      "application/vnd.jupyter.widget-view+json": {
       "model_id": "",
       "version_major": 2,
       "version_minor": 0
      },
      "text/plain": [
       "HBox(children=(HTML(value=''), FloatProgress(value=0.0, max=1.0), HTML(value='')))"
      ]
     },
     "metadata": {},
     "output_type": "display_data"
    },
    {
     "data": {
      "application/vnd.jupyter.widget-view+json": {
       "model_id": "",
       "version_major": 2,
       "version_minor": 0
      },
      "text/plain": [
       "HBox(children=(HTML(value=''), FloatProgress(value=0.0, max=1.0), HTML(value='')))"
      ]
     },
     "metadata": {},
     "output_type": "display_data"
    },
    {
     "data": {
      "application/vnd.jupyter.widget-view+json": {
       "model_id": "",
       "version_major": 2,
       "version_minor": 0
      },
      "text/plain": [
       "HBox(children=(HTML(value=''), FloatProgress(value=0.0, max=36.0), HTML(value='')))"
      ]
     },
     "metadata": {},
     "output_type": "display_data"
    },
    {
     "data": {
      "application/vnd.jupyter.widget-view+json": {
       "model_id": "",
       "version_major": 2,
       "version_minor": 0
      },
      "text/plain": [
       "HBox(children=(HTML(value=''), FloatProgress(value=0.0, max=5.0), HTML(value='')))"
      ]
     },
     "metadata": {},
     "output_type": "display_data"
    },
    {
     "data": {
      "application/vnd.jupyter.widget-view+json": {
       "model_id": "",
       "version_major": 2,
       "version_minor": 0
      },
      "text/plain": [
       "HBox(children=(HTML(value=''), FloatProgress(value=0.0, max=12.0), HTML(value='')))"
      ]
     },
     "metadata": {},
     "output_type": "display_data"
    },
    {
     "data": {
      "application/vnd.jupyter.widget-view+json": {
       "model_id": "",
       "version_major": 2,
       "version_minor": 0
      },
      "text/plain": [
       "HBox(children=(HTML(value=''), FloatProgress(value=0.0, max=1.0), HTML(value='')))"
      ]
     },
     "metadata": {},
     "output_type": "display_data"
    },
    {
     "data": {
      "application/vnd.jupyter.widget-view+json": {
       "model_id": "",
       "version_major": 2,
       "version_minor": 0
      },
      "text/plain": [
       "HBox(children=(HTML(value=''), FloatProgress(value=0.0, max=1.0), HTML(value='')))"
      ]
     },
     "metadata": {},
     "output_type": "display_data"
    },
    {
     "data": {
      "application/vnd.jupyter.widget-view+json": {
       "model_id": "",
       "version_major": 2,
       "version_minor": 0
      },
      "text/plain": [
       "HBox(children=(HTML(value=''), FloatProgress(value=0.0, max=3.0), HTML(value='')))"
      ]
     },
     "metadata": {},
     "output_type": "display_data"
    },
    {
     "data": {
      "application/vnd.jupyter.widget-view+json": {
       "model_id": "",
       "version_major": 2,
       "version_minor": 0
      },
      "text/plain": [
       "HBox(children=(HTML(value=''), FloatProgress(value=0.0, max=29.0), HTML(value='')))"
      ]
     },
     "metadata": {},
     "output_type": "display_data"
    },
    {
     "data": {
      "application/vnd.jupyter.widget-view+json": {
       "model_id": "",
       "version_major": 2,
       "version_minor": 0
      },
      "text/plain": [
       "HBox(children=(HTML(value=''), FloatProgress(value=0.0, max=1.0), HTML(value='')))"
      ]
     },
     "metadata": {},
     "output_type": "display_data"
    },
    {
     "data": {
      "application/vnd.jupyter.widget-view+json": {
       "model_id": "",
       "version_major": 2,
       "version_minor": 0
      },
      "text/plain": [
       "HBox(children=(HTML(value=''), FloatProgress(value=0.0, max=1.0), HTML(value='')))"
      ]
     },
     "metadata": {},
     "output_type": "display_data"
    },
    {
     "data": {
      "application/vnd.jupyter.widget-view+json": {
       "model_id": "",
       "version_major": 2,
       "version_minor": 0
      },
      "text/plain": [
       "HBox(children=(HTML(value=''), FloatProgress(value=0.0, max=18.0), HTML(value='')))"
      ]
     },
     "metadata": {},
     "output_type": "display_data"
    },
    {
     "data": {
      "application/vnd.jupyter.widget-view+json": {
       "model_id": "",
       "version_major": 2,
       "version_minor": 0
      },
      "text/plain": [
       "HBox(children=(HTML(value=''), FloatProgress(value=0.0, max=1.0), HTML(value='')))"
      ]
     },
     "metadata": {},
     "output_type": "display_data"
    },
    {
     "data": {
      "application/vnd.jupyter.widget-view+json": {
       "model_id": "",
       "version_major": 2,
       "version_minor": 0
      },
      "text/plain": [
       "HBox(children=(HTML(value=''), FloatProgress(value=0.0, max=6.0), HTML(value='')))"
      ]
     },
     "metadata": {},
     "output_type": "display_data"
    },
    {
     "data": {
      "application/vnd.jupyter.widget-view+json": {
       "model_id": "",
       "version_major": 2,
       "version_minor": 0
      },
      "text/plain": [
       "HBox(children=(HTML(value=''), FloatProgress(value=0.0, max=1.0), HTML(value='')))"
      ]
     },
     "metadata": {},
     "output_type": "display_data"
    },
    {
     "data": {
      "application/vnd.jupyter.widget-view+json": {
       "model_id": "",
       "version_major": 2,
       "version_minor": 0
      },
      "text/plain": [
       "HBox(children=(HTML(value=''), FloatProgress(value=0.0, max=4.0), HTML(value='')))"
      ]
     },
     "metadata": {},
     "output_type": "display_data"
    },
    {
     "data": {
      "application/vnd.jupyter.widget-view+json": {
       "model_id": "",
       "version_major": 2,
       "version_minor": 0
      },
      "text/plain": [
       "HBox(children=(HTML(value=''), FloatProgress(value=0.0, max=4.0), HTML(value='')))"
      ]
     },
     "metadata": {},
     "output_type": "display_data"
    },
    {
     "data": {
      "application/vnd.jupyter.widget-view+json": {
       "model_id": "",
       "version_major": 2,
       "version_minor": 0
      },
      "text/plain": [
       "HBox(children=(HTML(value=''), FloatProgress(value=0.0, max=1.0), HTML(value='')))"
      ]
     },
     "metadata": {},
     "output_type": "display_data"
    },
    {
     "data": {
      "application/vnd.jupyter.widget-view+json": {
       "model_id": "",
       "version_major": 2,
       "version_minor": 0
      },
      "text/plain": [
       "HBox(children=(HTML(value=''), FloatProgress(value=0.0, max=15.0), HTML(value='')))"
      ]
     },
     "metadata": {},
     "output_type": "display_data"
    },
    {
     "data": {
      "application/vnd.jupyter.widget-view+json": {
       "model_id": "",
       "version_major": 2,
       "version_minor": 0
      },
      "text/plain": [
       "HBox(children=(HTML(value=''), FloatProgress(value=0.0, max=20.0), HTML(value='')))"
      ]
     },
     "metadata": {},
     "output_type": "display_data"
    },
    {
     "data": {
      "application/vnd.jupyter.widget-view+json": {
       "model_id": "",
       "version_major": 2,
       "version_minor": 0
      },
      "text/plain": [
       "HBox(children=(HTML(value=''), FloatProgress(value=0.0, max=5.0), HTML(value='')))"
      ]
     },
     "metadata": {},
     "output_type": "display_data"
    },
    {
     "data": {
      "application/vnd.jupyter.widget-view+json": {
       "model_id": "",
       "version_major": 2,
       "version_minor": 0
      },
      "text/plain": [
       "HBox(children=(HTML(value=''), FloatProgress(value=0.0, max=1.0), HTML(value='')))"
      ]
     },
     "metadata": {},
     "output_type": "display_data"
    },
    {
     "data": {
      "application/vnd.jupyter.widget-view+json": {
       "model_id": "",
       "version_major": 2,
       "version_minor": 0
      },
      "text/plain": [
       "HBox(children=(HTML(value=''), FloatProgress(value=0.0, max=2.0), HTML(value='')))"
      ]
     },
     "metadata": {},
     "output_type": "display_data"
    },
    {
     "data": {
      "application/vnd.jupyter.widget-view+json": {
       "model_id": "",
       "version_major": 2,
       "version_minor": 0
      },
      "text/plain": [
       "HBox(children=(HTML(value=''), FloatProgress(value=0.0, max=1.0), HTML(value='')))"
      ]
     },
     "metadata": {},
     "output_type": "display_data"
    },
    {
     "data": {
      "application/vnd.jupyter.widget-view+json": {
       "model_id": "",
       "version_major": 2,
       "version_minor": 0
      },
      "text/plain": [
       "HBox(children=(HTML(value=''), FloatProgress(value=0.0, max=1.0), HTML(value='')))"
      ]
     },
     "metadata": {},
     "output_type": "display_data"
    },
    {
     "data": {
      "application/vnd.jupyter.widget-view+json": {
       "model_id": "",
       "version_major": 2,
       "version_minor": 0
      },
      "text/plain": [
       "HBox(children=(HTML(value=''), FloatProgress(value=0.0, max=8.0), HTML(value='')))"
      ]
     },
     "metadata": {},
     "output_type": "display_data"
    },
    {
     "data": {
      "application/vnd.jupyter.widget-view+json": {
       "model_id": "",
       "version_major": 2,
       "version_minor": 0
      },
      "text/plain": [
       "HBox(children=(HTML(value=''), FloatProgress(value=0.0, max=4.0), HTML(value='')))"
      ]
     },
     "metadata": {},
     "output_type": "display_data"
    },
    {
     "data": {
      "application/vnd.jupyter.widget-view+json": {
       "model_id": "",
       "version_major": 2,
       "version_minor": 0
      },
      "text/plain": [
       "HBox(children=(HTML(value=''), FloatProgress(value=0.0, max=2.0), HTML(value='')))"
      ]
     },
     "metadata": {},
     "output_type": "display_data"
    },
    {
     "data": {
      "application/vnd.jupyter.widget-view+json": {
       "model_id": "",
       "version_major": 2,
       "version_minor": 0
      },
      "text/plain": [
       "HBox(children=(HTML(value=''), FloatProgress(value=0.0, max=1.0), HTML(value='')))"
      ]
     },
     "metadata": {},
     "output_type": "display_data"
    },
    {
     "data": {
      "application/vnd.jupyter.widget-view+json": {
       "model_id": "",
       "version_major": 2,
       "version_minor": 0
      },
      "text/plain": [
       "HBox(children=(HTML(value=''), FloatProgress(value=0.0, max=2.0), HTML(value='')))"
      ]
     },
     "metadata": {},
     "output_type": "display_data"
    },
    {
     "data": {
      "application/vnd.jupyter.widget-view+json": {
       "model_id": "",
       "version_major": 2,
       "version_minor": 0
      },
      "text/plain": [
       "HBox(children=(HTML(value=''), FloatProgress(value=0.0, max=2.0), HTML(value='')))"
      ]
     },
     "metadata": {},
     "output_type": "display_data"
    },
    {
     "data": {
      "application/vnd.jupyter.widget-view+json": {
       "model_id": "",
       "version_major": 2,
       "version_minor": 0
      },
      "text/plain": [
       "HBox(children=(HTML(value=''), FloatProgress(value=0.0, max=1.0), HTML(value='')))"
      ]
     },
     "metadata": {},
     "output_type": "display_data"
    },
    {
     "data": {
      "application/vnd.jupyter.widget-view+json": {
       "model_id": "",
       "version_major": 2,
       "version_minor": 0
      },
      "text/plain": [
       "HBox(children=(HTML(value=''), FloatProgress(value=0.0, max=3.0), HTML(value='')))"
      ]
     },
     "metadata": {},
     "output_type": "display_data"
    },
    {
     "data": {
      "application/vnd.jupyter.widget-view+json": {
       "model_id": "",
       "version_major": 2,
       "version_minor": 0
      },
      "text/plain": [
       "HBox(children=(HTML(value=''), FloatProgress(value=0.0, max=1.0), HTML(value='')))"
      ]
     },
     "metadata": {},
     "output_type": "display_data"
    },
    {
     "data": {
      "application/vnd.jupyter.widget-view+json": {
       "model_id": "",
       "version_major": 2,
       "version_minor": 0
      },
      "text/plain": [
       "HBox(children=(HTML(value=''), FloatProgress(value=0.0, max=1.0), HTML(value='')))"
      ]
     },
     "metadata": {},
     "output_type": "display_data"
    },
    {
     "data": {
      "application/vnd.jupyter.widget-view+json": {
       "model_id": "",
       "version_major": 2,
       "version_minor": 0
      },
      "text/plain": [
       "HBox(children=(HTML(value=''), FloatProgress(value=0.0, max=2.0), HTML(value='')))"
      ]
     },
     "metadata": {},
     "output_type": "display_data"
    },
    {
     "data": {
      "application/vnd.jupyter.widget-view+json": {
       "model_id": "",
       "version_major": 2,
       "version_minor": 0
      },
      "text/plain": [
       "HBox(children=(HTML(value=''), FloatProgress(value=0.0, max=3.0), HTML(value='')))"
      ]
     },
     "metadata": {},
     "output_type": "display_data"
    },
    {
     "data": {
      "application/vnd.jupyter.widget-view+json": {
       "model_id": "",
       "version_major": 2,
       "version_minor": 0
      },
      "text/plain": [
       "HBox(children=(HTML(value=''), FloatProgress(value=0.0, max=6.0), HTML(value='')))"
      ]
     },
     "metadata": {},
     "output_type": "display_data"
    },
    {
     "data": {
      "application/vnd.jupyter.widget-view+json": {
       "model_id": "",
       "version_major": 2,
       "version_minor": 0
      },
      "text/plain": [
       "HBox(children=(HTML(value=''), FloatProgress(value=0.0, max=2.0), HTML(value='')))"
      ]
     },
     "metadata": {},
     "output_type": "display_data"
    },
    {
     "data": {
      "application/vnd.jupyter.widget-view+json": {
       "model_id": "",
       "version_major": 2,
       "version_minor": 0
      },
      "text/plain": [
       "HBox(children=(HTML(value=''), FloatProgress(value=0.0, max=2.0), HTML(value='')))"
      ]
     },
     "metadata": {},
     "output_type": "display_data"
    },
    {
     "data": {
      "application/vnd.jupyter.widget-view+json": {
       "model_id": "",
       "version_major": 2,
       "version_minor": 0
      },
      "text/plain": [
       "HBox(children=(HTML(value=''), FloatProgress(value=0.0, max=1.0), HTML(value='')))"
      ]
     },
     "metadata": {},
     "output_type": "display_data"
    },
    {
     "data": {
      "application/vnd.jupyter.widget-view+json": {
       "model_id": "",
       "version_major": 2,
       "version_minor": 0
      },
      "text/plain": [
       "HBox(children=(HTML(value=''), FloatProgress(value=0.0, max=3.0), HTML(value='')))"
      ]
     },
     "metadata": {},
     "output_type": "display_data"
    },
    {
     "data": {
      "application/vnd.jupyter.widget-view+json": {
       "model_id": "",
       "version_major": 2,
       "version_minor": 0
      },
      "text/plain": [
       "HBox(children=(HTML(value=''), FloatProgress(value=0.0, max=1.0), HTML(value='')))"
      ]
     },
     "metadata": {},
     "output_type": "display_data"
    },
    {
     "data": {
      "application/vnd.jupyter.widget-view+json": {
       "model_id": "",
       "version_major": 2,
       "version_minor": 0
      },
      "text/plain": [
       "HBox(children=(HTML(value=''), FloatProgress(value=0.0, max=2.0), HTML(value='')))"
      ]
     },
     "metadata": {},
     "output_type": "display_data"
    },
    {
     "data": {
      "application/vnd.jupyter.widget-view+json": {
       "model_id": "",
       "version_major": 2,
       "version_minor": 0
      },
      "text/plain": [
       "HBox(children=(HTML(value=''), FloatProgress(value=0.0, max=6.0), HTML(value='')))"
      ]
     },
     "metadata": {},
     "output_type": "display_data"
    },
    {
     "data": {
      "application/vnd.jupyter.widget-view+json": {
       "model_id": "",
       "version_major": 2,
       "version_minor": 0
      },
      "text/plain": [
       "HBox(children=(HTML(value=''), FloatProgress(value=0.0, max=5.0), HTML(value='')))"
      ]
     },
     "metadata": {},
     "output_type": "display_data"
    },
    {
     "data": {
      "application/vnd.jupyter.widget-view+json": {
       "model_id": "",
       "version_major": 2,
       "version_minor": 0
      },
      "text/plain": [
       "HBox(children=(HTML(value=''), FloatProgress(value=0.0, max=1.0), HTML(value='')))"
      ]
     },
     "metadata": {},
     "output_type": "display_data"
    },
    {
     "data": {
      "application/vnd.jupyter.widget-view+json": {
       "model_id": "",
       "version_major": 2,
       "version_minor": 0
      },
      "text/plain": [
       "HBox(children=(HTML(value=''), FloatProgress(value=0.0, max=28.0), HTML(value='')))"
      ]
     },
     "metadata": {},
     "output_type": "display_data"
    },
    {
     "data": {
      "application/vnd.jupyter.widget-view+json": {
       "model_id": "",
       "version_major": 2,
       "version_minor": 0
      },
      "text/plain": [
       "HBox(children=(HTML(value=''), FloatProgress(value=0.0, max=4.0), HTML(value='')))"
      ]
     },
     "metadata": {},
     "output_type": "display_data"
    },
    {
     "data": {
      "application/vnd.jupyter.widget-view+json": {
       "model_id": "",
       "version_major": 2,
       "version_minor": 0
      },
      "text/plain": [
       "HBox(children=(HTML(value=''), FloatProgress(value=0.0, max=3.0), HTML(value='')))"
      ]
     },
     "metadata": {},
     "output_type": "display_data"
    },
    {
     "data": {
      "application/vnd.jupyter.widget-view+json": {
       "model_id": "",
       "version_major": 2,
       "version_minor": 0
      },
      "text/plain": [
       "HBox(children=(HTML(value=''), FloatProgress(value=0.0, max=3.0), HTML(value='')))"
      ]
     },
     "metadata": {},
     "output_type": "display_data"
    },
    {
     "data": {
      "application/vnd.jupyter.widget-view+json": {
       "model_id": "",
       "version_major": 2,
       "version_minor": 0
      },
      "text/plain": [
       "HBox(children=(HTML(value=''), FloatProgress(value=0.0, max=1.0), HTML(value='')))"
      ]
     },
     "metadata": {},
     "output_type": "display_data"
    },
    {
     "data": {
      "application/vnd.jupyter.widget-view+json": {
       "model_id": "",
       "version_major": 2,
       "version_minor": 0
      },
      "text/plain": [
       "HBox(children=(HTML(value=''), FloatProgress(value=0.0, max=9.0), HTML(value='')))"
      ]
     },
     "metadata": {},
     "output_type": "display_data"
    },
    {
     "data": {
      "application/vnd.jupyter.widget-view+json": {
       "model_id": "",
       "version_major": 2,
       "version_minor": 0
      },
      "text/plain": [
       "HBox(children=(HTML(value=''), FloatProgress(value=0.0, max=4.0), HTML(value='')))"
      ]
     },
     "metadata": {},
     "output_type": "display_data"
    },
    {
     "data": {
      "application/vnd.jupyter.widget-view+json": {
       "model_id": "",
       "version_major": 2,
       "version_minor": 0
      },
      "text/plain": [
       "HBox(children=(HTML(value=''), FloatProgress(value=0.0, max=8.0), HTML(value='')))"
      ]
     },
     "metadata": {},
     "output_type": "display_data"
    },
    {
     "data": {
      "application/vnd.jupyter.widget-view+json": {
       "model_id": "",
       "version_major": 2,
       "version_minor": 0
      },
      "text/plain": [
       "HBox(children=(HTML(value=''), FloatProgress(value=0.0, max=3.0), HTML(value='')))"
      ]
     },
     "metadata": {},
     "output_type": "display_data"
    },
    {
     "data": {
      "application/vnd.jupyter.widget-view+json": {
       "model_id": "",
       "version_major": 2,
       "version_minor": 0
      },
      "text/plain": [
       "HBox(children=(HTML(value=''), FloatProgress(value=0.0, max=7.0), HTML(value='')))"
      ]
     },
     "metadata": {},
     "output_type": "display_data"
    },
    {
     "data": {
      "application/vnd.jupyter.widget-view+json": {
       "model_id": "",
       "version_major": 2,
       "version_minor": 0
      },
      "text/plain": [
       "HBox(children=(HTML(value=''), FloatProgress(value=0.0, max=2.0), HTML(value='')))"
      ]
     },
     "metadata": {},
     "output_type": "display_data"
    },
    {
     "data": {
      "application/vnd.jupyter.widget-view+json": {
       "model_id": "",
       "version_major": 2,
       "version_minor": 0
      },
      "text/plain": [
       "HBox(children=(HTML(value=''), FloatProgress(value=0.0, max=4.0), HTML(value='')))"
      ]
     },
     "metadata": {},
     "output_type": "display_data"
    },
    {
     "data": {
      "application/vnd.jupyter.widget-view+json": {
       "model_id": "",
       "version_major": 2,
       "version_minor": 0
      },
      "text/plain": [
       "HBox(children=(HTML(value=''), FloatProgress(value=0.0, max=3.0), HTML(value='')))"
      ]
     },
     "metadata": {},
     "output_type": "display_data"
    },
    {
     "data": {
      "application/vnd.jupyter.widget-view+json": {
       "model_id": "",
       "version_major": 2,
       "version_minor": 0
      },
      "text/plain": [
       "HBox(children=(HTML(value=''), FloatProgress(value=0.0, max=5.0), HTML(value='')))"
      ]
     },
     "metadata": {},
     "output_type": "display_data"
    },
    {
     "data": {
      "application/vnd.jupyter.widget-view+json": {
       "model_id": "",
       "version_major": 2,
       "version_minor": 0
      },
      "text/plain": [
       "HBox(children=(HTML(value=''), FloatProgress(value=0.0, max=1.0), HTML(value='')))"
      ]
     },
     "metadata": {},
     "output_type": "display_data"
    },
    {
     "data": {
      "application/vnd.jupyter.widget-view+json": {
       "model_id": "",
       "version_major": 2,
       "version_minor": 0
      },
      "text/plain": [
       "HBox(children=(HTML(value=''), FloatProgress(value=0.0, max=7.0), HTML(value='')))"
      ]
     },
     "metadata": {},
     "output_type": "display_data"
    },
    {
     "data": {
      "application/vnd.jupyter.widget-view+json": {
       "model_id": "",
       "version_major": 2,
       "version_minor": 0
      },
      "text/plain": [
       "HBox(children=(HTML(value=''), FloatProgress(value=0.0, max=21.0), HTML(value='')))"
      ]
     },
     "metadata": {},
     "output_type": "display_data"
    },
    {
     "data": {
      "application/vnd.jupyter.widget-view+json": {
       "model_id": "",
       "version_major": 2,
       "version_minor": 0
      },
      "text/plain": [
       "HBox(children=(HTML(value=''), FloatProgress(value=0.0, max=1.0), HTML(value='')))"
      ]
     },
     "metadata": {},
     "output_type": "display_data"
    },
    {
     "data": {
      "application/vnd.jupyter.widget-view+json": {
       "model_id": "",
       "version_major": 2,
       "version_minor": 0
      },
      "text/plain": [
       "HBox(children=(HTML(value=''), FloatProgress(value=0.0, max=2.0), HTML(value='')))"
      ]
     },
     "metadata": {},
     "output_type": "display_data"
    },
    {
     "data": {
      "application/vnd.jupyter.widget-view+json": {
       "model_id": "",
       "version_major": 2,
       "version_minor": 0
      },
      "text/plain": [
       "HBox(children=(HTML(value=''), FloatProgress(value=0.0, max=9.0), HTML(value='')))"
      ]
     },
     "metadata": {},
     "output_type": "display_data"
    },
    {
     "data": {
      "application/vnd.jupyter.widget-view+json": {
       "model_id": "",
       "version_major": 2,
       "version_minor": 0
      },
      "text/plain": [
       "HBox(children=(HTML(value=''), FloatProgress(value=0.0, max=3.0), HTML(value='')))"
      ]
     },
     "metadata": {},
     "output_type": "display_data"
    },
    {
     "data": {
      "application/vnd.jupyter.widget-view+json": {
       "model_id": "",
       "version_major": 2,
       "version_minor": 0
      },
      "text/plain": [
       "HBox(children=(HTML(value=''), FloatProgress(value=0.0, max=3.0), HTML(value='')))"
      ]
     },
     "metadata": {},
     "output_type": "display_data"
    },
    {
     "data": {
      "application/vnd.jupyter.widget-view+json": {
       "model_id": "",
       "version_major": 2,
       "version_minor": 0
      },
      "text/plain": [
       "HBox(children=(HTML(value=''), FloatProgress(value=0.0, max=3.0), HTML(value='')))"
      ]
     },
     "metadata": {},
     "output_type": "display_data"
    },
    {
     "data": {
      "application/vnd.jupyter.widget-view+json": {
       "model_id": "",
       "version_major": 2,
       "version_minor": 0
      },
      "text/plain": [
       "HBox(children=(HTML(value=''), FloatProgress(value=0.0, max=4.0), HTML(value='')))"
      ]
     },
     "metadata": {},
     "output_type": "display_data"
    },
    {
     "data": {
      "application/vnd.jupyter.widget-view+json": {
       "model_id": "",
       "version_major": 2,
       "version_minor": 0
      },
      "text/plain": [
       "HBox(children=(HTML(value=''), FloatProgress(value=0.0, max=10.0), HTML(value='')))"
      ]
     },
     "metadata": {},
     "output_type": "display_data"
    },
    {
     "data": {
      "application/vnd.jupyter.widget-view+json": {
       "model_id": "",
       "version_major": 2,
       "version_minor": 0
      },
      "text/plain": [
       "HBox(children=(HTML(value=''), FloatProgress(value=0.0, max=3.0), HTML(value='')))"
      ]
     },
     "metadata": {},
     "output_type": "display_data"
    },
    {
     "data": {
      "application/vnd.jupyter.widget-view+json": {
       "model_id": "",
       "version_major": 2,
       "version_minor": 0
      },
      "text/plain": [
       "HBox(children=(HTML(value=''), FloatProgress(value=0.0, max=5.0), HTML(value='')))"
      ]
     },
     "metadata": {},
     "output_type": "display_data"
    },
    {
     "data": {
      "application/vnd.jupyter.widget-view+json": {
       "model_id": "",
       "version_major": 2,
       "version_minor": 0
      },
      "text/plain": [
       "HBox(children=(HTML(value=''), FloatProgress(value=0.0, max=3.0), HTML(value='')))"
      ]
     },
     "metadata": {},
     "output_type": "display_data"
    },
    {
     "data": {
      "application/vnd.jupyter.widget-view+json": {
       "model_id": "",
       "version_major": 2,
       "version_minor": 0
      },
      "text/plain": [
       "HBox(children=(HTML(value=''), FloatProgress(value=0.0, max=1.0), HTML(value='')))"
      ]
     },
     "metadata": {},
     "output_type": "display_data"
    },
    {
     "data": {
      "application/vnd.jupyter.widget-view+json": {
       "model_id": "",
       "version_major": 2,
       "version_minor": 0
      },
      "text/plain": [
       "HBox(children=(HTML(value=''), FloatProgress(value=0.0, max=1.0), HTML(value='')))"
      ]
     },
     "metadata": {},
     "output_type": "display_data"
    },
    {
     "data": {
      "application/vnd.jupyter.widget-view+json": {
       "model_id": "",
       "version_major": 2,
       "version_minor": 0
      },
      "text/plain": [
       "HBox(children=(HTML(value=''), FloatProgress(value=0.0, max=3.0), HTML(value='')))"
      ]
     },
     "metadata": {},
     "output_type": "display_data"
    },
    {
     "data": {
      "application/vnd.jupyter.widget-view+json": {
       "model_id": "",
       "version_major": 2,
       "version_minor": 0
      },
      "text/plain": [
       "HBox(children=(HTML(value=''), FloatProgress(value=0.0, max=75.0), HTML(value='')))"
      ]
     },
     "metadata": {},
     "output_type": "display_data"
    },
    {
     "data": {
      "application/vnd.jupyter.widget-view+json": {
       "model_id": "",
       "version_major": 2,
       "version_minor": 0
      },
      "text/plain": [
       "HBox(children=(HTML(value=''), FloatProgress(value=0.0, max=1.0), HTML(value='')))"
      ]
     },
     "metadata": {},
     "output_type": "display_data"
    },
    {
     "data": {
      "application/vnd.jupyter.widget-view+json": {
       "model_id": "",
       "version_major": 2,
       "version_minor": 0
      },
      "text/plain": [
       "HBox(children=(HTML(value=''), FloatProgress(value=0.0, max=6.0), HTML(value='')))"
      ]
     },
     "metadata": {},
     "output_type": "display_data"
    },
    {
     "data": {
      "application/vnd.jupyter.widget-view+json": {
       "model_id": "",
       "version_major": 2,
       "version_minor": 0
      },
      "text/plain": [
       "HBox(children=(HTML(value=''), FloatProgress(value=0.0, max=2.0), HTML(value='')))"
      ]
     },
     "metadata": {},
     "output_type": "display_data"
    },
    {
     "data": {
      "application/vnd.jupyter.widget-view+json": {
       "model_id": "",
       "version_major": 2,
       "version_minor": 0
      },
      "text/plain": [
       "HBox(children=(HTML(value=''), FloatProgress(value=0.0, max=12.0), HTML(value='')))"
      ]
     },
     "metadata": {},
     "output_type": "display_data"
    },
    {
     "data": {
      "application/vnd.jupyter.widget-view+json": {
       "model_id": "",
       "version_major": 2,
       "version_minor": 0
      },
      "text/plain": [
       "HBox(children=(HTML(value=''), FloatProgress(value=0.0, max=5.0), HTML(value='')))"
      ]
     },
     "metadata": {},
     "output_type": "display_data"
    },
    {
     "data": {
      "application/vnd.jupyter.widget-view+json": {
       "model_id": "",
       "version_major": 2,
       "version_minor": 0
      },
      "text/plain": [
       "HBox(children=(HTML(value=''), FloatProgress(value=0.0, max=4.0), HTML(value='')))"
      ]
     },
     "metadata": {},
     "output_type": "display_data"
    },
    {
     "data": {
      "application/vnd.jupyter.widget-view+json": {
       "model_id": "",
       "version_major": 2,
       "version_minor": 0
      },
      "text/plain": [
       "HBox(children=(HTML(value=''), FloatProgress(value=0.0, max=4.0), HTML(value='')))"
      ]
     },
     "metadata": {},
     "output_type": "display_data"
    },
    {
     "data": {
      "application/vnd.jupyter.widget-view+json": {
       "model_id": "",
       "version_major": 2,
       "version_minor": 0
      },
      "text/plain": [
       "HBox(children=(HTML(value=''), FloatProgress(value=0.0, max=1.0), HTML(value='')))"
      ]
     },
     "metadata": {},
     "output_type": "display_data"
    },
    {
     "data": {
      "application/vnd.jupyter.widget-view+json": {
       "model_id": "",
       "version_major": 2,
       "version_minor": 0
      },
      "text/plain": [
       "HBox(children=(HTML(value=''), FloatProgress(value=0.0, max=1.0), HTML(value='')))"
      ]
     },
     "metadata": {},
     "output_type": "display_data"
    },
    {
     "data": {
      "application/vnd.jupyter.widget-view+json": {
       "model_id": "",
       "version_major": 2,
       "version_minor": 0
      },
      "text/plain": [
       "HBox(children=(HTML(value=''), FloatProgress(value=0.0, max=16.0), HTML(value='')))"
      ]
     },
     "metadata": {},
     "output_type": "display_data"
    },
    {
     "data": {
      "application/vnd.jupyter.widget-view+json": {
       "model_id": "",
       "version_major": 2,
       "version_minor": 0
      },
      "text/plain": [
       "HBox(children=(HTML(value=''), FloatProgress(value=0.0, max=2.0), HTML(value='')))"
      ]
     },
     "metadata": {},
     "output_type": "display_data"
    },
    {
     "data": {
      "application/vnd.jupyter.widget-view+json": {
       "model_id": "",
       "version_major": 2,
       "version_minor": 0
      },
      "text/plain": [
       "HBox(children=(HTML(value=''), FloatProgress(value=0.0, max=1.0), HTML(value='')))"
      ]
     },
     "metadata": {},
     "output_type": "display_data"
    },
    {
     "data": {
      "application/vnd.jupyter.widget-view+json": {
       "model_id": "",
       "version_major": 2,
       "version_minor": 0
      },
      "text/plain": [
       "HBox(children=(HTML(value=''), FloatProgress(value=0.0, max=3.0), HTML(value='')))"
      ]
     },
     "metadata": {},
     "output_type": "display_data"
    },
    {
     "data": {
      "application/vnd.jupyter.widget-view+json": {
       "model_id": "",
       "version_major": 2,
       "version_minor": 0
      },
      "text/plain": [
       "HBox(children=(HTML(value=''), FloatProgress(value=0.0, max=2.0), HTML(value='')))"
      ]
     },
     "metadata": {},
     "output_type": "display_data"
    },
    {
     "data": {
      "application/vnd.jupyter.widget-view+json": {
       "model_id": "",
       "version_major": 2,
       "version_minor": 0
      },
      "text/plain": [
       "HBox(children=(HTML(value=''), FloatProgress(value=0.0, max=10.0), HTML(value='')))"
      ]
     },
     "metadata": {},
     "output_type": "display_data"
    },
    {
     "data": {
      "application/vnd.jupyter.widget-view+json": {
       "model_id": "",
       "version_major": 2,
       "version_minor": 0
      },
      "text/plain": [
       "HBox(children=(HTML(value=''), FloatProgress(value=0.0, max=1.0), HTML(value='')))"
      ]
     },
     "metadata": {},
     "output_type": "display_data"
    },
    {
     "data": {
      "application/vnd.jupyter.widget-view+json": {
       "model_id": "",
       "version_major": 2,
       "version_minor": 0
      },
      "text/plain": [
       "HBox(children=(HTML(value=''), FloatProgress(value=0.0, max=2.0), HTML(value='')))"
      ]
     },
     "metadata": {},
     "output_type": "display_data"
    },
    {
     "data": {
      "application/vnd.jupyter.widget-view+json": {
       "model_id": "",
       "version_major": 2,
       "version_minor": 0
      },
      "text/plain": [
       "HBox(children=(HTML(value=''), FloatProgress(value=0.0, max=2.0), HTML(value='')))"
      ]
     },
     "metadata": {},
     "output_type": "display_data"
    },
    {
     "data": {
      "application/vnd.jupyter.widget-view+json": {
       "model_id": "",
       "version_major": 2,
       "version_minor": 0
      },
      "text/plain": [
       "HBox(children=(HTML(value=''), FloatProgress(value=0.0, max=1.0), HTML(value='')))"
      ]
     },
     "metadata": {},
     "output_type": "display_data"
    },
    {
     "data": {
      "application/vnd.jupyter.widget-view+json": {
       "model_id": "",
       "version_major": 2,
       "version_minor": 0
      },
      "text/plain": [
       "HBox(children=(HTML(value=''), FloatProgress(value=0.0, max=4.0), HTML(value='')))"
      ]
     },
     "metadata": {},
     "output_type": "display_data"
    },
    {
     "data": {
      "application/vnd.jupyter.widget-view+json": {
       "model_id": "",
       "version_major": 2,
       "version_minor": 0
      },
      "text/plain": [
       "HBox(children=(HTML(value=''), FloatProgress(value=0.0, max=3.0), HTML(value='')))"
      ]
     },
     "metadata": {},
     "output_type": "display_data"
    },
    {
     "data": {
      "application/vnd.jupyter.widget-view+json": {
       "model_id": "",
       "version_major": 2,
       "version_minor": 0
      },
      "text/plain": [
       "HBox(children=(HTML(value=''), FloatProgress(value=0.0, max=3.0), HTML(value='')))"
      ]
     },
     "metadata": {},
     "output_type": "display_data"
    },
    {
     "data": {
      "application/vnd.jupyter.widget-view+json": {
       "model_id": "",
       "version_major": 2,
       "version_minor": 0
      },
      "text/plain": [
       "HBox(children=(HTML(value=''), FloatProgress(value=0.0, max=1.0), HTML(value='')))"
      ]
     },
     "metadata": {},
     "output_type": "display_data"
    },
    {
     "data": {
      "application/vnd.jupyter.widget-view+json": {
       "model_id": "",
       "version_major": 2,
       "version_minor": 0
      },
      "text/plain": [
       "HBox(children=(HTML(value=''), FloatProgress(value=0.0, max=4.0), HTML(value='')))"
      ]
     },
     "metadata": {},
     "output_type": "display_data"
    },
    {
     "data": {
      "application/vnd.jupyter.widget-view+json": {
       "model_id": "",
       "version_major": 2,
       "version_minor": 0
      },
      "text/plain": [
       "HBox(children=(HTML(value=''), FloatProgress(value=0.0, max=1.0), HTML(value='')))"
      ]
     },
     "metadata": {},
     "output_type": "display_data"
    },
    {
     "data": {
      "application/vnd.jupyter.widget-view+json": {
       "model_id": "",
       "version_major": 2,
       "version_minor": 0
      },
      "text/plain": [
       "HBox(children=(HTML(value=''), FloatProgress(value=0.0, max=3.0), HTML(value='')))"
      ]
     },
     "metadata": {},
     "output_type": "display_data"
    },
    {
     "data": {
      "application/vnd.jupyter.widget-view+json": {
       "model_id": "",
       "version_major": 2,
       "version_minor": 0
      },
      "text/plain": [
       "HBox(children=(HTML(value=''), FloatProgress(value=0.0, max=56.0), HTML(value='')))"
      ]
     },
     "metadata": {},
     "output_type": "display_data"
    },
    {
     "data": {
      "application/vnd.jupyter.widget-view+json": {
       "model_id": "",
       "version_major": 2,
       "version_minor": 0
      },
      "text/plain": [
       "HBox(children=(HTML(value=''), FloatProgress(value=0.0, max=1.0), HTML(value='')))"
      ]
     },
     "metadata": {},
     "output_type": "display_data"
    },
    {
     "data": {
      "application/vnd.jupyter.widget-view+json": {
       "model_id": "",
       "version_major": 2,
       "version_minor": 0
      },
      "text/plain": [
       "HBox(children=(HTML(value=''), FloatProgress(value=0.0, max=3.0), HTML(value='')))"
      ]
     },
     "metadata": {},
     "output_type": "display_data"
    },
    {
     "data": {
      "application/vnd.jupyter.widget-view+json": {
       "model_id": "",
       "version_major": 2,
       "version_minor": 0
      },
      "text/plain": [
       "HBox(children=(HTML(value=''), FloatProgress(value=0.0, max=9.0), HTML(value='')))"
      ]
     },
     "metadata": {},
     "output_type": "display_data"
    },
    {
     "data": {
      "application/vnd.jupyter.widget-view+json": {
       "model_id": "",
       "version_major": 2,
       "version_minor": 0
      },
      "text/plain": [
       "HBox(children=(HTML(value=''), FloatProgress(value=0.0, max=6.0), HTML(value='')))"
      ]
     },
     "metadata": {},
     "output_type": "display_data"
    },
    {
     "data": {
      "application/vnd.jupyter.widget-view+json": {
       "model_id": "",
       "version_major": 2,
       "version_minor": 0
      },
      "text/plain": [
       "HBox(children=(HTML(value=''), FloatProgress(value=0.0, max=12.0), HTML(value='')))"
      ]
     },
     "metadata": {},
     "output_type": "display_data"
    },
    {
     "data": {
      "application/vnd.jupyter.widget-view+json": {
       "model_id": "",
       "version_major": 2,
       "version_minor": 0
      },
      "text/plain": [
       "HBox(children=(HTML(value=''), FloatProgress(value=0.0, max=3.0), HTML(value='')))"
      ]
     },
     "metadata": {},
     "output_type": "display_data"
    },
    {
     "data": {
      "application/vnd.jupyter.widget-view+json": {
       "model_id": "",
       "version_major": 2,
       "version_minor": 0
      },
      "text/plain": [
       "HBox(children=(HTML(value=''), FloatProgress(value=0.0, max=3.0), HTML(value='')))"
      ]
     },
     "metadata": {},
     "output_type": "display_data"
    },
    {
     "data": {
      "application/vnd.jupyter.widget-view+json": {
       "model_id": "",
       "version_major": 2,
       "version_minor": 0
      },
      "text/plain": [
       "HBox(children=(HTML(value=''), FloatProgress(value=0.0, max=1.0), HTML(value='')))"
      ]
     },
     "metadata": {},
     "output_type": "display_data"
    },
    {
     "data": {
      "application/vnd.jupyter.widget-view+json": {
       "model_id": "",
       "version_major": 2,
       "version_minor": 0
      },
      "text/plain": [
       "HBox(children=(HTML(value=''), FloatProgress(value=0.0, max=4.0), HTML(value='')))"
      ]
     },
     "metadata": {},
     "output_type": "display_data"
    },
    {
     "data": {
      "application/vnd.jupyter.widget-view+json": {
       "model_id": "",
       "version_major": 2,
       "version_minor": 0
      },
      "text/plain": [
       "HBox(children=(HTML(value=''), FloatProgress(value=0.0, max=5.0), HTML(value='')))"
      ]
     },
     "metadata": {},
     "output_type": "display_data"
    },
    {
     "data": {
      "application/vnd.jupyter.widget-view+json": {
       "model_id": "",
       "version_major": 2,
       "version_minor": 0
      },
      "text/plain": [
       "HBox(children=(HTML(value=''), FloatProgress(value=0.0, max=2.0), HTML(value='')))"
      ]
     },
     "metadata": {},
     "output_type": "display_data"
    },
    {
     "data": {
      "application/vnd.jupyter.widget-view+json": {
       "model_id": "",
       "version_major": 2,
       "version_minor": 0
      },
      "text/plain": [
       "HBox(children=(HTML(value=''), FloatProgress(value=0.0, max=18.0), HTML(value='')))"
      ]
     },
     "metadata": {},
     "output_type": "display_data"
    },
    {
     "data": {
      "application/vnd.jupyter.widget-view+json": {
       "model_id": "",
       "version_major": 2,
       "version_minor": 0
      },
      "text/plain": [
       "HBox(children=(HTML(value=''), FloatProgress(value=0.0, max=1.0), HTML(value='')))"
      ]
     },
     "metadata": {},
     "output_type": "display_data"
    },
    {
     "data": {
      "application/vnd.jupyter.widget-view+json": {
       "model_id": "",
       "version_major": 2,
       "version_minor": 0
      },
      "text/plain": [
       "HBox(children=(HTML(value=''), FloatProgress(value=0.0, max=4.0), HTML(value='')))"
      ]
     },
     "metadata": {},
     "output_type": "display_data"
    },
    {
     "data": {
      "application/vnd.jupyter.widget-view+json": {
       "model_id": "",
       "version_major": 2,
       "version_minor": 0
      },
      "text/plain": [
       "HBox(children=(HTML(value=''), FloatProgress(value=0.0, max=27.0), HTML(value='')))"
      ]
     },
     "metadata": {},
     "output_type": "display_data"
    },
    {
     "data": {
      "application/vnd.jupyter.widget-view+json": {
       "model_id": "",
       "version_major": 2,
       "version_minor": 0
      },
      "text/plain": [
       "HBox(children=(HTML(value=''), FloatProgress(value=0.0, max=3.0), HTML(value='')))"
      ]
     },
     "metadata": {},
     "output_type": "display_data"
    },
    {
     "data": {
      "application/vnd.jupyter.widget-view+json": {
       "model_id": "",
       "version_major": 2,
       "version_minor": 0
      },
      "text/plain": [
       "HBox(children=(HTML(value=''), FloatProgress(value=0.0, max=4.0), HTML(value='')))"
      ]
     },
     "metadata": {},
     "output_type": "display_data"
    },
    {
     "data": {
      "application/vnd.jupyter.widget-view+json": {
       "model_id": "",
       "version_major": 2,
       "version_minor": 0
      },
      "text/plain": [
       "HBox(children=(HTML(value=''), FloatProgress(value=0.0, max=4.0), HTML(value='')))"
      ]
     },
     "metadata": {},
     "output_type": "display_data"
    },
    {
     "data": {
      "application/vnd.jupyter.widget-view+json": {
       "model_id": "",
       "version_major": 2,
       "version_minor": 0
      },
      "text/plain": [
       "HBox(children=(HTML(value=''), FloatProgress(value=0.0, max=3.0), HTML(value='')))"
      ]
     },
     "metadata": {},
     "output_type": "display_data"
    },
    {
     "data": {
      "application/vnd.jupyter.widget-view+json": {
       "model_id": "",
       "version_major": 2,
       "version_minor": 0
      },
      "text/plain": [
       "HBox(children=(HTML(value=''), FloatProgress(value=0.0, max=16.0), HTML(value='')))"
      ]
     },
     "metadata": {},
     "output_type": "display_data"
    },
    {
     "data": {
      "application/vnd.jupyter.widget-view+json": {
       "model_id": "",
       "version_major": 2,
       "version_minor": 0
      },
      "text/plain": [
       "HBox(children=(HTML(value=''), FloatProgress(value=0.0, max=2.0), HTML(value='')))"
      ]
     },
     "metadata": {},
     "output_type": "display_data"
    },
    {
     "data": {
      "application/vnd.jupyter.widget-view+json": {
       "model_id": "",
       "version_major": 2,
       "version_minor": 0
      },
      "text/plain": [
       "HBox(children=(HTML(value=''), FloatProgress(value=0.0, max=1.0), HTML(value='')))"
      ]
     },
     "metadata": {},
     "output_type": "display_data"
    },
    {
     "data": {
      "application/vnd.jupyter.widget-view+json": {
       "model_id": "",
       "version_major": 2,
       "version_minor": 0
      },
      "text/plain": [
       "HBox(children=(HTML(value=''), FloatProgress(value=0.0, max=2.0), HTML(value='')))"
      ]
     },
     "metadata": {},
     "output_type": "display_data"
    },
    {
     "data": {
      "application/vnd.jupyter.widget-view+json": {
       "model_id": "",
       "version_major": 2,
       "version_minor": 0
      },
      "text/plain": [
       "HBox(children=(HTML(value=''), FloatProgress(value=0.0, max=1.0), HTML(value='')))"
      ]
     },
     "metadata": {},
     "output_type": "display_data"
    },
    {
     "data": {
      "application/vnd.jupyter.widget-view+json": {
       "model_id": "",
       "version_major": 2,
       "version_minor": 0
      },
      "text/plain": [
       "HBox(children=(HTML(value=''), FloatProgress(value=0.0, max=1.0), HTML(value='')))"
      ]
     },
     "metadata": {},
     "output_type": "display_data"
    },
    {
     "data": {
      "application/vnd.jupyter.widget-view+json": {
       "model_id": "",
       "version_major": 2,
       "version_minor": 0
      },
      "text/plain": [
       "HBox(children=(HTML(value=''), FloatProgress(value=0.0, max=3.0), HTML(value='')))"
      ]
     },
     "metadata": {},
     "output_type": "display_data"
    },
    {
     "data": {
      "application/vnd.jupyter.widget-view+json": {
       "model_id": "",
       "version_major": 2,
       "version_minor": 0
      },
      "text/plain": [
       "HBox(children=(HTML(value=''), FloatProgress(value=0.0, max=2.0), HTML(value='')))"
      ]
     },
     "metadata": {},
     "output_type": "display_data"
    },
    {
     "data": {
      "application/vnd.jupyter.widget-view+json": {
       "model_id": "",
       "version_major": 2,
       "version_minor": 0
      },
      "text/plain": [
       "HBox(children=(HTML(value=''), FloatProgress(value=0.0, max=7.0), HTML(value='')))"
      ]
     },
     "metadata": {},
     "output_type": "display_data"
    },
    {
     "data": {
      "application/vnd.jupyter.widget-view+json": {
       "model_id": "",
       "version_major": 2,
       "version_minor": 0
      },
      "text/plain": [
       "HBox(children=(HTML(value=''), FloatProgress(value=0.0, max=26.0), HTML(value='')))"
      ]
     },
     "metadata": {},
     "output_type": "display_data"
    },
    {
     "data": {
      "application/vnd.jupyter.widget-view+json": {
       "model_id": "",
       "version_major": 2,
       "version_minor": 0
      },
      "text/plain": [
       "HBox(children=(HTML(value=''), FloatProgress(value=0.0, max=1.0), HTML(value='')))"
      ]
     },
     "metadata": {},
     "output_type": "display_data"
    },
    {
     "data": {
      "application/vnd.jupyter.widget-view+json": {
       "model_id": "",
       "version_major": 2,
       "version_minor": 0
      },
      "text/plain": [
       "HBox(children=(HTML(value=''), FloatProgress(value=0.0, max=4.0), HTML(value='')))"
      ]
     },
     "metadata": {},
     "output_type": "display_data"
    },
    {
     "data": {
      "application/vnd.jupyter.widget-view+json": {
       "model_id": "",
       "version_major": 2,
       "version_minor": 0
      },
      "text/plain": [
       "HBox(children=(HTML(value=''), FloatProgress(value=0.0, max=5.0), HTML(value='')))"
      ]
     },
     "metadata": {},
     "output_type": "display_data"
    },
    {
     "data": {
      "application/vnd.jupyter.widget-view+json": {
       "model_id": "",
       "version_major": 2,
       "version_minor": 0
      },
      "text/plain": [
       "HBox(children=(HTML(value=''), FloatProgress(value=0.0, max=3.0), HTML(value='')))"
      ]
     },
     "metadata": {},
     "output_type": "display_data"
    },
    {
     "data": {
      "application/vnd.jupyter.widget-view+json": {
       "model_id": "",
       "version_major": 2,
       "version_minor": 0
      },
      "text/plain": [
       "HBox(children=(HTML(value=''), FloatProgress(value=0.0, max=3.0), HTML(value='')))"
      ]
     },
     "metadata": {},
     "output_type": "display_data"
    },
    {
     "data": {
      "application/vnd.jupyter.widget-view+json": {
       "model_id": "",
       "version_major": 2,
       "version_minor": 0
      },
      "text/plain": [
       "HBox(children=(HTML(value=''), FloatProgress(value=0.0, max=1.0), HTML(value='')))"
      ]
     },
     "metadata": {},
     "output_type": "display_data"
    },
    {
     "data": {
      "application/vnd.jupyter.widget-view+json": {
       "model_id": "",
       "version_major": 2,
       "version_minor": 0
      },
      "text/plain": [
       "HBox(children=(HTML(value=''), FloatProgress(value=0.0, max=6.0), HTML(value='')))"
      ]
     },
     "metadata": {},
     "output_type": "display_data"
    },
    {
     "data": {
      "application/vnd.jupyter.widget-view+json": {
       "model_id": "",
       "version_major": 2,
       "version_minor": 0
      },
      "text/plain": [
       "HBox(children=(HTML(value=''), FloatProgress(value=0.0, max=1.0), HTML(value='')))"
      ]
     },
     "metadata": {},
     "output_type": "display_data"
    },
    {
     "data": {
      "application/vnd.jupyter.widget-view+json": {
       "model_id": "",
       "version_major": 2,
       "version_minor": 0
      },
      "text/plain": [
       "HBox(children=(HTML(value=''), FloatProgress(value=0.0, max=2.0), HTML(value='')))"
      ]
     },
     "metadata": {},
     "output_type": "display_data"
    },
    {
     "data": {
      "application/vnd.jupyter.widget-view+json": {
       "model_id": "",
       "version_major": 2,
       "version_minor": 0
      },
      "text/plain": [
       "HBox(children=(HTML(value=''), FloatProgress(value=0.0, max=6.0), HTML(value='')))"
      ]
     },
     "metadata": {},
     "output_type": "display_data"
    },
    {
     "data": {
      "application/vnd.jupyter.widget-view+json": {
       "model_id": "",
       "version_major": 2,
       "version_minor": 0
      },
      "text/plain": [
       "HBox(children=(HTML(value=''), FloatProgress(value=0.0, max=5.0), HTML(value='')))"
      ]
     },
     "metadata": {},
     "output_type": "display_data"
    },
    {
     "data": {
      "application/vnd.jupyter.widget-view+json": {
       "model_id": "",
       "version_major": 2,
       "version_minor": 0
      },
      "text/plain": [
       "HBox(children=(HTML(value=''), FloatProgress(value=0.0, max=1.0), HTML(value='')))"
      ]
     },
     "metadata": {},
     "output_type": "display_data"
    },
    {
     "data": {
      "application/vnd.jupyter.widget-view+json": {
       "model_id": "",
       "version_major": 2,
       "version_minor": 0
      },
      "text/plain": [
       "HBox(children=(HTML(value=''), FloatProgress(value=0.0, max=5.0), HTML(value='')))"
      ]
     },
     "metadata": {},
     "output_type": "display_data"
    },
    {
     "data": {
      "application/vnd.jupyter.widget-view+json": {
       "model_id": "",
       "version_major": 2,
       "version_minor": 0
      },
      "text/plain": [
       "HBox(children=(HTML(value=''), FloatProgress(value=0.0, max=25.0), HTML(value='')))"
      ]
     },
     "metadata": {},
     "output_type": "display_data"
    },
    {
     "data": {
      "application/vnd.jupyter.widget-view+json": {
       "model_id": "",
       "version_major": 2,
       "version_minor": 0
      },
      "text/plain": [
       "HBox(children=(HTML(value=''), FloatProgress(value=0.0, max=6.0), HTML(value='')))"
      ]
     },
     "metadata": {},
     "output_type": "display_data"
    },
    {
     "data": {
      "application/vnd.jupyter.widget-view+json": {
       "model_id": "",
       "version_major": 2,
       "version_minor": 0
      },
      "text/plain": [
       "HBox(children=(HTML(value=''), FloatProgress(value=0.0, max=2.0), HTML(value='')))"
      ]
     },
     "metadata": {},
     "output_type": "display_data"
    },
    {
     "data": {
      "application/vnd.jupyter.widget-view+json": {
       "model_id": "",
       "version_major": 2,
       "version_minor": 0
      },
      "text/plain": [
       "HBox(children=(HTML(value=''), FloatProgress(value=0.0, max=3.0), HTML(value='')))"
      ]
     },
     "metadata": {},
     "output_type": "display_data"
    },
    {
     "data": {
      "application/vnd.jupyter.widget-view+json": {
       "model_id": "",
       "version_major": 2,
       "version_minor": 0
      },
      "text/plain": [
       "HBox(children=(HTML(value=''), FloatProgress(value=0.0, max=8.0), HTML(value='')))"
      ]
     },
     "metadata": {},
     "output_type": "display_data"
    },
    {
     "data": {
      "application/vnd.jupyter.widget-view+json": {
       "model_id": "",
       "version_major": 2,
       "version_minor": 0
      },
      "text/plain": [
       "HBox(children=(HTML(value=''), FloatProgress(value=0.0, max=10.0), HTML(value='')))"
      ]
     },
     "metadata": {},
     "output_type": "display_data"
    },
    {
     "data": {
      "application/vnd.jupyter.widget-view+json": {
       "model_id": "",
       "version_major": 2,
       "version_minor": 0
      },
      "text/plain": [
       "HBox(children=(HTML(value=''), FloatProgress(value=0.0, max=5.0), HTML(value='')))"
      ]
     },
     "metadata": {},
     "output_type": "display_data"
    },
    {
     "data": {
      "application/vnd.jupyter.widget-view+json": {
       "model_id": "",
       "version_major": 2,
       "version_minor": 0
      },
      "text/plain": [
       "HBox(children=(HTML(value=''), FloatProgress(value=0.0, max=7.0), HTML(value='')))"
      ]
     },
     "metadata": {},
     "output_type": "display_data"
    },
    {
     "data": {
      "application/vnd.jupyter.widget-view+json": {
       "model_id": "",
       "version_major": 2,
       "version_minor": 0
      },
      "text/plain": [
       "HBox(children=(HTML(value=''), FloatProgress(value=0.0, max=1.0), HTML(value='')))"
      ]
     },
     "metadata": {},
     "output_type": "display_data"
    },
    {
     "data": {
      "application/vnd.jupyter.widget-view+json": {
       "model_id": "",
       "version_major": 2,
       "version_minor": 0
      },
      "text/plain": [
       "HBox(children=(HTML(value=''), FloatProgress(value=0.0, max=3.0), HTML(value='')))"
      ]
     },
     "metadata": {},
     "output_type": "display_data"
    },
    {
     "data": {
      "application/vnd.jupyter.widget-view+json": {
       "model_id": "",
       "version_major": 2,
       "version_minor": 0
      },
      "text/plain": [
       "HBox(children=(HTML(value=''), FloatProgress(value=0.0, max=1.0), HTML(value='')))"
      ]
     },
     "metadata": {},
     "output_type": "display_data"
    },
    {
     "data": {
      "application/vnd.jupyter.widget-view+json": {
       "model_id": "",
       "version_major": 2,
       "version_minor": 0
      },
      "text/plain": [
       "HBox(children=(HTML(value=''), FloatProgress(value=0.0, max=1.0), HTML(value='')))"
      ]
     },
     "metadata": {},
     "output_type": "display_data"
    },
    {
     "data": {
      "application/vnd.jupyter.widget-view+json": {
       "model_id": "",
       "version_major": 2,
       "version_minor": 0
      },
      "text/plain": [
       "HBox(children=(HTML(value=''), FloatProgress(value=0.0, max=3.0), HTML(value='')))"
      ]
     },
     "metadata": {},
     "output_type": "display_data"
    },
    {
     "data": {
      "application/vnd.jupyter.widget-view+json": {
       "model_id": "",
       "version_major": 2,
       "version_minor": 0
      },
      "text/plain": [
       "HBox(children=(HTML(value=''), FloatProgress(value=0.0, max=7.0), HTML(value='')))"
      ]
     },
     "metadata": {},
     "output_type": "display_data"
    },
    {
     "data": {
      "application/vnd.jupyter.widget-view+json": {
       "model_id": "",
       "version_major": 2,
       "version_minor": 0
      },
      "text/plain": [
       "HBox(children=(HTML(value=''), FloatProgress(value=0.0, max=1.0), HTML(value='')))"
      ]
     },
     "metadata": {},
     "output_type": "display_data"
    },
    {
     "data": {
      "application/vnd.jupyter.widget-view+json": {
       "model_id": "",
       "version_major": 2,
       "version_minor": 0
      },
      "text/plain": [
       "HBox(children=(HTML(value=''), FloatProgress(value=0.0, max=1.0), HTML(value='')))"
      ]
     },
     "metadata": {},
     "output_type": "display_data"
    },
    {
     "data": {
      "application/vnd.jupyter.widget-view+json": {
       "model_id": "",
       "version_major": 2,
       "version_minor": 0
      },
      "text/plain": [
       "HBox(children=(HTML(value=''), FloatProgress(value=0.0, max=6.0), HTML(value='')))"
      ]
     },
     "metadata": {},
     "output_type": "display_data"
    },
    {
     "data": {
      "application/vnd.jupyter.widget-view+json": {
       "model_id": "",
       "version_major": 2,
       "version_minor": 0
      },
      "text/plain": [
       "HBox(children=(HTML(value=''), FloatProgress(value=0.0, max=4.0), HTML(value='')))"
      ]
     },
     "metadata": {},
     "output_type": "display_data"
    },
    {
     "data": {
      "application/vnd.jupyter.widget-view+json": {
       "model_id": "",
       "version_major": 2,
       "version_minor": 0
      },
      "text/plain": [
       "HBox(children=(HTML(value=''), FloatProgress(value=0.0, max=2.0), HTML(value='')))"
      ]
     },
     "metadata": {},
     "output_type": "display_data"
    },
    {
     "data": {
      "application/vnd.jupyter.widget-view+json": {
       "model_id": "",
       "version_major": 2,
       "version_minor": 0
      },
      "text/plain": [
       "HBox(children=(HTML(value=''), FloatProgress(value=0.0, max=1.0), HTML(value='')))"
      ]
     },
     "metadata": {},
     "output_type": "display_data"
    },
    {
     "data": {
      "application/vnd.jupyter.widget-view+json": {
       "model_id": "",
       "version_major": 2,
       "version_minor": 0
      },
      "text/plain": [
       "HBox(children=(HTML(value=''), FloatProgress(value=0.0, max=6.0), HTML(value='')))"
      ]
     },
     "metadata": {},
     "output_type": "display_data"
    },
    {
     "data": {
      "application/vnd.jupyter.widget-view+json": {
       "model_id": "",
       "version_major": 2,
       "version_minor": 0
      },
      "text/plain": [
       "HBox(children=(HTML(value=''), FloatProgress(value=0.0, max=2.0), HTML(value='')))"
      ]
     },
     "metadata": {},
     "output_type": "display_data"
    },
    {
     "data": {
      "application/vnd.jupyter.widget-view+json": {
       "model_id": "",
       "version_major": 2,
       "version_minor": 0
      },
      "text/plain": [
       "HBox(children=(HTML(value=''), FloatProgress(value=0.0, max=1.0), HTML(value='')))"
      ]
     },
     "metadata": {},
     "output_type": "display_data"
    },
    {
     "data": {
      "application/vnd.jupyter.widget-view+json": {
       "model_id": "",
       "version_major": 2,
       "version_minor": 0
      },
      "text/plain": [
       "HBox(children=(HTML(value=''), FloatProgress(value=0.0, max=3.0), HTML(value='')))"
      ]
     },
     "metadata": {},
     "output_type": "display_data"
    },
    {
     "data": {
      "application/vnd.jupyter.widget-view+json": {
       "model_id": "",
       "version_major": 2,
       "version_minor": 0
      },
      "text/plain": [
       "HBox(children=(HTML(value=''), FloatProgress(value=0.0, max=16.0), HTML(value='')))"
      ]
     },
     "metadata": {},
     "output_type": "display_data"
    },
    {
     "data": {
      "application/vnd.jupyter.widget-view+json": {
       "model_id": "",
       "version_major": 2,
       "version_minor": 0
      },
      "text/plain": [
       "HBox(children=(HTML(value=''), FloatProgress(value=0.0, max=3.0), HTML(value='')))"
      ]
     },
     "metadata": {},
     "output_type": "display_data"
    },
    {
     "data": {
      "application/vnd.jupyter.widget-view+json": {
       "model_id": "",
       "version_major": 2,
       "version_minor": 0
      },
      "text/plain": [
       "HBox(children=(HTML(value=''), FloatProgress(value=0.0, max=4.0), HTML(value='')))"
      ]
     },
     "metadata": {},
     "output_type": "display_data"
    },
    {
     "data": {
      "application/vnd.jupyter.widget-view+json": {
       "model_id": "",
       "version_major": 2,
       "version_minor": 0
      },
      "text/plain": [
       "HBox(children=(HTML(value=''), FloatProgress(value=0.0, max=2.0), HTML(value='')))"
      ]
     },
     "metadata": {},
     "output_type": "display_data"
    },
    {
     "data": {
      "application/vnd.jupyter.widget-view+json": {
       "model_id": "",
       "version_major": 2,
       "version_minor": 0
      },
      "text/plain": [
       "HBox(children=(HTML(value=''), FloatProgress(value=0.0, max=1.0), HTML(value='')))"
      ]
     },
     "metadata": {},
     "output_type": "display_data"
    },
    {
     "data": {
      "application/vnd.jupyter.widget-view+json": {
       "model_id": "",
       "version_major": 2,
       "version_minor": 0
      },
      "text/plain": [
       "HBox(children=(HTML(value=''), FloatProgress(value=0.0, max=1.0), HTML(value='')))"
      ]
     },
     "metadata": {},
     "output_type": "display_data"
    },
    {
     "data": {
      "application/vnd.jupyter.widget-view+json": {
       "model_id": "",
       "version_major": 2,
       "version_minor": 0
      },
      "text/plain": [
       "HBox(children=(HTML(value=''), FloatProgress(value=0.0, max=8.0), HTML(value='')))"
      ]
     },
     "metadata": {},
     "output_type": "display_data"
    },
    {
     "data": {
      "application/vnd.jupyter.widget-view+json": {
       "model_id": "",
       "version_major": 2,
       "version_minor": 0
      },
      "text/plain": [
       "HBox(children=(HTML(value=''), FloatProgress(value=0.0, max=4.0), HTML(value='')))"
      ]
     },
     "metadata": {},
     "output_type": "display_data"
    },
    {
     "data": {
      "application/vnd.jupyter.widget-view+json": {
       "model_id": "",
       "version_major": 2,
       "version_minor": 0
      },
      "text/plain": [
       "HBox(children=(HTML(value=''), FloatProgress(value=0.0, max=4.0), HTML(value='')))"
      ]
     },
     "metadata": {},
     "output_type": "display_data"
    },
    {
     "data": {
      "application/vnd.jupyter.widget-view+json": {
       "model_id": "",
       "version_major": 2,
       "version_minor": 0
      },
      "text/plain": [
       "HBox(children=(HTML(value=''), FloatProgress(value=0.0, max=3.0), HTML(value='')))"
      ]
     },
     "metadata": {},
     "output_type": "display_data"
    },
    {
     "data": {
      "application/vnd.jupyter.widget-view+json": {
       "model_id": "",
       "version_major": 2,
       "version_minor": 0
      },
      "text/plain": [
       "HBox(children=(HTML(value=''), FloatProgress(value=0.0, max=14.0), HTML(value='')))"
      ]
     },
     "metadata": {},
     "output_type": "display_data"
    },
    {
     "data": {
      "application/vnd.jupyter.widget-view+json": {
       "model_id": "",
       "version_major": 2,
       "version_minor": 0
      },
      "text/plain": [
       "HBox(children=(HTML(value=''), FloatProgress(value=0.0, max=2.0), HTML(value='')))"
      ]
     },
     "metadata": {},
     "output_type": "display_data"
    },
    {
     "data": {
      "application/vnd.jupyter.widget-view+json": {
       "model_id": "",
       "version_major": 2,
       "version_minor": 0
      },
      "text/plain": [
       "HBox(children=(HTML(value=''), FloatProgress(value=0.0, max=4.0), HTML(value='')))"
      ]
     },
     "metadata": {},
     "output_type": "display_data"
    },
    {
     "data": {
      "application/vnd.jupyter.widget-view+json": {
       "model_id": "",
       "version_major": 2,
       "version_minor": 0
      },
      "text/plain": [
       "HBox(children=(HTML(value=''), FloatProgress(value=0.0, max=2.0), HTML(value='')))"
      ]
     },
     "metadata": {},
     "output_type": "display_data"
    },
    {
     "data": {
      "application/vnd.jupyter.widget-view+json": {
       "model_id": "",
       "version_major": 2,
       "version_minor": 0
      },
      "text/plain": [
       "HBox(children=(HTML(value=''), FloatProgress(value=0.0, max=1.0), HTML(value='')))"
      ]
     },
     "metadata": {},
     "output_type": "display_data"
    },
    {
     "data": {
      "application/vnd.jupyter.widget-view+json": {
       "model_id": "",
       "version_major": 2,
       "version_minor": 0
      },
      "text/plain": [
       "HBox(children=(HTML(value=''), FloatProgress(value=0.0, max=5.0), HTML(value='')))"
      ]
     },
     "metadata": {},
     "output_type": "display_data"
    },
    {
     "data": {
      "application/vnd.jupyter.widget-view+json": {
       "model_id": "",
       "version_major": 2,
       "version_minor": 0
      },
      "text/plain": [
       "HBox(children=(HTML(value=''), FloatProgress(value=0.0, max=11.0), HTML(value='')))"
      ]
     },
     "metadata": {},
     "output_type": "display_data"
    },
    {
     "data": {
      "application/vnd.jupyter.widget-view+json": {
       "model_id": "",
       "version_major": 2,
       "version_minor": 0
      },
      "text/plain": [
       "HBox(children=(HTML(value=''), FloatProgress(value=0.0, max=2.0), HTML(value='')))"
      ]
     },
     "metadata": {},
     "output_type": "display_data"
    },
    {
     "data": {
      "application/vnd.jupyter.widget-view+json": {
       "model_id": "",
       "version_major": 2,
       "version_minor": 0
      },
      "text/plain": [
       "HBox(children=(HTML(value=''), FloatProgress(value=0.0, max=2.0), HTML(value='')))"
      ]
     },
     "metadata": {},
     "output_type": "display_data"
    },
    {
     "data": {
      "application/vnd.jupyter.widget-view+json": {
       "model_id": "",
       "version_major": 2,
       "version_minor": 0
      },
      "text/plain": [
       "HBox(children=(HTML(value=''), FloatProgress(value=0.0, max=1.0), HTML(value='')))"
      ]
     },
     "metadata": {},
     "output_type": "display_data"
    },
    {
     "data": {
      "application/vnd.jupyter.widget-view+json": {
       "model_id": "",
       "version_major": 2,
       "version_minor": 0
      },
      "text/plain": [
       "HBox(children=(HTML(value=''), FloatProgress(value=0.0, max=2.0), HTML(value='')))"
      ]
     },
     "metadata": {},
     "output_type": "display_data"
    },
    {
     "data": {
      "application/vnd.jupyter.widget-view+json": {
       "model_id": "",
       "version_major": 2,
       "version_minor": 0
      },
      "text/plain": [
       "HBox(children=(HTML(value=''), FloatProgress(value=0.0, max=18.0), HTML(value='')))"
      ]
     },
     "metadata": {},
     "output_type": "display_data"
    },
    {
     "data": {
      "application/vnd.jupyter.widget-view+json": {
       "model_id": "",
       "version_major": 2,
       "version_minor": 0
      },
      "text/plain": [
       "HBox(children=(HTML(value=''), FloatProgress(value=0.0, max=6.0), HTML(value='')))"
      ]
     },
     "metadata": {},
     "output_type": "display_data"
    },
    {
     "data": {
      "application/vnd.jupyter.widget-view+json": {
       "model_id": "",
       "version_major": 2,
       "version_minor": 0
      },
      "text/plain": [
       "HBox(children=(HTML(value=''), FloatProgress(value=0.0, max=12.0), HTML(value='')))"
      ]
     },
     "metadata": {},
     "output_type": "display_data"
    },
    {
     "data": {
      "application/vnd.jupyter.widget-view+json": {
       "model_id": "",
       "version_major": 2,
       "version_minor": 0
      },
      "text/plain": [
       "HBox(children=(HTML(value=''), FloatProgress(value=0.0, max=13.0), HTML(value='')))"
      ]
     },
     "metadata": {},
     "output_type": "display_data"
    },
    {
     "data": {
      "application/vnd.jupyter.widget-view+json": {
       "model_id": "",
       "version_major": 2,
       "version_minor": 0
      },
      "text/plain": [
       "HBox(children=(HTML(value=''), FloatProgress(value=0.0, max=2.0), HTML(value='')))"
      ]
     },
     "metadata": {},
     "output_type": "display_data"
    },
    {
     "data": {
      "application/vnd.jupyter.widget-view+json": {
       "model_id": "",
       "version_major": 2,
       "version_minor": 0
      },
      "text/plain": [
       "HBox(children=(HTML(value=''), FloatProgress(value=0.0, max=4.0), HTML(value='')))"
      ]
     },
     "metadata": {},
     "output_type": "display_data"
    },
    {
     "data": {
      "application/vnd.jupyter.widget-view+json": {
       "model_id": "",
       "version_major": 2,
       "version_minor": 0
      },
      "text/plain": [
       "HBox(children=(HTML(value=''), FloatProgress(value=0.0, max=2.0), HTML(value='')))"
      ]
     },
     "metadata": {},
     "output_type": "display_data"
    },
    {
     "data": {
      "application/vnd.jupyter.widget-view+json": {
       "model_id": "",
       "version_major": 2,
       "version_minor": 0
      },
      "text/plain": [
       "HBox(children=(HTML(value=''), FloatProgress(value=0.0, max=10.0), HTML(value='')))"
      ]
     },
     "metadata": {},
     "output_type": "display_data"
    },
    {
     "data": {
      "application/vnd.jupyter.widget-view+json": {
       "model_id": "",
       "version_major": 2,
       "version_minor": 0
      },
      "text/plain": [
       "HBox(children=(HTML(value=''), FloatProgress(value=0.0, max=6.0), HTML(value='')))"
      ]
     },
     "metadata": {},
     "output_type": "display_data"
    },
    {
     "data": {
      "application/vnd.jupyter.widget-view+json": {
       "model_id": "",
       "version_major": 2,
       "version_minor": 0
      },
      "text/plain": [
       "HBox(children=(HTML(value=''), FloatProgress(value=0.0, max=2.0), HTML(value='')))"
      ]
     },
     "metadata": {},
     "output_type": "display_data"
    },
    {
     "data": {
      "application/vnd.jupyter.widget-view+json": {
       "model_id": "",
       "version_major": 2,
       "version_minor": 0
      },
      "text/plain": [
       "HBox(children=(HTML(value=''), FloatProgress(value=0.0, max=1.0), HTML(value='')))"
      ]
     },
     "metadata": {},
     "output_type": "display_data"
    },
    {
     "data": {
      "application/vnd.jupyter.widget-view+json": {
       "model_id": "",
       "version_major": 2,
       "version_minor": 0
      },
      "text/plain": [
       "HBox(children=(HTML(value=''), FloatProgress(value=0.0, max=6.0), HTML(value='')))"
      ]
     },
     "metadata": {},
     "output_type": "display_data"
    },
    {
     "data": {
      "application/vnd.jupyter.widget-view+json": {
       "model_id": "",
       "version_major": 2,
       "version_minor": 0
      },
      "text/plain": [
       "HBox(children=(HTML(value=''), FloatProgress(value=0.0, max=4.0), HTML(value='')))"
      ]
     },
     "metadata": {},
     "output_type": "display_data"
    },
    {
     "data": {
      "application/vnd.jupyter.widget-view+json": {
       "model_id": "",
       "version_major": 2,
       "version_minor": 0
      },
      "text/plain": [
       "HBox(children=(HTML(value=''), FloatProgress(value=0.0, max=13.0), HTML(value='')))"
      ]
     },
     "metadata": {},
     "output_type": "display_data"
    },
    {
     "data": {
      "application/vnd.jupyter.widget-view+json": {
       "model_id": "",
       "version_major": 2,
       "version_minor": 0
      },
      "text/plain": [
       "HBox(children=(HTML(value=''), FloatProgress(value=0.0, max=7.0), HTML(value='')))"
      ]
     },
     "metadata": {},
     "output_type": "display_data"
    },
    {
     "data": {
      "application/vnd.jupyter.widget-view+json": {
       "model_id": "",
       "version_major": 2,
       "version_minor": 0
      },
      "text/plain": [
       "HBox(children=(HTML(value=''), FloatProgress(value=0.0, max=4.0), HTML(value='')))"
      ]
     },
     "metadata": {},
     "output_type": "display_data"
    },
    {
     "data": {
      "application/vnd.jupyter.widget-view+json": {
       "model_id": "",
       "version_major": 2,
       "version_minor": 0
      },
      "text/plain": [
       "HBox(children=(HTML(value=''), FloatProgress(value=0.0, max=5.0), HTML(value='')))"
      ]
     },
     "metadata": {},
     "output_type": "display_data"
    },
    {
     "data": {
      "application/vnd.jupyter.widget-view+json": {
       "model_id": "",
       "version_major": 2,
       "version_minor": 0
      },
      "text/plain": [
       "HBox(children=(HTML(value=''), FloatProgress(value=0.0, max=2.0), HTML(value='')))"
      ]
     },
     "metadata": {},
     "output_type": "display_data"
    },
    {
     "data": {
      "application/vnd.jupyter.widget-view+json": {
       "model_id": "",
       "version_major": 2,
       "version_minor": 0
      },
      "text/plain": [
       "HBox(children=(HTML(value=''), FloatProgress(value=0.0, max=5.0), HTML(value='')))"
      ]
     },
     "metadata": {},
     "output_type": "display_data"
    },
    {
     "data": {
      "application/vnd.jupyter.widget-view+json": {
       "model_id": "",
       "version_major": 2,
       "version_minor": 0
      },
      "text/plain": [
       "HBox(children=(HTML(value=''), FloatProgress(value=0.0, max=10.0), HTML(value='')))"
      ]
     },
     "metadata": {},
     "output_type": "display_data"
    },
    {
     "data": {
      "application/vnd.jupyter.widget-view+json": {
       "model_id": "",
       "version_major": 2,
       "version_minor": 0
      },
      "text/plain": [
       "HBox(children=(HTML(value=''), FloatProgress(value=0.0, max=5.0), HTML(value='')))"
      ]
     },
     "metadata": {},
     "output_type": "display_data"
    },
    {
     "data": {
      "application/vnd.jupyter.widget-view+json": {
       "model_id": "",
       "version_major": 2,
       "version_minor": 0
      },
      "text/plain": [
       "HBox(children=(HTML(value=''), FloatProgress(value=0.0, max=1.0), HTML(value='')))"
      ]
     },
     "metadata": {},
     "output_type": "display_data"
    },
    {
     "data": {
      "application/vnd.jupyter.widget-view+json": {
       "model_id": "",
       "version_major": 2,
       "version_minor": 0
      },
      "text/plain": [
       "HBox(children=(HTML(value=''), FloatProgress(value=0.0, max=6.0), HTML(value='')))"
      ]
     },
     "metadata": {},
     "output_type": "display_data"
    },
    {
     "data": {
      "application/vnd.jupyter.widget-view+json": {
       "model_id": "",
       "version_major": 2,
       "version_minor": 0
      },
      "text/plain": [
       "HBox(children=(HTML(value=''), FloatProgress(value=0.0, max=45.0), HTML(value='')))"
      ]
     },
     "metadata": {},
     "output_type": "display_data"
    },
    {
     "data": {
      "application/vnd.jupyter.widget-view+json": {
       "model_id": "",
       "version_major": 2,
       "version_minor": 0
      },
      "text/plain": [
       "HBox(children=(HTML(value=''), FloatProgress(value=0.0, max=1.0), HTML(value='')))"
      ]
     },
     "metadata": {},
     "output_type": "display_data"
    },
    {
     "data": {
      "application/vnd.jupyter.widget-view+json": {
       "model_id": "",
       "version_major": 2,
       "version_minor": 0
      },
      "text/plain": [
       "HBox(children=(HTML(value=''), FloatProgress(value=0.0, max=21.0), HTML(value='')))"
      ]
     },
     "metadata": {},
     "output_type": "display_data"
    },
    {
     "data": {
      "application/vnd.jupyter.widget-view+json": {
       "model_id": "",
       "version_major": 2,
       "version_minor": 0
      },
      "text/plain": [
       "HBox(children=(HTML(value=''), FloatProgress(value=0.0, max=3.0), HTML(value='')))"
      ]
     },
     "metadata": {},
     "output_type": "display_data"
    },
    {
     "data": {
      "application/vnd.jupyter.widget-view+json": {
       "model_id": "",
       "version_major": 2,
       "version_minor": 0
      },
      "text/plain": [
       "HBox(children=(HTML(value=''), FloatProgress(value=0.0, max=2.0), HTML(value='')))"
      ]
     },
     "metadata": {},
     "output_type": "display_data"
    },
    {
     "data": {
      "application/vnd.jupyter.widget-view+json": {
       "model_id": "",
       "version_major": 2,
       "version_minor": 0
      },
      "text/plain": [
       "HBox(children=(HTML(value=''), FloatProgress(value=0.0, max=20.0), HTML(value='')))"
      ]
     },
     "metadata": {},
     "output_type": "display_data"
    },
    {
     "data": {
      "application/vnd.jupyter.widget-view+json": {
       "model_id": "",
       "version_major": 2,
       "version_minor": 0
      },
      "text/plain": [
       "HBox(children=(HTML(value=''), FloatProgress(value=0.0, max=1.0), HTML(value='')))"
      ]
     },
     "metadata": {},
     "output_type": "display_data"
    },
    {
     "data": {
      "application/vnd.jupyter.widget-view+json": {
       "model_id": "",
       "version_major": 2,
       "version_minor": 0
      },
      "text/plain": [
       "HBox(children=(HTML(value=''), FloatProgress(value=0.0, max=1.0), HTML(value='')))"
      ]
     },
     "metadata": {},
     "output_type": "display_data"
    },
    {
     "data": {
      "application/vnd.jupyter.widget-view+json": {
       "model_id": "",
       "version_major": 2,
       "version_minor": 0
      },
      "text/plain": [
       "HBox(children=(HTML(value=''), FloatProgress(value=0.0, max=5.0), HTML(value='')))"
      ]
     },
     "metadata": {},
     "output_type": "display_data"
    },
    {
     "data": {
      "application/vnd.jupyter.widget-view+json": {
       "model_id": "",
       "version_major": 2,
       "version_minor": 0
      },
      "text/plain": [
       "HBox(children=(HTML(value=''), FloatProgress(value=0.0, max=3.0), HTML(value='')))"
      ]
     },
     "metadata": {},
     "output_type": "display_data"
    },
    {
     "data": {
      "application/vnd.jupyter.widget-view+json": {
       "model_id": "",
       "version_major": 2,
       "version_minor": 0
      },
      "text/plain": [
       "HBox(children=(HTML(value=''), FloatProgress(value=0.0, max=1.0), HTML(value='')))"
      ]
     },
     "metadata": {},
     "output_type": "display_data"
    },
    {
     "data": {
      "application/vnd.jupyter.widget-view+json": {
       "model_id": "",
       "version_major": 2,
       "version_minor": 0
      },
      "text/plain": [
       "HBox(children=(HTML(value=''), FloatProgress(value=0.0, max=6.0), HTML(value='')))"
      ]
     },
     "metadata": {},
     "output_type": "display_data"
    },
    {
     "data": {
      "application/vnd.jupyter.widget-view+json": {
       "model_id": "",
       "version_major": 2,
       "version_minor": 0
      },
      "text/plain": [
       "HBox(children=(HTML(value=''), FloatProgress(value=0.0, max=1.0), HTML(value='')))"
      ]
     },
     "metadata": {},
     "output_type": "display_data"
    },
    {
     "data": {
      "application/vnd.jupyter.widget-view+json": {
       "model_id": "",
       "version_major": 2,
       "version_minor": 0
      },
      "text/plain": [
       "HBox(children=(HTML(value=''), FloatProgress(value=0.0, max=1.0), HTML(value='')))"
      ]
     },
     "metadata": {},
     "output_type": "display_data"
    },
    {
     "data": {
      "application/vnd.jupyter.widget-view+json": {
       "model_id": "",
       "version_major": 2,
       "version_minor": 0
      },
      "text/plain": [
       "HBox(children=(HTML(value=''), FloatProgress(value=0.0, max=4.0), HTML(value='')))"
      ]
     },
     "metadata": {},
     "output_type": "display_data"
    },
    {
     "data": {
      "application/vnd.jupyter.widget-view+json": {
       "model_id": "",
       "version_major": 2,
       "version_minor": 0
      },
      "text/plain": [
       "HBox(children=(HTML(value=''), FloatProgress(value=0.0, max=1.0), HTML(value='')))"
      ]
     },
     "metadata": {},
     "output_type": "display_data"
    },
    {
     "data": {
      "application/vnd.jupyter.widget-view+json": {
       "model_id": "",
       "version_major": 2,
       "version_minor": 0
      },
      "text/plain": [
       "HBox(children=(HTML(value=''), FloatProgress(value=0.0, max=4.0), HTML(value='')))"
      ]
     },
     "metadata": {},
     "output_type": "display_data"
    },
    {
     "data": {
      "application/vnd.jupyter.widget-view+json": {
       "model_id": "",
       "version_major": 2,
       "version_minor": 0
      },
      "text/plain": [
       "HBox(children=(HTML(value=''), FloatProgress(value=0.0, max=1.0), HTML(value='')))"
      ]
     },
     "metadata": {},
     "output_type": "display_data"
    },
    {
     "data": {
      "application/vnd.jupyter.widget-view+json": {
       "model_id": "",
       "version_major": 2,
       "version_minor": 0
      },
      "text/plain": [
       "HBox(children=(HTML(value=''), FloatProgress(value=0.0, max=7.0), HTML(value='')))"
      ]
     },
     "metadata": {},
     "output_type": "display_data"
    },
    {
     "data": {
      "application/vnd.jupyter.widget-view+json": {
       "model_id": "",
       "version_major": 2,
       "version_minor": 0
      },
      "text/plain": [
       "HBox(children=(HTML(value=''), FloatProgress(value=0.0, max=8.0), HTML(value='')))"
      ]
     },
     "metadata": {},
     "output_type": "display_data"
    },
    {
     "data": {
      "application/vnd.jupyter.widget-view+json": {
       "model_id": "",
       "version_major": 2,
       "version_minor": 0
      },
      "text/plain": [
       "HBox(children=(HTML(value=''), FloatProgress(value=0.0, max=1.0), HTML(value='')))"
      ]
     },
     "metadata": {},
     "output_type": "display_data"
    },
    {
     "data": {
      "application/vnd.jupyter.widget-view+json": {
       "model_id": "",
       "version_major": 2,
       "version_minor": 0
      },
      "text/plain": [
       "HBox(children=(HTML(value=''), FloatProgress(value=0.0, max=8.0), HTML(value='')))"
      ]
     },
     "metadata": {},
     "output_type": "display_data"
    },
    {
     "data": {
      "application/vnd.jupyter.widget-view+json": {
       "model_id": "",
       "version_major": 2,
       "version_minor": 0
      },
      "text/plain": [
       "HBox(children=(HTML(value=''), FloatProgress(value=0.0, max=26.0), HTML(value='')))"
      ]
     },
     "metadata": {},
     "output_type": "display_data"
    },
    {
     "data": {
      "application/vnd.jupyter.widget-view+json": {
       "model_id": "",
       "version_major": 2,
       "version_minor": 0
      },
      "text/plain": [
       "HBox(children=(HTML(value=''), FloatProgress(value=0.0, max=4.0), HTML(value='')))"
      ]
     },
     "metadata": {},
     "output_type": "display_data"
    },
    {
     "data": {
      "application/vnd.jupyter.widget-view+json": {
       "model_id": "",
       "version_major": 2,
       "version_minor": 0
      },
      "text/plain": [
       "HBox(children=(HTML(value=''), FloatProgress(value=0.0, max=1.0), HTML(value='')))"
      ]
     },
     "metadata": {},
     "output_type": "display_data"
    },
    {
     "data": {
      "application/vnd.jupyter.widget-view+json": {
       "model_id": "",
       "version_major": 2,
       "version_minor": 0
      },
      "text/plain": [
       "HBox(children=(HTML(value=''), FloatProgress(value=0.0, max=8.0), HTML(value='')))"
      ]
     },
     "metadata": {},
     "output_type": "display_data"
    },
    {
     "data": {
      "application/vnd.jupyter.widget-view+json": {
       "model_id": "",
       "version_major": 2,
       "version_minor": 0
      },
      "text/plain": [
       "HBox(children=(HTML(value=''), FloatProgress(value=0.0, max=2.0), HTML(value='')))"
      ]
     },
     "metadata": {},
     "output_type": "display_data"
    },
    {
     "data": {
      "application/vnd.jupyter.widget-view+json": {
       "model_id": "",
       "version_major": 2,
       "version_minor": 0
      },
      "text/plain": [
       "HBox(children=(HTML(value=''), FloatProgress(value=0.0, max=78.0), HTML(value='')))"
      ]
     },
     "metadata": {},
     "output_type": "display_data"
    },
    {
     "data": {
      "application/vnd.jupyter.widget-view+json": {
       "model_id": "",
       "version_major": 2,
       "version_minor": 0
      },
      "text/plain": [
       "HBox(children=(HTML(value=''), FloatProgress(value=0.0, max=1.0), HTML(value='')))"
      ]
     },
     "metadata": {},
     "output_type": "display_data"
    },
    {
     "data": {
      "application/vnd.jupyter.widget-view+json": {
       "model_id": "",
       "version_major": 2,
       "version_minor": 0
      },
      "text/plain": [
       "HBox(children=(HTML(value=''), FloatProgress(value=0.0, max=3.0), HTML(value='')))"
      ]
     },
     "metadata": {},
     "output_type": "display_data"
    },
    {
     "data": {
      "application/vnd.jupyter.widget-view+json": {
       "model_id": "",
       "version_major": 2,
       "version_minor": 0
      },
      "text/plain": [
       "HBox(children=(HTML(value=''), FloatProgress(value=0.0, max=4.0), HTML(value='')))"
      ]
     },
     "metadata": {},
     "output_type": "display_data"
    },
    {
     "data": {
      "application/vnd.jupyter.widget-view+json": {
       "model_id": "",
       "version_major": 2,
       "version_minor": 0
      },
      "text/plain": [
       "HBox(children=(HTML(value=''), FloatProgress(value=0.0, max=4.0), HTML(value='')))"
      ]
     },
     "metadata": {},
     "output_type": "display_data"
    },
    {
     "data": {
      "application/vnd.jupyter.widget-view+json": {
       "model_id": "",
       "version_major": 2,
       "version_minor": 0
      },
      "text/plain": [
       "HBox(children=(HTML(value=''), FloatProgress(value=0.0, max=2.0), HTML(value='')))"
      ]
     },
     "metadata": {},
     "output_type": "display_data"
    },
    {
     "data": {
      "application/vnd.jupyter.widget-view+json": {
       "model_id": "",
       "version_major": 2,
       "version_minor": 0
      },
      "text/plain": [
       "HBox(children=(HTML(value=''), FloatProgress(value=0.0, max=1.0), HTML(value='')))"
      ]
     },
     "metadata": {},
     "output_type": "display_data"
    },
    {
     "data": {
      "application/vnd.jupyter.widget-view+json": {
       "model_id": "",
       "version_major": 2,
       "version_minor": 0
      },
      "text/plain": [
       "HBox(children=(HTML(value=''), FloatProgress(value=0.0, max=5.0), HTML(value='')))"
      ]
     },
     "metadata": {},
     "output_type": "display_data"
    },
    {
     "data": {
      "application/vnd.jupyter.widget-view+json": {
       "model_id": "",
       "version_major": 2,
       "version_minor": 0
      },
      "text/plain": [
       "HBox(children=(HTML(value=''), FloatProgress(value=0.0, max=15.0), HTML(value='')))"
      ]
     },
     "metadata": {},
     "output_type": "display_data"
    },
    {
     "data": {
      "application/vnd.jupyter.widget-view+json": {
       "model_id": "",
       "version_major": 2,
       "version_minor": 0
      },
      "text/plain": [
       "HBox(children=(HTML(value=''), FloatProgress(value=0.0, max=1.0), HTML(value='')))"
      ]
     },
     "metadata": {},
     "output_type": "display_data"
    },
    {
     "data": {
      "application/vnd.jupyter.widget-view+json": {
       "model_id": "",
       "version_major": 2,
       "version_minor": 0
      },
      "text/plain": [
       "HBox(children=(HTML(value=''), FloatProgress(value=0.0, max=8.0), HTML(value='')))"
      ]
     },
     "metadata": {},
     "output_type": "display_data"
    },
    {
     "data": {
      "application/vnd.jupyter.widget-view+json": {
       "model_id": "",
       "version_major": 2,
       "version_minor": 0
      },
      "text/plain": [
       "HBox(children=(HTML(value=''), FloatProgress(value=0.0, max=9.0), HTML(value='')))"
      ]
     },
     "metadata": {},
     "output_type": "display_data"
    },
    {
     "data": {
      "application/vnd.jupyter.widget-view+json": {
       "model_id": "",
       "version_major": 2,
       "version_minor": 0
      },
      "text/plain": [
       "HBox(children=(HTML(value=''), FloatProgress(value=0.0, max=13.0), HTML(value='')))"
      ]
     },
     "metadata": {},
     "output_type": "display_data"
    },
    {
     "data": {
      "application/vnd.jupyter.widget-view+json": {
       "model_id": "",
       "version_major": 2,
       "version_minor": 0
      },
      "text/plain": [
       "HBox(children=(HTML(value=''), FloatProgress(value=0.0, max=1.0), HTML(value='')))"
      ]
     },
     "metadata": {},
     "output_type": "display_data"
    },
    {
     "data": {
      "application/vnd.jupyter.widget-view+json": {
       "model_id": "",
       "version_major": 2,
       "version_minor": 0
      },
      "text/plain": [
       "HBox(children=(HTML(value=''), FloatProgress(value=0.0, max=9.0), HTML(value='')))"
      ]
     },
     "metadata": {},
     "output_type": "display_data"
    },
    {
     "data": {
      "application/vnd.jupyter.widget-view+json": {
       "model_id": "",
       "version_major": 2,
       "version_minor": 0
      },
      "text/plain": [
       "HBox(children=(HTML(value=''), FloatProgress(value=0.0, max=5.0), HTML(value='')))"
      ]
     },
     "metadata": {},
     "output_type": "display_data"
    },
    {
     "data": {
      "application/vnd.jupyter.widget-view+json": {
       "model_id": "",
       "version_major": 2,
       "version_minor": 0
      },
      "text/plain": [
       "HBox(children=(HTML(value=''), FloatProgress(value=0.0, max=6.0), HTML(value='')))"
      ]
     },
     "metadata": {},
     "output_type": "display_data"
    },
    {
     "data": {
      "application/vnd.jupyter.widget-view+json": {
       "model_id": "",
       "version_major": 2,
       "version_minor": 0
      },
      "text/plain": [
       "HBox(children=(HTML(value=''), FloatProgress(value=0.0, max=2.0), HTML(value='')))"
      ]
     },
     "metadata": {},
     "output_type": "display_data"
    },
    {
     "data": {
      "application/vnd.jupyter.widget-view+json": {
       "model_id": "",
       "version_major": 2,
       "version_minor": 0
      },
      "text/plain": [
       "HBox(children=(HTML(value=''), FloatProgress(value=0.0, max=2.0), HTML(value='')))"
      ]
     },
     "metadata": {},
     "output_type": "display_data"
    },
    {
     "data": {
      "application/vnd.jupyter.widget-view+json": {
       "model_id": "",
       "version_major": 2,
       "version_minor": 0
      },
      "text/plain": [
       "HBox(children=(HTML(value=''), FloatProgress(value=0.0, max=2.0), HTML(value='')))"
      ]
     },
     "metadata": {},
     "output_type": "display_data"
    },
    {
     "data": {
      "application/vnd.jupyter.widget-view+json": {
       "model_id": "",
       "version_major": 2,
       "version_minor": 0
      },
      "text/plain": [
       "HBox(children=(HTML(value=''), FloatProgress(value=0.0, max=8.0), HTML(value='')))"
      ]
     },
     "metadata": {},
     "output_type": "display_data"
    },
    {
     "data": {
      "application/vnd.jupyter.widget-view+json": {
       "model_id": "",
       "version_major": 2,
       "version_minor": 0
      },
      "text/plain": [
       "HBox(children=(HTML(value=''), FloatProgress(value=0.0, max=1.0), HTML(value='')))"
      ]
     },
     "metadata": {},
     "output_type": "display_data"
    },
    {
     "data": {
      "application/vnd.jupyter.widget-view+json": {
       "model_id": "",
       "version_major": 2,
       "version_minor": 0
      },
      "text/plain": [
       "HBox(children=(HTML(value=''), FloatProgress(value=0.0, max=1.0), HTML(value='')))"
      ]
     },
     "metadata": {},
     "output_type": "display_data"
    },
    {
     "data": {
      "application/vnd.jupyter.widget-view+json": {
       "model_id": "",
       "version_major": 2,
       "version_minor": 0
      },
      "text/plain": [
       "HBox(children=(HTML(value=''), FloatProgress(value=0.0, max=14.0), HTML(value='')))"
      ]
     },
     "metadata": {},
     "output_type": "display_data"
    },
    {
     "data": {
      "application/vnd.jupyter.widget-view+json": {
       "model_id": "",
       "version_major": 2,
       "version_minor": 0
      },
      "text/plain": [
       "HBox(children=(HTML(value=''), FloatProgress(value=0.0, max=1.0), HTML(value='')))"
      ]
     },
     "metadata": {},
     "output_type": "display_data"
    },
    {
     "data": {
      "application/vnd.jupyter.widget-view+json": {
       "model_id": "",
       "version_major": 2,
       "version_minor": 0
      },
      "text/plain": [
       "HBox(children=(HTML(value=''), FloatProgress(value=0.0, max=3.0), HTML(value='')))"
      ]
     },
     "metadata": {},
     "output_type": "display_data"
    },
    {
     "data": {
      "application/vnd.jupyter.widget-view+json": {
       "model_id": "",
       "version_major": 2,
       "version_minor": 0
      },
      "text/plain": [
       "HBox(children=(HTML(value=''), FloatProgress(value=0.0, max=10.0), HTML(value='')))"
      ]
     },
     "metadata": {},
     "output_type": "display_data"
    },
    {
     "data": {
      "application/vnd.jupyter.widget-view+json": {
       "model_id": "",
       "version_major": 2,
       "version_minor": 0
      },
      "text/plain": [
       "HBox(children=(HTML(value=''), FloatProgress(value=0.0, max=4.0), HTML(value='')))"
      ]
     },
     "metadata": {},
     "output_type": "display_data"
    },
    {
     "data": {
      "application/vnd.jupyter.widget-view+json": {
       "model_id": "",
       "version_major": 2,
       "version_minor": 0
      },
      "text/plain": [
       "HBox(children=(HTML(value=''), FloatProgress(value=0.0, max=1.0), HTML(value='')))"
      ]
     },
     "metadata": {},
     "output_type": "display_data"
    },
    {
     "data": {
      "application/vnd.jupyter.widget-view+json": {
       "model_id": "",
       "version_major": 2,
       "version_minor": 0
      },
      "text/plain": [
       "HBox(children=(HTML(value=''), FloatProgress(value=0.0, max=97.0), HTML(value='')))"
      ]
     },
     "metadata": {},
     "output_type": "display_data"
    },
    {
     "data": {
      "application/vnd.jupyter.widget-view+json": {
       "model_id": "",
       "version_major": 2,
       "version_minor": 0
      },
      "text/plain": [
       "HBox(children=(HTML(value=''), FloatProgress(value=0.0, max=3.0), HTML(value='')))"
      ]
     },
     "metadata": {},
     "output_type": "display_data"
    },
    {
     "data": {
      "application/vnd.jupyter.widget-view+json": {
       "model_id": "",
       "version_major": 2,
       "version_minor": 0
      },
      "text/plain": [
       "HBox(children=(HTML(value=''), FloatProgress(value=0.0, max=91.0), HTML(value='')))"
      ]
     },
     "metadata": {},
     "output_type": "display_data"
    },
    {
     "data": {
      "application/vnd.jupyter.widget-view+json": {
       "model_id": "",
       "version_major": 2,
       "version_minor": 0
      },
      "text/plain": [
       "HBox(children=(HTML(value=''), FloatProgress(value=0.0, max=9.0), HTML(value='')))"
      ]
     },
     "metadata": {},
     "output_type": "display_data"
    },
    {
     "data": {
      "application/vnd.jupyter.widget-view+json": {
       "model_id": "",
       "version_major": 2,
       "version_minor": 0
      },
      "text/plain": [
       "HBox(children=(HTML(value=''), FloatProgress(value=0.0, max=3.0), HTML(value='')))"
      ]
     },
     "metadata": {},
     "output_type": "display_data"
    },
    {
     "data": {
      "application/vnd.jupyter.widget-view+json": {
       "model_id": "",
       "version_major": 2,
       "version_minor": 0
      },
      "text/plain": [
       "HBox(children=(HTML(value=''), FloatProgress(value=0.0, max=9.0), HTML(value='')))"
      ]
     },
     "metadata": {},
     "output_type": "display_data"
    },
    {
     "data": {
      "application/vnd.jupyter.widget-view+json": {
       "model_id": "",
       "version_major": 2,
       "version_minor": 0
      },
      "text/plain": [
       "HBox(children=(HTML(value=''), FloatProgress(value=0.0, max=2.0), HTML(value='')))"
      ]
     },
     "metadata": {},
     "output_type": "display_data"
    },
    {
     "data": {
      "application/vnd.jupyter.widget-view+json": {
       "model_id": "",
       "version_major": 2,
       "version_minor": 0
      },
      "text/plain": [
       "HBox(children=(HTML(value=''), FloatProgress(value=0.0, max=9.0), HTML(value='')))"
      ]
     },
     "metadata": {},
     "output_type": "display_data"
    },
    {
     "data": {
      "application/vnd.jupyter.widget-view+json": {
       "model_id": "",
       "version_major": 2,
       "version_minor": 0
      },
      "text/plain": [
       "HBox(children=(HTML(value=''), FloatProgress(value=0.0, max=5.0), HTML(value='')))"
      ]
     },
     "metadata": {},
     "output_type": "display_data"
    },
    {
     "data": {
      "application/vnd.jupyter.widget-view+json": {
       "model_id": "",
       "version_major": 2,
       "version_minor": 0
      },
      "text/plain": [
       "HBox(children=(HTML(value=''), FloatProgress(value=0.0, max=2.0), HTML(value='')))"
      ]
     },
     "metadata": {},
     "output_type": "display_data"
    },
    {
     "data": {
      "application/vnd.jupyter.widget-view+json": {
       "model_id": "",
       "version_major": 2,
       "version_minor": 0
      },
      "text/plain": [
       "HBox(children=(HTML(value=''), FloatProgress(value=0.0, max=3.0), HTML(value='')))"
      ]
     },
     "metadata": {},
     "output_type": "display_data"
    },
    {
     "data": {
      "application/vnd.jupyter.widget-view+json": {
       "model_id": "",
       "version_major": 2,
       "version_minor": 0
      },
      "text/plain": [
       "HBox(children=(HTML(value=''), FloatProgress(value=0.0, max=5.0), HTML(value='')))"
      ]
     },
     "metadata": {},
     "output_type": "display_data"
    },
    {
     "data": {
      "application/vnd.jupyter.widget-view+json": {
       "model_id": "",
       "version_major": 2,
       "version_minor": 0
      },
      "text/plain": [
       "HBox(children=(HTML(value=''), FloatProgress(value=0.0, max=1.0), HTML(value='')))"
      ]
     },
     "metadata": {},
     "output_type": "display_data"
    },
    {
     "data": {
      "application/vnd.jupyter.widget-view+json": {
       "model_id": "",
       "version_major": 2,
       "version_minor": 0
      },
      "text/plain": [
       "HBox(children=(HTML(value=''), FloatProgress(value=0.0, max=7.0), HTML(value='')))"
      ]
     },
     "metadata": {},
     "output_type": "display_data"
    },
    {
     "data": {
      "application/vnd.jupyter.widget-view+json": {
       "model_id": "",
       "version_major": 2,
       "version_minor": 0
      },
      "text/plain": [
       "HBox(children=(HTML(value=''), FloatProgress(value=0.0, max=2.0), HTML(value='')))"
      ]
     },
     "metadata": {},
     "output_type": "display_data"
    },
    {
     "data": {
      "application/vnd.jupyter.widget-view+json": {
       "model_id": "",
       "version_major": 2,
       "version_minor": 0
      },
      "text/plain": [
       "HBox(children=(HTML(value=''), FloatProgress(value=0.0, max=2.0), HTML(value='')))"
      ]
     },
     "metadata": {},
     "output_type": "display_data"
    },
    {
     "data": {
      "application/vnd.jupyter.widget-view+json": {
       "model_id": "",
       "version_major": 2,
       "version_minor": 0
      },
      "text/plain": [
       "HBox(children=(HTML(value=''), FloatProgress(value=0.0, max=9.0), HTML(value='')))"
      ]
     },
     "metadata": {},
     "output_type": "display_data"
    },
    {
     "data": {
      "application/vnd.jupyter.widget-view+json": {
       "model_id": "",
       "version_major": 2,
       "version_minor": 0
      },
      "text/plain": [
       "HBox(children=(HTML(value=''), FloatProgress(value=0.0, max=3.0), HTML(value='')))"
      ]
     },
     "metadata": {},
     "output_type": "display_data"
    },
    {
     "data": {
      "application/vnd.jupyter.widget-view+json": {
       "model_id": "",
       "version_major": 2,
       "version_minor": 0
      },
      "text/plain": [
       "HBox(children=(HTML(value=''), FloatProgress(value=0.0, max=7.0), HTML(value='')))"
      ]
     },
     "metadata": {},
     "output_type": "display_data"
    },
    {
     "data": {
      "application/vnd.jupyter.widget-view+json": {
       "model_id": "",
       "version_major": 2,
       "version_minor": 0
      },
      "text/plain": [
       "HBox(children=(HTML(value=''), FloatProgress(value=0.0, max=2.0), HTML(value='')))"
      ]
     },
     "metadata": {},
     "output_type": "display_data"
    },
    {
     "data": {
      "application/vnd.jupyter.widget-view+json": {
       "model_id": "",
       "version_major": 2,
       "version_minor": 0
      },
      "text/plain": [
       "HBox(children=(HTML(value=''), FloatProgress(value=0.0, max=15.0), HTML(value='')))"
      ]
     },
     "metadata": {},
     "output_type": "display_data"
    },
    {
     "data": {
      "application/vnd.jupyter.widget-view+json": {
       "model_id": "",
       "version_major": 2,
       "version_minor": 0
      },
      "text/plain": [
       "HBox(children=(HTML(value=''), FloatProgress(value=0.0, max=1.0), HTML(value='')))"
      ]
     },
     "metadata": {},
     "output_type": "display_data"
    },
    {
     "data": {
      "application/vnd.jupyter.widget-view+json": {
       "model_id": "",
       "version_major": 2,
       "version_minor": 0
      },
      "text/plain": [
       "HBox(children=(HTML(value=''), FloatProgress(value=0.0, max=2.0), HTML(value='')))"
      ]
     },
     "metadata": {},
     "output_type": "display_data"
    },
    {
     "data": {
      "application/vnd.jupyter.widget-view+json": {
       "model_id": "",
       "version_major": 2,
       "version_minor": 0
      },
      "text/plain": [
       "HBox(children=(HTML(value=''), FloatProgress(value=0.0, max=8.0), HTML(value='')))"
      ]
     },
     "metadata": {},
     "output_type": "display_data"
    },
    {
     "data": {
      "application/vnd.jupyter.widget-view+json": {
       "model_id": "",
       "version_major": 2,
       "version_minor": 0
      },
      "text/plain": [
       "HBox(children=(HTML(value=''), FloatProgress(value=0.0, max=3.0), HTML(value='')))"
      ]
     },
     "metadata": {},
     "output_type": "display_data"
    },
    {
     "data": {
      "application/vnd.jupyter.widget-view+json": {
       "model_id": "",
       "version_major": 2,
       "version_minor": 0
      },
      "text/plain": [
       "HBox(children=(HTML(value=''), FloatProgress(value=0.0, max=1.0), HTML(value='')))"
      ]
     },
     "metadata": {},
     "output_type": "display_data"
    },
    {
     "data": {
      "application/vnd.jupyter.widget-view+json": {
       "model_id": "",
       "version_major": 2,
       "version_minor": 0
      },
      "text/plain": [
       "HBox(children=(HTML(value=''), FloatProgress(value=0.0, max=5.0), HTML(value='')))"
      ]
     },
     "metadata": {},
     "output_type": "display_data"
    },
    {
     "data": {
      "application/vnd.jupyter.widget-view+json": {
       "model_id": "",
       "version_major": 2,
       "version_minor": 0
      },
      "text/plain": [
       "HBox(children=(HTML(value=''), FloatProgress(value=0.0, max=1.0), HTML(value='')))"
      ]
     },
     "metadata": {},
     "output_type": "display_data"
    },
    {
     "data": {
      "application/vnd.jupyter.widget-view+json": {
       "model_id": "",
       "version_major": 2,
       "version_minor": 0
      },
      "text/plain": [
       "HBox(children=(HTML(value=''), FloatProgress(value=0.0, max=2.0), HTML(value='')))"
      ]
     },
     "metadata": {},
     "output_type": "display_data"
    },
    {
     "data": {
      "application/vnd.jupyter.widget-view+json": {
       "model_id": "",
       "version_major": 2,
       "version_minor": 0
      },
      "text/plain": [
       "HBox(children=(HTML(value=''), FloatProgress(value=0.0, max=5.0), HTML(value='')))"
      ]
     },
     "metadata": {},
     "output_type": "display_data"
    },
    {
     "data": {
      "application/vnd.jupyter.widget-view+json": {
       "model_id": "",
       "version_major": 2,
       "version_minor": 0
      },
      "text/plain": [
       "HBox(children=(HTML(value=''), FloatProgress(value=0.0, max=2.0), HTML(value='')))"
      ]
     },
     "metadata": {},
     "output_type": "display_data"
    },
    {
     "data": {
      "application/vnd.jupyter.widget-view+json": {
       "model_id": "",
       "version_major": 2,
       "version_minor": 0
      },
      "text/plain": [
       "HBox(children=(HTML(value=''), FloatProgress(value=0.0, max=6.0), HTML(value='')))"
      ]
     },
     "metadata": {},
     "output_type": "display_data"
    },
    {
     "data": {
      "application/vnd.jupyter.widget-view+json": {
       "model_id": "",
       "version_major": 2,
       "version_minor": 0
      },
      "text/plain": [
       "HBox(children=(HTML(value=''), FloatProgress(value=0.0, max=4.0), HTML(value='')))"
      ]
     },
     "metadata": {},
     "output_type": "display_data"
    },
    {
     "data": {
      "application/vnd.jupyter.widget-view+json": {
       "model_id": "",
       "version_major": 2,
       "version_minor": 0
      },
      "text/plain": [
       "HBox(children=(HTML(value=''), FloatProgress(value=0.0, max=3.0), HTML(value='')))"
      ]
     },
     "metadata": {},
     "output_type": "display_data"
    },
    {
     "data": {
      "application/vnd.jupyter.widget-view+json": {
       "model_id": "",
       "version_major": 2,
       "version_minor": 0
      },
      "text/plain": [
       "HBox(children=(HTML(value=''), FloatProgress(value=0.0, max=7.0), HTML(value='')))"
      ]
     },
     "metadata": {},
     "output_type": "display_data"
    },
    {
     "data": {
      "application/vnd.jupyter.widget-view+json": {
       "model_id": "",
       "version_major": 2,
       "version_minor": 0
      },
      "text/plain": [
       "HBox(children=(HTML(value=''), FloatProgress(value=0.0, max=2.0), HTML(value='')))"
      ]
     },
     "metadata": {},
     "output_type": "display_data"
    },
    {
     "data": {
      "application/vnd.jupyter.widget-view+json": {
       "model_id": "",
       "version_major": 2,
       "version_minor": 0
      },
      "text/plain": [
       "HBox(children=(HTML(value=''), FloatProgress(value=0.0, max=1.0), HTML(value='')))"
      ]
     },
     "metadata": {},
     "output_type": "display_data"
    },
    {
     "data": {
      "application/vnd.jupyter.widget-view+json": {
       "model_id": "",
       "version_major": 2,
       "version_minor": 0
      },
      "text/plain": [
       "HBox(children=(HTML(value=''), FloatProgress(value=0.0, max=5.0), HTML(value='')))"
      ]
     },
     "metadata": {},
     "output_type": "display_data"
    },
    {
     "data": {
      "application/vnd.jupyter.widget-view+json": {
       "model_id": "",
       "version_major": 2,
       "version_minor": 0
      },
      "text/plain": [
       "HBox(children=(HTML(value=''), FloatProgress(value=0.0, max=2.0), HTML(value='')))"
      ]
     },
     "metadata": {},
     "output_type": "display_data"
    },
    {
     "data": {
      "application/vnd.jupyter.widget-view+json": {
       "model_id": "",
       "version_major": 2,
       "version_minor": 0
      },
      "text/plain": [
       "HBox(children=(HTML(value=''), FloatProgress(value=0.0, max=3.0), HTML(value='')))"
      ]
     },
     "metadata": {},
     "output_type": "display_data"
    },
    {
     "data": {
      "application/vnd.jupyter.widget-view+json": {
       "model_id": "",
       "version_major": 2,
       "version_minor": 0
      },
      "text/plain": [
       "HBox(children=(HTML(value=''), FloatProgress(value=0.0, max=9.0), HTML(value='')))"
      ]
     },
     "metadata": {},
     "output_type": "display_data"
    },
    {
     "data": {
      "application/vnd.jupyter.widget-view+json": {
       "model_id": "",
       "version_major": 2,
       "version_minor": 0
      },
      "text/plain": [
       "HBox(children=(HTML(value=''), FloatProgress(value=0.0, max=10.0), HTML(value='')))"
      ]
     },
     "metadata": {},
     "output_type": "display_data"
    },
    {
     "data": {
      "application/vnd.jupyter.widget-view+json": {
       "model_id": "",
       "version_major": 2,
       "version_minor": 0
      },
      "text/plain": [
       "HBox(children=(HTML(value=''), FloatProgress(value=0.0, max=4.0), HTML(value='')))"
      ]
     },
     "metadata": {},
     "output_type": "display_data"
    },
    {
     "data": {
      "application/vnd.jupyter.widget-view+json": {
       "model_id": "",
       "version_major": 2,
       "version_minor": 0
      },
      "text/plain": [
       "HBox(children=(HTML(value=''), FloatProgress(value=0.0, max=13.0), HTML(value='')))"
      ]
     },
     "metadata": {},
     "output_type": "display_data"
    },
    {
     "data": {
      "application/vnd.jupyter.widget-view+json": {
       "model_id": "",
       "version_major": 2,
       "version_minor": 0
      },
      "text/plain": [
       "HBox(children=(HTML(value=''), FloatProgress(value=0.0, max=2.0), HTML(value='')))"
      ]
     },
     "metadata": {},
     "output_type": "display_data"
    },
    {
     "data": {
      "application/vnd.jupyter.widget-view+json": {
       "model_id": "",
       "version_major": 2,
       "version_minor": 0
      },
      "text/plain": [
       "HBox(children=(HTML(value=''), FloatProgress(value=0.0, max=2.0), HTML(value='')))"
      ]
     },
     "metadata": {},
     "output_type": "display_data"
    },
    {
     "data": {
      "application/vnd.jupyter.widget-view+json": {
       "model_id": "",
       "version_major": 2,
       "version_minor": 0
      },
      "text/plain": [
       "HBox(children=(HTML(value=''), FloatProgress(value=0.0, max=3.0), HTML(value='')))"
      ]
     },
     "metadata": {},
     "output_type": "display_data"
    },
    {
     "data": {
      "application/vnd.jupyter.widget-view+json": {
       "model_id": "",
       "version_major": 2,
       "version_minor": 0
      },
      "text/plain": [
       "HBox(children=(HTML(value=''), FloatProgress(value=0.0, max=58.0), HTML(value='')))"
      ]
     },
     "metadata": {},
     "output_type": "display_data"
    },
    {
     "data": {
      "application/vnd.jupyter.widget-view+json": {
       "model_id": "",
       "version_major": 2,
       "version_minor": 0
      },
      "text/plain": [
       "HBox(children=(HTML(value=''), FloatProgress(value=0.0, max=9.0), HTML(value='')))"
      ]
     },
     "metadata": {},
     "output_type": "display_data"
    },
    {
     "data": {
      "application/vnd.jupyter.widget-view+json": {
       "model_id": "",
       "version_major": 2,
       "version_minor": 0
      },
      "text/plain": [
       "HBox(children=(HTML(value=''), FloatProgress(value=0.0, max=1.0), HTML(value='')))"
      ]
     },
     "metadata": {},
     "output_type": "display_data"
    },
    {
     "data": {
      "application/vnd.jupyter.widget-view+json": {
       "model_id": "",
       "version_major": 2,
       "version_minor": 0
      },
      "text/plain": [
       "HBox(children=(HTML(value=''), FloatProgress(value=0.0, max=1.0), HTML(value='')))"
      ]
     },
     "metadata": {},
     "output_type": "display_data"
    },
    {
     "data": {
      "application/vnd.jupyter.widget-view+json": {
       "model_id": "",
       "version_major": 2,
       "version_minor": 0
      },
      "text/plain": [
       "HBox(children=(HTML(value=''), FloatProgress(value=0.0, max=2.0), HTML(value='')))"
      ]
     },
     "metadata": {},
     "output_type": "display_data"
    },
    {
     "data": {
      "application/vnd.jupyter.widget-view+json": {
       "model_id": "",
       "version_major": 2,
       "version_minor": 0
      },
      "text/plain": [
       "HBox(children=(HTML(value=''), FloatProgress(value=0.0, max=19.0), HTML(value='')))"
      ]
     },
     "metadata": {},
     "output_type": "display_data"
    },
    {
     "data": {
      "application/vnd.jupyter.widget-view+json": {
       "model_id": "",
       "version_major": 2,
       "version_minor": 0
      },
      "text/plain": [
       "HBox(children=(HTML(value=''), FloatProgress(value=0.0, max=1.0), HTML(value='')))"
      ]
     },
     "metadata": {},
     "output_type": "display_data"
    },
    {
     "data": {
      "application/vnd.jupyter.widget-view+json": {
       "model_id": "",
       "version_major": 2,
       "version_minor": 0
      },
      "text/plain": [
       "HBox(children=(HTML(value=''), FloatProgress(value=0.0, max=1.0), HTML(value='')))"
      ]
     },
     "metadata": {},
     "output_type": "display_data"
    },
    {
     "data": {
      "application/vnd.jupyter.widget-view+json": {
       "model_id": "",
       "version_major": 2,
       "version_minor": 0
      },
      "text/plain": [
       "HBox(children=(HTML(value=''), FloatProgress(value=0.0, max=2.0), HTML(value='')))"
      ]
     },
     "metadata": {},
     "output_type": "display_data"
    },
    {
     "data": {
      "application/vnd.jupyter.widget-view+json": {
       "model_id": "",
       "version_major": 2,
       "version_minor": 0
      },
      "text/plain": [
       "HBox(children=(HTML(value=''), FloatProgress(value=0.0, max=2.0), HTML(value='')))"
      ]
     },
     "metadata": {},
     "output_type": "display_data"
    },
    {
     "data": {
      "application/vnd.jupyter.widget-view+json": {
       "model_id": "",
       "version_major": 2,
       "version_minor": 0
      },
      "text/plain": [
       "HBox(children=(HTML(value=''), FloatProgress(value=0.0, max=20.0), HTML(value='')))"
      ]
     },
     "metadata": {},
     "output_type": "display_data"
    },
    {
     "data": {
      "application/vnd.jupyter.widget-view+json": {
       "model_id": "",
       "version_major": 2,
       "version_minor": 0
      },
      "text/plain": [
       "HBox(children=(HTML(value=''), FloatProgress(value=0.0, max=3.0), HTML(value='')))"
      ]
     },
     "metadata": {},
     "output_type": "display_data"
    },
    {
     "data": {
      "application/vnd.jupyter.widget-view+json": {
       "model_id": "",
       "version_major": 2,
       "version_minor": 0
      },
      "text/plain": [
       "HBox(children=(HTML(value=''), FloatProgress(value=0.0, max=1.0), HTML(value='')))"
      ]
     },
     "metadata": {},
     "output_type": "display_data"
    },
    {
     "data": {
      "application/vnd.jupyter.widget-view+json": {
       "model_id": "",
       "version_major": 2,
       "version_minor": 0
      },
      "text/plain": [
       "HBox(children=(HTML(value=''), FloatProgress(value=0.0, max=2.0), HTML(value='')))"
      ]
     },
     "metadata": {},
     "output_type": "display_data"
    },
    {
     "data": {
      "application/vnd.jupyter.widget-view+json": {
       "model_id": "",
       "version_major": 2,
       "version_minor": 0
      },
      "text/plain": [
       "HBox(children=(HTML(value=''), FloatProgress(value=0.0, max=1.0), HTML(value='')))"
      ]
     },
     "metadata": {},
     "output_type": "display_data"
    },
    {
     "data": {
      "application/vnd.jupyter.widget-view+json": {
       "model_id": "",
       "version_major": 2,
       "version_minor": 0
      },
      "text/plain": [
       "HBox(children=(HTML(value=''), FloatProgress(value=0.0, max=5.0), HTML(value='')))"
      ]
     },
     "metadata": {},
     "output_type": "display_data"
    },
    {
     "data": {
      "application/vnd.jupyter.widget-view+json": {
       "model_id": "",
       "version_major": 2,
       "version_minor": 0
      },
      "text/plain": [
       "HBox(children=(HTML(value=''), FloatProgress(value=0.0, max=7.0), HTML(value='')))"
      ]
     },
     "metadata": {},
     "output_type": "display_data"
    },
    {
     "data": {
      "application/vnd.jupyter.widget-view+json": {
       "model_id": "",
       "version_major": 2,
       "version_minor": 0
      },
      "text/plain": [
       "HBox(children=(HTML(value=''), FloatProgress(value=0.0, max=2.0), HTML(value='')))"
      ]
     },
     "metadata": {},
     "output_type": "display_data"
    },
    {
     "data": {
      "application/vnd.jupyter.widget-view+json": {
       "model_id": "",
       "version_major": 2,
       "version_minor": 0
      },
      "text/plain": [
       "HBox(children=(HTML(value=''), FloatProgress(value=0.0, max=3.0), HTML(value='')))"
      ]
     },
     "metadata": {},
     "output_type": "display_data"
    },
    {
     "data": {
      "application/vnd.jupyter.widget-view+json": {
       "model_id": "",
       "version_major": 2,
       "version_minor": 0
      },
      "text/plain": [
       "HBox(children=(HTML(value=''), FloatProgress(value=0.0, max=32.0), HTML(value='')))"
      ]
     },
     "metadata": {},
     "output_type": "display_data"
    },
    {
     "data": {
      "application/vnd.jupyter.widget-view+json": {
       "model_id": "",
       "version_major": 2,
       "version_minor": 0
      },
      "text/plain": [
       "HBox(children=(HTML(value=''), FloatProgress(value=0.0, max=6.0), HTML(value='')))"
      ]
     },
     "metadata": {},
     "output_type": "display_data"
    },
    {
     "data": {
      "application/vnd.jupyter.widget-view+json": {
       "model_id": "",
       "version_major": 2,
       "version_minor": 0
      },
      "text/plain": [
       "HBox(children=(HTML(value=''), FloatProgress(value=0.0, max=1.0), HTML(value='')))"
      ]
     },
     "metadata": {},
     "output_type": "display_data"
    },
    {
     "data": {
      "application/vnd.jupyter.widget-view+json": {
       "model_id": "",
       "version_major": 2,
       "version_minor": 0
      },
      "text/plain": [
       "HBox(children=(HTML(value=''), FloatProgress(value=0.0, max=6.0), HTML(value='')))"
      ]
     },
     "metadata": {},
     "output_type": "display_data"
    },
    {
     "data": {
      "application/vnd.jupyter.widget-view+json": {
       "model_id": "",
       "version_major": 2,
       "version_minor": 0
      },
      "text/plain": [
       "HBox(children=(HTML(value=''), FloatProgress(value=0.0, max=1.0), HTML(value='')))"
      ]
     },
     "metadata": {},
     "output_type": "display_data"
    },
    {
     "data": {
      "application/vnd.jupyter.widget-view+json": {
       "model_id": "",
       "version_major": 2,
       "version_minor": 0
      },
      "text/plain": [
       "HBox(children=(HTML(value=''), FloatProgress(value=0.0, max=3.0), HTML(value='')))"
      ]
     },
     "metadata": {},
     "output_type": "display_data"
    },
    {
     "data": {
      "application/vnd.jupyter.widget-view+json": {
       "model_id": "",
       "version_major": 2,
       "version_minor": 0
      },
      "text/plain": [
       "HBox(children=(HTML(value=''), FloatProgress(value=0.0, max=1.0), HTML(value='')))"
      ]
     },
     "metadata": {},
     "output_type": "display_data"
    },
    {
     "data": {
      "application/vnd.jupyter.widget-view+json": {
       "model_id": "",
       "version_major": 2,
       "version_minor": 0
      },
      "text/plain": [
       "HBox(children=(HTML(value=''), FloatProgress(value=0.0, max=5.0), HTML(value='')))"
      ]
     },
     "metadata": {},
     "output_type": "display_data"
    },
    {
     "data": {
      "application/vnd.jupyter.widget-view+json": {
       "model_id": "",
       "version_major": 2,
       "version_minor": 0
      },
      "text/plain": [
       "HBox(children=(HTML(value=''), FloatProgress(value=0.0, max=2.0), HTML(value='')))"
      ]
     },
     "metadata": {},
     "output_type": "display_data"
    },
    {
     "data": {
      "application/vnd.jupyter.widget-view+json": {
       "model_id": "",
       "version_major": 2,
       "version_minor": 0
      },
      "text/plain": [
       "HBox(children=(HTML(value=''), FloatProgress(value=0.0, max=1.0), HTML(value='')))"
      ]
     },
     "metadata": {},
     "output_type": "display_data"
    },
    {
     "data": {
      "application/vnd.jupyter.widget-view+json": {
       "model_id": "",
       "version_major": 2,
       "version_minor": 0
      },
      "text/plain": [
       "HBox(children=(HTML(value=''), FloatProgress(value=0.0, max=1.0), HTML(value='')))"
      ]
     },
     "metadata": {},
     "output_type": "display_data"
    },
    {
     "data": {
      "application/vnd.jupyter.widget-view+json": {
       "model_id": "",
       "version_major": 2,
       "version_minor": 0
      },
      "text/plain": [
       "HBox(children=(HTML(value=''), FloatProgress(value=0.0, max=3.0), HTML(value='')))"
      ]
     },
     "metadata": {},
     "output_type": "display_data"
    },
    {
     "data": {
      "application/vnd.jupyter.widget-view+json": {
       "model_id": "",
       "version_major": 2,
       "version_minor": 0
      },
      "text/plain": [
       "HBox(children=(HTML(value=''), FloatProgress(value=0.0, max=1.0), HTML(value='')))"
      ]
     },
     "metadata": {},
     "output_type": "display_data"
    },
    {
     "data": {
      "application/vnd.jupyter.widget-view+json": {
       "model_id": "",
       "version_major": 2,
       "version_minor": 0
      },
      "text/plain": [
       "HBox(children=(HTML(value=''), FloatProgress(value=0.0, max=2.0), HTML(value='')))"
      ]
     },
     "metadata": {},
     "output_type": "display_data"
    },
    {
     "data": {
      "application/vnd.jupyter.widget-view+json": {
       "model_id": "",
       "version_major": 2,
       "version_minor": 0
      },
      "text/plain": [
       "HBox(children=(HTML(value=''), FloatProgress(value=0.0, max=4.0), HTML(value='')))"
      ]
     },
     "metadata": {},
     "output_type": "display_data"
    },
    {
     "data": {
      "application/vnd.jupyter.widget-view+json": {
       "model_id": "",
       "version_major": 2,
       "version_minor": 0
      },
      "text/plain": [
       "HBox(children=(HTML(value=''), FloatProgress(value=0.0, max=1.0), HTML(value='')))"
      ]
     },
     "metadata": {},
     "output_type": "display_data"
    },
    {
     "data": {
      "application/vnd.jupyter.widget-view+json": {
       "model_id": "",
       "version_major": 2,
       "version_minor": 0
      },
      "text/plain": [
       "HBox(children=(HTML(value=''), FloatProgress(value=0.0, max=10.0), HTML(value='')))"
      ]
     },
     "metadata": {},
     "output_type": "display_data"
    },
    {
     "data": {
      "application/vnd.jupyter.widget-view+json": {
       "model_id": "",
       "version_major": 2,
       "version_minor": 0
      },
      "text/plain": [
       "HBox(children=(HTML(value=''), FloatProgress(value=0.0, max=22.0), HTML(value='')))"
      ]
     },
     "metadata": {},
     "output_type": "display_data"
    },
    {
     "data": {
      "application/vnd.jupyter.widget-view+json": {
       "model_id": "",
       "version_major": 2,
       "version_minor": 0
      },
      "text/plain": [
       "HBox(children=(HTML(value=''), FloatProgress(value=0.0, max=2.0), HTML(value='')))"
      ]
     },
     "metadata": {},
     "output_type": "display_data"
    },
    {
     "data": {
      "application/vnd.jupyter.widget-view+json": {
       "model_id": "",
       "version_major": 2,
       "version_minor": 0
      },
      "text/plain": [
       "HBox(children=(HTML(value=''), FloatProgress(value=0.0, max=1.0), HTML(value='')))"
      ]
     },
     "metadata": {},
     "output_type": "display_data"
    },
    {
     "data": {
      "application/vnd.jupyter.widget-view+json": {
       "model_id": "",
       "version_major": 2,
       "version_minor": 0
      },
      "text/plain": [
       "HBox(children=(HTML(value=''), FloatProgress(value=0.0, max=7.0), HTML(value='')))"
      ]
     },
     "metadata": {},
     "output_type": "display_data"
    },
    {
     "data": {
      "application/vnd.jupyter.widget-view+json": {
       "model_id": "",
       "version_major": 2,
       "version_minor": 0
      },
      "text/plain": [
       "HBox(children=(HTML(value=''), FloatProgress(value=0.0, max=3.0), HTML(value='')))"
      ]
     },
     "metadata": {},
     "output_type": "display_data"
    },
    {
     "data": {
      "application/vnd.jupyter.widget-view+json": {
       "model_id": "",
       "version_major": 2,
       "version_minor": 0
      },
      "text/plain": [
       "HBox(children=(HTML(value=''), FloatProgress(value=0.0, max=3.0), HTML(value='')))"
      ]
     },
     "metadata": {},
     "output_type": "display_data"
    },
    {
     "data": {
      "application/vnd.jupyter.widget-view+json": {
       "model_id": "",
       "version_major": 2,
       "version_minor": 0
      },
      "text/plain": [
       "HBox(children=(HTML(value=''), FloatProgress(value=0.0, max=3.0), HTML(value='')))"
      ]
     },
     "metadata": {},
     "output_type": "display_data"
    },
    {
     "data": {
      "application/vnd.jupyter.widget-view+json": {
       "model_id": "",
       "version_major": 2,
       "version_minor": 0
      },
      "text/plain": [
       "HBox(children=(HTML(value=''), FloatProgress(value=0.0, max=2.0), HTML(value='')))"
      ]
     },
     "metadata": {},
     "output_type": "display_data"
    },
    {
     "data": {
      "application/vnd.jupyter.widget-view+json": {
       "model_id": "",
       "version_major": 2,
       "version_minor": 0
      },
      "text/plain": [
       "HBox(children=(HTML(value=''), FloatProgress(value=0.0, max=5.0), HTML(value='')))"
      ]
     },
     "metadata": {},
     "output_type": "display_data"
    },
    {
     "data": {
      "application/vnd.jupyter.widget-view+json": {
       "model_id": "",
       "version_major": 2,
       "version_minor": 0
      },
      "text/plain": [
       "HBox(children=(HTML(value=''), FloatProgress(value=0.0, max=3.0), HTML(value='')))"
      ]
     },
     "metadata": {},
     "output_type": "display_data"
    },
    {
     "data": {
      "application/vnd.jupyter.widget-view+json": {
       "model_id": "",
       "version_major": 2,
       "version_minor": 0
      },
      "text/plain": [
       "HBox(children=(HTML(value=''), FloatProgress(value=0.0, max=6.0), HTML(value='')))"
      ]
     },
     "metadata": {},
     "output_type": "display_data"
    },
    {
     "data": {
      "application/vnd.jupyter.widget-view+json": {
       "model_id": "",
       "version_major": 2,
       "version_minor": 0
      },
      "text/plain": [
       "HBox(children=(HTML(value=''), FloatProgress(value=0.0, max=2.0), HTML(value='')))"
      ]
     },
     "metadata": {},
     "output_type": "display_data"
    },
    {
     "data": {
      "application/vnd.jupyter.widget-view+json": {
       "model_id": "",
       "version_major": 2,
       "version_minor": 0
      },
      "text/plain": [
       "HBox(children=(HTML(value=''), FloatProgress(value=0.0, max=1.0), HTML(value='')))"
      ]
     },
     "metadata": {},
     "output_type": "display_data"
    },
    {
     "data": {
      "application/vnd.jupyter.widget-view+json": {
       "model_id": "",
       "version_major": 2,
       "version_minor": 0
      },
      "text/plain": [
       "HBox(children=(HTML(value=''), FloatProgress(value=0.0, max=9.0), HTML(value='')))"
      ]
     },
     "metadata": {},
     "output_type": "display_data"
    },
    {
     "data": {
      "application/vnd.jupyter.widget-view+json": {
       "model_id": "",
       "version_major": 2,
       "version_minor": 0
      },
      "text/plain": [
       "HBox(children=(HTML(value=''), FloatProgress(value=0.0, max=4.0), HTML(value='')))"
      ]
     },
     "metadata": {},
     "output_type": "display_data"
    },
    {
     "data": {
      "application/vnd.jupyter.widget-view+json": {
       "model_id": "",
       "version_major": 2,
       "version_minor": 0
      },
      "text/plain": [
       "HBox(children=(HTML(value=''), FloatProgress(value=0.0, max=1.0), HTML(value='')))"
      ]
     },
     "metadata": {},
     "output_type": "display_data"
    },
    {
     "data": {
      "application/vnd.jupyter.widget-view+json": {
       "model_id": "",
       "version_major": 2,
       "version_minor": 0
      },
      "text/plain": [
       "HBox(children=(HTML(value=''), FloatProgress(value=0.0, max=1.0), HTML(value='')))"
      ]
     },
     "metadata": {},
     "output_type": "display_data"
    },
    {
     "data": {
      "application/vnd.jupyter.widget-view+json": {
       "model_id": "",
       "version_major": 2,
       "version_minor": 0
      },
      "text/plain": [
       "HBox(children=(HTML(value=''), FloatProgress(value=0.0, max=5.0), HTML(value='')))"
      ]
     },
     "metadata": {},
     "output_type": "display_data"
    },
    {
     "data": {
      "application/vnd.jupyter.widget-view+json": {
       "model_id": "",
       "version_major": 2,
       "version_minor": 0
      },
      "text/plain": [
       "HBox(children=(HTML(value=''), FloatProgress(value=0.0, max=3.0), HTML(value='')))"
      ]
     },
     "metadata": {},
     "output_type": "display_data"
    },
    {
     "data": {
      "application/vnd.jupyter.widget-view+json": {
       "model_id": "",
       "version_major": 2,
       "version_minor": 0
      },
      "text/plain": [
       "HBox(children=(HTML(value=''), FloatProgress(value=0.0, max=3.0), HTML(value='')))"
      ]
     },
     "metadata": {},
     "output_type": "display_data"
    },
    {
     "data": {
      "application/vnd.jupyter.widget-view+json": {
       "model_id": "",
       "version_major": 2,
       "version_minor": 0
      },
      "text/plain": [
       "HBox(children=(HTML(value=''), FloatProgress(value=0.0, max=4.0), HTML(value='')))"
      ]
     },
     "metadata": {},
     "output_type": "display_data"
    },
    {
     "data": {
      "application/vnd.jupyter.widget-view+json": {
       "model_id": "",
       "version_major": 2,
       "version_minor": 0
      },
      "text/plain": [
       "HBox(children=(HTML(value=''), FloatProgress(value=0.0, max=1.0), HTML(value='')))"
      ]
     },
     "metadata": {},
     "output_type": "display_data"
    },
    {
     "data": {
      "application/vnd.jupyter.widget-view+json": {
       "model_id": "",
       "version_major": 2,
       "version_minor": 0
      },
      "text/plain": [
       "HBox(children=(HTML(value=''), FloatProgress(value=0.0, max=2.0), HTML(value='')))"
      ]
     },
     "metadata": {},
     "output_type": "display_data"
    },
    {
     "data": {
      "application/vnd.jupyter.widget-view+json": {
       "model_id": "",
       "version_major": 2,
       "version_minor": 0
      },
      "text/plain": [
       "HBox(children=(HTML(value=''), FloatProgress(value=0.0, max=2.0), HTML(value='')))"
      ]
     },
     "metadata": {},
     "output_type": "display_data"
    },
    {
     "data": {
      "application/vnd.jupyter.widget-view+json": {
       "model_id": "",
       "version_major": 2,
       "version_minor": 0
      },
      "text/plain": [
       "HBox(children=(HTML(value=''), FloatProgress(value=0.0, max=2.0), HTML(value='')))"
      ]
     },
     "metadata": {},
     "output_type": "display_data"
    },
    {
     "data": {
      "application/vnd.jupyter.widget-view+json": {
       "model_id": "",
       "version_major": 2,
       "version_minor": 0
      },
      "text/plain": [
       "HBox(children=(HTML(value=''), FloatProgress(value=0.0, max=13.0), HTML(value='')))"
      ]
     },
     "metadata": {},
     "output_type": "display_data"
    },
    {
     "data": {
      "application/vnd.jupyter.widget-view+json": {
       "model_id": "",
       "version_major": 2,
       "version_minor": 0
      },
      "text/plain": [
       "HBox(children=(HTML(value=''), FloatProgress(value=0.0, max=9.0), HTML(value='')))"
      ]
     },
     "metadata": {},
     "output_type": "display_data"
    },
    {
     "data": {
      "application/vnd.jupyter.widget-view+json": {
       "model_id": "",
       "version_major": 2,
       "version_minor": 0
      },
      "text/plain": [
       "HBox(children=(HTML(value=''), FloatProgress(value=0.0, max=4.0), HTML(value='')))"
      ]
     },
     "metadata": {},
     "output_type": "display_data"
    },
    {
     "data": {
      "application/vnd.jupyter.widget-view+json": {
       "model_id": "",
       "version_major": 2,
       "version_minor": 0
      },
      "text/plain": [
       "HBox(children=(HTML(value=''), FloatProgress(value=0.0, max=1.0), HTML(value='')))"
      ]
     },
     "metadata": {},
     "output_type": "display_data"
    },
    {
     "data": {
      "application/vnd.jupyter.widget-view+json": {
       "model_id": "",
       "version_major": 2,
       "version_minor": 0
      },
      "text/plain": [
       "HBox(children=(HTML(value=''), FloatProgress(value=0.0, max=8.0), HTML(value='')))"
      ]
     },
     "metadata": {},
     "output_type": "display_data"
    },
    {
     "data": {
      "application/vnd.jupyter.widget-view+json": {
       "model_id": "",
       "version_major": 2,
       "version_minor": 0
      },
      "text/plain": [
       "HBox(children=(HTML(value=''), FloatProgress(value=0.0, max=9.0), HTML(value='')))"
      ]
     },
     "metadata": {},
     "output_type": "display_data"
    },
    {
     "data": {
      "application/vnd.jupyter.widget-view+json": {
       "model_id": "",
       "version_major": 2,
       "version_minor": 0
      },
      "text/plain": [
       "HBox(children=(HTML(value=''), FloatProgress(value=0.0, max=1.0), HTML(value='')))"
      ]
     },
     "metadata": {},
     "output_type": "display_data"
    },
    {
     "data": {
      "application/vnd.jupyter.widget-view+json": {
       "model_id": "",
       "version_major": 2,
       "version_minor": 0
      },
      "text/plain": [
       "HBox(children=(HTML(value=''), FloatProgress(value=0.0, max=3.0), HTML(value='')))"
      ]
     },
     "metadata": {},
     "output_type": "display_data"
    },
    {
     "data": {
      "application/vnd.jupyter.widget-view+json": {
       "model_id": "",
       "version_major": 2,
       "version_minor": 0
      },
      "text/plain": [
       "HBox(children=(HTML(value=''), FloatProgress(value=0.0, max=2.0), HTML(value='')))"
      ]
     },
     "metadata": {},
     "output_type": "display_data"
    },
    {
     "data": {
      "application/vnd.jupyter.widget-view+json": {
       "model_id": "",
       "version_major": 2,
       "version_minor": 0
      },
      "text/plain": [
       "HBox(children=(HTML(value=''), FloatProgress(value=0.0, max=1.0), HTML(value='')))"
      ]
     },
     "metadata": {},
     "output_type": "display_data"
    },
    {
     "data": {
      "application/vnd.jupyter.widget-view+json": {
       "model_id": "",
       "version_major": 2,
       "version_minor": 0
      },
      "text/plain": [
       "HBox(children=(HTML(value=''), FloatProgress(value=0.0, max=1.0), HTML(value='')))"
      ]
     },
     "metadata": {},
     "output_type": "display_data"
    },
    {
     "data": {
      "application/vnd.jupyter.widget-view+json": {
       "model_id": "",
       "version_major": 2,
       "version_minor": 0
      },
      "text/plain": [
       "HBox(children=(HTML(value=''), FloatProgress(value=0.0, max=25.0), HTML(value='')))"
      ]
     },
     "metadata": {},
     "output_type": "display_data"
    },
    {
     "data": {
      "application/vnd.jupyter.widget-view+json": {
       "model_id": "",
       "version_major": 2,
       "version_minor": 0
      },
      "text/plain": [
       "HBox(children=(HTML(value=''), FloatProgress(value=0.0, max=5.0), HTML(value='')))"
      ]
     },
     "metadata": {},
     "output_type": "display_data"
    },
    {
     "data": {
      "application/vnd.jupyter.widget-view+json": {
       "model_id": "",
       "version_major": 2,
       "version_minor": 0
      },
      "text/plain": [
       "HBox(children=(HTML(value=''), FloatProgress(value=0.0, max=2.0), HTML(value='')))"
      ]
     },
     "metadata": {},
     "output_type": "display_data"
    },
    {
     "data": {
      "application/vnd.jupyter.widget-view+json": {
       "model_id": "",
       "version_major": 2,
       "version_minor": 0
      },
      "text/plain": [
       "HBox(children=(HTML(value=''), FloatProgress(value=0.0, max=1.0), HTML(value='')))"
      ]
     },
     "metadata": {},
     "output_type": "display_data"
    },
    {
     "data": {
      "application/vnd.jupyter.widget-view+json": {
       "model_id": "",
       "version_major": 2,
       "version_minor": 0
      },
      "text/plain": [
       "HBox(children=(HTML(value=''), FloatProgress(value=0.0, max=1.0), HTML(value='')))"
      ]
     },
     "metadata": {},
     "output_type": "display_data"
    },
    {
     "data": {
      "application/vnd.jupyter.widget-view+json": {
       "model_id": "",
       "version_major": 2,
       "version_minor": 0
      },
      "text/plain": [
       "HBox(children=(HTML(value=''), FloatProgress(value=0.0, max=1.0), HTML(value='')))"
      ]
     },
     "metadata": {},
     "output_type": "display_data"
    },
    {
     "data": {
      "application/vnd.jupyter.widget-view+json": {
       "model_id": "",
       "version_major": 2,
       "version_minor": 0
      },
      "text/plain": [
       "HBox(children=(HTML(value=''), FloatProgress(value=0.0, max=1.0), HTML(value='')))"
      ]
     },
     "metadata": {},
     "output_type": "display_data"
    },
    {
     "data": {
      "application/vnd.jupyter.widget-view+json": {
       "model_id": "",
       "version_major": 2,
       "version_minor": 0
      },
      "text/plain": [
       "HBox(children=(HTML(value=''), FloatProgress(value=0.0, max=2.0), HTML(value='')))"
      ]
     },
     "metadata": {},
     "output_type": "display_data"
    },
    {
     "data": {
      "application/vnd.jupyter.widget-view+json": {
       "model_id": "",
       "version_major": 2,
       "version_minor": 0
      },
      "text/plain": [
       "HBox(children=(HTML(value=''), FloatProgress(value=0.0, max=2.0), HTML(value='')))"
      ]
     },
     "metadata": {},
     "output_type": "display_data"
    },
    {
     "data": {
      "application/vnd.jupyter.widget-view+json": {
       "model_id": "",
       "version_major": 2,
       "version_minor": 0
      },
      "text/plain": [
       "HBox(children=(HTML(value=''), FloatProgress(value=0.0, max=1.0), HTML(value='')))"
      ]
     },
     "metadata": {},
     "output_type": "display_data"
    },
    {
     "data": {
      "application/vnd.jupyter.widget-view+json": {
       "model_id": "",
       "version_major": 2,
       "version_minor": 0
      },
      "text/plain": [
       "HBox(children=(HTML(value=''), FloatProgress(value=0.0, max=14.0), HTML(value='')))"
      ]
     },
     "metadata": {},
     "output_type": "display_data"
    },
    {
     "data": {
      "application/vnd.jupyter.widget-view+json": {
       "model_id": "",
       "version_major": 2,
       "version_minor": 0
      },
      "text/plain": [
       "HBox(children=(HTML(value=''), FloatProgress(value=0.0, max=4.0), HTML(value='')))"
      ]
     },
     "metadata": {},
     "output_type": "display_data"
    },
    {
     "data": {
      "application/vnd.jupyter.widget-view+json": {
       "model_id": "",
       "version_major": 2,
       "version_minor": 0
      },
      "text/plain": [
       "HBox(children=(HTML(value=''), FloatProgress(value=0.0, max=4.0), HTML(value='')))"
      ]
     },
     "metadata": {},
     "output_type": "display_data"
    },
    {
     "data": {
      "application/vnd.jupyter.widget-view+json": {
       "model_id": "",
       "version_major": 2,
       "version_minor": 0
      },
      "text/plain": [
       "HBox(children=(HTML(value=''), FloatProgress(value=0.0, max=3.0), HTML(value='')))"
      ]
     },
     "metadata": {},
     "output_type": "display_data"
    },
    {
     "data": {
      "application/vnd.jupyter.widget-view+json": {
       "model_id": "",
       "version_major": 2,
       "version_minor": 0
      },
      "text/plain": [
       "HBox(children=(HTML(value=''), FloatProgress(value=0.0, max=3.0), HTML(value='')))"
      ]
     },
     "metadata": {},
     "output_type": "display_data"
    },
    {
     "data": {
      "application/vnd.jupyter.widget-view+json": {
       "model_id": "",
       "version_major": 2,
       "version_minor": 0
      },
      "text/plain": [
       "HBox(children=(HTML(value=''), FloatProgress(value=0.0, max=5.0), HTML(value='')))"
      ]
     },
     "metadata": {},
     "output_type": "display_data"
    },
    {
     "data": {
      "application/vnd.jupyter.widget-view+json": {
       "model_id": "",
       "version_major": 2,
       "version_minor": 0
      },
      "text/plain": [
       "HBox(children=(HTML(value=''), FloatProgress(value=0.0, max=11.0), HTML(value='')))"
      ]
     },
     "metadata": {},
     "output_type": "display_data"
    },
    {
     "data": {
      "application/vnd.jupyter.widget-view+json": {
       "model_id": "",
       "version_major": 2,
       "version_minor": 0
      },
      "text/plain": [
       "HBox(children=(HTML(value=''), FloatProgress(value=0.0, max=2.0), HTML(value='')))"
      ]
     },
     "metadata": {},
     "output_type": "display_data"
    },
    {
     "data": {
      "application/vnd.jupyter.widget-view+json": {
       "model_id": "",
       "version_major": 2,
       "version_minor": 0
      },
      "text/plain": [
       "HBox(children=(HTML(value=''), FloatProgress(value=0.0, max=1.0), HTML(value='')))"
      ]
     },
     "metadata": {},
     "output_type": "display_data"
    },
    {
     "data": {
      "application/vnd.jupyter.widget-view+json": {
       "model_id": "",
       "version_major": 2,
       "version_minor": 0
      },
      "text/plain": [
       "HBox(children=(HTML(value=''), FloatProgress(value=0.0, max=1.0), HTML(value='')))"
      ]
     },
     "metadata": {},
     "output_type": "display_data"
    },
    {
     "data": {
      "application/vnd.jupyter.widget-view+json": {
       "model_id": "",
       "version_major": 2,
       "version_minor": 0
      },
      "text/plain": [
       "HBox(children=(HTML(value=''), FloatProgress(value=0.0, max=2.0), HTML(value='')))"
      ]
     },
     "metadata": {},
     "output_type": "display_data"
    },
    {
     "data": {
      "application/vnd.jupyter.widget-view+json": {
       "model_id": "",
       "version_major": 2,
       "version_minor": 0
      },
      "text/plain": [
       "HBox(children=(HTML(value=''), FloatProgress(value=0.0, max=28.0), HTML(value='')))"
      ]
     },
     "metadata": {},
     "output_type": "display_data"
    },
    {
     "data": {
      "application/vnd.jupyter.widget-view+json": {
       "model_id": "",
       "version_major": 2,
       "version_minor": 0
      },
      "text/plain": [
       "HBox(children=(HTML(value=''), FloatProgress(value=0.0, max=1.0), HTML(value='')))"
      ]
     },
     "metadata": {},
     "output_type": "display_data"
    },
    {
     "data": {
      "application/vnd.jupyter.widget-view+json": {
       "model_id": "",
       "version_major": 2,
       "version_minor": 0
      },
      "text/plain": [
       "HBox(children=(HTML(value=''), FloatProgress(value=0.0, max=1.0), HTML(value='')))"
      ]
     },
     "metadata": {},
     "output_type": "display_data"
    },
    {
     "data": {
      "application/vnd.jupyter.widget-view+json": {
       "model_id": "",
       "version_major": 2,
       "version_minor": 0
      },
      "text/plain": [
       "HBox(children=(HTML(value=''), FloatProgress(value=0.0, max=3.0), HTML(value='')))"
      ]
     },
     "metadata": {},
     "output_type": "display_data"
    },
    {
     "data": {
      "application/vnd.jupyter.widget-view+json": {
       "model_id": "",
       "version_major": 2,
       "version_minor": 0
      },
      "text/plain": [
       "HBox(children=(HTML(value=''), FloatProgress(value=0.0, max=5.0), HTML(value='')))"
      ]
     },
     "metadata": {},
     "output_type": "display_data"
    },
    {
     "data": {
      "application/vnd.jupyter.widget-view+json": {
       "model_id": "",
       "version_major": 2,
       "version_minor": 0
      },
      "text/plain": [
       "HBox(children=(HTML(value=''), FloatProgress(value=0.0, max=3.0), HTML(value='')))"
      ]
     },
     "metadata": {},
     "output_type": "display_data"
    },
    {
     "data": {
      "application/vnd.jupyter.widget-view+json": {
       "model_id": "",
       "version_major": 2,
       "version_minor": 0
      },
      "text/plain": [
       "HBox(children=(HTML(value=''), FloatProgress(value=0.0, max=6.0), HTML(value='')))"
      ]
     },
     "metadata": {},
     "output_type": "display_data"
    },
    {
     "data": {
      "application/vnd.jupyter.widget-view+json": {
       "model_id": "",
       "version_major": 2,
       "version_minor": 0
      },
      "text/plain": [
       "HBox(children=(HTML(value=''), FloatProgress(value=0.0, max=2.0), HTML(value='')))"
      ]
     },
     "metadata": {},
     "output_type": "display_data"
    },
    {
     "data": {
      "application/vnd.jupyter.widget-view+json": {
       "model_id": "",
       "version_major": 2,
       "version_minor": 0
      },
      "text/plain": [
       "HBox(children=(HTML(value=''), FloatProgress(value=0.0, max=2.0), HTML(value='')))"
      ]
     },
     "metadata": {},
     "output_type": "display_data"
    },
    {
     "data": {
      "application/vnd.jupyter.widget-view+json": {
       "model_id": "",
       "version_major": 2,
       "version_minor": 0
      },
      "text/plain": [
       "HBox(children=(HTML(value=''), FloatProgress(value=0.0, max=1.0), HTML(value='')))"
      ]
     },
     "metadata": {},
     "output_type": "display_data"
    },
    {
     "data": {
      "application/vnd.jupyter.widget-view+json": {
       "model_id": "",
       "version_major": 2,
       "version_minor": 0
      },
      "text/plain": [
       "HBox(children=(HTML(value=''), FloatProgress(value=0.0, max=6.0), HTML(value='')))"
      ]
     },
     "metadata": {},
     "output_type": "display_data"
    },
    {
     "data": {
      "application/vnd.jupyter.widget-view+json": {
       "model_id": "",
       "version_major": 2,
       "version_minor": 0
      },
      "text/plain": [
       "HBox(children=(HTML(value=''), FloatProgress(value=0.0, max=7.0), HTML(value='')))"
      ]
     },
     "metadata": {},
     "output_type": "display_data"
    },
    {
     "data": {
      "application/vnd.jupyter.widget-view+json": {
       "model_id": "",
       "version_major": 2,
       "version_minor": 0
      },
      "text/plain": [
       "HBox(children=(HTML(value=''), FloatProgress(value=0.0, max=10.0), HTML(value='')))"
      ]
     },
     "metadata": {},
     "output_type": "display_data"
    },
    {
     "data": {
      "application/vnd.jupyter.widget-view+json": {
       "model_id": "",
       "version_major": 2,
       "version_minor": 0
      },
      "text/plain": [
       "HBox(children=(HTML(value=''), FloatProgress(value=0.0, max=12.0), HTML(value='')))"
      ]
     },
     "metadata": {},
     "output_type": "display_data"
    },
    {
     "data": {
      "application/vnd.jupyter.widget-view+json": {
       "model_id": "",
       "version_major": 2,
       "version_minor": 0
      },
      "text/plain": [
       "HBox(children=(HTML(value=''), FloatProgress(value=0.0, max=6.0), HTML(value='')))"
      ]
     },
     "metadata": {},
     "output_type": "display_data"
    },
    {
     "data": {
      "application/vnd.jupyter.widget-view+json": {
       "model_id": "",
       "version_major": 2,
       "version_minor": 0
      },
      "text/plain": [
       "HBox(children=(HTML(value=''), FloatProgress(value=0.0, max=17.0), HTML(value='')))"
      ]
     },
     "metadata": {},
     "output_type": "display_data"
    },
    {
     "data": {
      "application/vnd.jupyter.widget-view+json": {
       "model_id": "",
       "version_major": 2,
       "version_minor": 0
      },
      "text/plain": [
       "HBox(children=(HTML(value=''), FloatProgress(value=0.0, max=2.0), HTML(value='')))"
      ]
     },
     "metadata": {},
     "output_type": "display_data"
    },
    {
     "data": {
      "application/vnd.jupyter.widget-view+json": {
       "model_id": "",
       "version_major": 2,
       "version_minor": 0
      },
      "text/plain": [
       "HBox(children=(HTML(value=''), FloatProgress(value=0.0, max=52.0), HTML(value='')))"
      ]
     },
     "metadata": {},
     "output_type": "display_data"
    },
    {
     "data": {
      "application/vnd.jupyter.widget-view+json": {
       "model_id": "",
       "version_major": 2,
       "version_minor": 0
      },
      "text/plain": [
       "HBox(children=(HTML(value=''), FloatProgress(value=0.0, max=3.0), HTML(value='')))"
      ]
     },
     "metadata": {},
     "output_type": "display_data"
    },
    {
     "data": {
      "application/vnd.jupyter.widget-view+json": {
       "model_id": "",
       "version_major": 2,
       "version_minor": 0
      },
      "text/plain": [
       "HBox(children=(HTML(value=''), FloatProgress(value=0.0, max=7.0), HTML(value='')))"
      ]
     },
     "metadata": {},
     "output_type": "display_data"
    },
    {
     "data": {
      "application/vnd.jupyter.widget-view+json": {
       "model_id": "",
       "version_major": 2,
       "version_minor": 0
      },
      "text/plain": [
       "HBox(children=(HTML(value=''), FloatProgress(value=0.0, max=3.0), HTML(value='')))"
      ]
     },
     "metadata": {},
     "output_type": "display_data"
    },
    {
     "data": {
      "application/vnd.jupyter.widget-view+json": {
       "model_id": "",
       "version_major": 2,
       "version_minor": 0
      },
      "text/plain": [
       "HBox(children=(HTML(value=''), FloatProgress(value=0.0, max=1.0), HTML(value='')))"
      ]
     },
     "metadata": {},
     "output_type": "display_data"
    },
    {
     "data": {
      "application/vnd.jupyter.widget-view+json": {
       "model_id": "",
       "version_major": 2,
       "version_minor": 0
      },
      "text/plain": [
       "HBox(children=(HTML(value=''), FloatProgress(value=0.0, max=1.0), HTML(value='')))"
      ]
     },
     "metadata": {},
     "output_type": "display_data"
    },
    {
     "data": {
      "application/vnd.jupyter.widget-view+json": {
       "model_id": "",
       "version_major": 2,
       "version_minor": 0
      },
      "text/plain": [
       "HBox(children=(HTML(value=''), FloatProgress(value=0.0, max=1.0), HTML(value='')))"
      ]
     },
     "metadata": {},
     "output_type": "display_data"
    },
    {
     "data": {
      "application/vnd.jupyter.widget-view+json": {
       "model_id": "",
       "version_major": 2,
       "version_minor": 0
      },
      "text/plain": [
       "HBox(children=(HTML(value=''), FloatProgress(value=0.0, max=4.0), HTML(value='')))"
      ]
     },
     "metadata": {},
     "output_type": "display_data"
    },
    {
     "data": {
      "application/vnd.jupyter.widget-view+json": {
       "model_id": "",
       "version_major": 2,
       "version_minor": 0
      },
      "text/plain": [
       "HBox(children=(HTML(value=''), FloatProgress(value=0.0, max=1.0), HTML(value='')))"
      ]
     },
     "metadata": {},
     "output_type": "display_data"
    },
    {
     "data": {
      "application/vnd.jupyter.widget-view+json": {
       "model_id": "",
       "version_major": 2,
       "version_minor": 0
      },
      "text/plain": [
       "HBox(children=(HTML(value=''), FloatProgress(value=0.0, max=16.0), HTML(value='')))"
      ]
     },
     "metadata": {},
     "output_type": "display_data"
    },
    {
     "data": {
      "application/vnd.jupyter.widget-view+json": {
       "model_id": "",
       "version_major": 2,
       "version_minor": 0
      },
      "text/plain": [
       "HBox(children=(HTML(value=''), FloatProgress(value=0.0, max=1.0), HTML(value='')))"
      ]
     },
     "metadata": {},
     "output_type": "display_data"
    },
    {
     "data": {
      "application/vnd.jupyter.widget-view+json": {
       "model_id": "",
       "version_major": 2,
       "version_minor": 0
      },
      "text/plain": [
       "HBox(children=(HTML(value=''), FloatProgress(value=0.0, max=3.0), HTML(value='')))"
      ]
     },
     "metadata": {},
     "output_type": "display_data"
    },
    {
     "data": {
      "application/vnd.jupyter.widget-view+json": {
       "model_id": "",
       "version_major": 2,
       "version_minor": 0
      },
      "text/plain": [
       "HBox(children=(HTML(value=''), FloatProgress(value=0.0, max=3.0), HTML(value='')))"
      ]
     },
     "metadata": {},
     "output_type": "display_data"
    },
    {
     "data": {
      "application/vnd.jupyter.widget-view+json": {
       "model_id": "",
       "version_major": 2,
       "version_minor": 0
      },
      "text/plain": [
       "HBox(children=(HTML(value=''), FloatProgress(value=0.0, max=39.0), HTML(value='')))"
      ]
     },
     "metadata": {},
     "output_type": "display_data"
    },
    {
     "data": {
      "application/vnd.jupyter.widget-view+json": {
       "model_id": "",
       "version_major": 2,
       "version_minor": 0
      },
      "text/plain": [
       "HBox(children=(HTML(value=''), FloatProgress(value=0.0, max=4.0), HTML(value='')))"
      ]
     },
     "metadata": {},
     "output_type": "display_data"
    },
    {
     "data": {
      "application/vnd.jupyter.widget-view+json": {
       "model_id": "",
       "version_major": 2,
       "version_minor": 0
      },
      "text/plain": [
       "HBox(children=(HTML(value=''), FloatProgress(value=0.0, max=6.0), HTML(value='')))"
      ]
     },
     "metadata": {},
     "output_type": "display_data"
    },
    {
     "data": {
      "application/vnd.jupyter.widget-view+json": {
       "model_id": "",
       "version_major": 2,
       "version_minor": 0
      },
      "text/plain": [
       "HBox(children=(HTML(value=''), FloatProgress(value=0.0, max=1.0), HTML(value='')))"
      ]
     },
     "metadata": {},
     "output_type": "display_data"
    },
    {
     "data": {
      "application/vnd.jupyter.widget-view+json": {
       "model_id": "",
       "version_major": 2,
       "version_minor": 0
      },
      "text/plain": [
       "HBox(children=(HTML(value=''), FloatProgress(value=0.0, max=2.0), HTML(value='')))"
      ]
     },
     "metadata": {},
     "output_type": "display_data"
    },
    {
     "data": {
      "application/vnd.jupyter.widget-view+json": {
       "model_id": "",
       "version_major": 2,
       "version_minor": 0
      },
      "text/plain": [
       "HBox(children=(HTML(value=''), FloatProgress(value=0.0, max=7.0), HTML(value='')))"
      ]
     },
     "metadata": {},
     "output_type": "display_data"
    },
    {
     "data": {
      "application/vnd.jupyter.widget-view+json": {
       "model_id": "",
       "version_major": 2,
       "version_minor": 0
      },
      "text/plain": [
       "HBox(children=(HTML(value=''), FloatProgress(value=0.0, max=1.0), HTML(value='')))"
      ]
     },
     "metadata": {},
     "output_type": "display_data"
    },
    {
     "data": {
      "application/vnd.jupyter.widget-view+json": {
       "model_id": "",
       "version_major": 2,
       "version_minor": 0
      },
      "text/plain": [
       "HBox(children=(HTML(value=''), FloatProgress(value=0.0, max=1.0), HTML(value='')))"
      ]
     },
     "metadata": {},
     "output_type": "display_data"
    },
    {
     "data": {
      "application/vnd.jupyter.widget-view+json": {
       "model_id": "",
       "version_major": 2,
       "version_minor": 0
      },
      "text/plain": [
       "HBox(children=(HTML(value=''), FloatProgress(value=0.0, max=2.0), HTML(value='')))"
      ]
     },
     "metadata": {},
     "output_type": "display_data"
    },
    {
     "data": {
      "application/vnd.jupyter.widget-view+json": {
       "model_id": "",
       "version_major": 2,
       "version_minor": 0
      },
      "text/plain": [
       "HBox(children=(HTML(value=''), FloatProgress(value=0.0, max=1.0), HTML(value='')))"
      ]
     },
     "metadata": {},
     "output_type": "display_data"
    },
    {
     "data": {
      "application/vnd.jupyter.widget-view+json": {
       "model_id": "",
       "version_major": 2,
       "version_minor": 0
      },
      "text/plain": [
       "HBox(children=(HTML(value=''), FloatProgress(value=0.0, max=6.0), HTML(value='')))"
      ]
     },
     "metadata": {},
     "output_type": "display_data"
    },
    {
     "data": {
      "application/vnd.jupyter.widget-view+json": {
       "model_id": "",
       "version_major": 2,
       "version_minor": 0
      },
      "text/plain": [
       "HBox(children=(HTML(value=''), FloatProgress(value=0.0, max=8.0), HTML(value='')))"
      ]
     },
     "metadata": {},
     "output_type": "display_data"
    },
    {
     "data": {
      "application/vnd.jupyter.widget-view+json": {
       "model_id": "",
       "version_major": 2,
       "version_minor": 0
      },
      "text/plain": [
       "HBox(children=(HTML(value=''), FloatProgress(value=0.0, max=11.0), HTML(value='')))"
      ]
     },
     "metadata": {},
     "output_type": "display_data"
    },
    {
     "data": {
      "application/vnd.jupyter.widget-view+json": {
       "model_id": "",
       "version_major": 2,
       "version_minor": 0
      },
      "text/plain": [
       "HBox(children=(HTML(value=''), FloatProgress(value=0.0, max=4.0), HTML(value='')))"
      ]
     },
     "metadata": {},
     "output_type": "display_data"
    },
    {
     "data": {
      "application/vnd.jupyter.widget-view+json": {
       "model_id": "",
       "version_major": 2,
       "version_minor": 0
      },
      "text/plain": [
       "HBox(children=(HTML(value=''), FloatProgress(value=0.0, max=1.0), HTML(value='')))"
      ]
     },
     "metadata": {},
     "output_type": "display_data"
    },
    {
     "data": {
      "application/vnd.jupyter.widget-view+json": {
       "model_id": "",
       "version_major": 2,
       "version_minor": 0
      },
      "text/plain": [
       "HBox(children=(HTML(value=''), FloatProgress(value=0.0, max=2.0), HTML(value='')))"
      ]
     },
     "metadata": {},
     "output_type": "display_data"
    },
    {
     "data": {
      "application/vnd.jupyter.widget-view+json": {
       "model_id": "",
       "version_major": 2,
       "version_minor": 0
      },
      "text/plain": [
       "HBox(children=(HTML(value=''), FloatProgress(value=0.0, max=34.0), HTML(value='')))"
      ]
     },
     "metadata": {},
     "output_type": "display_data"
    },
    {
     "data": {
      "application/vnd.jupyter.widget-view+json": {
       "model_id": "",
       "version_major": 2,
       "version_minor": 0
      },
      "text/plain": [
       "HBox(children=(HTML(value=''), FloatProgress(value=0.0, max=1.0), HTML(value='')))"
      ]
     },
     "metadata": {},
     "output_type": "display_data"
    },
    {
     "data": {
      "application/vnd.jupyter.widget-view+json": {
       "model_id": "",
       "version_major": 2,
       "version_minor": 0
      },
      "text/plain": [
       "HBox(children=(HTML(value=''), FloatProgress(value=0.0, max=1.0), HTML(value='')))"
      ]
     },
     "metadata": {},
     "output_type": "display_data"
    },
    {
     "data": {
      "application/vnd.jupyter.widget-view+json": {
       "model_id": "",
       "version_major": 2,
       "version_minor": 0
      },
      "text/plain": [
       "HBox(children=(HTML(value=''), FloatProgress(value=0.0, max=6.0), HTML(value='')))"
      ]
     },
     "metadata": {},
     "output_type": "display_data"
    },
    {
     "data": {
      "application/vnd.jupyter.widget-view+json": {
       "model_id": "",
       "version_major": 2,
       "version_minor": 0
      },
      "text/plain": [
       "HBox(children=(HTML(value=''), FloatProgress(value=0.0, max=9.0), HTML(value='')))"
      ]
     },
     "metadata": {},
     "output_type": "display_data"
    },
    {
     "data": {
      "application/vnd.jupyter.widget-view+json": {
       "model_id": "",
       "version_major": 2,
       "version_minor": 0
      },
      "text/plain": [
       "HBox(children=(HTML(value=''), FloatProgress(value=0.0, max=1.0), HTML(value='')))"
      ]
     },
     "metadata": {},
     "output_type": "display_data"
    },
    {
     "data": {
      "application/vnd.jupyter.widget-view+json": {
       "model_id": "",
       "version_major": 2,
       "version_minor": 0
      },
      "text/plain": [
       "HBox(children=(HTML(value=''), FloatProgress(value=0.0, max=5.0), HTML(value='')))"
      ]
     },
     "metadata": {},
     "output_type": "display_data"
    },
    {
     "data": {
      "application/vnd.jupyter.widget-view+json": {
       "model_id": "",
       "version_major": 2,
       "version_minor": 0
      },
      "text/plain": [
       "HBox(children=(HTML(value=''), FloatProgress(value=0.0, max=4.0), HTML(value='')))"
      ]
     },
     "metadata": {},
     "output_type": "display_data"
    },
    {
     "data": {
      "application/vnd.jupyter.widget-view+json": {
       "model_id": "",
       "version_major": 2,
       "version_minor": 0
      },
      "text/plain": [
       "HBox(children=(HTML(value=''), FloatProgress(value=0.0, max=4.0), HTML(value='')))"
      ]
     },
     "metadata": {},
     "output_type": "display_data"
    },
    {
     "data": {
      "application/vnd.jupyter.widget-view+json": {
       "model_id": "",
       "version_major": 2,
       "version_minor": 0
      },
      "text/plain": [
       "HBox(children=(HTML(value=''), FloatProgress(value=0.0, max=2.0), HTML(value='')))"
      ]
     },
     "metadata": {},
     "output_type": "display_data"
    },
    {
     "data": {
      "application/vnd.jupyter.widget-view+json": {
       "model_id": "",
       "version_major": 2,
       "version_minor": 0
      },
      "text/plain": [
       "HBox(children=(HTML(value=''), FloatProgress(value=0.0, max=5.0), HTML(value='')))"
      ]
     },
     "metadata": {},
     "output_type": "display_data"
    },
    {
     "data": {
      "application/vnd.jupyter.widget-view+json": {
       "model_id": "",
       "version_major": 2,
       "version_minor": 0
      },
      "text/plain": [
       "HBox(children=(HTML(value=''), FloatProgress(value=0.0, max=1.0), HTML(value='')))"
      ]
     },
     "metadata": {},
     "output_type": "display_data"
    },
    {
     "data": {
      "application/vnd.jupyter.widget-view+json": {
       "model_id": "",
       "version_major": 2,
       "version_minor": 0
      },
      "text/plain": [
       "HBox(children=(HTML(value=''), FloatProgress(value=0.0, max=7.0), HTML(value='')))"
      ]
     },
     "metadata": {},
     "output_type": "display_data"
    },
    {
     "data": {
      "application/vnd.jupyter.widget-view+json": {
       "model_id": "",
       "version_major": 2,
       "version_minor": 0
      },
      "text/plain": [
       "HBox(children=(HTML(value=''), FloatProgress(value=0.0, max=2.0), HTML(value='')))"
      ]
     },
     "metadata": {},
     "output_type": "display_data"
    },
    {
     "data": {
      "application/vnd.jupyter.widget-view+json": {
       "model_id": "",
       "version_major": 2,
       "version_minor": 0
      },
      "text/plain": [
       "HBox(children=(HTML(value=''), FloatProgress(value=0.0, max=2.0), HTML(value='')))"
      ]
     },
     "metadata": {},
     "output_type": "display_data"
    },
    {
     "data": {
      "application/vnd.jupyter.widget-view+json": {
       "model_id": "",
       "version_major": 2,
       "version_minor": 0
      },
      "text/plain": [
       "HBox(children=(HTML(value=''), FloatProgress(value=0.0, max=4.0), HTML(value='')))"
      ]
     },
     "metadata": {},
     "output_type": "display_data"
    },
    {
     "data": {
      "application/vnd.jupyter.widget-view+json": {
       "model_id": "",
       "version_major": 2,
       "version_minor": 0
      },
      "text/plain": [
       "HBox(children=(HTML(value=''), FloatProgress(value=0.0, max=8.0), HTML(value='')))"
      ]
     },
     "metadata": {},
     "output_type": "display_data"
    },
    {
     "data": {
      "application/vnd.jupyter.widget-view+json": {
       "model_id": "",
       "version_major": 2,
       "version_minor": 0
      },
      "text/plain": [
       "HBox(children=(HTML(value=''), FloatProgress(value=0.0, max=4.0), HTML(value='')))"
      ]
     },
     "metadata": {},
     "output_type": "display_data"
    },
    {
     "data": {
      "application/vnd.jupyter.widget-view+json": {
       "model_id": "",
       "version_major": 2,
       "version_minor": 0
      },
      "text/plain": [
       "HBox(children=(HTML(value=''), FloatProgress(value=0.0, max=3.0), HTML(value='')))"
      ]
     },
     "metadata": {},
     "output_type": "display_data"
    },
    {
     "data": {
      "application/vnd.jupyter.widget-view+json": {
       "model_id": "",
       "version_major": 2,
       "version_minor": 0
      },
      "text/plain": [
       "HBox(children=(HTML(value=''), FloatProgress(value=0.0, max=1.0), HTML(value='')))"
      ]
     },
     "metadata": {},
     "output_type": "display_data"
    },
    {
     "data": {
      "application/vnd.jupyter.widget-view+json": {
       "model_id": "",
       "version_major": 2,
       "version_minor": 0
      },
      "text/plain": [
       "HBox(children=(HTML(value=''), FloatProgress(value=0.0, max=1.0), HTML(value='')))"
      ]
     },
     "metadata": {},
     "output_type": "display_data"
    },
    {
     "data": {
      "application/vnd.jupyter.widget-view+json": {
       "model_id": "",
       "version_major": 2,
       "version_minor": 0
      },
      "text/plain": [
       "HBox(children=(HTML(value=''), FloatProgress(value=0.0, max=2.0), HTML(value='')))"
      ]
     },
     "metadata": {},
     "output_type": "display_data"
    },
    {
     "data": {
      "application/vnd.jupyter.widget-view+json": {
       "model_id": "",
       "version_major": 2,
       "version_minor": 0
      },
      "text/plain": [
       "HBox(children=(HTML(value=''), FloatProgress(value=0.0, max=2.0), HTML(value='')))"
      ]
     },
     "metadata": {},
     "output_type": "display_data"
    },
    {
     "data": {
      "application/vnd.jupyter.widget-view+json": {
       "model_id": "",
       "version_major": 2,
       "version_minor": 0
      },
      "text/plain": [
       "HBox(children=(HTML(value=''), FloatProgress(value=0.0, max=6.0), HTML(value='')))"
      ]
     },
     "metadata": {},
     "output_type": "display_data"
    },
    {
     "data": {
      "application/vnd.jupyter.widget-view+json": {
       "model_id": "",
       "version_major": 2,
       "version_minor": 0
      },
      "text/plain": [
       "HBox(children=(HTML(value=''), FloatProgress(value=0.0, max=1.0), HTML(value='')))"
      ]
     },
     "metadata": {},
     "output_type": "display_data"
    },
    {
     "data": {
      "application/vnd.jupyter.widget-view+json": {
       "model_id": "",
       "version_major": 2,
       "version_minor": 0
      },
      "text/plain": [
       "HBox(children=(HTML(value=''), FloatProgress(value=0.0, max=3.0), HTML(value='')))"
      ]
     },
     "metadata": {},
     "output_type": "display_data"
    },
    {
     "data": {
      "application/vnd.jupyter.widget-view+json": {
       "model_id": "",
       "version_major": 2,
       "version_minor": 0
      },
      "text/plain": [
       "HBox(children=(HTML(value=''), FloatProgress(value=0.0, max=2.0), HTML(value='')))"
      ]
     },
     "metadata": {},
     "output_type": "display_data"
    },
    {
     "data": {
      "application/vnd.jupyter.widget-view+json": {
       "model_id": "",
       "version_major": 2,
       "version_minor": 0
      },
      "text/plain": [
       "HBox(children=(HTML(value=''), FloatProgress(value=0.0, max=1.0), HTML(value='')))"
      ]
     },
     "metadata": {},
     "output_type": "display_data"
    },
    {
     "data": {
      "application/vnd.jupyter.widget-view+json": {
       "model_id": "",
       "version_major": 2,
       "version_minor": 0
      },
      "text/plain": [
       "HBox(children=(HTML(value=''), FloatProgress(value=0.0, max=1.0), HTML(value='')))"
      ]
     },
     "metadata": {},
     "output_type": "display_data"
    },
    {
     "data": {
      "application/vnd.jupyter.widget-view+json": {
       "model_id": "",
       "version_major": 2,
       "version_minor": 0
      },
      "text/plain": [
       "HBox(children=(HTML(value=''), FloatProgress(value=0.0, max=1.0), HTML(value='')))"
      ]
     },
     "metadata": {},
     "output_type": "display_data"
    },
    {
     "data": {
      "application/vnd.jupyter.widget-view+json": {
       "model_id": "",
       "version_major": 2,
       "version_minor": 0
      },
      "text/plain": [
       "HBox(children=(HTML(value=''), FloatProgress(value=0.0, max=1.0), HTML(value='')))"
      ]
     },
     "metadata": {},
     "output_type": "display_data"
    },
    {
     "data": {
      "application/vnd.jupyter.widget-view+json": {
       "model_id": "",
       "version_major": 2,
       "version_minor": 0
      },
      "text/plain": [
       "HBox(children=(HTML(value=''), FloatProgress(value=0.0, max=5.0), HTML(value='')))"
      ]
     },
     "metadata": {},
     "output_type": "display_data"
    },
    {
     "data": {
      "application/vnd.jupyter.widget-view+json": {
       "model_id": "fff408bdf1274bd79ed3326def5ebd53",
       "version_major": 2,
       "version_minor": 0
      },
      "text/plain": [
       "HBox(children=(HTML(value=''), FloatProgress(value=0.0, max=5.0), HTML(value='')))"
      ]
     },
     "metadata": {},
     "output_type": "display_data"
    },
    {
     "data": {
      "application/vnd.jupyter.widget-view+json": {
       "model_id": "061a04855d024241b780ce28041f8566",
       "version_major": 2,
       "version_minor": 0
      },
      "text/plain": [
       "HBox(children=(HTML(value=''), FloatProgress(value=0.0, max=1.0), HTML(value='')))"
      ]
     },
     "metadata": {},
     "output_type": "display_data"
    },
    {
     "data": {
      "application/vnd.jupyter.widget-view+json": {
       "model_id": "",
       "version_major": 2,
       "version_minor": 0
      },
      "text/plain": [
       "HBox(children=(HTML(value=''), FloatProgress(value=0.0, max=1.0), HTML(value='')))"
      ]
     },
     "metadata": {},
     "output_type": "display_data"
    },
    {
     "data": {
      "application/vnd.jupyter.widget-view+json": {
       "model_id": "",
       "version_major": 2,
       "version_minor": 0
      },
      "text/plain": [
       "HBox(children=(HTML(value=''), FloatProgress(value=0.0, max=3.0), HTML(value='')))"
      ]
     },
     "metadata": {},
     "output_type": "display_data"
    },
    {
     "data": {
      "application/vnd.jupyter.widget-view+json": {
       "model_id": "",
       "version_major": 2,
       "version_minor": 0
      },
      "text/plain": [
       "HBox(children=(HTML(value=''), FloatProgress(value=0.0, max=1.0), HTML(value='')))"
      ]
     },
     "metadata": {},
     "output_type": "display_data"
    },
    {
     "data": {
      "application/vnd.jupyter.widget-view+json": {
       "model_id": "",
       "version_major": 2,
       "version_minor": 0
      },
      "text/plain": [
       "HBox(children=(HTML(value=''), FloatProgress(value=0.0, max=1.0), HTML(value='')))"
      ]
     },
     "metadata": {},
     "output_type": "display_data"
    },
    {
     "data": {
      "application/vnd.jupyter.widget-view+json": {
       "model_id": "",
       "version_major": 2,
       "version_minor": 0
      },
      "text/plain": [
       "HBox(children=(HTML(value=''), FloatProgress(value=0.0, max=6.0), HTML(value='')))"
      ]
     },
     "metadata": {},
     "output_type": "display_data"
    },
    {
     "data": {
      "application/vnd.jupyter.widget-view+json": {
       "model_id": "",
       "version_major": 2,
       "version_minor": 0
      },
      "text/plain": [
       "HBox(children=(HTML(value=''), FloatProgress(value=0.0, max=1.0), HTML(value='')))"
      ]
     },
     "metadata": {},
     "output_type": "display_data"
    },
    {
     "data": {
      "application/vnd.jupyter.widget-view+json": {
       "model_id": "",
       "version_major": 2,
       "version_minor": 0
      },
      "text/plain": [
       "HBox(children=(HTML(value=''), FloatProgress(value=0.0, max=7.0), HTML(value='')))"
      ]
     },
     "metadata": {},
     "output_type": "display_data"
    },
    {
     "data": {
      "application/vnd.jupyter.widget-view+json": {
       "model_id": "",
       "version_major": 2,
       "version_minor": 0
      },
      "text/plain": [
       "HBox(children=(HTML(value=''), FloatProgress(value=0.0, max=7.0), HTML(value='')))"
      ]
     },
     "metadata": {},
     "output_type": "display_data"
    },
    {
     "data": {
      "application/vnd.jupyter.widget-view+json": {
       "model_id": "",
       "version_major": 2,
       "version_minor": 0
      },
      "text/plain": [
       "HBox(children=(HTML(value=''), FloatProgress(value=0.0, max=1.0), HTML(value='')))"
      ]
     },
     "metadata": {},
     "output_type": "display_data"
    },
    {
     "data": {
      "application/vnd.jupyter.widget-view+json": {
       "model_id": "",
       "version_major": 2,
       "version_minor": 0
      },
      "text/plain": [
       "HBox(children=(HTML(value=''), FloatProgress(value=0.0, max=12.0), HTML(value='')))"
      ]
     },
     "metadata": {},
     "output_type": "display_data"
    },
    {
     "data": {
      "application/vnd.jupyter.widget-view+json": {
       "model_id": "",
       "version_major": 2,
       "version_minor": 0
      },
      "text/plain": [
       "HBox(children=(HTML(value=''), FloatProgress(value=0.0, max=5.0), HTML(value='')))"
      ]
     },
     "metadata": {},
     "output_type": "display_data"
    },
    {
     "data": {
      "application/vnd.jupyter.widget-view+json": {
       "model_id": "",
       "version_major": 2,
       "version_minor": 0
      },
      "text/plain": [
       "HBox(children=(HTML(value=''), FloatProgress(value=0.0, max=1.0), HTML(value='')))"
      ]
     },
     "metadata": {},
     "output_type": "display_data"
    },
    {
     "data": {
      "application/vnd.jupyter.widget-view+json": {
       "model_id": "",
       "version_major": 2,
       "version_minor": 0
      },
      "text/plain": [
       "HBox(children=(HTML(value=''), FloatProgress(value=0.0, max=7.0), HTML(value='')))"
      ]
     },
     "metadata": {},
     "output_type": "display_data"
    },
    {
     "data": {
      "application/vnd.jupyter.widget-view+json": {
       "model_id": "",
       "version_major": 2,
       "version_minor": 0
      },
      "text/plain": [
       "HBox(children=(HTML(value=''), FloatProgress(value=0.0, max=5.0), HTML(value='')))"
      ]
     },
     "metadata": {},
     "output_type": "display_data"
    },
    {
     "data": {
      "application/vnd.jupyter.widget-view+json": {
       "model_id": "",
       "version_major": 2,
       "version_minor": 0
      },
      "text/plain": [
       "HBox(children=(HTML(value=''), FloatProgress(value=0.0, max=56.0), HTML(value='')))"
      ]
     },
     "metadata": {},
     "output_type": "display_data"
    },
    {
     "data": {
      "application/vnd.jupyter.widget-view+json": {
       "model_id": "",
       "version_major": 2,
       "version_minor": 0
      },
      "text/plain": [
       "HBox(children=(HTML(value=''), FloatProgress(value=0.0, max=6.0), HTML(value='')))"
      ]
     },
     "metadata": {},
     "output_type": "display_data"
    },
    {
     "data": {
      "application/vnd.jupyter.widget-view+json": {
       "model_id": "",
       "version_major": 2,
       "version_minor": 0
      },
      "text/plain": [
       "HBox(children=(HTML(value=''), FloatProgress(value=0.0, max=3.0), HTML(value='')))"
      ]
     },
     "metadata": {},
     "output_type": "display_data"
    },
    {
     "data": {
      "application/vnd.jupyter.widget-view+json": {
       "model_id": "",
       "version_major": 2,
       "version_minor": 0
      },
      "text/plain": [
       "HBox(children=(HTML(value=''), FloatProgress(value=0.0, max=1.0), HTML(value='')))"
      ]
     },
     "metadata": {},
     "output_type": "display_data"
    },
    {
     "data": {
      "application/vnd.jupyter.widget-view+json": {
       "model_id": "",
       "version_major": 2,
       "version_minor": 0
      },
      "text/plain": [
       "HBox(children=(HTML(value=''), FloatProgress(value=0.0, max=1.0), HTML(value='')))"
      ]
     },
     "metadata": {},
     "output_type": "display_data"
    },
    {
     "data": {
      "application/vnd.jupyter.widget-view+json": {
       "model_id": "",
       "version_major": 2,
       "version_minor": 0
      },
      "text/plain": [
       "HBox(children=(HTML(value=''), FloatProgress(value=0.0, max=3.0), HTML(value='')))"
      ]
     },
     "metadata": {},
     "output_type": "display_data"
    },
    {
     "data": {
      "application/vnd.jupyter.widget-view+json": {
       "model_id": "",
       "version_major": 2,
       "version_minor": 0
      },
      "text/plain": [
       "HBox(children=(HTML(value=''), FloatProgress(value=0.0, max=3.0), HTML(value='')))"
      ]
     },
     "metadata": {},
     "output_type": "display_data"
    },
    {
     "data": {
      "application/vnd.jupyter.widget-view+json": {
       "model_id": "",
       "version_major": 2,
       "version_minor": 0
      },
      "text/plain": [
       "HBox(children=(HTML(value=''), FloatProgress(value=0.0, max=1.0), HTML(value='')))"
      ]
     },
     "metadata": {},
     "output_type": "display_data"
    },
    {
     "data": {
      "application/vnd.jupyter.widget-view+json": {
       "model_id": "",
       "version_major": 2,
       "version_minor": 0
      },
      "text/plain": [
       "HBox(children=(HTML(value=''), FloatProgress(value=0.0, max=10.0), HTML(value='')))"
      ]
     },
     "metadata": {},
     "output_type": "display_data"
    },
    {
     "data": {
      "application/vnd.jupyter.widget-view+json": {
       "model_id": "",
       "version_major": 2,
       "version_minor": 0
      },
      "text/plain": [
       "HBox(children=(HTML(value=''), FloatProgress(value=0.0, max=1.0), HTML(value='')))"
      ]
     },
     "metadata": {},
     "output_type": "display_data"
    },
    {
     "data": {
      "application/vnd.jupyter.widget-view+json": {
       "model_id": "",
       "version_major": 2,
       "version_minor": 0
      },
      "text/plain": [
       "HBox(children=(HTML(value=''), FloatProgress(value=0.0, max=6.0), HTML(value='')))"
      ]
     },
     "metadata": {},
     "output_type": "display_data"
    },
    {
     "data": {
      "application/vnd.jupyter.widget-view+json": {
       "model_id": "",
       "version_major": 2,
       "version_minor": 0
      },
      "text/plain": [
       "HBox(children=(HTML(value=''), FloatProgress(value=0.0, max=1.0), HTML(value='')))"
      ]
     },
     "metadata": {},
     "output_type": "display_data"
    },
    {
     "data": {
      "application/vnd.jupyter.widget-view+json": {
       "model_id": "",
       "version_major": 2,
       "version_minor": 0
      },
      "text/plain": [
       "HBox(children=(HTML(value=''), FloatProgress(value=0.0, max=8.0), HTML(value='')))"
      ]
     },
     "metadata": {},
     "output_type": "display_data"
    },
    {
     "data": {
      "application/vnd.jupyter.widget-view+json": {
       "model_id": "",
       "version_major": 2,
       "version_minor": 0
      },
      "text/plain": [
       "HBox(children=(HTML(value=''), FloatProgress(value=0.0, max=5.0), HTML(value='')))"
      ]
     },
     "metadata": {},
     "output_type": "display_data"
    },
    {
     "data": {
      "application/vnd.jupyter.widget-view+json": {
       "model_id": "",
       "version_major": 2,
       "version_minor": 0
      },
      "text/plain": [
       "HBox(children=(HTML(value=''), FloatProgress(value=0.0, max=4.0), HTML(value='')))"
      ]
     },
     "metadata": {},
     "output_type": "display_data"
    },
    {
     "data": {
      "application/vnd.jupyter.widget-view+json": {
       "model_id": "",
       "version_major": 2,
       "version_minor": 0
      },
      "text/plain": [
       "HBox(children=(HTML(value=''), FloatProgress(value=0.0, max=9.0), HTML(value='')))"
      ]
     },
     "metadata": {},
     "output_type": "display_data"
    },
    {
     "data": {
      "application/vnd.jupyter.widget-view+json": {
       "model_id": "",
       "version_major": 2,
       "version_minor": 0
      },
      "text/plain": [
       "HBox(children=(HTML(value=''), FloatProgress(value=0.0, max=2.0), HTML(value='')))"
      ]
     },
     "metadata": {},
     "output_type": "display_data"
    },
    {
     "data": {
      "application/vnd.jupyter.widget-view+json": {
       "model_id": "",
       "version_major": 2,
       "version_minor": 0
      },
      "text/plain": [
       "HBox(children=(HTML(value=''), FloatProgress(value=0.0, max=4.0), HTML(value='')))"
      ]
     },
     "metadata": {},
     "output_type": "display_data"
    },
    {
     "data": {
      "application/vnd.jupyter.widget-view+json": {
       "model_id": "",
       "version_major": 2,
       "version_minor": 0
      },
      "text/plain": [
       "HBox(children=(HTML(value=''), FloatProgress(value=0.0, max=2.0), HTML(value='')))"
      ]
     },
     "metadata": {},
     "output_type": "display_data"
    },
    {
     "data": {
      "application/vnd.jupyter.widget-view+json": {
       "model_id": "",
       "version_major": 2,
       "version_minor": 0
      },
      "text/plain": [
       "HBox(children=(HTML(value=''), FloatProgress(value=0.0, max=7.0), HTML(value='')))"
      ]
     },
     "metadata": {},
     "output_type": "display_data"
    },
    {
     "data": {
      "application/vnd.jupyter.widget-view+json": {
       "model_id": "",
       "version_major": 2,
       "version_minor": 0
      },
      "text/plain": [
       "HBox(children=(HTML(value=''), FloatProgress(value=0.0, max=4.0), HTML(value='')))"
      ]
     },
     "metadata": {},
     "output_type": "display_data"
    },
    {
     "data": {
      "application/vnd.jupyter.widget-view+json": {
       "model_id": "",
       "version_major": 2,
       "version_minor": 0
      },
      "text/plain": [
       "HBox(children=(HTML(value=''), FloatProgress(value=0.0, max=6.0), HTML(value='')))"
      ]
     },
     "metadata": {},
     "output_type": "display_data"
    },
    {
     "data": {
      "application/vnd.jupyter.widget-view+json": {
       "model_id": "",
       "version_major": 2,
       "version_minor": 0
      },
      "text/plain": [
       "HBox(children=(HTML(value=''), FloatProgress(value=0.0, max=1.0), HTML(value='')))"
      ]
     },
     "metadata": {},
     "output_type": "display_data"
    },
    {
     "data": {
      "application/vnd.jupyter.widget-view+json": {
       "model_id": "",
       "version_major": 2,
       "version_minor": 0
      },
      "text/plain": [
       "HBox(children=(HTML(value=''), FloatProgress(value=0.0, max=4.0), HTML(value='')))"
      ]
     },
     "metadata": {},
     "output_type": "display_data"
    },
    {
     "data": {
      "application/vnd.jupyter.widget-view+json": {
       "model_id": "",
       "version_major": 2,
       "version_minor": 0
      },
      "text/plain": [
       "HBox(children=(HTML(value=''), FloatProgress(value=0.0, max=7.0), HTML(value='')))"
      ]
     },
     "metadata": {},
     "output_type": "display_data"
    },
    {
     "data": {
      "application/vnd.jupyter.widget-view+json": {
       "model_id": "",
       "version_major": 2,
       "version_minor": 0
      },
      "text/plain": [
       "HBox(children=(HTML(value=''), FloatProgress(value=0.0, max=1.0), HTML(value='')))"
      ]
     },
     "metadata": {},
     "output_type": "display_data"
    },
    {
     "data": {
      "application/vnd.jupyter.widget-view+json": {
       "model_id": "",
       "version_major": 2,
       "version_minor": 0
      },
      "text/plain": [
       "HBox(children=(HTML(value=''), FloatProgress(value=0.0, max=3.0), HTML(value='')))"
      ]
     },
     "metadata": {},
     "output_type": "display_data"
    },
    {
     "data": {
      "application/vnd.jupyter.widget-view+json": {
       "model_id": "",
       "version_major": 2,
       "version_minor": 0
      },
      "text/plain": [
       "HBox(children=(HTML(value=''), FloatProgress(value=0.0, max=3.0), HTML(value='')))"
      ]
     },
     "metadata": {},
     "output_type": "display_data"
    },
    {
     "data": {
      "application/vnd.jupyter.widget-view+json": {
       "model_id": "",
       "version_major": 2,
       "version_minor": 0
      },
      "text/plain": [
       "HBox(children=(HTML(value=''), FloatProgress(value=0.0, max=3.0), HTML(value='')))"
      ]
     },
     "metadata": {},
     "output_type": "display_data"
    },
    {
     "data": {
      "application/vnd.jupyter.widget-view+json": {
       "model_id": "",
       "version_major": 2,
       "version_minor": 0
      },
      "text/plain": [
       "HBox(children=(HTML(value=''), FloatProgress(value=0.0, max=1.0), HTML(value='')))"
      ]
     },
     "metadata": {},
     "output_type": "display_data"
    },
    {
     "data": {
      "application/vnd.jupyter.widget-view+json": {
       "model_id": "",
       "version_major": 2,
       "version_minor": 0
      },
      "text/plain": [
       "HBox(children=(HTML(value=''), FloatProgress(value=0.0, max=3.0), HTML(value='')))"
      ]
     },
     "metadata": {},
     "output_type": "display_data"
    },
    {
     "data": {
      "application/vnd.jupyter.widget-view+json": {
       "model_id": "",
       "version_major": 2,
       "version_minor": 0
      },
      "text/plain": [
       "HBox(children=(HTML(value=''), FloatProgress(value=0.0, max=8.0), HTML(value='')))"
      ]
     },
     "metadata": {},
     "output_type": "display_data"
    },
    {
     "data": {
      "application/vnd.jupyter.widget-view+json": {
       "model_id": "",
       "version_major": 2,
       "version_minor": 0
      },
      "text/plain": [
       "HBox(children=(HTML(value=''), FloatProgress(value=0.0, max=3.0), HTML(value='')))"
      ]
     },
     "metadata": {},
     "output_type": "display_data"
    },
    {
     "data": {
      "application/vnd.jupyter.widget-view+json": {
       "model_id": "",
       "version_major": 2,
       "version_minor": 0
      },
      "text/plain": [
       "HBox(children=(HTML(value=''), FloatProgress(value=0.0, max=3.0), HTML(value='')))"
      ]
     },
     "metadata": {},
     "output_type": "display_data"
    },
    {
     "data": {
      "application/vnd.jupyter.widget-view+json": {
       "model_id": "",
       "version_major": 2,
       "version_minor": 0
      },
      "text/plain": [
       "HBox(children=(HTML(value=''), FloatProgress(value=0.0, max=2.0), HTML(value='')))"
      ]
     },
     "metadata": {},
     "output_type": "display_data"
    },
    {
     "data": {
      "application/vnd.jupyter.widget-view+json": {
       "model_id": "",
       "version_major": 2,
       "version_minor": 0
      },
      "text/plain": [
       "HBox(children=(HTML(value=''), FloatProgress(value=0.0, max=8.0), HTML(value='')))"
      ]
     },
     "metadata": {},
     "output_type": "display_data"
    },
    {
     "data": {
      "application/vnd.jupyter.widget-view+json": {
       "model_id": "",
       "version_major": 2,
       "version_minor": 0
      },
      "text/plain": [
       "HBox(children=(HTML(value=''), FloatProgress(value=0.0, max=3.0), HTML(value='')))"
      ]
     },
     "metadata": {},
     "output_type": "display_data"
    },
    {
     "data": {
      "application/vnd.jupyter.widget-view+json": {
       "model_id": "",
       "version_major": 2,
       "version_minor": 0
      },
      "text/plain": [
       "HBox(children=(HTML(value=''), FloatProgress(value=0.0, max=1.0), HTML(value='')))"
      ]
     },
     "metadata": {},
     "output_type": "display_data"
    },
    {
     "data": {
      "application/vnd.jupyter.widget-view+json": {
       "model_id": "",
       "version_major": 2,
       "version_minor": 0
      },
      "text/plain": [
       "HBox(children=(HTML(value=''), FloatProgress(value=0.0, max=2.0), HTML(value='')))"
      ]
     },
     "metadata": {},
     "output_type": "display_data"
    },
    {
     "data": {
      "application/vnd.jupyter.widget-view+json": {
       "model_id": "",
       "version_major": 2,
       "version_minor": 0
      },
      "text/plain": [
       "HBox(children=(HTML(value=''), FloatProgress(value=0.0, max=2.0), HTML(value='')))"
      ]
     },
     "metadata": {},
     "output_type": "display_data"
    },
    {
     "data": {
      "application/vnd.jupyter.widget-view+json": {
       "model_id": "",
       "version_major": 2,
       "version_minor": 0
      },
      "text/plain": [
       "HBox(children=(HTML(value=''), FloatProgress(value=0.0, max=4.0), HTML(value='')))"
      ]
     },
     "metadata": {},
     "output_type": "display_data"
    },
    {
     "data": {
      "application/vnd.jupyter.widget-view+json": {
       "model_id": "",
       "version_major": 2,
       "version_minor": 0
      },
      "text/plain": [
       "HBox(children=(HTML(value=''), FloatProgress(value=0.0, max=1.0), HTML(value='')))"
      ]
     },
     "metadata": {},
     "output_type": "display_data"
    },
    {
     "data": {
      "application/vnd.jupyter.widget-view+json": {
       "model_id": "",
       "version_major": 2,
       "version_minor": 0
      },
      "text/plain": [
       "HBox(children=(HTML(value=''), FloatProgress(value=0.0, max=5.0), HTML(value='')))"
      ]
     },
     "metadata": {},
     "output_type": "display_data"
    },
    {
     "data": {
      "application/vnd.jupyter.widget-view+json": {
       "model_id": "",
       "version_major": 2,
       "version_minor": 0
      },
      "text/plain": [
       "HBox(children=(HTML(value=''), FloatProgress(value=0.0, max=1.0), HTML(value='')))"
      ]
     },
     "metadata": {},
     "output_type": "display_data"
    },
    {
     "data": {
      "application/vnd.jupyter.widget-view+json": {
       "model_id": "",
       "version_major": 2,
       "version_minor": 0
      },
      "text/plain": [
       "HBox(children=(HTML(value=''), FloatProgress(value=0.0, max=8.0), HTML(value='')))"
      ]
     },
     "metadata": {},
     "output_type": "display_data"
    },
    {
     "data": {
      "application/vnd.jupyter.widget-view+json": {
       "model_id": "",
       "version_major": 2,
       "version_minor": 0
      },
      "text/plain": [
       "HBox(children=(HTML(value=''), FloatProgress(value=0.0, max=1.0), HTML(value='')))"
      ]
     },
     "metadata": {},
     "output_type": "display_data"
    },
    {
     "data": {
      "application/vnd.jupyter.widget-view+json": {
       "model_id": "",
       "version_major": 2,
       "version_minor": 0
      },
      "text/plain": [
       "HBox(children=(HTML(value=''), FloatProgress(value=0.0, max=8.0), HTML(value='')))"
      ]
     },
     "metadata": {},
     "output_type": "display_data"
    },
    {
     "data": {
      "application/vnd.jupyter.widget-view+json": {
       "model_id": "",
       "version_major": 2,
       "version_minor": 0
      },
      "text/plain": [
       "HBox(children=(HTML(value=''), FloatProgress(value=0.0, max=7.0), HTML(value='')))"
      ]
     },
     "metadata": {},
     "output_type": "display_data"
    },
    {
     "data": {
      "application/vnd.jupyter.widget-view+json": {
       "model_id": "",
       "version_major": 2,
       "version_minor": 0
      },
      "text/plain": [
       "HBox(children=(HTML(value=''), FloatProgress(value=0.0, max=4.0), HTML(value='')))"
      ]
     },
     "metadata": {},
     "output_type": "display_data"
    },
    {
     "data": {
      "application/vnd.jupyter.widget-view+json": {
       "model_id": "",
       "version_major": 2,
       "version_minor": 0
      },
      "text/plain": [
       "HBox(children=(HTML(value=''), FloatProgress(value=0.0, max=7.0), HTML(value='')))"
      ]
     },
     "metadata": {},
     "output_type": "display_data"
    },
    {
     "data": {
      "application/vnd.jupyter.widget-view+json": {
       "model_id": "",
       "version_major": 2,
       "version_minor": 0
      },
      "text/plain": [
       "HBox(children=(HTML(value=''), FloatProgress(value=0.0, max=6.0), HTML(value='')))"
      ]
     },
     "metadata": {},
     "output_type": "display_data"
    },
    {
     "data": {
      "application/vnd.jupyter.widget-view+json": {
       "model_id": "",
       "version_major": 2,
       "version_minor": 0
      },
      "text/plain": [
       "HBox(children=(HTML(value=''), FloatProgress(value=0.0, max=16.0), HTML(value='')))"
      ]
     },
     "metadata": {},
     "output_type": "display_data"
    },
    {
     "data": {
      "application/vnd.jupyter.widget-view+json": {
       "model_id": "",
       "version_major": 2,
       "version_minor": 0
      },
      "text/plain": [
       "HBox(children=(HTML(value=''), FloatProgress(value=0.0, max=17.0), HTML(value='')))"
      ]
     },
     "metadata": {},
     "output_type": "display_data"
    },
    {
     "data": {
      "application/vnd.jupyter.widget-view+json": {
       "model_id": "",
       "version_major": 2,
       "version_minor": 0
      },
      "text/plain": [
       "HBox(children=(HTML(value=''), FloatProgress(value=0.0, max=8.0), HTML(value='')))"
      ]
     },
     "metadata": {},
     "output_type": "display_data"
    },
    {
     "data": {
      "application/vnd.jupyter.widget-view+json": {
       "model_id": "",
       "version_major": 2,
       "version_minor": 0
      },
      "text/plain": [
       "HBox(children=(HTML(value=''), FloatProgress(value=0.0, max=2.0), HTML(value='')))"
      ]
     },
     "metadata": {},
     "output_type": "display_data"
    },
    {
     "data": {
      "application/vnd.jupyter.widget-view+json": {
       "model_id": "",
       "version_major": 2,
       "version_minor": 0
      },
      "text/plain": [
       "HBox(children=(HTML(value=''), FloatProgress(value=0.0, max=1.0), HTML(value='')))"
      ]
     },
     "metadata": {},
     "output_type": "display_data"
    },
    {
     "data": {
      "application/vnd.jupyter.widget-view+json": {
       "model_id": "",
       "version_major": 2,
       "version_minor": 0
      },
      "text/plain": [
       "HBox(children=(HTML(value=''), FloatProgress(value=0.0, max=3.0), HTML(value='')))"
      ]
     },
     "metadata": {},
     "output_type": "display_data"
    },
    {
     "data": {
      "application/vnd.jupyter.widget-view+json": {
       "model_id": "",
       "version_major": 2,
       "version_minor": 0
      },
      "text/plain": [
       "HBox(children=(HTML(value=''), FloatProgress(value=0.0, max=1.0), HTML(value='')))"
      ]
     },
     "metadata": {},
     "output_type": "display_data"
    },
    {
     "data": {
      "application/vnd.jupyter.widget-view+json": {
       "model_id": "",
       "version_major": 2,
       "version_minor": 0
      },
      "text/plain": [
       "HBox(children=(HTML(value=''), FloatProgress(value=0.0, max=1.0), HTML(value='')))"
      ]
     },
     "metadata": {},
     "output_type": "display_data"
    },
    {
     "data": {
      "application/vnd.jupyter.widget-view+json": {
       "model_id": "",
       "version_major": 2,
       "version_minor": 0
      },
      "text/plain": [
       "HBox(children=(HTML(value=''), FloatProgress(value=0.0, max=1.0), HTML(value='')))"
      ]
     },
     "metadata": {},
     "output_type": "display_data"
    },
    {
     "data": {
      "application/vnd.jupyter.widget-view+json": {
       "model_id": "",
       "version_major": 2,
       "version_minor": 0
      },
      "text/plain": [
       "HBox(children=(HTML(value=''), FloatProgress(value=0.0, max=3.0), HTML(value='')))"
      ]
     },
     "metadata": {},
     "output_type": "display_data"
    },
    {
     "data": {
      "application/vnd.jupyter.widget-view+json": {
       "model_id": "",
       "version_major": 2,
       "version_minor": 0
      },
      "text/plain": [
       "HBox(children=(HTML(value=''), FloatProgress(value=0.0, max=9.0), HTML(value='')))"
      ]
     },
     "metadata": {},
     "output_type": "display_data"
    },
    {
     "data": {
      "application/vnd.jupyter.widget-view+json": {
       "model_id": "",
       "version_major": 2,
       "version_minor": 0
      },
      "text/plain": [
       "HBox(children=(HTML(value=''), FloatProgress(value=0.0, max=10.0), HTML(value='')))"
      ]
     },
     "metadata": {},
     "output_type": "display_data"
    },
    {
     "data": {
      "application/vnd.jupyter.widget-view+json": {
       "model_id": "",
       "version_major": 2,
       "version_minor": 0
      },
      "text/plain": [
       "HBox(children=(HTML(value=''), FloatProgress(value=0.0, max=1.0), HTML(value='')))"
      ]
     },
     "metadata": {},
     "output_type": "display_data"
    },
    {
     "data": {
      "application/vnd.jupyter.widget-view+json": {
       "model_id": "",
       "version_major": 2,
       "version_minor": 0
      },
      "text/plain": [
       "HBox(children=(HTML(value=''), FloatProgress(value=0.0, max=2.0), HTML(value='')))"
      ]
     },
     "metadata": {},
     "output_type": "display_data"
    },
    {
     "data": {
      "application/vnd.jupyter.widget-view+json": {
       "model_id": "",
       "version_major": 2,
       "version_minor": 0
      },
      "text/plain": [
       "HBox(children=(HTML(value=''), FloatProgress(value=0.0, max=2.0), HTML(value='')))"
      ]
     },
     "metadata": {},
     "output_type": "display_data"
    },
    {
     "data": {
      "application/vnd.jupyter.widget-view+json": {
       "model_id": "",
       "version_major": 2,
       "version_minor": 0
      },
      "text/plain": [
       "HBox(children=(HTML(value=''), FloatProgress(value=0.0, max=2.0), HTML(value='')))"
      ]
     },
     "metadata": {},
     "output_type": "display_data"
    },
    {
     "data": {
      "application/vnd.jupyter.widget-view+json": {
       "model_id": "",
       "version_major": 2,
       "version_minor": 0
      },
      "text/plain": [
       "HBox(children=(HTML(value=''), FloatProgress(value=0.0, max=4.0), HTML(value='')))"
      ]
     },
     "metadata": {},
     "output_type": "display_data"
    },
    {
     "data": {
      "application/vnd.jupyter.widget-view+json": {
       "model_id": "",
       "version_major": 2,
       "version_minor": 0
      },
      "text/plain": [
       "HBox(children=(HTML(value=''), FloatProgress(value=0.0, max=7.0), HTML(value='')))"
      ]
     },
     "metadata": {},
     "output_type": "display_data"
    },
    {
     "data": {
      "application/vnd.jupyter.widget-view+json": {
       "model_id": "",
       "version_major": 2,
       "version_minor": 0
      },
      "text/plain": [
       "HBox(children=(HTML(value=''), FloatProgress(value=0.0, max=1.0), HTML(value='')))"
      ]
     },
     "metadata": {},
     "output_type": "display_data"
    },
    {
     "data": {
      "application/vnd.jupyter.widget-view+json": {
       "model_id": "",
       "version_major": 2,
       "version_minor": 0
      },
      "text/plain": [
       "HBox(children=(HTML(value=''), FloatProgress(value=0.0, max=2.0), HTML(value='')))"
      ]
     },
     "metadata": {},
     "output_type": "display_data"
    },
    {
     "data": {
      "application/vnd.jupyter.widget-view+json": {
       "model_id": "",
       "version_major": 2,
       "version_minor": 0
      },
      "text/plain": [
       "HBox(children=(HTML(value=''), FloatProgress(value=0.0, max=3.0), HTML(value='')))"
      ]
     },
     "metadata": {},
     "output_type": "display_data"
    },
    {
     "data": {
      "application/vnd.jupyter.widget-view+json": {
       "model_id": "",
       "version_major": 2,
       "version_minor": 0
      },
      "text/plain": [
       "HBox(children=(HTML(value=''), FloatProgress(value=0.0, max=428.0), HTML(value='')))"
      ]
     },
     "metadata": {},
     "output_type": "display_data"
    },
    {
     "data": {
      "application/vnd.jupyter.widget-view+json": {
       "model_id": "",
       "version_major": 2,
       "version_minor": 0
      },
      "text/plain": [
       "HBox(children=(HTML(value=''), FloatProgress(value=0.0, max=3.0), HTML(value='')))"
      ]
     },
     "metadata": {},
     "output_type": "display_data"
    },
    {
     "data": {
      "application/vnd.jupyter.widget-view+json": {
       "model_id": "",
       "version_major": 2,
       "version_minor": 0
      },
      "text/plain": [
       "HBox(children=(HTML(value=''), FloatProgress(value=0.0, max=5.0), HTML(value='')))"
      ]
     },
     "metadata": {},
     "output_type": "display_data"
    },
    {
     "data": {
      "application/vnd.jupyter.widget-view+json": {
       "model_id": "",
       "version_major": 2,
       "version_minor": 0
      },
      "text/plain": [
       "HBox(children=(HTML(value=''), FloatProgress(value=0.0, max=1.0), HTML(value='')))"
      ]
     },
     "metadata": {},
     "output_type": "display_data"
    },
    {
     "data": {
      "application/vnd.jupyter.widget-view+json": {
       "model_id": "",
       "version_major": 2,
       "version_minor": 0
      },
      "text/plain": [
       "HBox(children=(HTML(value=''), FloatProgress(value=0.0, max=1.0), HTML(value='')))"
      ]
     },
     "metadata": {},
     "output_type": "display_data"
    },
    {
     "data": {
      "application/vnd.jupyter.widget-view+json": {
       "model_id": "",
       "version_major": 2,
       "version_minor": 0
      },
      "text/plain": [
       "HBox(children=(HTML(value=''), FloatProgress(value=0.0, max=7.0), HTML(value='')))"
      ]
     },
     "metadata": {},
     "output_type": "display_data"
    },
    {
     "data": {
      "application/vnd.jupyter.widget-view+json": {
       "model_id": "",
       "version_major": 2,
       "version_minor": 0
      },
      "text/plain": [
       "HBox(children=(HTML(value=''), FloatProgress(value=0.0, max=8.0), HTML(value='')))"
      ]
     },
     "metadata": {},
     "output_type": "display_data"
    },
    {
     "data": {
      "application/vnd.jupyter.widget-view+json": {
       "model_id": "",
       "version_major": 2,
       "version_minor": 0
      },
      "text/plain": [
       "HBox(children=(HTML(value=''), FloatProgress(value=0.0, max=5.0), HTML(value='')))"
      ]
     },
     "metadata": {},
     "output_type": "display_data"
    },
    {
     "data": {
      "application/vnd.jupyter.widget-view+json": {
       "model_id": "",
       "version_major": 2,
       "version_minor": 0
      },
      "text/plain": [
       "HBox(children=(HTML(value=''), FloatProgress(value=0.0, max=5.0), HTML(value='')))"
      ]
     },
     "metadata": {},
     "output_type": "display_data"
    },
    {
     "data": {
      "application/vnd.jupyter.widget-view+json": {
       "model_id": "",
       "version_major": 2,
       "version_minor": 0
      },
      "text/plain": [
       "HBox(children=(HTML(value=''), FloatProgress(value=0.0, max=6.0), HTML(value='')))"
      ]
     },
     "metadata": {},
     "output_type": "display_data"
    },
    {
     "data": {
      "application/vnd.jupyter.widget-view+json": {
       "model_id": "",
       "version_major": 2,
       "version_minor": 0
      },
      "text/plain": [
       "HBox(children=(HTML(value=''), FloatProgress(value=0.0, max=6.0), HTML(value='')))"
      ]
     },
     "metadata": {},
     "output_type": "display_data"
    },
    {
     "data": {
      "application/vnd.jupyter.widget-view+json": {
       "model_id": "",
       "version_major": 2,
       "version_minor": 0
      },
      "text/plain": [
       "HBox(children=(HTML(value=''), FloatProgress(value=0.0, max=7.0), HTML(value='')))"
      ]
     },
     "metadata": {},
     "output_type": "display_data"
    },
    {
     "data": {
      "application/vnd.jupyter.widget-view+json": {
       "model_id": "",
       "version_major": 2,
       "version_minor": 0
      },
      "text/plain": [
       "HBox(children=(HTML(value=''), FloatProgress(value=0.0, max=1.0), HTML(value='')))"
      ]
     },
     "metadata": {},
     "output_type": "display_data"
    },
    {
     "data": {
      "application/vnd.jupyter.widget-view+json": {
       "model_id": "",
       "version_major": 2,
       "version_minor": 0
      },
      "text/plain": [
       "HBox(children=(HTML(value=''), FloatProgress(value=0.0, max=1.0), HTML(value='')))"
      ]
     },
     "metadata": {},
     "output_type": "display_data"
    },
    {
     "data": {
      "application/vnd.jupyter.widget-view+json": {
       "model_id": "",
       "version_major": 2,
       "version_minor": 0
      },
      "text/plain": [
       "HBox(children=(HTML(value=''), FloatProgress(value=0.0, max=3.0), HTML(value='')))"
      ]
     },
     "metadata": {},
     "output_type": "display_data"
    },
    {
     "data": {
      "application/vnd.jupyter.widget-view+json": {
       "model_id": "",
       "version_major": 2,
       "version_minor": 0
      },
      "text/plain": [
       "HBox(children=(HTML(value=''), FloatProgress(value=0.0, max=11.0), HTML(value='')))"
      ]
     },
     "metadata": {},
     "output_type": "display_data"
    },
    {
     "data": {
      "application/vnd.jupyter.widget-view+json": {
       "model_id": "",
       "version_major": 2,
       "version_minor": 0
      },
      "text/plain": [
       "HBox(children=(HTML(value=''), FloatProgress(value=0.0, max=5.0), HTML(value='')))"
      ]
     },
     "metadata": {},
     "output_type": "display_data"
    },
    {
     "data": {
      "application/vnd.jupyter.widget-view+json": {
       "model_id": "",
       "version_major": 2,
       "version_minor": 0
      },
      "text/plain": [
       "HBox(children=(HTML(value=''), FloatProgress(value=0.0, max=2.0), HTML(value='')))"
      ]
     },
     "metadata": {},
     "output_type": "display_data"
    },
    {
     "data": {
      "application/vnd.jupyter.widget-view+json": {
       "model_id": "",
       "version_major": 2,
       "version_minor": 0
      },
      "text/plain": [
       "HBox(children=(HTML(value=''), FloatProgress(value=0.0, max=2.0), HTML(value='')))"
      ]
     },
     "metadata": {},
     "output_type": "display_data"
    },
    {
     "data": {
      "application/vnd.jupyter.widget-view+json": {
       "model_id": "",
       "version_major": 2,
       "version_minor": 0
      },
      "text/plain": [
       "HBox(children=(HTML(value=''), FloatProgress(value=0.0, max=4.0), HTML(value='')))"
      ]
     },
     "metadata": {},
     "output_type": "display_data"
    },
    {
     "data": {
      "application/vnd.jupyter.widget-view+json": {
       "model_id": "",
       "version_major": 2,
       "version_minor": 0
      },
      "text/plain": [
       "HBox(children=(HTML(value=''), FloatProgress(value=0.0, max=1.0), HTML(value='')))"
      ]
     },
     "metadata": {},
     "output_type": "display_data"
    },
    {
     "data": {
      "application/vnd.jupyter.widget-view+json": {
       "model_id": "",
       "version_major": 2,
       "version_minor": 0
      },
      "text/plain": [
       "HBox(children=(HTML(value=''), FloatProgress(value=0.0, max=2.0), HTML(value='')))"
      ]
     },
     "metadata": {},
     "output_type": "display_data"
    },
    {
     "data": {
      "application/vnd.jupyter.widget-view+json": {
       "model_id": "",
       "version_major": 2,
       "version_minor": 0
      },
      "text/plain": [
       "HBox(children=(HTML(value=''), FloatProgress(value=0.0, max=1.0), HTML(value='')))"
      ]
     },
     "metadata": {},
     "output_type": "display_data"
    },
    {
     "data": {
      "application/vnd.jupyter.widget-view+json": {
       "model_id": "",
       "version_major": 2,
       "version_minor": 0
      },
      "text/plain": [
       "HBox(children=(HTML(value=''), FloatProgress(value=0.0, max=2.0), HTML(value='')))"
      ]
     },
     "metadata": {},
     "output_type": "display_data"
    },
    {
     "data": {
      "application/vnd.jupyter.widget-view+json": {
       "model_id": "",
       "version_major": 2,
       "version_minor": 0
      },
      "text/plain": [
       "HBox(children=(HTML(value=''), FloatProgress(value=0.0, max=2.0), HTML(value='')))"
      ]
     },
     "metadata": {},
     "output_type": "display_data"
    },
    {
     "data": {
      "application/vnd.jupyter.widget-view+json": {
       "model_id": "",
       "version_major": 2,
       "version_minor": 0
      },
      "text/plain": [
       "HBox(children=(HTML(value=''), FloatProgress(value=0.0, max=10.0), HTML(value='')))"
      ]
     },
     "metadata": {},
     "output_type": "display_data"
    },
    {
     "data": {
      "application/vnd.jupyter.widget-view+json": {
       "model_id": "",
       "version_major": 2,
       "version_minor": 0
      },
      "text/plain": [
       "HBox(children=(HTML(value=''), FloatProgress(value=0.0, max=6.0), HTML(value='')))"
      ]
     },
     "metadata": {},
     "output_type": "display_data"
    },
    {
     "data": {
      "application/vnd.jupyter.widget-view+json": {
       "model_id": "",
       "version_major": 2,
       "version_minor": 0
      },
      "text/plain": [
       "HBox(children=(HTML(value=''), FloatProgress(value=0.0, max=3.0), HTML(value='')))"
      ]
     },
     "metadata": {},
     "output_type": "display_data"
    },
    {
     "data": {
      "application/vnd.jupyter.widget-view+json": {
       "model_id": "",
       "version_major": 2,
       "version_minor": 0
      },
      "text/plain": [
       "HBox(children=(HTML(value=''), FloatProgress(value=0.0, max=2.0), HTML(value='')))"
      ]
     },
     "metadata": {},
     "output_type": "display_data"
    },
    {
     "data": {
      "application/vnd.jupyter.widget-view+json": {
       "model_id": "",
       "version_major": 2,
       "version_minor": 0
      },
      "text/plain": [
       "HBox(children=(HTML(value=''), FloatProgress(value=0.0, max=1.0), HTML(value='')))"
      ]
     },
     "metadata": {},
     "output_type": "display_data"
    },
    {
     "data": {
      "application/vnd.jupyter.widget-view+json": {
       "model_id": "",
       "version_major": 2,
       "version_minor": 0
      },
      "text/plain": [
       "HBox(children=(HTML(value=''), FloatProgress(value=0.0, max=6.0), HTML(value='')))"
      ]
     },
     "metadata": {},
     "output_type": "display_data"
    },
    {
     "data": {
      "application/vnd.jupyter.widget-view+json": {
       "model_id": "",
       "version_major": 2,
       "version_minor": 0
      },
      "text/plain": [
       "HBox(children=(HTML(value=''), FloatProgress(value=0.0, max=4.0), HTML(value='')))"
      ]
     },
     "metadata": {},
     "output_type": "display_data"
    },
    {
     "data": {
      "application/vnd.jupyter.widget-view+json": {
       "model_id": "",
       "version_major": 2,
       "version_minor": 0
      },
      "text/plain": [
       "HBox(children=(HTML(value=''), FloatProgress(value=0.0, max=2.0), HTML(value='')))"
      ]
     },
     "metadata": {},
     "output_type": "display_data"
    },
    {
     "data": {
      "application/vnd.jupyter.widget-view+json": {
       "model_id": "",
       "version_major": 2,
       "version_minor": 0
      },
      "text/plain": [
       "HBox(children=(HTML(value=''), FloatProgress(value=0.0, max=4.0), HTML(value='')))"
      ]
     },
     "metadata": {},
     "output_type": "display_data"
    },
    {
     "data": {
      "application/vnd.jupyter.widget-view+json": {
       "model_id": "",
       "version_major": 2,
       "version_minor": 0
      },
      "text/plain": [
       "HBox(children=(HTML(value=''), FloatProgress(value=0.0, max=10.0), HTML(value='')))"
      ]
     },
     "metadata": {},
     "output_type": "display_data"
    },
    {
     "data": {
      "application/vnd.jupyter.widget-view+json": {
       "model_id": "",
       "version_major": 2,
       "version_minor": 0
      },
      "text/plain": [
       "HBox(children=(HTML(value=''), FloatProgress(value=0.0, max=1.0), HTML(value='')))"
      ]
     },
     "metadata": {},
     "output_type": "display_data"
    },
    {
     "data": {
      "application/vnd.jupyter.widget-view+json": {
       "model_id": "",
       "version_major": 2,
       "version_minor": 0
      },
      "text/plain": [
       "HBox(children=(HTML(value=''), FloatProgress(value=0.0, max=1.0), HTML(value='')))"
      ]
     },
     "metadata": {},
     "output_type": "display_data"
    },
    {
     "data": {
      "application/vnd.jupyter.widget-view+json": {
       "model_id": "",
       "version_major": 2,
       "version_minor": 0
      },
      "text/plain": [
       "HBox(children=(HTML(value=''), FloatProgress(value=0.0, max=18.0), HTML(value='')))"
      ]
     },
     "metadata": {},
     "output_type": "display_data"
    },
    {
     "data": {
      "application/vnd.jupyter.widget-view+json": {
       "model_id": "",
       "version_major": 2,
       "version_minor": 0
      },
      "text/plain": [
       "HBox(children=(HTML(value=''), FloatProgress(value=0.0, max=3.0), HTML(value='')))"
      ]
     },
     "metadata": {},
     "output_type": "display_data"
    },
    {
     "data": {
      "application/vnd.jupyter.widget-view+json": {
       "model_id": "",
       "version_major": 2,
       "version_minor": 0
      },
      "text/plain": [
       "HBox(children=(HTML(value=''), FloatProgress(value=0.0, max=7.0), HTML(value='')))"
      ]
     },
     "metadata": {},
     "output_type": "display_data"
    },
    {
     "data": {
      "application/vnd.jupyter.widget-view+json": {
       "model_id": "",
       "version_major": 2,
       "version_minor": 0
      },
      "text/plain": [
       "HBox(children=(HTML(value=''), FloatProgress(value=0.0, max=6.0), HTML(value='')))"
      ]
     },
     "metadata": {},
     "output_type": "display_data"
    },
    {
     "data": {
      "application/vnd.jupyter.widget-view+json": {
       "model_id": "",
       "version_major": 2,
       "version_minor": 0
      },
      "text/plain": [
       "HBox(children=(HTML(value=''), FloatProgress(value=0.0, max=2.0), HTML(value='')))"
      ]
     },
     "metadata": {},
     "output_type": "display_data"
    },
    {
     "data": {
      "application/vnd.jupyter.widget-view+json": {
       "model_id": "",
       "version_major": 2,
       "version_minor": 0
      },
      "text/plain": [
       "HBox(children=(HTML(value=''), FloatProgress(value=0.0, max=1.0), HTML(value='')))"
      ]
     },
     "metadata": {},
     "output_type": "display_data"
    },
    {
     "data": {
      "application/vnd.jupyter.widget-view+json": {
       "model_id": "",
       "version_major": 2,
       "version_minor": 0
      },
      "text/plain": [
       "HBox(children=(HTML(value=''), FloatProgress(value=0.0, max=3.0), HTML(value='')))"
      ]
     },
     "metadata": {},
     "output_type": "display_data"
    },
    {
     "data": {
      "application/vnd.jupyter.widget-view+json": {
       "model_id": "",
       "version_major": 2,
       "version_minor": 0
      },
      "text/plain": [
       "HBox(children=(HTML(value=''), FloatProgress(value=0.0, max=11.0), HTML(value='')))"
      ]
     },
     "metadata": {},
     "output_type": "display_data"
    },
    {
     "data": {
      "application/vnd.jupyter.widget-view+json": {
       "model_id": "",
       "version_major": 2,
       "version_minor": 0
      },
      "text/plain": [
       "HBox(children=(HTML(value=''), FloatProgress(value=0.0, max=38.0), HTML(value='')))"
      ]
     },
     "metadata": {},
     "output_type": "display_data"
    },
    {
     "data": {
      "application/vnd.jupyter.widget-view+json": {
       "model_id": "",
       "version_major": 2,
       "version_minor": 0
      },
      "text/plain": [
       "HBox(children=(HTML(value=''), FloatProgress(value=0.0, max=2.0), HTML(value='')))"
      ]
     },
     "metadata": {},
     "output_type": "display_data"
    },
    {
     "data": {
      "application/vnd.jupyter.widget-view+json": {
       "model_id": "",
       "version_major": 2,
       "version_minor": 0
      },
      "text/plain": [
       "HBox(children=(HTML(value=''), FloatProgress(value=0.0, max=6.0), HTML(value='')))"
      ]
     },
     "metadata": {},
     "output_type": "display_data"
    },
    {
     "data": {
      "application/vnd.jupyter.widget-view+json": {
       "model_id": "",
       "version_major": 2,
       "version_minor": 0
      },
      "text/plain": [
       "HBox(children=(HTML(value=''), FloatProgress(value=0.0, max=1.0), HTML(value='')))"
      ]
     },
     "metadata": {},
     "output_type": "display_data"
    },
    {
     "data": {
      "application/vnd.jupyter.widget-view+json": {
       "model_id": "",
       "version_major": 2,
       "version_minor": 0
      },
      "text/plain": [
       "HBox(children=(HTML(value=''), FloatProgress(value=0.0, max=2.0), HTML(value='')))"
      ]
     },
     "metadata": {},
     "output_type": "display_data"
    },
    {
     "data": {
      "application/vnd.jupyter.widget-view+json": {
       "model_id": "",
       "version_major": 2,
       "version_minor": 0
      },
      "text/plain": [
       "HBox(children=(HTML(value=''), FloatProgress(value=0.0, max=1.0), HTML(value='')))"
      ]
     },
     "metadata": {},
     "output_type": "display_data"
    },
    {
     "data": {
      "application/vnd.jupyter.widget-view+json": {
       "model_id": "",
       "version_major": 2,
       "version_minor": 0
      },
      "text/plain": [
       "HBox(children=(HTML(value=''), FloatProgress(value=0.0, max=3.0), HTML(value='')))"
      ]
     },
     "metadata": {},
     "output_type": "display_data"
    },
    {
     "data": {
      "application/vnd.jupyter.widget-view+json": {
       "model_id": "",
       "version_major": 2,
       "version_minor": 0
      },
      "text/plain": [
       "HBox(children=(HTML(value=''), FloatProgress(value=0.0, max=1.0), HTML(value='')))"
      ]
     },
     "metadata": {},
     "output_type": "display_data"
    },
    {
     "data": {
      "application/vnd.jupyter.widget-view+json": {
       "model_id": "",
       "version_major": 2,
       "version_minor": 0
      },
      "text/plain": [
       "HBox(children=(HTML(value=''), FloatProgress(value=0.0, max=6.0), HTML(value='')))"
      ]
     },
     "metadata": {},
     "output_type": "display_data"
    },
    {
     "data": {
      "application/vnd.jupyter.widget-view+json": {
       "model_id": "",
       "version_major": 2,
       "version_minor": 0
      },
      "text/plain": [
       "HBox(children=(HTML(value=''), FloatProgress(value=0.0, max=2.0), HTML(value='')))"
      ]
     },
     "metadata": {},
     "output_type": "display_data"
    },
    {
     "data": {
      "application/vnd.jupyter.widget-view+json": {
       "model_id": "",
       "version_major": 2,
       "version_minor": 0
      },
      "text/plain": [
       "HBox(children=(HTML(value=''), FloatProgress(value=0.0, max=1.0), HTML(value='')))"
      ]
     },
     "metadata": {},
     "output_type": "display_data"
    },
    {
     "data": {
      "application/vnd.jupyter.widget-view+json": {
       "model_id": "",
       "version_major": 2,
       "version_minor": 0
      },
      "text/plain": [
       "HBox(children=(HTML(value=''), FloatProgress(value=0.0, max=3.0), HTML(value='')))"
      ]
     },
     "metadata": {},
     "output_type": "display_data"
    },
    {
     "data": {
      "application/vnd.jupyter.widget-view+json": {
       "model_id": "",
       "version_major": 2,
       "version_minor": 0
      },
      "text/plain": [
       "HBox(children=(HTML(value=''), FloatProgress(value=0.0, max=2.0), HTML(value='')))"
      ]
     },
     "metadata": {},
     "output_type": "display_data"
    },
    {
     "data": {
      "application/vnd.jupyter.widget-view+json": {
       "model_id": "",
       "version_major": 2,
       "version_minor": 0
      },
      "text/plain": [
       "HBox(children=(HTML(value=''), FloatProgress(value=0.0, max=8.0), HTML(value='')))"
      ]
     },
     "metadata": {},
     "output_type": "display_data"
    },
    {
     "data": {
      "application/vnd.jupyter.widget-view+json": {
       "model_id": "",
       "version_major": 2,
       "version_minor": 0
      },
      "text/plain": [
       "HBox(children=(HTML(value=''), FloatProgress(value=0.0, max=1.0), HTML(value='')))"
      ]
     },
     "metadata": {},
     "output_type": "display_data"
    },
    {
     "data": {
      "application/vnd.jupyter.widget-view+json": {
       "model_id": "",
       "version_major": 2,
       "version_minor": 0
      },
      "text/plain": [
       "HBox(children=(HTML(value=''), FloatProgress(value=0.0, max=2.0), HTML(value='')))"
      ]
     },
     "metadata": {},
     "output_type": "display_data"
    },
    {
     "data": {
      "application/vnd.jupyter.widget-view+json": {
       "model_id": "",
       "version_major": 2,
       "version_minor": 0
      },
      "text/plain": [
       "HBox(children=(HTML(value=''), FloatProgress(value=0.0, max=5.0), HTML(value='')))"
      ]
     },
     "metadata": {},
     "output_type": "display_data"
    },
    {
     "data": {
      "application/vnd.jupyter.widget-view+json": {
       "model_id": "",
       "version_major": 2,
       "version_minor": 0
      },
      "text/plain": [
       "HBox(children=(HTML(value=''), FloatProgress(value=0.0, max=149.0), HTML(value='')))"
      ]
     },
     "metadata": {},
     "output_type": "display_data"
    },
    {
     "data": {
      "application/vnd.jupyter.widget-view+json": {
       "model_id": "",
       "version_major": 2,
       "version_minor": 0
      },
      "text/plain": [
       "HBox(children=(HTML(value=''), FloatProgress(value=0.0, max=1.0), HTML(value='')))"
      ]
     },
     "metadata": {},
     "output_type": "display_data"
    },
    {
     "data": {
      "application/vnd.jupyter.widget-view+json": {
       "model_id": "",
       "version_major": 2,
       "version_minor": 0
      },
      "text/plain": [
       "HBox(children=(HTML(value=''), FloatProgress(value=0.0, max=10.0), HTML(value='')))"
      ]
     },
     "metadata": {},
     "output_type": "display_data"
    },
    {
     "data": {
      "application/vnd.jupyter.widget-view+json": {
       "model_id": "",
       "version_major": 2,
       "version_minor": 0
      },
      "text/plain": [
       "HBox(children=(HTML(value=''), FloatProgress(value=0.0, max=2.0), HTML(value='')))"
      ]
     },
     "metadata": {},
     "output_type": "display_data"
    },
    {
     "data": {
      "application/vnd.jupyter.widget-view+json": {
       "model_id": "",
       "version_major": 2,
       "version_minor": 0
      },
      "text/plain": [
       "HBox(children=(HTML(value=''), FloatProgress(value=0.0, max=1.0), HTML(value='')))"
      ]
     },
     "metadata": {},
     "output_type": "display_data"
    },
    {
     "data": {
      "application/vnd.jupyter.widget-view+json": {
       "model_id": "",
       "version_major": 2,
       "version_minor": 0
      },
      "text/plain": [
       "HBox(children=(HTML(value=''), FloatProgress(value=0.0, max=1.0), HTML(value='')))"
      ]
     },
     "metadata": {},
     "output_type": "display_data"
    },
    {
     "data": {
      "application/vnd.jupyter.widget-view+json": {
       "model_id": "",
       "version_major": 2,
       "version_minor": 0
      },
      "text/plain": [
       "HBox(children=(HTML(value=''), FloatProgress(value=0.0, max=3.0), HTML(value='')))"
      ]
     },
     "metadata": {},
     "output_type": "display_data"
    },
    {
     "data": {
      "application/vnd.jupyter.widget-view+json": {
       "model_id": "",
       "version_major": 2,
       "version_minor": 0
      },
      "text/plain": [
       "HBox(children=(HTML(value=''), FloatProgress(value=0.0, max=8.0), HTML(value='')))"
      ]
     },
     "metadata": {},
     "output_type": "display_data"
    },
    {
     "data": {
      "application/vnd.jupyter.widget-view+json": {
       "model_id": "",
       "version_major": 2,
       "version_minor": 0
      },
      "text/plain": [
       "HBox(children=(HTML(value=''), FloatProgress(value=0.0, max=1.0), HTML(value='')))"
      ]
     },
     "metadata": {},
     "output_type": "display_data"
    },
    {
     "data": {
      "application/vnd.jupyter.widget-view+json": {
       "model_id": "",
       "version_major": 2,
       "version_minor": 0
      },
      "text/plain": [
       "HBox(children=(HTML(value=''), FloatProgress(value=0.0, max=2.0), HTML(value='')))"
      ]
     },
     "metadata": {},
     "output_type": "display_data"
    },
    {
     "data": {
      "application/vnd.jupyter.widget-view+json": {
       "model_id": "",
       "version_major": 2,
       "version_minor": 0
      },
      "text/plain": [
       "HBox(children=(HTML(value=''), FloatProgress(value=0.0, max=5.0), HTML(value='')))"
      ]
     },
     "metadata": {},
     "output_type": "display_data"
    },
    {
     "data": {
      "application/vnd.jupyter.widget-view+json": {
       "model_id": "",
       "version_major": 2,
       "version_minor": 0
      },
      "text/plain": [
       "HBox(children=(HTML(value=''), FloatProgress(value=0.0, max=48.0), HTML(value='')))"
      ]
     },
     "metadata": {},
     "output_type": "display_data"
    },
    {
     "data": {
      "application/vnd.jupyter.widget-view+json": {
       "model_id": "",
       "version_major": 2,
       "version_minor": 0
      },
      "text/plain": [
       "HBox(children=(HTML(value=''), FloatProgress(value=0.0, max=3.0), HTML(value='')))"
      ]
     },
     "metadata": {},
     "output_type": "display_data"
    },
    {
     "data": {
      "application/vnd.jupyter.widget-view+json": {
       "model_id": "a32e9603a9ef41cf97e42e91954291b1",
       "version_major": 2,
       "version_minor": 0
      },
      "text/plain": [
       "HBox(children=(HTML(value=''), FloatProgress(value=0.0, max=2.0), HTML(value='')))"
      ]
     },
     "metadata": {},
     "output_type": "display_data"
    },
    {
     "data": {
      "application/vnd.jupyter.widget-view+json": {
       "model_id": "b76a45dc7ed6461fa0a729e8bf87e8f9",
       "version_major": 2,
       "version_minor": 0
      },
      "text/plain": [
       "HBox(children=(HTML(value=''), FloatProgress(value=0.0, max=6.0), HTML(value='')))"
      ]
     },
     "metadata": {},
     "output_type": "display_data"
    },
    {
     "data": {
      "application/vnd.jupyter.widget-view+json": {
       "model_id": "",
       "version_major": 2,
       "version_minor": 0
      },
      "text/plain": [
       "HBox(children=(HTML(value=''), FloatProgress(value=0.0, max=1.0), HTML(value='')))"
      ]
     },
     "metadata": {},
     "output_type": "display_data"
    },
    {
     "data": {
      "application/vnd.jupyter.widget-view+json": {
       "model_id": "",
       "version_major": 2,
       "version_minor": 0
      },
      "text/plain": [
       "HBox(children=(HTML(value=''), FloatProgress(value=0.0, max=4.0), HTML(value='')))"
      ]
     },
     "metadata": {},
     "output_type": "display_data"
    },
    {
     "data": {
      "application/vnd.jupyter.widget-view+json": {
       "model_id": "",
       "version_major": 2,
       "version_minor": 0
      },
      "text/plain": [
       "HBox(children=(HTML(value=''), FloatProgress(value=0.0, max=1.0), HTML(value='')))"
      ]
     },
     "metadata": {},
     "output_type": "display_data"
    },
    {
     "data": {
      "application/vnd.jupyter.widget-view+json": {
       "model_id": "",
       "version_major": 2,
       "version_minor": 0
      },
      "text/plain": [
       "HBox(children=(HTML(value=''), FloatProgress(value=0.0, max=1.0), HTML(value='')))"
      ]
     },
     "metadata": {},
     "output_type": "display_data"
    },
    {
     "data": {
      "application/vnd.jupyter.widget-view+json": {
       "model_id": "",
       "version_major": 2,
       "version_minor": 0
      },
      "text/plain": [
       "HBox(children=(HTML(value=''), FloatProgress(value=0.0, max=1.0), HTML(value='')))"
      ]
     },
     "metadata": {},
     "output_type": "display_data"
    },
    {
     "data": {
      "application/vnd.jupyter.widget-view+json": {
       "model_id": "",
       "version_major": 2,
       "version_minor": 0
      },
      "text/plain": [
       "HBox(children=(HTML(value=''), FloatProgress(value=0.0, max=1.0), HTML(value='')))"
      ]
     },
     "metadata": {},
     "output_type": "display_data"
    },
    {
     "data": {
      "application/vnd.jupyter.widget-view+json": {
       "model_id": "",
       "version_major": 2,
       "version_minor": 0
      },
      "text/plain": [
       "HBox(children=(HTML(value=''), FloatProgress(value=0.0, max=2.0), HTML(value='')))"
      ]
     },
     "metadata": {},
     "output_type": "display_data"
    },
    {
     "data": {
      "application/vnd.jupyter.widget-view+json": {
       "model_id": "",
       "version_major": 2,
       "version_minor": 0
      },
      "text/plain": [
       "HBox(children=(HTML(value=''), FloatProgress(value=0.0, max=2.0), HTML(value='')))"
      ]
     },
     "metadata": {},
     "output_type": "display_data"
    },
    {
     "data": {
      "application/vnd.jupyter.widget-view+json": {
       "model_id": "",
       "version_major": 2,
       "version_minor": 0
      },
      "text/plain": [
       "HBox(children=(HTML(value=''), FloatProgress(value=0.0, max=1.0), HTML(value='')))"
      ]
     },
     "metadata": {},
     "output_type": "display_data"
    },
    {
     "data": {
      "application/vnd.jupyter.widget-view+json": {
       "model_id": "",
       "version_major": 2,
       "version_minor": 0
      },
      "text/plain": [
       "HBox(children=(HTML(value=''), FloatProgress(value=0.0, max=2.0), HTML(value='')))"
      ]
     },
     "metadata": {},
     "output_type": "display_data"
    },
    {
     "data": {
      "application/vnd.jupyter.widget-view+json": {
       "model_id": "",
       "version_major": 2,
       "version_minor": 0
      },
      "text/plain": [
       "HBox(children=(HTML(value=''), FloatProgress(value=0.0, max=2.0), HTML(value='')))"
      ]
     },
     "metadata": {},
     "output_type": "display_data"
    },
    {
     "data": {
      "application/vnd.jupyter.widget-view+json": {
       "model_id": "",
       "version_major": 2,
       "version_minor": 0
      },
      "text/plain": [
       "HBox(children=(HTML(value=''), FloatProgress(value=0.0, max=2.0), HTML(value='')))"
      ]
     },
     "metadata": {},
     "output_type": "display_data"
    },
    {
     "data": {
      "application/vnd.jupyter.widget-view+json": {
       "model_id": "",
       "version_major": 2,
       "version_minor": 0
      },
      "text/plain": [
       "HBox(children=(HTML(value=''), FloatProgress(value=0.0, max=4.0), HTML(value='')))"
      ]
     },
     "metadata": {},
     "output_type": "display_data"
    },
    {
     "data": {
      "application/vnd.jupyter.widget-view+json": {
       "model_id": "",
       "version_major": 2,
       "version_minor": 0
      },
      "text/plain": [
       "HBox(children=(HTML(value=''), FloatProgress(value=0.0, max=1.0), HTML(value='')))"
      ]
     },
     "metadata": {},
     "output_type": "display_data"
    },
    {
     "data": {
      "application/vnd.jupyter.widget-view+json": {
       "model_id": "",
       "version_major": 2,
       "version_minor": 0
      },
      "text/plain": [
       "HBox(children=(HTML(value=''), FloatProgress(value=0.0, max=1.0), HTML(value='')))"
      ]
     },
     "metadata": {},
     "output_type": "display_data"
    },
    {
     "data": {
      "application/vnd.jupyter.widget-view+json": {
       "model_id": "",
       "version_major": 2,
       "version_minor": 0
      },
      "text/plain": [
       "HBox(children=(HTML(value=''), FloatProgress(value=0.0, max=1.0), HTML(value='')))"
      ]
     },
     "metadata": {},
     "output_type": "display_data"
    },
    {
     "data": {
      "application/vnd.jupyter.widget-view+json": {
       "model_id": "",
       "version_major": 2,
       "version_minor": 0
      },
      "text/plain": [
       "HBox(children=(HTML(value=''), FloatProgress(value=0.0, max=2.0), HTML(value='')))"
      ]
     },
     "metadata": {},
     "output_type": "display_data"
    },
    {
     "data": {
      "application/vnd.jupyter.widget-view+json": {
       "model_id": "",
       "version_major": 2,
       "version_minor": 0
      },
      "text/plain": [
       "HBox(children=(HTML(value=''), FloatProgress(value=0.0, max=2.0), HTML(value='')))"
      ]
     },
     "metadata": {},
     "output_type": "display_data"
    },
    {
     "data": {
      "application/vnd.jupyter.widget-view+json": {
       "model_id": "",
       "version_major": 2,
       "version_minor": 0
      },
      "text/plain": [
       "HBox(children=(HTML(value=''), FloatProgress(value=0.0, max=1.0), HTML(value='')))"
      ]
     },
     "metadata": {},
     "output_type": "display_data"
    },
    {
     "data": {
      "application/vnd.jupyter.widget-view+json": {
       "model_id": "",
       "version_major": 2,
       "version_minor": 0
      },
      "text/plain": [
       "HBox(children=(HTML(value=''), FloatProgress(value=0.0, max=1.0), HTML(value='')))"
      ]
     },
     "metadata": {},
     "output_type": "display_data"
    },
    {
     "data": {
      "application/vnd.jupyter.widget-view+json": {
       "model_id": "",
       "version_major": 2,
       "version_minor": 0
      },
      "text/plain": [
       "HBox(children=(HTML(value=''), FloatProgress(value=0.0, max=2.0), HTML(value='')))"
      ]
     },
     "metadata": {},
     "output_type": "display_data"
    },
    {
     "data": {
      "application/vnd.jupyter.widget-view+json": {
       "model_id": "",
       "version_major": 2,
       "version_minor": 0
      },
      "text/plain": [
       "HBox(children=(HTML(value=''), FloatProgress(value=0.0, max=1.0), HTML(value='')))"
      ]
     },
     "metadata": {},
     "output_type": "display_data"
    },
    {
     "data": {
      "application/vnd.jupyter.widget-view+json": {
       "model_id": "",
       "version_major": 2,
       "version_minor": 0
      },
      "text/plain": [
       "HBox(children=(HTML(value=''), FloatProgress(value=0.0, max=2.0), HTML(value='')))"
      ]
     },
     "metadata": {},
     "output_type": "display_data"
    },
    {
     "data": {
      "application/vnd.jupyter.widget-view+json": {
       "model_id": "",
       "version_major": 2,
       "version_minor": 0
      },
      "text/plain": [
       "HBox(children=(HTML(value=''), FloatProgress(value=0.0, max=2.0), HTML(value='')))"
      ]
     },
     "metadata": {},
     "output_type": "display_data"
    },
    {
     "data": {
      "application/vnd.jupyter.widget-view+json": {
       "model_id": "",
       "version_major": 2,
       "version_minor": 0
      },
      "text/plain": [
       "HBox(children=(HTML(value=''), FloatProgress(value=0.0, max=2.0), HTML(value='')))"
      ]
     },
     "metadata": {},
     "output_type": "display_data"
    },
    {
     "data": {
      "application/vnd.jupyter.widget-view+json": {
       "model_id": "",
       "version_major": 2,
       "version_minor": 0
      },
      "text/plain": [
       "HBox(children=(HTML(value=''), FloatProgress(value=0.0, max=5.0), HTML(value='')))"
      ]
     },
     "metadata": {},
     "output_type": "display_data"
    },
    {
     "data": {
      "application/vnd.jupyter.widget-view+json": {
       "model_id": "33c566c97cb64b3d9c87fa351655d075",
       "version_major": 2,
       "version_minor": 0
      },
      "text/plain": [
       "HBox(children=(HTML(value=''), FloatProgress(value=0.0, max=7.0), HTML(value='')))"
      ]
     },
     "metadata": {},
     "output_type": "display_data"
    },
    {
     "data": {
      "application/vnd.jupyter.widget-view+json": {
       "model_id": "",
       "version_major": 2,
       "version_minor": 0
      },
      "text/plain": [
       "HBox(children=(HTML(value=''), FloatProgress(value=0.0, max=1.0), HTML(value='')))"
      ]
     },
     "metadata": {},
     "output_type": "display_data"
    },
    {
     "data": {
      "application/vnd.jupyter.widget-view+json": {
       "model_id": "",
       "version_major": 2,
       "version_minor": 0
      },
      "text/plain": [
       "HBox(children=(HTML(value=''), FloatProgress(value=0.0, max=1.0), HTML(value='')))"
      ]
     },
     "metadata": {},
     "output_type": "display_data"
    },
    {
     "data": {
      "application/vnd.jupyter.widget-view+json": {
       "model_id": "",
       "version_major": 2,
       "version_minor": 0
      },
      "text/plain": [
       "HBox(children=(HTML(value=''), FloatProgress(value=0.0, max=2.0), HTML(value='')))"
      ]
     },
     "metadata": {},
     "output_type": "display_data"
    },
    {
     "data": {
      "application/vnd.jupyter.widget-view+json": {
       "model_id": "",
       "version_major": 2,
       "version_minor": 0
      },
      "text/plain": [
       "HBox(children=(HTML(value=''), FloatProgress(value=0.0, max=1.0), HTML(value='')))"
      ]
     },
     "metadata": {},
     "output_type": "display_data"
    },
    {
     "data": {
      "application/vnd.jupyter.widget-view+json": {
       "model_id": "",
       "version_major": 2,
       "version_minor": 0
      },
      "text/plain": [
       "HBox(children=(HTML(value=''), FloatProgress(value=0.0, max=6.0), HTML(value='')))"
      ]
     },
     "metadata": {},
     "output_type": "display_data"
    },
    {
     "data": {
      "application/vnd.jupyter.widget-view+json": {
       "model_id": "",
       "version_major": 2,
       "version_minor": 0
      },
      "text/plain": [
       "HBox(children=(HTML(value=''), FloatProgress(value=0.0, max=1.0), HTML(value='')))"
      ]
     },
     "metadata": {},
     "output_type": "display_data"
    },
    {
     "data": {
      "application/vnd.jupyter.widget-view+json": {
       "model_id": "",
       "version_major": 2,
       "version_minor": 0
      },
      "text/plain": [
       "HBox(children=(HTML(value=''), FloatProgress(value=0.0, max=1.0), HTML(value='')))"
      ]
     },
     "metadata": {},
     "output_type": "display_data"
    },
    {
     "data": {
      "application/vnd.jupyter.widget-view+json": {
       "model_id": "",
       "version_major": 2,
       "version_minor": 0
      },
      "text/plain": [
       "HBox(children=(HTML(value=''), FloatProgress(value=0.0, max=9.0), HTML(value='')))"
      ]
     },
     "metadata": {},
     "output_type": "display_data"
    },
    {
     "data": {
      "application/vnd.jupyter.widget-view+json": {
       "model_id": "",
       "version_major": 2,
       "version_minor": 0
      },
      "text/plain": [
       "HBox(children=(HTML(value=''), FloatProgress(value=0.0, max=1.0), HTML(value='')))"
      ]
     },
     "metadata": {},
     "output_type": "display_data"
    },
    {
     "data": {
      "application/vnd.jupyter.widget-view+json": {
       "model_id": "",
       "version_major": 2,
       "version_minor": 0
      },
      "text/plain": [
       "HBox(children=(HTML(value=''), FloatProgress(value=0.0, max=2.0), HTML(value='')))"
      ]
     },
     "metadata": {},
     "output_type": "display_data"
    },
    {
     "data": {
      "application/vnd.jupyter.widget-view+json": {
       "model_id": "",
       "version_major": 2,
       "version_minor": 0
      },
      "text/plain": [
       "HBox(children=(HTML(value=''), FloatProgress(value=0.0, max=3.0), HTML(value='')))"
      ]
     },
     "metadata": {},
     "output_type": "display_data"
    },
    {
     "data": {
      "application/vnd.jupyter.widget-view+json": {
       "model_id": "",
       "version_major": 2,
       "version_minor": 0
      },
      "text/plain": [
       "HBox(children=(HTML(value=''), FloatProgress(value=0.0, max=4.0), HTML(value='')))"
      ]
     },
     "metadata": {},
     "output_type": "display_data"
    },
    {
     "data": {
      "application/vnd.jupyter.widget-view+json": {
       "model_id": "",
       "version_major": 2,
       "version_minor": 0
      },
      "text/plain": [
       "HBox(children=(HTML(value=''), FloatProgress(value=0.0, max=1.0), HTML(value='')))"
      ]
     },
     "metadata": {},
     "output_type": "display_data"
    },
    {
     "data": {
      "application/vnd.jupyter.widget-view+json": {
       "model_id": "",
       "version_major": 2,
       "version_minor": 0
      },
      "text/plain": [
       "HBox(children=(HTML(value=''), FloatProgress(value=0.0, max=1.0), HTML(value='')))"
      ]
     },
     "metadata": {},
     "output_type": "display_data"
    },
    {
     "data": {
      "application/vnd.jupyter.widget-view+json": {
       "model_id": "",
       "version_major": 2,
       "version_minor": 0
      },
      "text/plain": [
       "HBox(children=(HTML(value=''), FloatProgress(value=0.0, max=1.0), HTML(value='')))"
      ]
     },
     "metadata": {},
     "output_type": "display_data"
    },
    {
     "data": {
      "application/vnd.jupyter.widget-view+json": {
       "model_id": "",
       "version_major": 2,
       "version_minor": 0
      },
      "text/plain": [
       "HBox(children=(HTML(value=''), FloatProgress(value=0.0, max=4.0), HTML(value='')))"
      ]
     },
     "metadata": {},
     "output_type": "display_data"
    },
    {
     "data": {
      "application/vnd.jupyter.widget-view+json": {
       "model_id": "",
       "version_major": 2,
       "version_minor": 0
      },
      "text/plain": [
       "HBox(children=(HTML(value=''), FloatProgress(value=0.0, max=2.0), HTML(value='')))"
      ]
     },
     "metadata": {},
     "output_type": "display_data"
    },
    {
     "data": {
      "application/vnd.jupyter.widget-view+json": {
       "model_id": "",
       "version_major": 2,
       "version_minor": 0
      },
      "text/plain": [
       "HBox(children=(HTML(value=''), FloatProgress(value=0.0, max=1.0), HTML(value='')))"
      ]
     },
     "metadata": {},
     "output_type": "display_data"
    },
    {
     "data": {
      "application/vnd.jupyter.widget-view+json": {
       "model_id": "",
       "version_major": 2,
       "version_minor": 0
      },
      "text/plain": [
       "HBox(children=(HTML(value=''), FloatProgress(value=0.0, max=2.0), HTML(value='')))"
      ]
     },
     "metadata": {},
     "output_type": "display_data"
    },
    {
     "data": {
      "application/vnd.jupyter.widget-view+json": {
       "model_id": "",
       "version_major": 2,
       "version_minor": 0
      },
      "text/plain": [
       "HBox(children=(HTML(value=''), FloatProgress(value=0.0, max=1.0), HTML(value='')))"
      ]
     },
     "metadata": {},
     "output_type": "display_data"
    },
    {
     "data": {
      "application/vnd.jupyter.widget-view+json": {
       "model_id": "",
       "version_major": 2,
       "version_minor": 0
      },
      "text/plain": [
       "HBox(children=(HTML(value=''), FloatProgress(value=0.0, max=4.0), HTML(value='')))"
      ]
     },
     "metadata": {},
     "output_type": "display_data"
    },
    {
     "data": {
      "application/vnd.jupyter.widget-view+json": {
       "model_id": "",
       "version_major": 2,
       "version_minor": 0
      },
      "text/plain": [
       "HBox(children=(HTML(value=''), FloatProgress(value=0.0, max=1.0), HTML(value='')))"
      ]
     },
     "metadata": {},
     "output_type": "display_data"
    },
    {
     "data": {
      "application/vnd.jupyter.widget-view+json": {
       "model_id": "",
       "version_major": 2,
       "version_minor": 0
      },
      "text/plain": [
       "HBox(children=(HTML(value=''), FloatProgress(value=0.0, max=1.0), HTML(value='')))"
      ]
     },
     "metadata": {},
     "output_type": "display_data"
    },
    {
     "data": {
      "application/vnd.jupyter.widget-view+json": {
       "model_id": "",
       "version_major": 2,
       "version_minor": 0
      },
      "text/plain": [
       "HBox(children=(HTML(value=''), FloatProgress(value=0.0, max=2.0), HTML(value='')))"
      ]
     },
     "metadata": {},
     "output_type": "display_data"
    },
    {
     "data": {
      "application/vnd.jupyter.widget-view+json": {
       "model_id": "",
       "version_major": 2,
       "version_minor": 0
      },
      "text/plain": [
       "HBox(children=(HTML(value=''), FloatProgress(value=0.0, max=2.0), HTML(value='')))"
      ]
     },
     "metadata": {},
     "output_type": "display_data"
    },
    {
     "data": {
      "application/vnd.jupyter.widget-view+json": {
       "model_id": "",
       "version_major": 2,
       "version_minor": 0
      },
      "text/plain": [
       "HBox(children=(HTML(value=''), FloatProgress(value=0.0, max=5.0), HTML(value='')))"
      ]
     },
     "metadata": {},
     "output_type": "display_data"
    },
    {
     "data": {
      "application/vnd.jupyter.widget-view+json": {
       "model_id": "",
       "version_major": 2,
       "version_minor": 0
      },
      "text/plain": [
       "HBox(children=(HTML(value=''), FloatProgress(value=0.0, max=1.0), HTML(value='')))"
      ]
     },
     "metadata": {},
     "output_type": "display_data"
    },
    {
     "data": {
      "application/vnd.jupyter.widget-view+json": {
       "model_id": "",
       "version_major": 2,
       "version_minor": 0
      },
      "text/plain": [
       "HBox(children=(HTML(value=''), FloatProgress(value=0.0, max=2.0), HTML(value='')))"
      ]
     },
     "metadata": {},
     "output_type": "display_data"
    },
    {
     "data": {
      "application/vnd.jupyter.widget-view+json": {
       "model_id": "",
       "version_major": 2,
       "version_minor": 0
      },
      "text/plain": [
       "HBox(children=(HTML(value=''), FloatProgress(value=0.0, max=2.0), HTML(value='')))"
      ]
     },
     "metadata": {},
     "output_type": "display_data"
    },
    {
     "data": {
      "application/vnd.jupyter.widget-view+json": {
       "model_id": "",
       "version_major": 2,
       "version_minor": 0
      },
      "text/plain": [
       "HBox(children=(HTML(value=''), FloatProgress(value=0.0, max=2.0), HTML(value='')))"
      ]
     },
     "metadata": {},
     "output_type": "display_data"
    },
    {
     "data": {
      "application/vnd.jupyter.widget-view+json": {
       "model_id": "",
       "version_major": 2,
       "version_minor": 0
      },
      "text/plain": [
       "HBox(children=(HTML(value=''), FloatProgress(value=0.0, max=3.0), HTML(value='')))"
      ]
     },
     "metadata": {},
     "output_type": "display_data"
    },
    {
     "data": {
      "application/vnd.jupyter.widget-view+json": {
       "model_id": "",
       "version_major": 2,
       "version_minor": 0
      },
      "text/plain": [
       "HBox(children=(HTML(value=''), FloatProgress(value=0.0, max=1.0), HTML(value='')))"
      ]
     },
     "metadata": {},
     "output_type": "display_data"
    },
    {
     "data": {
      "application/vnd.jupyter.widget-view+json": {
       "model_id": "",
       "version_major": 2,
       "version_minor": 0
      },
      "text/plain": [
       "HBox(children=(HTML(value=''), FloatProgress(value=0.0, max=1.0), HTML(value='')))"
      ]
     },
     "metadata": {},
     "output_type": "display_data"
    },
    {
     "data": {
      "application/vnd.jupyter.widget-view+json": {
       "model_id": "",
       "version_major": 2,
       "version_minor": 0
      },
      "text/plain": [
       "HBox(children=(HTML(value=''), FloatProgress(value=0.0, max=1.0), HTML(value='')))"
      ]
     },
     "metadata": {},
     "output_type": "display_data"
    },
    {
     "data": {
      "application/vnd.jupyter.widget-view+json": {
       "model_id": "",
       "version_major": 2,
       "version_minor": 0
      },
      "text/plain": [
       "HBox(children=(HTML(value=''), FloatProgress(value=0.0, max=1.0), HTML(value='')))"
      ]
     },
     "metadata": {},
     "output_type": "display_data"
    },
    {
     "data": {
      "application/vnd.jupyter.widget-view+json": {
       "model_id": "",
       "version_major": 2,
       "version_minor": 0
      },
      "text/plain": [
       "HBox(children=(HTML(value=''), FloatProgress(value=0.0, max=5.0), HTML(value='')))"
      ]
     },
     "metadata": {},
     "output_type": "display_data"
    },
    {
     "data": {
      "application/vnd.jupyter.widget-view+json": {
       "model_id": "",
       "version_major": 2,
       "version_minor": 0
      },
      "text/plain": [
       "HBox(children=(HTML(value=''), FloatProgress(value=0.0, max=1.0), HTML(value='')))"
      ]
     },
     "metadata": {},
     "output_type": "display_data"
    },
    {
     "data": {
      "application/vnd.jupyter.widget-view+json": {
       "model_id": "",
       "version_major": 2,
       "version_minor": 0
      },
      "text/plain": [
       "HBox(children=(HTML(value=''), FloatProgress(value=0.0, max=6.0), HTML(value='')))"
      ]
     },
     "metadata": {},
     "output_type": "display_data"
    },
    {
     "data": {
      "application/vnd.jupyter.widget-view+json": {
       "model_id": "",
       "version_major": 2,
       "version_minor": 0
      },
      "text/plain": [
       "HBox(children=(HTML(value=''), FloatProgress(value=0.0, max=3.0), HTML(value='')))"
      ]
     },
     "metadata": {},
     "output_type": "display_data"
    },
    {
     "data": {
      "application/vnd.jupyter.widget-view+json": {
       "model_id": "",
       "version_major": 2,
       "version_minor": 0
      },
      "text/plain": [
       "HBox(children=(HTML(value=''), FloatProgress(value=0.0, max=4.0), HTML(value='')))"
      ]
     },
     "metadata": {},
     "output_type": "display_data"
    },
    {
     "data": {
      "application/vnd.jupyter.widget-view+json": {
       "model_id": "",
       "version_major": 2,
       "version_minor": 0
      },
      "text/plain": [
       "HBox(children=(HTML(value=''), FloatProgress(value=0.0, max=6.0), HTML(value='')))"
      ]
     },
     "metadata": {},
     "output_type": "display_data"
    },
    {
     "data": {
      "application/vnd.jupyter.widget-view+json": {
       "model_id": "",
       "version_major": 2,
       "version_minor": 0
      },
      "text/plain": [
       "HBox(children=(HTML(value=''), FloatProgress(value=0.0, max=1.0), HTML(value='')))"
      ]
     },
     "metadata": {},
     "output_type": "display_data"
    },
    {
     "data": {
      "application/vnd.jupyter.widget-view+json": {
       "model_id": "",
       "version_major": 2,
       "version_minor": 0
      },
      "text/plain": [
       "HBox(children=(HTML(value=''), FloatProgress(value=0.0, max=1.0), HTML(value='')))"
      ]
     },
     "metadata": {},
     "output_type": "display_data"
    },
    {
     "data": {
      "application/vnd.jupyter.widget-view+json": {
       "model_id": "",
       "version_major": 2,
       "version_minor": 0
      },
      "text/plain": [
       "HBox(children=(HTML(value=''), FloatProgress(value=0.0, max=4.0), HTML(value='')))"
      ]
     },
     "metadata": {},
     "output_type": "display_data"
    },
    {
     "data": {
      "application/vnd.jupyter.widget-view+json": {
       "model_id": "",
       "version_major": 2,
       "version_minor": 0
      },
      "text/plain": [
       "HBox(children=(HTML(value=''), FloatProgress(value=0.0, max=1.0), HTML(value='')))"
      ]
     },
     "metadata": {},
     "output_type": "display_data"
    },
    {
     "data": {
      "application/vnd.jupyter.widget-view+json": {
       "model_id": "",
       "version_major": 2,
       "version_minor": 0
      },
      "text/plain": [
       "HBox(children=(HTML(value=''), FloatProgress(value=0.0, max=1.0), HTML(value='')))"
      ]
     },
     "metadata": {},
     "output_type": "display_data"
    },
    {
     "data": {
      "application/vnd.jupyter.widget-view+json": {
       "model_id": "",
       "version_major": 2,
       "version_minor": 0
      },
      "text/plain": [
       "HBox(children=(HTML(value=''), FloatProgress(value=0.0, max=3.0), HTML(value='')))"
      ]
     },
     "metadata": {},
     "output_type": "display_data"
    },
    {
     "data": {
      "application/vnd.jupyter.widget-view+json": {
       "model_id": "",
       "version_major": 2,
       "version_minor": 0
      },
      "text/plain": [
       "HBox(children=(HTML(value=''), FloatProgress(value=0.0, max=1.0), HTML(value='')))"
      ]
     },
     "metadata": {},
     "output_type": "display_data"
    },
    {
     "data": {
      "application/vnd.jupyter.widget-view+json": {
       "model_id": "",
       "version_major": 2,
       "version_minor": 0
      },
      "text/plain": [
       "HBox(children=(HTML(value=''), FloatProgress(value=0.0, max=3.0), HTML(value='')))"
      ]
     },
     "metadata": {},
     "output_type": "display_data"
    },
    {
     "data": {
      "application/vnd.jupyter.widget-view+json": {
       "model_id": "",
       "version_major": 2,
       "version_minor": 0
      },
      "text/plain": [
       "HBox(children=(HTML(value=''), FloatProgress(value=0.0, max=2.0), HTML(value='')))"
      ]
     },
     "metadata": {},
     "output_type": "display_data"
    },
    {
     "data": {
      "application/vnd.jupyter.widget-view+json": {
       "model_id": "",
       "version_major": 2,
       "version_minor": 0
      },
      "text/plain": [
       "HBox(children=(HTML(value=''), FloatProgress(value=0.0, max=1.0), HTML(value='')))"
      ]
     },
     "metadata": {},
     "output_type": "display_data"
    },
    {
     "data": {
      "application/vnd.jupyter.widget-view+json": {
       "model_id": "",
       "version_major": 2,
       "version_minor": 0
      },
      "text/plain": [
       "HBox(children=(HTML(value=''), FloatProgress(value=0.0, max=1.0), HTML(value='')))"
      ]
     },
     "metadata": {},
     "output_type": "display_data"
    },
    {
     "data": {
      "application/vnd.jupyter.widget-view+json": {
       "model_id": "",
       "version_major": 2,
       "version_minor": 0
      },
      "text/plain": [
       "HBox(children=(HTML(value=''), FloatProgress(value=0.0, max=1.0), HTML(value='')))"
      ]
     },
     "metadata": {},
     "output_type": "display_data"
    },
    {
     "data": {
      "application/vnd.jupyter.widget-view+json": {
       "model_id": "",
       "version_major": 2,
       "version_minor": 0
      },
      "text/plain": [
       "HBox(children=(HTML(value=''), FloatProgress(value=0.0, max=1.0), HTML(value='')))"
      ]
     },
     "metadata": {},
     "output_type": "display_data"
    },
    {
     "data": {
      "application/vnd.jupyter.widget-view+json": {
       "model_id": "",
       "version_major": 2,
       "version_minor": 0
      },
      "text/plain": [
       "HBox(children=(HTML(value=''), FloatProgress(value=0.0, max=1.0), HTML(value='')))"
      ]
     },
     "metadata": {},
     "output_type": "display_data"
    },
    {
     "data": {
      "application/vnd.jupyter.widget-view+json": {
       "model_id": "",
       "version_major": 2,
       "version_minor": 0
      },
      "text/plain": [
       "HBox(children=(HTML(value=''), FloatProgress(value=0.0, max=1.0), HTML(value='')))"
      ]
     },
     "metadata": {},
     "output_type": "display_data"
    },
    {
     "data": {
      "application/vnd.jupyter.widget-view+json": {
       "model_id": "",
       "version_major": 2,
       "version_minor": 0
      },
      "text/plain": [
       "HBox(children=(HTML(value=''), FloatProgress(value=0.0, max=1.0), HTML(value='')))"
      ]
     },
     "metadata": {},
     "output_type": "display_data"
    },
    {
     "data": {
      "application/vnd.jupyter.widget-view+json": {
       "model_id": "",
       "version_major": 2,
       "version_minor": 0
      },
      "text/plain": [
       "HBox(children=(HTML(value=''), FloatProgress(value=0.0, max=1.0), HTML(value='')))"
      ]
     },
     "metadata": {},
     "output_type": "display_data"
    },
    {
     "data": {
      "application/vnd.jupyter.widget-view+json": {
       "model_id": "",
       "version_major": 2,
       "version_minor": 0
      },
      "text/plain": [
       "HBox(children=(HTML(value=''), FloatProgress(value=0.0, max=1.0), HTML(value='')))"
      ]
     },
     "metadata": {},
     "output_type": "display_data"
    },
    {
     "data": {
      "application/vnd.jupyter.widget-view+json": {
       "model_id": "",
       "version_major": 2,
       "version_minor": 0
      },
      "text/plain": [
       "HBox(children=(HTML(value=''), FloatProgress(value=0.0, max=2.0), HTML(value='')))"
      ]
     },
     "metadata": {},
     "output_type": "display_data"
    },
    {
     "data": {
      "application/vnd.jupyter.widget-view+json": {
       "model_id": "",
       "version_major": 2,
       "version_minor": 0
      },
      "text/plain": [
       "HBox(children=(HTML(value=''), FloatProgress(value=0.0, max=2.0), HTML(value='')))"
      ]
     },
     "metadata": {},
     "output_type": "display_data"
    },
    {
     "data": {
      "application/vnd.jupyter.widget-view+json": {
       "model_id": "",
       "version_major": 2,
       "version_minor": 0
      },
      "text/plain": [
       "HBox(children=(HTML(value=''), FloatProgress(value=0.0, max=3.0), HTML(value='')))"
      ]
     },
     "metadata": {},
     "output_type": "display_data"
    },
    {
     "data": {
      "application/vnd.jupyter.widget-view+json": {
       "model_id": "",
       "version_major": 2,
       "version_minor": 0
      },
      "text/plain": [
       "HBox(children=(HTML(value=''), FloatProgress(value=0.0, max=4.0), HTML(value='')))"
      ]
     },
     "metadata": {},
     "output_type": "display_data"
    },
    {
     "data": {
      "application/vnd.jupyter.widget-view+json": {
       "model_id": "",
       "version_major": 2,
       "version_minor": 0
      },
      "text/plain": [
       "HBox(children=(HTML(value=''), FloatProgress(value=0.0, max=7.0), HTML(value='')))"
      ]
     },
     "metadata": {},
     "output_type": "display_data"
    },
    {
     "data": {
      "application/vnd.jupyter.widget-view+json": {
       "model_id": "",
       "version_major": 2,
       "version_minor": 0
      },
      "text/plain": [
       "HBox(children=(HTML(value=''), FloatProgress(value=0.0, max=1.0), HTML(value='')))"
      ]
     },
     "metadata": {},
     "output_type": "display_data"
    },
    {
     "data": {
      "application/vnd.jupyter.widget-view+json": {
       "model_id": "",
       "version_major": 2,
       "version_minor": 0
      },
      "text/plain": [
       "HBox(children=(HTML(value=''), FloatProgress(value=0.0, max=2.0), HTML(value='')))"
      ]
     },
     "metadata": {},
     "output_type": "display_data"
    },
    {
     "data": {
      "application/vnd.jupyter.widget-view+json": {
       "model_id": "",
       "version_major": 2,
       "version_minor": 0
      },
      "text/plain": [
       "HBox(children=(HTML(value=''), FloatProgress(value=0.0, max=1.0), HTML(value='')))"
      ]
     },
     "metadata": {},
     "output_type": "display_data"
    },
    {
     "data": {
      "application/vnd.jupyter.widget-view+json": {
       "model_id": "",
       "version_major": 2,
       "version_minor": 0
      },
      "text/plain": [
       "HBox(children=(HTML(value=''), FloatProgress(value=0.0, max=1.0), HTML(value='')))"
      ]
     },
     "metadata": {},
     "output_type": "display_data"
    },
    {
     "data": {
      "application/vnd.jupyter.widget-view+json": {
       "model_id": "",
       "version_major": 2,
       "version_minor": 0
      },
      "text/plain": [
       "HBox(children=(HTML(value=''), FloatProgress(value=0.0, max=2.0), HTML(value='')))"
      ]
     },
     "metadata": {},
     "output_type": "display_data"
    },
    {
     "data": {
      "application/vnd.jupyter.widget-view+json": {
       "model_id": "",
       "version_major": 2,
       "version_minor": 0
      },
      "text/plain": [
       "HBox(children=(HTML(value=''), FloatProgress(value=0.0, max=66.0), HTML(value='')))"
      ]
     },
     "metadata": {},
     "output_type": "display_data"
    },
    {
     "data": {
      "application/vnd.jupyter.widget-view+json": {
       "model_id": "",
       "version_major": 2,
       "version_minor": 0
      },
      "text/plain": [
       "HBox(children=(HTML(value=''), FloatProgress(value=0.0, max=3.0), HTML(value='')))"
      ]
     },
     "metadata": {},
     "output_type": "display_data"
    },
    {
     "data": {
      "application/vnd.jupyter.widget-view+json": {
       "model_id": "",
       "version_major": 2,
       "version_minor": 0
      },
      "text/plain": [
       "HBox(children=(HTML(value=''), FloatProgress(value=0.0, max=3.0), HTML(value='')))"
      ]
     },
     "metadata": {},
     "output_type": "display_data"
    },
    {
     "data": {
      "application/vnd.jupyter.widget-view+json": {
       "model_id": "",
       "version_major": 2,
       "version_minor": 0
      },
      "text/plain": [
       "HBox(children=(HTML(value=''), FloatProgress(value=0.0, max=1.0), HTML(value='')))"
      ]
     },
     "metadata": {},
     "output_type": "display_data"
    },
    {
     "data": {
      "application/vnd.jupyter.widget-view+json": {
       "model_id": "",
       "version_major": 2,
       "version_minor": 0
      },
      "text/plain": [
       "HBox(children=(HTML(value=''), FloatProgress(value=0.0, max=1.0), HTML(value='')))"
      ]
     },
     "metadata": {},
     "output_type": "display_data"
    },
    {
     "data": {
      "application/vnd.jupyter.widget-view+json": {
       "model_id": "",
       "version_major": 2,
       "version_minor": 0
      },
      "text/plain": [
       "HBox(children=(HTML(value=''), FloatProgress(value=0.0, max=1.0), HTML(value='')))"
      ]
     },
     "metadata": {},
     "output_type": "display_data"
    },
    {
     "data": {
      "application/vnd.jupyter.widget-view+json": {
       "model_id": "",
       "version_major": 2,
       "version_minor": 0
      },
      "text/plain": [
       "HBox(children=(HTML(value=''), FloatProgress(value=0.0, max=1.0), HTML(value='')))"
      ]
     },
     "metadata": {},
     "output_type": "display_data"
    },
    {
     "data": {
      "application/vnd.jupyter.widget-view+json": {
       "model_id": "",
       "version_major": 2,
       "version_minor": 0
      },
      "text/plain": [
       "HBox(children=(HTML(value=''), FloatProgress(value=0.0, max=2.0), HTML(value='')))"
      ]
     },
     "metadata": {},
     "output_type": "display_data"
    },
    {
     "data": {
      "application/vnd.jupyter.widget-view+json": {
       "model_id": "",
       "version_major": 2,
       "version_minor": 0
      },
      "text/plain": [
       "HBox(children=(HTML(value=''), FloatProgress(value=0.0, max=1.0), HTML(value='')))"
      ]
     },
     "metadata": {},
     "output_type": "display_data"
    },
    {
     "data": {
      "application/vnd.jupyter.widget-view+json": {
       "model_id": "",
       "version_major": 2,
       "version_minor": 0
      },
      "text/plain": [
       "HBox(children=(HTML(value=''), FloatProgress(value=0.0, max=1.0), HTML(value='')))"
      ]
     },
     "metadata": {},
     "output_type": "display_data"
    },
    {
     "data": {
      "application/vnd.jupyter.widget-view+json": {
       "model_id": "",
       "version_major": 2,
       "version_minor": 0
      },
      "text/plain": [
       "HBox(children=(HTML(value=''), FloatProgress(value=0.0, max=2.0), HTML(value='')))"
      ]
     },
     "metadata": {},
     "output_type": "display_data"
    },
    {
     "data": {
      "application/vnd.jupyter.widget-view+json": {
       "model_id": "",
       "version_major": 2,
       "version_minor": 0
      },
      "text/plain": [
       "HBox(children=(HTML(value=''), FloatProgress(value=0.0, max=1.0), HTML(value='')))"
      ]
     },
     "metadata": {},
     "output_type": "display_data"
    },
    {
     "data": {
      "application/vnd.jupyter.widget-view+json": {
       "model_id": "",
       "version_major": 2,
       "version_minor": 0
      },
      "text/plain": [
       "HBox(children=(HTML(value=''), FloatProgress(value=0.0, max=1.0), HTML(value='')))"
      ]
     },
     "metadata": {},
     "output_type": "display_data"
    },
    {
     "data": {
      "application/vnd.jupyter.widget-view+json": {
       "model_id": "",
       "version_major": 2,
       "version_minor": 0
      },
      "text/plain": [
       "HBox(children=(HTML(value=''), FloatProgress(value=0.0, max=1.0), HTML(value='')))"
      ]
     },
     "metadata": {},
     "output_type": "display_data"
    },
    {
     "data": {
      "application/vnd.jupyter.widget-view+json": {
       "model_id": "",
       "version_major": 2,
       "version_minor": 0
      },
      "text/plain": [
       "HBox(children=(HTML(value=''), FloatProgress(value=0.0, max=1.0), HTML(value='')))"
      ]
     },
     "metadata": {},
     "output_type": "display_data"
    },
    {
     "data": {
      "application/vnd.jupyter.widget-view+json": {
       "model_id": "",
       "version_major": 2,
       "version_minor": 0
      },
      "text/plain": [
       "HBox(children=(HTML(value=''), FloatProgress(value=0.0, max=2.0), HTML(value='')))"
      ]
     },
     "metadata": {},
     "output_type": "display_data"
    },
    {
     "data": {
      "application/vnd.jupyter.widget-view+json": {
       "model_id": "",
       "version_major": 2,
       "version_minor": 0
      },
      "text/plain": [
       "HBox(children=(HTML(value=''), FloatProgress(value=0.0, max=1.0), HTML(value='')))"
      ]
     },
     "metadata": {},
     "output_type": "display_data"
    },
    {
     "data": {
      "application/vnd.jupyter.widget-view+json": {
       "model_id": "",
       "version_major": 2,
       "version_minor": 0
      },
      "text/plain": [
       "HBox(children=(HTML(value=''), FloatProgress(value=0.0, max=14.0), HTML(value='')))"
      ]
     },
     "metadata": {},
     "output_type": "display_data"
    },
    {
     "data": {
      "application/vnd.jupyter.widget-view+json": {
       "model_id": "",
       "version_major": 2,
       "version_minor": 0
      },
      "text/plain": [
       "HBox(children=(HTML(value=''), FloatProgress(value=0.0, max=2.0), HTML(value='')))"
      ]
     },
     "metadata": {},
     "output_type": "display_data"
    },
    {
     "data": {
      "application/vnd.jupyter.widget-view+json": {
       "model_id": "",
       "version_major": 2,
       "version_minor": 0
      },
      "text/plain": [
       "HBox(children=(HTML(value=''), FloatProgress(value=0.0, max=1.0), HTML(value='')))"
      ]
     },
     "metadata": {},
     "output_type": "display_data"
    },
    {
     "data": {
      "application/vnd.jupyter.widget-view+json": {
       "model_id": "",
       "version_major": 2,
       "version_minor": 0
      },
      "text/plain": [
       "HBox(children=(HTML(value=''), FloatProgress(value=0.0, max=1.0), HTML(value='')))"
      ]
     },
     "metadata": {},
     "output_type": "display_data"
    },
    {
     "data": {
      "application/vnd.jupyter.widget-view+json": {
       "model_id": "",
       "version_major": 2,
       "version_minor": 0
      },
      "text/plain": [
       "HBox(children=(HTML(value=''), FloatProgress(value=0.0, max=1.0), HTML(value='')))"
      ]
     },
     "metadata": {},
     "output_type": "display_data"
    },
    {
     "data": {
      "application/vnd.jupyter.widget-view+json": {
       "model_id": "",
       "version_major": 2,
       "version_minor": 0
      },
      "text/plain": [
       "HBox(children=(HTML(value=''), FloatProgress(value=0.0, max=5.0), HTML(value='')))"
      ]
     },
     "metadata": {},
     "output_type": "display_data"
    },
    {
     "data": {
      "application/vnd.jupyter.widget-view+json": {
       "model_id": "",
       "version_major": 2,
       "version_minor": 0
      },
      "text/plain": [
       "HBox(children=(HTML(value=''), FloatProgress(value=0.0, max=1.0), HTML(value='')))"
      ]
     },
     "metadata": {},
     "output_type": "display_data"
    },
    {
     "data": {
      "application/vnd.jupyter.widget-view+json": {
       "model_id": "",
       "version_major": 2,
       "version_minor": 0
      },
      "text/plain": [
       "HBox(children=(HTML(value=''), FloatProgress(value=0.0, max=1.0), HTML(value='')))"
      ]
     },
     "metadata": {},
     "output_type": "display_data"
    },
    {
     "data": {
      "application/vnd.jupyter.widget-view+json": {
       "model_id": "",
       "version_major": 2,
       "version_minor": 0
      },
      "text/plain": [
       "HBox(children=(HTML(value=''), FloatProgress(value=0.0, max=1.0), HTML(value='')))"
      ]
     },
     "metadata": {},
     "output_type": "display_data"
    },
    {
     "data": {
      "application/vnd.jupyter.widget-view+json": {
       "model_id": "",
       "version_major": 2,
       "version_minor": 0
      },
      "text/plain": [
       "HBox(children=(HTML(value=''), FloatProgress(value=0.0, max=1.0), HTML(value='')))"
      ]
     },
     "metadata": {},
     "output_type": "display_data"
    },
    {
     "data": {
      "application/vnd.jupyter.widget-view+json": {
       "model_id": "",
       "version_major": 2,
       "version_minor": 0
      },
      "text/plain": [
       "HBox(children=(HTML(value=''), FloatProgress(value=0.0, max=2.0), HTML(value='')))"
      ]
     },
     "metadata": {},
     "output_type": "display_data"
    },
    {
     "data": {
      "application/vnd.jupyter.widget-view+json": {
       "model_id": "",
       "version_major": 2,
       "version_minor": 0
      },
      "text/plain": [
       "HBox(children=(HTML(value=''), FloatProgress(value=0.0, max=2.0), HTML(value='')))"
      ]
     },
     "metadata": {},
     "output_type": "display_data"
    },
    {
     "data": {
      "application/vnd.jupyter.widget-view+json": {
       "model_id": "",
       "version_major": 2,
       "version_minor": 0
      },
      "text/plain": [
       "HBox(children=(HTML(value=''), FloatProgress(value=0.0, max=1.0), HTML(value='')))"
      ]
     },
     "metadata": {},
     "output_type": "display_data"
    },
    {
     "data": {
      "application/vnd.jupyter.widget-view+json": {
       "model_id": "",
       "version_major": 2,
       "version_minor": 0
      },
      "text/plain": [
       "HBox(children=(HTML(value=''), FloatProgress(value=0.0, max=1.0), HTML(value='')))"
      ]
     },
     "metadata": {},
     "output_type": "display_data"
    },
    {
     "data": {
      "application/vnd.jupyter.widget-view+json": {
       "model_id": "",
       "version_major": 2,
       "version_minor": 0
      },
      "text/plain": [
       "HBox(children=(HTML(value=''), FloatProgress(value=0.0, max=2.0), HTML(value='')))"
      ]
     },
     "metadata": {},
     "output_type": "display_data"
    },
    {
     "data": {
      "application/vnd.jupyter.widget-view+json": {
       "model_id": "",
       "version_major": 2,
       "version_minor": 0
      },
      "text/plain": [
       "HBox(children=(HTML(value=''), FloatProgress(value=0.0, max=1.0), HTML(value='')))"
      ]
     },
     "metadata": {},
     "output_type": "display_data"
    },
    {
     "data": {
      "application/vnd.jupyter.widget-view+json": {
       "model_id": "",
       "version_major": 2,
       "version_minor": 0
      },
      "text/plain": [
       "HBox(children=(HTML(value=''), FloatProgress(value=0.0, max=9.0), HTML(value='')))"
      ]
     },
     "metadata": {},
     "output_type": "display_data"
    },
    {
     "data": {
      "application/vnd.jupyter.widget-view+json": {
       "model_id": "",
       "version_major": 2,
       "version_minor": 0
      },
      "text/plain": [
       "HBox(children=(HTML(value=''), FloatProgress(value=0.0, max=1.0), HTML(value='')))"
      ]
     },
     "metadata": {},
     "output_type": "display_data"
    },
    {
     "data": {
      "application/vnd.jupyter.widget-view+json": {
       "model_id": "",
       "version_major": 2,
       "version_minor": 0
      },
      "text/plain": [
       "HBox(children=(HTML(value=''), FloatProgress(value=0.0, max=1.0), HTML(value='')))"
      ]
     },
     "metadata": {},
     "output_type": "display_data"
    },
    {
     "data": {
      "application/vnd.jupyter.widget-view+json": {
       "model_id": "",
       "version_major": 2,
       "version_minor": 0
      },
      "text/plain": [
       "HBox(children=(HTML(value=''), FloatProgress(value=0.0, max=1.0), HTML(value='')))"
      ]
     },
     "metadata": {},
     "output_type": "display_data"
    },
    {
     "data": {
      "application/vnd.jupyter.widget-view+json": {
       "model_id": "",
       "version_major": 2,
       "version_minor": 0
      },
      "text/plain": [
       "HBox(children=(HTML(value=''), FloatProgress(value=0.0, max=2.0), HTML(value='')))"
      ]
     },
     "metadata": {},
     "output_type": "display_data"
    },
    {
     "data": {
      "application/vnd.jupyter.widget-view+json": {
       "model_id": "",
       "version_major": 2,
       "version_minor": 0
      },
      "text/plain": [
       "HBox(children=(HTML(value=''), FloatProgress(value=0.0, max=3.0), HTML(value='')))"
      ]
     },
     "metadata": {},
     "output_type": "display_data"
    },
    {
     "data": {
      "application/vnd.jupyter.widget-view+json": {
       "model_id": "",
       "version_major": 2,
       "version_minor": 0
      },
      "text/plain": [
       "HBox(children=(HTML(value=''), FloatProgress(value=0.0, max=1.0), HTML(value='')))"
      ]
     },
     "metadata": {},
     "output_type": "display_data"
    },
    {
     "data": {
      "application/vnd.jupyter.widget-view+json": {
       "model_id": "",
       "version_major": 2,
       "version_minor": 0
      },
      "text/plain": [
       "HBox(children=(HTML(value=''), FloatProgress(value=0.0, max=10.0), HTML(value='')))"
      ]
     },
     "metadata": {},
     "output_type": "display_data"
    },
    {
     "data": {
      "application/vnd.jupyter.widget-view+json": {
       "model_id": "",
       "version_major": 2,
       "version_minor": 0
      },
      "text/plain": [
       "HBox(children=(HTML(value=''), FloatProgress(value=0.0, max=1.0), HTML(value='')))"
      ]
     },
     "metadata": {},
     "output_type": "display_data"
    },
    {
     "data": {
      "application/vnd.jupyter.widget-view+json": {
       "model_id": "",
       "version_major": 2,
       "version_minor": 0
      },
      "text/plain": [
       "HBox(children=(HTML(value=''), FloatProgress(value=0.0, max=6.0), HTML(value='')))"
      ]
     },
     "metadata": {},
     "output_type": "display_data"
    },
    {
     "data": {
      "application/vnd.jupyter.widget-view+json": {
       "model_id": "",
       "version_major": 2,
       "version_minor": 0
      },
      "text/plain": [
       "HBox(children=(HTML(value=''), FloatProgress(value=0.0, max=5.0), HTML(value='')))"
      ]
     },
     "metadata": {},
     "output_type": "display_data"
    },
    {
     "data": {
      "application/vnd.jupyter.widget-view+json": {
       "model_id": "",
       "version_major": 2,
       "version_minor": 0
      },
      "text/plain": [
       "HBox(children=(HTML(value=''), FloatProgress(value=0.0, max=3.0), HTML(value='')))"
      ]
     },
     "metadata": {},
     "output_type": "display_data"
    },
    {
     "data": {
      "application/vnd.jupyter.widget-view+json": {
       "model_id": "",
       "version_major": 2,
       "version_minor": 0
      },
      "text/plain": [
       "HBox(children=(HTML(value=''), FloatProgress(value=0.0, max=4.0), HTML(value='')))"
      ]
     },
     "metadata": {},
     "output_type": "display_data"
    },
    {
     "data": {
      "application/vnd.jupyter.widget-view+json": {
       "model_id": "",
       "version_major": 2,
       "version_minor": 0
      },
      "text/plain": [
       "HBox(children=(HTML(value=''), FloatProgress(value=0.0, max=1.0), HTML(value='')))"
      ]
     },
     "metadata": {},
     "output_type": "display_data"
    },
    {
     "data": {
      "application/vnd.jupyter.widget-view+json": {
       "model_id": "",
       "version_major": 2,
       "version_minor": 0
      },
      "text/plain": [
       "HBox(children=(HTML(value=''), FloatProgress(value=0.0, max=1.0), HTML(value='')))"
      ]
     },
     "metadata": {},
     "output_type": "display_data"
    },
    {
     "data": {
      "application/vnd.jupyter.widget-view+json": {
       "model_id": "",
       "version_major": 2,
       "version_minor": 0
      },
      "text/plain": [
       "HBox(children=(HTML(value=''), FloatProgress(value=0.0, max=1.0), HTML(value='')))"
      ]
     },
     "metadata": {},
     "output_type": "display_data"
    },
    {
     "data": {
      "application/vnd.jupyter.widget-view+json": {
       "model_id": "",
       "version_major": 2,
       "version_minor": 0
      },
      "text/plain": [
       "HBox(children=(HTML(value=''), FloatProgress(value=0.0, max=1.0), HTML(value='')))"
      ]
     },
     "metadata": {},
     "output_type": "display_data"
    },
    {
     "data": {
      "application/vnd.jupyter.widget-view+json": {
       "model_id": "",
       "version_major": 2,
       "version_minor": 0
      },
      "text/plain": [
       "HBox(children=(HTML(value=''), FloatProgress(value=0.0, max=1.0), HTML(value='')))"
      ]
     },
     "metadata": {},
     "output_type": "display_data"
    },
    {
     "data": {
      "application/vnd.jupyter.widget-view+json": {
       "model_id": "",
       "version_major": 2,
       "version_minor": 0
      },
      "text/plain": [
       "HBox(children=(HTML(value=''), FloatProgress(value=0.0, max=9.0), HTML(value='')))"
      ]
     },
     "metadata": {},
     "output_type": "display_data"
    },
    {
     "data": {
      "application/vnd.jupyter.widget-view+json": {
       "model_id": "",
       "version_major": 2,
       "version_minor": 0
      },
      "text/plain": [
       "HBox(children=(HTML(value=''), FloatProgress(value=0.0, max=1.0), HTML(value='')))"
      ]
     },
     "metadata": {},
     "output_type": "display_data"
    },
    {
     "data": {
      "application/vnd.jupyter.widget-view+json": {
       "model_id": "",
       "version_major": 2,
       "version_minor": 0
      },
      "text/plain": [
       "HBox(children=(HTML(value=''), FloatProgress(value=0.0, max=6.0), HTML(value='')))"
      ]
     },
     "metadata": {},
     "output_type": "display_data"
    },
    {
     "data": {
      "application/vnd.jupyter.widget-view+json": {
       "model_id": "",
       "version_major": 2,
       "version_minor": 0
      },
      "text/plain": [
       "HBox(children=(HTML(value=''), FloatProgress(value=0.0, max=1.0), HTML(value='')))"
      ]
     },
     "metadata": {},
     "output_type": "display_data"
    },
    {
     "data": {
      "application/vnd.jupyter.widget-view+json": {
       "model_id": "",
       "version_major": 2,
       "version_minor": 0
      },
      "text/plain": [
       "HBox(children=(HTML(value=''), FloatProgress(value=0.0, max=1.0), HTML(value='')))"
      ]
     },
     "metadata": {},
     "output_type": "display_data"
    },
    {
     "data": {
      "application/vnd.jupyter.widget-view+json": {
       "model_id": "",
       "version_major": 2,
       "version_minor": 0
      },
      "text/plain": [
       "HBox(children=(HTML(value=''), FloatProgress(value=0.0, max=1.0), HTML(value='')))"
      ]
     },
     "metadata": {},
     "output_type": "display_data"
    },
    {
     "data": {
      "application/vnd.jupyter.widget-view+json": {
       "model_id": "",
       "version_major": 2,
       "version_minor": 0
      },
      "text/plain": [
       "HBox(children=(HTML(value=''), FloatProgress(value=0.0, max=6.0), HTML(value='')))"
      ]
     },
     "metadata": {},
     "output_type": "display_data"
    },
    {
     "data": {
      "application/vnd.jupyter.widget-view+json": {
       "model_id": "",
       "version_major": 2,
       "version_minor": 0
      },
      "text/plain": [
       "HBox(children=(HTML(value=''), FloatProgress(value=0.0, max=15.0), HTML(value='')))"
      ]
     },
     "metadata": {},
     "output_type": "display_data"
    },
    {
     "data": {
      "application/vnd.jupyter.widget-view+json": {
       "model_id": "",
       "version_major": 2,
       "version_minor": 0
      },
      "text/plain": [
       "HBox(children=(HTML(value=''), FloatProgress(value=0.0, max=1.0), HTML(value='')))"
      ]
     },
     "metadata": {},
     "output_type": "display_data"
    },
    {
     "data": {
      "application/vnd.jupyter.widget-view+json": {
       "model_id": "",
       "version_major": 2,
       "version_minor": 0
      },
      "text/plain": [
       "HBox(children=(HTML(value=''), FloatProgress(value=0.0, max=1.0), HTML(value='')))"
      ]
     },
     "metadata": {},
     "output_type": "display_data"
    },
    {
     "data": {
      "application/vnd.jupyter.widget-view+json": {
       "model_id": "",
       "version_major": 2,
       "version_minor": 0
      },
      "text/plain": [
       "HBox(children=(HTML(value=''), FloatProgress(value=0.0, max=1.0), HTML(value='')))"
      ]
     },
     "metadata": {},
     "output_type": "display_data"
    },
    {
     "data": {
      "application/vnd.jupyter.widget-view+json": {
       "model_id": "",
       "version_major": 2,
       "version_minor": 0
      },
      "text/plain": [
       "HBox(children=(HTML(value=''), FloatProgress(value=0.0, max=1.0), HTML(value='')))"
      ]
     },
     "metadata": {},
     "output_type": "display_data"
    },
    {
     "data": {
      "application/vnd.jupyter.widget-view+json": {
       "model_id": "",
       "version_major": 2,
       "version_minor": 0
      },
      "text/plain": [
       "HBox(children=(HTML(value=''), FloatProgress(value=0.0, max=3.0), HTML(value='')))"
      ]
     },
     "metadata": {},
     "output_type": "display_data"
    },
    {
     "data": {
      "application/vnd.jupyter.widget-view+json": {
       "model_id": "",
       "version_major": 2,
       "version_minor": 0
      },
      "text/plain": [
       "HBox(children=(HTML(value=''), FloatProgress(value=0.0, max=1.0), HTML(value='')))"
      ]
     },
     "metadata": {},
     "output_type": "display_data"
    },
    {
     "data": {
      "application/vnd.jupyter.widget-view+json": {
       "model_id": "",
       "version_major": 2,
       "version_minor": 0
      },
      "text/plain": [
       "HBox(children=(HTML(value=''), FloatProgress(value=0.0, max=1.0), HTML(value='')))"
      ]
     },
     "metadata": {},
     "output_type": "display_data"
    },
    {
     "data": {
      "application/vnd.jupyter.widget-view+json": {
       "model_id": "",
       "version_major": 2,
       "version_minor": 0
      },
      "text/plain": [
       "HBox(children=(HTML(value=''), FloatProgress(value=0.0, max=2.0), HTML(value='')))"
      ]
     },
     "metadata": {},
     "output_type": "display_data"
    },
    {
     "name": "stdout",
     "output_type": "stream",
     "text": [
      "\n"
     ]
    }
   ],
   "source": [
    "# download all cities\n",
    "\n",
    "download_states = states # ['new-york'] # restrict to states\n",
    "\n",
    "cities = {x: [y.get('name') for y in json.loads(Path(f'newspapers-api/{x}/root.json').read_text()).get('children')] for x in states}\n",
    "\n",
    "for state in [x for x in states if x in download_states]:\n",
    "    for city in tqdm(cities[state], bar_format=\"{l_bar}{bar}{r_bar}\", desc=state):\n",
    "        if not Path(f'newspapers-api/{state}/{city}').exists():\n",
    "            Path(f'newspapers-api/{state}/{city}').mkdir(parents=True)\n",
    "        \n",
    "        if not Path(f'newspapers-api/{state}/{city}/root.json').exists():\n",
    "            r = requests.get(f'{api_root}{state}/{city}', headers=headers)\n",
    "            if r.status_code == 200:\n",
    "                Path(f'newspapers-api/{state}/{city}/root.json').write_text(r.text)\n",
    "            else:\n",
    "                exit()\n",
    "            \n",
    "            \n",
    "            \n",
    "# download all newspapers per city\n",
    "\n",
    "download_cities = ['albany']\n",
    "\n",
    "state_counter = 0\n",
    "for state, cities in tqdm(cities.items(), bar_format=\"{l_bar}{bar}{r_bar}\", desc=\"hello\"):\n",
    "    state_counter += 1\n",
    "    city_counter = 0\n",
    "    if not state in download_states:\n",
    "        continue\n",
    "        \n",
    "    for city in tqdm(cities, leave=False): # [x for x in cities if x in download_cities]:\n",
    "        city_counter += 1\n",
    "        # tqdm.set_description('processing newspapers in ' + city + ', ' + state)\n",
    "        papers = [y.get('name') for y in json.loads(Path(f'newspapers-api/{state}/{city}/root.json').read_text()).get('children')]\n",
    "        for paper in tqdm(papers, leave=False):\n",
    "            search_path = f'{state}/{city}/{paper}'\n",
    "            if not Path(f'newspapers-api/{search_path}').exists():\n",
    "                Path(f'newspapers-api/{search_path}').mkdir(parents=True)\n",
    "\n",
    "            if not Path(f'newspapers-api/{search_path}/root.json').exists():\n",
    "                print('downloading')\n",
    "                # tqdm.set_description(f'---> downloading {paper} (city {city_counter}/{len(cities)}, state {state_counter}/{len(states)})')\n",
    "                r = requests.get(f'{api_root}{search_path}', headers=headers)\n",
    "                if r.status_code == 200:\n",
    "                    Path(f'newspapers-api/{search_path}/root.json').write_text(r.text)\n",
    "                else:\n",
    "                    exit()\n",
    "                "
   ]
  },
  {
   "cell_type": "code",
   "execution_count": null,
   "metadata": {},
   "outputs": [],
   "source": []
  },
  {
   "cell_type": "code",
   "execution_count": null,
   "metadata": {},
   "outputs": [],
   "source": []
  },
  {
   "cell_type": "code",
   "execution_count": 35,
   "metadata": {},
   "outputs": [],
   "source": [
    "# find relevant papers\n",
    "min_year = 1930\n",
    "max_year = 1940"
   ]
  },
  {
   "cell_type": "code",
   "execution_count": 36,
   "metadata": {},
   "outputs": [
    {
     "name": "stdout",
     "output_type": "stream",
     "text": [
      "new-york\n",
      "new-jersey\n",
      "california\n",
      "michigan\n",
      "indiana\n",
      "ohio\n",
      "pennsylvania\n",
      "massachusetts\n",
      "kansas\n",
      "texas\n",
      "kentucky\n"
     ]
    }
   ],
   "source": [
    "all_states = [x['name'] for x in json.loads(Path('newspapers-api/root.json').read_text()).get('children')]\n",
    "all_cities = {x: [y.get('name') for y in json.loads(Path(f'newspapers-api/{x}/root.json').read_text()).get('children')] for x in states}\n",
    "newspapers_in_range = {}\n",
    "\n",
    "for state, cities in all_cities.items():\n",
    "    print(state)\n",
    "    for city in cities:\n",
    "        if Path(f'newspapers-api/{state}/{city}/root.json').exists():\n",
    "            all_newspapers = [x['name'] for x in json.loads(Path(f'newspapers-api/{state}/{city}/root.json').read_text()).get('children')]\n",
    "            for newspaper in all_newspapers:\n",
    "                if Path(f'newspapers-api/{state}/{city}/{newspaper}/root.json').exists():\n",
    "                    year_range = [int(x['name']) for x in json.loads(Path(f'newspapers-api/{state}/{city}/{newspaper}/root.json').read_text()).get('children')]\n",
    "                    start_year = min(year_range)\n",
    "                    end_year = max(year_range)\n",
    "                    in_min_max = [x for x in year_range if x > min_year and x < max_year]\n",
    "                    if in_min_max:\n",
    "                        if not state in newspapers_in_range:\n",
    "                            newspapers_in_range[state] = {}\n",
    "                        if not city in newspapers_in_range[state]:\n",
    "                            newspapers_in_range[state][city] = []\n",
    "                            \n",
    "                        newspapers_in_range[state][city].append((newspaper, in_min_max))"
   ]
  },
  {
   "cell_type": "code",
   "execution_count": null,
   "metadata": {},
   "outputs": [
    {
     "name": "stdout",
     "output_type": "stream",
     "text": [
      "processing new-york\n",
      "the-angola-record_6387 1931\n",
      "-----> downloading the-angola-record_6387 (new-york/angola)\n",
      "the-angola-record_6387 1932\n",
      "-----> downloading the-angola-record_6387 (new-york/angola)\n",
      "the-angola-record_6387 1933\n",
      "-----> downloading the-angola-record_6387 (new-york/angola)\n",
      "the-angola-record_6387 1934\n",
      "-----> downloading the-angola-record_6387 (new-york/angola)\n",
      "the-angola-record_6387 1935\n",
      "-----> downloading the-angola-record_6387 (new-york/angola)\n",
      "the-angola-record_6387 1936\n",
      "-----> downloading the-angola-record_6387 (new-york/angola)\n",
      "the-angola-record_6387 1937\n",
      "-----> downloading the-angola-record_6387 (new-york/angola)\n",
      "press-and-sun-bulletin_3799 1931\n",
      "-----> downloading press-and-sun-bulletin_3799 (new-york/binghamton)\n",
      "press-and-sun-bulletin_3799 1932\n",
      "-----> downloading press-and-sun-bulletin_3799 (new-york/binghamton)\n",
      "press-and-sun-bulletin_3799 1933\n",
      "-----> downloading press-and-sun-bulletin_3799 (new-york/binghamton)\n",
      "press-and-sun-bulletin_3799 1934\n",
      "-----> downloading press-and-sun-bulletin_3799 (new-york/binghamton)\n",
      "press-and-sun-bulletin_3799 1935\n",
      "-----> downloading press-and-sun-bulletin_3799 (new-york/binghamton)\n",
      "press-and-sun-bulletin_3799 1936\n",
      "-----> downloading press-and-sun-bulletin_3799 (new-york/binghamton)\n",
      "press-and-sun-bulletin_3799 1937\n",
      "-----> downloading press-and-sun-bulletin_3799 (new-york/binghamton)\n",
      "press-and-sun-bulletin_3799 1938\n",
      "-----> downloading press-and-sun-bulletin_3799 (new-york/binghamton)\n",
      "press-and-sun-bulletin_3799 1939\n",
      "-----> downloading press-and-sun-bulletin_3799 (new-york/binghamton)\n",
      "brooklyn-life-and-activities-of-long-island-society_3473 1931\n",
      "-----> downloading brooklyn-life-and-activities-of-long-island-society_3473 (new-york/brooklyn)\n",
      "home-talk-the-item_18395 1931\n",
      "-----> downloading home-talk-the-item_18395 (new-york/brooklyn)\n",
      "home-talk-the-star_18396 1931\n",
      "-----> downloading home-talk-the-star_18396 (new-york/brooklyn)\n",
      "the-brooklyn-citizen_12382 1931\n",
      "-----> downloading the-brooklyn-citizen_12382 (new-york/brooklyn)\n",
      "the-brooklyn-citizen_12382 1932\n",
      "-----> downloading the-brooklyn-citizen_12382 (new-york/brooklyn)\n",
      "the-brooklyn-citizen_12382 1933\n",
      "-----> downloading the-brooklyn-citizen_12382 (new-york/brooklyn)\n",
      "the-brooklyn-citizen_12382 1934\n",
      "-----> downloading the-brooklyn-citizen_12382 (new-york/brooklyn)\n",
      "the-brooklyn-citizen_12382 1935\n",
      "-----> downloading the-brooklyn-citizen_12382 (new-york/brooklyn)\n",
      "the-brooklyn-citizen_12382 1936\n",
      "-----> downloading the-brooklyn-citizen_12382 (new-york/brooklyn)\n",
      "the-brooklyn-citizen_12382 1937\n",
      "-----> downloading the-brooklyn-citizen_12382 (new-york/brooklyn)\n",
      "the-brooklyn-citizen_12382 1938\n",
      "-----> downloading the-brooklyn-citizen_12382 (new-york/brooklyn)\n",
      "the-brooklyn-citizen_12382 1939\n",
      "-----> downloading the-brooklyn-citizen_12382 (new-york/brooklyn)\n",
      "the-brooklyn-daily-eagle_1890 1931\n",
      "-----> downloading the-brooklyn-daily-eagle_1890 (new-york/brooklyn)\n",
      "the-brooklyn-daily-eagle_1890 1932\n",
      "-----> downloading the-brooklyn-daily-eagle_1890 (new-york/brooklyn)\n",
      "the-brooklyn-daily-eagle_1890 1933\n",
      "-----> downloading the-brooklyn-daily-eagle_1890 (new-york/brooklyn)\n",
      "the-brooklyn-daily-eagle_1890 1934\n",
      "-----> downloading the-brooklyn-daily-eagle_1890 (new-york/brooklyn)\n",
      "the-brooklyn-daily-eagle_1890 1935\n",
      "-----> downloading the-brooklyn-daily-eagle_1890 (new-york/brooklyn)\n",
      "the-brooklyn-daily-eagle_1890 1936\n",
      "-----> downloading the-brooklyn-daily-eagle_1890 (new-york/brooklyn)\n",
      "the-brooklyn-daily-eagle_1890 1937\n",
      "-----> downloading the-brooklyn-daily-eagle_1890 (new-york/brooklyn)\n",
      "the-brooklyn-daily-eagle_1890 1938\n",
      "-----> downloading the-brooklyn-daily-eagle_1890 (new-york/brooklyn)\n",
      "the-brooklyn-daily-eagle_1890 1939\n",
      "-----> downloading the-brooklyn-daily-eagle_1890 (new-york/brooklyn)\n",
      "the-standard-union_12387 1931\n",
      "-----> downloading the-standard-union_12387 (new-york/brooklyn)\n",
      "the-standard-union_12387 1932\n",
      "-----> downloading the-standard-union_12387 (new-york/brooklyn)\n",
      "the-tablet_18398 1931\n",
      "-----> downloading the-tablet_18398 (new-york/brooklyn)\n",
      "the-tablet_18398 1932\n",
      "-----> downloading the-tablet_18398 (new-york/brooklyn)\n",
      "the-tablet_18398 1933\n",
      "-----> downloading the-tablet_18398 (new-york/brooklyn)\n",
      "the-tablet_18398 1934\n",
      "-----> downloading the-tablet_18398 (new-york/brooklyn)\n",
      "the-tablet_18398 1935\n",
      "-----> downloading the-tablet_18398 (new-york/brooklyn)\n",
      "the-tablet_18398 1936\n",
      "-----> downloading the-tablet_18398 (new-york/brooklyn)\n",
      "the-tablet_18398 1937\n",
      "-----> downloading the-tablet_18398 (new-york/brooklyn)\n",
      "the-tablet_18398 1938\n",
      "-----> downloading the-tablet_18398 (new-york/brooklyn)\n",
      "the-tablet_18398 1939\n",
      "-----> downloading the-tablet_18398 (new-york/brooklyn)\n",
      "times-union_18390 1931\n",
      "-----> downloading times-union_18390 (new-york/brooklyn)\n",
      "times-union_18390 1932\n",
      "-----> downloading times-union_18390 (new-york/brooklyn)\n",
      "times-union_18390 1933\n",
      "-----> downloading times-union_18390 (new-york/brooklyn)\n",
      "times-union_18390 1934\n",
      "-----> downloading times-union_18390 (new-york/brooklyn)\n",
      "times-union_18390 1935\n",
      "-----> downloading times-union_18390 (new-york/brooklyn)\n",
      "times-union_18390 1936\n",
      "-----> downloading times-union_18390 (new-york/brooklyn)\n",
      "times-union_18390 1937\n",
      "-----> downloading times-union_18390 (new-york/brooklyn)\n",
      "times-union_18390 1938\n",
      "-----> downloading times-union_18390 (new-york/brooklyn)\n",
      "times-union_18503 1937\n",
      "-----> downloading times-union_18503 (new-york/brooklyn)\n",
      "buffalo-courier-express_26897 1932\n",
      "-----> downloading buffalo-courier-express_26897 (new-york/buffalo)\n",
      "buffalo-courier-express_26897 1933\n",
      "-----> downloading buffalo-courier-express_26897 (new-york/buffalo)\n",
      "buffalo-courier-express_26897 1936\n",
      "-----> downloading buffalo-courier-express_26897 (new-york/buffalo)\n",
      "the-daily-messenger_805 1931\n",
      "-----> downloading the-daily-messenger_805 (new-york/canandaigua)\n",
      "the-daily-messenger_805 1932\n",
      "-----> downloading the-daily-messenger_805 (new-york/canandaigua)\n",
      "the-daily-messenger_805 1933\n",
      "-----> downloading the-daily-messenger_805 (new-york/canandaigua)\n",
      "the-daily-messenger_805 1934\n",
      "-----> downloading the-daily-messenger_805 (new-york/canandaigua)\n",
      "the-daily-messenger_805 1935\n",
      "-----> downloading the-daily-messenger_805 (new-york/canandaigua)\n",
      "the-daily-messenger_805 1936\n",
      "-----> downloading the-daily-messenger_805 (new-york/canandaigua)\n",
      "the-daily-messenger_805 1937\n",
      "-----> downloading the-daily-messenger_805 (new-york/canandaigua)\n",
      "the-daily-messenger_805 1938\n",
      "-----> downloading the-daily-messenger_805 (new-york/canandaigua)\n",
      "the-daily-messenger_805 1939\n",
      "-----> downloading the-daily-messenger_805 (new-york/canandaigua)\n",
      "dunkirk-evening-observer_500 1931\n",
      "-----> downloading dunkirk-evening-observer_500 (new-york/dunkirk)\n",
      "dunkirk-evening-observer_500 1932\n",
      "-----> downloading dunkirk-evening-observer_500 (new-york/dunkirk)\n",
      "dunkirk-evening-observer_500 1933\n",
      "-----> downloading dunkirk-evening-observer_500 (new-york/dunkirk)\n",
      "dunkirk-evening-observer_500 1934\n",
      "-----> downloading dunkirk-evening-observer_500 (new-york/dunkirk)\n",
      "dunkirk-evening-observer_500 1935\n",
      "-----> downloading dunkirk-evening-observer_500 (new-york/dunkirk)\n",
      "dunkirk-evening-observer_500 1936\n",
      "-----> downloading dunkirk-evening-observer_500 (new-york/dunkirk)\n",
      "dunkirk-evening-observer_500 1937\n",
      "-----> downloading dunkirk-evening-observer_500 (new-york/dunkirk)\n",
      "dunkirk-evening-observer_500 1938\n",
      "-----> downloading dunkirk-evening-observer_500 (new-york/dunkirk)\n",
      "dunkirk-evening-observer_500 1939\n",
      "-----> downloading dunkirk-evening-observer_500 (new-york/dunkirk)\n",
      "star-gazette_3800 1931\n",
      "-----> downloading star-gazette_3800 (new-york/elmira)\n",
      "star-gazette_3800 1932\n",
      "-----> downloading star-gazette_3800 (new-york/elmira)\n",
      "star-gazette_3800 1933\n",
      "-----> downloading star-gazette_3800 (new-york/elmira)\n",
      "star-gazette_3800 1934\n",
      "-----> downloading star-gazette_3800 (new-york/elmira)\n",
      "star-gazette_3800 1935\n",
      "-----> downloading star-gazette_3800 (new-york/elmira)\n",
      "star-gazette_3800 1936\n",
      "-----> downloading star-gazette_3800 (new-york/elmira)\n",
      "star-gazette_3800 1937\n",
      "-----> downloading star-gazette_3800 (new-york/elmira)\n",
      "star-gazette_3800 1938\n",
      "-----> downloading star-gazette_3800 (new-york/elmira)\n",
      "star-gazette_3800 1939\n",
      "-----> downloading star-gazette_3800 (new-york/elmira)\n",
      "the-post-star_6162 1931\n",
      "-----> downloading the-post-star_6162 (new-york/glens-falls)\n",
      "the-post-star_6162 1932\n",
      "-----> downloading the-post-star_6162 (new-york/glens-falls)\n"
     ]
    },
    {
     "name": "stdout",
     "output_type": "stream",
     "text": [
      "the-post-star_6162 1933\n",
      "-----> downloading the-post-star_6162 (new-york/glens-falls)\n",
      "the-post-star_6162 1934\n",
      "-----> downloading the-post-star_6162 (new-york/glens-falls)\n",
      "the-post-star_6162 1935\n",
      "-----> downloading the-post-star_6162 (new-york/glens-falls)\n",
      "the-post-star_6162 1936\n",
      "-----> downloading the-post-star_6162 (new-york/glens-falls)\n",
      "the-post-star_6162 1937\n",
      "-----> downloading the-post-star_6162 (new-york/glens-falls)\n",
      "the-post-star_6162 1938\n",
      "-----> downloading the-post-star_6162 (new-york/glens-falls)\n",
      "the-post-star_6162 1939\n",
      "-----> downloading the-post-star_6162 (new-york/glens-falls)\n",
      "the-sun-and-the-erie-county-independent_1867 1931\n",
      "-----> downloading the-sun-and-the-erie-county-independent_1867 (new-york/hamburg)\n",
      "the-sun-and-the-erie-county-independent_1867 1932\n",
      "-----> downloading the-sun-and-the-erie-county-independent_1867 (new-york/hamburg)\n",
      "the-sun-and-the-erie-county-independent_1867 1933\n",
      "-----> downloading the-sun-and-the-erie-county-independent_1867 (new-york/hamburg)\n",
      "the-sun-and-the-erie-county-independent_1867 1934\n",
      "-----> downloading the-sun-and-the-erie-county-independent_1867 (new-york/hamburg)\n",
      "the-sun-and-the-erie-county-independent_1867 1935\n",
      "-----> downloading the-sun-and-the-erie-county-independent_1867 (new-york/hamburg)\n",
      "the-sun-and-the-erie-county-independent_1867 1938\n",
      "-----> downloading the-sun-and-the-erie-county-independent_1867 (new-york/hamburg)\n",
      "the-sun-and-the-erie-county-independent_1867 1939\n",
      "-----> downloading the-sun-and-the-erie-county-independent_1867 (new-york/hamburg)\n",
      "the-ithaca-journal_3801 1931\n",
      "-----> downloading the-ithaca-journal_3801 (new-york/ithaca)\n",
      "the-ithaca-journal_3801 1932\n",
      "-----> downloading the-ithaca-journal_3801 (new-york/ithaca)\n",
      "the-ithaca-journal_3801 1933\n",
      "-----> downloading the-ithaca-journal_3801 (new-york/ithaca)\n",
      "the-ithaca-journal_3801 1934\n",
      "-----> downloading the-ithaca-journal_3801 (new-york/ithaca)\n",
      "the-ithaca-journal_3801 1935\n",
      "-----> downloading the-ithaca-journal_3801 (new-york/ithaca)\n",
      "the-ithaca-journal_3801 1936\n",
      "-----> downloading the-ithaca-journal_3801 (new-york/ithaca)\n",
      "the-ithaca-journal_3801 1937\n",
      "-----> downloading the-ithaca-journal_3801 (new-york/ithaca)\n",
      "the-ithaca-journal_3801 1938\n",
      "-----> downloading the-ithaca-journal_3801 (new-york/ithaca)\n",
      "the-ithaca-journal_3801 1939\n",
      "-----> downloading the-ithaca-journal_3801 (new-york/ithaca)\n",
      "the-kingston-daily-freeman_840 1931\n",
      "-----> downloading the-kingston-daily-freeman_840 (new-york/kingston)\n",
      "the-kingston-daily-freeman_840 1932\n",
      "-----> downloading the-kingston-daily-freeman_840 (new-york/kingston)\n",
      "the-kingston-daily-freeman_840 1933\n",
      "-----> downloading the-kingston-daily-freeman_840 (new-york/kingston)\n",
      "the-kingston-daily-freeman_840 1934\n",
      "-----> downloading the-kingston-daily-freeman_840 (new-york/kingston)\n",
      "the-kingston-daily-freeman_840 1935\n",
      "-----> downloading the-kingston-daily-freeman_840 (new-york/kingston)\n",
      "the-kingston-daily-freeman_840 1936\n",
      "-----> downloading the-kingston-daily-freeman_840 (new-york/kingston)\n",
      "the-kingston-daily-freeman_840 1937\n",
      "-----> downloading the-kingston-daily-freeman_840 (new-york/kingston)\n",
      "the-kingston-daily-freeman_840 1938\n",
      "-----> downloading the-kingston-daily-freeman_840 (new-york/kingston)\n",
      "the-kingston-daily-freeman_840 1939\n",
      "-----> downloading the-kingston-daily-freeman_840 (new-york/kingston)\n",
      "the-daily-times_26916 1931\n",
      "-----> downloading the-daily-times_26916 (new-york/mamaroneck)\n",
      "the-daily-times_26916 1935\n",
      "-----> downloading the-daily-times_26916 (new-york/mamaroneck)\n",
      "the-daily-times_26916 1937\n",
      "-----> downloading the-daily-times_26916 (new-york/mamaroneck)\n",
      "the-daily-times_26916 1938\n",
      "-----> downloading the-daily-times_26916 (new-york/mamaroneck)\n",
      "the-daily-times_26916 1939\n",
      "-----> downloading the-daily-times_26916 (new-york/mamaroneck)\n",
      "middletown-times-herald_1180 1931\n",
      "-----> downloading middletown-times-herald_1180 (new-york/middletown)\n",
      "middletown-times-herald_1180 1932\n",
      "-----> downloading middletown-times-herald_1180 (new-york/middletown)\n",
      "middletown-times-herald_1180 1933\n",
      "-----> downloading middletown-times-herald_1180 (new-york/middletown)\n",
      "middletown-times-herald_1180 1934\n",
      "-----> downloading middletown-times-herald_1180 (new-york/middletown)\n",
      "middletown-times-herald_1180 1935\n",
      "-----> downloading middletown-times-herald_1180 (new-york/middletown)\n",
      "middletown-times-herald_1180 1936\n",
      "-----> downloading middletown-times-herald_1180 (new-york/middletown)\n",
      "middletown-times-herald_1180 1937\n",
      "-----> downloading middletown-times-herald_1180 (new-york/middletown)\n",
      "middletown-times-herald_1180 1938\n",
      "-----> downloading middletown-times-herald_1180 (new-york/middletown)\n",
      "middletown-times-herald_1180 1939\n",
      "-----> downloading middletown-times-herald_1180 (new-york/middletown)\n",
      "barnard-bulletin_1168 1931\n",
      "-----> downloading barnard-bulletin_1168 (new-york/new-york)\n",
      "barnard-bulletin_1168 1932\n",
      "-----> downloading barnard-bulletin_1168 (new-york/new-york)\n",
      "barnard-bulletin_1168 1933\n",
      "-----> downloading barnard-bulletin_1168 (new-york/new-york)\n",
      "barnard-bulletin_1168 1934\n",
      "-----> downloading barnard-bulletin_1168 (new-york/new-york)\n",
      "barnard-bulletin_1168 1935\n",
      "-----> downloading barnard-bulletin_1168 (new-york/new-york)\n",
      "barnard-bulletin_1168 1936\n",
      "-----> downloading barnard-bulletin_1168 (new-york/new-york)\n",
      "barnard-bulletin_1168 1937\n",
      "-----> downloading barnard-bulletin_1168 (new-york/new-york)\n",
      "barnard-bulletin_1168 1938\n",
      "-----> downloading barnard-bulletin_1168 (new-york/new-york)\n",
      "barnard-bulletin_1168 1939\n",
      "-----> downloading barnard-bulletin_1168 (new-york/new-york)\n",
      "daily-news_7802 1931\n",
      "-----> downloading daily-news_7802 (new-york/new-york)\n",
      "daily-news_7802 1932\n",
      "-----> downloading daily-news_7802 (new-york/new-york)\n",
      "daily-news_7802 1933\n",
      "-----> downloading daily-news_7802 (new-york/new-york)\n",
      "daily-news_7802 1934\n",
      "-----> downloading daily-news_7802 (new-york/new-york)\n",
      "daily-news_7802 1935\n",
      "-----> downloading daily-news_7802 (new-york/new-york)\n",
      "daily-news_7802 1936\n",
      "-----> downloading daily-news_7802 (new-york/new-york)\n",
      "daily-news_7802 1937\n",
      "-----> downloading daily-news_7802 (new-york/new-york)\n",
      "daily-news_7802 1938\n",
      "-----> downloading daily-news_7802 (new-york/new-york)\n",
      "daily-news_7802 1939\n",
      "-----> downloading daily-news_7802 (new-york/new-york)\n",
      "the-new-york-age_893 1931\n",
      "-----> downloading the-new-york-age_893 (new-york/new-york)\n",
      "the-new-york-age_893 1932\n",
      "-----> downloading the-new-york-age_893 (new-york/new-york)\n",
      "the-new-york-age_893 1933\n",
      "-----> downloading the-new-york-age_893 (new-york/new-york)\n",
      "the-new-york-age_893 1934\n",
      "-----> downloading the-new-york-age_893 (new-york/new-york)\n",
      "the-new-york-age_893 1935\n",
      "-----> downloading the-new-york-age_893 (new-york/new-york)\n",
      "the-new-york-age_893 1936\n",
      "-----> downloading the-new-york-age_893 (new-york/new-york)\n",
      "the-new-york-age_893 1937\n",
      "-----> downloading the-new-york-age_893 (new-york/new-york)\n",
      "the-new-york-age_893 1938\n",
      "-----> downloading the-new-york-age_893 (new-york/new-york)\n",
      "the-new-york-age_893 1939\n",
      "-----> downloading the-new-york-age_893 (new-york/new-york)\n",
      "times-herald_777 1931\n",
      "-----> downloading times-herald_777 (new-york/olean)\n",
      "times-herald_777 1935\n",
      "-----> downloading times-herald_777 (new-york/olean)\n",
      "times-herald_777 1936\n",
      "-----> downloading times-herald_777 (new-york/olean)\n",
      "times-herald_777 1937\n",
      "-----> downloading times-herald_777 (new-york/olean)\n",
      "times-herald_777 1938\n",
      "-----> downloading times-herald_777 (new-york/olean)\n",
      "times-herald_777 1939\n",
      "-----> downloading times-herald_777 (new-york/olean)\n",
      "the-oneonta-star_509 1931\n",
      "-----> downloading the-oneonta-star_509 (new-york/oneonta)\n",
      "the-oneonta-star_509 1934\n",
      "-----> downloading the-oneonta-star_509 (new-york/oneonta)\n",
      "the-daily-item_26895 1931\n",
      "-----> downloading the-daily-item_26895 (new-york/port-chester)\n",
      "the-daily-item_26895 1932\n",
      "-----> downloading the-daily-item_26895 (new-york/port-chester)\n",
      "the-daily-item_26895 1933\n",
      "-----> downloading the-daily-item_26895 (new-york/port-chester)\n",
      "the-daily-item_26895 1934\n",
      "-----> downloading the-daily-item_26895 (new-york/port-chester)\n",
      "the-daily-item_26895 1935\n",
      "-----> downloading the-daily-item_26895 (new-york/port-chester)\n",
      "the-daily-item_26895 1936\n",
      "-----> downloading the-daily-item_26895 (new-york/port-chester)\n",
      "the-daily-item_26895 1937\n",
      "-----> downloading the-daily-item_26895 (new-york/port-chester)\n",
      "the-daily-item_26895 1938\n",
      "-----> downloading the-daily-item_26895 (new-york/port-chester)\n"
     ]
    },
    {
     "name": "stdout",
     "output_type": "stream",
     "text": [
      "the-daily-item_26895 1939\n",
      "-----> downloading the-daily-item_26895 (new-york/port-chester)\n",
      "poughkeepsie-eagle-news_3832 1931\n",
      "-----> downloading poughkeepsie-eagle-news_3832 (new-york/poughkeepsie)\n",
      "poughkeepsie-eagle-news_3832 1932\n",
      "-----> downloading poughkeepsie-eagle-news_3832 (new-york/poughkeepsie)\n",
      "poughkeepsie-eagle-news_3832 1933\n",
      "-----> downloading poughkeepsie-eagle-news_3832 (new-york/poughkeepsie)\n",
      "poughkeepsie-eagle-news_3832 1934\n",
      "-----> downloading poughkeepsie-eagle-news_3832 (new-york/poughkeepsie)\n",
      "poughkeepsie-eagle-news_3832 1935\n",
      "-----> downloading poughkeepsie-eagle-news_3832 (new-york/poughkeepsie)\n",
      "poughkeepsie-eagle-news_3832 1936\n",
      "-----> downloading poughkeepsie-eagle-news_3832 (new-york/poughkeepsie)\n",
      "poughkeepsie-eagle-news_3832 1937\n",
      "-----> downloading poughkeepsie-eagle-news_3832 (new-york/poughkeepsie)\n",
      "poughkeepsie-eagle-news_3832 1938\n",
      "-----> downloading poughkeepsie-eagle-news_3832 (new-york/poughkeepsie)\n",
      "poughkeepsie-eagle-news_3832 1939\n",
      "-----> downloading poughkeepsie-eagle-news_3832 (new-york/poughkeepsie)\n",
      "democrat-and-chronicle_3749 1931\n",
      "-----> downloading democrat-and-chronicle_3749 (new-york/rochester)\n",
      "democrat-and-chronicle_3749 1932\n",
      "-----> downloading democrat-and-chronicle_3749 (new-york/rochester)\n",
      "democrat-and-chronicle_3749 1933\n",
      "-----> downloading democrat-and-chronicle_3749 (new-york/rochester)\n",
      "democrat-and-chronicle_3749 1934\n",
      "-----> downloading democrat-and-chronicle_3749 (new-york/rochester)\n",
      "democrat-and-chronicle_3749 1935\n",
      "-----> downloading democrat-and-chronicle_3749 (new-york/rochester)\n",
      "democrat-and-chronicle_3749 1936\n",
      "-----> downloading democrat-and-chronicle_3749 (new-york/rochester)\n",
      "democrat-and-chronicle_3749 1937\n",
      "-----> downloading democrat-and-chronicle_3749 (new-york/rochester)\n",
      "democrat-and-chronicle_3749 1938\n",
      "-----> downloading democrat-and-chronicle_3749 (new-york/rochester)\n",
      "democrat-and-chronicle_3749 1939\n",
      "-----> downloading democrat-and-chronicle_3749 (new-york/rochester)\n",
      "salamanca-republican-press_214 1932\n",
      "-----> downloading salamanca-republican-press_214 (new-york/salamanca)\n",
      "springville-journal_5339 1931\n",
      "-----> downloading springville-journal_5339 (new-york/springville)\n",
      "springville-journal_5339 1932\n",
      "-----> downloading springville-journal_5339 (new-york/springville)\n",
      "springville-journal_5339 1933\n",
      "-----> downloading springville-journal_5339 (new-york/springville)\n",
      "springville-journal_5339 1934\n",
      "-----> downloading springville-journal_5339 (new-york/springville)\n",
      "springville-journal_5339 1935\n",
      "-----> downloading springville-journal_5339 (new-york/springville)\n",
      "springville-journal_5339 1936\n",
      "-----> downloading springville-journal_5339 (new-york/springville)\n",
      "springville-journal_5339 1937\n",
      "-----> downloading springville-journal_5339 (new-york/springville)\n",
      "springville-journal_5339 1938\n",
      "-----> downloading springville-journal_5339 (new-york/springville)\n",
      "springville-journal_5339 1939\n",
      "-----> downloading springville-journal_5339 (new-york/springville)\n",
      "syracuse-herald-journal_220 1931\n",
      "-----> downloading syracuse-herald-journal_220 (new-york/syracuse)\n",
      "syracuse-herald-journal_220 1936\n",
      "-----> downloading syracuse-herald-journal_220 (new-york/syracuse)\n",
      "syracuse-herald-journal_220 1938\n",
      "-----> downloading syracuse-herald-journal_220 (new-york/syracuse)\n",
      "syracuse-herald-journal_220 1939\n",
      "-----> downloading syracuse-herald-journal_220 (new-york/syracuse)\n",
      "the-post-standard_506 1931\n",
      "-----> downloading the-post-standard_506 (new-york/syracuse)\n",
      "the-valley-news_3363 1936\n",
      "-----> downloading the-valley-news_3363 (new-york/waverly)\n",
      "the-herald-statesman_25669 1932\n",
      "-----> downloading the-herald-statesman_25669 (new-york/yonkers)\n",
      "the-herald-statesman_25669 1933\n",
      "-----> downloading the-herald-statesman_25669 (new-york/yonkers)\n",
      "the-herald-statesman_25669 1934\n",
      "-----> downloading the-herald-statesman_25669 (new-york/yonkers)\n",
      "the-herald-statesman_25669 1935\n",
      "-----> downloading the-herald-statesman_25669 (new-york/yonkers)\n",
      "the-herald-statesman_25669 1936\n",
      "-----> downloading the-herald-statesman_25669 (new-york/yonkers)\n",
      "the-herald-statesman_25669 1937\n",
      "-----> downloading the-herald-statesman_25669 (new-york/yonkers)\n",
      "the-herald-statesman_25669 1938\n",
      "-----> downloading the-herald-statesman_25669 (new-york/yonkers)\n",
      "the-herald-statesman_25669 1939\n",
      "-----> downloading the-herald-statesman_25669 (new-york/yonkers)\n",
      "the-yonkers-herald_25664 1931\n",
      "-----> downloading the-yonkers-herald_25664 (new-york/yonkers)\n",
      "the-yonkers-herald_25664 1932\n",
      "-----> downloading the-yonkers-herald_25664 (new-york/yonkers)\n",
      "yonkers-statesman_25662 1931\n",
      "-----> downloading yonkers-statesman_25662 (new-york/yonkers)\n",
      "yonkers-statesman_25662 1932\n",
      "-----> downloading yonkers-statesman_25662 (new-york/yonkers)\n",
      "processing new-jersey\n",
      "allentown-messenger_9256 1931\n",
      "-----> downloading allentown-messenger_9256 (new-jersey/allentown)\n",
      "allentown-messenger_9256 1932\n",
      "-----> downloading allentown-messenger_9256 (new-jersey/allentown)\n",
      "allentown-messenger_9256 1933\n",
      "-----> downloading allentown-messenger_9256 (new-jersey/allentown)\n",
      "allentown-messenger_9256 1934\n",
      "-----> downloading allentown-messenger_9256 (new-jersey/allentown)\n",
      "allentown-messenger_9256 1935\n",
      "-----> downloading allentown-messenger_9256 (new-jersey/allentown)\n",
      "allentown-messenger_9256 1936\n",
      "-----> downloading allentown-messenger_9256 (new-jersey/allentown)\n",
      "allentown-messenger_9256 1937\n",
      "-----> downloading allentown-messenger_9256 (new-jersey/allentown)\n",
      "allentown-messenger_9256 1938\n",
      "-----> downloading allentown-messenger_9256 (new-jersey/allentown)\n",
      "allentown-messenger_9256 1939\n",
      "-----> downloading allentown-messenger_9256 (new-jersey/allentown)\n",
      "asbury-park-press_3780 1931\n",
      "-----> downloading asbury-park-press_3780 (new-jersey/asbury-park)\n",
      "asbury-park-press_3780 1932\n",
      "-----> downloading asbury-park-press_3780 (new-jersey/asbury-park)\n",
      "asbury-park-press_3780 1933\n",
      "-----> downloading asbury-park-press_3780 (new-jersey/asbury-park)\n",
      "asbury-park-press_3780 1934\n",
      "-----> downloading asbury-park-press_3780 (new-jersey/asbury-park)\n",
      "asbury-park-press_3780 1935\n",
      "-----> downloading asbury-park-press_3780 (new-jersey/asbury-park)\n",
      "asbury-park-press_3780 1936\n",
      "-----> downloading asbury-park-press_3780 (new-jersey/asbury-park)\n",
      "asbury-park-press_3780 1937\n",
      "-----> downloading asbury-park-press_3780 (new-jersey/asbury-park)\n",
      "asbury-park-press_3780 1938\n",
      "-----> downloading asbury-park-press_3780 (new-jersey/asbury-park)\n",
      "asbury-park-press_3780 1939\n",
      "-----> downloading asbury-park-press_3780 (new-jersey/asbury-park)\n",
      "the-atlantic-highlands-journal_11687 1931\n",
      "-----> downloading the-atlantic-highlands-journal_11687 (new-jersey/atlantic-highlands)\n",
      "the-atlantic-highlands-journal_11687 1935\n",
      "-----> downloading the-atlantic-highlands-journal_11687 (new-jersey/atlantic-highlands)\n",
      "the-atlantic-highlands-journal_11687 1936\n",
      "-----> downloading the-atlantic-highlands-journal_11687 (new-jersey/atlantic-highlands)\n",
      "the-atlantic-highlands-journal_11687 1937\n",
      "-----> downloading the-atlantic-highlands-journal_11687 (new-jersey/atlantic-highlands)\n",
      "the-atlantic-highlands-journal_11687 1938\n",
      "-----> downloading the-atlantic-highlands-journal_11687 (new-jersey/atlantic-highlands)\n",
      "the-atlantic-highlands-journal_11687 1939\n",
      "-----> downloading the-atlantic-highlands-journal_11687 (new-jersey/atlantic-highlands)\n",
      "bernardsville-news_3638 1931\n",
      "-----> downloading bernardsville-news_3638 (new-jersey/bernardsville)\n",
      "bernardsville-news_3638 1932\n",
      "-----> downloading bernardsville-news_3638 (new-jersey/bernardsville)\n",
      "bernardsville-news_3638 1933\n",
      "-----> downloading bernardsville-news_3638 (new-jersey/bernardsville)\n",
      "bernardsville-news_3638 1934\n",
      "-----> downloading bernardsville-news_3638 (new-jersey/bernardsville)\n",
      "bernardsville-news_3638 1935\n",
      "-----> downloading bernardsville-news_3638 (new-jersey/bernardsville)\n",
      "bernardsville-news_3638 1936\n",
      "-----> downloading bernardsville-news_3638 (new-jersey/bernardsville)\n",
      "bernardsville-news_3638 1937\n",
      "-----> downloading bernardsville-news_3638 (new-jersey/bernardsville)\n",
      "bernardsville-news_3638 1938\n",
      "-----> downloading bernardsville-news_3638 (new-jersey/bernardsville)\n",
      "bernardsville-news_3638 1939\n",
      "-----> downloading bernardsville-news_3638 (new-jersey/bernardsville)\n",
      "the-courier-news_3776 1931\n",
      "-----> downloading the-courier-news_3776 (new-jersey/bridgewater)\n",
      "the-courier-news_3776 1932\n",
      "-----> downloading the-courier-news_3776 (new-jersey/bridgewater)\n"
     ]
    },
    {
     "name": "stdout",
     "output_type": "stream",
     "text": [
      "the-courier-news_3776 1933\n",
      "-----> downloading the-courier-news_3776 (new-jersey/bridgewater)\n",
      "the-courier-news_3776 1934\n",
      "-----> downloading the-courier-news_3776 (new-jersey/bridgewater)\n",
      "the-courier-news_3776 1935\n",
      "-----> downloading the-courier-news_3776 (new-jersey/bridgewater)\n",
      "the-courier-news_3776 1936\n",
      "-----> downloading the-courier-news_3776 (new-jersey/bridgewater)\n",
      "the-courier-news_3776 1937\n",
      "-----> downloading the-courier-news_3776 (new-jersey/bridgewater)\n",
      "the-courier-news_3776 1938\n",
      "-----> downloading the-courier-news_3776 (new-jersey/bridgewater)\n",
      "the-courier-news_3776 1939\n",
      "-----> downloading the-courier-news_3776 (new-jersey/bridgewater)\n",
      "courier-post_3767 1931\n",
      "-----> downloading courier-post_3767 (new-jersey/camden)\n",
      "courier-post_3767 1932\n",
      "-----> downloading courier-post_3767 (new-jersey/camden)\n",
      "courier-post_3767 1933\n",
      "-----> downloading courier-post_3767 (new-jersey/camden)\n",
      "courier-post_3767 1934\n",
      "-----> downloading courier-post_3767 (new-jersey/camden)\n",
      "courier-post_3767 1935\n",
      "-----> downloading courier-post_3767 (new-jersey/camden)\n",
      "courier-post_3767 1936\n",
      "-----> downloading courier-post_3767 (new-jersey/camden)\n",
      "courier-post_3767 1937\n",
      "-----> downloading courier-post_3767 (new-jersey/camden)\n",
      "courier-post_3767 1938\n",
      "-----> downloading courier-post_3767 (new-jersey/camden)\n",
      "courier-post_3767 1939\n",
      "-----> downloading courier-post_3767 (new-jersey/camden)\n",
      "the-morning-post_11807 1931\n",
      "-----> downloading the-morning-post_11807 (new-jersey/camden)\n",
      "the-morning-post_11807 1932\n",
      "-----> downloading the-morning-post_11807 (new-jersey/camden)\n",
      "the-morning-post_11807 1933\n",
      "-----> downloading the-morning-post_11807 (new-jersey/camden)\n",
      "the-morning-post_11807 1934\n",
      "-----> downloading the-morning-post_11807 (new-jersey/camden)\n",
      "the-morning-post_11807 1935\n",
      "-----> downloading the-morning-post_11807 (new-jersey/camden)\n",
      "the-morning-post_11807 1936\n",
      "-----> downloading the-morning-post_11807 (new-jersey/camden)\n",
      "the-morning-post_11807 1937\n",
      "-----> downloading the-morning-post_11807 (new-jersey/camden)\n",
      "the-morning-post_11807 1938\n",
      "-----> downloading the-morning-post_11807 (new-jersey/camden)\n",
      "the-morning-post_11807 1939\n",
      "-----> downloading the-morning-post_11807 (new-jersey/camden)\n",
      "the-chatham-press_3642 1931\n",
      "-----> downloading the-chatham-press_3642 (new-jersey/chatham)\n",
      "the-chatham-press_3642 1932\n",
      "-----> downloading the-chatham-press_3642 (new-jersey/chatham)\n",
      "the-chatham-press_3642 1933\n",
      "-----> downloading the-chatham-press_3642 (new-jersey/chatham)\n",
      "the-chatham-press_3642 1934\n",
      "-----> downloading the-chatham-press_3642 (new-jersey/chatham)\n",
      "the-chatham-press_3642 1935\n",
      "-----> downloading the-chatham-press_3642 (new-jersey/chatham)\n",
      "the-chatham-press_3642 1936\n",
      "-----> downloading the-chatham-press_3642 (new-jersey/chatham)\n",
      "the-chatham-press_3642 1937\n",
      "-----> downloading the-chatham-press_3642 (new-jersey/chatham)\n",
      "the-chatham-press_3642 1938\n",
      "-----> downloading the-chatham-press_3642 (new-jersey/chatham)\n",
      "the-chatham-press_3642 1939\n",
      "-----> downloading the-chatham-press_3642 (new-jersey/chatham)\n",
      "the-quill-and-fair-lawn-observer_12473 1937\n",
      "-----> downloading the-quill-and-fair-lawn-observer_12473 (new-jersey/fair-lawn)\n",
      "monmouth-democrat_11698 1931\n",
      "-----> downloading monmouth-democrat_11698 (new-jersey/freehold)\n",
      "monmouth-democrat_11698 1932\n",
      "-----> downloading monmouth-democrat_11698 (new-jersey/freehold)\n",
      "monmouth-democrat_11698 1933\n",
      "-----> downloading monmouth-democrat_11698 (new-jersey/freehold)\n",
      "monmouth-democrat_11698 1934\n",
      "-----> downloading monmouth-democrat_11698 (new-jersey/freehold)\n",
      "monmouth-democrat_11698 1935\n",
      "-----> downloading monmouth-democrat_11698 (new-jersey/freehold)\n",
      "monmouth-democrat_11698 1936\n",
      "-----> downloading monmouth-democrat_11698 (new-jersey/freehold)\n",
      "monmouth-democrat_11698 1937\n",
      "-----> downloading monmouth-democrat_11698 (new-jersey/freehold)\n",
      "monmouth-democrat_11698 1938\n",
      "-----> downloading monmouth-democrat_11698 (new-jersey/freehold)\n",
      "monmouth-democrat_11698 1939\n",
      "-----> downloading monmouth-democrat_11698 (new-jersey/freehold)\n",
      "the-freehold-transcript-and-the-monmouth-inquirer_6594 1931\n",
      "-----> downloading the-freehold-transcript-and-the-monmouth-inquirer_6594 (new-jersey/freehold)\n",
      "the-freehold-transcript-and-the-monmouth-inquirer_6594 1932\n",
      "-----> downloading the-freehold-transcript-and-the-monmouth-inquirer_6594 (new-jersey/freehold)\n",
      "the-freehold-transcript-and-the-monmouth-inquirer_6594 1933\n",
      "-----> downloading the-freehold-transcript-and-the-monmouth-inquirer_6594 (new-jersey/freehold)\n",
      "the-freehold-transcript-and-the-monmouth-inquirer_6594 1934\n",
      "-----> downloading the-freehold-transcript-and-the-monmouth-inquirer_6594 (new-jersey/freehold)\n",
      "the-freehold-transcript-and-the-monmouth-inquirer_6594 1935\n",
      "-----> downloading the-freehold-transcript-and-the-monmouth-inquirer_6594 (new-jersey/freehold)\n",
      "the-freehold-transcript-and-the-monmouth-inquirer_6594 1936\n",
      "-----> downloading the-freehold-transcript-and-the-monmouth-inquirer_6594 (new-jersey/freehold)\n",
      "the-freehold-transcript-and-the-monmouth-inquirer_6594 1937\n",
      "-----> downloading the-freehold-transcript-and-the-monmouth-inquirer_6594 (new-jersey/freehold)\n",
      "the-freehold-transcript-and-the-monmouth-inquirer_6594 1938\n",
      "-----> downloading the-freehold-transcript-and-the-monmouth-inquirer_6594 (new-jersey/freehold)\n",
      "the-freehold-transcript-and-the-monmouth-inquirer_6594 1939\n",
      "-----> downloading the-freehold-transcript-and-the-monmouth-inquirer_6594 (new-jersey/freehold)\n",
      "the-monmouth-inquirer_7214 1931\n",
      "-----> downloading the-monmouth-inquirer_7214 (new-jersey/freehold)\n",
      "the-monmouth-inquirer_7214 1932\n",
      "-----> downloading the-monmouth-inquirer_7214 (new-jersey/freehold)\n",
      "the-monmouth-inquirer_7214 1933\n",
      "-----> downloading the-monmouth-inquirer_7214 (new-jersey/freehold)\n",
      "the-record_11034 1931\n",
      "-----> downloading the-record_11034 (new-jersey/hackensack)\n",
      "the-record_11034 1932\n",
      "-----> downloading the-record_11034 (new-jersey/hackensack)\n",
      "the-record_11034 1933\n",
      "-----> downloading the-record_11034 (new-jersey/hackensack)\n",
      "the-record_11034 1934\n",
      "-----> downloading the-record_11034 (new-jersey/hackensack)\n",
      "the-record_11034 1935\n",
      "-----> downloading the-record_11034 (new-jersey/hackensack)\n",
      "the-record_11034 1936\n",
      "-----> downloading the-record_11034 (new-jersey/hackensack)\n",
      "the-record_11034 1937\n",
      "-----> downloading the-record_11034 (new-jersey/hackensack)\n",
      "the-record_11034 1938\n",
      "-----> downloading the-record_11034 (new-jersey/hackensack)\n",
      "the-record_11034 1939\n",
      "-----> downloading the-record_11034 (new-jersey/hackensack)\n",
      "the-hopewell-herald_2763 1931\n",
      "-----> downloading the-hopewell-herald_2763 (new-jersey/hopewell)\n",
      "the-hopewell-herald_2763 1932\n",
      "-----> downloading the-hopewell-herald_2763 (new-jersey/hopewell)\n",
      "the-hopewell-herald_2763 1933\n",
      "-----> downloading the-hopewell-herald_2763 (new-jersey/hopewell)\n",
      "the-hopewell-herald_2763 1934\n",
      "-----> downloading the-hopewell-herald_2763 (new-jersey/hopewell)\n",
      "the-hopewell-herald_2763 1935\n",
      "-----> downloading the-hopewell-herald_2763 (new-jersey/hopewell)\n",
      "the-hopewell-herald_2763 1938\n",
      "-----> downloading the-hopewell-herald_2763 (new-jersey/hopewell)\n",
      "the-hopewell-herald_2763 1939\n",
      "-----> downloading the-hopewell-herald_2763 (new-jersey/hopewell)\n",
      "keansburg-news_11691 1935\n",
      "-----> downloading keansburg-news_11691 (new-jersey/keansburg)\n",
      "keansburg-news_11691 1936\n",
      "-----> downloading keansburg-news_11691 (new-jersey/keansburg)\n",
      "keansburg-news_11691 1937\n",
      "-----> downloading keansburg-news_11691 (new-jersey/keansburg)\n",
      "keansburg-news_11691 1938\n",
      "-----> downloading keansburg-news_11691 (new-jersey/keansburg)\n",
      "keansburg-news_11691 1939\n",
      "-----> downloading keansburg-news_11691 (new-jersey/keansburg)\n",
      "keyport-enterprise_8102 1931\n",
      "-----> downloading keyport-enterprise_8102 (new-jersey/keyport)\n",
      "keyport-enterprise_8102 1932\n",
      "-----> downloading keyport-enterprise_8102 (new-jersey/keyport)\n",
      "keyport-enterprise_8102 1933\n",
      "-----> downloading keyport-enterprise_8102 (new-jersey/keyport)\n",
      "keyport-enterprise_8102 1934\n",
      "-----> downloading keyport-enterprise_8102 (new-jersey/keyport)\n",
      "keyport-enterprise_8102 1935\n",
      "-----> downloading keyport-enterprise_8102 (new-jersey/keyport)\n",
      "keyport-enterprise_8102 1936\n",
      "-----> downloading keyport-enterprise_8102 (new-jersey/keyport)\n",
      "keyport-enterprise_8102 1937\n",
      "-----> downloading keyport-enterprise_8102 (new-jersey/keyport)\n",
      "keyport-enterprise_8102 1938\n",
      "-----> downloading keyport-enterprise_8102 (new-jersey/keyport)\n"
     ]
    },
    {
     "name": "stdout",
     "output_type": "stream",
     "text": [
      "keyport-enterprise_8102 1939\n",
      "-----> downloading keyport-enterprise_8102 (new-jersey/keyport)\n",
      "keyport-weekly_8096 1931\n",
      "-----> downloading keyport-weekly_8096 (new-jersey/keyport)\n",
      "keyport-weekly_8096 1932\n",
      "-----> downloading keyport-weekly_8096 (new-jersey/keyport)\n",
      "keyport-weekly_8096 1933\n",
      "-----> downloading keyport-weekly_8096 (new-jersey/keyport)\n",
      "keyport-weekly_8096 1934\n",
      "-----> downloading keyport-weekly_8096 (new-jersey/keyport)\n",
      "keyport-weekly_8096 1935\n",
      "-----> downloading keyport-weekly_8096 (new-jersey/keyport)\n",
      "keyport-weekly_8096 1936\n",
      "-----> downloading keyport-weekly_8096 (new-jersey/keyport)\n",
      "keyport-weekly_8096 1937\n",
      "-----> downloading keyport-weekly_8096 (new-jersey/keyport)\n",
      "keyport-weekly_8096 1938\n",
      "-----> downloading keyport-weekly_8096 (new-jersey/keyport)\n",
      "keyport-weekly_8096 1939\n",
      "-----> downloading keyport-weekly_8096 (new-jersey/keyport)\n",
      "the-keyport-weekly-and-the-keyport-enterprise_9263 1931\n",
      "-----> downloading the-keyport-weekly-and-the-keyport-enterprise_9263 (new-jersey/keyport)\n",
      "the-keyport-weekly-and-the-keyport-enterprise_9263 1939\n",
      "-----> downloading the-keyport-weekly-and-the-keyport-enterprise_9263 (new-jersey/keyport)\n",
      "the-daily-record_11686 1931\n",
      "-----> downloading the-daily-record_11686 (new-jersey/long-branch)\n",
      "the-daily-record_11686 1932\n",
      "-----> downloading the-daily-record_11686 (new-jersey/long-branch)\n",
      "the-daily-record_11686 1933\n",
      "-----> downloading the-daily-record_11686 (new-jersey/long-branch)\n",
      "the-daily-record_11686 1934\n",
      "-----> downloading the-daily-record_11686 (new-jersey/long-branch)\n",
      "the-daily-record_11686 1935\n",
      "-----> downloading the-daily-record_11686 (new-jersey/long-branch)\n",
      "the-daily-record_11686 1936\n",
      "-----> downloading the-daily-record_11686 (new-jersey/long-branch)\n",
      "the-daily-record_11686 1937\n",
      "-----> downloading the-daily-record_11686 (new-jersey/long-branch)\n",
      "the-daily-record_11686 1938\n",
      "-----> downloading the-daily-record_11686 (new-jersey/long-branch)\n",
      "the-daily-record_11686 1939\n",
      "-----> downloading the-daily-record_11686 (new-jersey/long-branch)\n",
      "the-madison-eagle_4943 1931\n",
      "-----> downloading the-madison-eagle_4943 (new-jersey/madison)\n",
      "the-madison-eagle_4943 1932\n",
      "-----> downloading the-madison-eagle_4943 (new-jersey/madison)\n",
      "the-madison-eagle_4943 1933\n",
      "-----> downloading the-madison-eagle_4943 (new-jersey/madison)\n",
      "the-madison-eagle_4943 1934\n",
      "-----> downloading the-madison-eagle_4943 (new-jersey/madison)\n",
      "the-madison-eagle_4943 1935\n",
      "-----> downloading the-madison-eagle_4943 (new-jersey/madison)\n",
      "the-madison-eagle_4943 1936\n",
      "-----> downloading the-madison-eagle_4943 (new-jersey/madison)\n",
      "the-madison-eagle_4943 1937\n",
      "-----> downloading the-madison-eagle_4943 (new-jersey/madison)\n",
      "the-madison-eagle_4943 1938\n",
      "-----> downloading the-madison-eagle_4943 (new-jersey/madison)\n",
      "the-madison-eagle_4943 1939\n",
      "-----> downloading the-madison-eagle_4943 (new-jersey/madison)\n",
      "the-coast-star_9520 1931\n",
      "-----> downloading the-coast-star_9520 (new-jersey/manasquan)\n",
      "the-coast-star_9520 1932\n",
      "-----> downloading the-coast-star_9520 (new-jersey/manasquan)\n",
      "the-coast-star_9520 1933\n",
      "-----> downloading the-coast-star_9520 (new-jersey/manasquan)\n",
      "the-coast-star_9520 1934\n",
      "-----> downloading the-coast-star_9520 (new-jersey/manasquan)\n",
      "the-coast-star_9520 1935\n",
      "-----> downloading the-coast-star_9520 (new-jersey/manasquan)\n",
      "the-coast-star_9520 1936\n",
      "-----> downloading the-coast-star_9520 (new-jersey/manasquan)\n",
      "the-coast-star_9520 1937\n",
      "-----> downloading the-coast-star_9520 (new-jersey/manasquan)\n",
      "the-coast-star_9520 1938\n",
      "-----> downloading the-coast-star_9520 (new-jersey/manasquan)\n",
      "the-coast-star_9520 1939\n",
      "-----> downloading the-coast-star_9520 (new-jersey/manasquan)\n",
      "matawan-journal_9275 1931\n",
      "-----> downloading matawan-journal_9275 (new-jersey/matawan)\n",
      "matawan-journal_9275 1932\n",
      "-----> downloading matawan-journal_9275 (new-jersey/matawan)\n",
      "matawan-journal_9275 1933\n",
      "-----> downloading matawan-journal_9275 (new-jersey/matawan)\n",
      "matawan-journal_9275 1934\n",
      "-----> downloading matawan-journal_9275 (new-jersey/matawan)\n",
      "matawan-journal_9275 1935\n",
      "-----> downloading matawan-journal_9275 (new-jersey/matawan)\n",
      "matawan-journal_9275 1936\n",
      "-----> downloading matawan-journal_9275 (new-jersey/matawan)\n",
      "matawan-journal_9275 1937\n",
      "-----> downloading matawan-journal_9275 (new-jersey/matawan)\n",
      "matawan-journal_9275 1938\n",
      "-----> downloading matawan-journal_9275 (new-jersey/matawan)\n",
      "matawan-journal_9275 1939\n",
      "-----> downloading matawan-journal_9275 (new-jersey/matawan)\n",
      "the-item-of-millburn-and-short-hills_11724 1931\n",
      "-----> downloading the-item-of-millburn-and-short-hills_11724 (new-jersey/millburn)\n",
      "the-item-of-millburn-and-short-hills_11724 1932\n",
      "-----> downloading the-item-of-millburn-and-short-hills_11724 (new-jersey/millburn)\n",
      "the-item-of-millburn-and-short-hills_11724 1933\n",
      "-----> downloading the-item-of-millburn-and-short-hills_11724 (new-jersey/millburn)\n",
      "the-item-of-millburn-and-short-hills_11724 1934\n",
      "-----> downloading the-item-of-millburn-and-short-hills_11724 (new-jersey/millburn)\n",
      "the-item-of-millburn-and-short-hills_11724 1935\n",
      "-----> downloading the-item-of-millburn-and-short-hills_11724 (new-jersey/millburn)\n",
      "the-item-of-millburn-and-short-hills_11724 1936\n",
      "-----> downloading the-item-of-millburn-and-short-hills_11724 (new-jersey/millburn)\n",
      "the-item-of-millburn-and-short-hills_11724 1937\n",
      "-----> downloading the-item-of-millburn-and-short-hills_11724 (new-jersey/millburn)\n",
      "the-item-of-millburn-and-short-hills_11724 1938\n",
      "-----> downloading the-item-of-millburn-and-short-hills_11724 (new-jersey/millburn)\n",
      "the-item-of-millburn-and-short-hills_11724 1939\n",
      "-----> downloading the-item-of-millburn-and-short-hills_11724 (new-jersey/millburn)\n",
      "the-millville-daily_7950 1931\n",
      "-----> downloading the-millville-daily_7950 (new-jersey/millville)\n",
      "the-millville-daily_7950 1932\n",
      "-----> downloading the-millville-daily_7950 (new-jersey/millville)\n",
      "the-millville-daily_7950 1933\n",
      "-----> downloading the-millville-daily_7950 (new-jersey/millville)\n",
      "the-millville-daily_7950 1934\n",
      "-----> downloading the-millville-daily_7950 (new-jersey/millville)\n",
      "the-millville-daily_7950 1935\n",
      "-----> downloading the-millville-daily_7950 (new-jersey/millville)\n",
      "the-millville-daily_7950 1936\n",
      "-----> downloading the-millville-daily_7950 (new-jersey/millville)\n",
      "the-millville-daily_7950 1937\n",
      "-----> downloading the-millville-daily_7950 (new-jersey/millville)\n",
      "the-millville-daily_7950 1938\n",
      "-----> downloading the-millville-daily_7950 (new-jersey/millville)\n",
      "the-millville-daily_7950 1939\n",
      "-----> downloading the-millville-daily_7950 (new-jersey/millville)\n",
      "the-montclair-times_11721 1931\n",
      "-----> downloading the-montclair-times_11721 (new-jersey/montclair)\n",
      "the-montclair-times_11721 1932\n",
      "-----> downloading the-montclair-times_11721 (new-jersey/montclair)\n",
      "the-montclair-times_11721 1933\n",
      "-----> downloading the-montclair-times_11721 (new-jersey/montclair)\n",
      "the-montclair-times_11721 1934\n",
      "-----> downloading the-montclair-times_11721 (new-jersey/montclair)\n",
      "the-montclair-times_11721 1935\n",
      "-----> downloading the-montclair-times_11721 (new-jersey/montclair)\n",
      "the-montclair-times_11721 1936\n",
      "-----> downloading the-montclair-times_11721 (new-jersey/montclair)\n",
      "the-montclair-times_11721 1937\n",
      "-----> downloading the-montclair-times_11721 (new-jersey/montclair)\n",
      "the-montclair-times_11721 1938\n",
      "-----> downloading the-montclair-times_11721 (new-jersey/montclair)\n",
      "the-montclair-times_11721 1939\n",
      "-----> downloading the-montclair-times_11721 (new-jersey/montclair)\n",
      "the-central-new-jersey-home-news_3764 1931\n",
      "-----> downloading the-central-new-jersey-home-news_3764 (new-jersey/new-brunswick)\n",
      "the-central-new-jersey-home-news_3764 1932\n",
      "-----> downloading the-central-new-jersey-home-news_3764 (new-jersey/new-brunswick)\n",
      "the-central-new-jersey-home-news_3764 1933\n",
      "-----> downloading the-central-new-jersey-home-news_3764 (new-jersey/new-brunswick)\n",
      "the-central-new-jersey-home-news_3764 1934\n",
      "-----> downloading the-central-new-jersey-home-news_3764 (new-jersey/new-brunswick)\n",
      "the-central-new-jersey-home-news_3764 1935\n",
      "-----> downloading the-central-new-jersey-home-news_3764 (new-jersey/new-brunswick)\n",
      "the-central-new-jersey-home-news_3764 1936\n",
      "-----> downloading the-central-new-jersey-home-news_3764 (new-jersey/new-brunswick)\n",
      "the-central-new-jersey-home-news_3764 1937\n",
      "-----> downloading the-central-new-jersey-home-news_3764 (new-jersey/new-brunswick)\n"
     ]
    },
    {
     "name": "stdout",
     "output_type": "stream",
     "text": [
      "the-central-new-jersey-home-news_3764 1938\n",
      "-----> downloading the-central-new-jersey-home-news_3764 (new-jersey/new-brunswick)\n",
      "the-central-new-jersey-home-news_3764 1939\n",
      "-----> downloading the-central-new-jersey-home-news_3764 (new-jersey/new-brunswick)\n",
      "passaic-daily-herald_12103 1931\n",
      "-----> downloading passaic-daily-herald_12103 (new-jersey/passaic)\n",
      "passaic-daily-herald_12103 1932\n",
      "-----> downloading passaic-daily-herald_12103 (new-jersey/passaic)\n",
      "passaic-sunday-eagle_11816 1931\n",
      "-----> downloading passaic-sunday-eagle_11816 (new-jersey/passaic)\n",
      "passaic-sunday-eagle_11816 1932\n",
      "-----> downloading passaic-sunday-eagle_11816 (new-jersey/passaic)\n",
      "passaic-sunday-eagle_11816 1933\n",
      "-----> downloading passaic-sunday-eagle_11816 (new-jersey/passaic)\n",
      "the-daily-news_12570 1931\n",
      "-----> downloading the-daily-news_12570 (new-jersey/passaic)\n",
      "the-daily-news_12570 1932\n",
      "-----> downloading the-daily-news_12570 (new-jersey/passaic)\n",
      "the-herald-news_12102 1932\n",
      "-----> downloading the-herald-news_12102 (new-jersey/passaic)\n",
      "the-herald-news_12102 1933\n",
      "-----> downloading the-herald-news_12102 (new-jersey/passaic)\n",
      "the-herald-news_12102 1934\n",
      "-----> downloading the-herald-news_12102 (new-jersey/passaic)\n",
      "the-herald-news_12102 1935\n",
      "-----> downloading the-herald-news_12102 (new-jersey/passaic)\n",
      "the-herald-news_12102 1936\n",
      "-----> downloading the-herald-news_12102 (new-jersey/passaic)\n",
      "the-herald-news_12102 1937\n",
      "-----> downloading the-herald-news_12102 (new-jersey/passaic)\n",
      "the-herald-news_12102 1938\n",
      "-----> downloading the-herald-news_12102 (new-jersey/passaic)\n",
      "the-herald-news_12102 1939\n",
      "-----> downloading the-herald-news_12102 (new-jersey/passaic)\n",
      "the-messenger_11719 1938\n",
      "-----> downloading the-messenger_11719 (new-jersey/paterson)\n",
      "the-messenger_11719 1939\n",
      "-----> downloading the-messenger_11719 (new-jersey/paterson)\n",
      "the-morning-call_12335 1931\n",
      "-----> downloading the-morning-call_12335 (new-jersey/paterson)\n",
      "the-morning-call_12335 1932\n",
      "-----> downloading the-morning-call_12335 (new-jersey/paterson)\n",
      "the-morning-call_12335 1933\n",
      "-----> downloading the-morning-call_12335 (new-jersey/paterson)\n",
      "the-morning-call_12335 1934\n",
      "-----> downloading the-morning-call_12335 (new-jersey/paterson)\n",
      "the-morning-call_12335 1935\n",
      "-----> downloading the-morning-call_12335 (new-jersey/paterson)\n",
      "the-morning-call_12335 1936\n",
      "-----> downloading the-morning-call_12335 (new-jersey/paterson)\n",
      "the-morning-call_12335 1937\n",
      "-----> downloading the-morning-call_12335 (new-jersey/paterson)\n",
      "the-morning-call_12335 1938\n",
      "-----> downloading the-morning-call_12335 (new-jersey/paterson)\n",
      "the-morning-call_12335 1939\n",
      "-----> downloading the-morning-call_12335 (new-jersey/paterson)\n",
      "the-news_12108 1931\n",
      "-----> downloading the-news_12108 (new-jersey/paterson)\n",
      "the-news_12108 1932\n",
      "-----> downloading the-news_12108 (new-jersey/paterson)\n",
      "the-news_12108 1933\n",
      "-----> downloading the-news_12108 (new-jersey/paterson)\n",
      "the-news_12108 1934\n",
      "-----> downloading the-news_12108 (new-jersey/paterson)\n",
      "the-news_12108 1935\n",
      "-----> downloading the-news_12108 (new-jersey/paterson)\n",
      "the-news_12108 1936\n",
      "-----> downloading the-news_12108 (new-jersey/paterson)\n",
      "the-news_12108 1937\n",
      "-----> downloading the-news_12108 (new-jersey/paterson)\n",
      "the-news_12108 1938\n",
      "-----> downloading the-news_12108 (new-jersey/paterson)\n",
      "the-news_12108 1939\n",
      "-----> downloading the-news_12108 (new-jersey/paterson)\n",
      "the-daily-register_11813 1931\n",
      "-----> downloading the-daily-register_11813 (new-jersey/red-bank)\n",
      "the-daily-register_11813 1932\n",
      "-----> downloading the-daily-register_11813 (new-jersey/red-bank)\n",
      "the-daily-register_11813 1933\n",
      "-----> downloading the-daily-register_11813 (new-jersey/red-bank)\n",
      "the-daily-register_11813 1934\n",
      "-----> downloading the-daily-register_11813 (new-jersey/red-bank)\n",
      "the-daily-register_11813 1935\n",
      "-----> downloading the-daily-register_11813 (new-jersey/red-bank)\n",
      "the-daily-register_11813 1936\n",
      "-----> downloading the-daily-register_11813 (new-jersey/red-bank)\n",
      "the-daily-register_11813 1937\n",
      "-----> downloading the-daily-register_11813 (new-jersey/red-bank)\n",
      "the-daily-register_11813 1938\n",
      "-----> downloading the-daily-register_11813 (new-jersey/red-bank)\n",
      "the-daily-register_11813 1939\n",
      "-----> downloading the-daily-register_11813 (new-jersey/red-bank)\n",
      "the-daily-standard_8095 1931\n",
      "-----> downloading the-daily-standard_8095 (new-jersey/red-bank)\n",
      "the-daily-standard_8095 1932\n",
      "-----> downloading the-daily-standard_8095 (new-jersey/red-bank)\n",
      "the-daily-standard_8095 1933\n",
      "-----> downloading the-daily-standard_8095 (new-jersey/red-bank)\n",
      "the-daily-standard_8095 1934\n",
      "-----> downloading the-daily-standard_8095 (new-jersey/red-bank)\n",
      "the-daily-standard_8095 1935\n",
      "-----> downloading the-daily-standard_8095 (new-jersey/red-bank)\n",
      "the-daily-standard_8095 1936\n",
      "-----> downloading the-daily-standard_8095 (new-jersey/red-bank)\n",
      "the-daily-standard_8095 1938\n",
      "-----> downloading the-daily-standard_8095 (new-jersey/red-bank)\n",
      "the-daily-standard_8095 1939\n",
      "-----> downloading the-daily-standard_8095 (new-jersey/red-bank)\n",
      "ridgewood-herald-news_22627 1931\n",
      "-----> downloading ridgewood-herald-news_22627 (new-jersey/ridgewood)\n",
      "ridgewood-herald-news_22627 1932\n",
      "-----> downloading ridgewood-herald-news_22627 (new-jersey/ridgewood)\n",
      "ridgewood-herald-news_22627 1933\n",
      "-----> downloading ridgewood-herald-news_22627 (new-jersey/ridgewood)\n",
      "ridgewood-herald-news_22627 1934\n",
      "-----> downloading ridgewood-herald-news_22627 (new-jersey/ridgewood)\n",
      "ridgewood-herald-news_22627 1935\n",
      "-----> downloading ridgewood-herald-news_22627 (new-jersey/ridgewood)\n",
      "ridgewood-herald-news_22627 1936\n",
      "-----> downloading ridgewood-herald-news_22627 (new-jersey/ridgewood)\n",
      "ridgewood-herald-news_22627 1937\n",
      "-----> downloading ridgewood-herald-news_22627 (new-jersey/ridgewood)\n",
      "ridgewood-herald-news_22627 1938\n",
      "-----> downloading ridgewood-herald-news_22627 (new-jersey/ridgewood)\n",
      "ridgewood-herald-news_22627 1939\n",
      "-----> downloading ridgewood-herald-news_22627 (new-jersey/ridgewood)\n",
      "the-ridgewood-herald_22626 1931\n",
      "-----> downloading the-ridgewood-herald_22626 (new-jersey/ridgewood)\n",
      "the-ridgewood-herald_22626 1932\n",
      "-----> downloading the-ridgewood-herald_22626 (new-jersey/ridgewood)\n",
      "the-ridgewood-herald_22626 1933\n",
      "-----> downloading the-ridgewood-herald_22626 (new-jersey/ridgewood)\n",
      "the-ridgewood-herald_22626 1934\n",
      "-----> downloading the-ridgewood-herald_22626 (new-jersey/ridgewood)\n",
      "the-ridgewood-herald_22626 1935\n",
      "-----> downloading the-ridgewood-herald_22626 (new-jersey/ridgewood)\n",
      "the-ridgewood-herald_22626 1936\n",
      "-----> downloading the-ridgewood-herald_22626 (new-jersey/ridgewood)\n",
      "the-ridgewood-herald_22626 1937\n",
      "-----> downloading the-ridgewood-herald_22626 (new-jersey/ridgewood)\n",
      "the-ridgewood-herald_22626 1938\n",
      "-----> downloading the-ridgewood-herald_22626 (new-jersey/ridgewood)\n",
      "the-ridgewood-herald_22626 1939\n",
      "-----> downloading the-ridgewood-herald_22626 (new-jersey/ridgewood)\n",
      "the-ridgewood-record_12471 1935\n",
      "-----> downloading the-ridgewood-record_12471 (new-jersey/ridgewood)\n",
      "the-ridgewood-record_12471 1936\n",
      "-----> downloading the-ridgewood-record_12471 (new-jersey/ridgewood)\n",
      "the-sunday-news_22629 1931\n",
      "-----> downloading the-sunday-news_22629 (new-jersey/ridgewood)\n",
      "the-sunday-news_22629 1933\n",
      "-----> downloading the-sunday-news_22629 (new-jersey/ridgewood)\n",
      "the-sunday-news_22629 1934\n",
      "-----> downloading the-sunday-news_22629 (new-jersey/ridgewood)\n",
      "the-sunday-news_22629 1935\n",
      "-----> downloading the-sunday-news_22629 (new-jersey/ridgewood)\n",
      "the-sunday-news_22629 1936\n",
      "-----> downloading the-sunday-news_22629 (new-jersey/ridgewood)\n",
      "the-sunday-news_22629 1937\n",
      "-----> downloading the-sunday-news_22629 (new-jersey/ridgewood)\n",
      "the-sunday-news_22629 1938\n",
      "-----> downloading the-sunday-news_22629 (new-jersey/ridgewood)\n",
      "the-sunday-news_22629 1939\n",
      "-----> downloading the-sunday-news_22629 (new-jersey/ridgewood)\n",
      "spring-lake-gazette_11695 1931\n",
      "-----> downloading spring-lake-gazette_11695 (new-jersey/spring-lake)\n",
      "spring-lake-gazette_11695 1932\n",
      "-----> downloading spring-lake-gazette_11695 (new-jersey/spring-lake)\n",
      "spring-lake-gazette_11695 1933\n",
      "-----> downloading spring-lake-gazette_11695 (new-jersey/spring-lake)\n",
      "spring-lake-gazette_11695 1934\n",
      "-----> downloading spring-lake-gazette_11695 (new-jersey/spring-lake)\n",
      "spring-lake-gazette_11695 1935\n",
      "-----> downloading spring-lake-gazette_11695 (new-jersey/spring-lake)\n"
     ]
    },
    {
     "name": "stdout",
     "output_type": "stream",
     "text": [
      "spring-lake-gazette_11695 1936\n",
      "-----> downloading spring-lake-gazette_11695 (new-jersey/spring-lake)\n",
      "spring-lake-gazette_11695 1937\n",
      "-----> downloading spring-lake-gazette_11695 (new-jersey/spring-lake)\n",
      "spring-lake-gazette_11695 1938\n",
      "-----> downloading spring-lake-gazette_11695 (new-jersey/spring-lake)\n",
      "spring-lake-gazette_11695 1939\n",
      "-----> downloading spring-lake-gazette_11695 (new-jersey/spring-lake)\n",
      "the-daily-journal_3724 1931\n",
      "-----> downloading the-daily-journal_3724 (new-jersey/vineland)\n",
      "the-daily-journal_3724 1932\n",
      "-----> downloading the-daily-journal_3724 (new-jersey/vineland)\n",
      "the-daily-journal_3724 1933\n",
      "-----> downloading the-daily-journal_3724 (new-jersey/vineland)\n",
      "the-daily-journal_3724 1934\n",
      "-----> downloading the-daily-journal_3724 (new-jersey/vineland)\n",
      "the-daily-journal_3724 1935\n",
      "-----> downloading the-daily-journal_3724 (new-jersey/vineland)\n",
      "the-daily-journal_3724 1936\n",
      "-----> downloading the-daily-journal_3724 (new-jersey/vineland)\n",
      "the-daily-journal_3724 1937\n",
      "-----> downloading the-daily-journal_3724 (new-jersey/vineland)\n",
      "the-daily-journal_3724 1938\n",
      "-----> downloading the-daily-journal_3724 (new-jersey/vineland)\n",
      "the-daily-journal_3724 1939\n",
      "-----> downloading the-daily-journal_3724 (new-jersey/vineland)\n",
      "the-news_12463 1931\n",
      "-----> downloading the-news_12463 (new-jersey/wyckoff)\n",
      "the-news_12463 1932\n",
      "-----> downloading the-news_12463 (new-jersey/wyckoff)\n",
      "the-news_12463 1933\n",
      "-----> downloading the-news_12463 (new-jersey/wyckoff)\n",
      "the-news_12463 1934\n",
      "-----> downloading the-news_12463 (new-jersey/wyckoff)\n",
      "the-news_12463 1935\n",
      "-----> downloading the-news_12463 (new-jersey/wyckoff)\n",
      "the-news_12463 1936\n",
      "-----> downloading the-news_12463 (new-jersey/wyckoff)\n",
      "the-news_12463 1937\n",
      "-----> downloading the-news_12463 (new-jersey/wyckoff)\n",
      "the-news_12463 1938\n",
      "-----> downloading the-news_12463 (new-jersey/wyckoff)\n",
      "the-news_12463 1939\n",
      "-----> downloading the-news_12463 (new-jersey/wyckoff)\n",
      "processing california\n",
      "alturas-plaindealer-and-modoc-county-times_26307 1931\n",
      "-----> downloading alturas-plaindealer-and-modoc-county-times_26307 (california/alturas)\n",
      "alturas-plaindealer-and-modoc-county-times_26307 1932\n",
      "-----> downloading alturas-plaindealer-and-modoc-county-times_26307 (california/alturas)\n",
      "alturas-plaindealer-and-modoc-county-times_26307 1933\n",
      "-----> downloading alturas-plaindealer-and-modoc-county-times_26307 (california/alturas)\n",
      "alturas-plaindealer-and-modoc-county-times_26307 1934\n",
      "-----> downloading alturas-plaindealer-and-modoc-county-times_26307 (california/alturas)\n",
      "alturas-plaindealer-and-modoc-county-times_26307 1935\n",
      "-----> downloading alturas-plaindealer-and-modoc-county-times_26307 (california/alturas)\n",
      "alturas-plaindealer-and-modoc-county-times_26307 1936\n",
      "-----> downloading alturas-plaindealer-and-modoc-county-times_26307 (california/alturas)\n",
      "alturas-plaindealer-and-modoc-county-times_26307 1937\n",
      "-----> downloading alturas-plaindealer-and-modoc-county-times_26307 (california/alturas)\n",
      "alturas-plaindealer-and-modoc-county-times_26307 1938\n",
      "-----> downloading alturas-plaindealer-and-modoc-county-times_26307 (california/alturas)\n",
      "alturas-plaindealer-and-modoc-county-times_26307 1939\n",
      "-----> downloading alturas-plaindealer-and-modoc-county-times_26307 (california/alturas)\n",
      "modoc-county-times_26305 1931\n",
      "-----> downloading modoc-county-times_26305 (california/alturas)\n",
      "modoc-county-times_26305 1932\n",
      "-----> downloading modoc-county-times_26305 (california/alturas)\n",
      "modoc-county-times_26305 1933\n",
      "-----> downloading modoc-county-times_26305 (california/alturas)\n",
      "modoc-county-times_26305 1934\n",
      "-----> downloading modoc-county-times_26305 (california/alturas)\n",
      "the-modoc-county-record_26310 1937\n",
      "-----> downloading the-modoc-county-record_26310 (california/alturas)\n",
      "the-modoc-county-record_26310 1938\n",
      "-----> downloading the-modoc-county-record_26310 (california/alturas)\n",
      "the-modoc-county-record_26310 1939\n",
      "-----> downloading the-modoc-county-record_26310 (california/alturas)\n",
      "arcadia-tribune_806 1931\n",
      "-----> downloading arcadia-tribune_806 (california/arcadia)\n",
      "arcadia-tribune_806 1932\n",
      "-----> downloading arcadia-tribune_806 (california/arcadia)\n",
      "arcadia-tribune_806 1933\n",
      "-----> downloading arcadia-tribune_806 (california/arcadia)\n",
      "arcadia-tribune_806 1934\n",
      "-----> downloading arcadia-tribune_806 (california/arcadia)\n",
      "arcadia-tribune_806 1935\n",
      "-----> downloading arcadia-tribune_806 (california/arcadia)\n",
      "arcadia-tribune_806 1936\n",
      "-----> downloading arcadia-tribune_806 (california/arcadia)\n",
      "arcadia-tribune_806 1937\n",
      "-----> downloading arcadia-tribune_806 (california/arcadia)\n",
      "the-arroyo-grande-valley-herald-recorder_18507 1931\n",
      "-----> downloading the-arroyo-grande-valley-herald-recorder_18507 (california/arroyo-grande)\n",
      "the-arroyo-grande-valley-herald-recorder_18507 1932\n",
      "-----> downloading the-arroyo-grande-valley-herald-recorder_18507 (california/arroyo-grande)\n",
      "the-arroyo-grande-valley-herald-recorder_18507 1933\n",
      "-----> downloading the-arroyo-grande-valley-herald-recorder_18507 (california/arroyo-grande)\n",
      "the-arroyo-grande-valley-herald-recorder_18507 1934\n",
      "-----> downloading the-arroyo-grande-valley-herald-recorder_18507 (california/arroyo-grande)\n",
      "the-arroyo-grande-valley-herald-recorder_18507 1935\n",
      "-----> downloading the-arroyo-grande-valley-herald-recorder_18507 (california/arroyo-grande)\n",
      "the-arroyo-grande-valley-herald-recorder_18507 1936\n",
      "-----> downloading the-arroyo-grande-valley-herald-recorder_18507 (california/arroyo-grande)\n",
      "the-arroyo-grande-valley-herald-recorder_18507 1937\n",
      "-----> downloading the-arroyo-grande-valley-herald-recorder_18507 (california/arroyo-grande)\n",
      "the-arroyo-grande-valley-herald-recorder_18507 1938\n",
      "-----> downloading the-arroyo-grande-valley-herald-recorder_18507 (california/arroyo-grande)\n",
      "the-arroyo-grande-valley-herald-recorder_18507 1939\n",
      "-----> downloading the-arroyo-grande-valley-herald-recorder_18507 (california/arroyo-grande)\n",
      "atwater-signal_26297 1931\n",
      "-----> downloading atwater-signal_26297 (california/atwater)\n",
      "atwater-signal_26297 1933\n",
      "-----> downloading atwater-signal_26297 (california/atwater)\n",
      "atwater-signal_26297 1934\n",
      "-----> downloading atwater-signal_26297 (california/atwater)\n",
      "atwater-signal_26297 1935\n",
      "-----> downloading atwater-signal_26297 (california/atwater)\n",
      "atwater-signal_26297 1936\n",
      "-----> downloading atwater-signal_26297 (california/atwater)\n",
      "atwater-signal_26297 1937\n",
      "-----> downloading atwater-signal_26297 (california/atwater)\n",
      "atwater-signal_26297 1938\n",
      "-----> downloading atwater-signal_26297 (california/atwater)\n",
      "atwater-signal_26297 1939\n",
      "-----> downloading atwater-signal_26297 (california/atwater)\n",
      "auburn-journal_7237 1931\n",
      "-----> downloading auburn-journal_7237 (california/auburn)\n",
      "auburn-journal_7237 1932\n",
      "-----> downloading auburn-journal_7237 (california/auburn)\n",
      "auburn-journal_7237 1933\n",
      "-----> downloading auburn-journal_7237 (california/auburn)\n",
      "auburn-journal_7237 1934\n",
      "-----> downloading auburn-journal_7237 (california/auburn)\n",
      "auburn-journal_7237 1935\n",
      "-----> downloading auburn-journal_7237 (california/auburn)\n",
      "auburn-journal_7237 1936\n",
      "-----> downloading auburn-journal_7237 (california/auburn)\n",
      "auburn-journal_7237 1937\n",
      "-----> downloading auburn-journal_7237 (california/auburn)\n",
      "auburn-journal_7237 1938\n",
      "-----> downloading auburn-journal_7237 (california/auburn)\n",
      "auburn-journal_7237 1939\n",
      "-----> downloading auburn-journal_7237 (california/auburn)\n",
      "the-bakersfield-californian_8 1932\n",
      "-----> downloading the-bakersfield-californian_8 (california/bakersfield)\n",
      "the-bakersfield-californian_8 1933\n",
      "-----> downloading the-bakersfield-californian_8 (california/bakersfield)\n",
      "the-bakersfield-californian_8 1936\n",
      "-----> downloading the-bakersfield-californian_8 (california/bakersfield)\n",
      "the-bakersfield-californian_8 1937\n",
      "-----> downloading the-bakersfield-californian_8 (california/bakersfield)\n",
      "the-bakersfield-californian_8 1938\n",
      "-----> downloading the-bakersfield-californian_8 (california/bakersfield)\n",
      "the-bakersfield-californian_8 1939\n",
      "-----> downloading the-bakersfield-californian_8 (california/bakersfield)\n",
      "desert-dispatch_25905 1931\n",
      "-----> downloading desert-dispatch_25905 (california/barstow)\n",
      "desert-dispatch_25905 1932\n",
      "-----> downloading desert-dispatch_25905 (california/barstow)\n",
      "desert-dispatch_25905 1933\n",
      "-----> downloading desert-dispatch_25905 (california/barstow)\n",
      "desert-dispatch_25905 1934\n",
      "-----> downloading desert-dispatch_25905 (california/barstow)\n"
     ]
    },
    {
     "name": "stdout",
     "output_type": "stream",
     "text": [
      "desert-dispatch_25905 1935\n",
      "-----> downloading desert-dispatch_25905 (california/barstow)\n",
      "desert-dispatch_25905 1936\n",
      "-----> downloading desert-dispatch_25905 (california/barstow)\n",
      "desert-dispatch_25905 1937\n",
      "-----> downloading desert-dispatch_25905 (california/barstow)\n",
      "desert-dispatch_25905 1938\n",
      "-----> downloading desert-dispatch_25905 (california/barstow)\n",
      "desert-dispatch_25905 1939\n",
      "-----> downloading desert-dispatch_25905 (california/barstow)\n",
      "weekly-review_25903 1934\n",
      "-----> downloading weekly-review_25903 (california/barstow)\n",
      "weekly-review_25903 1935\n",
      "-----> downloading weekly-review_25903 (california/barstow)\n",
      "weekly-review_25903 1936\n",
      "-----> downloading weekly-review_25903 (california/barstow)\n",
      "the-biggs-news_25761 1932\n",
      "-----> downloading the-biggs-news_25761 (california/biggs)\n",
      "the-biggs-news_25761 1934\n",
      "-----> downloading the-biggs-news_25761 (california/biggs)\n",
      "the-biggs-news_25761 1935\n",
      "-----> downloading the-biggs-news_25761 (california/biggs)\n",
      "the-biggs-news_25761 1936\n",
      "-----> downloading the-biggs-news_25761 (california/biggs)\n",
      "the-biggs-news_25761 1937\n",
      "-----> downloading the-biggs-news_25761 (california/biggs)\n",
      "the-biggs-news_25761 1938\n",
      "-----> downloading the-biggs-news_25761 (california/biggs)\n",
      "the-biggs-news_25761 1939\n",
      "-----> downloading the-biggs-news_25761 (california/biggs)\n",
      "burbank-daily-evening-review_22453 1931\n",
      "-----> downloading burbank-daily-evening-review_22453 (california/burbank)\n",
      "burbank-daily-evening-review_22453 1932\n",
      "-----> downloading burbank-daily-evening-review_22453 (california/burbank)\n",
      "chico-record_25740 1931\n",
      "-----> downloading chico-record_25740 (california/chico)\n",
      "chico-record_25740 1932\n",
      "-----> downloading chico-record_25740 (california/chico)\n",
      "chico-record_25740 1933\n",
      "-----> downloading chico-record_25740 (california/chico)\n",
      "chico-record_25740 1934\n",
      "-----> downloading chico-record_25740 (california/chico)\n",
      "chico-record_25740 1935\n",
      "-----> downloading chico-record_25740 (california/chico)\n",
      "chico-record_25740 1936\n",
      "-----> downloading chico-record_25740 (california/chico)\n",
      "chico-record_25740 1937\n",
      "-----> downloading chico-record_25740 (california/chico)\n",
      "chico-record_25740 1938\n",
      "-----> downloading chico-record_25740 (california/chico)\n",
      "chico-record_25740 1939\n",
      "-----> downloading chico-record_25740 (california/chico)\n",
      "the-chico-enterprise_25739 1931\n",
      "-----> downloading the-chico-enterprise_25739 (california/chico)\n",
      "the-chico-enterprise_25739 1932\n",
      "-----> downloading the-chico-enterprise_25739 (california/chico)\n",
      "the-chico-enterprise_25739 1933\n",
      "-----> downloading the-chico-enterprise_25739 (california/chico)\n",
      "the-chico-enterprise_25739 1934\n",
      "-----> downloading the-chico-enterprise_25739 (california/chico)\n",
      "the-chico-enterprise_25739 1935\n",
      "-----> downloading the-chico-enterprise_25739 (california/chico)\n",
      "the-chico-enterprise_25739 1936\n",
      "-----> downloading the-chico-enterprise_25739 (california/chico)\n",
      "the-chico-enterprise_25739 1937\n",
      "-----> downloading the-chico-enterprise_25739 (california/chico)\n",
      "the-chico-enterprise_25739 1938\n",
      "-----> downloading the-chico-enterprise_25739 (california/chico)\n",
      "the-chico-enterprise_25739 1939\n",
      "-----> downloading the-chico-enterprise_25739 (california/chico)\n",
      "chino-champion_3677 1931\n",
      "-----> downloading chino-champion_3677 (california/chino)\n",
      "chino-champion_3677 1932\n",
      "-----> downloading chino-champion_3677 (california/chino)\n",
      "chino-champion_3677 1933\n",
      "-----> downloading chino-champion_3677 (california/chino)\n",
      "chino-champion_3677 1934\n",
      "-----> downloading chino-champion_3677 (california/chino)\n",
      "chino-champion_3677 1935\n",
      "-----> downloading chino-champion_3677 (california/chino)\n",
      "chino-champion_3677 1936\n",
      "-----> downloading chino-champion_3677 (california/chino)\n",
      "chino-champion_3677 1937\n",
      "-----> downloading chino-champion_3677 (california/chino)\n",
      "chino-champion_3677 1938\n",
      "-----> downloading chino-champion_3677 (california/chino)\n",
      "chino-champion_3677 1939\n",
      "-----> downloading chino-champion_3677 (california/chino)\n",
      "the-chula-vista-star_3898 1931\n",
      "-----> downloading the-chula-vista-star_3898 (california/chula-vista)\n",
      "the-chula-vista-star_3898 1932\n",
      "-----> downloading the-chula-vista-star_3898 (california/chula-vista)\n",
      "the-chula-vista-star_3898 1933\n",
      "-----> downloading the-chula-vista-star_3898 (california/chula-vista)\n",
      "the-chula-vista-star_3898 1934\n",
      "-----> downloading the-chula-vista-star_3898 (california/chula-vista)\n",
      "the-chula-vista-star_3898 1935\n",
      "-----> downloading the-chula-vista-star_3898 (california/chula-vista)\n",
      "the-chula-vista-star_3898 1936\n",
      "-----> downloading the-chula-vista-star_3898 (california/chula-vista)\n",
      "the-chula-vista-star_3898 1937\n",
      "-----> downloading the-chula-vista-star_3898 (california/chula-vista)\n",
      "the-chula-vista-star_3898 1938\n",
      "-----> downloading the-chula-vista-star_3898 (california/chula-vista)\n",
      "the-chula-vista-star_3898 1939\n",
      "-----> downloading the-chula-vista-star_3898 (california/chula-vista)\n",
      "cloverdale-reveille_9437 1931\n",
      "-----> downloading cloverdale-reveille_9437 (california/cloverdale)\n",
      "cloverdale-reveille_9437 1933\n",
      "-----> downloading cloverdale-reveille_9437 (california/cloverdale)\n",
      "cloverdale-reveille_9437 1934\n",
      "-----> downloading cloverdale-reveille_9437 (california/cloverdale)\n",
      "cloverdale-reveille_9437 1935\n",
      "-----> downloading cloverdale-reveille_9437 (california/cloverdale)\n",
      "cloverdale-reveille_9437 1936\n",
      "-----> downloading cloverdale-reveille_9437 (california/cloverdale)\n",
      "cloverdale-reveille_9437 1937\n",
      "-----> downloading cloverdale-reveille_9437 (california/cloverdale)\n",
      "cloverdale-reveille_9437 1938\n",
      "-----> downloading cloverdale-reveille_9437 (california/cloverdale)\n",
      "cloverdale-reveille_9437 1939\n",
      "-----> downloading cloverdale-reveille_9437 (california/cloverdale)\n",
      "colton-daily-courier_22545 1931\n",
      "-----> downloading colton-daily-courier_22545 (california/colton)\n",
      "colton-daily-courier_22545 1932\n",
      "-----> downloading colton-daily-courier_22545 (california/colton)\n",
      "colton-daily-courier_22545 1933\n",
      "-----> downloading colton-daily-courier_22545 (california/colton)\n",
      "colton-daily-courier_22545 1934\n",
      "-----> downloading colton-daily-courier_22545 (california/colton)\n",
      "colton-daily-courier_22545 1935\n",
      "-----> downloading colton-daily-courier_22545 (california/colton)\n",
      "colton-daily-courier_22545 1936\n",
      "-----> downloading colton-daily-courier_22545 (california/colton)\n",
      "colton-daily-courier_22545 1937\n",
      "-----> downloading colton-daily-courier_22545 (california/colton)\n",
      "colton-daily-courier_22545 1938\n",
      "-----> downloading colton-daily-courier_22545 (california/colton)\n",
      "colton-daily-courier_22545 1939\n",
      "-----> downloading colton-daily-courier_22545 (california/colton)\n",
      "concord-transcript_27623 1933\n",
      "-----> downloading concord-transcript_27623 (california/concord)\n",
      "concord-transcript_27623 1934\n",
      "-----> downloading concord-transcript_27623 (california/concord)\n",
      "concord-transcript_27623 1935\n",
      "-----> downloading concord-transcript_27623 (california/concord)\n",
      "concord-transcript_27623 1936\n",
      "-----> downloading concord-transcript_27623 (california/concord)\n",
      "concord-transcript_27623 1937\n",
      "-----> downloading concord-transcript_27623 (california/concord)\n",
      "concord-transcript_27623 1939\n",
      "-----> downloading concord-transcript_27623 (california/concord)\n",
      "covina-argus_90 1931\n",
      "-----> downloading covina-argus_90 (california/covina)\n",
      "covina-argus_90 1932\n",
      "-----> downloading covina-argus_90 (california/covina)\n",
      "covina-argus_90 1933\n",
      "-----> downloading covina-argus_90 (california/covina)\n",
      "covina-argus_90 1934\n",
      "-----> downloading covina-argus_90 (california/covina)\n",
      "covina-argus_90 1935\n",
      "-----> downloading covina-argus_90 (california/covina)\n",
      "covina-argus_90 1936\n",
      "-----> downloading covina-argus_90 (california/covina)\n",
      "covina-argus_90 1937\n",
      "-----> downloading covina-argus_90 (california/covina)\n",
      "covina-argus_90 1939\n",
      "-----> downloading covina-argus_90 (california/covina)\n",
      "san-ramon-valley-old-timer_27748 1939\n",
      "-----> downloading san-ramon-valley-old-timer_27748 (california/danville)\n",
      "the-dunsmuir-news_26332 1931\n",
      "-----> downloading the-dunsmuir-news_26332 (california/dunsmuir)\n",
      "the-dunsmuir-news_26332 1932\n",
      "-----> downloading the-dunsmuir-news_26332 (california/dunsmuir)\n",
      "the-dunsmuir-news_26332 1933\n",
      "-----> downloading the-dunsmuir-news_26332 (california/dunsmuir)\n",
      "the-dunsmuir-news_26332 1934\n",
      "-----> downloading the-dunsmuir-news_26332 (california/dunsmuir)\n",
      "the-dunsmuir-news_26332 1935\n",
      "-----> downloading the-dunsmuir-news_26332 (california/dunsmuir)\n"
     ]
    },
    {
     "name": "stdout",
     "output_type": "stream",
     "text": [
      "the-dunsmuir-news_26332 1936\n",
      "-----> downloading the-dunsmuir-news_26332 (california/dunsmuir)\n",
      "the-dunsmuir-news_26332 1937\n",
      "-----> downloading the-dunsmuir-news_26332 (california/dunsmuir)\n",
      "the-dunsmuir-news_26332 1938\n",
      "-----> downloading the-dunsmuir-news_26332 (california/dunsmuir)\n",
      "the-dunsmuir-news_26332 1939\n",
      "-----> downloading the-dunsmuir-news_26332 (california/dunsmuir)\n",
      "times-advocate_12694 1931\n",
      "-----> downloading times-advocate_12694 (california/escondido)\n",
      "times-advocate_12694 1932\n",
      "-----> downloading times-advocate_12694 (california/escondido)\n",
      "times-advocate_12694 1933\n",
      "-----> downloading times-advocate_12694 (california/escondido)\n",
      "times-advocate_12694 1934\n",
      "-----> downloading times-advocate_12694 (california/escondido)\n",
      "times-advocate_12694 1935\n",
      "-----> downloading times-advocate_12694 (california/escondido)\n",
      "times-advocate_12694 1936\n",
      "-----> downloading times-advocate_12694 (california/escondido)\n",
      "times-advocate_12694 1937\n",
      "-----> downloading times-advocate_12694 (california/escondido)\n",
      "times-advocate_12694 1938\n",
      "-----> downloading times-advocate_12694 (california/escondido)\n",
      "times-advocate_12694 1939\n",
      "-----> downloading times-advocate_12694 (california/escondido)\n",
      "weekly-times-advocate_12693 1931\n",
      "-----> downloading weekly-times-advocate_12693 (california/escondido)\n",
      "weekly-times-advocate_12693 1932\n",
      "-----> downloading weekly-times-advocate_12693 (california/escondido)\n",
      "weekly-times-advocate_12693 1933\n",
      "-----> downloading weekly-times-advocate_12693 (california/escondido)\n",
      "weekly-times-advocate_12693 1934\n",
      "-----> downloading weekly-times-advocate_12693 (california/escondido)\n",
      "weekly-times-advocate_12693 1935\n",
      "-----> downloading weekly-times-advocate_12693 (california/escondido)\n",
      "weekly-times-advocate_12693 1936\n",
      "-----> downloading weekly-times-advocate_12693 (california/escondido)\n",
      "weekly-times-advocate_12693 1937\n",
      "-----> downloading weekly-times-advocate_12693 (california/escondido)\n",
      "weekly-times-advocate_12693 1938\n",
      "-----> downloading weekly-times-advocate_12693 (california/escondido)\n",
      "weekly-times-advocate_12693 1939\n",
      "-----> downloading weekly-times-advocate_12693 (california/escondido)\n",
      "the-folsom-telegraph_7654 1931\n",
      "-----> downloading the-folsom-telegraph_7654 (california/folsom)\n",
      "the-folsom-telegraph_7654 1932\n",
      "-----> downloading the-folsom-telegraph_7654 (california/folsom)\n",
      "the-folsom-telegraph_7654 1933\n",
      "-----> downloading the-folsom-telegraph_7654 (california/folsom)\n",
      "the-folsom-telegraph_7654 1934\n",
      "-----> downloading the-folsom-telegraph_7654 (california/folsom)\n",
      "the-folsom-telegraph_7654 1935\n",
      "-----> downloading the-folsom-telegraph_7654 (california/folsom)\n",
      "the-folsom-telegraph_7654 1936\n",
      "-----> downloading the-folsom-telegraph_7654 (california/folsom)\n",
      "the-folsom-telegraph_7654 1937\n",
      "-----> downloading the-folsom-telegraph_7654 (california/folsom)\n",
      "the-folsom-telegraph_7654 1938\n",
      "-----> downloading the-folsom-telegraph_7654 (california/folsom)\n",
      "the-folsom-telegraph_7654 1939\n",
      "-----> downloading the-folsom-telegraph_7654 (california/folsom)\n",
      "fowler-ensign_22446 1931\n",
      "-----> downloading fowler-ensign_22446 (california/fowler)\n",
      "fowler-ensign_22446 1932\n",
      "-----> downloading fowler-ensign_22446 (california/fowler)\n",
      "fowler-ensign_22446 1933\n",
      "-----> downloading fowler-ensign_22446 (california/fowler)\n",
      "fowler-ensign_22446 1934\n",
      "-----> downloading fowler-ensign_22446 (california/fowler)\n",
      "fowler-ensign_22446 1935\n",
      "-----> downloading fowler-ensign_22446 (california/fowler)\n",
      "fowler-ensign_22446 1936\n",
      "-----> downloading fowler-ensign_22446 (california/fowler)\n",
      "fowler-ensign_22446 1937\n",
      "-----> downloading fowler-ensign_22446 (california/fowler)\n",
      "fowler-ensign_22446 1938\n",
      "-----> downloading fowler-ensign_22446 (california/fowler)\n",
      "fowler-ensign_22446 1939\n",
      "-----> downloading fowler-ensign_22446 (california/fowler)\n",
      "the-fresno-bee_22295 1931\n",
      "-----> downloading the-fresno-bee_22295 (california/fresno)\n",
      "the-fresno-bee_22295 1932\n",
      "-----> downloading the-fresno-bee_22295 (california/fresno)\n",
      "the-fresno-bee_22295 1933\n",
      "-----> downloading the-fresno-bee_22295 (california/fresno)\n",
      "the-fresno-bee_22295 1934\n",
      "-----> downloading the-fresno-bee_22295 (california/fresno)\n",
      "the-fresno-bee_22295 1935\n",
      "-----> downloading the-fresno-bee_22295 (california/fresno)\n",
      "the-fresno-bee_22295 1936\n",
      "-----> downloading the-fresno-bee_22295 (california/fresno)\n",
      "the-fresno-bee_22295 1937\n",
      "-----> downloading the-fresno-bee_22295 (california/fresno)\n",
      "the-fresno-bee_22295 1938\n",
      "-----> downloading the-fresno-bee_22295 (california/fresno)\n",
      "the-fresno-bee_22295 1939\n",
      "-----> downloading the-fresno-bee_22295 (california/fresno)\n",
      "the-fresno-morning-republican_21769 1931\n",
      "-----> downloading the-fresno-morning-republican_21769 (california/fresno)\n",
      "the-fresno-morning-republican_21769 1932\n",
      "-----> downloading the-fresno-morning-republican_21769 (california/fresno)\n",
      "the-morning-union_22438 1931\n",
      "-----> downloading the-morning-union_22438 (california/grass-valley)\n",
      "the-morning-union_22438 1932\n",
      "-----> downloading the-morning-union_22438 (california/grass-valley)\n",
      "the-morning-union_22438 1933\n",
      "-----> downloading the-morning-union_22438 (california/grass-valley)\n",
      "the-morning-union_22438 1934\n",
      "-----> downloading the-morning-union_22438 (california/grass-valley)\n",
      "the-morning-union_22438 1935\n",
      "-----> downloading the-morning-union_22438 (california/grass-valley)\n",
      "indian-valley-record_4287 1931\n",
      "-----> downloading indian-valley-record_4287 (california/greenville)\n",
      "indian-valley-record_4287 1932\n",
      "-----> downloading indian-valley-record_4287 (california/greenville)\n",
      "indian-valley-record_4287 1933\n",
      "-----> downloading indian-valley-record_4287 (california/greenville)\n",
      "indian-valley-record_4287 1934\n",
      "-----> downloading indian-valley-record_4287 (california/greenville)\n",
      "indian-valley-record_4287 1935\n",
      "-----> downloading indian-valley-record_4287 (california/greenville)\n",
      "indian-valley-record_4287 1936\n",
      "-----> downloading indian-valley-record_4287 (california/greenville)\n",
      "indian-valley-record_4287 1937\n",
      "-----> downloading indian-valley-record_4287 (california/greenville)\n",
      "indian-valley-record_4287 1938\n",
      "-----> downloading indian-valley-record_4287 (california/greenville)\n",
      "indian-valley-record_4287 1939\n",
      "-----> downloading indian-valley-record_4287 (california/greenville)\n",
      "the-gridley-herald_25763 1931\n",
      "-----> downloading the-gridley-herald_25763 (california/gridley)\n",
      "the-gridley-herald_25763 1932\n",
      "-----> downloading the-gridley-herald_25763 (california/gridley)\n",
      "the-gridley-herald_25763 1933\n",
      "-----> downloading the-gridley-herald_25763 (california/gridley)\n",
      "the-gridley-herald_25763 1934\n",
      "-----> downloading the-gridley-herald_25763 (california/gridley)\n",
      "the-gridley-herald_25763 1935\n",
      "-----> downloading the-gridley-herald_25763 (california/gridley)\n",
      "the-gridley-herald_25763 1936\n",
      "-----> downloading the-gridley-herald_25763 (california/gridley)\n",
      "the-gridley-herald_25763 1937\n",
      "-----> downloading the-gridley-herald_25763 (california/gridley)\n",
      "the-gridley-herald_25763 1938\n",
      "-----> downloading the-gridley-herald_25763 (california/gridley)\n",
      "the-gridley-herald_25763 1939\n",
      "-----> downloading the-gridley-herald_25763 (california/gridley)\n",
      "the-gustine-standard_21183 1931\n",
      "-----> downloading the-gustine-standard_21183 (california/gustine)\n",
      "the-gustine-standard_21183 1932\n",
      "-----> downloading the-gustine-standard_21183 (california/gustine)\n",
      "the-gustine-standard_21183 1933\n",
      "-----> downloading the-gustine-standard_21183 (california/gustine)\n",
      "the-gustine-standard_21183 1934\n",
      "-----> downloading the-gustine-standard_21183 (california/gustine)\n",
      "the-gustine-standard_21183 1935\n",
      "-----> downloading the-gustine-standard_21183 (california/gustine)\n",
      "the-gustine-standard_21183 1936\n",
      "-----> downloading the-gustine-standard_21183 (california/gustine)\n",
      "the-gustine-standard_21183 1937\n",
      "-----> downloading the-gustine-standard_21183 (california/gustine)\n",
      "the-gustine-standard_21183 1938\n",
      "-----> downloading the-gustine-standard_21183 (california/gustine)\n",
      "the-gustine-standard_21183 1939\n",
      "-----> downloading the-gustine-standard_21183 (california/gustine)\n",
      "hanford-morning-journal_12656 1931\n",
      "-----> downloading hanford-morning-journal_12656 (california/hanford)\n",
      "hanford-morning-journal_12656 1932\n",
      "-----> downloading hanford-morning-journal_12656 (california/hanford)\n",
      "hanford-morning-journal_12656 1933\n",
      "-----> downloading hanford-morning-journal_12656 (california/hanford)\n",
      "hanford-morning-journal_12656 1934\n",
      "-----> downloading hanford-morning-journal_12656 (california/hanford)\n"
     ]
    },
    {
     "name": "stdout",
     "output_type": "stream",
     "text": [
      "hanford-morning-journal_12656 1935\n",
      "-----> downloading hanford-morning-journal_12656 (california/hanford)\n",
      "hanford-morning-journal_12656 1936\n",
      "-----> downloading hanford-morning-journal_12656 (california/hanford)\n",
      "hanford-morning-journal_12656 1937\n",
      "-----> downloading hanford-morning-journal_12656 (california/hanford)\n",
      "hanford-morning-journal_12656 1938\n",
      "-----> downloading hanford-morning-journal_12656 (california/hanford)\n",
      "hanford-morning-journal_12656 1939\n",
      "-----> downloading hanford-morning-journal_12656 (california/hanford)\n",
      "the-hanford-sentinel_12598 1931\n",
      "-----> downloading the-hanford-sentinel_12598 (california/hanford)\n",
      "the-hanford-sentinel_12598 1932\n",
      "-----> downloading the-hanford-sentinel_12598 (california/hanford)\n",
      "the-hanford-sentinel_12598 1933\n",
      "-----> downloading the-hanford-sentinel_12598 (california/hanford)\n",
      "the-hanford-sentinel_12598 1934\n",
      "-----> downloading the-hanford-sentinel_12598 (california/hanford)\n",
      "the-hanford-sentinel_12598 1935\n",
      "-----> downloading the-hanford-sentinel_12598 (california/hanford)\n",
      "the-hanford-sentinel_12598 1936\n",
      "-----> downloading the-hanford-sentinel_12598 (california/hanford)\n",
      "the-hanford-sentinel_12598 1937\n",
      "-----> downloading the-hanford-sentinel_12598 (california/hanford)\n",
      "the-hanford-sentinel_12598 1938\n",
      "-----> downloading the-hanford-sentinel_12598 (california/hanford)\n",
      "the-hanford-sentinel_12598 1939\n",
      "-----> downloading the-hanford-sentinel_12598 (california/hanford)\n",
      "daily-review_2201 1937\n",
      "-----> downloading daily-review_2201 (california/hayward)\n",
      "daily-review_2201 1938\n",
      "-----> downloading daily-review_2201 (california/hayward)\n",
      "daily-review_2201 1939\n",
      "-----> downloading daily-review_2201 (california/hayward)\n",
      "northeast-news-herald_27241 1931\n",
      "-----> downloading northeast-news-herald_27241 (california/highland-park)\n",
      "northeast-news-herald_27241 1932\n",
      "-----> downloading northeast-news-herald_27241 (california/highland-park)\n",
      "northeast-news-herald_27241 1933\n",
      "-----> downloading northeast-news-herald_27241 (california/highland-park)\n",
      "northeast-news-herald_27241 1934\n",
      "-----> downloading northeast-news-herald_27241 (california/highland-park)\n",
      "northeast-news-herald_27241 1935\n",
      "-----> downloading northeast-news-herald_27241 (california/highland-park)\n",
      "northeast-news-herald_27241 1936\n",
      "-----> downloading northeast-news-herald_27241 (california/highland-park)\n",
      "northeast-news-herald_27241 1937\n",
      "-----> downloading northeast-news-herald_27241 (california/highland-park)\n",
      "northeast-news-herald_27241 1938\n",
      "-----> downloading northeast-news-herald_27241 (california/highland-park)\n",
      "the-highland-park-news-herald_27239 1931\n",
      "-----> downloading the-highland-park-news-herald_27239 (california/highland-park)\n",
      "the-highland-park-news-herald_27239 1932\n",
      "-----> downloading the-highland-park-news-herald_27239 (california/highland-park)\n",
      "the-highland-park-news-herald_27239 1933\n",
      "-----> downloading the-highland-park-news-herald_27239 (california/highland-park)\n",
      "the-highland-park-news-herald_27239 1934\n",
      "-----> downloading the-highland-park-news-herald_27239 (california/highland-park)\n",
      "the-highland-park-news-herald_27239 1935\n",
      "-----> downloading the-highland-park-news-herald_27239 (california/highland-park)\n",
      "the-highland-park-news-herald_27239 1936\n",
      "-----> downloading the-highland-park-news-herald_27239 (california/highland-park)\n",
      "the-highland-park-news-herald_27239 1937\n",
      "-----> downloading the-highland-park-news-herald_27239 (california/highland-park)\n",
      "the-highland-park-news-herald_27239 1938\n",
      "-----> downloading the-highland-park-news-herald_27239 (california/highland-park)\n",
      "the-highland-park-news-herald_27239 1939\n",
      "-----> downloading the-highland-park-news-herald_27239 (california/highland-park)\n",
      "the-northeast-community-press_27242 1932\n",
      "-----> downloading the-northeast-community-press_27242 (california/highland-park)\n",
      "the-northeast-community-press_27242 1933\n",
      "-----> downloading the-northeast-community-press_27242 (california/highland-park)\n",
      "the-northeast-community-press_27242 1937\n",
      "-----> downloading the-northeast-community-press_27242 (california/highland-park)\n",
      "los-angeles-evening-citizen-news_25896 1931\n",
      "-----> downloading los-angeles-evening-citizen-news_25896 (california/hollywood)\n",
      "los-angeles-evening-citizen-news_25896 1932\n",
      "-----> downloading los-angeles-evening-citizen-news_25896 (california/hollywood)\n",
      "los-angeles-evening-citizen-news_25896 1933\n",
      "-----> downloading los-angeles-evening-citizen-news_25896 (california/hollywood)\n",
      "los-angeles-evening-citizen-news_25896 1934\n",
      "-----> downloading los-angeles-evening-citizen-news_25896 (california/hollywood)\n",
      "los-angeles-evening-citizen-news_25896 1935\n",
      "-----> downloading los-angeles-evening-citizen-news_25896 (california/hollywood)\n",
      "los-angeles-evening-citizen-news_25896 1936\n",
      "-----> downloading los-angeles-evening-citizen-news_25896 (california/hollywood)\n",
      "los-angeles-evening-citizen-news_25896 1937\n",
      "-----> downloading los-angeles-evening-citizen-news_25896 (california/hollywood)\n",
      "los-angeles-evening-citizen-news_25896 1938\n",
      "-----> downloading los-angeles-evening-citizen-news_25896 (california/hollywood)\n",
      "los-angeles-evening-citizen-news_25896 1939\n",
      "-----> downloading los-angeles-evening-citizen-news_25896 (california/hollywood)\n",
      "the-kingsburg-recorder_22575 1931\n",
      "-----> downloading the-kingsburg-recorder_22575 (california/kingsburg)\n",
      "the-kingsburg-recorder_22575 1932\n",
      "-----> downloading the-kingsburg-recorder_22575 (california/kingsburg)\n",
      "the-kingsburg-recorder_22575 1933\n",
      "-----> downloading the-kingsburg-recorder_22575 (california/kingsburg)\n",
      "the-kingsburg-recorder_22575 1937\n",
      "-----> downloading the-kingsburg-recorder_22575 (california/kingsburg)\n",
      "the-lemoore-advance_27783 1931\n",
      "-----> downloading the-lemoore-advance_27783 (california/lemoore)\n",
      "the-lemoore-advance_27783 1932\n",
      "-----> downloading the-lemoore-advance_27783 (california/lemoore)\n",
      "the-lemoore-advance_27783 1934\n",
      "-----> downloading the-lemoore-advance_27783 (california/lemoore)\n",
      "the-lemoore-advance_27783 1935\n",
      "-----> downloading the-lemoore-advance_27783 (california/lemoore)\n",
      "the-lemoore-advance_27783 1936\n",
      "-----> downloading the-lemoore-advance_27783 (california/lemoore)\n",
      "the-lemoore-advance_27783 1937\n",
      "-----> downloading the-lemoore-advance_27783 (california/lemoore)\n",
      "the-lemoore-advance_27783 1938\n",
      "-----> downloading the-lemoore-advance_27783 (california/lemoore)\n",
      "the-lemoore-advance_27783 1939\n",
      "-----> downloading the-lemoore-advance_27783 (california/lemoore)\n",
      "lincoln-news-messenger_7411 1931\n",
      "-----> downloading lincoln-news-messenger_7411 (california/lincoln)\n",
      "lincoln-news-messenger_7411 1932\n",
      "-----> downloading lincoln-news-messenger_7411 (california/lincoln)\n",
      "lincoln-news-messenger_7411 1933\n",
      "-----> downloading lincoln-news-messenger_7411 (california/lincoln)\n",
      "lincoln-news-messenger_7411 1934\n",
      "-----> downloading lincoln-news-messenger_7411 (california/lincoln)\n",
      "lincoln-news-messenger_7411 1935\n",
      "-----> downloading lincoln-news-messenger_7411 (california/lincoln)\n",
      "lincoln-news-messenger_7411 1936\n",
      "-----> downloading lincoln-news-messenger_7411 (california/lincoln)\n",
      "lincoln-news-messenger_7411 1937\n",
      "-----> downloading lincoln-news-messenger_7411 (california/lincoln)\n",
      "lincoln-news-messenger_7411 1938\n",
      "-----> downloading lincoln-news-messenger_7411 (california/lincoln)\n",
      "lincoln-news-messenger_7411 1939\n",
      "-----> downloading lincoln-news-messenger_7411 (california/lincoln)\n",
      "lindsay-gazette_26312 1931\n",
      "-----> downloading lindsay-gazette_26312 (california/lindsay)\n",
      "lindsay-gazette_26312 1932\n",
      "-----> downloading lindsay-gazette_26312 (california/lindsay)\n",
      "lindsay-gazette_26312 1933\n",
      "-----> downloading lindsay-gazette_26312 (california/lindsay)\n",
      "lindsay-gazette_26312 1934\n",
      "-----> downloading lindsay-gazette_26312 (california/lindsay)\n",
      "lindsay-gazette_26312 1935\n",
      "-----> downloading lindsay-gazette_26312 (california/lindsay)\n",
      "lindsay-gazette_26312 1936\n",
      "-----> downloading lindsay-gazette_26312 (california/lindsay)\n",
      "lindsay-gazette_26312 1937\n",
      "-----> downloading lindsay-gazette_26312 (california/lindsay)\n",
      "lindsay-gazette_26312 1938\n",
      "-----> downloading lindsay-gazette_26312 (california/lindsay)\n",
      "lindsay-gazette_26312 1939\n",
      "-----> downloading lindsay-gazette_26312 (california/lindsay)\n",
      "the-lompoc-record_9406 1931\n",
      "-----> downloading the-lompoc-record_9406 (california/lompoc)\n",
      "the-lompoc-record_9406 1932\n",
      "-----> downloading the-lompoc-record_9406 (california/lompoc)\n"
     ]
    },
    {
     "name": "stdout",
     "output_type": "stream",
     "text": [
      "the-lompoc-record_9406 1933\n",
      "-----> downloading the-lompoc-record_9406 (california/lompoc)\n",
      "the-lompoc-record_9406 1934\n",
      "-----> downloading the-lompoc-record_9406 (california/lompoc)\n",
      "the-lompoc-record_9406 1935\n",
      "-----> downloading the-lompoc-record_9406 (california/lompoc)\n",
      "the-lompoc-record_9406 1936\n",
      "-----> downloading the-lompoc-record_9406 (california/lompoc)\n",
      "the-lompoc-record_9406 1937\n",
      "-----> downloading the-lompoc-record_9406 (california/lompoc)\n",
      "the-lompoc-record_9406 1938\n",
      "-----> downloading the-lompoc-record_9406 (california/lompoc)\n",
      "the-lompoc-record_9406 1939\n",
      "-----> downloading the-lompoc-record_9406 (california/lompoc)\n",
      "independent_639 1938\n",
      "-----> downloading independent_639 (california/long-beach)\n",
      "independent_639 1939\n",
      "-----> downloading independent_639 (california/long-beach)\n",
      "long-beach-press-telegram_26587 1931\n",
      "-----> downloading long-beach-press-telegram_26587 (california/long-beach)\n",
      "long-beach-press-telegram_26587 1932\n",
      "-----> downloading long-beach-press-telegram_26587 (california/long-beach)\n",
      "long-beach-press-telegram_26587 1933\n",
      "-----> downloading long-beach-press-telegram_26587 (california/long-beach)\n",
      "long-beach-press-telegram_26587 1934\n",
      "-----> downloading long-beach-press-telegram_26587 (california/long-beach)\n",
      "long-beach-press-telegram_26587 1935\n",
      "-----> downloading long-beach-press-telegram_26587 (california/long-beach)\n",
      "long-beach-press-telegram_26587 1936\n",
      "-----> downloading long-beach-press-telegram_26587 (california/long-beach)\n",
      "long-beach-press-telegram_26587 1937\n",
      "-----> downloading long-beach-press-telegram_26587 (california/long-beach)\n",
      "long-beach-press-telegram_26587 1938\n",
      "-----> downloading long-beach-press-telegram_26587 (california/long-beach)\n",
      "long-beach-press-telegram_26587 1939\n",
      "-----> downloading long-beach-press-telegram_26587 (california/long-beach)\n",
      "the-long-beach-sun_26641 1931\n",
      "-----> downloading the-long-beach-sun_26641 (california/long-beach)\n",
      "the-long-beach-sun_26641 1932\n",
      "-----> downloading the-long-beach-sun_26641 (california/long-beach)\n",
      "the-long-beach-sun_26641 1933\n",
      "-----> downloading the-long-beach-sun_26641 (california/long-beach)\n",
      "the-long-beach-sun_26641 1934\n",
      "-----> downloading the-long-beach-sun_26641 (california/long-beach)\n",
      "the-long-beach-sun_26641 1935\n",
      "-----> downloading the-long-beach-sun_26641 (california/long-beach)\n",
      "the-long-beach-sun_26641 1936\n",
      "-----> downloading the-long-beach-sun_26641 (california/long-beach)\n",
      "the-long-beach-sun_26641 1937\n",
      "-----> downloading the-long-beach-sun_26641 (california/long-beach)\n",
      "the-long-beach-sun_26641 1938\n",
      "-----> downloading the-long-beach-sun_26641 (california/long-beach)\n",
      "the-long-beach-sun_26641 1939\n",
      "-----> downloading the-long-beach-sun_26641 (california/long-beach)\n",
      "california-eagle_26218 1931\n",
      "-----> downloading california-eagle_26218 (california/los-angeles)\n",
      "california-eagle_26218 1932\n",
      "-----> downloading california-eagle_26218 (california/los-angeles)\n",
      "california-eagle_26218 1933\n",
      "-----> downloading california-eagle_26218 (california/los-angeles)\n",
      "california-eagle_26218 1934\n",
      "-----> downloading california-eagle_26218 (california/los-angeles)\n",
      "california-eagle_26218 1935\n",
      "-----> downloading california-eagle_26218 (california/los-angeles)\n",
      "california-eagle_26218 1936\n",
      "-----> downloading california-eagle_26218 (california/los-angeles)\n",
      "california-eagle_26218 1937\n",
      "-----> downloading california-eagle_26218 (california/los-angeles)\n",
      "california-eagle_26218 1938\n",
      "-----> downloading california-eagle_26218 (california/los-angeles)\n",
      "california-eagle_26218 1939\n",
      "-----> downloading california-eagle_26218 (california/los-angeles)\n",
      "daily-news_26079 1931\n",
      "-----> downloading daily-news_26079 (california/los-angeles)\n",
      "daily-news_26079 1932\n",
      "-----> downloading daily-news_26079 (california/los-angeles)\n",
      "daily-news_26079 1933\n",
      "-----> downloading daily-news_26079 (california/los-angeles)\n",
      "daily-news_26079 1934\n",
      "-----> downloading daily-news_26079 (california/los-angeles)\n",
      "daily-news_26079 1935\n",
      "-----> downloading daily-news_26079 (california/los-angeles)\n",
      "daily-news_26079 1936\n",
      "-----> downloading daily-news_26079 (california/los-angeles)\n",
      "daily-news_26079 1937\n",
      "-----> downloading daily-news_26079 (california/los-angeles)\n",
      "daily-news_26079 1938\n",
      "-----> downloading daily-news_26079 (california/los-angeles)\n",
      "daily-news_26079 1939\n",
      "-----> downloading daily-news_26079 (california/los-angeles)\n",
      "eagle-rock-sentinel_26839 1931\n",
      "-----> downloading eagle-rock-sentinel_26839 (california/los-angeles)\n",
      "eagle-rock-sentinel_26839 1932\n",
      "-----> downloading eagle-rock-sentinel_26839 (california/los-angeles)\n",
      "eagle-rock-sentinel_26839 1933\n",
      "-----> downloading eagle-rock-sentinel_26839 (california/los-angeles)\n",
      "eagle-rock-sentinel_26839 1934\n",
      "-----> downloading eagle-rock-sentinel_26839 (california/los-angeles)\n",
      "eagle-rock-sentinel_26839 1935\n",
      "-----> downloading eagle-rock-sentinel_26839 (california/los-angeles)\n",
      "eagle-rock-sentinel_26839 1936\n",
      "-----> downloading eagle-rock-sentinel_26839 (california/los-angeles)\n",
      "eagle-rock-sentinel_26839 1937\n",
      "-----> downloading eagle-rock-sentinel_26839 (california/los-angeles)\n",
      "eagle-rock-sentinel_26839 1938\n",
      "-----> downloading eagle-rock-sentinel_26839 (california/los-angeles)\n",
      "eagle-rock-sentinel_26839 1939\n",
      "-----> downloading eagle-rock-sentinel_26839 (california/los-angeles)\n",
      "eastside-journal_26845 1935\n",
      "-----> downloading eastside-journal_26845 (california/los-angeles)\n",
      "eastside-journal_26845 1936\n",
      "-----> downloading eastside-journal_26845 (california/los-angeles)\n",
      "eastside-journal_26845 1937\n",
      "-----> downloading eastside-journal_26845 (california/los-angeles)\n",
      "eastside-journal_26845 1938\n",
      "-----> downloading eastside-journal_26845 (california/los-angeles)\n",
      "eastside-journal_26845 1939\n",
      "-----> downloading eastside-journal_26845 (california/los-angeles)\n",
      "lincoln-heights-bulletin-news_26838 1931\n",
      "-----> downloading lincoln-heights-bulletin-news_26838 (california/los-angeles)\n",
      "lincoln-heights-bulletin-news_26838 1932\n",
      "-----> downloading lincoln-heights-bulletin-news_26838 (california/los-angeles)\n",
      "lincoln-heights-bulletin-news_26838 1933\n",
      "-----> downloading lincoln-heights-bulletin-news_26838 (california/los-angeles)\n",
      "lincoln-heights-bulletin-news_26838 1934\n",
      "-----> downloading lincoln-heights-bulletin-news_26838 (california/los-angeles)\n",
      "lincoln-heights-bulletin-news_26838 1935\n",
      "-----> downloading lincoln-heights-bulletin-news_26838 (california/los-angeles)\n",
      "lincoln-heights-bulletin-news_26838 1936\n",
      "-----> downloading lincoln-heights-bulletin-news_26838 (california/los-angeles)\n",
      "lincoln-heights-bulletin-news_26838 1937\n",
      "-----> downloading lincoln-heights-bulletin-news_26838 (california/los-angeles)\n",
      "lincoln-heights-bulletin-news_26838 1938\n",
      "-----> downloading lincoln-heights-bulletin-news_26838 (california/los-angeles)\n",
      "lincoln-heights-bulletin-news_26838 1939\n",
      "-----> downloading lincoln-heights-bulletin-news_26838 (california/los-angeles)\n",
      "los-angeles-evening-express_21928 1931\n",
      "-----> downloading los-angeles-evening-express_21928 (california/los-angeles)\n",
      "los-angeles-evening-post-record_25683 1931\n",
      "-----> downloading los-angeles-evening-post-record_25683 (california/los-angeles)\n",
      "los-angeles-evening-post-record_25683 1932\n",
      "-----> downloading los-angeles-evening-post-record_25683 (california/los-angeles)\n",
      "los-angeles-evening-post-record_25683 1933\n",
      "-----> downloading los-angeles-evening-post-record_25683 (california/los-angeles)\n",
      "los-angeles-evening-post-record_25683 1934\n",
      "-----> downloading los-angeles-evening-post-record_25683 (california/los-angeles)\n",
      "los-angeles-evening-post-record_25683 1935\n",
      "-----> downloading los-angeles-evening-post-record_25683 (california/los-angeles)\n",
      "los-angeles-evening-post-record_25683 1936\n",
      "-----> downloading los-angeles-evening-post-record_25683 (california/los-angeles)\n",
      "the-eagle-rock-advertiser_26840 1935\n",
      "-----> downloading the-eagle-rock-advertiser_26840 (california/los-angeles)\n",
      "the-eagle-rock-advertiser_26840 1936\n",
      "-----> downloading the-eagle-rock-advertiser_26840 (california/los-angeles)\n",
      "the-eagle-rock-advertiser_26840 1937\n",
      "-----> downloading the-eagle-rock-advertiser_26840 (california/los-angeles)\n",
      "the-eagle-rock-advertiser_26840 1938\n",
      "-----> downloading the-eagle-rock-advertiser_26840 (california/los-angeles)\n",
      "the-eagle-rock-advertiser_26840 1939\n",
      "-----> downloading the-eagle-rock-advertiser_26840 (california/los-angeles)\n",
      "the-eagle-rock-independent_26841 1936\n",
      "-----> downloading the-eagle-rock-independent_26841 (california/los-angeles)\n"
     ]
    },
    {
     "name": "stdout",
     "output_type": "stream",
     "text": [
      "the-eagle-rock-independent_26841 1937\n",
      "-----> downloading the-eagle-rock-independent_26841 (california/los-angeles)\n",
      "the-los-angeles-times_4312 1931\n",
      "-----> downloading the-los-angeles-times_4312 (california/los-angeles)\n",
      "the-los-angeles-times_4312 1932\n",
      "-----> downloading the-los-angeles-times_4312 (california/los-angeles)\n",
      "the-los-angeles-times_4312 1933\n",
      "-----> downloading the-los-angeles-times_4312 (california/los-angeles)\n",
      "the-los-angeles-times_4312 1934\n",
      "-----> downloading the-los-angeles-times_4312 (california/los-angeles)\n",
      "the-los-angeles-times_4312 1935\n",
      "-----> downloading the-los-angeles-times_4312 (california/los-angeles)\n",
      "the-los-angeles-times_4312 1936\n",
      "-----> downloading the-los-angeles-times_4312 (california/los-angeles)\n",
      "the-los-angeles-times_4312 1937\n",
      "-----> downloading the-los-angeles-times_4312 (california/los-angeles)\n",
      "the-los-angeles-times_4312 1938\n",
      "-----> downloading the-los-angeles-times_4312 (california/los-angeles)\n",
      "the-los-angeles-times_4312 1939\n",
      "-----> downloading the-los-angeles-times_4312 (california/los-angeles)\n",
      "the-southwest-wave_27200 1931\n",
      "-----> downloading the-southwest-wave_27200 (california/los-angeles)\n",
      "the-southwest-wave_27200 1932\n",
      "-----> downloading the-southwest-wave_27200 (california/los-angeles)\n",
      "the-southwest-wave_27200 1933\n",
      "-----> downloading the-southwest-wave_27200 (california/los-angeles)\n",
      "the-southwest-wave_27200 1934\n",
      "-----> downloading the-southwest-wave_27200 (california/los-angeles)\n",
      "the-southwest-wave_27200 1935\n",
      "-----> downloading the-southwest-wave_27200 (california/los-angeles)\n",
      "the-southwest-wave_27200 1936\n",
      "-----> downloading the-southwest-wave_27200 (california/los-angeles)\n",
      "the-southwest-wave_27200 1937\n",
      "-----> downloading the-southwest-wave_27200 (california/los-angeles)\n",
      "the-southwest-wave_27200 1938\n",
      "-----> downloading the-southwest-wave_27200 (california/los-angeles)\n",
      "the-southwest-wave_27200 1939\n",
      "-----> downloading the-southwest-wave_27200 (california/los-angeles)\n",
      "los-gatos-times-saratoga-observer_26338 1936\n",
      "-----> downloading los-gatos-times-saratoga-observer_26338 (california/los-gatos)\n",
      "los-gatos-times-saratoga-observer_26338 1937\n",
      "-----> downloading los-gatos-times-saratoga-observer_26338 (california/los-gatos)\n",
      "los-gatos-times-saratoga-observer_26338 1938\n",
      "-----> downloading los-gatos-times-saratoga-observer_26338 (california/los-gatos)\n",
      "los-gatos-times-saratoga-observer_26338 1939\n",
      "-----> downloading los-gatos-times-saratoga-observer_26338 (california/los-gatos)\n",
      "contra-costa-gazette_27633 1931\n",
      "-----> downloading contra-costa-gazette_27633 (california/martinez)\n",
      "contra-costa-gazette_27633 1932\n",
      "-----> downloading contra-costa-gazette_27633 (california/martinez)\n",
      "contra-costa-gazette_27633 1933\n",
      "-----> downloading contra-costa-gazette_27633 (california/martinez)\n",
      "contra-costa-gazette_27633 1934\n",
      "-----> downloading contra-costa-gazette_27633 (california/martinez)\n",
      "contra-costa-gazette_27633 1935\n",
      "-----> downloading contra-costa-gazette_27633 (california/martinez)\n",
      "contra-costa-gazette_27633 1936\n",
      "-----> downloading contra-costa-gazette_27633 (california/martinez)\n",
      "contra-costa-gazette_27633 1937\n",
      "-----> downloading contra-costa-gazette_27633 (california/martinez)\n",
      "contra-costa-gazette_27633 1938\n",
      "-----> downloading contra-costa-gazette_27633 (california/martinez)\n",
      "contra-costa-gazette_27633 1939\n",
      "-----> downloading contra-costa-gazette_27633 (california/martinez)\n",
      "appeal-democrat_1169 1931\n",
      "-----> downloading appeal-democrat_1169 (california/marysville)\n",
      "appeal-democrat_1169 1932\n",
      "-----> downloading appeal-democrat_1169 (california/marysville)\n",
      "appeal-democrat_1169 1933\n",
      "-----> downloading appeal-democrat_1169 (california/marysville)\n",
      "appeal-democrat_1169 1934\n",
      "-----> downloading appeal-democrat_1169 (california/marysville)\n",
      "appeal-democrat_1169 1935\n",
      "-----> downloading appeal-democrat_1169 (california/marysville)\n",
      "appeal-democrat_1169 1936\n",
      "-----> downloading appeal-democrat_1169 (california/marysville)\n",
      "appeal-democrat_1169 1937\n",
      "-----> downloading appeal-democrat_1169 (california/marysville)\n",
      "appeal-democrat_1169 1938\n",
      "-----> downloading appeal-democrat_1169 (california/marysville)\n",
      "appeal-democrat_1169 1939\n",
      "-----> downloading appeal-democrat_1169 (california/marysville)\n",
      "mendocino-coast-beacon_22521 1931\n",
      "-----> downloading mendocino-coast-beacon_22521 (california/mendocino)\n",
      "mendocino-coast-beacon_22521 1932\n",
      "-----> downloading mendocino-coast-beacon_22521 (california/mendocino)\n",
      "mendocino-coast-beacon_22521 1933\n",
      "-----> downloading mendocino-coast-beacon_22521 (california/mendocino)\n",
      "mendocino-coast-beacon_22521 1934\n",
      "-----> downloading mendocino-coast-beacon_22521 (california/mendocino)\n",
      "mendocino-coast-beacon_22521 1935\n",
      "-----> downloading mendocino-coast-beacon_22521 (california/mendocino)\n",
      "mendocino-coast-beacon_22521 1936\n",
      "-----> downloading mendocino-coast-beacon_22521 (california/mendocino)\n",
      "mendocino-coast-beacon_22521 1937\n",
      "-----> downloading mendocino-coast-beacon_22521 (california/mendocino)\n",
      "mendocino-coast-beacon_22521 1938\n",
      "-----> downloading mendocino-coast-beacon_22521 (california/mendocino)\n",
      "mendocino-coast-beacon_22521 1939\n",
      "-----> downloading mendocino-coast-beacon_22521 (california/mendocino)\n",
      "merced-express_26350 1931\n",
      "-----> downloading merced-express_26350 (california/merced)\n",
      "merced-express_26350 1936\n",
      "-----> downloading merced-express_26350 (california/merced)\n",
      "merced-express_26350 1937\n",
      "-----> downloading merced-express_26350 (california/merced)\n",
      "merced-express_26350 1938\n",
      "-----> downloading merced-express_26350 (california/merced)\n",
      "merced-express_26350 1939\n",
      "-----> downloading merced-express_26350 (california/merced)\n",
      "modesto-news-herald_2822 1931\n",
      "-----> downloading modesto-news-herald_2822 (california/modesto)\n",
      "modesto-news-herald_2822 1932\n",
      "-----> downloading modesto-news-herald_2822 (california/modesto)\n",
      "modesto-news-herald_2822 1933\n",
      "-----> downloading modesto-news-herald_2822 (california/modesto)\n",
      "the-modesto-bee_22659 1931\n",
      "-----> downloading the-modesto-bee_22659 (california/modesto)\n",
      "the-modesto-bee_22659 1932\n",
      "-----> downloading the-modesto-bee_22659 (california/modesto)\n",
      "the-modesto-bee_22659 1933\n",
      "-----> downloading the-modesto-bee_22659 (california/modesto)\n",
      "monrovia-news-post_21556 1937\n",
      "-----> downloading monrovia-news-post_21556 (california/monrovia)\n",
      "monrovia-news-post_21556 1938\n",
      "-----> downloading monrovia-news-post_21556 (california/monrovia)\n",
      "monrovia-news-post_21556 1939\n",
      "-----> downloading monrovia-news-post_21556 (california/monrovia)\n",
      "monrovia-news-post_21624 1931\n",
      "-----> downloading monrovia-news-post_21624 (california/monrovia)\n",
      "monrovia-news-post_21624 1932\n",
      "-----> downloading monrovia-news-post_21624 (california/monrovia)\n",
      "monrovia-news-post_21624 1933\n",
      "-----> downloading monrovia-news-post_21624 (california/monrovia)\n",
      "monrovia-news-post_21624 1934\n",
      "-----> downloading monrovia-news-post_21624 (california/monrovia)\n",
      "monrovia-news-post_21624 1935\n",
      "-----> downloading monrovia-news-post_21624 (california/monrovia)\n",
      "monrovia-news-post_21624 1936\n",
      "-----> downloading monrovia-news-post_21624 (california/monrovia)\n",
      "monrovia-news-post_21624 1937\n",
      "-----> downloading monrovia-news-post_21624 (california/monrovia)\n",
      "napa-journal_12683 1931\n",
      "-----> downloading napa-journal_12683 (california/napa)\n",
      "napa-journal_12683 1932\n",
      "-----> downloading napa-journal_12683 (california/napa)\n",
      "napa-journal_12683 1933\n",
      "-----> downloading napa-journal_12683 (california/napa)\n",
      "napa-journal_12683 1934\n",
      "-----> downloading napa-journal_12683 (california/napa)\n",
      "napa-journal_12683 1935\n",
      "-----> downloading napa-journal_12683 (california/napa)\n",
      "napa-journal_12683 1936\n",
      "-----> downloading napa-journal_12683 (california/napa)\n",
      "napa-journal_12683 1937\n",
      "-----> downloading napa-journal_12683 (california/napa)\n",
      "napa-journal_12683 1938\n",
      "-----> downloading napa-journal_12683 (california/napa)\n",
      "napa-journal_12683 1939\n",
      "-----> downloading napa-journal_12683 (california/napa)\n",
      "the-napa-valley-register_12655 1931\n",
      "-----> downloading the-napa-valley-register_12655 (california/napa)\n",
      "the-napa-valley-register_12655 1932\n",
      "-----> downloading the-napa-valley-register_12655 (california/napa)\n",
      "the-napa-valley-register_12655 1933\n",
      "-----> downloading the-napa-valley-register_12655 (california/napa)\n",
      "the-napa-valley-register_12655 1934\n",
      "-----> downloading the-napa-valley-register_12655 (california/napa)\n",
      "the-napa-valley-register_12655 1935\n",
      "-----> downloading the-napa-valley-register_12655 (california/napa)\n"
     ]
    },
    {
     "name": "stdout",
     "output_type": "stream",
     "text": [
      "the-napa-valley-register_12655 1936\n",
      "-----> downloading the-napa-valley-register_12655 (california/napa)\n",
      "the-napa-valley-register_12655 1937\n",
      "-----> downloading the-napa-valley-register_12655 (california/napa)\n",
      "the-napa-valley-register_12655 1938\n",
      "-----> downloading the-napa-valley-register_12655 (california/napa)\n",
      "national-city-star-news_18402 1931\n",
      "-----> downloading national-city-star-news_18402 (california/national-city)\n",
      "national-city-star-news_18402 1932\n",
      "-----> downloading national-city-star-news_18402 (california/national-city)\n",
      "national-city-star-news_18402 1933\n",
      "-----> downloading national-city-star-news_18402 (california/national-city)\n",
      "national-city-star-news_18402 1934\n",
      "-----> downloading national-city-star-news_18402 (california/national-city)\n",
      "national-city-star-news_18402 1935\n",
      "-----> downloading national-city-star-news_18402 (california/national-city)\n",
      "national-city-star-news_18402 1936\n",
      "-----> downloading national-city-star-news_18402 (california/national-city)\n",
      "national-city-star-news_18402 1937\n",
      "-----> downloading national-city-star-news_18402 (california/national-city)\n",
      "national-city-star-news_18402 1938\n",
      "-----> downloading national-city-star-news_18402 (california/national-city)\n",
      "national-city-star-news_18402 1939\n",
      "-----> downloading national-city-star-news_18402 (california/national-city)\n",
      "needles-desert-star_22844 1931\n",
      "-----> downloading needles-desert-star_22844 (california/needles)\n",
      "needles-desert-star_22844 1935\n",
      "-----> downloading needles-desert-star_22844 (california/needles)\n",
      "needles-desert-star_22844 1936\n",
      "-----> downloading needles-desert-star_22844 (california/needles)\n",
      "needles-desert-star_22844 1937\n",
      "-----> downloading needles-desert-star_22844 (california/needles)\n",
      "needles-desert-star_22844 1938\n",
      "-----> downloading needles-desert-star_22844 (california/needles)\n",
      "needles-desert-star_22844 1939\n",
      "-----> downloading needles-desert-star_22844 (california/needles)\n",
      "the-west-side-index_21173 1931\n",
      "-----> downloading the-west-side-index_21173 (california/newman)\n",
      "the-west-side-index_21173 1932\n",
      "-----> downloading the-west-side-index_21173 (california/newman)\n",
      "the-west-side-index_21173 1933\n",
      "-----> downloading the-west-side-index_21173 (california/newman)\n",
      "the-west-side-index_21173 1934\n",
      "-----> downloading the-west-side-index_21173 (california/newman)\n",
      "the-west-side-index_21173 1935\n",
      "-----> downloading the-west-side-index_21173 (california/newman)\n",
      "the-west-side-index_21173 1936\n",
      "-----> downloading the-west-side-index_21173 (california/newman)\n",
      "the-west-side-index_21173 1937\n",
      "-----> downloading the-west-side-index_21173 (california/newman)\n",
      "the-west-side-index_21173 1938\n",
      "-----> downloading the-west-side-index_21173 (california/newman)\n",
      "the-west-side-index_21173 1939\n",
      "-----> downloading the-west-side-index_21173 (california/newman)\n",
      "oakdale-leader_10533 1931\n",
      "-----> downloading oakdale-leader_10533 (california/oakdale)\n",
      "oakdale-leader_10533 1932\n",
      "-----> downloading oakdale-leader_10533 (california/oakdale)\n",
      "oakdale-leader_10533 1933\n",
      "-----> downloading oakdale-leader_10533 (california/oakdale)\n",
      "oakdale-leader_10533 1934\n",
      "-----> downloading oakdale-leader_10533 (california/oakdale)\n",
      "oakdale-leader_10533 1935\n",
      "-----> downloading oakdale-leader_10533 (california/oakdale)\n",
      "oakdale-leader_10533 1936\n",
      "-----> downloading oakdale-leader_10533 (california/oakdale)\n",
      "oakdale-leader_10533 1937\n",
      "-----> downloading oakdale-leader_10533 (california/oakdale)\n",
      "oakdale-leader_10533 1938\n",
      "-----> downloading oakdale-leader_10533 (california/oakdale)\n",
      "oakdale-leader_10533 1939\n",
      "-----> downloading oakdale-leader_10533 (california/oakdale)\n",
      "oakland-tribune_2 1931\n",
      "-----> downloading oakland-tribune_2 (california/oakland)\n",
      "oakland-tribune_2 1932\n",
      "-----> downloading oakland-tribune_2 (california/oakland)\n",
      "oakland-tribune_2 1933\n",
      "-----> downloading oakland-tribune_2 (california/oakland)\n",
      "oakland-tribune_2 1934\n",
      "-----> downloading oakland-tribune_2 (california/oakland)\n",
      "oakland-tribune_2 1935\n",
      "-----> downloading oakland-tribune_2 (california/oakland)\n",
      "oakland-tribune_2 1936\n",
      "-----> downloading oakland-tribune_2 (california/oakland)\n",
      "oakland-tribune_2 1937\n",
      "-----> downloading oakland-tribune_2 (california/oakland)\n",
      "oakland-tribune_2 1938\n",
      "-----> downloading oakland-tribune_2 (california/oakland)\n",
      "oakland-tribune_2 1939\n",
      "-----> downloading oakland-tribune_2 (california/oakland)\n",
      "oroville-mercury-register_22074 1931\n",
      "-----> downloading oroville-mercury-register_22074 (california/oroville)\n",
      "oroville-mercury-register_22074 1932\n",
      "-----> downloading oroville-mercury-register_22074 (california/oroville)\n",
      "oroville-mercury-register_22074 1933\n",
      "-----> downloading oroville-mercury-register_22074 (california/oroville)\n",
      "oroville-mercury-register_22074 1934\n",
      "-----> downloading oroville-mercury-register_22074 (california/oroville)\n",
      "oroville-mercury-register_22074 1935\n",
      "-----> downloading oroville-mercury-register_22074 (california/oroville)\n",
      "oroville-mercury-register_22074 1936\n",
      "-----> downloading oroville-mercury-register_22074 (california/oroville)\n",
      "oroville-mercury-register_22074 1937\n",
      "-----> downloading oroville-mercury-register_22074 (california/oroville)\n",
      "oroville-mercury-register_22074 1938\n",
      "-----> downloading oroville-mercury-register_22074 (california/oroville)\n",
      "oroville-mercury-register_22074 1939\n",
      "-----> downloading oroville-mercury-register_22074 (california/oroville)\n",
      "the-desert-sun_3730 1934\n",
      "-----> downloading the-desert-sun_3730 (california/palm-springs)\n",
      "the-desert-sun_3730 1935\n",
      "-----> downloading the-desert-sun_3730 (california/palm-springs)\n",
      "the-desert-sun_3730 1936\n",
      "-----> downloading the-desert-sun_3730 (california/palm-springs)\n",
      "the-desert-sun_3730 1937\n",
      "-----> downloading the-desert-sun_3730 (california/palm-springs)\n",
      "the-desert-sun_3730 1938\n",
      "-----> downloading the-desert-sun_3730 (california/palm-springs)\n",
      "the-desert-sun_3730 1939\n",
      "-----> downloading the-desert-sun_3730 (california/palm-springs)\n",
      "paradise-progress-review_25747 1931\n",
      "-----> downloading paradise-progress-review_25747 (california/paradise)\n",
      "paradise-progress-review_25747 1932\n",
      "-----> downloading paradise-progress-review_25747 (california/paradise)\n",
      "paradise-progress-review_25747 1933\n",
      "-----> downloading paradise-progress-review_25747 (california/paradise)\n",
      "paradise-progress-review_25747 1937\n",
      "-----> downloading paradise-progress-review_25747 (california/paradise)\n",
      "paradise-progress-review_25747 1938\n",
      "-----> downloading paradise-progress-review_25747 (california/paradise)\n",
      "paradise-progress-review_25747 1939\n",
      "-----> downloading paradise-progress-review_25747 (california/paradise)\n",
      "the-pasadena-post_22474 1931\n",
      "-----> downloading the-pasadena-post_22474 (california/pasadena)\n",
      "the-pasadena-post_22474 1932\n",
      "-----> downloading the-pasadena-post_22474 (california/pasadena)\n",
      "the-pasadena-post_22474 1933\n",
      "-----> downloading the-pasadena-post_22474 (california/pasadena)\n",
      "the-pasadena-post_22474 1934\n",
      "-----> downloading the-pasadena-post_22474 (california/pasadena)\n",
      "the-pasadena-post_22474 1936\n",
      "-----> downloading the-pasadena-post_22474 (california/pasadena)\n",
      "the-pasadena-post_22474 1937\n",
      "-----> downloading the-pasadena-post_22474 (california/pasadena)\n",
      "petaluma-argus-courier_4734 1931\n",
      "-----> downloading petaluma-argus-courier_4734 (california/petaluma)\n",
      "petaluma-argus-courier_4734 1932\n",
      "-----> downloading petaluma-argus-courier_4734 (california/petaluma)\n",
      "petaluma-argus-courier_4734 1933\n",
      "-----> downloading petaluma-argus-courier_4734 (california/petaluma)\n",
      "petaluma-argus-courier_4734 1934\n",
      "-----> downloading petaluma-argus-courier_4734 (california/petaluma)\n",
      "petaluma-argus-courier_4734 1935\n",
      "-----> downloading petaluma-argus-courier_4734 (california/petaluma)\n",
      "petaluma-argus-courier_4734 1936\n",
      "-----> downloading petaluma-argus-courier_4734 (california/petaluma)\n",
      "petaluma-argus-courier_4734 1937\n",
      "-----> downloading petaluma-argus-courier_4734 (california/petaluma)\n",
      "petaluma-argus-courier_4734 1938\n",
      "-----> downloading petaluma-argus-courier_4734 (california/petaluma)\n",
      "petaluma-argus-courier_4734 1939\n",
      "-----> downloading petaluma-argus-courier_4734 (california/petaluma)\n",
      "pismo-times_22382 1931\n",
      "-----> downloading pismo-times_22382 (california/pismo-beach)\n",
      "pismo-times_22382 1932\n",
      "-----> downloading pismo-times_22382 (california/pismo-beach)\n",
      "pismo-times_22382 1933\n",
      "-----> downloading pismo-times_22382 (california/pismo-beach)\n",
      "pismo-times_22382 1936\n",
      "-----> downloading pismo-times_22382 (california/pismo-beach)\n"
     ]
    },
    {
     "name": "stdout",
     "output_type": "stream",
     "text": [
      "pismo-times_22382 1937\n",
      "-----> downloading pismo-times_22382 (california/pismo-beach)\n",
      "the-pomona-progress-bulletin_22484 1931\n",
      "-----> downloading the-pomona-progress-bulletin_22484 (california/pomona)\n",
      "the-pomona-progress-bulletin_22484 1932\n",
      "-----> downloading the-pomona-progress-bulletin_22484 (california/pomona)\n",
      "the-pomona-progress-bulletin_22484 1933\n",
      "-----> downloading the-pomona-progress-bulletin_22484 (california/pomona)\n",
      "the-pomona-progress-bulletin_22484 1934\n",
      "-----> downloading the-pomona-progress-bulletin_22484 (california/pomona)\n",
      "the-pomona-progress-bulletin_22484 1935\n",
      "-----> downloading the-pomona-progress-bulletin_22484 (california/pomona)\n",
      "the-pomona-progress-bulletin_22484 1936\n",
      "-----> downloading the-pomona-progress-bulletin_22484 (california/pomona)\n",
      "the-pomona-progress-bulletin_22484 1937\n",
      "-----> downloading the-pomona-progress-bulletin_22484 (california/pomona)\n",
      "the-pomona-progress-bulletin_22484 1938\n",
      "-----> downloading the-pomona-progress-bulletin_22484 (california/pomona)\n",
      "the-pomona-progress-bulletin_22484 1939\n",
      "-----> downloading the-pomona-progress-bulletin_22484 (california/pomona)\n",
      "feather-river-bulletin_4290 1931\n",
      "-----> downloading feather-river-bulletin_4290 (california/quincy)\n",
      "feather-river-bulletin_4290 1932\n",
      "-----> downloading feather-river-bulletin_4290 (california/quincy)\n",
      "feather-river-bulletin_4290 1933\n",
      "-----> downloading feather-river-bulletin_4290 (california/quincy)\n",
      "feather-river-bulletin_4290 1934\n",
      "-----> downloading feather-river-bulletin_4290 (california/quincy)\n",
      "feather-river-bulletin_4290 1935\n",
      "-----> downloading feather-river-bulletin_4290 (california/quincy)\n",
      "feather-river-bulletin_4290 1936\n",
      "-----> downloading feather-river-bulletin_4290 (california/quincy)\n",
      "feather-river-bulletin_4290 1937\n",
      "-----> downloading feather-river-bulletin_4290 (california/quincy)\n",
      "feather-river-bulletin_4290 1938\n",
      "-----> downloading feather-river-bulletin_4290 (california/quincy)\n",
      "feather-river-bulletin_4290 1939\n",
      "-----> downloading feather-river-bulletin_4290 (california/quincy)\n",
      "plumas-independent_4309 1931\n",
      "-----> downloading plumas-independent_4309 (california/quincy)\n",
      "plumas-independent_4309 1932\n",
      "-----> downloading plumas-independent_4309 (california/quincy)\n",
      "plumas-independent_4309 1933\n",
      "-----> downloading plumas-independent_4309 (california/quincy)\n",
      "plumas-independent_4309 1934\n",
      "-----> downloading plumas-independent_4309 (california/quincy)\n",
      "plumas-independent_4309 1935\n",
      "-----> downloading plumas-independent_4309 (california/quincy)\n",
      "plumas-independent_4309 1936\n",
      "-----> downloading plumas-independent_4309 (california/quincy)\n",
      "plumas-independent_4309 1937\n",
      "-----> downloading plumas-independent_4309 (california/quincy)\n",
      "plumas-independent_4309 1938\n",
      "-----> downloading plumas-independent_4309 (california/quincy)\n",
      "plumas-independent_4309 1939\n",
      "-----> downloading plumas-independent_4309 (california/quincy)\n",
      "red-bluff-tehama-county-daily-news_26385 1931\n",
      "-----> downloading red-bluff-tehama-county-daily-news_26385 (california/red-bluff)\n",
      "red-bluff-tehama-county-daily-news_26385 1932\n",
      "-----> downloading red-bluff-tehama-county-daily-news_26385 (california/red-bluff)\n",
      "red-bluff-tehama-county-daily-news_26385 1933\n",
      "-----> downloading red-bluff-tehama-county-daily-news_26385 (california/red-bluff)\n",
      "red-bluff-tehama-county-daily-news_26385 1934\n",
      "-----> downloading red-bluff-tehama-county-daily-news_26385 (california/red-bluff)\n",
      "red-bluff-tehama-county-daily-news_26385 1935\n",
      "-----> downloading red-bluff-tehama-county-daily-news_26385 (california/red-bluff)\n",
      "red-bluff-tehama-county-daily-news_26385 1936\n",
      "-----> downloading red-bluff-tehama-county-daily-news_26385 (california/red-bluff)\n",
      "red-bluff-tehama-county-daily-news_26385 1937\n",
      "-----> downloading red-bluff-tehama-county-daily-news_26385 (california/red-bluff)\n",
      "red-bluff-tehama-county-daily-news_26385 1938\n",
      "-----> downloading red-bluff-tehama-county-daily-news_26385 (california/red-bluff)\n",
      "red-bluff-tehama-county-daily-news_26385 1939\n",
      "-----> downloading red-bluff-tehama-county-daily-news_26385 (california/red-bluff)\n",
      "the-morning-times-and-red-bluff-sentinel_26372 1931\n",
      "-----> downloading the-morning-times-and-red-bluff-sentinel_26372 (california/red-bluff)\n",
      "the-times-sentinel_26373 1935\n",
      "-----> downloading the-times-sentinel_26373 (california/red-bluff)\n",
      "the-times-sentinel_26373 1936\n",
      "-----> downloading the-times-sentinel_26373 (california/red-bluff)\n",
      "the-times-sentinel_26373 1937\n",
      "-----> downloading the-times-sentinel_26373 (california/red-bluff)\n",
      "the-times-sentinel_26373 1938\n",
      "-----> downloading the-times-sentinel_26373 (california/red-bluff)\n",
      "the-redondo-reflex_22468 1931\n",
      "-----> downloading the-redondo-reflex_22468 (california/redondo)\n",
      "the-redondo-reflex_22468 1932\n",
      "-----> downloading the-redondo-reflex_22468 (california/redondo)\n",
      "the-redondo-reflex_22468 1933\n",
      "-----> downloading the-redondo-reflex_22468 (california/redondo)\n",
      "the-redondo-reflex_22468 1934\n",
      "-----> downloading the-redondo-reflex_22468 (california/redondo)\n",
      "the-redondo-reflex_22468 1935\n",
      "-----> downloading the-redondo-reflex_22468 (california/redondo)\n",
      "the-redondo-reflex_22468 1936\n",
      "-----> downloading the-redondo-reflex_22468 (california/redondo)\n",
      "the-redondo-reflex_22468 1937\n",
      "-----> downloading the-redondo-reflex_22468 (california/redondo)\n",
      "the-redondo-reflex_22468 1938\n",
      "-----> downloading the-redondo-reflex_22468 (california/redondo)\n",
      "the-redondo-reflex_22468 1939\n",
      "-----> downloading the-redondo-reflex_22468 (california/redondo)\n",
      "the-reedley-exponent_26389 1931\n",
      "-----> downloading the-reedley-exponent_26389 (california/reedley)\n",
      "the-reedley-exponent_26389 1932\n",
      "-----> downloading the-reedley-exponent_26389 (california/reedley)\n",
      "the-reedley-exponent_26389 1933\n",
      "-----> downloading the-reedley-exponent_26389 (california/reedley)\n",
      "the-reedley-exponent_26389 1934\n",
      "-----> downloading the-reedley-exponent_26389 (california/reedley)\n",
      "the-reedley-exponent_26389 1935\n",
      "-----> downloading the-reedley-exponent_26389 (california/reedley)\n",
      "the-reedley-exponent_26389 1936\n",
      "-----> downloading the-reedley-exponent_26389 (california/reedley)\n",
      "the-reedley-exponent_26389 1937\n",
      "-----> downloading the-reedley-exponent_26389 (california/reedley)\n",
      "the-reedley-exponent_26389 1938\n",
      "-----> downloading the-reedley-exponent_26389 (california/reedley)\n",
      "the-reedley-exponent_26389 1939\n",
      "-----> downloading the-reedley-exponent_26389 (california/reedley)\n",
      "richmond-daily-independent_26413 1938\n",
      "-----> downloading richmond-daily-independent_26413 (california/richmond)\n",
      "richmond-daily-independent_26413 1939\n",
      "-----> downloading richmond-daily-independent_26413 (california/richmond)\n",
      "the-placer-herald_7441 1931\n",
      "-----> downloading the-placer-herald_7441 (california/rocklin)\n",
      "the-placer-herald_7441 1932\n",
      "-----> downloading the-placer-herald_7441 (california/rocklin)\n",
      "the-placer-herald_7441 1933\n",
      "-----> downloading the-placer-herald_7441 (california/rocklin)\n",
      "the-placer-herald_7441 1934\n",
      "-----> downloading the-placer-herald_7441 (california/rocklin)\n",
      "the-placer-herald_7441 1935\n",
      "-----> downloading the-placer-herald_7441 (california/rocklin)\n",
      "the-placer-herald_7441 1936\n",
      "-----> downloading the-placer-herald_7441 (california/rocklin)\n",
      "the-placer-herald_7441 1937\n",
      "-----> downloading the-placer-herald_7441 (california/rocklin)\n",
      "the-placer-herald_7441 1938\n",
      "-----> downloading the-placer-herald_7441 (california/rocklin)\n",
      "the-placer-herald_7441 1939\n",
      "-----> downloading the-placer-herald_7441 (california/rocklin)\n",
      "the-press-tribune_7276 1931\n",
      "-----> downloading the-press-tribune_7276 (california/roseville)\n",
      "the-press-tribune_7276 1932\n",
      "-----> downloading the-press-tribune_7276 (california/roseville)\n",
      "the-press-tribune_7276 1933\n",
      "-----> downloading the-press-tribune_7276 (california/roseville)\n",
      "the-press-tribune_7276 1934\n",
      "-----> downloading the-press-tribune_7276 (california/roseville)\n",
      "the-press-tribune_7276 1935\n",
      "-----> downloading the-press-tribune_7276 (california/roseville)\n",
      "the-press-tribune_7276 1936\n",
      "-----> downloading the-press-tribune_7276 (california/roseville)\n",
      "the-press-tribune_7276 1937\n",
      "-----> downloading the-press-tribune_7276 (california/roseville)\n",
      "the-press-tribune_7276 1938\n",
      "-----> downloading the-press-tribune_7276 (california/roseville)\n",
      "the-press-tribune_7276 1939\n",
      "-----> downloading the-press-tribune_7276 (california/roseville)\n",
      "the-roseville-press_9440 1932\n",
      "-----> downloading the-roseville-press_9440 (california/roseville)\n"
     ]
    },
    {
     "name": "stdout",
     "output_type": "stream",
     "text": [
      "the-roseville-press_9440 1937\n",
      "-----> downloading the-roseville-press_9440 (california/roseville)\n",
      "the-sacramento-bee_22428 1931\n",
      "-----> downloading the-sacramento-bee_22428 (california/sacramento)\n",
      "the-sacramento-bee_22428 1932\n",
      "-----> downloading the-sacramento-bee_22428 (california/sacramento)\n",
      "the-sacramento-bee_22428 1933\n",
      "-----> downloading the-sacramento-bee_22428 (california/sacramento)\n",
      "the-sacramento-bee_22428 1934\n",
      "-----> downloading the-sacramento-bee_22428 (california/sacramento)\n",
      "the-sacramento-bee_22428 1935\n",
      "-----> downloading the-sacramento-bee_22428 (california/sacramento)\n",
      "the-sacramento-bee_22428 1936\n",
      "-----> downloading the-sacramento-bee_22428 (california/sacramento)\n",
      "the-sacramento-bee_22428 1937\n",
      "-----> downloading the-sacramento-bee_22428 (california/sacramento)\n",
      "the-sacramento-bee_22428 1938\n",
      "-----> downloading the-sacramento-bee_22428 (california/sacramento)\n",
      "the-sacramento-bee_22428 1939\n",
      "-----> downloading the-sacramento-bee_22428 (california/sacramento)\n",
      "salinas-morning-post_12325 1931\n",
      "-----> downloading salinas-morning-post_12325 (california/salinas)\n",
      "salinas-morning-post_12325 1932\n",
      "-----> downloading salinas-morning-post_12325 (california/salinas)\n",
      "salinas-morning-post_12325 1933\n",
      "-----> downloading salinas-morning-post_12325 (california/salinas)\n",
      "salinas-morning-post_12325 1934\n",
      "-----> downloading salinas-morning-post_12325 (california/salinas)\n",
      "salinas-morning-post_12325 1935\n",
      "-----> downloading salinas-morning-post_12325 (california/salinas)\n",
      "salinas-morning-post_12325 1936\n",
      "-----> downloading salinas-morning-post_12325 (california/salinas)\n",
      "salinas-morning-post_12325 1937\n",
      "-----> downloading salinas-morning-post_12325 (california/salinas)\n",
      "salinas-morning-post_12325 1938\n",
      "-----> downloading salinas-morning-post_12325 (california/salinas)\n",
      "salinas-morning-post_12325 1939\n",
      "-----> downloading salinas-morning-post_12325 (california/salinas)\n",
      "the-californian_3735 1931\n",
      "-----> downloading the-californian_3735 (california/salinas)\n",
      "the-californian_3735 1932\n",
      "-----> downloading the-californian_3735 (california/salinas)\n",
      "the-californian_3735 1933\n",
      "-----> downloading the-californian_3735 (california/salinas)\n",
      "the-californian_3735 1934\n",
      "-----> downloading the-californian_3735 (california/salinas)\n",
      "the-californian_3735 1935\n",
      "-----> downloading the-californian_3735 (california/salinas)\n",
      "the-californian_3735 1936\n",
      "-----> downloading the-californian_3735 (california/salinas)\n",
      "the-californian_3735 1937\n",
      "-----> downloading the-californian_3735 (california/salinas)\n",
      "the-californian_3735 1938\n",
      "-----> downloading the-californian_3735 (california/salinas)\n",
      "the-californian_3735 1939\n",
      "-----> downloading the-californian_3735 (california/salinas)\n",
      "san-anselmo-herald_3713 1931\n",
      "-----> downloading san-anselmo-herald_3713 (california/san-anselmo)\n",
      "san-anselmo-herald_3713 1933\n",
      "-----> downloading san-anselmo-herald_3713 (california/san-anselmo)\n",
      "san-anselmo-herald_3713 1934\n",
      "-----> downloading san-anselmo-herald_3713 (california/san-anselmo)\n",
      "san-anselmo-herald_3713 1935\n",
      "-----> downloading san-anselmo-herald_3713 (california/san-anselmo)\n",
      "san-anselmo-herald_3713 1936\n",
      "-----> downloading san-anselmo-herald_3713 (california/san-anselmo)\n",
      "san-anselmo-herald_3713 1937\n",
      "-----> downloading san-anselmo-herald_3713 (california/san-anselmo)\n",
      "san-anselmo-herald_3713 1938\n",
      "-----> downloading san-anselmo-herald_3713 (california/san-anselmo)\n",
      "the-mountaineer_21713 1933\n",
      "-----> downloading the-mountaineer_21713 (california/san-bernardino)\n",
      "the-mountaineer_21713 1934\n",
      "-----> downloading the-mountaineer_21713 (california/san-bernardino)\n",
      "the-mountaineer_21713 1935\n",
      "-----> downloading the-mountaineer_21713 (california/san-bernardino)\n",
      "the-mountaineer_21713 1936\n",
      "-----> downloading the-mountaineer_21713 (california/san-bernardino)\n",
      "the-mountaineer_21713 1937\n",
      "-----> downloading the-mountaineer_21713 (california/san-bernardino)\n",
      "the-mountaineer_21713 1938\n",
      "-----> downloading the-mountaineer_21713 (california/san-bernardino)\n",
      "the-san-bernardino-county-sun_1686 1931\n",
      "-----> downloading the-san-bernardino-county-sun_1686 (california/san-bernardino)\n",
      "the-san-bernardino-county-sun_1686 1932\n",
      "-----> downloading the-san-bernardino-county-sun_1686 (california/san-bernardino)\n",
      "the-san-bernardino-county-sun_1686 1933\n",
      "-----> downloading the-san-bernardino-county-sun_1686 (california/san-bernardino)\n",
      "the-san-bernardino-county-sun_1686 1934\n",
      "-----> downloading the-san-bernardino-county-sun_1686 (california/san-bernardino)\n",
      "the-san-bernardino-county-sun_1686 1935\n",
      "-----> downloading the-san-bernardino-county-sun_1686 (california/san-bernardino)\n",
      "the-san-bernardino-county-sun_1686 1936\n",
      "-----> downloading the-san-bernardino-county-sun_1686 (california/san-bernardino)\n",
      "the-san-bernardino-county-sun_1686 1937\n",
      "-----> downloading the-san-bernardino-county-sun_1686 (california/san-bernardino)\n",
      "the-san-bernardino-county-sun_1686 1938\n",
      "-----> downloading the-san-bernardino-county-sun_1686 (california/san-bernardino)\n",
      "the-san-bernardino-county-sun_1686 1939\n",
      "-----> downloading the-san-bernardino-county-sun_1686 (california/san-bernardino)\n",
      "san-fernando-valley-times_18513 1938\n",
      "-----> downloading san-fernando-valley-times_18513 (california/san-fernando)\n",
      "san-fernando-valley-times_18513 1939\n",
      "-----> downloading san-fernando-valley-times_18513 (california/san-fernando)\n",
      "the-recorder_22073 1931\n",
      "-----> downloading the-recorder_22073 (california/san-francisco)\n",
      "the-recorder_22073 1932\n",
      "-----> downloading the-recorder_22073 (california/san-francisco)\n",
      "the-recorder_22073 1933\n",
      "-----> downloading the-recorder_22073 (california/san-francisco)\n",
      "the-recorder_22073 1934\n",
      "-----> downloading the-recorder_22073 (california/san-francisco)\n",
      "the-san-francisco-examiner_9317 1931\n",
      "-----> downloading the-san-francisco-examiner_9317 (california/san-francisco)\n",
      "the-san-francisco-examiner_9317 1932\n",
      "-----> downloading the-san-francisco-examiner_9317 (california/san-francisco)\n",
      "the-san-francisco-examiner_9317 1933\n",
      "-----> downloading the-san-francisco-examiner_9317 (california/san-francisco)\n",
      "the-san-francisco-examiner_9317 1934\n",
      "-----> downloading the-san-francisco-examiner_9317 (california/san-francisco)\n",
      "the-san-francisco-examiner_9317 1935\n",
      "-----> downloading the-san-francisco-examiner_9317 (california/san-francisco)\n",
      "the-san-francisco-examiner_9317 1936\n",
      "-----> downloading the-san-francisco-examiner_9317 (california/san-francisco)\n",
      "the-san-francisco-examiner_9317 1937\n",
      "-----> downloading the-san-francisco-examiner_9317 (california/san-francisco)\n",
      "the-san-francisco-examiner_9317 1938\n",
      "-----> downloading the-san-francisco-examiner_9317 (california/san-francisco)\n",
      "the-san-francisco-examiner_9317 1939\n",
      "-----> downloading the-san-francisco-examiner_9317 (california/san-francisco)\n",
      "the-times_1213 1931\n",
      "-----> downloading the-times_1213 (california/san-mateo)\n",
      "the-times_1213 1932\n",
      "-----> downloading the-times_1213 (california/san-mateo)\n",
      "the-times_1213 1933\n",
      "-----> downloading the-times_1213 (california/san-mateo)\n",
      "the-times_1213 1934\n",
      "-----> downloading the-times_1213 (california/san-mateo)\n",
      "the-times_1213 1935\n",
      "-----> downloading the-times_1213 (california/san-mateo)\n",
      "the-times_1213 1936\n",
      "-----> downloading the-times_1213 (california/san-mateo)\n",
      "the-times_1213 1937\n",
      "-----> downloading the-times_1213 (california/san-mateo)\n",
      "the-times_1213 1938\n",
      "-----> downloading the-times_1213 (california/san-mateo)\n",
      "the-times_1213 1939\n",
      "-----> downloading the-times_1213 (california/san-mateo)\n",
      "news-pilot_21590 1931\n",
      "-----> downloading news-pilot_21590 (california/san-pedro)\n",
      "news-pilot_21590 1932\n",
      "-----> downloading news-pilot_21590 (california/san-pedro)\n",
      "news-pilot_21590 1933\n",
      "-----> downloading news-pilot_21590 (california/san-pedro)\n",
      "news-pilot_21590 1934\n",
      "-----> downloading news-pilot_21590 (california/san-pedro)\n",
      "news-pilot_21590 1935\n",
      "-----> downloading news-pilot_21590 (california/san-pedro)\n",
      "news-pilot_21590 1936\n",
      "-----> downloading news-pilot_21590 (california/san-pedro)\n",
      "news-pilot_21590 1937\n",
      "-----> downloading news-pilot_21590 (california/san-pedro)\n",
      "news-pilot_21590 1938\n",
      "-----> downloading news-pilot_21590 (california/san-pedro)\n",
      "news-pilot_21590 1939\n",
      "-----> downloading news-pilot_21590 (california/san-pedro)\n",
      "santa-ana-register_3160 1931\n",
      "-----> downloading santa-ana-register_3160 (california/santa-ana)\n",
      "santa-ana-register_3160 1932\n",
      "-----> downloading santa-ana-register_3160 (california/santa-ana)\n"
     ]
    },
    {
     "name": "stdout",
     "output_type": "stream",
     "text": [
      "santa-ana-register_3160 1933\n",
      "-----> downloading santa-ana-register_3160 (california/santa-ana)\n",
      "santa-ana-register_3160 1934\n",
      "-----> downloading santa-ana-register_3160 (california/santa-ana)\n",
      "santa-ana-register_3160 1935\n",
      "-----> downloading santa-ana-register_3160 (california/santa-ana)\n",
      "santa-ana-register_3160 1936\n",
      "-----> downloading santa-ana-register_3160 (california/santa-ana)\n",
      "santa-ana-register_3160 1937\n",
      "-----> downloading santa-ana-register_3160 (california/santa-ana)\n",
      "santa-ana-register_3160 1938\n",
      "-----> downloading santa-ana-register_3160 (california/santa-ana)\n",
      "santa-ana-register_3160 1939\n",
      "-----> downloading santa-ana-register_3160 (california/santa-ana)\n",
      "the-signal_6013 1931\n",
      "-----> downloading the-signal_6013 (california/santa-clarita)\n",
      "the-signal_6013 1932\n",
      "-----> downloading the-signal_6013 (california/santa-clarita)\n",
      "the-signal_6013 1933\n",
      "-----> downloading the-signal_6013 (california/santa-clarita)\n",
      "the-signal_6013 1934\n",
      "-----> downloading the-signal_6013 (california/santa-clarita)\n",
      "the-signal_6013 1935\n",
      "-----> downloading the-signal_6013 (california/santa-clarita)\n",
      "the-signal_6013 1936\n",
      "-----> downloading the-signal_6013 (california/santa-clarita)\n",
      "the-signal_6013 1937\n",
      "-----> downloading the-signal_6013 (california/santa-clarita)\n",
      "the-signal_6013 1938\n",
      "-----> downloading the-signal_6013 (california/santa-clarita)\n",
      "the-signal_6013 1939\n",
      "-----> downloading the-signal_6013 (california/santa-clarita)\n",
      "santa-cruz-evening-news_1899 1931\n",
      "-----> downloading santa-cruz-evening-news_1899 (california/santa-cruz)\n",
      "santa-cruz-evening-news_1899 1932\n",
      "-----> downloading santa-cruz-evening-news_1899 (california/santa-cruz)\n",
      "santa-cruz-evening-news_1899 1933\n",
      "-----> downloading santa-cruz-evening-news_1899 (california/santa-cruz)\n",
      "santa-cruz-evening-news_1899 1934\n",
      "-----> downloading santa-cruz-evening-news_1899 (california/santa-cruz)\n",
      "santa-cruz-evening-news_1899 1935\n",
      "-----> downloading santa-cruz-evening-news_1899 (california/santa-cruz)\n",
      "santa-cruz-evening-news_1899 1936\n",
      "-----> downloading santa-cruz-evening-news_1899 (california/santa-cruz)\n",
      "santa-cruz-evening-news_1899 1937\n",
      "-----> downloading santa-cruz-evening-news_1899 (california/santa-cruz)\n",
      "santa-cruz-evening-news_1899 1938\n",
      "-----> downloading santa-cruz-evening-news_1899 (california/santa-cruz)\n",
      "santa-cruz-evening-news_1899 1939\n",
      "-----> downloading santa-cruz-evening-news_1899 (california/santa-cruz)\n",
      "santa-cruz-sentinel_1900 1932\n",
      "-----> downloading santa-cruz-sentinel_1900 (california/santa-cruz)\n",
      "santa-cruz-sentinel_1900 1933\n",
      "-----> downloading santa-cruz-sentinel_1900 (california/santa-cruz)\n",
      "santa-cruz-sentinel_1900 1934\n",
      "-----> downloading santa-cruz-sentinel_1900 (california/santa-cruz)\n",
      "santa-cruz-sentinel_1900 1935\n",
      "-----> downloading santa-cruz-sentinel_1900 (california/santa-cruz)\n",
      "santa-cruz-sentinel_1900 1936\n",
      "-----> downloading santa-cruz-sentinel_1900 (california/santa-cruz)\n",
      "santa-cruz-sentinel_1900 1937\n",
      "-----> downloading santa-cruz-sentinel_1900 (california/santa-cruz)\n",
      "santa-cruz-sentinel_1900 1938\n",
      "-----> downloading santa-cruz-sentinel_1900 (california/santa-cruz)\n",
      "santa-cruz-sentinel_1900 1939\n",
      "-----> downloading santa-cruz-sentinel_1900 (california/santa-cruz)\n",
      "santa-maria-times_9283 1931\n",
      "-----> downloading santa-maria-times_9283 (california/santa-maria)\n",
      "santa-maria-times_9283 1932\n",
      "-----> downloading santa-maria-times_9283 (california/santa-maria)\n",
      "santa-maria-times_9283 1933\n",
      "-----> downloading santa-maria-times_9283 (california/santa-maria)\n",
      "santa-maria-times_9283 1934\n",
      "-----> downloading santa-maria-times_9283 (california/santa-maria)\n",
      "santa-maria-times_9283 1935\n",
      "-----> downloading santa-maria-times_9283 (california/santa-maria)\n",
      "santa-maria-times_9283 1936\n",
      "-----> downloading santa-maria-times_9283 (california/santa-maria)\n",
      "santa-maria-times_9283 1937\n",
      "-----> downloading santa-maria-times_9283 (california/santa-maria)\n",
      "santa-maria-times_9283 1938\n",
      "-----> downloading santa-maria-times_9283 (california/santa-maria)\n",
      "santa-maria-times_9283 1939\n",
      "-----> downloading santa-maria-times_9283 (california/santa-maria)\n",
      "santa-rosa-republican_22046 1931\n",
      "-----> downloading santa-rosa-republican_22046 (california/santa-rosa)\n",
      "santa-rosa-republican_22046 1932\n",
      "-----> downloading santa-rosa-republican_22046 (california/santa-rosa)\n",
      "santa-rosa-republican_22046 1933\n",
      "-----> downloading santa-rosa-republican_22046 (california/santa-rosa)\n",
      "santa-rosa-republican_22046 1934\n",
      "-----> downloading santa-rosa-republican_22046 (california/santa-rosa)\n",
      "santa-rosa-republican_22046 1935\n",
      "-----> downloading santa-rosa-republican_22046 (california/santa-rosa)\n",
      "santa-rosa-republican_22046 1936\n",
      "-----> downloading santa-rosa-republican_22046 (california/santa-rosa)\n",
      "santa-rosa-republican_22046 1937\n",
      "-----> downloading santa-rosa-republican_22046 (california/santa-rosa)\n",
      "santa-rosa-republican_22046 1938\n",
      "-----> downloading santa-rosa-republican_22046 (california/santa-rosa)\n",
      "santa-rosa-republican_22046 1939\n",
      "-----> downloading santa-rosa-republican_22046 (california/santa-rosa)\n",
      "the-press-democrat_5136 1931\n",
      "-----> downloading the-press-democrat_5136 (california/santa-rosa)\n",
      "the-press-democrat_5136 1932\n",
      "-----> downloading the-press-democrat_5136 (california/santa-rosa)\n",
      "the-press-democrat_5136 1933\n",
      "-----> downloading the-press-democrat_5136 (california/santa-rosa)\n",
      "the-press-democrat_5136 1934\n",
      "-----> downloading the-press-democrat_5136 (california/santa-rosa)\n",
      "the-press-democrat_5136 1935\n",
      "-----> downloading the-press-democrat_5136 (california/santa-rosa)\n",
      "the-press-democrat_5136 1936\n",
      "-----> downloading the-press-democrat_5136 (california/santa-rosa)\n",
      "the-press-democrat_5136 1937\n",
      "-----> downloading the-press-democrat_5136 (california/santa-rosa)\n",
      "the-press-democrat_5136 1938\n",
      "-----> downloading the-press-democrat_5136 (california/santa-rosa)\n",
      "the-press-democrat_5136 1939\n",
      "-----> downloading the-press-democrat_5136 (california/santa-rosa)\n",
      "sonoma-west-times-and-news_6165 1931\n",
      "-----> downloading sonoma-west-times-and-news_6165 (california/sebastopol)\n",
      "sonoma-west-times-and-news_6165 1932\n",
      "-----> downloading sonoma-west-times-and-news_6165 (california/sebastopol)\n",
      "sonoma-west-times-and-news_6165 1933\n",
      "-----> downloading sonoma-west-times-and-news_6165 (california/sebastopol)\n",
      "sonoma-west-times-and-news_6165 1934\n",
      "-----> downloading sonoma-west-times-and-news_6165 (california/sebastopol)\n",
      "sonoma-west-times-and-news_6165 1935\n",
      "-----> downloading sonoma-west-times-and-news_6165 (california/sebastopol)\n",
      "sonoma-west-times-and-news_6165 1936\n",
      "-----> downloading sonoma-west-times-and-news_6165 (california/sebastopol)\n",
      "sonoma-west-times-and-news_6165 1937\n",
      "-----> downloading sonoma-west-times-and-news_6165 (california/sebastopol)\n",
      "sonoma-west-times-and-news_6165 1938\n",
      "-----> downloading sonoma-west-times-and-news_6165 (california/sebastopol)\n",
      "sonoma-west-times-and-news_6165 1939\n",
      "-----> downloading sonoma-west-times-and-news_6165 (california/sebastopol)\n",
      "the-selma-enterprise_22590 1931\n",
      "-----> downloading the-selma-enterprise_22590 (california/selma)\n",
      "the-selma-enterprise_22590 1932\n",
      "-----> downloading the-selma-enterprise_22590 (california/selma)\n",
      "the-selma-enterprise_22590 1933\n",
      "-----> downloading the-selma-enterprise_22590 (california/selma)\n",
      "the-selma-enterprise_22590 1934\n",
      "-----> downloading the-selma-enterprise_22590 (california/selma)\n",
      "the-selma-enterprise_22590 1935\n",
      "-----> downloading the-selma-enterprise_22590 (california/selma)\n",
      "the-selma-enterprise_22590 1936\n",
      "-----> downloading the-selma-enterprise_22590 (california/selma)\n",
      "the-selma-enterprise_22590 1937\n",
      "-----> downloading the-selma-enterprise_22590 (california/selma)\n",
      "the-selma-enterprise_22590 1938\n",
      "-----> downloading the-selma-enterprise_22590 (california/selma)\n",
      "the-selma-enterprise_22590 1939\n",
      "-----> downloading the-selma-enterprise_22590 (california/selma)\n",
      "santa-ynez-valley-news_10005 1931\n",
      "-----> downloading santa-ynez-valley-news_10005 (california/solvang)\n",
      "santa-ynez-valley-news_10005 1932\n",
      "-----> downloading santa-ynez-valley-news_10005 (california/solvang)\n",
      "santa-ynez-valley-news_10005 1933\n",
      "-----> downloading santa-ynez-valley-news_10005 (california/solvang)\n",
      "santa-ynez-valley-news_10005 1934\n",
      "-----> downloading santa-ynez-valley-news_10005 (california/solvang)\n",
      "santa-ynez-valley-news_10005 1935\n",
      "-----> downloading santa-ynez-valley-news_10005 (california/solvang)\n"
     ]
    },
    {
     "name": "stdout",
     "output_type": "stream",
     "text": [
      "santa-ynez-valley-news_10005 1936\n",
      "-----> downloading santa-ynez-valley-news_10005 (california/solvang)\n",
      "santa-ynez-valley-news_10005 1937\n",
      "-----> downloading santa-ynez-valley-news_10005 (california/solvang)\n",
      "santa-ynez-valley-news_10005 1938\n",
      "-----> downloading santa-ynez-valley-news_10005 (california/solvang)\n",
      "santa-ynez-valley-news_10005 1939\n",
      "-----> downloading santa-ynez-valley-news_10005 (california/solvang)\n",
      "south-gate-daily-press-tribune_27585 1931\n",
      "-----> downloading south-gate-daily-press-tribune_27585 (california/south-gate)\n",
      "south-gate-daily-press-tribune_27585 1932\n",
      "-----> downloading south-gate-daily-press-tribune_27585 (california/south-gate)\n",
      "south-gate-daily-press-tribune_27585 1933\n",
      "-----> downloading south-gate-daily-press-tribune_27585 (california/south-gate)\n",
      "south-gate-daily-press-tribune_27585 1935\n",
      "-----> downloading south-gate-daily-press-tribune_27585 (california/south-gate)\n",
      "south-gate-daily-press-tribune_27585 1938\n",
      "-----> downloading south-gate-daily-press-tribune_27585 (california/south-gate)\n",
      "city-of-south-pasadena-foothill-review_26627 1936\n",
      "-----> downloading city-of-south-pasadena-foothill-review_26627 (california/south-pasadena)\n",
      "south-pasadena-foothill-review_26625 1931\n",
      "-----> downloading south-pasadena-foothill-review_26625 (california/south-pasadena)\n",
      "south-pasadena-foothill-review_26625 1932\n",
      "-----> downloading south-pasadena-foothill-review_26625 (california/south-pasadena)\n",
      "south-pasadena-foothill-review_26625 1933\n",
      "-----> downloading south-pasadena-foothill-review_26625 (california/south-pasadena)\n",
      "south-pasadena-foothill-review_26625 1934\n",
      "-----> downloading south-pasadena-foothill-review_26625 (california/south-pasadena)\n",
      "south-pasadena-foothill-review_26625 1935\n",
      "-----> downloading south-pasadena-foothill-review_26625 (california/south-pasadena)\n",
      "south-pasadena-foothill-review_26625 1936\n",
      "-----> downloading south-pasadena-foothill-review_26625 (california/south-pasadena)\n",
      "south-pasadena-news--south-pasadena-federated-news_26626 1931\n",
      "-----> downloading south-pasadena-news--south-pasadena-federated-news_26626 (california/south-pasadena)\n",
      "the-enterprise-and-the-south-san-francisco-journal_26322 1931\n",
      "-----> downloading the-enterprise-and-the-south-san-francisco-journal_26322 (california/south-san-francisco)\n",
      "the-enterprise-and-the-south-san-francisco-journal_26322 1934\n",
      "-----> downloading the-enterprise-and-the-south-san-francisco-journal_26322 (california/south-san-francisco)\n",
      "the-enterprise-and-the-south-san-francisco-journal_26322 1935\n",
      "-----> downloading the-enterprise-and-the-south-san-francisco-journal_26322 (california/south-san-francisco)\n",
      "the-enterprise-and-the-south-san-francisco-journal_26322 1936\n",
      "-----> downloading the-enterprise-and-the-south-san-francisco-journal_26322 (california/south-san-francisco)\n",
      "the-enterprise-and-the-south-san-francisco-journal_26322 1937\n",
      "-----> downloading the-enterprise-and-the-south-san-francisco-journal_26322 (california/south-san-francisco)\n",
      "the-enterprise-and-the-south-san-francisco-journal_26322 1938\n",
      "-----> downloading the-enterprise-and-the-south-san-francisco-journal_26322 (california/south-san-francisco)\n",
      "the-enterprise_26323 1938\n",
      "-----> downloading the-enterprise_26323 (california/south-san-francisco)\n",
      "the-st-helena-star_22555 1931\n",
      "-----> downloading the-st-helena-star_22555 (california/st-helena)\n",
      "the-st-helena-star_22555 1932\n",
      "-----> downloading the-st-helena-star_22555 (california/st-helena)\n",
      "the-st-helena-star_22555 1933\n",
      "-----> downloading the-st-helena-star_22555 (california/st-helena)\n",
      "the-st-helena-star_22555 1934\n",
      "-----> downloading the-st-helena-star_22555 (california/st-helena)\n",
      "the-st-helena-star_22555 1935\n",
      "-----> downloading the-st-helena-star_22555 (california/st-helena)\n",
      "the-st-helena-star_22555 1936\n",
      "-----> downloading the-st-helena-star_22555 (california/st-helena)\n",
      "the-st-helena-star_22555 1937\n",
      "-----> downloading the-st-helena-star_22555 (california/st-helena)\n",
      "the-st-helena-star_22555 1938\n",
      "-----> downloading the-st-helena-star_22555 (california/st-helena)\n",
      "the-st-helena-star_22555 1939\n",
      "-----> downloading the-st-helena-star_22555 (california/st-helena)\n",
      "stockton-independent_21869 1934\n",
      "-----> downloading stockton-independent_21869 (california/stockton)\n",
      "stockton-independent_21869 1935\n",
      "-----> downloading stockton-independent_21869 (california/stockton)\n",
      "stockton-independent_21869 1936\n",
      "-----> downloading stockton-independent_21869 (california/stockton)\n",
      "stockton-independent_21869 1937\n",
      "-----> downloading stockton-independent_21869 (california/stockton)\n",
      "tulare-advance-register_3723 1931\n",
      "-----> downloading tulare-advance-register_3723 (california/tulare)\n",
      "tulare-advance-register_3723 1932\n",
      "-----> downloading tulare-advance-register_3723 (california/tulare)\n",
      "tulare-advance-register_3723 1933\n",
      "-----> downloading tulare-advance-register_3723 (california/tulare)\n",
      "tulare-advance-register_3723 1934\n",
      "-----> downloading tulare-advance-register_3723 (california/tulare)\n",
      "tulare-advance-register_3723 1935\n",
      "-----> downloading tulare-advance-register_3723 (california/tulare)\n",
      "tulare-advance-register_3723 1936\n",
      "-----> downloading tulare-advance-register_3723 (california/tulare)\n",
      "tulare-advance-register_3723 1937\n",
      "-----> downloading tulare-advance-register_3723 (california/tulare)\n",
      "tulare-advance-register_3723 1938\n",
      "-----> downloading tulare-advance-register_3723 (california/tulare)\n",
      "tulare-advance-register_3723 1939\n",
      "-----> downloading tulare-advance-register_3723 (california/tulare)\n",
      "tulare-daily-times_11811 1931\n",
      "-----> downloading tulare-daily-times_11811 (california/tulare)\n",
      "tulare-daily-times_11811 1932\n",
      "-----> downloading tulare-daily-times_11811 (california/tulare)\n",
      "tulare-daily-times_11811 1933\n",
      "-----> downloading tulare-daily-times_11811 (california/tulare)\n",
      "tulare-daily-times_11811 1935\n",
      "-----> downloading tulare-daily-times_11811 (california/tulare)\n",
      "the-tustin-news_3794 1935\n",
      "-----> downloading the-tustin-news_3794 (california/tustin)\n",
      "the-tustin-news_3794 1936\n",
      "-----> downloading the-tustin-news_3794 (california/tustin)\n",
      "the-tustin-news_3794 1937\n",
      "-----> downloading the-tustin-news_3794 (california/tustin)\n",
      "the-tustin-news_3794 1938\n",
      "-----> downloading the-tustin-news_3794 (california/tustin)\n",
      "big-bear-life-and-rim-o-the-world-beacon_21938 1931\n",
      "-----> downloading big-bear-life-and-rim-o-the-world-beacon_21938 (california/twin-peaks)\n",
      "big-bear-life-and-rim-o-the-world-beacon_21938 1932\n",
      "-----> downloading big-bear-life-and-rim-o-the-world-beacon_21938 (california/twin-peaks)\n",
      "rim-o-the-world-beacon_22253 1932\n",
      "-----> downloading rim-o-the-world-beacon_22253 (california/twin-peaks)\n",
      "ukiah-daily-journal_33 1931\n",
      "-----> downloading ukiah-daily-journal_33 (california/ukiah)\n",
      "ukiah-daily-journal_33 1932\n",
      "-----> downloading ukiah-daily-journal_33 (california/ukiah)\n",
      "ukiah-daily-journal_33 1934\n",
      "-----> downloading ukiah-daily-journal_33 (california/ukiah)\n",
      "ukiah-daily-journal_33 1935\n",
      "-----> downloading ukiah-daily-journal_33 (california/ukiah)\n",
      "ukiah-daily-journal_33 1936\n",
      "-----> downloading ukiah-daily-journal_33 (california/ukiah)\n",
      "ukiah-daily-journal_33 1938\n",
      "-----> downloading ukiah-daily-journal_33 (california/ukiah)\n",
      "ukiah-daily-journal_33 1939\n",
      "-----> downloading ukiah-daily-journal_33 (california/ukiah)\n",
      "ukiah-dispatch-democrat_76 1932\n",
      "-----> downloading ukiah-dispatch-democrat_76 (california/ukiah)\n",
      "ukiah-dispatch-democrat_76 1934\n",
      "-----> downloading ukiah-dispatch-democrat_76 (california/ukiah)\n",
      "ukiah-dispatch-democrat_76 1935\n",
      "-----> downloading ukiah-dispatch-democrat_76 (california/ukiah)\n",
      "ukiah-dispatch-democrat_76 1939\n",
      "-----> downloading ukiah-dispatch-democrat_76 (california/ukiah)\n",
      "ukiah-republican-press_71 1931\n",
      "-----> downloading ukiah-republican-press_71 (california/ukiah)\n",
      "ukiah-republican-press_71 1934\n",
      "-----> downloading ukiah-republican-press_71 (california/ukiah)\n",
      "ukiah-republican-press_71 1935\n",
      "-----> downloading ukiah-republican-press_71 (california/ukiah)\n",
      "ukiah-republican-press_71 1936\n",
      "-----> downloading ukiah-republican-press_71 (california/ukiah)\n",
      "ukiah-republican-press_71 1937\n",
      "-----> downloading ukiah-republican-press_71 (california/ukiah)\n",
      "ukiah-republican-press_71 1938\n",
      "-----> downloading ukiah-republican-press_71 (california/ukiah)\n",
      "ukiah-republican-press_71 1939\n",
      "-----> downloading ukiah-republican-press_71 (california/ukiah)\n",
      "the-van-nuys-news-and-valley-green-sheet_26481 1931\n",
      "-----> downloading the-van-nuys-news-and-valley-green-sheet_26481 (california/van-nuys)\n"
     ]
    },
    {
     "name": "stdout",
     "output_type": "stream",
     "text": [
      "the-van-nuys-news-and-valley-green-sheet_26481 1932\n",
      "-----> downloading the-van-nuys-news-and-valley-green-sheet_26481 (california/van-nuys)\n",
      "the-van-nuys-news-and-valley-green-sheet_26481 1933\n",
      "-----> downloading the-van-nuys-news-and-valley-green-sheet_26481 (california/van-nuys)\n",
      "the-van-nuys-news-and-valley-green-sheet_26481 1934\n",
      "-----> downloading the-van-nuys-news-and-valley-green-sheet_26481 (california/van-nuys)\n",
      "the-van-nuys-news-and-valley-green-sheet_26481 1935\n",
      "-----> downloading the-van-nuys-news-and-valley-green-sheet_26481 (california/van-nuys)\n",
      "the-van-nuys-news-and-valley-green-sheet_26481 1936\n",
      "-----> downloading the-van-nuys-news-and-valley-green-sheet_26481 (california/van-nuys)\n",
      "the-van-nuys-news-and-valley-green-sheet_26481 1937\n",
      "-----> downloading the-van-nuys-news-and-valley-green-sheet_26481 (california/van-nuys)\n",
      "the-van-nuys-news-and-valley-green-sheet_26481 1938\n",
      "-----> downloading the-van-nuys-news-and-valley-green-sheet_26481 (california/van-nuys)\n",
      "the-van-nuys-news-and-valley-green-sheet_26481 1939\n",
      "-----> downloading the-van-nuys-news-and-valley-green-sheet_26481 (california/van-nuys)\n",
      "the-van-nuys-news_409 1931\n",
      "-----> downloading the-van-nuys-news_409 (california/van-nuys)\n",
      "the-van-nuys-news_409 1932\n",
      "-----> downloading the-van-nuys-news_409 (california/van-nuys)\n",
      "the-van-nuys-news_409 1933\n",
      "-----> downloading the-van-nuys-news_409 (california/van-nuys)\n",
      "the-van-nuys-news_409 1934\n",
      "-----> downloading the-van-nuys-news_409 (california/van-nuys)\n",
      "the-van-nuys-news_409 1935\n",
      "-----> downloading the-van-nuys-news_409 (california/van-nuys)\n",
      "the-van-nuys-news_409 1936\n",
      "-----> downloading the-van-nuys-news_409 (california/van-nuys)\n",
      "the-van-nuys-news_409 1937\n",
      "-----> downloading the-van-nuys-news_409 (california/van-nuys)\n",
      "the-van-nuys-news_409 1938\n",
      "-----> downloading the-van-nuys-news_409 (california/van-nuys)\n",
      "the-van-nuys-news_409 1939\n",
      "-----> downloading the-van-nuys-news_409 (california/van-nuys)\n",
      "evening-vanguard_26486 1931\n",
      "-----> downloading evening-vanguard_26486 (california/venice)\n",
      "evening-vanguard_26486 1932\n",
      "-----> downloading evening-vanguard_26486 (california/venice)\n",
      "evening-vanguard_26486 1933\n",
      "-----> downloading evening-vanguard_26486 (california/venice)\n",
      "evening-vanguard_26486 1934\n",
      "-----> downloading evening-vanguard_26486 (california/venice)\n",
      "evening-vanguard_26486 1935\n",
      "-----> downloading evening-vanguard_26486 (california/venice)\n",
      "evening-vanguard_26486 1936\n",
      "-----> downloading evening-vanguard_26486 (california/venice)\n",
      "evening-vanguard_26486 1937\n",
      "-----> downloading evening-vanguard_26486 (california/venice)\n",
      "evening-vanguard_26486 1938\n",
      "-----> downloading evening-vanguard_26486 (california/venice)\n",
      "evening-vanguard_26486 1939\n",
      "-----> downloading evening-vanguard_26486 (california/venice)\n",
      "morning-free-press_22501 1936\n",
      "-----> downloading morning-free-press_22501 (california/ventura)\n",
      "morning-free-press_22501 1937\n",
      "-----> downloading morning-free-press_22501 (california/ventura)\n",
      "the-ventura-county-star-and-the-ventura-daily-post_22562 1931\n",
      "-----> downloading the-ventura-county-star-and-the-ventura-daily-post_22562 (california/ventura)\n",
      "the-ventura-county-star-and-the-ventura-daily-post_22562 1932\n",
      "-----> downloading the-ventura-county-star-and-the-ventura-daily-post_22562 (california/ventura)\n",
      "the-ventura-county-star-and-the-ventura-daily-post_22562 1933\n",
      "-----> downloading the-ventura-county-star-and-the-ventura-daily-post_22562 (california/ventura)\n",
      "the-ventura-county-star-and-the-ventura-daily-post_22562 1934\n",
      "-----> downloading the-ventura-county-star-and-the-ventura-daily-post_22562 (california/ventura)\n",
      "the-ventura-county-star-and-the-ventura-daily-post_22562 1935\n",
      "-----> downloading the-ventura-county-star-and-the-ventura-daily-post_22562 (california/ventura)\n",
      "the-ventura-weekly-post-and-weekly-democrat_22624 1931\n",
      "-----> downloading the-ventura-weekly-post-and-weekly-democrat_22624 (california/ventura)\n",
      "the-ventura-weekly-post-and-weekly-democrat_22624 1932\n",
      "-----> downloading the-ventura-weekly-post-and-weekly-democrat_22624 (california/ventura)\n",
      "ventura-county-star-and-the-ventura-daily-post-and-weekly-democrat_22563 1935\n",
      "-----> downloading ventura-county-star-and-the-ventura-daily-post-and-weekly-democrat_22563 (california/ventura)\n",
      "ventura-county-star-and-the-ventura-daily-post-and-weekly-democrat_22563 1936\n",
      "-----> downloading ventura-county-star-and-the-ventura-daily-post-and-weekly-democrat_22563 (california/ventura)\n",
      "ventura-county-star-free-press_22503 1936\n",
      "-----> downloading ventura-county-star-free-press_22503 (california/ventura)\n",
      "ventura-county-star-free-press_22503 1937\n",
      "-----> downloading ventura-county-star-free-press_22503 (california/ventura)\n",
      "ventura-county-star-free-press_22503 1938\n",
      "-----> downloading ventura-county-star-free-press_22503 (california/ventura)\n",
      "ventura-county-star-free-press_22503 1939\n",
      "-----> downloading ventura-county-star-free-press_22503 (california/ventura)\n",
      "ventura-free-press_22564 1936\n",
      "-----> downloading ventura-free-press_22564 (california/ventura)\n",
      "daily-press_27661 1937\n",
      "-----> downloading daily-press_27661 (california/victorville)\n",
      "daily-press_27661 1938\n",
      "-----> downloading daily-press_27661 (california/victorville)\n",
      "daily-press_27661 1939\n",
      "-----> downloading daily-press_27661 (california/victorville)\n",
      "victor-valley-news-herald_25901 1936\n",
      "-----> downloading victor-valley-news-herald_25901 (california/victorville)\n",
      "victor-valley-news-herald_25901 1937\n",
      "-----> downloading victor-valley-news-herald_25901 (california/victorville)\n",
      "victor-valley-news-herald_25901 1938\n",
      "-----> downloading victor-valley-news-herald_25901 (california/victorville)\n",
      "victor-valley-news-herald_25901 1939\n",
      "-----> downloading victor-valley-news-herald_25901 (california/victorville)\n",
      "visalia-times-delta_3722 1931\n",
      "-----> downloading visalia-times-delta_3722 (california/visalia)\n",
      "visalia-times-delta_3722 1932\n",
      "-----> downloading visalia-times-delta_3722 (california/visalia)\n",
      "visalia-times-delta_3722 1933\n",
      "-----> downloading visalia-times-delta_3722 (california/visalia)\n",
      "visalia-times-delta_3722 1934\n",
      "-----> downloading visalia-times-delta_3722 (california/visalia)\n",
      "visalia-times-delta_3722 1935\n",
      "-----> downloading visalia-times-delta_3722 (california/visalia)\n",
      "visalia-times-delta_3722 1936\n",
      "-----> downloading visalia-times-delta_3722 (california/visalia)\n",
      "visalia-times-delta_3722 1937\n",
      "-----> downloading visalia-times-delta_3722 (california/visalia)\n",
      "visalia-times-delta_3722 1938\n",
      "-----> downloading visalia-times-delta_3722 (california/visalia)\n",
      "visalia-times-delta_3722 1939\n",
      "-----> downloading visalia-times-delta_3722 (california/visalia)\n",
      "courier-journal_27581 1931\n",
      "-----> downloading courier-journal_27581 (california/walnut-creek)\n",
      "courier-journal_27581 1932\n",
      "-----> downloading courier-journal_27581 (california/walnut-creek)\n",
      "courier-journal_27581 1933\n",
      "-----> downloading courier-journal_27581 (california/walnut-creek)\n",
      "courier-journal_27581 1934\n",
      "-----> downloading courier-journal_27581 (california/walnut-creek)\n",
      "courier-journal_27581 1935\n",
      "-----> downloading courier-journal_27581 (california/walnut-creek)\n",
      "courier-journal_27581 1936\n",
      "-----> downloading courier-journal_27581 (california/walnut-creek)\n",
      "courier-journal_27581 1937\n",
      "-----> downloading courier-journal_27581 (california/walnut-creek)\n",
      "courier-journal_27581 1938\n",
      "-----> downloading courier-journal_27581 (california/walnut-creek)\n",
      "courier-journal_27581 1939\n",
      "-----> downloading courier-journal_27581 (california/walnut-creek)\n",
      "west-los-angeles-independent_27216 1936\n",
      "-----> downloading west-los-angeles-independent_27216 (california/west-los-angeles)\n",
      "west-los-angeles-independent_27216 1938\n",
      "-----> downloading west-los-angeles-independent_27216 (california/west-los-angeles)\n",
      "west-los-angeles-independent_27216 1939\n",
      "-----> downloading west-los-angeles-independent_27216 (california/west-los-angeles)\n",
      "the-whittier-news_22542 1931\n",
      "-----> downloading the-whittier-news_22542 (california/whittier)\n",
      "the-whittier-news_22542 1932\n",
      "-----> downloading the-whittier-news_22542 (california/whittier)\n",
      "the-whittier-news_22542 1933\n",
      "-----> downloading the-whittier-news_22542 (california/whittier)\n",
      "the-whittier-news_22542 1934\n",
      "-----> downloading the-whittier-news_22542 (california/whittier)\n",
      "the-whittier-news_22542 1935\n",
      "-----> downloading the-whittier-news_22542 (california/whittier)\n"
     ]
    },
    {
     "name": "stdout",
     "output_type": "stream",
     "text": [
      "the-whittier-news_22542 1936\n",
      "-----> downloading the-whittier-news_22542 (california/whittier)\n",
      "the-whittier-news_22542 1937\n",
      "-----> downloading the-whittier-news_22542 (california/whittier)\n",
      "the-whittier-news_22542 1938\n",
      "-----> downloading the-whittier-news_22542 (california/whittier)\n",
      "the-whittier-news_22542 1939\n",
      "-----> downloading the-whittier-news_22542 (california/whittier)\n",
      "the-whittier-news_22544 1934\n",
      "-----> downloading the-whittier-news_22544 (california/whittier)\n",
      "the-whittier-retailer_25921 1934\n",
      "-----> downloading the-whittier-retailer_25921 (california/whittier)\n",
      "wilmington-daily-press-journal_6605 1931\n",
      "-----> downloading wilmington-daily-press-journal_6605 (california/wilmington)\n",
      "wilmington-daily-press-journal_6605 1932\n",
      "-----> downloading wilmington-daily-press-journal_6605 (california/wilmington)\n",
      "wilmington-daily-press-journal_6605 1933\n",
      "-----> downloading wilmington-daily-press-journal_6605 (california/wilmington)\n",
      "wilmington-daily-press-journal_6605 1934\n",
      "-----> downloading wilmington-daily-press-journal_6605 (california/wilmington)\n",
      "wilmington-daily-press-journal_6605 1935\n",
      "-----> downloading wilmington-daily-press-journal_6605 (california/wilmington)\n",
      "wilmington-daily-press-journal_6605 1936\n",
      "-----> downloading wilmington-daily-press-journal_6605 (california/wilmington)\n",
      "wilmington-daily-press-journal_6605 1937\n",
      "-----> downloading wilmington-daily-press-journal_6605 (california/wilmington)\n",
      "wilmington-daily-press-journal_6605 1938\n",
      "-----> downloading wilmington-daily-press-journal_6605 (california/wilmington)\n",
      "wilmington-daily-press-journal_6605 1939\n",
      "-----> downloading wilmington-daily-press-journal_6605 (california/wilmington)\n",
      "woodland-daily-democrat_216 1931\n",
      "-----> downloading woodland-daily-democrat_216 (california/woodland)\n",
      "woodland-daily-democrat_216 1932\n",
      "-----> downloading woodland-daily-democrat_216 (california/woodland)\n",
      "woodland-daily-democrat_216 1933\n",
      "-----> downloading woodland-daily-democrat_216 (california/woodland)\n",
      "woodland-daily-democrat_216 1934\n",
      "-----> downloading woodland-daily-democrat_216 (california/woodland)\n",
      "woodland-daily-democrat_216 1935\n",
      "-----> downloading woodland-daily-democrat_216 (california/woodland)\n",
      "woodland-daily-democrat_216 1936\n",
      "-----> downloading woodland-daily-democrat_216 (california/woodland)\n",
      "siskiyou-daily-news_26279 1931\n",
      "-----> downloading siskiyou-daily-news_26279 (california/yreka)\n",
      "siskiyou-daily-news_26279 1932\n",
      "-----> downloading siskiyou-daily-news_26279 (california/yreka)\n",
      "siskiyou-daily-news_26279 1933\n",
      "-----> downloading siskiyou-daily-news_26279 (california/yreka)\n",
      "siskiyou-daily-news_26279 1934\n",
      "-----> downloading siskiyou-daily-news_26279 (california/yreka)\n",
      "siskiyou-daily-news_26279 1935\n",
      "-----> downloading siskiyou-daily-news_26279 (california/yreka)\n",
      "siskiyou-daily-news_26279 1936\n",
      "-----> downloading siskiyou-daily-news_26279 (california/yreka)\n",
      "siskiyou-daily-news_26279 1937\n",
      "-----> downloading siskiyou-daily-news_26279 (california/yreka)\n",
      "siskiyou-daily-news_26279 1938\n",
      "-----> downloading siskiyou-daily-news_26279 (california/yreka)\n",
      "siskiyou-daily-news_26279 1939\n",
      "-----> downloading siskiyou-daily-news_26279 (california/yreka)\n",
      "independent-herald_22538 1931\n",
      "-----> downloading independent-herald_22538 (california/yuba-city)\n",
      "independent-herald_22538 1932\n",
      "-----> downloading independent-herald_22538 (california/yuba-city)\n",
      "independent-herald_22538 1933\n",
      "-----> downloading independent-herald_22538 (california/yuba-city)\n",
      "independent-herald_22538 1934\n",
      "-----> downloading independent-herald_22538 (california/yuba-city)\n",
      "independent-herald_22538 1935\n",
      "-----> downloading independent-herald_22538 (california/yuba-city)\n",
      "the-sutter-county-farmer_22533 1931\n",
      "-----> downloading the-sutter-county-farmer_22533 (california/yuba-city)\n",
      "the-sutter-county-farmer_22533 1932\n",
      "-----> downloading the-sutter-county-farmer_22533 (california/yuba-city)\n",
      "the-sutter-county-farmer_22533 1933\n",
      "-----> downloading the-sutter-county-farmer_22533 (california/yuba-city)\n",
      "processing michigan\n",
      "battle-creek-enquirer_3778 1931\n",
      "-----> downloading battle-creek-enquirer_3778 (michigan/battle-creek)\n",
      "battle-creek-enquirer_3778 1932\n",
      "-----> downloading battle-creek-enquirer_3778 (michigan/battle-creek)\n",
      "battle-creek-enquirer_3778 1933\n",
      "-----> downloading battle-creek-enquirer_3778 (michigan/battle-creek)\n",
      "battle-creek-enquirer_3778 1934\n",
      "-----> downloading battle-creek-enquirer_3778 (michigan/battle-creek)\n",
      "battle-creek-enquirer_3778 1935\n",
      "-----> downloading battle-creek-enquirer_3778 (michigan/battle-creek)\n",
      "battle-creek-enquirer_3778 1936\n",
      "-----> downloading battle-creek-enquirer_3778 (michigan/battle-creek)\n",
      "battle-creek-enquirer_3778 1937\n",
      "-----> downloading battle-creek-enquirer_3778 (michigan/battle-creek)\n",
      "battle-creek-enquirer_3778 1938\n",
      "-----> downloading battle-creek-enquirer_3778 (michigan/battle-creek)\n",
      "battle-creek-enquirer_3778 1939\n",
      "-----> downloading battle-creek-enquirer_3778 (michigan/battle-creek)\n",
      "battle-creek-moon-journal_4583 1931\n",
      "-----> downloading battle-creek-moon-journal_4583 (michigan/battle-creek)\n",
      "battle-creek-moon-journal_4583 1936\n",
      "-----> downloading battle-creek-moon-journal_4583 (michigan/battle-creek)\n",
      "the-news-palladium_662 1931\n",
      "-----> downloading the-news-palladium_662 (michigan/benton-harbor)\n",
      "the-news-palladium_662 1932\n",
      "-----> downloading the-news-palladium_662 (michigan/benton-harbor)\n",
      "the-news-palladium_662 1933\n",
      "-----> downloading the-news-palladium_662 (michigan/benton-harbor)\n",
      "the-news-palladium_662 1934\n",
      "-----> downloading the-news-palladium_662 (michigan/benton-harbor)\n",
      "the-news-palladium_662 1935\n",
      "-----> downloading the-news-palladium_662 (michigan/benton-harbor)\n",
      "the-news-palladium_662 1936\n",
      "-----> downloading the-news-palladium_662 (michigan/benton-harbor)\n",
      "the-news-palladium_662 1937\n",
      "-----> downloading the-news-palladium_662 (michigan/benton-harbor)\n",
      "the-news-palladium_662 1938\n",
      "-----> downloading the-news-palladium_662 (michigan/benton-harbor)\n",
      "the-news-palladium_662 1939\n",
      "-----> downloading the-news-palladium_662 (michigan/benton-harbor)\n",
      "the-bessemer-herald_804 1931\n",
      "-----> downloading the-bessemer-herald_804 (michigan/bessemer)\n",
      "the-bessemer-herald_804 1932\n",
      "-----> downloading the-bessemer-herald_804 (michigan/bessemer)\n",
      "the-bessemer-herald_804 1933\n",
      "-----> downloading the-bessemer-herald_804 (michigan/bessemer)\n",
      "the-bessemer-herald_804 1934\n",
      "-----> downloading the-bessemer-herald_804 (michigan/bessemer)\n",
      "the-bessemer-herald_804 1935\n",
      "-----> downloading the-bessemer-herald_804 (michigan/bessemer)\n",
      "the-bessemer-herald_804 1936\n",
      "-----> downloading the-bessemer-herald_804 (michigan/bessemer)\n",
      "the-bessemer-herald_804 1937\n",
      "-----> downloading the-bessemer-herald_804 (michigan/bessemer)\n",
      "the-bessemer-herald_804 1938\n",
      "-----> downloading the-bessemer-herald_804 (michigan/bessemer)\n",
      "the-bessemer-herald_804 1939\n",
      "-----> downloading the-bessemer-herald_804 (michigan/bessemer)\n",
      "detroit-free-press_3676 1931\n",
      "-----> downloading detroit-free-press_3676 (michigan/detroit)\n",
      "detroit-free-press_3676 1932\n",
      "-----> downloading detroit-free-press_3676 (michigan/detroit)\n",
      "detroit-free-press_3676 1933\n",
      "-----> downloading detroit-free-press_3676 (michigan/detroit)\n",
      "detroit-free-press_3676 1934\n",
      "-----> downloading detroit-free-press_3676 (michigan/detroit)\n",
      "detroit-free-press_3676 1935\n",
      "-----> downloading detroit-free-press_3676 (michigan/detroit)\n",
      "detroit-free-press_3676 1936\n",
      "-----> downloading detroit-free-press_3676 (michigan/detroit)\n",
      "detroit-free-press_3676 1937\n",
      "-----> downloading detroit-free-press_3676 (michigan/detroit)\n",
      "detroit-free-press_3676 1938\n",
      "-----> downloading detroit-free-press_3676 (michigan/detroit)\n",
      "detroit-free-press_3676 1939\n",
      "-----> downloading detroit-free-press_3676 (michigan/detroit)\n",
      "the-detroit-tribune_23929 1935\n",
      "-----> downloading the-detroit-tribune_23929 (michigan/detroit)\n",
      "the-detroit-tribune_23929 1936\n",
      "-----> downloading the-detroit-tribune_23929 (michigan/detroit)\n",
      "the-detroit-tribune_23929 1937\n",
      "-----> downloading the-detroit-tribune_23929 (michigan/detroit)\n",
      "the-detroit-tribune_23929 1938\n",
      "-----> downloading the-detroit-tribune_23929 (michigan/detroit)\n",
      "the-detroit-tribune_23929 1939\n",
      "-----> downloading the-detroit-tribune_23929 (michigan/detroit)\n",
      "the-tribune-independent-of-michigan_24558 1933\n",
      "-----> downloading the-tribune-independent-of-michigan_24558 (michigan/detroit)\n"
     ]
    },
    {
     "name": "stdout",
     "output_type": "stream",
     "text": [
      "the-tribune-independent-of-michigan_24558 1934\n",
      "-----> downloading the-tribune-independent-of-michigan_24558 (michigan/detroit)\n",
      "the-tribune-independent-of-michigan_24558 1935\n",
      "-----> downloading the-tribune-independent-of-michigan_24558 (michigan/detroit)\n",
      "the-escanaba-daily-press_869 1931\n",
      "-----> downloading the-escanaba-daily-press_869 (michigan/escanaba)\n",
      "the-escanaba-daily-press_869 1932\n",
      "-----> downloading the-escanaba-daily-press_869 (michigan/escanaba)\n",
      "the-escanaba-daily-press_869 1933\n",
      "-----> downloading the-escanaba-daily-press_869 (michigan/escanaba)\n",
      "the-escanaba-daily-press_869 1934\n",
      "-----> downloading the-escanaba-daily-press_869 (michigan/escanaba)\n",
      "the-escanaba-daily-press_869 1935\n",
      "-----> downloading the-escanaba-daily-press_869 (michigan/escanaba)\n",
      "the-escanaba-daily-press_869 1936\n",
      "-----> downloading the-escanaba-daily-press_869 (michigan/escanaba)\n",
      "the-escanaba-daily-press_869 1937\n",
      "-----> downloading the-escanaba-daily-press_869 (michigan/escanaba)\n",
      "the-escanaba-daily-press_869 1938\n",
      "-----> downloading the-escanaba-daily-press_869 (michigan/escanaba)\n",
      "the-escanaba-daily-press_869 1939\n",
      "-----> downloading the-escanaba-daily-press_869 (michigan/escanaba)\n",
      "the-times_26891 1931\n",
      "-----> downloading the-times_26891 (michigan/harbor-beach)\n",
      "the-times_26891 1932\n",
      "-----> downloading the-times_26891 (michigan/harbor-beach)\n",
      "the-times_26891 1933\n",
      "-----> downloading the-times_26891 (michigan/harbor-beach)\n",
      "the-times_26891 1934\n",
      "-----> downloading the-times_26891 (michigan/harbor-beach)\n",
      "the-times_26891 1935\n",
      "-----> downloading the-times_26891 (michigan/harbor-beach)\n",
      "the-times_26891 1936\n",
      "-----> downloading the-times_26891 (michigan/harbor-beach)\n",
      "the-times_26891 1937\n",
      "-----> downloading the-times_26891 (michigan/harbor-beach)\n",
      "the-times_26891 1938\n",
      "-----> downloading the-times_26891 (michigan/harbor-beach)\n",
      "the-times_26891 1939\n",
      "-----> downloading the-times_26891 (michigan/harbor-beach)\n",
      "the-homer-index_25899 1931\n",
      "-----> downloading the-homer-index_25899 (michigan/homer)\n",
      "the-homer-index_25899 1932\n",
      "-----> downloading the-homer-index_25899 (michigan/homer)\n",
      "the-homer-index_25899 1933\n",
      "-----> downloading the-homer-index_25899 (michigan/homer)\n",
      "the-homer-index_25899 1934\n",
      "-----> downloading the-homer-index_25899 (michigan/homer)\n",
      "the-homer-index_25899 1935\n",
      "-----> downloading the-homer-index_25899 (michigan/homer)\n",
      "the-homer-index_25899 1936\n",
      "-----> downloading the-homer-index_25899 (michigan/homer)\n",
      "the-homer-index_25899 1937\n",
      "-----> downloading the-homer-index_25899 (michigan/homer)\n",
      "the-homer-index_25899 1938\n",
      "-----> downloading the-homer-index_25899 (michigan/homer)\n",
      "the-homer-index_25899 1939\n",
      "-----> downloading the-homer-index_25899 (michigan/homer)\n",
      "livingston-county-daily-press-and-argus_3786 1931\n",
      "-----> downloading livingston-county-daily-press-and-argus_3786 (michigan/howell)\n",
      "livingston-county-daily-press-and-argus_3786 1932\n",
      "-----> downloading livingston-county-daily-press-and-argus_3786 (michigan/howell)\n",
      "livingston-county-daily-press-and-argus_3786 1933\n",
      "-----> downloading livingston-county-daily-press-and-argus_3786 (michigan/howell)\n",
      "livingston-county-daily-press-and-argus_3786 1934\n",
      "-----> downloading livingston-county-daily-press-and-argus_3786 (michigan/howell)\n",
      "livingston-county-daily-press-and-argus_3786 1935\n",
      "-----> downloading livingston-county-daily-press-and-argus_3786 (michigan/howell)\n",
      "livingston-county-daily-press-and-argus_3786 1936\n",
      "-----> downloading livingston-county-daily-press-and-argus_3786 (michigan/howell)\n",
      "livingston-county-daily-press-and-argus_3786 1937\n",
      "-----> downloading livingston-county-daily-press-and-argus_3786 (michigan/howell)\n",
      "livingston-county-daily-press-and-argus_3786 1938\n",
      "-----> downloading livingston-county-daily-press-and-argus_3786 (michigan/howell)\n",
      "livingston-county-daily-press-and-argus_3786 1939\n",
      "-----> downloading livingston-county-daily-press-and-argus_3786 (michigan/howell)\n",
      "ironwood-daily-globe_51 1931\n",
      "-----> downloading ironwood-daily-globe_51 (michigan/ironwood)\n",
      "ironwood-daily-globe_51 1932\n",
      "-----> downloading ironwood-daily-globe_51 (michigan/ironwood)\n",
      "ironwood-daily-globe_51 1933\n",
      "-----> downloading ironwood-daily-globe_51 (michigan/ironwood)\n",
      "ironwood-daily-globe_51 1934\n",
      "-----> downloading ironwood-daily-globe_51 (michigan/ironwood)\n",
      "ironwood-daily-globe_51 1935\n",
      "-----> downloading ironwood-daily-globe_51 (michigan/ironwood)\n",
      "ironwood-daily-globe_51 1936\n",
      "-----> downloading ironwood-daily-globe_51 (michigan/ironwood)\n",
      "ironwood-daily-globe_51 1937\n",
      "-----> downloading ironwood-daily-globe_51 (michigan/ironwood)\n",
      "ironwood-daily-globe_51 1938\n",
      "-----> downloading ironwood-daily-globe_51 (michigan/ironwood)\n",
      "ironwood-daily-globe_51 1939\n",
      "-----> downloading ironwood-daily-globe_51 (michigan/ironwood)\n",
      "the-ironwood-times_78 1931\n",
      "-----> downloading the-ironwood-times_78 (michigan/ironwood)\n",
      "the-ironwood-times_78 1932\n",
      "-----> downloading the-ironwood-times_78 (michigan/ironwood)\n",
      "the-ironwood-times_78 1933\n",
      "-----> downloading the-ironwood-times_78 (michigan/ironwood)\n",
      "the-ironwood-times_78 1934\n",
      "-----> downloading the-ironwood-times_78 (michigan/ironwood)\n",
      "the-ironwood-times_78 1935\n",
      "-----> downloading the-ironwood-times_78 (michigan/ironwood)\n",
      "the-ironwood-times_78 1936\n",
      "-----> downloading the-ironwood-times_78 (michigan/ironwood)\n",
      "the-ironwood-times_78 1937\n",
      "-----> downloading the-ironwood-times_78 (michigan/ironwood)\n",
      "the-ironwood-times_78 1938\n",
      "-----> downloading the-ironwood-times_78 (michigan/ironwood)\n",
      "the-ironwood-times_78 1939\n",
      "-----> downloading the-ironwood-times_78 (michigan/ironwood)\n",
      "lansing-state-journal_3758 1931\n",
      "-----> downloading lansing-state-journal_3758 (michigan/lansing)\n",
      "lansing-state-journal_3758 1932\n",
      "-----> downloading lansing-state-journal_3758 (michigan/lansing)\n",
      "lansing-state-journal_3758 1933\n",
      "-----> downloading lansing-state-journal_3758 (michigan/lansing)\n",
      "lansing-state-journal_3758 1934\n",
      "-----> downloading lansing-state-journal_3758 (michigan/lansing)\n",
      "lansing-state-journal_3758 1935\n",
      "-----> downloading lansing-state-journal_3758 (michigan/lansing)\n",
      "lansing-state-journal_3758 1936\n",
      "-----> downloading lansing-state-journal_3758 (michigan/lansing)\n",
      "lansing-state-journal_3758 1937\n",
      "-----> downloading lansing-state-journal_3758 (michigan/lansing)\n",
      "lansing-state-journal_3758 1938\n",
      "-----> downloading lansing-state-journal_3758 (michigan/lansing)\n",
      "lansing-state-journal_3758 1939\n",
      "-----> downloading lansing-state-journal_3758 (michigan/lansing)\n",
      "the-ludington-daily-news_58 1931\n",
      "-----> downloading the-ludington-daily-news_58 (michigan/ludington)\n",
      "the-ludington-daily-news_58 1932\n",
      "-----> downloading the-ludington-daily-news_58 (michigan/ludington)\n",
      "the-ludington-daily-news_58 1933\n",
      "-----> downloading the-ludington-daily-news_58 (michigan/ludington)\n",
      "the-ludington-daily-news_58 1934\n",
      "-----> downloading the-ludington-daily-news_58 (michigan/ludington)\n",
      "the-ludington-daily-news_58 1939\n",
      "-----> downloading the-ludington-daily-news_58 (michigan/ludington)\n",
      "marshall-evening-chronicle_176 1931\n",
      "-----> downloading marshall-evening-chronicle_176 (michigan/marshall)\n",
      "marshall-evening-chronicle_176 1932\n",
      "-----> downloading marshall-evening-chronicle_176 (michigan/marshall)\n",
      "marshall-evening-chronicle_176 1933\n",
      "-----> downloading marshall-evening-chronicle_176 (michigan/marshall)\n",
      "marshall-evening-chronicle_176 1934\n",
      "-----> downloading marshall-evening-chronicle_176 (michigan/marshall)\n",
      "marshall-evening-chronicle_176 1935\n",
      "-----> downloading marshall-evening-chronicle_176 (michigan/marshall)\n",
      "marshall-evening-chronicle_176 1936\n",
      "-----> downloading marshall-evening-chronicle_176 (michigan/marshall)\n",
      "marshall-evening-chronicle_176 1937\n",
      "-----> downloading marshall-evening-chronicle_176 (michigan/marshall)\n",
      "marshall-evening-chronicle_176 1938\n",
      "-----> downloading marshall-evening-chronicle_176 (michigan/marshall)\n",
      "marshall-evening-chronicle_176 1939\n",
      "-----> downloading marshall-evening-chronicle_176 (michigan/marshall)\n",
      "the-minden-city-herald_25639 1931\n",
      "-----> downloading the-minden-city-herald_25639 (michigan/minden-city)\n",
      "the-minden-city-herald_25639 1932\n",
      "-----> downloading the-minden-city-herald_25639 (michigan/minden-city)\n",
      "the-minden-city-herald_25639 1933\n",
      "-----> downloading the-minden-city-herald_25639 (michigan/minden-city)\n",
      "the-minden-city-herald_25639 1934\n",
      "-----> downloading the-minden-city-herald_25639 (michigan/minden-city)\n"
     ]
    },
    {
     "name": "stdout",
     "output_type": "stream",
     "text": [
      "the-minden-city-herald_25639 1935\n",
      "-----> downloading the-minden-city-herald_25639 (michigan/minden-city)\n",
      "the-minden-city-herald_25639 1936\n",
      "-----> downloading the-minden-city-herald_25639 (michigan/minden-city)\n",
      "the-minden-city-herald_25639 1937\n",
      "-----> downloading the-minden-city-herald_25639 (michigan/minden-city)\n",
      "the-minden-city-herald_25639 1938\n",
      "-----> downloading the-minden-city-herald_25639 (michigan/minden-city)\n",
      "the-minden-city-herald_25639 1939\n",
      "-----> downloading the-minden-city-herald_25639 (michigan/minden-city)\n",
      "the-pigeon-progress_27613 1931\n",
      "-----> downloading the-pigeon-progress_27613 (michigan/pigeon)\n",
      "the-pigeon-progress_27613 1932\n",
      "-----> downloading the-pigeon-progress_27613 (michigan/pigeon)\n",
      "the-pigeon-progress_27613 1933\n",
      "-----> downloading the-pigeon-progress_27613 (michigan/pigeon)\n",
      "the-pigeon-progress_27613 1934\n",
      "-----> downloading the-pigeon-progress_27613 (michigan/pigeon)\n",
      "the-pigeon-progress_27613 1935\n",
      "-----> downloading the-pigeon-progress_27613 (michigan/pigeon)\n",
      "the-pigeon-progress_27613 1936\n",
      "-----> downloading the-pigeon-progress_27613 (michigan/pigeon)\n",
      "the-pigeon-progress_27613 1937\n",
      "-----> downloading the-pigeon-progress_27613 (michigan/pigeon)\n",
      "the-pigeon-progress_27613 1938\n",
      "-----> downloading the-pigeon-progress_27613 (michigan/pigeon)\n",
      "the-pigeon-progress_27613 1939\n",
      "-----> downloading the-pigeon-progress_27613 (michigan/pigeon)\n",
      "the-times-herald_4573 1931\n",
      "-----> downloading the-times-herald_4573 (michigan/port-huron)\n",
      "the-times-herald_4573 1932\n",
      "-----> downloading the-times-herald_4573 (michigan/port-huron)\n",
      "the-times-herald_4573 1933\n",
      "-----> downloading the-times-herald_4573 (michigan/port-huron)\n",
      "the-times-herald_4573 1934\n",
      "-----> downloading the-times-herald_4573 (michigan/port-huron)\n",
      "the-times-herald_4573 1935\n",
      "-----> downloading the-times-herald_4573 (michigan/port-huron)\n",
      "the-times-herald_4573 1936\n",
      "-----> downloading the-times-herald_4573 (michigan/port-huron)\n",
      "the-times-herald_4573 1937\n",
      "-----> downloading the-times-herald_4573 (michigan/port-huron)\n",
      "the-times-herald_4573 1938\n",
      "-----> downloading the-times-herald_4573 (michigan/port-huron)\n",
      "the-times-herald_4573 1939\n",
      "-----> downloading the-times-herald_4573 (michigan/port-huron)\n",
      "the-saginaw-daily-news_27653 1932\n",
      "-----> downloading the-saginaw-daily-news_27653 (michigan/saginaw)\n",
      "the-saginaw-daily-news_27653 1933\n",
      "-----> downloading the-saginaw-daily-news_27653 (michigan/saginaw)\n",
      "the-saginaw-daily-news_27653 1934\n",
      "-----> downloading the-saginaw-daily-news_27653 (michigan/saginaw)\n",
      "the-herald-press_9157 1931\n",
      "-----> downloading the-herald-press_9157 (michigan/saint-joseph)\n",
      "the-herald-press_9157 1932\n",
      "-----> downloading the-herald-press_9157 (michigan/saint-joseph)\n",
      "the-herald-press_9157 1933\n",
      "-----> downloading the-herald-press_9157 (michigan/saint-joseph)\n",
      "the-herald-press_9157 1934\n",
      "-----> downloading the-herald-press_9157 (michigan/saint-joseph)\n",
      "the-herald-press_9157 1935\n",
      "-----> downloading the-herald-press_9157 (michigan/saint-joseph)\n",
      "the-herald-press_9157 1936\n",
      "-----> downloading the-herald-press_9157 (michigan/saint-joseph)\n",
      "the-herald-press_9157 1937\n",
      "-----> downloading the-herald-press_9157 (michigan/saint-joseph)\n",
      "the-herald-press_9157 1938\n",
      "-----> downloading the-herald-press_9157 (michigan/saint-joseph)\n",
      "the-herald-press_9157 1939\n",
      "-----> downloading the-herald-press_9157 (michigan/saint-joseph)\n",
      "the-evening-news_132 1936\n",
      "-----> downloading the-evening-news_132 (michigan/sault-sainte-marie)\n",
      "the-evening-news_132 1937\n",
      "-----> downloading the-evening-news_132 (michigan/sault-sainte-marie)\n",
      "the-evening-news_132 1938\n",
      "-----> downloading the-evening-news_132 (michigan/sault-sainte-marie)\n",
      "the-evening-news_132 1939\n",
      "-----> downloading the-evening-news_132 (michigan/sault-sainte-marie)\n",
      "the-sebewaing-blade-and-unionville-crescent_19630 1933\n",
      "-----> downloading the-sebewaing-blade-and-unionville-crescent_19630 (michigan/sebewaing)\n",
      "the-sebewaing-blade_19629 1931\n",
      "-----> downloading the-sebewaing-blade_19629 (michigan/sebewaing)\n",
      "the-sebewaing-blade_19629 1932\n",
      "-----> downloading the-sebewaing-blade_19629 (michigan/sebewaing)\n",
      "the-sebewaing-blade_19629 1933\n",
      "-----> downloading the-sebewaing-blade_19629 (michigan/sebewaing)\n",
      "the-sebewaing-blade_19629 1934\n",
      "-----> downloading the-sebewaing-blade_19629 (michigan/sebewaing)\n",
      "the-sebewaing-blade_19629 1935\n",
      "-----> downloading the-sebewaing-blade_19629 (michigan/sebewaing)\n",
      "the-sebewaing-blade_19629 1936\n",
      "-----> downloading the-sebewaing-blade_19629 (michigan/sebewaing)\n",
      "the-sebewaing-blade_19629 1937\n",
      "-----> downloading the-sebewaing-blade_19629 (michigan/sebewaing)\n",
      "the-sebewaing-blade_19629 1938\n",
      "-----> downloading the-sebewaing-blade_19629 (michigan/sebewaing)\n",
      "the-sebewaing-blade_19629 1939\n",
      "-----> downloading the-sebewaing-blade_19629 (michigan/sebewaing)\n",
      "traverse-city-record-eagle_50 1931\n",
      "-----> downloading traverse-city-record-eagle_50 (michigan/traverse-city)\n",
      "traverse-city-record-eagle_50 1932\n",
      "-----> downloading traverse-city-record-eagle_50 (michigan/traverse-city)\n",
      "traverse-city-record-eagle_50 1933\n",
      "-----> downloading traverse-city-record-eagle_50 (michigan/traverse-city)\n",
      "traverse-city-record-eagle_50 1934\n",
      "-----> downloading traverse-city-record-eagle_50 (michigan/traverse-city)\n",
      "traverse-city-record-eagle_50 1935\n",
      "-----> downloading traverse-city-record-eagle_50 (michigan/traverse-city)\n",
      "traverse-city-record-eagle_50 1936\n",
      "-----> downloading traverse-city-record-eagle_50 (michigan/traverse-city)\n",
      "traverse-city-record-eagle_50 1937\n",
      "-----> downloading traverse-city-record-eagle_50 (michigan/traverse-city)\n",
      "traverse-city-record-eagle_50 1938\n",
      "-----> downloading traverse-city-record-eagle_50 (michigan/traverse-city)\n",
      "traverse-city-record-eagle_50 1939\n",
      "-----> downloading traverse-city-record-eagle_50 (michigan/traverse-city)\n",
      "the-ubly-courier_25640 1939\n",
      "-----> downloading the-ubly-courier_25640 (michigan/ubly)\n",
      "the-unionville-crescent_19632 1931\n",
      "-----> downloading the-unionville-crescent_19632 (michigan/unionville)\n",
      "the-unionville-crescent_19632 1932\n",
      "-----> downloading the-unionville-crescent_19632 (michigan/unionville)\n",
      "the-unionville-crescent_19632 1933\n",
      "-----> downloading the-unionville-crescent_19632 (michigan/unionville)\n",
      "the-unionville-crescent_19632 1934\n",
      "-----> downloading the-unionville-crescent_19632 (michigan/unionville)\n",
      "the-unionville-crescent_19632 1935\n",
      "-----> downloading the-unionville-crescent_19632 (michigan/unionville)\n",
      "the-unionville-crescent_19632 1936\n",
      "-----> downloading the-unionville-crescent_19632 (michigan/unionville)\n",
      "the-unionville-crescent_19632 1937\n",
      "-----> downloading the-unionville-crescent_19632 (michigan/unionville)\n",
      "the-unionville-crescent_19632 1938\n",
      "-----> downloading the-unionville-crescent_19632 (michigan/unionville)\n",
      "the-unionville-crescent_19632 1939\n",
      "-----> downloading the-unionville-crescent_19632 (michigan/unionville)\n",
      "the-wakefield-news_1231 1931\n",
      "-----> downloading the-wakefield-news_1231 (michigan/wakefield)\n",
      "the-wakefield-news_1231 1932\n",
      "-----> downloading the-wakefield-news_1231 (michigan/wakefield)\n",
      "the-wakefield-news_1231 1933\n",
      "-----> downloading the-wakefield-news_1231 (michigan/wakefield)\n",
      "the-wakefield-news_1231 1934\n",
      "-----> downloading the-wakefield-news_1231 (michigan/wakefield)\n",
      "the-wakefield-news_1231 1935\n",
      "-----> downloading the-wakefield-news_1231 (michigan/wakefield)\n",
      "the-wakefield-news_1231 1936\n",
      "-----> downloading the-wakefield-news_1231 (michigan/wakefield)\n",
      "the-wakefield-news_1231 1937\n",
      "-----> downloading the-wakefield-news_1231 (michigan/wakefield)\n",
      "the-wakefield-news_1231 1938\n",
      "-----> downloading the-wakefield-news_1231 (michigan/wakefield)\n",
      "the-wakefield-news_1231 1939\n",
      "-----> downloading the-wakefield-news_1231 (michigan/wakefield)\n",
      "processing indiana\n",
      "the-alexandria-times-tribune_3383 1931\n",
      "-----> downloading the-alexandria-times-tribune_3383 (indiana/alexandria)\n",
      "the-alexandria-times-tribune_3383 1932\n",
      "-----> downloading the-alexandria-times-tribune_3383 (indiana/alexandria)\n",
      "the-alexandria-times-tribune_3383 1933\n",
      "-----> downloading the-alexandria-times-tribune_3383 (indiana/alexandria)\n",
      "the-alexandria-times-tribune_3383 1934\n",
      "-----> downloading the-alexandria-times-tribune_3383 (indiana/alexandria)\n",
      "the-alexandria-times-tribune_3383 1935\n",
      "-----> downloading the-alexandria-times-tribune_3383 (indiana/alexandria)\n",
      "the-alexandria-times-tribune_3383 1936\n",
      "-----> downloading the-alexandria-times-tribune_3383 (indiana/alexandria)\n"
     ]
    },
    {
     "name": "stdout",
     "output_type": "stream",
     "text": [
      "the-alexandria-times-tribune_3383 1937\n",
      "-----> downloading the-alexandria-times-tribune_3383 (indiana/alexandria)\n",
      "the-alexandria-times-tribune_3383 1938\n",
      "-----> downloading the-alexandria-times-tribune_3383 (indiana/alexandria)\n",
      "the-alexandria-times-tribune_3383 1939\n",
      "-----> downloading the-alexandria-times-tribune_3383 (indiana/alexandria)\n",
      "angola-herald_3895 1931\n",
      "-----> downloading angola-herald_3895 (indiana/angola)\n",
      "angola-herald_3895 1932\n",
      "-----> downloading angola-herald_3895 (indiana/angola)\n",
      "angola-herald_3895 1933\n",
      "-----> downloading angola-herald_3895 (indiana/angola)\n",
      "angola-herald_3895 1934\n",
      "-----> downloading angola-herald_3895 (indiana/angola)\n",
      "angola-herald_3895 1935\n",
      "-----> downloading angola-herald_3895 (indiana/angola)\n",
      "angola-herald_3895 1936\n",
      "-----> downloading angola-herald_3895 (indiana/angola)\n",
      "angola-herald_3895 1937\n",
      "-----> downloading angola-herald_3895 (indiana/angola)\n",
      "angola-herald_3895 1938\n",
      "-----> downloading angola-herald_3895 (indiana/angola)\n",
      "angola-herald_3895 1939\n",
      "-----> downloading angola-herald_3895 (indiana/angola)\n",
      "steuben-republican_3790 1931\n",
      "-----> downloading steuben-republican_3790 (indiana/angola)\n",
      "steuben-republican_3790 1932\n",
      "-----> downloading steuben-republican_3790 (indiana/angola)\n",
      "steuben-republican_3790 1933\n",
      "-----> downloading steuben-republican_3790 (indiana/angola)\n",
      "steuben-republican_3790 1934\n",
      "-----> downloading steuben-republican_3790 (indiana/angola)\n",
      "steuben-republican_3790 1935\n",
      "-----> downloading steuben-republican_3790 (indiana/angola)\n",
      "steuben-republican_3790 1936\n",
      "-----> downloading steuben-republican_3790 (indiana/angola)\n",
      "steuben-republican_3790 1937\n",
      "-----> downloading steuben-republican_3790 (indiana/angola)\n",
      "steuben-republican_3790 1938\n",
      "-----> downloading steuben-republican_3790 (indiana/angola)\n",
      "steuben-republican_3790 1939\n",
      "-----> downloading steuben-republican_3790 (indiana/angola)\n",
      "the-argos-reflector_4057 1931\n",
      "-----> downloading the-argos-reflector_4057 (indiana/argos)\n",
      "the-argos-reflector_4057 1932\n",
      "-----> downloading the-argos-reflector_4057 (indiana/argos)\n",
      "the-argos-reflector_4057 1933\n",
      "-----> downloading the-argos-reflector_4057 (indiana/argos)\n",
      "the-argos-reflector_4057 1934\n",
      "-----> downloading the-argos-reflector_4057 (indiana/argos)\n",
      "the-argos-reflector_4057 1935\n",
      "-----> downloading the-argos-reflector_4057 (indiana/argos)\n",
      "the-argos-reflector_4057 1936\n",
      "-----> downloading the-argos-reflector_4057 (indiana/argos)\n",
      "the-argos-reflector_4057 1937\n",
      "-----> downloading the-argos-reflector_4057 (indiana/argos)\n",
      "the-argos-reflector_4057 1938\n",
      "-----> downloading the-argos-reflector_4057 (indiana/argos)\n",
      "the-argos-reflector_4057 1939\n",
      "-----> downloading the-argos-reflector_4057 (indiana/argos)\n",
      "the-bedford-sunday-star_26333 1936\n",
      "-----> downloading the-bedford-sunday-star_26333 (indiana/bedford)\n",
      "the-bedford-sunday-star_26333 1937\n",
      "-----> downloading the-bedford-sunday-star_26333 (indiana/bedford)\n",
      "the-times-mail_12458 1931\n",
      "-----> downloading the-times-mail_12458 (indiana/bedford)\n",
      "the-times-mail_12458 1932\n",
      "-----> downloading the-times-mail_12458 (indiana/bedford)\n",
      "the-times-mail_12458 1933\n",
      "-----> downloading the-times-mail_12458 (indiana/bedford)\n",
      "the-times-mail_12458 1934\n",
      "-----> downloading the-times-mail_12458 (indiana/bedford)\n",
      "the-times-mail_12458 1935\n",
      "-----> downloading the-times-mail_12458 (indiana/bedford)\n",
      "the-times-mail_12458 1936\n",
      "-----> downloading the-times-mail_12458 (indiana/bedford)\n",
      "the-times-mail_12458 1937\n",
      "-----> downloading the-times-mail_12458 (indiana/bedford)\n",
      "the-times-mail_12458 1938\n",
      "-----> downloading the-times-mail_12458 (indiana/bedford)\n",
      "the-times-mail_12458 1939\n",
      "-----> downloading the-times-mail_12458 (indiana/bedford)\n",
      "the-boonville-enquirer_21306 1931\n",
      "-----> downloading the-boonville-enquirer_21306 (indiana/boonville)\n",
      "the-boonville-enquirer_21306 1932\n",
      "-----> downloading the-boonville-enquirer_21306 (indiana/boonville)\n",
      "the-boonville-enquirer_21306 1933\n",
      "-----> downloading the-boonville-enquirer_21306 (indiana/boonville)\n",
      "the-boonville-enquirer_21306 1934\n",
      "-----> downloading the-boonville-enquirer_21306 (indiana/boonville)\n",
      "the-boonville-enquirer_21306 1935\n",
      "-----> downloading the-boonville-enquirer_21306 (indiana/boonville)\n",
      "the-boonville-enquirer_21306 1936\n",
      "-----> downloading the-boonville-enquirer_21306 (indiana/boonville)\n",
      "the-boonville-enquirer_21306 1937\n",
      "-----> downloading the-boonville-enquirer_21306 (indiana/boonville)\n",
      "the-boonville-enquirer_21306 1938\n",
      "-----> downloading the-boonville-enquirer_21306 (indiana/boonville)\n",
      "the-boonville-enquirer_21306 1939\n",
      "-----> downloading the-boonville-enquirer_21306 (indiana/boonville)\n",
      "the-boonville-standard_9298 1931\n",
      "-----> downloading the-boonville-standard_9298 (indiana/boonville)\n",
      "the-boonville-standard_9298 1937\n",
      "-----> downloading the-boonville-standard_9298 (indiana/boonville)\n",
      "brazil-daily-times_3821 1931\n",
      "-----> downloading brazil-daily-times_3821 (indiana/brazil)\n",
      "the-bremen-enquirer_4044 1931\n",
      "-----> downloading the-bremen-enquirer_4044 (indiana/bremen)\n",
      "the-bremen-enquirer_4044 1932\n",
      "-----> downloading the-bremen-enquirer_4044 (indiana/bremen)\n",
      "the-bremen-enquirer_4044 1933\n",
      "-----> downloading the-bremen-enquirer_4044 (indiana/bremen)\n",
      "the-bremen-enquirer_4044 1934\n",
      "-----> downloading the-bremen-enquirer_4044 (indiana/bremen)\n",
      "the-bremen-enquirer_4044 1935\n",
      "-----> downloading the-bremen-enquirer_4044 (indiana/bremen)\n",
      "the-bremen-enquirer_4044 1936\n",
      "-----> downloading the-bremen-enquirer_4044 (indiana/bremen)\n",
      "the-bremen-enquirer_4044 1937\n",
      "-----> downloading the-bremen-enquirer_4044 (indiana/bremen)\n",
      "the-bremen-enquirer_4044 1938\n",
      "-----> downloading the-bremen-enquirer_4044 (indiana/bremen)\n",
      "the-bremen-enquirer_4044 1939\n",
      "-----> downloading the-bremen-enquirer_4044 (indiana/bremen)\n",
      "the-brook-reporter_4062 1931\n",
      "-----> downloading the-brook-reporter_4062 (indiana/brook)\n",
      "the-brook-reporter_4062 1932\n",
      "-----> downloading the-brook-reporter_4062 (indiana/brook)\n",
      "the-brook-reporter_4062 1933\n",
      "-----> downloading the-brook-reporter_4062 (indiana/brook)\n",
      "the-brook-reporter_4062 1934\n",
      "-----> downloading the-brook-reporter_4062 (indiana/brook)\n",
      "the-brook-reporter_4062 1935\n",
      "-----> downloading the-brook-reporter_4062 (indiana/brook)\n",
      "the-brook-reporter_4062 1936\n",
      "-----> downloading the-brook-reporter_4062 (indiana/brook)\n",
      "the-brook-reporter_4062 1937\n",
      "-----> downloading the-brook-reporter_4062 (indiana/brook)\n",
      "the-brook-reporter_4062 1938\n",
      "-----> downloading the-brook-reporter_4062 (indiana/brook)\n",
      "the-brook-reporter_4062 1939\n",
      "-----> downloading the-brook-reporter_4062 (indiana/brook)\n",
      "the-brookville-american_4068 1931\n",
      "-----> downloading the-brookville-american_4068 (indiana/brookville)\n",
      "the-brookville-american_4068 1932\n",
      "-----> downloading the-brookville-american_4068 (indiana/brookville)\n",
      "the-brookville-democrat_4058 1931\n",
      "-----> downloading the-brookville-democrat_4058 (indiana/brookville)\n",
      "the-brookville-democrat_4058 1932\n",
      "-----> downloading the-brookville-democrat_4058 (indiana/brookville)\n",
      "the-brookville-democrat_4058 1933\n",
      "-----> downloading the-brookville-democrat_4058 (indiana/brookville)\n",
      "the-brookville-democrat_4058 1934\n",
      "-----> downloading the-brookville-democrat_4058 (indiana/brookville)\n",
      "the-brookville-democrat_4058 1935\n",
      "-----> downloading the-brookville-democrat_4058 (indiana/brookville)\n",
      "the-brookville-democrat_4058 1936\n",
      "-----> downloading the-brookville-democrat_4058 (indiana/brookville)\n",
      "the-brookville-democrat_4058 1937\n",
      "-----> downloading the-brookville-democrat_4058 (indiana/brookville)\n",
      "the-brookville-democrat_4058 1938\n",
      "-----> downloading the-brookville-democrat_4058 (indiana/brookville)\n",
      "the-brookville-democrat_4058 1939\n",
      "-----> downloading the-brookville-democrat_4058 (indiana/brookville)\n",
      "jackson-county-banner_4585 1931\n",
      "-----> downloading jackson-county-banner_4585 (indiana/brownstown)\n",
      "jackson-county-banner_4585 1932\n",
      "-----> downloading jackson-county-banner_4585 (indiana/brownstown)\n",
      "jackson-county-banner_4585 1933\n",
      "-----> downloading jackson-county-banner_4585 (indiana/brownstown)\n",
      "jackson-county-banner_4585 1934\n",
      "-----> downloading jackson-county-banner_4585 (indiana/brownstown)\n",
      "jackson-county-banner_4585 1935\n",
      "-----> downloading jackson-county-banner_4585 (indiana/brownstown)\n",
      "jackson-county-banner_4585 1936\n",
      "-----> downloading jackson-county-banner_4585 (indiana/brownstown)\n",
      "jackson-county-banner_4585 1937\n",
      "-----> downloading jackson-county-banner_4585 (indiana/brownstown)\n"
     ]
    },
    {
     "name": "stdout",
     "output_type": "stream",
     "text": [
      "jackson-county-banner_4585 1938\n",
      "-----> downloading jackson-county-banner_4585 (indiana/brownstown)\n",
      "jackson-county-banner_4585 1939\n",
      "-----> downloading jackson-county-banner_4585 (indiana/brownstown)\n",
      "national-road-traveler_96 1936\n",
      "-----> downloading national-road-traveler_96 (indiana/cambridge-city)\n",
      "the-cambridge-city-tribune_201 1931\n",
      "-----> downloading the-cambridge-city-tribune_201 (indiana/cambridge-city)\n",
      "the-cambridge-city-tribune_201 1932\n",
      "-----> downloading the-cambridge-city-tribune_201 (indiana/cambridge-city)\n",
      "the-cambridge-city-tribune_201 1933\n",
      "-----> downloading the-cambridge-city-tribune_201 (indiana/cambridge-city)\n",
      "the-cambridge-city-tribune_201 1934\n",
      "-----> downloading the-cambridge-city-tribune_201 (indiana/cambridge-city)\n",
      "the-cambridge-city-tribune_201 1935\n",
      "-----> downloading the-cambridge-city-tribune_201 (indiana/cambridge-city)\n",
      "the-cambridge-city-tribune_201 1936\n",
      "-----> downloading the-cambridge-city-tribune_201 (indiana/cambridge-city)\n",
      "the-cambridge-city-tribune_201 1937\n",
      "-----> downloading the-cambridge-city-tribune_201 (indiana/cambridge-city)\n",
      "the-cambridge-city-tribune_201 1938\n",
      "-----> downloading the-cambridge-city-tribune_201 (indiana/cambridge-city)\n",
      "the-cambridge-city-tribune_201 1939\n",
      "-----> downloading the-cambridge-city-tribune_201 (indiana/cambridge-city)\n",
      "the-daily-clintonian_4011 1935\n",
      "-----> downloading the-daily-clintonian_4011 (indiana/clinton)\n",
      "the-daily-clintonian_4011 1936\n",
      "-----> downloading the-daily-clintonian_4011 (indiana/clinton)\n",
      "the-daily-clintonian_4011 1937\n",
      "-----> downloading the-daily-clintonian_4011 (indiana/clinton)\n",
      "the-daily-clintonian_4011 1938\n",
      "-----> downloading the-daily-clintonian_4011 (indiana/clinton)\n",
      "the-daily-clintonian_4011 1939\n",
      "-----> downloading the-daily-clintonian_4011 (indiana/clinton)\n",
      "the-republic_4056 1931\n",
      "-----> downloading the-republic_4056 (indiana/columbus)\n",
      "the-republic_4056 1932\n",
      "-----> downloading the-republic_4056 (indiana/columbus)\n",
      "the-republic_4056 1933\n",
      "-----> downloading the-republic_4056 (indiana/columbus)\n",
      "the-republic_4056 1934\n",
      "-----> downloading the-republic_4056 (indiana/columbus)\n",
      "the-republic_4056 1935\n",
      "-----> downloading the-republic_4056 (indiana/columbus)\n",
      "the-republic_4056 1936\n",
      "-----> downloading the-republic_4056 (indiana/columbus)\n",
      "the-republic_4056 1937\n",
      "-----> downloading the-republic_4056 (indiana/columbus)\n",
      "the-republic_4056 1938\n",
      "-----> downloading the-republic_4056 (indiana/columbus)\n",
      "the-republic_4056 1939\n",
      "-----> downloading the-republic_4056 (indiana/columbus)\n",
      "the-culver-citizen_3826 1931\n",
      "-----> downloading the-culver-citizen_3826 (indiana/culver)\n",
      "the-culver-citizen_3826 1932\n",
      "-----> downloading the-culver-citizen_3826 (indiana/culver)\n",
      "the-culver-citizen_3826 1933\n",
      "-----> downloading the-culver-citizen_3826 (indiana/culver)\n",
      "the-culver-citizen_3826 1934\n",
      "-----> downloading the-culver-citizen_3826 (indiana/culver)\n",
      "the-culver-citizen_3826 1935\n",
      "-----> downloading the-culver-citizen_3826 (indiana/culver)\n",
      "the-culver-citizen_3826 1936\n",
      "-----> downloading the-culver-citizen_3826 (indiana/culver)\n",
      "the-culver-citizen_3826 1937\n",
      "-----> downloading the-culver-citizen_3826 (indiana/culver)\n",
      "the-culver-citizen_3826 1938\n",
      "-----> downloading the-culver-citizen_3826 (indiana/culver)\n",
      "the-culver-citizen_3826 1939\n",
      "-----> downloading the-culver-citizen_3826 (indiana/culver)\n",
      "the-edinburg-daily-courier_3967 1931\n",
      "-----> downloading the-edinburg-daily-courier_3967 (indiana/edinburg)\n",
      "the-edinburg-daily-courier_3967 1932\n",
      "-----> downloading the-edinburg-daily-courier_3967 (indiana/edinburg)\n",
      "the-edinburg-daily-courier_3967 1934\n",
      "-----> downloading the-edinburg-daily-courier_3967 (indiana/edinburg)\n",
      "the-edinburg-daily-courier_3967 1935\n",
      "-----> downloading the-edinburg-daily-courier_3967 (indiana/edinburg)\n",
      "the-edinburg-daily-courier_3967 1936\n",
      "-----> downloading the-edinburg-daily-courier_3967 (indiana/edinburg)\n",
      "the-edinburg-daily-courier_3967 1937\n",
      "-----> downloading the-edinburg-daily-courier_3967 (indiana/edinburg)\n",
      "the-edinburg-daily-courier_3967 1938\n",
      "-----> downloading the-edinburg-daily-courier_3967 (indiana/edinburg)\n",
      "the-edinburg-daily-courier_3967 1939\n",
      "-----> downloading the-edinburg-daily-courier_3967 (indiana/edinburg)\n",
      "the-call-leader_3510 1931\n",
      "-----> downloading the-call-leader_3510 (indiana/elwood)\n",
      "the-call-leader_3510 1932\n",
      "-----> downloading the-call-leader_3510 (indiana/elwood)\n",
      "the-call-leader_3510 1933\n",
      "-----> downloading the-call-leader_3510 (indiana/elwood)\n",
      "the-call-leader_3510 1934\n",
      "-----> downloading the-call-leader_3510 (indiana/elwood)\n",
      "the-call-leader_3510 1935\n",
      "-----> downloading the-call-leader_3510 (indiana/elwood)\n",
      "the-call-leader_3510 1936\n",
      "-----> downloading the-call-leader_3510 (indiana/elwood)\n",
      "the-call-leader_3510 1937\n",
      "-----> downloading the-call-leader_3510 (indiana/elwood)\n",
      "the-call-leader_3510 1938\n",
      "-----> downloading the-call-leader_3510 (indiana/elwood)\n",
      "the-call-leader_3510 1939\n",
      "-----> downloading the-call-leader_3510 (indiana/elwood)\n",
      "the-fairmount-news_4048 1931\n",
      "-----> downloading the-fairmount-news_4048 (indiana/fairmount)\n",
      "the-fairmount-news_4048 1932\n",
      "-----> downloading the-fairmount-news_4048 (indiana/fairmount)\n",
      "the-fairmount-news_4048 1933\n",
      "-----> downloading the-fairmount-news_4048 (indiana/fairmount)\n",
      "the-fairmount-news_4048 1934\n",
      "-----> downloading the-fairmount-news_4048 (indiana/fairmount)\n",
      "the-fairmount-news_4048 1935\n",
      "-----> downloading the-fairmount-news_4048 (indiana/fairmount)\n",
      "the-fairmount-news_4048 1936\n",
      "-----> downloading the-fairmount-news_4048 (indiana/fairmount)\n",
      "the-fairmount-news_4048 1937\n",
      "-----> downloading the-fairmount-news_4048 (indiana/fairmount)\n",
      "the-fairmount-news_4048 1938\n",
      "-----> downloading the-fairmount-news_4048 (indiana/fairmount)\n",
      "the-fairmount-news_4048 1939\n",
      "-----> downloading the-fairmount-news_4048 (indiana/fairmount)\n",
      "the-franklin-evening-star_3475 1931\n",
      "-----> downloading the-franklin-evening-star_3475 (indiana/franklin)\n",
      "the-franklin-evening-star_3475 1932\n",
      "-----> downloading the-franklin-evening-star_3475 (indiana/franklin)\n",
      "the-franklin-evening-star_3475 1933\n",
      "-----> downloading the-franklin-evening-star_3475 (indiana/franklin)\n",
      "the-franklin-evening-star_3475 1934\n",
      "-----> downloading the-franklin-evening-star_3475 (indiana/franklin)\n",
      "the-franklin-evening-star_3475 1935\n",
      "-----> downloading the-franklin-evening-star_3475 (indiana/franklin)\n",
      "the-franklin-evening-star_3475 1936\n",
      "-----> downloading the-franklin-evening-star_3475 (indiana/franklin)\n",
      "the-franklin-evening-star_3475 1937\n",
      "-----> downloading the-franklin-evening-star_3475 (indiana/franklin)\n",
      "the-franklin-evening-star_3475 1938\n",
      "-----> downloading the-franklin-evening-star_3475 (indiana/franklin)\n",
      "the-franklin-evening-star_3475 1939\n",
      "-----> downloading the-franklin-evening-star_3475 (indiana/franklin)\n",
      "garrett-clipper_4061 1931\n",
      "-----> downloading garrett-clipper_4061 (indiana/garrett)\n",
      "garrett-clipper_4061 1932\n",
      "-----> downloading garrett-clipper_4061 (indiana/garrett)\n",
      "garrett-clipper_4061 1933\n",
      "-----> downloading garrett-clipper_4061 (indiana/garrett)\n",
      "garrett-clipper_4061 1934\n",
      "-----> downloading garrett-clipper_4061 (indiana/garrett)\n",
      "garrett-clipper_4061 1935\n",
      "-----> downloading garrett-clipper_4061 (indiana/garrett)\n",
      "garrett-clipper_4061 1936\n",
      "-----> downloading garrett-clipper_4061 (indiana/garrett)\n",
      "garrett-clipper_4061 1937\n",
      "-----> downloading garrett-clipper_4061 (indiana/garrett)\n",
      "garrett-clipper_4061 1938\n",
      "-----> downloading garrett-clipper_4061 (indiana/garrett)\n",
      "garrett-clipper_4061 1939\n",
      "-----> downloading garrett-clipper_4061 (indiana/garrett)\n",
      "the-daily-reporter_4272 1931\n",
      "-----> downloading the-daily-reporter_4272 (indiana/greenfield)\n",
      "the-daily-reporter_4272 1932\n",
      "-----> downloading the-daily-reporter_4272 (indiana/greenfield)\n",
      "the-daily-reporter_4272 1933\n",
      "-----> downloading the-daily-reporter_4272 (indiana/greenfield)\n",
      "the-daily-reporter_4272 1934\n",
      "-----> downloading the-daily-reporter_4272 (indiana/greenfield)\n",
      "the-daily-reporter_4272 1935\n",
      "-----> downloading the-daily-reporter_4272 (indiana/greenfield)\n",
      "the-daily-reporter_4272 1936\n",
      "-----> downloading the-daily-reporter_4272 (indiana/greenfield)\n",
      "the-daily-reporter_4272 1937\n",
      "-----> downloading the-daily-reporter_4272 (indiana/greenfield)\n",
      "the-daily-reporter_4272 1938\n",
      "-----> downloading the-daily-reporter_4272 (indiana/greenfield)\n",
      "the-daily-reporter_4272 1939\n",
      "-----> downloading the-daily-reporter_4272 (indiana/greenfield)\n"
     ]
    },
    {
     "name": "stdout",
     "output_type": "stream",
     "text": [
      "the-hancock-democrat_3639 1931\n",
      "-----> downloading the-hancock-democrat_3639 (indiana/greenfield)\n",
      "the-hancock-democrat_3639 1932\n",
      "-----> downloading the-hancock-democrat_3639 (indiana/greenfield)\n",
      "the-hancock-democrat_3639 1933\n",
      "-----> downloading the-hancock-democrat_3639 (indiana/greenfield)\n",
      "the-hancock-democrat_3639 1934\n",
      "-----> downloading the-hancock-democrat_3639 (indiana/greenfield)\n",
      "the-hancock-democrat_3639 1935\n",
      "-----> downloading the-hancock-democrat_3639 (indiana/greenfield)\n",
      "the-hancock-democrat_3639 1936\n",
      "-----> downloading the-hancock-democrat_3639 (indiana/greenfield)\n",
      "the-hancock-democrat_3639 1937\n",
      "-----> downloading the-hancock-democrat_3639 (indiana/greenfield)\n",
      "the-hancock-democrat_3639 1938\n",
      "-----> downloading the-hancock-democrat_3639 (indiana/greenfield)\n",
      "the-hancock-democrat_3639 1939\n",
      "-----> downloading the-hancock-democrat_3639 (indiana/greenfield)\n",
      "greensburg-daily-news_10 1931\n",
      "-----> downloading greensburg-daily-news_10 (indiana/greensburg)\n",
      "greensburg-daily-news_10 1932\n",
      "-----> downloading greensburg-daily-news_10 (indiana/greensburg)\n",
      "greensburg-daily-news_10 1933\n",
      "-----> downloading greensburg-daily-news_10 (indiana/greensburg)\n",
      "greensburg-daily-news_10 1934\n",
      "-----> downloading greensburg-daily-news_10 (indiana/greensburg)\n",
      "greensburg-daily-news_10 1935\n",
      "-----> downloading greensburg-daily-news_10 (indiana/greensburg)\n",
      "greensburg-daily-news_10 1936\n",
      "-----> downloading greensburg-daily-news_10 (indiana/greensburg)\n",
      "greensburg-daily-news_10 1937\n",
      "-----> downloading greensburg-daily-news_10 (indiana/greensburg)\n",
      "greensburg-daily-news_10 1938\n",
      "-----> downloading greensburg-daily-news_10 (indiana/greensburg)\n",
      "greensburg-daily-news_10 1939\n",
      "-----> downloading greensburg-daily-news_10 (indiana/greensburg)\n",
      "hagerstown-exponent_1240 1931\n",
      "-----> downloading hagerstown-exponent_1240 (indiana/hagerstown)\n",
      "the-times_2062 1931\n",
      "-----> downloading the-times_2062 (indiana/hammond)\n",
      "the-times_2062 1933\n",
      "-----> downloading the-times_2062 (indiana/hammond)\n",
      "the-times_2062 1934\n",
      "-----> downloading the-times_2062 (indiana/hammond)\n",
      "the-times_2062 1935\n",
      "-----> downloading the-times_2062 (indiana/hammond)\n",
      "the-times_2062 1936\n",
      "-----> downloading the-times_2062 (indiana/hammond)\n",
      "the-times_2062 1937\n",
      "-----> downloading the-times_2062 (indiana/hammond)\n",
      "the-times_2062 1938\n",
      "-----> downloading the-times_2062 (indiana/hammond)\n",
      "the-times_2062 1939\n",
      "-----> downloading the-times_2062 (indiana/hammond)\n",
      "the-indianapolis-news_919 1931\n",
      "-----> downloading the-indianapolis-news_919 (indiana/indianapolis)\n",
      "the-indianapolis-news_919 1932\n",
      "-----> downloading the-indianapolis-news_919 (indiana/indianapolis)\n",
      "the-indianapolis-news_919 1933\n",
      "-----> downloading the-indianapolis-news_919 (indiana/indianapolis)\n",
      "the-indianapolis-news_919 1934\n",
      "-----> downloading the-indianapolis-news_919 (indiana/indianapolis)\n",
      "the-indianapolis-news_919 1935\n",
      "-----> downloading the-indianapolis-news_919 (indiana/indianapolis)\n",
      "the-indianapolis-news_919 1936\n",
      "-----> downloading the-indianapolis-news_919 (indiana/indianapolis)\n",
      "the-indianapolis-news_919 1937\n",
      "-----> downloading the-indianapolis-news_919 (indiana/indianapolis)\n",
      "the-indianapolis-news_919 1938\n",
      "-----> downloading the-indianapolis-news_919 (indiana/indianapolis)\n",
      "the-indianapolis-news_919 1939\n",
      "-----> downloading the-indianapolis-news_919 (indiana/indianapolis)\n",
      "the-indianapolis-star_384 1931\n",
      "-----> downloading the-indianapolis-star_384 (indiana/indianapolis)\n",
      "the-indianapolis-star_384 1932\n",
      "-----> downloading the-indianapolis-star_384 (indiana/indianapolis)\n",
      "the-indianapolis-star_384 1933\n",
      "-----> downloading the-indianapolis-star_384 (indiana/indianapolis)\n",
      "the-indianapolis-star_384 1934\n",
      "-----> downloading the-indianapolis-star_384 (indiana/indianapolis)\n",
      "the-indianapolis-star_384 1935\n",
      "-----> downloading the-indianapolis-star_384 (indiana/indianapolis)\n",
      "the-indianapolis-star_384 1936\n",
      "-----> downloading the-indianapolis-star_384 (indiana/indianapolis)\n",
      "the-indianapolis-star_384 1937\n",
      "-----> downloading the-indianapolis-star_384 (indiana/indianapolis)\n",
      "the-indianapolis-star_384 1938\n",
      "-----> downloading the-indianapolis-star_384 (indiana/indianapolis)\n",
      "the-indianapolis-star_384 1939\n",
      "-----> downloading the-indianapolis-star_384 (indiana/indianapolis)\n",
      "the-herald_878 1931\n",
      "-----> downloading the-herald_878 (indiana/jasper)\n",
      "the-herald_878 1932\n",
      "-----> downloading the-herald_878 (indiana/jasper)\n",
      "the-herald_878 1933\n",
      "-----> downloading the-herald_878 (indiana/jasper)\n",
      "the-herald_878 1934\n",
      "-----> downloading the-herald_878 (indiana/jasper)\n",
      "the-herald_878 1935\n",
      "-----> downloading the-herald_878 (indiana/jasper)\n",
      "the-herald_878 1936\n",
      "-----> downloading the-herald_878 (indiana/jasper)\n",
      "the-herald_878 1937\n",
      "-----> downloading the-herald_878 (indiana/jasper)\n",
      "the-herald_878 1938\n",
      "-----> downloading the-herald_878 (indiana/jasper)\n",
      "the-herald_878 1939\n",
      "-----> downloading the-herald_878 (indiana/jasper)\n",
      "tri-county-banner_22010 1931\n",
      "-----> downloading tri-county-banner_22010 (indiana/knightstown)\n",
      "tri-county-banner_22010 1932\n",
      "-----> downloading tri-county-banner_22010 (indiana/knightstown)\n",
      "tri-county-banner_22010 1933\n",
      "-----> downloading tri-county-banner_22010 (indiana/knightstown)\n",
      "tri-county-banner_22010 1934\n",
      "-----> downloading tri-county-banner_22010 (indiana/knightstown)\n",
      "tri-county-banner_22010 1935\n",
      "-----> downloading tri-county-banner_22010 (indiana/knightstown)\n",
      "tri-county-banner_22010 1936\n",
      "-----> downloading tri-county-banner_22010 (indiana/knightstown)\n",
      "tri-county-banner_22010 1937\n",
      "-----> downloading tri-county-banner_22010 (indiana/knightstown)\n",
      "tri-county-banner_22010 1938\n",
      "-----> downloading tri-county-banner_22010 (indiana/knightstown)\n",
      "tri-county-banner_22010 1939\n",
      "-----> downloading tri-county-banner_22010 (indiana/knightstown)\n",
      "the-kokomo-tribune_66 1931\n",
      "-----> downloading the-kokomo-tribune_66 (indiana/kokomo)\n",
      "the-kokomo-tribune_66 1932\n",
      "-----> downloading the-kokomo-tribune_66 (indiana/kokomo)\n",
      "the-kokomo-tribune_66 1933\n",
      "-----> downloading the-kokomo-tribune_66 (indiana/kokomo)\n",
      "the-kokomo-tribune_66 1934\n",
      "-----> downloading the-kokomo-tribune_66 (indiana/kokomo)\n",
      "the-kokomo-tribune_66 1935\n",
      "-----> downloading the-kokomo-tribune_66 (indiana/kokomo)\n",
      "the-kokomo-tribune_66 1936\n",
      "-----> downloading the-kokomo-tribune_66 (indiana/kokomo)\n",
      "the-kokomo-tribune_66 1937\n",
      "-----> downloading the-kokomo-tribune_66 (indiana/kokomo)\n",
      "the-kokomo-tribune_66 1938\n",
      "-----> downloading the-kokomo-tribune_66 (indiana/kokomo)\n",
      "the-kokomo-tribune_66 1939\n",
      "-----> downloading the-kokomo-tribune_66 (indiana/kokomo)\n",
      "journal-and-courier_3784 1931\n",
      "-----> downloading journal-and-courier_3784 (indiana/lafayette)\n",
      "journal-and-courier_3784 1932\n",
      "-----> downloading journal-and-courier_3784 (indiana/lafayette)\n",
      "journal-and-courier_3784 1933\n",
      "-----> downloading journal-and-courier_3784 (indiana/lafayette)\n",
      "journal-and-courier_3784 1934\n",
      "-----> downloading journal-and-courier_3784 (indiana/lafayette)\n",
      "journal-and-courier_3784 1935\n",
      "-----> downloading journal-and-courier_3784 (indiana/lafayette)\n",
      "journal-and-courier_3784 1936\n",
      "-----> downloading journal-and-courier_3784 (indiana/lafayette)\n",
      "journal-and-courier_3784 1937\n",
      "-----> downloading journal-and-courier_3784 (indiana/lafayette)\n",
      "journal-and-courier_3784 1938\n",
      "-----> downloading journal-and-courier_3784 (indiana/lafayette)\n",
      "journal-and-courier_3784 1939\n",
      "-----> downloading journal-and-courier_3784 (indiana/lafayette)\n",
      "linton-daily-citizen_3408 1938\n",
      "-----> downloading linton-daily-citizen_3408 (indiana/linton)\n",
      "linton-daily-citizen_3408 1939\n",
      "-----> downloading linton-daily-citizen_3408 (indiana/linton)\n",
      "logansport-pharos-tribune_4 1931\n",
      "-----> downloading logansport-pharos-tribune_4 (indiana/logansport)\n",
      "logansport-pharos-tribune_4 1932\n",
      "-----> downloading logansport-pharos-tribune_4 (indiana/logansport)\n",
      "logansport-pharos-tribune_4 1933\n",
      "-----> downloading logansport-pharos-tribune_4 (indiana/logansport)\n",
      "logansport-pharos-tribune_4 1934\n",
      "-----> downloading logansport-pharos-tribune_4 (indiana/logansport)\n",
      "logansport-pharos-tribune_4 1935\n",
      "-----> downloading logansport-pharos-tribune_4 (indiana/logansport)\n",
      "logansport-pharos-tribune_4 1936\n",
      "-----> downloading logansport-pharos-tribune_4 (indiana/logansport)\n",
      "logansport-pharos-tribune_4 1937\n",
      "-----> downloading logansport-pharos-tribune_4 (indiana/logansport)\n",
      "logansport-pharos-tribune_4 1938\n",
      "-----> downloading logansport-pharos-tribune_4 (indiana/logansport)\n"
     ]
    },
    {
     "name": "stdout",
     "output_type": "stream",
     "text": [
      "logansport-pharos-tribune_4 1939\n",
      "-----> downloading logansport-pharos-tribune_4 (indiana/logansport)\n",
      "the-reporter-times_12485 1932\n",
      "-----> downloading the-reporter-times_12485 (indiana/martinsville)\n",
      "the-reporter-times_12485 1936\n",
      "-----> downloading the-reporter-times_12485 (indiana/martinsville)\n",
      "the-reporter-times_12485 1937\n",
      "-----> downloading the-reporter-times_12485 (indiana/martinsville)\n",
      "the-reporter-times_12485 1938\n",
      "-----> downloading the-reporter-times_12485 (indiana/martinsville)\n",
      "the-reporter-times_12485 1939\n",
      "-----> downloading the-reporter-times_12485 (indiana/martinsville)\n",
      "mitchell-tribune_18595 1931\n",
      "-----> downloading mitchell-tribune_18595 (indiana/mitchell)\n",
      "mitchell-tribune_18595 1932\n",
      "-----> downloading mitchell-tribune_18595 (indiana/mitchell)\n",
      "mitchell-tribune_18595 1933\n",
      "-----> downloading mitchell-tribune_18595 (indiana/mitchell)\n",
      "mitchell-tribune_18595 1934\n",
      "-----> downloading mitchell-tribune_18595 (indiana/mitchell)\n",
      "mitchell-tribune_18595 1935\n",
      "-----> downloading mitchell-tribune_18595 (indiana/mitchell)\n",
      "mitchell-tribune_18595 1936\n",
      "-----> downloading mitchell-tribune_18595 (indiana/mitchell)\n",
      "mitchell-tribune_18595 1937\n",
      "-----> downloading mitchell-tribune_18595 (indiana/mitchell)\n",
      "mitchell-tribune_18595 1938\n",
      "-----> downloading mitchell-tribune_18595 (indiana/mitchell)\n",
      "mitchell-tribune_18595 1939\n",
      "-----> downloading mitchell-tribune_18595 (indiana/mitchell)\n",
      "the-monroeville-breeze_992 1934\n",
      "-----> downloading the-monroeville-breeze_992 (indiana/monroeville)\n",
      "muncie-evening-press_4976 1931\n",
      "-----> downloading muncie-evening-press_4976 (indiana/muncie)\n",
      "muncie-evening-press_4976 1932\n",
      "-----> downloading muncie-evening-press_4976 (indiana/muncie)\n",
      "muncie-evening-press_4976 1933\n",
      "-----> downloading muncie-evening-press_4976 (indiana/muncie)\n",
      "muncie-evening-press_4976 1934\n",
      "-----> downloading muncie-evening-press_4976 (indiana/muncie)\n",
      "muncie-evening-press_4976 1935\n",
      "-----> downloading muncie-evening-press_4976 (indiana/muncie)\n",
      "muncie-evening-press_4976 1936\n",
      "-----> downloading muncie-evening-press_4976 (indiana/muncie)\n",
      "muncie-evening-press_4976 1937\n",
      "-----> downloading muncie-evening-press_4976 (indiana/muncie)\n",
      "muncie-evening-press_4976 1938\n",
      "-----> downloading muncie-evening-press_4976 (indiana/muncie)\n",
      "muncie-evening-press_4976 1939\n",
      "-----> downloading muncie-evening-press_4976 (indiana/muncie)\n",
      "the-star-press_3757 1931\n",
      "-----> downloading the-star-press_3757 (indiana/muncie)\n",
      "the-star-press_3757 1932\n",
      "-----> downloading the-star-press_3757 (indiana/muncie)\n",
      "the-star-press_3757 1933\n",
      "-----> downloading the-star-press_3757 (indiana/muncie)\n",
      "the-star-press_3757 1934\n",
      "-----> downloading the-star-press_3757 (indiana/muncie)\n",
      "the-star-press_3757 1935\n",
      "-----> downloading the-star-press_3757 (indiana/muncie)\n",
      "the-star-press_3757 1936\n",
      "-----> downloading the-star-press_3757 (indiana/muncie)\n",
      "the-star-press_3757 1937\n",
      "-----> downloading the-star-press_3757 (indiana/muncie)\n",
      "the-star-press_3757 1938\n",
      "-----> downloading the-star-press_3757 (indiana/muncie)\n",
      "the-star-press_3757 1939\n",
      "-----> downloading the-star-press_3757 (indiana/muncie)\n",
      "the-times_5588 1931\n",
      "-----> downloading the-times_5588 (indiana/munster)\n",
      "the-times_5588 1932\n",
      "-----> downloading the-times_5588 (indiana/munster)\n",
      "the-times_5588 1933\n",
      "-----> downloading the-times_5588 (indiana/munster)\n",
      "the-times_5588 1934\n",
      "-----> downloading the-times_5588 (indiana/munster)\n",
      "the-times_5588 1935\n",
      "-----> downloading the-times_5588 (indiana/munster)\n",
      "the-times_5588 1936\n",
      "-----> downloading the-times_5588 (indiana/munster)\n",
      "the-times_5588 1937\n",
      "-----> downloading the-times_5588 (indiana/munster)\n",
      "the-times_5588 1938\n",
      "-----> downloading the-times_5588 (indiana/munster)\n",
      "the-times_5588 1939\n",
      "-----> downloading the-times_5588 (indiana/munster)\n",
      "brown-county-democrat_4269 1931\n",
      "-----> downloading brown-county-democrat_4269 (indiana/nashville)\n",
      "brown-county-democrat_4269 1932\n",
      "-----> downloading brown-county-democrat_4269 (indiana/nashville)\n",
      "brown-county-democrat_4269 1933\n",
      "-----> downloading brown-county-democrat_4269 (indiana/nashville)\n",
      "brown-county-democrat_4269 1934\n",
      "-----> downloading brown-county-democrat_4269 (indiana/nashville)\n",
      "brown-county-democrat_4269 1935\n",
      "-----> downloading brown-county-democrat_4269 (indiana/nashville)\n",
      "brown-county-democrat_4269 1936\n",
      "-----> downloading brown-county-democrat_4269 (indiana/nashville)\n",
      "brown-county-democrat_4269 1937\n",
      "-----> downloading brown-county-democrat_4269 (indiana/nashville)\n",
      "brown-county-democrat_4269 1938\n",
      "-----> downloading brown-county-democrat_4269 (indiana/nashville)\n",
      "brown-county-democrat_4269 1939\n",
      "-----> downloading brown-county-democrat_4269 (indiana/nashville)\n",
      "the-newburgh-register_21296 1931\n",
      "-----> downloading the-newburgh-register_21296 (indiana/newburgh)\n",
      "the-newburgh-register_21296 1932\n",
      "-----> downloading the-newburgh-register_21296 (indiana/newburgh)\n",
      "the-newburgh-register_21296 1934\n",
      "-----> downloading the-newburgh-register_21296 (indiana/newburgh)\n",
      "the-newburgh-register_21296 1935\n",
      "-----> downloading the-newburgh-register_21296 (indiana/newburgh)\n",
      "the-newburgh-register_21296 1936\n",
      "-----> downloading the-newburgh-register_21296 (indiana/newburgh)\n",
      "the-newburgh-register_21296 1937\n",
      "-----> downloading the-newburgh-register_21296 (indiana/newburgh)\n",
      "the-newburgh-register_21296 1939\n",
      "-----> downloading the-newburgh-register_21296 (indiana/newburgh)\n",
      "the-prompter_21307 1939\n",
      "-----> downloading the-prompter_21307 (indiana/newburgh)\n",
      "the-noblesville-ledger_6302 1931\n",
      "-----> downloading the-noblesville-ledger_6302 (indiana/noblesville)\n",
      "the-noblesville-ledger_6302 1932\n",
      "-----> downloading the-noblesville-ledger_6302 (indiana/noblesville)\n",
      "the-noblesville-ledger_6302 1933\n",
      "-----> downloading the-noblesville-ledger_6302 (indiana/noblesville)\n",
      "the-noblesville-ledger_6302 1934\n",
      "-----> downloading the-noblesville-ledger_6302 (indiana/noblesville)\n",
      "the-noblesville-ledger_6302 1935\n",
      "-----> downloading the-noblesville-ledger_6302 (indiana/noblesville)\n",
      "the-noblesville-ledger_6302 1936\n",
      "-----> downloading the-noblesville-ledger_6302 (indiana/noblesville)\n",
      "the-noblesville-ledger_6302 1937\n",
      "-----> downloading the-noblesville-ledger_6302 (indiana/noblesville)\n",
      "the-noblesville-ledger_6302 1938\n",
      "-----> downloading the-noblesville-ledger_6302 (indiana/noblesville)\n",
      "the-noblesville-ledger_6302 1939\n",
      "-----> downloading the-noblesville-ledger_6302 (indiana/noblesville)\n",
      "princeton-daily-clarion_9158 1931\n",
      "-----> downloading princeton-daily-clarion_9158 (indiana/princeton)\n",
      "princeton-daily-clarion_9158 1932\n",
      "-----> downloading princeton-daily-clarion_9158 (indiana/princeton)\n",
      "princeton-daily-clarion_9158 1933\n",
      "-----> downloading princeton-daily-clarion_9158 (indiana/princeton)\n",
      "princeton-daily-clarion_9158 1934\n",
      "-----> downloading princeton-daily-clarion_9158 (indiana/princeton)\n",
      "princeton-daily-clarion_9158 1935\n",
      "-----> downloading princeton-daily-clarion_9158 (indiana/princeton)\n",
      "princeton-daily-clarion_9158 1936\n",
      "-----> downloading princeton-daily-clarion_9158 (indiana/princeton)\n",
      "princeton-daily-clarion_9158 1937\n",
      "-----> downloading princeton-daily-clarion_9158 (indiana/princeton)\n",
      "princeton-daily-clarion_9158 1938\n",
      "-----> downloading princeton-daily-clarion_9158 (indiana/princeton)\n",
      "princeton-daily-clarion_9158 1939\n",
      "-----> downloading princeton-daily-clarion_9158 (indiana/princeton)\n",
      "palladium-item_3742 1931\n",
      "-----> downloading palladium-item_3742 (indiana/richmond)\n",
      "palladium-item_3742 1932\n",
      "-----> downloading palladium-item_3742 (indiana/richmond)\n",
      "palladium-item_3742 1933\n",
      "-----> downloading palladium-item_3742 (indiana/richmond)\n",
      "palladium-item_3742 1934\n",
      "-----> downloading palladium-item_3742 (indiana/richmond)\n",
      "palladium-item_3742 1935\n",
      "-----> downloading palladium-item_3742 (indiana/richmond)\n",
      "palladium-item_3742 1936\n",
      "-----> downloading palladium-item_3742 (indiana/richmond)\n",
      "palladium-item_3742 1937\n",
      "-----> downloading palladium-item_3742 (indiana/richmond)\n",
      "palladium-item_3742 1938\n",
      "-----> downloading palladium-item_3742 (indiana/richmond)\n",
      "palladium-item_3742 1939\n",
      "-----> downloading palladium-item_3742 (indiana/richmond)\n",
      "the-richmond-item_4965 1931\n",
      "-----> downloading the-richmond-item_4965 (indiana/richmond)\n",
      "the-richmond-item_4965 1932\n",
      "-----> downloading the-richmond-item_4965 (indiana/richmond)\n",
      "the-richmond-item_4965 1933\n",
      "-----> downloading the-richmond-item_4965 (indiana/richmond)\n"
     ]
    },
    {
     "name": "stdout",
     "output_type": "stream",
     "text": [
      "the-richmond-item_4965 1934\n",
      "-----> downloading the-richmond-item_4965 (indiana/richmond)\n",
      "the-richmond-item_4965 1935\n",
      "-----> downloading the-richmond-item_4965 (indiana/richmond)\n",
      "the-richmond-item_4965 1936\n",
      "-----> downloading the-richmond-item_4965 (indiana/richmond)\n",
      "the-richmond-item_4965 1937\n",
      "-----> downloading the-richmond-item_4965 (indiana/richmond)\n",
      "the-richmond-item_4965 1938\n",
      "-----> downloading the-richmond-item_4965 (indiana/richmond)\n",
      "the-richmond-item_4965 1939\n",
      "-----> downloading the-richmond-item_4965 (indiana/richmond)\n",
      "rushville-republican_752 1931\n",
      "-----> downloading rushville-republican_752 (indiana/rushville)\n",
      "rushville-republican_752 1932\n",
      "-----> downloading rushville-republican_752 (indiana/rushville)\n",
      "rushville-republican_752 1933\n",
      "-----> downloading rushville-republican_752 (indiana/rushville)\n",
      "rushville-republican_752 1934\n",
      "-----> downloading rushville-republican_752 (indiana/rushville)\n",
      "rushville-republican_752 1935\n",
      "-----> downloading rushville-republican_752 (indiana/rushville)\n",
      "rushville-republican_752 1936\n",
      "-----> downloading rushville-republican_752 (indiana/rushville)\n",
      "rushville-republican_752 1937\n",
      "-----> downloading rushville-republican_752 (indiana/rushville)\n",
      "rushville-republican_752 1938\n",
      "-----> downloading rushville-republican_752 (indiana/rushville)\n",
      "rushville-republican_752 1939\n",
      "-----> downloading rushville-republican_752 (indiana/rushville)\n",
      "the-daily-republican_3421 1931\n",
      "-----> downloading the-daily-republican_3421 (indiana/rushville)\n",
      "the-daily-republican_3421 1932\n",
      "-----> downloading the-daily-republican_3421 (indiana/rushville)\n",
      "the-daily-republican_3421 1933\n",
      "-----> downloading the-daily-republican_3421 (indiana/rushville)\n",
      "the-daily-republican_3421 1934\n",
      "-----> downloading the-daily-republican_3421 (indiana/rushville)\n",
      "the-daily-republican_3421 1936\n",
      "-----> downloading the-daily-republican_3421 (indiana/rushville)\n",
      "the-daily-republican_3421 1937\n",
      "-----> downloading the-daily-republican_3421 (indiana/rushville)\n",
      "the-daily-republican_3421 1938\n",
      "-----> downloading the-daily-republican_3421 (indiana/rushville)\n",
      "the-daily-republican_3421 1939\n",
      "-----> downloading the-daily-republican_3421 (indiana/rushville)\n",
      "the-chronicle_20587 1931\n",
      "-----> downloading the-chronicle_20587 (indiana/scottsburg)\n",
      "the-chronicle_20587 1932\n",
      "-----> downloading the-chronicle_20587 (indiana/scottsburg)\n",
      "the-chronicle_20587 1933\n",
      "-----> downloading the-chronicle_20587 (indiana/scottsburg)\n",
      "the-chronicle_20587 1934\n",
      "-----> downloading the-chronicle_20587 (indiana/scottsburg)\n",
      "the-chronicle_20587 1935\n",
      "-----> downloading the-chronicle_20587 (indiana/scottsburg)\n",
      "the-chronicle_20587 1936\n",
      "-----> downloading the-chronicle_20587 (indiana/scottsburg)\n",
      "the-chronicle_20587 1937\n",
      "-----> downloading the-chronicle_20587 (indiana/scottsburg)\n",
      "the-chronicle_20587 1938\n",
      "-----> downloading the-chronicle_20587 (indiana/scottsburg)\n",
      "the-chronicle_20587 1939\n",
      "-----> downloading the-chronicle_20587 (indiana/scottsburg)\n",
      "the-scott-county-journal_20590 1931\n",
      "-----> downloading the-scott-county-journal_20590 (indiana/scottsburg)\n",
      "the-scott-county-journal_20590 1932\n",
      "-----> downloading the-scott-county-journal_20590 (indiana/scottsburg)\n",
      "the-scott-county-journal_20590 1933\n",
      "-----> downloading the-scott-county-journal_20590 (indiana/scottsburg)\n",
      "the-scott-county-journal_20590 1934\n",
      "-----> downloading the-scott-county-journal_20590 (indiana/scottsburg)\n",
      "the-scott-county-journal_20590 1935\n",
      "-----> downloading the-scott-county-journal_20590 (indiana/scottsburg)\n",
      "the-scott-county-journal_20590 1936\n",
      "-----> downloading the-scott-county-journal_20590 (indiana/scottsburg)\n",
      "the-scott-county-journal_20590 1937\n",
      "-----> downloading the-scott-county-journal_20590 (indiana/scottsburg)\n",
      "the-scott-county-journal_20590 1938\n",
      "-----> downloading the-scott-county-journal_20590 (indiana/scottsburg)\n",
      "the-scott-county-journal_20590 1939\n",
      "-----> downloading the-scott-county-journal_20590 (indiana/scottsburg)\n",
      "the-tribune_4270 1931\n",
      "-----> downloading the-tribune_4270 (indiana/seymour)\n",
      "the-tribune_4270 1932\n",
      "-----> downloading the-tribune_4270 (indiana/seymour)\n",
      "the-tribune_4270 1933\n",
      "-----> downloading the-tribune_4270 (indiana/seymour)\n",
      "the-tribune_4270 1934\n",
      "-----> downloading the-tribune_4270 (indiana/seymour)\n",
      "the-tribune_4270 1935\n",
      "-----> downloading the-tribune_4270 (indiana/seymour)\n",
      "the-tribune_4270 1936\n",
      "-----> downloading the-tribune_4270 (indiana/seymour)\n",
      "the-tribune_4270 1937\n",
      "-----> downloading the-tribune_4270 (indiana/seymour)\n",
      "the-tribune_4270 1938\n",
      "-----> downloading the-tribune_4270 (indiana/seymour)\n",
      "the-tribune_4270 1939\n",
      "-----> downloading the-tribune_4270 (indiana/seymour)\n",
      "the-south-bend-tribune_11750 1931\n",
      "-----> downloading the-south-bend-tribune_11750 (indiana/south-bend)\n",
      "the-south-bend-tribune_11750 1932\n",
      "-----> downloading the-south-bend-tribune_11750 (indiana/south-bend)\n",
      "the-south-bend-tribune_11750 1933\n",
      "-----> downloading the-south-bend-tribune_11750 (indiana/south-bend)\n",
      "the-south-bend-tribune_11750 1934\n",
      "-----> downloading the-south-bend-tribune_11750 (indiana/south-bend)\n",
      "the-south-bend-tribune_11750 1935\n",
      "-----> downloading the-south-bend-tribune_11750 (indiana/south-bend)\n",
      "the-south-bend-tribune_11750 1936\n",
      "-----> downloading the-south-bend-tribune_11750 (indiana/south-bend)\n",
      "the-south-bend-tribune_11750 1937\n",
      "-----> downloading the-south-bend-tribune_11750 (indiana/south-bend)\n",
      "the-south-bend-tribune_11750 1938\n",
      "-----> downloading the-south-bend-tribune_11750 (indiana/south-bend)\n",
      "the-south-bend-tribune_11750 1939\n",
      "-----> downloading the-south-bend-tribune_11750 (indiana/south-bend)\n",
      "the-tipton-daily-tribune_186 1931\n",
      "-----> downloading the-tipton-daily-tribune_186 (indiana/tipton)\n",
      "the-tipton-daily-tribune_186 1932\n",
      "-----> downloading the-tipton-daily-tribune_186 (indiana/tipton)\n",
      "the-tipton-daily-tribune_186 1933\n",
      "-----> downloading the-tipton-daily-tribune_186 (indiana/tipton)\n",
      "the-tipton-daily-tribune_186 1934\n",
      "-----> downloading the-tipton-daily-tribune_186 (indiana/tipton)\n",
      "the-tipton-daily-tribune_186 1935\n",
      "-----> downloading the-tipton-daily-tribune_186 (indiana/tipton)\n",
      "the-tipton-daily-tribune_186 1936\n",
      "-----> downloading the-tipton-daily-tribune_186 (indiana/tipton)\n",
      "the-tipton-daily-tribune_186 1937\n",
      "-----> downloading the-tipton-daily-tribune_186 (indiana/tipton)\n",
      "the-tipton-daily-tribune_186 1938\n",
      "-----> downloading the-tipton-daily-tribune_186 (indiana/tipton)\n",
      "the-tipton-daily-tribune_186 1939\n",
      "-----> downloading the-tipton-daily-tribune_186 (indiana/tipton)\n",
      "the-topeka-journal_18488 1931\n",
      "-----> downloading the-topeka-journal_18488 (indiana/topeka)\n",
      "the-topeka-journal_18488 1932\n",
      "-----> downloading the-topeka-journal_18488 (indiana/topeka)\n",
      "the-topeka-journal_18488 1933\n",
      "-----> downloading the-topeka-journal_18488 (indiana/topeka)\n",
      "the-topeka-journal_18488 1934\n",
      "-----> downloading the-topeka-journal_18488 (indiana/topeka)\n",
      "the-topeka-journal_18488 1935\n",
      "-----> downloading the-topeka-journal_18488 (indiana/topeka)\n",
      "the-topeka-journal_18488 1936\n",
      "-----> downloading the-topeka-journal_18488 (indiana/topeka)\n",
      "the-topeka-journal_18488 1937\n",
      "-----> downloading the-topeka-journal_18488 (indiana/topeka)\n",
      "the-topeka-journal_18488 1938\n",
      "-----> downloading the-topeka-journal_18488 (indiana/topeka)\n",
      "the-topeka-journal_18488 1939\n",
      "-----> downloading the-topeka-journal_18488 (indiana/topeka)\n",
      "the-evening-times_22900 1936\n",
      "-----> downloading the-evening-times_22900 (indiana/union-city)\n",
      "the-evening-times_22900 1937\n",
      "-----> downloading the-evening-times_22900 (indiana/union-city)\n",
      "the-evening-times_22900 1938\n",
      "-----> downloading the-evening-times_22900 (indiana/union-city)\n",
      "the-evening-times_22900 1939\n",
      "-----> downloading the-evening-times_22900 (indiana/union-city)\n",
      "the-union-city-times-gazette_22868 1939\n",
      "-----> downloading the-union-city-times-gazette_22868 (indiana/union-city)\n",
      "vidette-messenger-of-porter-county_6010 1931\n",
      "-----> downloading vidette-messenger-of-porter-county_6010 (indiana/valparaiso)\n",
      "vidette-messenger-of-porter-county_6010 1932\n",
      "-----> downloading vidette-messenger-of-porter-county_6010 (indiana/valparaiso)\n",
      "vidette-messenger-of-porter-county_6010 1933\n",
      "-----> downloading vidette-messenger-of-porter-county_6010 (indiana/valparaiso)\n",
      "vidette-messenger-of-porter-county_6010 1934\n",
      "-----> downloading vidette-messenger-of-porter-county_6010 (indiana/valparaiso)\n",
      "vidette-messenger-of-porter-county_6010 1935\n",
      "-----> downloading vidette-messenger-of-porter-county_6010 (indiana/valparaiso)\n"
     ]
    },
    {
     "name": "stdout",
     "output_type": "stream",
     "text": [
      "vidette-messenger-of-porter-county_6010 1936\n",
      "-----> downloading vidette-messenger-of-porter-county_6010 (indiana/valparaiso)\n",
      "vidette-messenger-of-porter-county_6010 1937\n",
      "-----> downloading vidette-messenger-of-porter-county_6010 (indiana/valparaiso)\n",
      "vidette-messenger-of-porter-county_6010 1938\n",
      "-----> downloading vidette-messenger-of-porter-county_6010 (indiana/valparaiso)\n",
      "vidette-messenger-of-porter-county_6010 1939\n",
      "-----> downloading vidette-messenger-of-porter-county_6010 (indiana/valparaiso)\n",
      "the-waterloo-press_975 1932\n",
      "-----> downloading the-waterloo-press_975 (indiana/waterloo)\n",
      "the-waterloo-press_975 1934\n",
      "-----> downloading the-waterloo-press_975 (indiana/waterloo)\n",
      "the-waterloo-press_975 1935\n",
      "-----> downloading the-waterloo-press_975 (indiana/waterloo)\n",
      "the-waterloo-press_975 1936\n",
      "-----> downloading the-waterloo-press_975 (indiana/waterloo)\n",
      "the-waterloo-press_975 1937\n",
      "-----> downloading the-waterloo-press_975 (indiana/waterloo)\n",
      "the-waterloo-press_975 1938\n",
      "-----> downloading the-waterloo-press_975 (indiana/waterloo)\n",
      "the-waterloo-press_975 1939\n",
      "-----> downloading the-waterloo-press_975 (indiana/waterloo)\n",
      "processing ohio\n",
      "the-akron-beacon-journal_4267 1931\n",
      "-----> downloading the-akron-beacon-journal_4267 (ohio/akron)\n",
      "the-akron-beacon-journal_4267 1932\n",
      "-----> downloading the-akron-beacon-journal_4267 (ohio/akron)\n",
      "the-akron-beacon-journal_4267 1933\n",
      "-----> downloading the-akron-beacon-journal_4267 (ohio/akron)\n",
      "the-akron-beacon-journal_4267 1934\n",
      "-----> downloading the-akron-beacon-journal_4267 (ohio/akron)\n",
      "the-akron-beacon-journal_4267 1935\n",
      "-----> downloading the-akron-beacon-journal_4267 (ohio/akron)\n",
      "the-akron-beacon-journal_4267 1936\n",
      "-----> downloading the-akron-beacon-journal_4267 (ohio/akron)\n",
      "the-akron-beacon-journal_4267 1937\n",
      "-----> downloading the-akron-beacon-journal_4267 (ohio/akron)\n",
      "the-akron-beacon-journal_4267 1938\n",
      "-----> downloading the-akron-beacon-journal_4267 (ohio/akron)\n",
      "the-akron-beacon-journal_4267 1939\n",
      "-----> downloading the-akron-beacon-journal_4267 (ohio/akron)\n",
      "the-arcanum-times_22888 1931\n",
      "-----> downloading the-arcanum-times_22888 (ohio/arcanum)\n",
      "the-arcanum-times_22888 1932\n",
      "-----> downloading the-arcanum-times_22888 (ohio/arcanum)\n",
      "the-arcanum-times_22888 1933\n",
      "-----> downloading the-arcanum-times_22888 (ohio/arcanum)\n",
      "the-arcanum-times_22888 1934\n",
      "-----> downloading the-arcanum-times_22888 (ohio/arcanum)\n",
      "the-arcanum-times_22888 1935\n",
      "-----> downloading the-arcanum-times_22888 (ohio/arcanum)\n",
      "the-arcanum-times_22888 1936\n",
      "-----> downloading the-arcanum-times_22888 (ohio/arcanum)\n",
      "the-arcanum-times_22888 1937\n",
      "-----> downloading the-arcanum-times_22888 (ohio/arcanum)\n",
      "the-arcanum-times_22888 1938\n",
      "-----> downloading the-arcanum-times_22888 (ohio/arcanum)\n",
      "the-arcanum-times_22888 1939\n",
      "-----> downloading the-arcanum-times_22888 (ohio/arcanum)\n",
      "bucyrus-journal_21219 1932\n",
      "-----> downloading bucyrus-journal_21219 (ohio/bucyrus)\n",
      "telegraph-forum_3775 1931\n",
      "-----> downloading telegraph-forum_3775 (ohio/bucyrus)\n",
      "telegraph-forum_3775 1932\n",
      "-----> downloading telegraph-forum_3775 (ohio/bucyrus)\n",
      "telegraph-forum_3775 1933\n",
      "-----> downloading telegraph-forum_3775 (ohio/bucyrus)\n",
      "telegraph-forum_3775 1934\n",
      "-----> downloading telegraph-forum_3775 (ohio/bucyrus)\n",
      "telegraph-forum_3775 1935\n",
      "-----> downloading telegraph-forum_3775 (ohio/bucyrus)\n",
      "telegraph-forum_3775 1936\n",
      "-----> downloading telegraph-forum_3775 (ohio/bucyrus)\n",
      "telegraph-forum_3775 1937\n",
      "-----> downloading telegraph-forum_3775 (ohio/bucyrus)\n",
      "telegraph-forum_3775 1938\n",
      "-----> downloading telegraph-forum_3775 (ohio/bucyrus)\n",
      "telegraph-forum_3775 1939\n",
      "-----> downloading telegraph-forum_3775 (ohio/bucyrus)\n",
      "chillicothe-gazette_3762 1931\n",
      "-----> downloading chillicothe-gazette_3762 (ohio/chillicothe)\n",
      "chillicothe-gazette_3762 1932\n",
      "-----> downloading chillicothe-gazette_3762 (ohio/chillicothe)\n",
      "chillicothe-gazette_3762 1933\n",
      "-----> downloading chillicothe-gazette_3762 (ohio/chillicothe)\n",
      "chillicothe-gazette_3762 1934\n",
      "-----> downloading chillicothe-gazette_3762 (ohio/chillicothe)\n",
      "chillicothe-gazette_3762 1935\n",
      "-----> downloading chillicothe-gazette_3762 (ohio/chillicothe)\n",
      "chillicothe-gazette_3762 1936\n",
      "-----> downloading chillicothe-gazette_3762 (ohio/chillicothe)\n",
      "chillicothe-gazette_3762 1937\n",
      "-----> downloading chillicothe-gazette_3762 (ohio/chillicothe)\n",
      "chillicothe-gazette_3762 1938\n",
      "-----> downloading chillicothe-gazette_3762 (ohio/chillicothe)\n",
      "chillicothe-gazette_3762 1939\n",
      "-----> downloading chillicothe-gazette_3762 (ohio/chillicothe)\n",
      "the-cincinnati-enquirer_844 1931\n",
      "-----> downloading the-cincinnati-enquirer_844 (ohio/cincinnati)\n",
      "the-cincinnati-enquirer_844 1932\n",
      "-----> downloading the-cincinnati-enquirer_844 (ohio/cincinnati)\n",
      "the-cincinnati-enquirer_844 1933\n",
      "-----> downloading the-cincinnati-enquirer_844 (ohio/cincinnati)\n",
      "the-cincinnati-enquirer_844 1934\n",
      "-----> downloading the-cincinnati-enquirer_844 (ohio/cincinnati)\n",
      "the-cincinnati-enquirer_844 1935\n",
      "-----> downloading the-cincinnati-enquirer_844 (ohio/cincinnati)\n",
      "the-cincinnati-enquirer_844 1936\n",
      "-----> downloading the-cincinnati-enquirer_844 (ohio/cincinnati)\n",
      "the-cincinnati-enquirer_844 1937\n",
      "-----> downloading the-cincinnati-enquirer_844 (ohio/cincinnati)\n",
      "the-cincinnati-enquirer_844 1938\n",
      "-----> downloading the-cincinnati-enquirer_844 (ohio/cincinnati)\n",
      "the-cincinnati-enquirer_844 1939\n",
      "-----> downloading the-cincinnati-enquirer_844 (ohio/cincinnati)\n",
      "the-circleville-herald_490 1931\n",
      "-----> downloading the-circleville-herald_490 (ohio/circleville)\n",
      "the-circleville-herald_490 1933\n",
      "-----> downloading the-circleville-herald_490 (ohio/circleville)\n",
      "the-circleville-herald_490 1934\n",
      "-----> downloading the-circleville-herald_490 (ohio/circleville)\n",
      "the-circleville-herald_490 1935\n",
      "-----> downloading the-circleville-herald_490 (ohio/circleville)\n",
      "the-circleville-herald_490 1936\n",
      "-----> downloading the-circleville-herald_490 (ohio/circleville)\n",
      "the-circleville-herald_490 1937\n",
      "-----> downloading the-circleville-herald_490 (ohio/circleville)\n",
      "the-circleville-herald_490 1938\n",
      "-----> downloading the-circleville-herald_490 (ohio/circleville)\n",
      "the-circleville-herald_490 1939\n",
      "-----> downloading the-circleville-herald_490 (ohio/circleville)\n",
      "jednosc-polek-unity-of-polish-women_22449 1931\n",
      "-----> downloading jednosc-polek-unity-of-polish-women_22449 (ohio/cleveland)\n",
      "the-clyde-enterprise_28021 1931\n",
      "-----> downloading the-clyde-enterprise_28021 (ohio/clyde)\n",
      "the-clyde-enterprise_28021 1932\n",
      "-----> downloading the-clyde-enterprise_28021 (ohio/clyde)\n",
      "the-clyde-enterprise_28021 1933\n",
      "-----> downloading the-clyde-enterprise_28021 (ohio/clyde)\n",
      "the-clyde-enterprise_28021 1934\n",
      "-----> downloading the-clyde-enterprise_28021 (ohio/clyde)\n",
      "the-coshocton-tribune_400 1931\n",
      "-----> downloading the-coshocton-tribune_400 (ohio/coshocton)\n",
      "the-coshocton-tribune_400 1932\n",
      "-----> downloading the-coshocton-tribune_400 (ohio/coshocton)\n",
      "the-coshocton-tribune_400 1933\n",
      "-----> downloading the-coshocton-tribune_400 (ohio/coshocton)\n",
      "the-coshocton-tribune_400 1934\n",
      "-----> downloading the-coshocton-tribune_400 (ohio/coshocton)\n",
      "the-coshocton-tribune_400 1935\n",
      "-----> downloading the-coshocton-tribune_400 (ohio/coshocton)\n",
      "the-coshocton-tribune_400 1936\n",
      "-----> downloading the-coshocton-tribune_400 (ohio/coshocton)\n",
      "the-coshocton-tribune_400 1937\n",
      "-----> downloading the-coshocton-tribune_400 (ohio/coshocton)\n",
      "the-coshocton-tribune_400 1938\n",
      "-----> downloading the-coshocton-tribune_400 (ohio/coshocton)\n",
      "the-coshocton-tribune_400 1939\n",
      "-----> downloading the-coshocton-tribune_400 (ohio/coshocton)\n"
     ]
    }
   ],
   "source": [
    "for state, _ in newspapers_in_range.items():\n",
    "    print(f'processing {state}')\n",
    "    for city, newspapers in _.items():\n",
    "        for newspaper, years in newspapers:\n",
    "            \n",
    "            for year in years:\n",
    "                print(newspaper, year)\n",
    "                if not Path(f'newspapers-api/{state}/{city}/{newspaper}/{year}/').exists():\n",
    "                    Path(f'newspapers-api/{state}/{city}/{newspaper}/{year}').mkdir(parents=True)\n",
    "\n",
    "                if not Path(f'newspapers-api/{state}/{city}/{newspaper}/{year}/root.json').exists():\n",
    "                    print(f'-----> downloading {newspaper} ({state}/{city})')\n",
    "                    request_url = f'{api_root}{state}/{city}/{newspaper}/{year}'\n",
    "                    r = requests.get(request_url, headers=headers)\n",
    "                    if r.status_code == 200:\n",
    "                        Path(f'newspapers-api/{state}/{city}/{newspaper}/{year}/root.json').write_text(r.text)\n",
    "                    else:\n",
    "                        exit()"
   ]
  },
  {
   "cell_type": "code",
   "execution_count": null,
   "metadata": {},
   "outputs": [],
   "source": []
  }
 ],
 "metadata": {
  "hide_input": false,
  "kernelspec": {
   "display_name": "Python 3",
   "language": "python",
   "name": "python3"
  },
  "language_info": {
   "codemirror_mode": {
    "name": "ipython",
    "version": 3
   },
   "file_extension": ".py",
   "mimetype": "text/x-python",
   "name": "python",
   "nbconvert_exporter": "python",
   "pygments_lexer": "ipython3",
   "version": "3.8.5"
  },
  "toc": {
   "base_numbering": 1,
   "nav_menu": {},
   "number_sections": true,
   "sideBar": true,
   "skip_h1_title": false,
   "title_cell": "Table of Contents",
   "title_sidebar": "Contents",
   "toc_cell": false,
   "toc_position": {},
   "toc_section_display": true,
   "toc_window_display": false
  }
 },
 "nbformat": 4,
 "nbformat_minor": 4
}
